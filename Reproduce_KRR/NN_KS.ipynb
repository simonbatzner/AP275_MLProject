{
 "cells": [
  {
   "cell_type": "markdown",
   "metadata": {},
   "source": [
    "# <div style=\"text-align: center\">Neural Networks - Kohn-Sham Mapping</div> \n",
    " \n",
    "## <div style=\"text-align: center\">Jon Vandermause, Steven Torrisi, Simon Batzner</div> "
   ]
  },
  {
   "cell_type": "markdown",
   "metadata": {},
   "source": [
    "## <div style=\"text-align: center\">Gaussian Potential-to-Energy </div> "
   ]
  },
  {
   "cell_type": "code",
   "execution_count": 1,
   "metadata": {},
   "outputs": [
    {
     "name": "stderr",
     "output_type": "stream",
     "text": [
      "Using TensorFlow backend.\n"
     ]
    }
   ],
   "source": [
    "from __future__ import absolute_import\n",
    "from __future__ import division\n",
    "from __future__ import print_function\n",
    "\n",
    "import os\n",
    "\n",
    "import numpy as np\n",
    "import matplotlib.pyplot as plt\n",
    "import argparse\n",
    "\n",
    "from keras.models import Sequential\n",
    "from keras.layers import Dropout\n",
    "from keras.layers import Dense\n",
    "from sklearn.metrics import mean_squared_error\n",
    "from keras import optimizers\n",
    "from keras.callbacks import TensorBoard, EarlyStopping\n",
    "from sklearn.model_selection import train_test_split\n",
    "from math import sqrt\n",
    "from KRR_reproduce import *\n",
    "\n",
    "from IPython.core.interactiveshell import InteractiveShell\n",
    "InteractiveShell.ast_node_interactivity = \"all\""
   ]
  },
  {
   "cell_type": "markdown",
   "metadata": {},
   "source": [
    "## Parameters"
   ]
  },
  {
   "cell_type": "code",
   "execution_count": 2,
   "metadata": {},
   "outputs": [],
   "source": [
    "SEED = 42\n",
    "ev2kcal = 1/0.043       # conversion factor\n",
    "EPOCHS = 50000          # maximum number of training epochs\n",
    "OPTIMIZER = 'sgd'       # sgd or adam\n",
    "LEARNING_RATE = 0.01    # larger means faster learning, more aggressive\n",
    "GRID_SPACE = 0.6        # instead of 0.08 in the paper -- makes it faster and the input dim much smaller\n",
    "DECAY = 0.0             # decay learning rate as training advances\n",
    "SIM_NO = 150            # total number of data points\n",
    "M = 140                 # number of training points\n",
    "\n",
    "HIDDEN = (50,)\n",
    "    \n",
    "# path to data\n",
    "os.environ['PROJDIR'] = '/Users/simonbatzner1/Desktop/Research/Research_Code/ML-electron-density'\n",
    "STR_PREF = os.environ['PROJDIR'] + '/data/H2_DFT/temp_data/store/'\n",
    "\n",
    "# ignore tf warnings\n",
    "os.environ['TF_CPP_MIN_LOG_LEVEL'] = '2'"
   ]
  },
  {
   "cell_type": "markdown",
   "metadata": {},
   "source": [
    "## Load data"
   ]
  },
  {
   "cell_type": "code",
   "execution_count": 3,
   "metadata": {},
   "outputs": [],
   "source": [
    "ens = []\n",
    "seps = []\n",
    "fours = []\n",
    "\n",
    "for n in range(SIM_NO):\n",
    "    \n",
    "    # load separation, energy, and density\n",
    "    sep = np.load(STR_PREF + 'sep_store/sep' + str(n) + '.npy')\n",
    "    en = np.load(STR_PREF + 'en_store/en' + str(n) + '.npy')\n",
    "    four = np.load(STR_PREF + 'four_store/four' + str(n) + '.npy')\n",
    "\n",
    "    # put results in a nicer format\n",
    "    sep = np.reshape(sep, (1,))[0]\n",
    "    en = np.reshape(en, (1,))[0]['energy']\n",
    "    four = np.real(four)\n",
    "\n",
    "    # store quantities\n",
    "    ens.append(en)\n",
    "    seps.append(sep)\n",
    "    fours.append(four)"
   ]
  },
  {
   "cell_type": "markdown",
   "metadata": {},
   "source": [
    "## Network functions"
   ]
  },
  {
   "cell_type": "code",
   "execution_count": 4,
   "metadata": {},
   "outputs": [],
   "source": [
    "def init_architecture(input_shape, hidden_size, summary, activation='relu'):\n",
    "    \"\"\"\n",
    "    Built Neural Network using Keras\n",
    "\n",
    "    :param input_shape: shape of the input data\n",
    "    :param hidden_size: tuple of number of hidden layers, eg. (30, 30, 40) builds a network with hidden layers 30-30-40\n",
    "    :param summary: boolean, true plots a summary\n",
    "    :param activation: activiation function\n",
    "    :return: keras Sequential model\n",
    "    \"\"\"\n",
    "    model = Sequential()\n",
    "    print(input_shape)\n",
    "\n",
    "    # hidden layers\n",
    "    model.add(Dense(hidden_size[0], input_shape=input_shape, activation=activation))\n",
    "    for layer_size in hidden_size[1:]:\n",
    "        model.add(Dense(layer_size, activation=activation))\n",
    "        model.add(Dropout(0.2))\n",
    "\n",
    "    # output layer\n",
    "    model.add(Dense(1, activation='linear'))\n",
    "\n",
    "    if summary:\n",
    "        model.summary()\n",
    "\n",
    "    return model"
   ]
  },
  {
   "cell_type": "code",
   "execution_count": 5,
   "metadata": {},
   "outputs": [],
   "source": [
    "def train(model, training_data, training_labels, validation_data, validation_labels, batchsize=64):\n",
    "    \"\"\"\"\n",
    "    Train Neural Network model\n",
    "    \"\"\"\n",
    "    history = model.fit(training_data, training_labels, validation_data=(validation_data, validation_labels),\n",
    "                        batch_size=batchsize,\n",
    "                        verbose=0, shuffle=True)\n",
    "    return history"
   ]
  },
  {
   "cell_type": "markdown",
   "metadata": {},
   "source": [
    "## Create Gaussian Potentials"
   ]
  },
  {
   "cell_type": "code",
   "execution_count": 6,
   "metadata": {},
   "outputs": [],
   "source": [
    "pots = []\n",
    "grid_len = 5.29177 * 2\n",
    "\n",
    "for n in range(SIM_NO):\n",
    "    dist = seps[n]\n",
    "    pot = pot_rep(dist, grid_len, grid_space=GRID_SPACE)\n",
    "    pot = pot.flatten()\n",
    "    pots.append(pot)"
   ]
  },
  {
   "cell_type": "markdown",
   "metadata": {},
   "source": [
    "## Setup training and test data"
   ]
  },
  {
   "cell_type": "code",
   "execution_count": 7,
   "metadata": {},
   "outputs": [
    {
     "name": "stdout",
     "output_type": "stream",
     "text": [
      "(140, 5832)\n",
      "(10,)\n"
     ]
    }
   ],
   "source": [
    "data = pots\n",
    "labels = ens\n",
    "\n",
    "# define training and test indices\n",
    "train_indices = [int(n) for n in np.round(np.linspace(0,149,M))]\n",
    "test_indices = [n for n in range(150) if n not in train_indices]\n",
    "\n",
    "if len(train_indices) != M: \n",
    "    print(\"Size of training set doesn't match the M specified\")\n",
    "    \n",
    "x_train = np.array([data[n] for n in train_indices])\n",
    "x_test = np.array([data[n] for n in test_indices])\n",
    "y_test_seps = np.array([seps[n] for n in test_indices])\n",
    "y_train = np.array([labels[n] for n in train_indices])\n",
    "y_test =np.array([labels[n] for n in test_indices])\n",
    "\n",
    "# convert to np arrays\n",
    "x_train = np.array(x_train)\n",
    "x_test = np.array(x_test)\n",
    "y_train = np.array(y_train)\n",
    "y_test = np.array(y_test)\n",
    "\n",
    "print(x_train.shape)\n",
    "print(y_test.shape)"
   ]
  },
  {
   "cell_type": "markdown",
   "metadata": {},
   "source": [
    "## Build model and train"
   ]
  },
  {
   "cell_type": "code",
   "execution_count": 8,
   "metadata": {},
   "outputs": [
    {
     "name": "stdout",
     "output_type": "stream",
     "text": [
      "(5832,)\n",
      "_________________________________________________________________\n",
      "Layer (type)                 Output Shape              Param #   \n",
      "=================================================================\n",
      "dense_1 (Dense)              (None, 50)                291650    \n",
      "_________________________________________________________________\n",
      "dense_2 (Dense)              (None, 1)                 51        \n",
      "=================================================================\n",
      "Total params: 291,701\n",
      "Trainable params: 291,701\n",
      "Non-trainable params: 0\n",
      "_________________________________________________________________\n",
      "Epoch 00565: early stopping\n"
     ]
    }
   ],
   "source": [
    "# build neural net\n",
    "model = init_architecture(input_shape=pots[0].shape, hidden_size=tuple(HIDDEN), summary=True,\n",
    "                          activation='tanh')\n",
    "\n",
    "# set optimizer and compile\n",
    "adam = optimizers.Adam(lr=LEARNING_RATE, decay=DECAY)\n",
    "sgd = optimizers.SGD(lr=0.01, momentum=0.9, nesterov=True)\n",
    "\n",
    "if OPTIMIZER == 'adam': \n",
    "    model.compile(optimizer=adam, loss='mean_squared_error', metrics=['mse'])\n",
    "elif OPTIMIZER == 'sgd': \n",
    "    model.compile(optimizer=sgd, loss='mean_squared_error', metrics=['mse'])\n",
    "else: \n",
    "    \"Default optimizer ADAM being used...\"\n",
    "    model.compile(optimizer=adam, loss='mean_squared_error', metrics=['mse'])\n",
    "    \n",
    "# early stopping on validation error\n",
    "es = EarlyStopping(monitor='val_loss',\n",
    "                   min_delta=0,\n",
    "                   patience=500,\n",
    "                   verbose=10, mode='auto')\n",
    "\n",
    "# log graph and gradients\n",
    "tb = TensorBoard(log_dir='./logs', histogram_freq=0, batch_size=1, write_graph=True, write_grads=True,\n",
    "                 write_images=True, embeddings_freq=0, embeddings_layer_names=None, embeddings_metadata=None)\n",
    "\n",
    "# save training history\n",
    "history = model.fit(x_train, y_train, epochs=EPOCHS, verbose=0, validation_split=0.2, callbacks=[es, tb])"
   ]
  },
  {
   "cell_type": "markdown",
   "metadata": {},
   "source": [
    "## Results"
   ]
  },
  {
   "cell_type": "code",
   "execution_count": 9,
   "metadata": {},
   "outputs": [
    {
     "name": "stdout",
     "output_type": "stream",
     "text": [
      "10/10 [==============================] - 0s 491us/step\n",
      "\n",
      "MAE on training data [kcal/mol]: \t3.2740315595204397\n",
      "MAe on test data [kcal/mol]: \t\t2.8463858537665456\n"
     ]
    }
   ],
   "source": [
    "from sklearn.metrics import mean_absolute_error\n",
    "# Predict\n",
    "test_loss = model.evaluate(x_test, y_test)\n",
    "\n",
    "# Eval on training data\n",
    "y_true, y_pred = y_train, model.predict(x_train)\n",
    "print(\"\\nMAE on training data [kcal/mol]: \\t{}\".format(mean_absolute_error(y_true, y_pred)*ev2kcal))\n",
    "\n",
    "# Eval on test data\n",
    "y_true, y_pred = y_test, model.predict(x_test)\n",
    "print(\"MAe on test data [kcal/mol]: \\t\\t{}\".format(mean_absolute_error(y_true, y_pred)*ev2kcal))"
   ]
  },
  {
   "cell_type": "code",
   "execution_count": 10,
   "metadata": {},
   "outputs": [
    {
     "name": "stdout",
     "output_type": "stream",
     "text": [
      "\n",
      "  \tPred \t| \tTrue\n",
      "\n",
      "[[-30.63335419 -30.57717032]\n",
      " [-31.24387741 -31.51679575]\n",
      " [-31.59539032 -31.74695245]\n",
      " [-31.63101196 -31.60985192]\n",
      " [-31.3663559  -31.28161023]\n",
      " [-30.88724136 -30.85878473]\n",
      " [-30.32676697 -30.39669482]\n",
      " [-29.82733917 -29.92710748]\n",
      " [-29.5054245  -29.46878253]\n",
      " [-29.43473816 -29.03215704]]\n",
      "\n",
      "\n",
      "Test Loss: 0.02873084880411625\n",
      "dict_keys(['val_mean_squared_error', 'mean_squared_error', 'val_loss', 'loss'])\n"
     ]
    },
    {
     "data": {
      "text/plain": [
       "[<matplotlib.lines.Line2D at 0x1a1eae0f28>]"
      ]
     },
     "execution_count": 10,
     "metadata": {},
     "output_type": "execute_result"
    },
    {
     "data": {
      "text/plain": [
       "[<matplotlib.lines.Line2D at 0x1a1b01cd30>]"
      ]
     },
     "execution_count": 10,
     "metadata": {},
     "output_type": "execute_result"
    },
    {
     "data": {
      "text/plain": [
       "Text(0.5,1,'model loss')"
      ]
     },
     "execution_count": 10,
     "metadata": {},
     "output_type": "execute_result"
    },
    {
     "data": {
      "text/plain": [
       "Text(0,0.5,'loss')"
      ]
     },
     "execution_count": 10,
     "metadata": {},
     "output_type": "execute_result"
    },
    {
     "data": {
      "text/plain": [
       "Text(0.5,0,'epoch')"
      ]
     },
     "execution_count": 10,
     "metadata": {},
     "output_type": "execute_result"
    },
    {
     "data": {
      "text/plain": [
       "<matplotlib.legend.Legend at 0x1a1f591f60>"
      ]
     },
     "execution_count": 10,
     "metadata": {},
     "output_type": "execute_result"
    },
    {
     "data": {
      "image/png": "[encoded data removed]",
      "text/plain": [
       "<Figure size 432x288 with 1 Axes>"
      ]
     },
     "metadata": {},
     "output_type": "display_data"
    }
   ],
   "source": [
    "# Predict on new data\n",
    "print(\"\\n  \\tPred \\t| \\tTrue\\n\")\n",
    "print(np.c_[y_pred, y_true])\n",
    "\n",
    "# Results\n",
    "print(\"\\n\\nTest Loss: {}\".format(test_loss[1]))\n",
    "\n",
    "# Plot loss history\n",
    "print(history.history.keys())\n",
    "plt.semilogy(history.history['loss']);\n",
    "plt.semilogy(history.history['val_loss']);\n",
    "plt.title('model loss');\n",
    "plt.ylabel('loss');\n",
    "plt.xlabel('epoch');\n",
    "plt.legend(['train', 'test'], loc='upper left');\n",
    "plt.show()"
   ]
  },
  {
   "cell_type": "code",
   "execution_count": 11,
   "metadata": {},
   "outputs": [
    {
     "data": {
      "text/plain": [
       "[<matplotlib.lines.Line2D at 0x1a1a784240>]"
      ]
     },
     "execution_count": 11,
     "metadata": {},
     "output_type": "execute_result"
    },
    {
     "data": {
      "text/plain": [
       "[<matplotlib.lines.Line2D at 0x1a1a723fd0>]"
      ]
     },
     "execution_count": 11,
     "metadata": {},
     "output_type": "execute_result"
    },
    {
     "data": {
      "text/plain": [
       "<matplotlib.legend.Legend at 0x1a1a784748>"
      ]
     },
     "execution_count": 11,
     "metadata": {},
     "output_type": "execute_result"
    },
    {
     "data": {
      "text/plain": [
       "Text(0.5,0,'Distance [Angstrom]')"
      ]
     },
     "execution_count": 11,
     "metadata": {},
     "output_type": "execute_result"
    },
    {
     "data": {
      "text/plain": [
       "Text(0,0.5,'Energy [eV]')"
      ]
     },
     "execution_count": 11,
     "metadata": {},
     "output_type": "execute_result"
    },
    {
     "data": {
      "image/png": "[encoded data removed]",
      "text/plain": [
       "<Figure size 864x504 with 1 Axes>"
      ]
     },
     "metadata": {},
     "output_type": "display_data"
    }
   ],
   "source": [
    "fig = plt.figure(figsize=(12, 7)) \n",
    "plt.plot(seps, ens, label = 'DFT Energies');\n",
    "plt.plot(y_test_seps, y_pred, 'kx', MarkerSize = 15, mew = 1, label = 'Predicted Energies'); \n",
    "plt.legend(fontsize = 18);\n",
    "plt.xlabel('Distance [Angstrom]', fontsize = 18);\n",
    "plt.ylabel('Energy [eV]', fontsize = 18);\n",
    "plt.show()"
   ]
  },
  {
   "cell_type": "markdown",
   "metadata": {},
   "source": [
    "For comparison, from [1]: \"The MAE that is introduced by the PBE approximation on the H2 data set is 2.3 kcal/mol (compared to exact CI calculations)\"\" \n",
    "\n",
    "[1] Brockherde et al. Bypassing the Kohn-Sham equations with machine learning. Nature Communications 8, 872 (2017)"
   ]
  }
 ],
 "metadata": {
  "kernelspec": {
   "display_name": "Python 3",
   "language": "python",
   "name": "python3"
  },
  "language_info": {
   "codemirror_mode": {
    "name": "ipython",
    "version": 3
   },
   "file_extension": ".py",
   "mimetype": "text/x-python",
   "name": "python",
   "nbconvert_exporter": "python",
   "pygments_lexer": "ipython3",
   "version": "3.5.5"
  }
 },
 "nbformat": 4,
 "nbformat_minor": 2
}
