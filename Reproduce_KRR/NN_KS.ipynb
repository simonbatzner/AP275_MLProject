{
 "cells": [
  {
   "cell_type": "markdown",
   "metadata": {},
   "source": [
    "# <div style=\"text-align: center\">Neural Networks - Kohn-Sham Mapping</div> \n",
    " \n",
    "## <div style=\"text-align: center\">Jon Vandermause, Steven Torrisi, Simon Batzner</div> "
   ]
  },
  {
   "cell_type": "markdown",
   "metadata": {},
   "source": [
    "## <div style=\"text-align: center\">Gaussian Potential-to-Energy </div> "
   ]
  },
  {
   "cell_type": "code",
   "execution_count": 1,
   "metadata": {},
   "outputs": [
    {
     "name": "stderr",
     "output_type": "stream",
     "text": [
      "Using TensorFlow backend.\n"
     ]
    }
   ],
   "source": [
    "from __future__ import absolute_import\n",
    "from __future__ import division\n",
    "from __future__ import print_function\n",
    "\n",
    "import os\n",
    "\n",
    "import numpy as np\n",
    "import matplotlib.pyplot as plt\n",
    "import argparse\n",
    "\n",
    "from keras.models import Sequential\n",
    "from keras.layers import Dropout\n",
    "from keras.layers import Dense\n",
    "from sklearn.metrics import mean_squared_error\n",
    "from keras import optimizers\n",
    "from keras.callbacks import TensorBoard, EarlyStopping\n",
    "from sklearn.model_selection import train_test_split\n",
    "from math import sqrt\n",
    "from KRR_reproduce import *\n",
    "\n",
    "from IPython.core.interactiveshell import InteractiveShell\n",
    "InteractiveShell.ast_node_interactivity = \"all\""
   ]
  },
  {
   "cell_type": "markdown",
   "metadata": {},
   "source": [
    "## Parameters"
   ]
  },
  {
   "cell_type": "code",
   "execution_count": 33,
   "metadata": {},
   "outputs": [],
   "source": [
    "SEED = 42\n",
    "ev2kcal = 1/0.043       # conversion factor\n",
    "EPOCHS = 50000          # maximum number of training epochs\n",
    "OPTIMIZER = 'sgd'       # sgd or adam\n",
    "LEARNING_RATE = 0.01    # larger means faster learning, more aggressive\n",
    "GRID_SPACE = 0.6        # instead of 0.08 in the paper -- makes it faster and the input dim much smaller\n",
    "DECAY = 0.0             # decay learning rate as training advances\n",
    "SIM_NO = 150            # total number of data points\n",
    "M = 10                 # number of training points\n",
    "\n",
    "HIDDEN = (50, )\n",
    "    \n",
    "# path to data\n",
    "os.environ['PROJDIR'] = '/Users/simonbatzner1/Desktop/Research/Research_Code/ML-electron-density'\n",
    "STR_PREF = os.environ['PROJDIR'] + '/data/H2_DFT/temp_data/store/'\n",
    "\n",
    "# ignore tf warnings\n",
    "os.environ['TF_CPP_MIN_LOG_LEVEL'] = '2'"
   ]
  },
  {
   "cell_type": "markdown",
   "metadata": {},
   "source": [
    "## Load data"
   ]
  },
  {
   "cell_type": "code",
   "execution_count": 34,
   "metadata": {},
   "outputs": [],
   "source": [
    "ens = []\n",
    "seps = []\n",
    "fours = []\n",
    "\n",
    "for n in range(SIM_NO):\n",
    "    # load separation, energy, and density\n",
    "    sep = np.load(STR_PREF + 'sep_store/sep' + str(n) + '.npy')\n",
    "    en = np.load(STR_PREF + 'en_store/en' + str(n) + '.npy')\n",
    "    four = np.load(STR_PREF + 'four_store/four' + str(n) + '.npy')\n",
    "\n",
    "    # put results in a nicer format\n",
    "    sep = np.reshape(sep, (1,))[0]\n",
    "    en = np.reshape(en, (1,))[0]['energy']\n",
    "    four = np.real(four)\n",
    "\n",
    "    # store quantities\n",
    "    ens.append(en)\n",
    "    seps.append(sep)\n",
    "    fours.append(four)"
   ]
  },
  {
   "cell_type": "markdown",
   "metadata": {},
   "source": [
    "## Network functions"
   ]
  },
  {
   "cell_type": "code",
   "execution_count": 35,
   "metadata": {},
   "outputs": [],
   "source": [
    "def init_architecture(input_shape, hidden_size, summary, activation='relu'):\n",
    "    \"\"\"\n",
    "    Built Neural Network using Keras\n",
    "\n",
    "    :param input_shape: shape of the input data\n",
    "    :param hidden_size: tuple of number of hidden layers, eg. (30, 30, 40) builds a network with hidden layers 30-30-40\n",
    "    :param summary: boolean, true plots a summary\n",
    "    :param activation: activiation function\n",
    "    :return: keras Sequential model\n",
    "    \"\"\"\n",
    "    model = Sequential()\n",
    "    print(input_shape)\n",
    "\n",
    "    # hidden layers\n",
    "    model.add(Dense(hidden_size[0], input_shape=input_shape, activation=activation))\n",
    "    for layer_size in hidden_size[1:]:\n",
    "        model.add(Dense(layer_size, activation=activation))\n",
    "        model.add(Dropout(0.2))\n",
    "\n",
    "    # output layer\n",
    "    model.add(Dense(1, activation='linear'))\n",
    "\n",
    "    if summary:\n",
    "        model.summary()\n",
    "\n",
    "    return model"
   ]
  },
  {
   "cell_type": "code",
   "execution_count": 36,
   "metadata": {},
   "outputs": [],
   "source": [
    "def train(model, training_data, training_labels, validation_data, validation_labels, batchsize=64):\n",
    "    \"\"\"\"\n",
    "    Train Neural Network model\n",
    "    \"\"\"\n",
    "    history = model.fit(training_data, training_labels, validation_data=(validation_data, validation_labels),\n",
    "                        batch_size=batchsize,\n",
    "                        verbose=0, shuffle=True)\n",
    "    return history"
   ]
  },
  {
   "cell_type": "markdown",
   "metadata": {},
   "source": [
    "## Create Gaussian Potentials"
   ]
  },
  {
   "cell_type": "code",
   "execution_count": 37,
   "metadata": {},
   "outputs": [],
   "source": [
    "pots = []\n",
    "grid_len = 5.29177 * 2\n",
    "\n",
    "for n in range(SIM_NO):\n",
    "    dist = seps[n]\n",
    "    pot = pot_rep(dist, grid_len, grid_space=GRID_SPACE)\n",
    "    pot = pot.flatten()\n",
    "    pots.append(pot)"
   ]
  },
  {
   "cell_type": "markdown",
   "metadata": {},
   "source": [
    "## Setup training and test data"
   ]
  },
  {
   "cell_type": "code",
   "execution_count": 38,
   "metadata": {},
   "outputs": [
    {
     "name": "stdout",
     "output_type": "stream",
     "text": [
      "(10, 5832)\n",
      "(140,)\n"
     ]
    }
   ],
   "source": [
    "data = pots\n",
    "labels = ens\n",
    "\n",
    "# define training and test indices\n",
    "train_indices = [int(n) for n in np.round(np.linspace(0,149,M))]\n",
    "test_indices = [n for n in range(150) if n not in train_indices]\n",
    "\n",
    "if len(train_indices) != M: \n",
    "    print(\"Size of training set doesn't match the M specified\")\n",
    "    \n",
    "x_train = np.array([data[n] for n in train_indices])\n",
    "x_test = np.array([data[n] for n in test_indices])\n",
    "y_test_seps = np.array([seps[n] for n in test_indices])\n",
    "y_train = np.array([labels[n] for n in train_indices])\n",
    "y_test =np.array([labels[n] for n in test_indices])\n",
    "\n",
    "# convert to np arrays\n",
    "x_train = np.array(x_train)\n",
    "x_test = np.array(x_test)\n",
    "y_train = np.array(y_train)\n",
    "y_test = np.array(y_test)\n",
    "\n",
    "print(x_train.shape)\n",
    "print(y_test.shape)"
   ]
  },
  {
   "cell_type": "markdown",
   "metadata": {},
   "source": [
    "## Build model and train"
   ]
  },
  {
   "cell_type": "code",
   "execution_count": 39,
   "metadata": {},
   "outputs": [
    {
     "name": "stdout",
     "output_type": "stream",
     "text": [
      "(5832,)\n",
      "_________________________________________________________________\n",
      "Layer (type)                 Output Shape              Param #   \n",
      "=================================================================\n",
      "dense_7 (Dense)              (None, 50)                291650    \n",
      "_________________________________________________________________\n",
      "dense_8 (Dense)              (None, 1)                 51        \n",
      "=================================================================\n",
      "Total params: 291,701\n",
      "Trainable params: 291,701\n",
      "Non-trainable params: 0\n",
      "_________________________________________________________________\n",
      "Epoch 00689: early stopping\n"
     ]
    }
   ],
   "source": [
    "# build neural net\n",
    "model = init_architecture(input_shape=pots[0].shape, hidden_size=tuple(HIDDEN), summary=True,\n",
    "                          activation='tanh')\n",
    "\n",
    "# set optimizer and compile\n",
    "adam = optimizers.Adam(lr=LEARNING_RATE, decay=DECAY)\n",
    "sgd = optimizers.SGD(lr=0.01, momentum=0.9, nesterov=True)\n",
    "\n",
    "if OPTIMIZER == 'adam': \n",
    "    model.compile(optimizer=adam, loss='mean_squared_error', metrics=['mse'])\n",
    "elif OPTIMIZER == 'sgd': \n",
    "    model.compile(optimizer=sgd, loss='mean_squared_error', metrics=['mse'])\n",
    "else: \n",
    "    \"Default optimizer ADAM being used...\"\n",
    "    model.compile(optimizer=adam, loss='mean_squared_error', metrics=['mse'])\n",
    "    \n",
    "# early stopping on validation error\n",
    "es = EarlyStopping(monitor='val_loss',\n",
    "                   min_delta=0,\n",
    "                   patience=500,\n",
    "                   verbose=10, mode='auto')\n",
    "\n",
    "# log graph and gradients\n",
    "tb = TensorBoard(log_dir='./logs', histogram_freq=0, batch_size=1, write_graph=True, write_grads=True,\n",
    "                 write_images=True, embeddings_freq=0, embeddings_layer_names=None, embeddings_metadata=None)\n",
    "\n",
    "# save training history\n",
    "history = model.fit(x_train, y_train, epochs=EPOCHS, verbose=0, validation_split=0.2, callbacks=[es, tb])"
   ]
  },
  {
   "cell_type": "markdown",
   "metadata": {},
   "source": [
    "## Results"
   ]
  },
  {
   "cell_type": "code",
   "execution_count": 40,
   "metadata": {},
   "outputs": [
    {
     "name": "stdout",
     "output_type": "stream",
     "text": [
      "140/140 [==============================] - 0s 148us/step\n",
      "\n",
      "MAE on training data [kcal/mol]: \t4.461912388724361\n",
      "MAe on test data [kcal/mol]: \t\t3.75703645895816\n"
     ]
    }
   ],
   "source": [
    "from sklearn.metrics import mean_absolute_error\n",
    "# Predict\n",
    "test_loss = model.evaluate(x_test, y_test)\n",
    "\n",
    "# Eval on training data\n",
    "y_true, y_pred = y_train, model.predict(x_train)\n",
    "print(\"\\nMAE on training data [kcal/mol]: \\t{}\".format(mean_absolute_error(y_true, y_pred)*ev2kcal))\n",
    "\n",
    "# Eval on test data\n",
    "y_true, y_pred = y_test, model.predict(x_test)\n",
    "print(\"MAe on test data [kcal/mol]: \\t\\t{}\".format(mean_absolute_error(y_true, y_pred)*ev2kcal))"
   ]
  },
  {
   "cell_type": "code",
   "execution_count": 41,
   "metadata": {},
   "outputs": [
    {
     "name": "stdout",
     "output_type": "stream",
     "text": [
      "\n",
      "  \tPred \t| \tTrue\n",
      "\n",
      "[[-30.15460205 -29.86480944]\n",
      " [-30.20540619 -30.00126384]\n",
      " [-30.25597    -30.13048409]\n",
      " [-30.30625153 -30.25205876]\n",
      " [-30.35621262 -30.36705412]\n",
      " [-30.4058075  -30.47510758]\n",
      " [-30.45500565 -30.57717032]\n",
      " [-30.50376129 -30.67320233]\n",
      " [-30.55203629 -30.7632198 ]\n",
      " [-30.59979248 -30.84802303]\n",
      " [-30.64698029 -30.92735568]\n",
      " [-30.693573   -31.00192919]\n",
      " [-30.73952484 -31.07152411]\n",
      " [-30.78479767 -31.13677132]\n",
      " [-30.82935333 -31.19766036]\n",
      " [-30.87315369 -31.25422224]\n",
      " [-30.95833969 -31.35579816]\n",
      " [-30.99964523 -31.40113248]\n",
      " [-31.04005051 -31.44287327]\n",
      " [-31.07951736 -31.48142229]\n",
      " [-31.11801529 -31.51679575]\n",
      " [-31.15550232 -31.54904043]\n",
      " [-31.19194794 -31.57847976]\n",
      " [-31.22732544 -31.60506448]\n",
      " [-31.26160049 -31.62907309]\n",
      " [-31.2947464  -31.65047649]\n",
      " [-31.32672501 -31.66951141]\n",
      " [-31.35751343 -31.68621403]\n",
      " [-31.38708496 -31.70064478]\n",
      " [-31.41541672 -31.71298488]\n",
      " [-31.44247818 -31.72325065]\n",
      " [-31.4927063  -31.73803637]\n",
      " [-31.51583099 -31.74270652]\n",
      " [-31.53759766 -31.74565502]\n",
      " [-31.55799103 -31.74695245]\n",
      " [-31.57699966 -31.74667599]\n",
      " [-31.59459686 -31.74489323]\n",
      " [-31.61077499 -31.74165698]\n",
      " [-31.6255188  -31.73704723]\n",
      " [-31.63881683 -31.73109488]\n",
      " [-31.65066147 -31.72386794]\n",
      " [-31.66104126 -31.71544669]\n",
      " [-31.66994858 -31.70583223]\n",
      " [-31.67737961 -31.69513134]\n",
      " [-31.68332672 -31.68332731]\n",
      " [-31.68778992 -31.67053592]\n",
      " [-31.69076538 -31.65672423]\n",
      " [-31.69226074 -31.62636529]\n",
      " [-31.69078064 -31.60985192]\n",
      " [-31.68782806 -31.5925671 ]\n",
      " [-31.68340302 -31.57444336]\n",
      " [-31.67751312 -31.55562192]\n",
      " [-31.67017365 -31.53602468]\n",
      " [-31.6613884  -31.51573817]\n",
      " [-31.65116501 -31.49485697]\n",
      " [-31.63953018 -31.47328554]\n",
      " [-31.62648773 -31.45118145]\n",
      " [-31.61206436 -31.42843953]\n",
      " [-31.59627151 -31.40522154]\n",
      " [-31.57912827 -31.38141442]\n",
      " [-31.5606575  -31.35711097]\n",
      " [-31.54088593 -31.33240915]\n",
      " [-31.49751282 -31.28161023]\n",
      " [-31.47397232 -31.25555287]\n",
      " [-31.44923019 -31.22918843]\n",
      " [-31.42330933 -31.20237949]\n",
      " [-31.39624786 -31.17522306]\n",
      " [-31.36808014 -31.14781833]\n",
      " [-31.33883286 -31.12002121]\n",
      " [-31.30854034 -31.09201361]\n",
      " [-31.27724075 -31.06364437]\n",
      " [-31.24497223 -31.03509757]\n",
      " [-31.21176147 -31.00621866]\n",
      " [-31.17765808 -30.97719376]\n",
      " [-31.14269638 -30.94786409]\n",
      " [-31.10691833 -30.91832898]\n",
      " [-31.07036209 -30.88869046]\n",
      " [-31.03307343 -30.85878473]\n",
      " [-30.95645523 -30.79857312]\n",
      " [-30.91722107 -30.76829214]\n",
      " [-30.87742233 -30.73778749]\n",
      " [-30.8371048  -30.70716025]\n",
      " [-30.79631805 -30.67651259]\n",
      " [-30.75510406 -30.64567093]\n",
      " [-30.71351242 -30.61482858]\n",
      " [-30.67158508 -30.58381058]\n",
      " [-30.62937164 -30.5528104 ]\n",
      " [-30.58691406 -30.52165104]\n",
      " [-30.54426575 -30.49043331]\n",
      " [-30.50146103 -30.4592583 ]\n",
      " [-30.45855713 -30.42794751]\n",
      " [-30.41559601 -30.39669482]\n",
      " [-30.37262344 -30.36532035]\n",
      " [-30.28682327 -30.3026076 ]\n",
      " [-30.2440834  -30.27118892]\n",
      " [-30.2015152  -30.23986139]\n",
      " [-30.15915298 -30.2084442 ]\n",
      " [-30.11704636 -30.17712973]\n",
      " [-30.07523346 -30.14573676]\n",
      " [-30.03376007 -30.1144574 ]\n",
      " [-29.99266052 -30.08311041]\n",
      " [-29.95198059 -30.05179323]\n",
      " [-29.91175461 -30.02060434]\n",
      " [-29.87202454 -29.98936226]\n",
      " [-29.83282852 -29.95825732]\n",
      " [-29.79419708 -29.92710748]\n",
      " [-29.75616837 -29.89610295]\n",
      " [-29.7187767  -29.86506264]\n",
      " [-29.68205643 -29.83408219]\n",
      " [-29.61075211 -29.77241028]\n",
      " [-29.57622528 -29.74172427]\n",
      " [-29.54249191 -29.71102069]\n",
      " [-29.5095787  -29.68048583]\n",
      " [-29.47751236 -29.64994023]\n",
      " [-29.44631577 -29.61947802]\n",
      " [-29.416008   -29.58919283]\n",
      " [-29.38662338 -29.55890559]\n",
      " [-29.35817719 -29.52879999]\n",
      " [-29.33068848 -29.49869847]\n",
      " [-29.30418015 -29.46878253]\n",
      " [-29.27866745 -29.43887626]\n",
      " [-29.25417328 -29.40907093]\n",
      " [-29.23070526 -29.37945718]\n",
      " [-29.20828247 -29.34985962]\n",
      " [-29.16663361 -29.29107606]\n",
      " [-29.14742661 -29.26189279]\n",
      " [-29.12931061 -29.23273428]\n",
      " [-29.11230469 -29.20369034]\n",
      " [-29.09640503 -29.17484762]\n",
      " [-29.08162689 -29.14603606]\n",
      " [-29.06797791 -29.11742831]\n",
      " [-29.05545425 -29.08885484]\n",
      " [-29.04406738 -29.06048683]\n",
      " [-29.03382111 -29.03215704]\n",
      " [-29.02471924 -29.00395066]\n",
      " [-29.01675797 -28.97595245]\n",
      " [-29.00993729 -28.94799546]\n",
      " [-29.00426483 -28.92024854]\n",
      " [-28.99973297 -28.89254639]\n",
      " [-28.99634171 -28.86505512]]\n",
      "\n",
      "\n",
      "Test Loss: 0.03679688221641949\n",
      "dict_keys(['val_loss', 'mean_squared_error', 'loss', 'val_mean_squared_error'])\n"
     ]
    },
    {
     "data": {
      "text/plain": [
       "[<matplotlib.lines.Line2D at 0x1a1c8304e0>]"
      ]
     },
     "execution_count": 41,
     "metadata": {},
     "output_type": "execute_result"
    },
    {
     "data": {
      "text/plain": [
       "[<matplotlib.lines.Line2D at 0x1a2a0677b8>]"
      ]
     },
     "execution_count": 41,
     "metadata": {},
     "output_type": "execute_result"
    },
    {
     "data": {
      "text/plain": [
       "Text(0.5,1,'model loss')"
      ]
     },
     "execution_count": 41,
     "metadata": {},
     "output_type": "execute_result"
    },
    {
     "data": {
      "text/plain": [
       "Text(0,0.5,'loss')"
      ]
     },
     "execution_count": 41,
     "metadata": {},
     "output_type": "execute_result"
    },
    {
     "data": {
      "text/plain": [
       "Text(0.5,0,'epoch')"
      ]
     },
     "execution_count": 41,
     "metadata": {},
     "output_type": "execute_result"
    },
    {
     "data": {
      "text/plain": [
       "<matplotlib.legend.Legend at 0x1a29208828>"
      ]
     },
     "execution_count": 41,
     "metadata": {},
     "output_type": "execute_result"
    },
    {
     "data": {
      "image/png": "[encoded data removed]",
      "text/plain": [
       "<Figure size 432x288 with 1 Axes>"
      ]
     },
     "metadata": {},
     "output_type": "display_data"
    }
   ],
   "source": [
    "# Predict on new data\n",
    "print(\"\\n  \\tPred \\t| \\tTrue\\n\")\n",
    "print(np.c_[y_pred, y_true])\n",
    "\n",
    "# Results\n",
    "print(\"\\n\\nTest Loss: {}\".format(test_loss[1]))\n",
    "\n",
    "# Plot loss history\n",
    "print(history.history.keys())\n",
    "plt.semilogy(history.history['loss']);\n",
    "plt.semilogy(history.history['val_loss']);\n",
    "plt.title('model loss');\n",
    "plt.ylabel('loss');\n",
    "plt.xlabel('epoch');\n",
    "plt.legend(['train', 'test'], loc='upper left');\n",
    "plt.show()"
   ]
  },
  {
   "cell_type": "code",
   "execution_count": 42,
   "metadata": {},
   "outputs": [
    {
     "data": {
      "text/plain": [
       "[<matplotlib.lines.Line2D at 0x1158e0dd8>]"
      ]
     },
     "execution_count": 42,
     "metadata": {},
     "output_type": "execute_result"
    },
    {
     "data": {
      "text/plain": [
       "[<matplotlib.lines.Line2D at 0x1158d4eb8>]"
      ]
     },
     "execution_count": 42,
     "metadata": {},
     "output_type": "execute_result"
    },
    {
     "data": {
      "text/plain": [
       "<matplotlib.legend.Legend at 0x1158ce358>"
      ]
     },
     "execution_count": 42,
     "metadata": {},
     "output_type": "execute_result"
    },
    {
     "data": {
      "text/plain": [
       "Text(0.5,0,'Distance [Angstrom]')"
      ]
     },
     "execution_count": 42,
     "metadata": {},
     "output_type": "execute_result"
    },
    {
     "data": {
      "text/plain": [
       "Text(0,0.5,'Energy [eV]')"
      ]
     },
     "execution_count": 42,
     "metadata": {},
     "output_type": "execute_result"
    },
    {
     "data": {
      "image/png": "[encoded data removed]",
      "text/plain": [
       "<Figure size 864x504 with 1 Axes>"
      ]
     },
     "metadata": {},
     "output_type": "display_data"
    }
   ],
   "source": [
    "fig = plt.figure(figsize=(12, 7)) \n",
    "plt.plot(seps, ens, label = 'DFT Energies');\n",
    "plt.plot(y_test_seps, y_pred, 'k.', MarkerSize = 15, mew = 3, label = 'Predicted Energies'); \n",
    "plt.legend(fontsize = 18);\n",
    "plt.xlabel('Distance [Angstrom]', fontsize = 18);\n",
    "plt.ylabel('Energy [eV]', fontsize = 18);\n",
    "plt.show()"
   ]
  },
  {
   "cell_type": "markdown",
   "metadata": {},
   "source": [
    "For comparison, from [1]: \"The MAE that is introduced by the PBE approximation on the H2 data set is 2.3 kcal/mol (compared to exact CI calculations)\"\" \n",
    "\n",
    "[1] Brockherde et al. Bypassing the Kohn-Sham equations with machine learning. Nature Communications 8, 872 (2017)"
   ]
  }
 ],
 "metadata": {
  "kernelspec": {
   "display_name": "Python 3",
   "language": "python",
   "name": "python3"
  },
  "language_info": {
   "codemirror_mode": {
    "name": "ipython",
    "version": 3
   },
   "file_extension": ".py",
   "mimetype": "text/x-python",
   "name": "python",
   "nbconvert_exporter": "python",
   "pygments_lexer": "ipython3",
   "version": "3.5.5"
  }
 },
 "nbformat": 4,
 "nbformat_minor": 2
}
