{
 "cells": [
  {
   "cell_type": "markdown",
   "metadata": {},
   "source": [
    "# <div style=\"text-align: center\">Random Forests - Kohn-Sham Mapping - Solid-State</div> \n",
    " \n",
    "## <div style=\"text-align: center\">Jon Vandermause, Steven Torrisi, Simon Batzner</div>\n",
    "## <div style=\"text-align: center\">Positions-to-Energy </div> "
   ]
  },
  {
   "cell_type": "markdown",
   "metadata": {},
   "source": [
    "## Setup "
   ]
  },
  {
   "cell_type": "code",
   "execution_count": 9,
   "metadata": {},
   "outputs": [],
   "source": [
    "from __future__ import absolute_import\n",
    "from __future__ import division\n",
    "from __future__ import print_function\n",
    "\n",
    "import os, sys\n",
    "import numpy as np\n",
    "import matplotlib.pyplot as plt\n",
    "\n",
    "from sklearn.metrics import mean_absolute_error\n",
    "from sklearn.ensemble import RandomForestRegressor\n",
    "from sklearn.model_selection import train_test_split\n",
    "from KRR_reproduce import *\n",
    "import time\n",
    "import scipy as sp\n",
    "from scipy.fftpack import *\n",
    "\n",
    "from IPython.core.interactiveshell import InteractiveShell\n",
    "InteractiveShell.ast_node_interactivity = \"all\""
   ]
  },
  {
   "cell_type": "code",
   "execution_count": 31,
   "metadata": {},
   "outputs": [
    {
     "name": "stdout",
     "output_type": "stream",
     "text": [
      "Number of estimators: 5000\n",
      "Maximum depth: 200\n"
     ]
    }
   ],
   "source": [
    "# setup\n",
    "ev2kcal = 1/0.043     # conversion factor\n",
    "SEED = 42\n",
    "SIM_NO = 201          # total number of data points\n",
    "M = 15               # number of training points\n",
    "\n",
    "# random forest\n",
    "N_ESTIMATORS = 5000   # number of treest\n",
    "MAX_DEPTH = 200       # maximum depth of trees\n",
    "\n",
    "# path to data\n",
    "os.environ['PROJDIR'] = '/Users/simonbatzner1/Desktop/Research/Research_Code/ML-electron-density'\n",
    "STR_PREF = os.environ['PROJDIR']+'/Aluminium_Dataset/Store/'\n",
    "\n",
    "print(\"Number of estimators: {}\".format(N_ESTIMATORS))\n",
    "print(\"Maximum depth: {}\".format(MAX_DEPTH))"
   ]
  },
  {
   "cell_type": "code",
   "execution_count": 32,
   "metadata": {},
   "outputs": [],
   "source": [
    "# load MD results\n",
    "MD_pos = np.load(STR_PREF+'MD_positions.npy')\n",
    "MD_ens = np.load(STR_PREF+'MD_energies.npy')"
   ]
  },
  {
   "cell_type": "markdown",
   "metadata": {},
   "source": [
    "## Load Energies, Positions and Fourier Coefficients"
   ]
  },
  {
   "cell_type": "code",
   "execution_count": 33,
   "metadata": {},
   "outputs": [],
   "source": [
    "pos = []\n",
    "ens = []\n",
    "fours = []\n",
    "\n",
    "for n in range(SIM_NO):\n",
    "    # load arrays\n",
    "    en_curr = np.reshape(np.load(STR_PREF+'en_store/energy'+str(n)+'.npy'),(1))[0]\n",
    "    pos_curr = np.load(STR_PREF+'pos_store/pos'+str(n)+'.npy')\n",
    "    four_curr = np.load(STR_PREF+'four_store/four'+str(n)+'.npy')\n",
    "    \n",
    "    # store arrays\n",
    "    ens.append(en_curr)\n",
    "    pos_curr = pos_curr.flatten()\n",
    "    pos.append(pos_curr)\n",
    "    fours.append(four_curr)\n",
    "\n",
    "# convert to np arrays\n",
    "ens = np.array(ens)\n",
    "pos = np.array(pos)\n",
    "fours = np.array(fours)"
   ]
  },
  {
   "cell_type": "markdown",
   "metadata": {},
   "source": [
    "## Set up training and test data"
   ]
  },
  {
   "cell_type": "code",
   "execution_count": 34,
   "metadata": {},
   "outputs": [
    {
     "name": "stdout",
     "output_type": "stream",
     "text": [
      "(15, 12)\n",
      "(186, 12)\n",
      "(186,)\n"
     ]
    }
   ],
   "source": [
    "data = pos\n",
    "labels = ens\n",
    "\n",
    "# define training and test indices\n",
    "train_indices = [int(n) for n in np.round(np.linspace(0,200,M))]\n",
    "test_indices = [n for n in range(201) if n not in train_indices]\n",
    "\n",
    "if len(train_indices) != M: \n",
    "    print(\"Size of training set doesn't match the M specified\")\n",
    "    \n",
    "x_train = np.array([data[n] for n in train_indices])\n",
    "x_test = np.array([data[n] for n in test_indices])\n",
    "y_train = np.array([labels[n] for n in train_indices])\n",
    "y_test =np.array([labels[n] for n in test_indices])\n",
    "\n",
    "# convert to np arrays\n",
    "x_train = np.array(x_train)\n",
    "x_test = np.array(x_test)\n",
    "y_train = np.array(y_train)\n",
    "y_test = np.array(y_test)\n",
    "\n",
    "print(x_train.shape)\n",
    "print(x_test.shape)\n",
    "print(y_test.shape)"
   ]
  },
  {
   "cell_type": "markdown",
   "metadata": {},
   "source": [
    "## Train Random Forest"
   ]
  },
  {
   "cell_type": "code",
   "execution_count": 35,
   "metadata": {},
   "outputs": [
    {
     "data": {
      "text/plain": [
       "RandomForestRegressor(bootstrap=True, criterion='mse', max_depth=200,\n",
       "           max_features='auto', max_leaf_nodes=None,\n",
       "           min_impurity_decrease=0.0, min_impurity_split=None,\n",
       "           min_samples_leaf=1, min_samples_split=2,\n",
       "           min_weight_fraction_leaf=0.0, n_estimators=5000, n_jobs=1,\n",
       "           oob_score=False, random_state=42, verbose=0, warm_start=False)"
      ]
     },
     "execution_count": 35,
     "metadata": {},
     "output_type": "execute_result"
    }
   ],
   "source": [
    "estimator = RandomForestRegressor(random_state=SEED, n_estimators=N_ESTIMATORS, max_depth=MAX_DEPTH)\n",
    "estimator.fit(x_train, y_train)"
   ]
  },
  {
   "cell_type": "markdown",
   "metadata": {},
   "source": [
    "## Results"
   ]
  },
  {
   "cell_type": "code",
   "execution_count": 36,
   "metadata": {},
   "outputs": [
    {
     "name": "stdout",
     "output_type": "stream",
     "text": [
      "\n",
      "Number of estimators:\t 5000\n",
      "Maximum depth:\t\t 200\n",
      "\n",
      "\n",
      "MAE on training data in [eV]: \t0.0161131032705138\n",
      "MAE on test data in [eV]: \t0.05358120907330873\n",
      "\n",
      "\n",
      "\n",
      "Prediction on test data:\n",
      "\n",
      "\tPred   |   True\n",
      "\n",
      "[[-227.84851438 -227.87495202]\n",
      " [-227.82436277 -227.83845541]\n",
      " [-227.84694063 -227.83385737]\n",
      " [-227.83389901 -227.86424202]\n",
      " [-227.82609584 -227.84035463]\n",
      " [-227.78837779 -227.76541689]\n",
      " [-227.81189245 -227.76301767]\n",
      " [-227.83132474 -227.82810937]\n",
      " [-227.82673805 -227.84445525]\n",
      " [-227.81639331 -227.78635362]\n",
      " [-227.78656835 -227.75901201]\n",
      " [-227.81946203 -227.80722149]\n",
      " [-227.8268306  -227.85335868]\n",
      " [-227.82515442 -227.82986409]\n",
      " [-227.82049094 -227.83209897]\n",
      " [-227.82691632 -227.85556294]\n",
      " [-227.83128499 -227.87406438]\n",
      " [-227.83130806 -227.86525156]\n",
      " [-227.82646392 -227.81552219]\n",
      " [-227.78276189 -227.76311957]\n",
      " [-227.81451384 -227.79972094]\n",
      " [-227.81806646 -227.8249323 ]\n",
      " [-227.78174855 -227.74434902]\n",
      " [-227.81017162 -227.71942569]\n",
      " [-227.77537381 -227.77464618]\n",
      " [-227.78179659 -227.7762786 ]\n",
      " [-227.80216414 -227.75392988]\n",
      " [-227.81551027 -227.78391792]\n",
      " [-227.81346098 -227.8164603 ]\n",
      " [-227.81413691 -227.83410785]\n",
      " [-227.80296406 -227.82415555]\n",
      " [-227.81922182 -227.80953772]\n",
      " [-227.82030856 -227.81528042]\n",
      " [-227.81589366 -227.82756419]\n",
      " [-227.77948366 -227.78245341]\n",
      " [-227.76955592 -227.66932516]\n",
      " [-227.76482095 -227.6903231 ]\n",
      " [-227.76715415 -227.74939999]\n",
      " [-227.76149659 -227.74832977]\n",
      " [-227.77200509 -227.73963532]\n",
      " [-227.78007112 -227.78331478]\n",
      " [-227.77751099 -227.83231189]\n",
      " [-227.77962617 -227.82415936]\n",
      " [-227.77859214 -227.78522652]\n",
      " [-227.80527928 -227.78009445]\n",
      " [-227.77940526 -227.81694331]\n",
      " [-227.77157192 -227.80386782]\n",
      " [-227.79968452 -227.63110988]\n",
      " [-227.77482403 -227.60663581]\n",
      " [-227.79268264 -227.7136732 ]\n",
      " [-227.80480031 -227.64400087]\n",
      " [-227.77810254 -227.6240639 ]\n",
      " [-227.8011417  -227.72907567]\n",
      " [-227.80789776 -227.7818353 ]\n",
      " [-227.80397546 -227.73903803]\n",
      " [-227.80944178 -227.75683891]\n",
      " [-227.81184106 -227.80330182]\n",
      " [-227.810462   -227.78045242]\n",
      " [-227.80745329 -227.68853137]\n",
      " [-227.8079535  -227.6518685 ]\n",
      " [-227.80006535 -227.65579647]\n",
      " [-227.76913723 -227.54541507]\n",
      " [-227.80391441 -227.59816504]\n",
      " [-227.78948238 -227.59102736]\n",
      " [-227.76696301 -227.64239812]\n",
      " [-227.80431218 -227.75439723]\n",
      " [-227.80131546 -227.74515855]\n",
      " [-227.79788933 -227.76570275]\n",
      " [-227.80691502 -227.81668439]\n",
      " [-227.80803114 -227.83307341]\n",
      " [-227.80535613 -227.79388274]\n",
      " [-227.82843505 -227.76387659]\n",
      " [-227.81473905 -227.79523378]\n",
      " [-227.82375844 -227.83176549]\n",
      " [-227.82144947 -227.70170087]\n",
      " [-227.81327061 -227.60566205]\n",
      " [-227.81615074 -227.74219374]\n",
      " [-227.81622195 -227.75924562]\n",
      " [-227.81186987 -227.7368716 ]\n",
      " [-227.81345549 -227.77231907]\n",
      " [-227.79662047 -227.77740488]\n",
      " [-227.80480614 -227.76749938]\n",
      " [-227.80614615 -227.77797509]\n",
      " [-227.8027146  -227.77281091]\n",
      " [-227.79362904 -227.73161245]\n",
      " [-227.79182343 -227.69537204]\n",
      " [-227.78952321 -227.72241758]\n",
      " [-227.78664186 -227.67825607]\n",
      " [-227.78657238 -227.46722272]\n",
      " [-227.74811156 -227.57859379]\n",
      " [-227.7579822  -227.62849786]\n",
      " [-227.80644645 -227.64501572]\n",
      " [-227.76872873 -227.76904934]\n",
      " [-227.80583427 -227.77296438]\n",
      " [-227.81304116 -227.75188372]\n",
      " [-227.81860538 -227.8062997 ]\n",
      " [-227.81824449 -227.84136948]\n",
      " [-227.82354232 -227.79899508]\n",
      " [-227.82591007 -227.770857  ]\n",
      " [-227.82746709 -227.79718021]\n",
      " [-227.82469317 -227.76255725]\n",
      " [-227.82512585 -227.67049851]\n",
      " [-227.83118145 -227.67706435]\n",
      " [-227.81924147 -227.72180437]\n",
      " [-227.82420566 -227.65008901]\n",
      " [-227.8310605  -227.71373239]\n",
      " [-227.82848445 -227.80722135]\n",
      " [-227.82451778 -227.77760515]\n",
      " [-227.83318142 -227.78448147]\n",
      " [-227.82977333 -227.8092418 ]\n",
      " [-227.83685214 -227.7940426 ]\n",
      " [-227.82800252 -227.74192679]\n",
      " [-227.83075815 -227.74099371]\n",
      " [-227.83068904 -227.74581027]\n",
      " [-227.82885811 -227.61540618]\n",
      " [-227.83916552 -227.60817747]\n",
      " [-227.84685639 -227.75750899]\n",
      " [-227.82860314 -227.76606208]\n",
      " [-227.84358133 -227.75535466]\n",
      " [-227.8339222  -227.80430348]\n",
      " [-227.83681141 -227.77253853]\n",
      " [-227.81997815 -227.79589638]\n",
      " [-227.83957425 -227.8436034 ]\n",
      " [-227.82878447 -227.83893433]\n",
      " [-227.81805878 -227.80470362]\n",
      " [-227.82900258 -227.80113621]\n",
      " [-227.82144554 -227.82999512]\n",
      " [-227.81856631 -227.84313822]\n",
      " [-227.82525301 -227.83189815]\n",
      " [-227.80130062 -227.81880497]\n",
      " [-227.79700288 -227.80971678]\n",
      " [-227.75360307 -227.7700631 ]\n",
      " [-227.80000933 -227.69899456]\n",
      " [-227.7471588  -227.73917599]\n",
      " [-227.749187   -227.67917201]\n",
      " [-227.75248627 -227.65594817]\n",
      " [-227.75332276 -227.73018848]\n",
      " [-227.76513054 -227.77663656]\n",
      " [-227.76372232 -227.79776648]\n",
      " [-227.81322977 -227.82202027]\n",
      " [-227.77616806 -227.84593215]\n",
      " [-227.77937218 -227.83893011]\n",
      " [-227.8121806  -227.80841879]\n",
      " [-227.7681239  -227.79509759]\n",
      " [-227.80319318 -227.8118677 ]\n",
      " [-227.80583549 -227.80486825]\n",
      " [-227.79195274 -227.72566934]\n",
      " [-227.78671175 -227.7811225 ]\n",
      " [-227.75710485 -227.73483945]\n",
      " [-227.78906143 -227.67493329]\n",
      " [-227.76224555 -227.7579573 ]\n",
      " [-227.80186665 -227.82825917]\n",
      " [-227.80476577 -227.81211968]\n",
      " [-227.813152   -227.79896242]\n",
      " [-227.79881842 -227.81689691]\n",
      " [-227.82630942 -227.84215562]\n",
      " [-227.81461347 -227.83342919]\n",
      " [-227.79018748 -227.77679384]\n",
      " [-227.80594574 -227.72153199]\n",
      " [-227.79787841 -227.74999484]\n",
      " [-227.80608815 -227.6604673 ]\n",
      " [-227.77457272 -227.64288166]\n",
      " [-227.80639131 -227.74966558]\n",
      " [-227.80751496 -227.74161155]\n",
      " [-227.79055926 -227.68660426]\n",
      " [-227.81836704 -227.76602235]\n",
      " [-227.80662126 -227.83627088]\n",
      " [-227.79776    -227.82256096]\n",
      " [-227.82388642 -227.8168712 ]\n",
      " [-227.80750769 -227.84229535]\n",
      " [-227.82483907 -227.8644378 ]\n",
      " [-227.82284366 -227.86762984]\n",
      " [-227.80575662 -227.85222057]\n",
      " [-227.79574267 -227.84300502]\n",
      " [-227.80503537 -227.84716877]\n",
      " [-227.80545646 -227.81685378]\n",
      " [-227.79909951 -227.78406663]\n",
      " [-227.77399815 -227.79993088]\n",
      " [-227.79101629 -227.81889831]\n",
      " [-227.76386278 -227.74623422]\n",
      " [-227.75655003 -227.7001358 ]\n",
      " [-227.76617542 -227.76402925]\n",
      " [-227.75637489 -227.74794936]\n",
      " [-227.76014844 -227.68148919]\n",
      " [-227.76405136 -227.76540751]\n",
      " [-227.79837114 -227.85324385]]\n"
     ]
    }
   ],
   "source": [
    "# eval on training data\n",
    "y_true_train, y_pred_train = y_train, estimator.predict(x_train)\n",
    "\n",
    "# eval on test data\n",
    "y_true, y_pred = y_test, estimator.predict(x_test)\n",
    "\n",
    "# print results\n",
    "print(\"\\nNumber of estimators:\\t {}\".format(N_ESTIMATORS))\n",
    "print(\"Maximum depth:\\t\\t {}\".format(MAX_DEPTH))\n",
    "print(\"\\n\\nMAE on training data in [eV]: \\t{}\".format(mean_absolute_error(y_true_train, y_pred_train)))\n",
    "print(\"MAE on test data in [eV]: \\t{}\\n\\n\".format(mean_absolute_error(y_true, y_pred)))\n",
    "print(\"\\nPrediction on test data:\")\n",
    "print(\"\\n\\tPred   |   True\\n\")\n",
    "print(np.c_[y_pred, y_true])"
   ]
  },
  {
   "cell_type": "code",
   "execution_count": 37,
   "metadata": {},
   "outputs": [
    {
     "data": {
      "image/png": "[encoded data removed]",
      "text/plain": [
       "<Figure size 864x504 with 1 Axes>"
      ]
     },
     "metadata": {},
     "output_type": "display_data"
    }
   ],
   "source": [
    "fig = plt.figure(figsize=(12, 7)); \n",
    "plt.plot(np.linspace(1, SIM_NO, SIM_NO), ens, label = 'DFT Energies'); \n",
    "plt.plot(test_indices, y_pred, 'k.', MarkerSize = 10, mew = 3, label = 'Predicted Energies'); \n",
    "plt.legend(fontsize = 18)\n",
    "plt.xlabel('Sample', fontsize = 18)\n",
    "plt.ylabel('Energy [eV]', fontsize = 18)\n",
    "plt.show(); "
   ]
  },
  {
   "cell_type": "markdown",
   "metadata": {},
   "source": [
    "[1] Brockherde et al. Bypassing the Kohn-Sham equations with machine learning. Nature Communications 8, 872 (2017)"
   ]
  }
 ],
 "metadata": {
  "kernelspec": {
   "display_name": "Python 3",
   "language": "python",
   "name": "python3"
  },
  "language_info": {
   "codemirror_mode": {
    "name": "ipython",
    "version": 3
   },
   "file_extension": ".py",
   "mimetype": "text/x-python",
   "name": "python",
   "nbconvert_exporter": "python",
   "pygments_lexer": "ipython3",
   "version": "3.5.5"
  }
 },
 "nbformat": 4,
 "nbformat_minor": 2
}
