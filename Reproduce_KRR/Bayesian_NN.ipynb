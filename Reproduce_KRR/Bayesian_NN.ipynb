{
 "cells": [
  {
   "cell_type": "markdown",
   "metadata": {},
   "source": [
    "Jon V"
   ]
  },
  {
   "cell_type": "markdown",
   "metadata": {},
   "source": [
    "May 7"
   ]
  },
  {
   "cell_type": "code",
   "execution_count": 2,
   "metadata": {},
   "outputs": [],
   "source": [
    "import os\n",
    "import numpy as np\n",
    "import matplotlib.pyplot as plt\n",
    "import theano\n",
    "floatX = theano.config.floatX\n",
    "import pymc3 as pm\n",
    "import theano.tensor as T\n",
    "import sklearn\n",
    "import numpy as np\n",
    "import matplotlib.pyplot as plt\n",
    "import seaborn as sns\n",
    "from warnings import filterwarnings\n",
    "filterwarnings('ignore')\n",
    "sns.set_style('white')\n",
    "from sklearn import datasets"
   ]
  },
  {
   "cell_type": "markdown",
   "metadata": {},
   "source": [
    "# Read in dataset."
   ]
  },
  {
   "cell_type": "code",
   "execution_count": 16,
   "metadata": {},
   "outputs": [
    {
     "name": "stdout",
     "output_type": "stream",
     "text": [
      "The minimum energy is -31.74695245487133 eV. The equilibrium separation is 0.7483221476510067 Angstrom.\n"
     ]
    }
   ],
   "source": [
    "# read in calculation data (computed elsewhere)\n",
    "str_pref = '/Users/jonpvandermause/Desktop/store/'\n",
    "\n",
    "# read in the calculation data\n",
    "sim_no = 150\n",
    "ens = []\n",
    "seps= []\n",
    "fours = []\n",
    "\n",
    "min_en = 0\n",
    "eq_sep = 0\n",
    "\n",
    "for n in range(sim_no):\n",
    "    # load separation, energy, and density\n",
    "    sep = np.load(str_pref+'sep_store/sep'+str(n)+'.npy')\n",
    "    en = np.load(str_pref+'en_store/en'+str(n)+'.npy')\n",
    "    four = np.load(str_pref+'four_store/four'+str(n)+'.npy')\n",
    "\n",
    "    # put results in a nicer format\n",
    "    sep = np.reshape(sep,(1,))[0]\n",
    "    en = np.reshape(en,(1,))[0]['energy']\n",
    "    four = np.real(four)\n",
    "    \n",
    "    # get min energy and equilibrium separation\n",
    "    if en < min_en:\n",
    "        min_en = en\n",
    "        eq_sep = sep\n",
    "\n",
    "    # store quantities\n",
    "    ens.append(en)\n",
    "    seps.append(sep)\n",
    "    fours.append(four)\n",
    "\n",
    "print('The minimum energy is '+str(min_en)+' eV. The equilibrium separation is '+str(eq_sep)+' Angstrom.')"
   ]
  },
  {
   "cell_type": "code",
   "execution_count": 17,
   "metadata": {},
   "outputs": [
    {
     "data": {
      "image/png": "[encoded data removed]",
      "text/plain": [
       "<matplotlib.figure.Figure at 0x11653ec50>"
      ]
     },
     "metadata": {},
     "output_type": "display_data"
    }
   ],
   "source": [
    "# create figure\n",
    "figure = plt.figure()\n",
    "ax = figure.add_subplot(1,1,1)\n",
    "\n",
    "# add computed energies\n",
    "ax.plot(seps, ens, label='computed energies')\n",
    "\n",
    "ax.set_xlabel('separation (Å)')\n",
    "ax.set_ylabel('energy (eV)')\n",
    "ax.legend()\n",
    "plt.show()"
   ]
  },
  {
   "cell_type": "markdown",
   "metadata": {},
   "source": [
    "# Bayesian network with 2 nodes and biases."
   ]
  },
  {
   "cell_type": "code",
   "execution_count": 168,
   "metadata": {
    "collapsed": true
   },
   "outputs": [],
   "source": [
    "def nn_bias_2(ann_input, ann_output, n_hidden=2, input_dim = 1):\n",
    "\n",
    "    with pm.Model() as neural_network:\n",
    "        sd = 0.0001\n",
    "        \n",
    "        # set priors on weights and biases\n",
    "        weights = pm.Normal('weights', 0, sd=10, shape=4)\n",
    "        \n",
    "        biases = pm.Normal('biases', 0, sd=10, shape = 3)\n",
    "\n",
    "\n",
    "        # Build neural-network using tanh activation function\n",
    "        act_1 = pm.math.tanh(ann_input*weights[0]+biases[0])\n",
    "        act_2 = pm.math.tanh(ann_input*weights[1]+biases[1])\n",
    "        act_out = act_1*weights[2]+act_2*weights[3]+biases[2]\n",
    "\n",
    "        # Binary classification -> Bernoulli likelihood\n",
    "        out = pm.Normal('out', mu = act_out, sd = sd, observed=ann_output)\n",
    "        \n",
    "    return neural_network"
   ]
  },
  {
   "cell_type": "code",
   "execution_count": 169,
   "metadata": {},
   "outputs": [
    {
     "name": "stderr",
     "output_type": "stream",
     "text": [
      "Average Loss = 2.6461e+08:   0%|          | 2911/1000000 [00:02<14:33, 1141.88it/s]\n",
      "Interrupted at 2,990 [0%]: Average Loss = 3.9727e+08\n"
     ]
    }
   ],
   "source": [
    "train_X = train_set\n",
    "train_Y = -train_ens / 30\n",
    "\n",
    "ann_input = theano.shared(train_X)\n",
    "ann_output = theano.shared(train_Y)\n",
    "neural_network_2 = nn_bias_2(ann_input, ann_output)\n",
    "\n",
    "with neural_network_2:\n",
    "    inference = pm.ADVI()\n",
    "    approx_2 = pm.fit(n=int(3e5), method=inference)"
   ]
  },
  {
   "cell_type": "code",
   "execution_count": 153,
   "metadata": {},
   "outputs": [
    {
     "data": {
      "text/html": [
       "<div>\n",
       "<style>\n",
       "    .dataframe thead tr:only-child th {\n",
       "        text-align: right;\n",
       "    }\n",
       "\n",
       "    .dataframe thead th {\n",
       "        text-align: left;\n",
       "    }\n",
       "\n",
       "    .dataframe tbody tr th {\n",
       "        vertical-align: top;\n",
       "    }\n",
       "</style>\n",
       "<table border=\"1\" class=\"dataframe\">\n",
       "  <thead>\n",
       "    <tr style=\"text-align: right;\">\n",
       "      <th></th>\n",
       "      <th>mean</th>\n",
       "      <th>sd</th>\n",
       "      <th>mc_error</th>\n",
       "      <th>hpd_2.5</th>\n",
       "      <th>hpd_97.5</th>\n",
       "    </tr>\n",
       "  </thead>\n",
       "  <tbody>\n",
       "    <tr>\n",
       "      <th>weights__0</th>\n",
       "      <td>0.733302</td>\n",
       "      <td>0.000198</td>\n",
       "      <td>2.802073e-06</td>\n",
       "      <td>0.732922</td>\n",
       "      <td>0.733689</td>\n",
       "    </tr>\n",
       "    <tr>\n",
       "      <th>weights__1</th>\n",
       "      <td>-3.482664</td>\n",
       "      <td>0.000780</td>\n",
       "      <td>9.945367e-06</td>\n",
       "      <td>-3.484172</td>\n",
       "      <td>-3.481127</td>\n",
       "    </tr>\n",
       "    <tr>\n",
       "      <th>weights__2</th>\n",
       "      <td>-0.252211</td>\n",
       "      <td>0.000136</td>\n",
       "      <td>1.967120e-06</td>\n",
       "      <td>-0.252473</td>\n",
       "      <td>-0.251936</td>\n",
       "    </tr>\n",
       "    <tr>\n",
       "      <th>weights__3</th>\n",
       "      <td>-0.536349</td>\n",
       "      <td>0.000046</td>\n",
       "      <td>6.852183e-07</td>\n",
       "      <td>-0.536440</td>\n",
       "      <td>-0.536261</td>\n",
       "    </tr>\n",
       "    <tr>\n",
       "      <th>biases__0</th>\n",
       "      <td>-0.529575</td>\n",
       "      <td>0.000192</td>\n",
       "      <td>2.653625e-06</td>\n",
       "      <td>-0.529952</td>\n",
       "      <td>-0.529197</td>\n",
       "    </tr>\n",
       "    <tr>\n",
       "      <th>biases__1</th>\n",
       "      <td>0.799690</td>\n",
       "      <td>0.000418</td>\n",
       "      <td>5.642325e-06</td>\n",
       "      <td>0.798879</td>\n",
       "      <td>0.800528</td>\n",
       "    </tr>\n",
       "    <tr>\n",
       "      <th>biases__2</th>\n",
       "      <td>0.555368</td>\n",
       "      <td>0.000044</td>\n",
       "      <td>7.164823e-07</td>\n",
       "      <td>0.555278</td>\n",
       "      <td>0.555451</td>\n",
       "    </tr>\n",
       "  </tbody>\n",
       "</table>\n",
       "</div>"
      ],
      "text/plain": [
       "                mean        sd      mc_error   hpd_2.5  hpd_97.5\n",
       "weights__0  0.733302  0.000198  2.802073e-06  0.732922  0.733689\n",
       "weights__1 -3.482664  0.000780  9.945367e-06 -3.484172 -3.481127\n",
       "weights__2 -0.252211  0.000136  1.967120e-06 -0.252473 -0.251936\n",
       "weights__3 -0.536349  0.000046  6.852183e-07 -0.536440 -0.536261\n",
       "biases__0  -0.529575  0.000192  2.653625e-06 -0.529952 -0.529197\n",
       "biases__1   0.799690  0.000418  5.642325e-06  0.798879  0.800528\n",
       "biases__2   0.555368  0.000044  7.164823e-07  0.555278  0.555451"
      ]
     },
     "execution_count": 153,
     "metadata": {},
     "output_type": "execute_result"
    }
   ],
   "source": [
    "trace_2 = approx_2.sample(draws=5000)\n",
    "pm.summary(trace_2)"
   ]
  },
  {
   "cell_type": "code",
   "execution_count": 160,
   "metadata": {},
   "outputs": [
    {
     "name": "stderr",
     "output_type": "stream",
     "text": [
      "100%|██████████| 5000/5000 [00:01<00:00, 3865.87it/s]\n"
     ]
    }
   ],
   "source": [
    "seps_os = np.linspace(0.1,5,100)\n",
    "\n",
    "ann_input.set_value(seps_os)\n",
    "pred_2 = pm.sample_ppc(trace_2, 5000, model=neural_network_2)"
   ]
  },
  {
   "cell_type": "code",
   "execution_count": 164,
   "metadata": {},
   "outputs": [
    {
     "data": {
      "image/png": "[encoded data removed]",
      "text/plain": [
       "<matplotlib.figure.Figure at 0x11aad8cf8>"
      ]
     },
     "metadata": {},
     "output_type": "display_data"
    }
   ],
   "source": [
    "data_pred = pred_2['out']\n",
    "\n",
    "y_ests = []\n",
    "y_stds = []\n",
    "for n in range(seps_os.shape[0]):\n",
    "    y_est = np.mean(data_pred[:,n])\n",
    "    y_std = np.std(data_pred[:,n])\n",
    "    \n",
    "    y_ests.append(y_est)\n",
    "    y_stds.append(y_std)\n",
    "y_ests = -30*np.array(y_ests)\n",
    "y_stds = 30*np.array(y_stds)\n",
    "\n",
    "mult = 10\n",
    "\n",
    "fig, ax = plt.subplots(1,1)\n",
    "\n",
    "ax.plot(train_set, train_ens, 'kx')\n",
    "ax.plot(test_set, test_ens)\n",
    "ax.plot(seps_os, y_ests, 'b')\n",
    "ax.fill_between(seps_os, y_ests - mult*y_stds, y_ests + mult*y_stds, color='red', alpha=0.3)\n",
    "plt.show()"
   ]
  },
  {
   "cell_type": "code",
   "execution_count": 167,
   "metadata": {},
   "outputs": [
    {
     "data": {
      "text/plain": [
       "array([-13.08461186, -15.28697436, -17.71933368, -20.24395872,\n",
       "       -22.70138354, -24.94590184, -26.87474707, -28.43973289,\n",
       "       -29.64202284, -30.51610882, -31.11291916, -31.48687546,\n",
       "       -31.68834908, -31.7597896 , -31.73544909, -31.64158924,\n",
       "       -31.49846682, -31.32088661, -31.12000887, -30.90410244,\n",
       "       -30.67893347, -30.44935265, -30.21824676, -29.98829161,\n",
       "       -29.76095121, -29.5379717 , -29.32017796, -29.10814039,\n",
       "       -28.90282616, -28.70423448, -28.51302699, -28.3290072 ,\n",
       "       -28.15254257, -27.9835055 , -27.82197445, -27.66778857,\n",
       "       -27.52083011, -27.38115298, -27.24844994, -27.12249238,\n",
       "       -27.00314362, -26.89025854, -26.78351038, -26.68268557,\n",
       "       -26.58755974, -26.49788182, -26.4133367 , -26.33391532,\n",
       "       -26.25923565, -26.18908676, -26.12300394, -26.06124643,\n",
       "       -26.00317879, -25.94881271, -25.89794201, -25.85017499,\n",
       "       -25.80542698, -25.76377802, -25.72456135, -25.68818217,\n",
       "       -25.65404202, -25.62222114, -25.59243878, -25.56461168,\n",
       "       -25.53859401, -25.51447769, -25.49189776, -25.4708603 ,\n",
       "       -25.45113538, -25.43289   , -25.4157711 , -25.39980594,\n",
       "       -25.38498953, -25.37120042, -25.35835518, -25.34631226,\n",
       "       -25.33510186, -25.32474989, -25.31507594, -25.30594256,\n",
       "       -25.29764731, -25.28982325, -25.28254714, -25.27581772,\n",
       "       -25.26942755, -25.26359546, -25.25812799, -25.25303894,\n",
       "       -25.24818078, -25.24390161, -25.23981875, -25.23602547,\n",
       "       -25.23246526, -25.22914644, -25.22609229, -25.22326789,\n",
       "       -25.22047735, -25.21811507, -25.21583101, -25.21372909])"
      ]
     },
     "execution_count": 167,
     "metadata": {},
     "output_type": "execute_result"
    }
   ],
   "source": [
    "y_ests"
   ]
  },
  {
   "cell_type": "markdown",
   "metadata": {},
   "source": [
    "# Try Bayesian net with four nodes."
   ]
  },
  {
   "cell_type": "code",
   "execution_count": 311,
   "metadata": {
    "collapsed": true
   },
   "outputs": [],
   "source": [
    "def nn_bias_4(ann_input, ann_output, n_hidden=3):\n",
    "\n",
    "    with pm.Model() as neural_network:\n",
    "        sd = 1e-6\n",
    "        \n",
    "        # set priors on weights and biases\n",
    "        weights = pm.Normal('weights', 0, sd=10, shape=8)\n",
    "        \n",
    "        biases = pm.Normal('biases', 0, sd=10, shape=5)\n",
    "\n",
    "\n",
    "        # Build neural-network using tanh activation function\n",
    "        act_1 = pm.math.tanh(ann_input*weights[0]+biases[0])\n",
    "        act_2 = pm.math.tanh(ann_input*weights[1]+biases[1])\n",
    "        act_3 = pm.math.tanh(ann_input*weights[2]+biases[2])\n",
    "        act_4 = pm.math.tanh(ann_input*weights[3]+biases[3])\n",
    "        \n",
    "        act_out = pm.Deterministic('act_out',act_1*weights[4]+\\\n",
    "                                   act_2*weights[5]+act_3*weights[6]+\\\n",
    "                                   act_4*weights[7]+biases[4])\n",
    "\n",
    "        # Binary classification -> Bernoulli likelihood\n",
    "        out = pm.Normal('out', mu = act_out, sd = sd, observed=ann_output)\n",
    "        \n",
    "    return neural_network"
   ]
  },
  {
   "cell_type": "code",
   "execution_count": 312,
   "metadata": {},
   "outputs": [
    {
     "name": "stderr",
     "output_type": "stream",
     "text": [
      "Average Loss = 2.1989e+07: 100%|██████████| 300000/300000 [03:54<00:00, 1277.15it/s]\n",
      "Finished [100%]: Average Loss = 2.1887e+07\n"
     ]
    }
   ],
   "source": [
    "train_X = mapminmax(train_set, train_set)\n",
    "train_Y = mapminmax(train_ens, train_ens)\n",
    "\n",
    "ann_input = theano.shared(train_X)\n",
    "ann_output = theano.shared(train_Y)\n",
    "neural_network_3 = nn_bias_4(ann_input, ann_output)\n",
    "\n",
    "with neural_network_3:\n",
    "    inference = pm.ADVI()\n",
    "    approx_3 = pm.fit(n=int(3e5), method=inference)"
   ]
  },
  {
   "cell_type": "code",
   "execution_count": 313,
   "metadata": {},
   "outputs": [
    {
     "data": {
      "text/html": [
       "<div>\n",
       "<style>\n",
       "    .dataframe thead tr:only-child th {\n",
       "        text-align: right;\n",
       "    }\n",
       "\n",
       "    .dataframe thead th {\n",
       "        text-align: left;\n",
       "    }\n",
       "\n",
       "    .dataframe tbody tr th {\n",
       "        vertical-align: top;\n",
       "    }\n",
       "</style>\n",
       "<table border=\"1\" class=\"dataframe\">\n",
       "  <thead>\n",
       "    <tr style=\"text-align: right;\">\n",
       "      <th></th>\n",
       "      <th>mean</th>\n",
       "      <th>sd</th>\n",
       "      <th>mc_error</th>\n",
       "      <th>hpd_2.5</th>\n",
       "      <th>hpd_97.5</th>\n",
       "    </tr>\n",
       "  </thead>\n",
       "  <tbody>\n",
       "    <tr>\n",
       "      <th>weights__0</th>\n",
       "      <td>-0.826211</td>\n",
       "      <td>0.000008</td>\n",
       "      <td>1.018971e-07</td>\n",
       "      <td>-0.826226</td>\n",
       "      <td>-0.826196</td>\n",
       "    </tr>\n",
       "    <tr>\n",
       "      <th>weights__1</th>\n",
       "      <td>2.713135</td>\n",
       "      <td>0.000010</td>\n",
       "      <td>1.212497e-07</td>\n",
       "      <td>2.713115</td>\n",
       "      <td>2.713154</td>\n",
       "    </tr>\n",
       "    <tr>\n",
       "      <th>weights__2</th>\n",
       "      <td>-0.303548</td>\n",
       "      <td>0.000033</td>\n",
       "      <td>4.867172e-07</td>\n",
       "      <td>-0.303617</td>\n",
       "      <td>-0.303486</td>\n",
       "    </tr>\n",
       "    <tr>\n",
       "      <th>weights__3</th>\n",
       "      <td>0.802772</td>\n",
       "      <td>0.000031</td>\n",
       "      <td>4.773872e-07</td>\n",
       "      <td>0.802708</td>\n",
       "      <td>0.802830</td>\n",
       "    </tr>\n",
       "    <tr>\n",
       "      <th>weights__4</th>\n",
       "      <td>-1.768240</td>\n",
       "      <td>0.000019</td>\n",
       "      <td>2.769123e-07</td>\n",
       "      <td>-1.768278</td>\n",
       "      <td>-1.768203</td>\n",
       "    </tr>\n",
       "    <tr>\n",
       "      <th>weights__5</th>\n",
       "      <td>-2.804106</td>\n",
       "      <td>0.000015</td>\n",
       "      <td>2.230957e-07</td>\n",
       "      <td>-2.804135</td>\n",
       "      <td>-2.804076</td>\n",
       "    </tr>\n",
       "    <tr>\n",
       "      <th>weights__6</th>\n",
       "      <td>-0.635559</td>\n",
       "      <td>0.000020</td>\n",
       "      <td>2.591005e-07</td>\n",
       "      <td>-0.635599</td>\n",
       "      <td>-0.635519</td>\n",
       "    </tr>\n",
       "    <tr>\n",
       "      <th>weights__7</th>\n",
       "      <td>0.802554</td>\n",
       "      <td>0.000013</td>\n",
       "      <td>1.714310e-07</td>\n",
       "      <td>0.802529</td>\n",
       "      <td>0.802581</td>\n",
       "    </tr>\n",
       "    <tr>\n",
       "      <th>biases__0</th>\n",
       "      <td>0.440637</td>\n",
       "      <td>0.000009</td>\n",
       "      <td>1.365081e-07</td>\n",
       "      <td>0.440620</td>\n",
       "      <td>0.440656</td>\n",
       "    </tr>\n",
       "    <tr>\n",
       "      <th>biases__1</th>\n",
       "      <td>2.884674</td>\n",
       "      <td>0.000010</td>\n",
       "      <td>1.642784e-07</td>\n",
       "      <td>2.884653</td>\n",
       "      <td>2.884693</td>\n",
       "    </tr>\n",
       "    <tr>\n",
       "      <th>biases__2</th>\n",
       "      <td>-0.770181</td>\n",
       "      <td>0.000047</td>\n",
       "      <td>6.673282e-07</td>\n",
       "      <td>-0.770276</td>\n",
       "      <td>-0.770090</td>\n",
       "    </tr>\n",
       "    <tr>\n",
       "      <th>biases__3</th>\n",
       "      <td>1.042450</td>\n",
       "      <td>0.000024</td>\n",
       "      <td>3.362275e-07</td>\n",
       "      <td>1.042407</td>\n",
       "      <td>1.042498</td>\n",
       "    </tr>\n",
       "    <tr>\n",
       "      <th>biases__4</th>\n",
       "      <td>1.886640</td>\n",
       "      <td>0.000014</td>\n",
       "      <td>2.125061e-07</td>\n",
       "      <td>1.886613</td>\n",
       "      <td>1.886667</td>\n",
       "    </tr>\n",
       "    <tr>\n",
       "      <th>act_out__0</th>\n",
       "      <td>0.367611</td>\n",
       "      <td>0.000062</td>\n",
       "      <td>9.452820e-07</td>\n",
       "      <td>0.367492</td>\n",
       "      <td>0.367739</td>\n",
       "    </tr>\n",
       "    <tr>\n",
       "      <th>act_out__1</th>\n",
       "      <td>-0.975120</td>\n",
       "      <td>0.000044</td>\n",
       "      <td>6.303268e-07</td>\n",
       "      <td>-0.975207</td>\n",
       "      <td>-0.975037</td>\n",
       "    </tr>\n",
       "    <tr>\n",
       "      <th>act_out__2</th>\n",
       "      <td>-1.002447</td>\n",
       "      <td>0.000038</td>\n",
       "      <td>5.295059e-07</td>\n",
       "      <td>-1.002520</td>\n",
       "      <td>-1.002372</td>\n",
       "    </tr>\n",
       "    <tr>\n",
       "      <th>act_out__3</th>\n",
       "      <td>-0.605988</td>\n",
       "      <td>0.000036</td>\n",
       "      <td>4.984611e-07</td>\n",
       "      <td>-0.606061</td>\n",
       "      <td>-0.605921</td>\n",
       "    </tr>\n",
       "    <tr>\n",
       "      <th>act_out__4</th>\n",
       "      <td>-0.071755</td>\n",
       "      <td>0.000036</td>\n",
       "      <td>4.938191e-07</td>\n",
       "      <td>-0.071826</td>\n",
       "      <td>-0.071685</td>\n",
       "    </tr>\n",
       "    <tr>\n",
       "      <th>act_out__5</th>\n",
       "      <td>0.486875</td>\n",
       "      <td>0.000037</td>\n",
       "      <td>5.028621e-07</td>\n",
       "      <td>0.486806</td>\n",
       "      <td>0.486952</td>\n",
       "    </tr>\n",
       "    <tr>\n",
       "      <th>act_out__6</th>\n",
       "      <td>0.998613</td>\n",
       "      <td>0.000038</td>\n",
       "      <td>5.115605e-07</td>\n",
       "      <td>0.998539</td>\n",
       "      <td>0.998685</td>\n",
       "    </tr>\n",
       "  </tbody>\n",
       "</table>\n",
       "</div>"
      ],
      "text/plain": [
       "                mean        sd      mc_error   hpd_2.5  hpd_97.5\n",
       "weights__0 -0.826211  0.000008  1.018971e-07 -0.826226 -0.826196\n",
       "weights__1  2.713135  0.000010  1.212497e-07  2.713115  2.713154\n",
       "weights__2 -0.303548  0.000033  4.867172e-07 -0.303617 -0.303486\n",
       "weights__3  0.802772  0.000031  4.773872e-07  0.802708  0.802830\n",
       "weights__4 -1.768240  0.000019  2.769123e-07 -1.768278 -1.768203\n",
       "weights__5 -2.804106  0.000015  2.230957e-07 -2.804135 -2.804076\n",
       "weights__6 -0.635559  0.000020  2.591005e-07 -0.635599 -0.635519\n",
       "weights__7  0.802554  0.000013  1.714310e-07  0.802529  0.802581\n",
       "biases__0   0.440637  0.000009  1.365081e-07  0.440620  0.440656\n",
       "biases__1   2.884674  0.000010  1.642784e-07  2.884653  2.884693\n",
       "biases__2  -0.770181  0.000047  6.673282e-07 -0.770276 -0.770090\n",
       "biases__3   1.042450  0.000024  3.362275e-07  1.042407  1.042498\n",
       "biases__4   1.886640  0.000014  2.125061e-07  1.886613  1.886667\n",
       "act_out__0  0.367611  0.000062  9.452820e-07  0.367492  0.367739\n",
       "act_out__1 -0.975120  0.000044  6.303268e-07 -0.975207 -0.975037\n",
       "act_out__2 -1.002447  0.000038  5.295059e-07 -1.002520 -1.002372\n",
       "act_out__3 -0.605988  0.000036  4.984611e-07 -0.606061 -0.605921\n",
       "act_out__4 -0.071755  0.000036  4.938191e-07 -0.071826 -0.071685\n",
       "act_out__5  0.486875  0.000037  5.028621e-07  0.486806  0.486952\n",
       "act_out__6  0.998613  0.000038  5.115605e-07  0.998539  0.998685"
      ]
     },
     "execution_count": 313,
     "metadata": {},
     "output_type": "execute_result"
    }
   ],
   "source": [
    "trace_3 = approx_3.sample(draws=5000)\n",
    "pm.summary(trace_3)"
   ]
  },
  {
   "cell_type": "code",
   "execution_count": 314,
   "metadata": {},
   "outputs": [
    {
     "name": "stderr",
     "output_type": "stream",
     "text": [
      "100%|██████████| 10000/10000 [00:03<00:00, 2929.37it/s]\n"
     ]
    }
   ],
   "source": [
    "seps_os = test_set\n",
    "seps_os_comp = mapminmax(seps_os, train_set)\n",
    "\n",
    "ann_input.set_value(seps_os_comp)\n",
    "pred_3 = pm.sample_ppc(trace_3, 10000, model=neural_network_3)"
   ]
  },
  {
   "cell_type": "code",
   "execution_count": 315,
   "metadata": {},
   "outputs": [
    {
     "data": {
      "image/png": "[encoded data removed]",
      "text/plain": [
       "<matplotlib.figure.Figure at 0x11c42c4a8>"
      ]
     },
     "metadata": {},
     "output_type": "display_data"
    }
   ],
   "source": [
    "data_pred = pred_3['out']\n",
    "\n",
    "y_ests = []\n",
    "y_stds = []\n",
    "for n in range(seps_os.shape[0]):\n",
    "    y_est = np.mean(data_pred[:,n])\n",
    "    y_std = np.std(data_pred[:,n])\n",
    "    \n",
    "    y_ests.append(y_est)\n",
    "    y_stds.append(y_std)\n",
    "[y_ests, fac_min] = mapminmax_rev(np.array(y_ests), train_ens)\n",
    "y_stds = fac_min*np.array(y_stds)\n",
    "\n",
    "mult = 1\n",
    "\n",
    "fig, ax = plt.subplots(1,1)\n",
    "\n",
    "ax.plot(train_set, train_ens, 'kx', label='training points')\n",
    "ax.plot(test_set, test_ens, label='correct values')\n",
    "ax.plot(seps_os, y_ests, 'b',label='machine learning estimate')\n",
    "ax.fill_between(seps_os, y_ests - mult*y_stds, y_ests + mult*y_stds, color='red', alpha=0.3, label='error bars')\n",
    "plt.legend()\n",
    "plt.show()"
   ]
  },
  {
   "cell_type": "code",
   "execution_count": 316,
   "metadata": {},
   "outputs": [
    {
     "data": {
      "image/png": "[encoded data removed]",
      "text/plain": [
       "<matplotlib.figure.Figure at 0x124347fd0>"
      ]
     },
     "metadata": {},
     "output_type": "display_data"
    }
   ],
   "source": [
    "mult = 1\n",
    "err = np.abs(y_ests-test_ens)\n",
    "plt.plot(test_set, np.abs(y_ests-test_ens))\n",
    "plt.fill_between(test_set, err - mult*y_stds, err + mult*y_stds, color='red', alpha=0.3, label='error bars')\n",
    "plt.yscale('log')\n",
    "\n",
    "plt.show()"
   ]
  },
  {
   "cell_type": "code",
   "execution_count": 317,
   "metadata": {},
   "outputs": [
    {
     "data": {
      "text/plain": [
       "0.3195618656245678"
      ]
     },
     "execution_count": 317,
     "metadata": {},
     "output_type": "execute_result"
    }
   ],
   "source": [
    "np.mean(err)/0.043"
   ]
  },
  {
   "cell_type": "code",
   "execution_count": 296,
   "metadata": {},
   "outputs": [
    {
     "data": {
      "text/plain": [
       "array([0.00334143, 0.00328801, 0.00327339, 0.00322013, 0.00318249,\n",
       "       0.00314375, 0.00312312, 0.00307188, 0.00304237, 0.00298283,\n",
       "       0.00292703, 0.00292672, 0.00286   , 0.00285501, 0.00281112,\n",
       "       0.00276421, 0.00275519, 0.00272318, 0.00268004, 0.00265723,\n",
       "       0.00261984, 0.00263085, 0.00262698, 0.00258009, 0.00256536,\n",
       "       0.00254317, 0.00252904, 0.00251623, 0.00254046, 0.00252167,\n",
       "       0.00247993, 0.00248612, 0.0024972 , 0.00248054, 0.00248902,\n",
       "       0.00247751, 0.00244894, 0.00245999, 0.00248032, 0.00243961,\n",
       "       0.00242106, 0.00242546, 0.00243256, 0.0024153 , 0.00240354,\n",
       "       0.00242905, 0.00238833, 0.00241225, 0.00239569, 0.00240343,\n",
       "       0.00240706, 0.00240477, 0.00236567, 0.00239129, 0.0023741 ,\n",
       "       0.0023499 , 0.00236782, 0.00235863, 0.00236832, 0.00235587,\n",
       "       0.00235873, 0.00235709, 0.00232455, 0.0023603 , 0.00236205,\n",
       "       0.00233487, 0.00234399, 0.00234883, 0.00232405, 0.00234489,\n",
       "       0.00231727, 0.00232346, 0.0023413 , 0.00234944, 0.00234964,\n",
       "       0.00232979, 0.00232706, 0.00231788, 0.0023474 , 0.00234613,\n",
       "       0.00235057, 0.00232221, 0.00233622, 0.00232463, 0.0023468 ,\n",
       "       0.00236355, 0.0023591 , 0.00233587, 0.00236692, 0.00237319,\n",
       "       0.00234888, 0.0023678 , 0.0023631 , 0.0023689 , 0.00238565,\n",
       "       0.0023869 , 0.00238059, 0.00239197, 0.00237746, 0.00240903,\n",
       "       0.00241174, 0.00241301, 0.00241561, 0.0024266 , 0.00245191,\n",
       "       0.00244415, 0.00247151, 0.0024509 , 0.00244706, 0.00247155,\n",
       "       0.00246631, 0.00248645, 0.00248748, 0.0024886 , 0.00251911,\n",
       "       0.00248255, 0.0025166 , 0.00251125, 0.00251922, 0.00254764,\n",
       "       0.00256325, 0.00255508, 0.00257052, 0.00254665, 0.00258769,\n",
       "       0.00260763, 0.00258829, 0.00257359, 0.00259498, 0.00261975,\n",
       "       0.00261095, 0.0026321 , 0.00263077, 0.00264599, 0.00264869,\n",
       "       0.00264885, 0.00265097, 0.00265133, 0.00265001, 0.00266308,\n",
       "       0.00264778, 0.00270135, 0.00268225])"
      ]
     },
     "execution_count": 296,
     "metadata": {},
     "output_type": "execute_result"
    }
   ],
   "source": [
    "y_stds"
   ]
  },
  {
   "cell_type": "markdown",
   "metadata": {},
   "source": [
    "# Create Gaussian process."
   ]
  },
  {
   "cell_type": "code",
   "execution_count": 66,
   "metadata": {},
   "outputs": [
    {
     "name": "stderr",
     "output_type": "stream",
     "text": [
      "Multiprocess sampling (2 chains in 2 jobs)\n",
      "CompoundStep\n",
      ">Metropolis: [sigma_log__]\n",
      ">Metropolis: [eta_log__]\n",
      ">Metropolis: [rho_log__]\n",
      "100%|██████████| 12000/12000 [00:10<00:00, 1171.03it/s]\n",
      "The number of effective samples is smaller than 10% for some parameters.\n"
     ]
    }
   ],
   "source": [
    "# create gaussian process model\n",
    "with pm.Model() as en_model:\n",
    "\n",
    "    # set hyperparameters for covariance\n",
    "    rho = pm.HalfCauchy('rho', beta = 50)\n",
    "    eta = pm.HalfCauchy('eta', beta=1)\n",
    "    sigma = pm.HalfCauchy('sigma', beta=0.5)\n",
    "    \n",
    "    # define covariance function\n",
    "    K = (eta**2) * pm.gp.cov.ExpQuad(1, rho) \n",
    "    \n",
    "    # create gaussian process model\n",
    "    lgb_gp = pm.gp.Marginal(cov_func=K)\n",
    "    y_obs = lgb_gp.marginal_likelihood('y_obs', X=train_set.reshape(-1,1), y=train_ens, noise=0, is_observed=True)\n",
    "    \n",
    "    # run the sampler\n",
    "    step=pm.Metropolis()\n",
    "    lgb_gp_trace = pm.sample(10000, tune=2000, step=step)"
   ]
  },
  {
   "cell_type": "code",
   "execution_count": 67,
   "metadata": {},
   "outputs": [
    {
     "name": "stderr",
     "output_type": "stream",
     "text": [
      "100%|██████████| 2000/2000 [00:14<00:00, 133.77it/s]\n"
     ]
    }
   ],
   "source": [
    "# get posterior predictive samples\n",
    "x_pred = np.array(seps)\n",
    "samp_size = 2000\n",
    "with en_model:\n",
    "    func_pred = lgb_gp.conditional('func_pred', Xnew = x_pred.reshape(-1,1), pred_noise=False)\n",
    "    data_pred = lgb_gp.conditional('data_pred', Xnew = x_pred.reshape(-1,1), pred_noise=True)\n",
    "    gp_samples = pm.sample_ppc(lgb_gp_trace, vars=[func_pred, data_pred], samples=2000)"
   ]
  },
  {
   "cell_type": "code",
   "execution_count": 68,
   "metadata": {},
   "outputs": [
    {
     "data": {
      "image/png": "[encoded data removed]",
      "text/plain": [
       "<matplotlib.figure.Figure at 0x146ad6780>"
      ]
     },
     "metadata": {},
     "output_type": "display_data"
    }
   ],
   "source": [
    "# plot mean predictions with 2 sigma envelope\n",
    "\n",
    "# plot data\n",
    "fig, ax = plt.subplots(1,1)\n",
    "ax.plot(train_set, train_ens,'ok',label='data')\n",
    "\n",
    "# plot linear model and posterior std\n",
    "func = gp_samples['func_pred'].mean(0)\n",
    "mu = gp_samples['data_pred'].mean(0)\n",
    "sig = 2 * gp_samples['data_pred'].std(0)\n",
    "\n",
    "ax.plot(x_pred, func, '-k',label='GP model')\n",
    "ax.fill_between(x_pred, mu - sig, mu + sig, color='lightgray',label='2 sigma post envelope')\n",
    "\n",
    "ax.set_xlabel('age')\n",
    "ax.set_ylabel('LGBTQ ratio')\n",
    "ax.set_xlim(0.3,2)\n",
    "ax.set_ylim(-35,-20)\n",
    "plt.legend()\n",
    "\n",
    "plt.show()"
   ]
  },
  {
   "cell_type": "code",
   "execution_count": 69,
   "metadata": {},
   "outputs": [
    {
     "data": {
      "image/png": "[encoded data removed]",
      "text/plain": [
       "<matplotlib.figure.Figure at 0x146a355f8>"
      ]
     },
     "metadata": {},
     "output_type": "display_data"
    }
   ],
   "source": [
    "# plot data\n",
    "fig, ax = plt.subplots(1,1)\n",
    "\n",
    "errs = np.array(ens) - func\n",
    "ax.plot(x_pred, errs, '-k',label='GP model')\n",
    "ax.fill_between(x_pred, errs - sig, errs + sig, color='lightgray',label='2 sigma post envelope')\n",
    "ax.axhline(0,color='black',ls=':')\n",
    "\n",
    "plt.show()"
   ]
  },
  {
   "cell_type": "code",
   "execution_count": 72,
   "metadata": {},
   "outputs": [
    {
     "data": {
      "text/plain": [
       "0.24034079385617016"
      ]
     },
     "execution_count": 72,
     "metadata": {},
     "output_type": "execute_result"
    }
   ],
   "source": [
    "np.mean(np.abs(errs))/0.034"
   ]
  },
  {
   "cell_type": "code",
   "execution_count": null,
   "metadata": {
    "collapsed": true
   },
   "outputs": [],
   "source": []
  }
 ],
 "metadata": {
  "language_info": {
   "codemirror_mode": {
    "name": "ipython",
    "version": 3
   },
   "file_extension": ".py",
   "mimetype": "text/x-python",
   "name": "python",
   "nbconvert_exporter": "python",
   "pygments_lexer": "ipython3",
   "version": "3.6.3"
  }
 },
 "nbformat": 4,
 "nbformat_minor": 2
}
