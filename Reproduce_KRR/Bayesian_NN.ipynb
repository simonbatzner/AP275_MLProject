{
 "cells": [
  {
   "cell_type": "code",
   "execution_count": 1,
   "metadata": {
    "collapsed": true
   },
   "outputs": [],
   "source": [
    "import os\n",
    "import numpy as np\n",
    "import matplotlib.pyplot as plt\n",
    "from KRR_reproduce import *\n",
    "from generate_H2_data import *"
   ]
  },
  {
   "cell_type": "markdown",
   "metadata": {},
   "source": [
    "## Read in dataset."
   ]
  },
  {
   "cell_type": "code",
   "execution_count": 2,
   "metadata": {},
   "outputs": [
    {
     "name": "stdout",
     "output_type": "stream",
     "text": [
      "The minimum energy is -31.74695245487133 eV. The equilibrium separation is 0.7483221476510067 Angstrom.\n"
     ]
    }
   ],
   "source": [
    "# read in calculation data (computed elsewhere)\n",
    "str_pref = os.environ['PROJDIR']+'/data/H2_DFT/temp_data/store/'\n",
    "\n",
    "# read in the calculation data\n",
    "sim_no = 150\n",
    "ens = []\n",
    "seps= []\n",
    "fours = []\n",
    "\n",
    "min_en = 0\n",
    "eq_sep = 0\n",
    "\n",
    "for n in range(sim_no):\n",
    "    # load separation, energy, and density\n",
    "    sep = np.load(str_pref+'sep_store/sep'+str(n)+'.npy')\n",
    "    en = np.load(str_pref+'en_store/en'+str(n)+'.npy')\n",
    "    four = np.load(str_pref+'four_store/four'+str(n)+'.npy')\n",
    "\n",
    "    # put results in a nicer format\n",
    "    sep = np.reshape(sep,(1,))[0]\n",
    "    en = np.reshape(en,(1,))[0]['energy']\n",
    "    four = np.real(four)\n",
    "    \n",
    "    # get min energy and equilibrium separation\n",
    "    if en < min_en:\n",
    "        min_en = en\n",
    "        eq_sep = sep\n",
    "\n",
    "    # store quantities\n",
    "    ens.append(en)\n",
    "    seps.append(sep)\n",
    "    fours.append(four)\n",
    "\n",
    "print('The minimum energy is '+str(min_en)+' eV. The equilibrium separation is '+str(eq_sep)+' Angstrom.')"
   ]
  },
  {
   "cell_type": "code",
   "execution_count": 4,
   "metadata": {},
   "outputs": [
    {
     "data": {
      "image/png": "[encoded data removed]",
      "text/plain": [
       "<matplotlib.figure.Figure at 0x105cb4b70>"
      ]
     },
     "metadata": {},
     "output_type": "display_data"
    }
   ],
   "source": [
    "plt.figure()\n",
    "plt.plot(seps, ens, '.')\n",
    "plt.show()"
   ]
  },
  {
   "cell_type": "markdown",
   "metadata": {},
   "source": [
    "## Create Bayesian neural network."
   ]
  },
  {
   "cell_type": "code",
   "execution_count": 6,
   "metadata": {},
   "outputs": [],
   "source": [
    "import pymc3 as pm\n",
    "import pandas as pd\n",
    "import numpy as np\n",
    "import matplotlib.pyplot as plt\n",
    "import sys\n",
    "import torch\n",
    "import torch.nn as nn\n",
    "from torch.nn import functional as fn\n",
    "from torch.autograd import Variable\n",
    "import torch.utils.data\n",
    "import theano\n",
    "import theano.tensor as t"
   ]
  },
  {
   "cell_type": "code",
   "execution_count": null,
   "metadata": {
    "collapsed": true
   },
   "outputs": [],
   "source": []
  }
 ],
 "metadata": {
  "kernelspec": {
   "display_name": "Python 3",
   "language": "python",
   "name": "python3"
  },
  "language_info": {
   "codemirror_mode": {
    "name": "ipython",
    "version": 3
   },
   "file_extension": ".py",
   "mimetype": "text/x-python",
   "name": "python",
   "nbconvert_exporter": "python",
   "pygments_lexer": "ipython3",
   "version": "3.6.3"
  }
 },
 "nbformat": 4,
 "nbformat_minor": 2
}
