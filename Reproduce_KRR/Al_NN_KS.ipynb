{
 "cells": [
  {
   "cell_type": "markdown",
   "metadata": {},
   "source": [
    "# <div style=\"text-align: center\">Neural Networks - Kohn-Sham Mapping</div> \n",
    " \n",
    "## <div style=\"text-align: center\">Jon Vandermause, Steven Torrisi, Simon Batzner</div> "
   ]
  },
  {
   "cell_type": "markdown",
   "metadata": {},
   "source": [
    "## <div style=\"text-align: center\">Gaussian Potential-to-Energy </div> "
   ]
  },
  {
   "cell_type": "code",
   "execution_count": 72,
   "metadata": {},
   "outputs": [],
   "source": [
    "from __future__ import absolute_import\n",
    "from __future__ import division\n",
    "from __future__ import print_function\n",
    "\n",
    "import os\n",
    "\n",
    "import numpy as np\n",
    "import matplotlib.pyplot as plt\n",
    "import argparse\n",
    "\n",
    "from keras.models import Sequential\n",
    "from keras.layers import Dropout\n",
    "from keras.layers import Dense\n",
    "from sklearn.metrics import mean_squared_error\n",
    "from keras import optimizers\n",
    "from keras.callbacks import TensorBoard, EarlyStopping\n",
    "from sklearn.model_selection import train_test_split\n",
    "from math import sqrt\n",
    "from KRR_reproduce import *\n",
    "\n",
    "from IPython.core.interactiveshell import InteractiveShell\n",
    "InteractiveShell.ast_node_interactivity = \"all\""
   ]
  },
  {
   "cell_type": "markdown",
   "metadata": {},
   "source": [
    "## Parameters"
   ]
  },
  {
   "cell_type": "code",
   "execution_count": 103,
   "metadata": {},
   "outputs": [],
   "source": [
    "SEED = 42\n",
    "ev2kcal = 1/0.043       # conversion factor\n",
    "EPOCHS = 50000          # maximum number of training epochs\n",
    "OPTIMIZER = 'sgd'\n",
    "LEARNING_RATE = 0.01   # larger means faster learning, more aggressive, set this in [0.001 - 0.003]\n",
    "GRID_SPACE = 0.6        # instead of 0.08 in the paper -- makes it faster and the input much smaller\n",
    "DECAY = 0.0             # decay learning rate as training advances\n",
    "SIM_NO = 201            # total number of data points\n",
    "M = 15               # number of training points\n",
    "ev2kcal = 1/0.043       # conversion factor\n",
    "\n",
    "HIDDEN = (10, 10)\n",
    "    \n",
    "# path to data\n",
    "os.environ['PROJDIR'] = '/Users/simonbatzner1/Desktop/Research/Research_Code/ML-electron-density'\n",
    "STR_PREF = os.environ['PROJDIR']+'/Aluminium_Dataset/Store/'\n",
    "\n",
    "# ignore tf warnings\n",
    "os.environ['TF_CPP_MIN_LOG_LEVEL'] = '2'"
   ]
  },
  {
   "cell_type": "markdown",
   "metadata": {},
   "source": [
    "## Load data"
   ]
  },
  {
   "cell_type": "code",
   "execution_count": 104,
   "metadata": {},
   "outputs": [],
   "source": [
    "# load MD results\n",
    "MD_pos = np.load(STR_PREF+'MD_positions.npy')\n",
    "MD_ens = np.load(STR_PREF+'MD_energies.npy')"
   ]
  },
  {
   "cell_type": "code",
   "execution_count": 105,
   "metadata": {},
   "outputs": [],
   "source": [
    "pos = []\n",
    "ens = []\n",
    "fours = []\n",
    "\n",
    "for n in range(SIM_NO):\n",
    "    # load arrays\n",
    "    en_curr = np.reshape(np.load(STR_PREF+'en_store/energy'+str(n)+'.npy'),(1))[0]\n",
    "    pos_curr = np.load(STR_PREF+'pos_store/pos'+str(n)+'.npy')\n",
    "    four_curr = np.load(STR_PREF+'four_store/four'+str(n)+'.npy')\n",
    "    \n",
    "    # store arrays\n",
    "    ens.append(en_curr)\n",
    "    pos_curr = pos_curr.flatten()\n",
    "    pos.append(pos_curr)\n",
    "    fours.append(four_curr)\n",
    "\n",
    "# convert to np arrays\n",
    "ens = np.array(ens)\n",
    "pos = np.array(pos)\n",
    "fours = np.array(fours)"
   ]
  },
  {
   "cell_type": "markdown",
   "metadata": {},
   "source": [
    "## Network functions"
   ]
  },
  {
   "cell_type": "code",
   "execution_count": 106,
   "metadata": {},
   "outputs": [],
   "source": [
    "def init_architecture(input_shape, hidden_size, summary, activation='relu'):\n",
    "    \"\"\"\n",
    "    Built Neural Network using Keras\n",
    "\n",
    "    :param input_shape: shape of the input data\n",
    "    :param hidden_size: tuple of number of hidden layers, eg. (30, 30, 40) builds a network with hidden layers 30-30-40\n",
    "    :param summary: boolean, true plots a summary\n",
    "    :param activation: activiation function\n",
    "    :return: keras Sequential model\n",
    "    \"\"\"\n",
    "    model = Sequential()\n",
    "    print(input_shape)\n",
    "\n",
    "    # hidden layers\n",
    "    model.add(Dense(hidden_size[0], input_shape=input_shape, activation=activation))\n",
    "    for layer_size in hidden_size[1:]:\n",
    "        model.add(Dense(layer_size, activation=activation))\n",
    "        model.add(Dropout(0.2))\n",
    "\n",
    "    # output layer\n",
    "    model.add(Dense(1, activation='linear'))\n",
    "\n",
    "    if summary:\n",
    "        model.summary()\n",
    "\n",
    "    return model"
   ]
  },
  {
   "cell_type": "code",
   "execution_count": 107,
   "metadata": {},
   "outputs": [],
   "source": [
    "def train(model, training_data, training_labels, validation_data, validation_labels, batchsize=64):\n",
    "    \"\"\"\"\n",
    "    Train Neural Network model\n",
    "    \"\"\"\n",
    "    history = model.fit(training_data, training_labels, validation_data=(validation_data, validation_labels),\n",
    "                        batch_size=batchsize,\n",
    "                        verbose=0, shuffle=True)\n",
    "    return history"
   ]
  },
  {
   "cell_type": "markdown",
   "metadata": {},
   "source": [
    "## Setup training and test data"
   ]
  },
  {
   "cell_type": "code",
   "execution_count": 108,
   "metadata": {},
   "outputs": [
    {
     "name": "stdout",
     "output_type": "stream",
     "text": [
      "(15, 12)\n",
      "(186, 12)\n",
      "(186,)\n"
     ]
    }
   ],
   "source": [
    "data = pos\n",
    "labels = ens\n",
    "\n",
    "# define training and test indices\n",
    "train_indices = [int(n) for n in np.round(np.linspace(0,200,M))]\n",
    "test_indices = [n for n in range(201) if n not in train_indices]\n",
    "\n",
    "if len(train_indices) != M: \n",
    "    print(\"Size of training set doesn't match the M specified\")\n",
    "    \n",
    "x_train = np.array([data[n] for n in train_indices])\n",
    "x_test = np.array([data[n] for n in test_indices])\n",
    "y_train = np.array([labels[n] for n in train_indices])\n",
    "y_test =np.array([labels[n] for n in test_indices])\n",
    "\n",
    "# convert to np arrays\n",
    "x_train = np.array(x_train)\n",
    "x_test = np.array(x_test)\n",
    "y_train = np.array(y_train)\n",
    "y_test = np.array(y_test)\n",
    "\n",
    "print(x_train.shape)\n",
    "print(x_test.shape)\n",
    "print(y_test.shape)"
   ]
  },
  {
   "cell_type": "markdown",
   "metadata": {},
   "source": [
    "## Build model and train"
   ]
  },
  {
   "cell_type": "code",
   "execution_count": 109,
   "metadata": {},
   "outputs": [
    {
     "name": "stdout",
     "output_type": "stream",
     "text": [
      "(12,)\n",
      "_________________________________________________________________\n",
      "Layer (type)                 Output Shape              Param #   \n",
      "=================================================================\n",
      "dense_28 (Dense)             (None, 10)                130       \n",
      "_________________________________________________________________\n",
      "dense_29 (Dense)             (None, 10)                110       \n",
      "_________________________________________________________________\n",
      "dropout_8 (Dropout)          (None, 10)                0         \n",
      "_________________________________________________________________\n",
      "dense_30 (Dense)             (None, 1)                 11        \n",
      "=================================================================\n",
      "Total params: 251\n",
      "Trainable params: 251\n",
      "Non-trainable params: 0\n",
      "_________________________________________________________________\n",
      "Epoch 01015: early stopping\n"
     ]
    }
   ],
   "source": [
    "# build neural net\n",
    "model = init_architecture(input_shape=data[0].shape, hidden_size=tuple(HIDDEN), summary=True,\n",
    "                          activation='tanh')\n",
    "\n",
    "# pick optimizer\n",
    "adam = optimizers.Adam(lr=LEARNING_RATE, decay=DECAY)\n",
    "sgd = optimizers.SGD(lr=0.01, momentum=0.9, nesterov=True)\n",
    "\n",
    "if OPTIMIZER == 'adam': \n",
    "    model.compile(optimizer=adam, loss='mean_squared_error', metrics=['mse'])\n",
    "elif OPTIMIZER == 'sgd': \n",
    "    model.compile(optimizer=sgd, loss='mean_squared_error', metrics=['mse'])\n",
    "else: \n",
    "    \"Default optimizer ADAM being used...\"\n",
    "    model.compile(optimizer=adam, loss='mean_squared_error', metrics=['mse'])\n",
    "    \n",
    "# Early stopping on validation error\n",
    "es = EarlyStopping(monitor='val_loss',\n",
    "                   min_delta=0,\n",
    "                   patience=500,\n",
    "                   verbose=10, mode='auto')\n",
    "\n",
    "# Log graph and gradients\n",
    "tb = TensorBoard(log_dir='./logs', histogram_freq=0, batch_size=1, write_graph=True, write_grads=True,\n",
    "                 write_images=True, embeddings_freq=0, embeddings_layer_names=None, embeddings_metadata=None)\n",
    "\n",
    "# Save training history\n",
    "history = model.fit(x_train, y_train, epochs=EPOCHS, verbose=0, validation_split=0.2, callbacks=[es, tb])"
   ]
  },
  {
   "cell_type": "markdown",
   "metadata": {},
   "source": [
    "## Results"
   ]
  },
  {
   "cell_type": "code",
   "execution_count": 110,
   "metadata": {},
   "outputs": [
    {
     "name": "stdout",
     "output_type": "stream",
     "text": [
      "\n",
      "\n",
      "MAE on training data in [eV]: \t1.2827136228624954\n",
      "MAE on test data in [eV]: \t1.7901927024203397\n",
      "\n",
      "\n",
      "\n",
      "Prediction on test data:\n",
      "\n",
      "\tPred   |   True\n",
      "\n",
      "[[-227.83833313 -227.87495202]\n",
      " [-227.83833313 -227.83845541]\n",
      " [-227.83833313 -227.83385737]\n",
      " [-227.83833313 -227.86424202]\n",
      " [-227.83833313 -227.84035463]\n",
      " [-227.83833313 -227.76541689]\n",
      " [-227.83833313 -227.76301767]\n",
      " [-227.83833313 -227.82810937]\n",
      " [-227.83833313 -227.84445525]\n",
      " [-227.83833313 -227.78635362]\n",
      " [-227.83833313 -227.75901201]\n",
      " [-227.83833313 -227.80722149]\n",
      " [-227.83833313 -227.85335868]\n",
      " [-227.83833313 -227.82986409]\n",
      " [-227.83833313 -227.83209897]\n",
      " [-227.83833313 -227.85556294]\n",
      " [-227.83833313 -227.87406438]\n",
      " [-227.83833313 -227.86525156]\n",
      " [-227.83833313 -227.81552219]\n",
      " [-227.83833313 -227.76311957]\n",
      " [-227.83833313 -227.79972094]\n",
      " [-227.83833313 -227.8249323 ]\n",
      " [-227.83833313 -227.74434902]\n",
      " [-227.83833313 -227.71942569]\n",
      " [-227.83833313 -227.77464618]\n",
      " [-227.83833313 -227.7762786 ]\n",
      " [-227.83833313 -227.75392988]\n",
      " [-227.83833313 -227.78391792]\n",
      " [-227.83833313 -227.8164603 ]\n",
      " [-227.83833313 -227.83410785]\n",
      " [-227.83833313 -227.82415555]\n",
      " [-227.83833313 -227.80953772]\n",
      " [-227.83833313 -227.81528042]\n",
      " [-227.83833313 -227.82756419]\n",
      " [-227.83833313 -227.78245341]\n",
      " [-227.83833313 -227.66932516]\n",
      " [-227.83833313 -227.6903231 ]\n",
      " [-227.83833313 -227.74939999]\n",
      " [-227.83833313 -227.74832977]\n",
      " [-227.83833313 -227.73963532]\n",
      " [-227.83833313 -227.78331478]\n",
      " [-227.83833313 -227.83231189]\n",
      " [-227.83833313 -227.82415936]\n",
      " [-227.83833313 -227.78522652]\n",
      " [-227.83833313 -227.78009445]\n",
      " [-227.83833313 -227.81694331]\n",
      " [-227.83833313 -227.80386782]\n",
      " [-227.83833313 -227.63110988]\n",
      " [-227.83833313 -227.60663581]\n",
      " [-227.83833313 -227.7136732 ]\n",
      " [-227.83833313 -227.64400087]\n",
      " [-227.83833313 -227.6240639 ]\n",
      " [-227.83833313 -227.72907567]\n",
      " [-227.83833313 -227.7818353 ]\n",
      " [-227.83833313 -227.73903803]\n",
      " [-227.83833313 -227.75683891]\n",
      " [-227.83833313 -227.80330182]\n",
      " [-227.83833313 -227.78045242]\n",
      " [-227.83833313 -227.68853137]\n",
      " [-227.83833313 -227.6518685 ]\n",
      " [-227.83833313 -227.65579647]\n",
      " [-227.83833313 -227.54541507]\n",
      " [-227.83833313 -227.59816504]\n",
      " [-227.83833313 -227.59102736]\n",
      " [-227.83833313 -227.64239812]\n",
      " [-227.83833313 -227.75439723]\n",
      " [-227.83833313 -227.74515855]\n",
      " [-227.83833313 -227.76570275]\n",
      " [-227.83833313 -227.81668439]\n",
      " [-227.83833313 -227.83307341]\n",
      " [-227.83833313 -227.79388274]\n",
      " [-227.83833313 -227.76387659]\n",
      " [-227.83833313 -227.79523378]\n",
      " [-227.83833313 -227.83176549]\n",
      " [-227.83833313 -227.70170087]\n",
      " [-227.83833313 -227.60566205]\n",
      " [-227.83833313 -227.74219374]\n",
      " [-227.83833313 -227.75924562]\n",
      " [-227.83833313 -227.7368716 ]\n",
      " [-227.83833313 -227.77231907]\n",
      " [-227.83833313 -227.77740488]\n",
      " [-227.83833313 -227.76749938]\n",
      " [-227.83833313 -227.77797509]\n",
      " [-227.83833313 -227.77281091]\n",
      " [-227.83833313 -227.73161245]\n",
      " [-227.83833313 -227.69537204]\n",
      " [-227.83833313 -227.72241758]\n",
      " [-227.83833313 -227.67825607]\n",
      " [-227.83833313 -227.46722272]\n",
      " [-227.83833313 -227.57859379]\n",
      " [-227.83833313 -227.62849786]\n",
      " [-227.83833313 -227.64501572]\n",
      " [-227.83833313 -227.76904934]\n",
      " [-227.83833313 -227.77296438]\n",
      " [-227.83833313 -227.75188372]\n",
      " [-227.83833313 -227.8062997 ]\n",
      " [-227.83833313 -227.84136948]\n",
      " [-227.83833313 -227.79899508]\n",
      " [-227.83833313 -227.770857  ]\n",
      " [-227.83833313 -227.79718021]\n",
      " [-227.83833313 -227.76255725]\n",
      " [-227.83833313 -227.67049851]\n",
      " [-227.83833313 -227.67706435]\n",
      " [-227.83833313 -227.72180437]\n",
      " [-227.83833313 -227.65008901]\n",
      " [-227.83833313 -227.71373239]\n",
      " [-227.83833313 -227.80722135]\n",
      " [-227.83833313 -227.77760515]\n",
      " [-227.83833313 -227.78448147]\n",
      " [-227.83833313 -227.8092418 ]\n",
      " [-227.83833313 -227.7940426 ]\n",
      " [-227.83833313 -227.74192679]\n",
      " [-227.83833313 -227.74099371]\n",
      " [-227.83833313 -227.74581027]\n",
      " [-227.83833313 -227.61540618]\n",
      " [-227.83833313 -227.60817747]\n",
      " [-227.83833313 -227.75750899]\n",
      " [-227.83833313 -227.76606208]\n",
      " [-227.83833313 -227.75535466]\n",
      " [-227.83833313 -227.80430348]\n",
      " [-227.83833313 -227.77253853]\n",
      " [-227.83833313 -227.79589638]\n",
      " [-227.83833313 -227.8436034 ]\n",
      " [-227.83833313 -227.83893433]\n",
      " [-227.83833313 -227.80470362]\n",
      " [-227.83833313 -227.80113621]\n",
      " [-227.83833313 -227.82999512]\n",
      " [-227.83833313 -227.84313822]\n",
      " [-227.83833313 -227.83189815]\n",
      " [-227.83833313 -227.81880497]\n",
      " [-227.83833313 -227.80971678]\n",
      " [-227.83833313 -227.7700631 ]\n",
      " [-227.83833313 -227.69899456]\n",
      " [-227.83833313 -227.73917599]\n",
      " [-227.83833313 -227.67917201]\n",
      " [-227.83833313 -227.65594817]\n",
      " [-227.83833313 -227.73018848]\n",
      " [-227.83833313 -227.77663656]\n",
      " [-227.83833313 -227.79776648]\n",
      " [-227.83833313 -227.82202027]\n",
      " [-227.83833313 -227.84593215]\n",
      " [-227.83833313 -227.83893011]\n",
      " [-227.83833313 -227.80841879]\n",
      " [-227.83833313 -227.79509759]\n",
      " [-227.83833313 -227.8118677 ]\n",
      " [-227.83833313 -227.80486825]\n",
      " [-227.83833313 -227.72566934]\n",
      " [-227.83833313 -227.7811225 ]\n",
      " [-227.83833313 -227.73483945]\n",
      " [-227.83833313 -227.67493329]\n",
      " [-227.83833313 -227.7579573 ]\n",
      " [-227.83833313 -227.82825917]\n",
      " [-227.83833313 -227.81211968]\n",
      " [-227.83833313 -227.79896242]\n",
      " [-227.83833313 -227.81689691]\n",
      " [-227.83833313 -227.84215562]\n",
      " [-227.83833313 -227.83342919]\n",
      " [-227.83833313 -227.77679384]\n",
      " [-227.83833313 -227.72153199]\n",
      " [-227.83833313 -227.74999484]\n",
      " [-227.83833313 -227.6604673 ]\n",
      " [-227.83833313 -227.64288166]\n",
      " [-227.83833313 -227.74966558]\n",
      " [-227.83833313 -227.74161155]\n",
      " [-227.83833313 -227.68660426]\n",
      " [-227.83833313 -227.76602235]\n",
      " [-227.83833313 -227.83627088]\n",
      " [-227.83833313 -227.82256096]\n",
      " [-227.83833313 -227.8168712 ]\n",
      " [-227.83833313 -227.84229535]\n",
      " [-227.83833313 -227.8644378 ]\n",
      " [-227.83833313 -227.86762984]\n",
      " [-227.83833313 -227.85222057]\n",
      " [-227.83833313 -227.84300502]\n",
      " [-227.83833313 -227.84716877]\n",
      " [-227.83833313 -227.81685378]\n",
      " [-227.83833313 -227.78406663]\n",
      " [-227.83833313 -227.79993088]\n",
      " [-227.83833313 -227.81889831]\n",
      " [-227.83833313 -227.74623422]\n",
      " [-227.83833313 -227.7001358 ]\n",
      " [-227.83833313 -227.76402925]\n",
      " [-227.83833313 -227.74794936]\n",
      " [-227.83833313 -227.68148919]\n",
      " [-227.83833313 -227.76540751]\n",
      " [-227.83833313 -227.85324385]]\n"
     ]
    }
   ],
   "source": [
    "from sklearn.metrics import mean_absolute_error\n",
    "# eval on training data\n",
    "y_true_train, y_pred_train = y_train, model.predict(x_train)\n",
    "\n",
    "# eval on test data\n",
    "y_true, y_pred = y_test, model.predict(x_test)\n",
    "\n",
    "# print results\n",
    "print(\"\\n\\nMAE on training data in [eV]: \\t{}\".format(mean_absolute_error(y_true_train, y_pred_train)*ev2kcal))\n",
    "print(\"MAE on test data in [eV]: \\t{}\\n\\n\".format(mean_absolute_error(y_true, y_pred)*ev2kcal))\n",
    "print(\"\\nPrediction on test data:\")\n",
    "print(\"\\n\\tPred   |   True\\n\")\n",
    "print(np.c_[y_pred, y_true])"
   ]
  },
  {
   "cell_type": "code",
   "execution_count": 111,
   "metadata": {},
   "outputs": [
    {
     "name": "stdout",
     "output_type": "stream",
     "text": [
      "dict_keys(['mean_squared_error', 'val_loss', 'val_mean_squared_error', 'loss'])\n"
     ]
    },
    {
     "data": {
      "text/plain": [
       "[<matplotlib.lines.Line2D at 0x1a31d71860>]"
      ]
     },
     "execution_count": 111,
     "metadata": {},
     "output_type": "execute_result"
    },
    {
     "data": {
      "text/plain": [
       "[<matplotlib.lines.Line2D at 0x1a31daacc0>]"
      ]
     },
     "execution_count": 111,
     "metadata": {},
     "output_type": "execute_result"
    },
    {
     "data": {
      "text/plain": [
       "Text(0.5,1,'model loss')"
      ]
     },
     "execution_count": 111,
     "metadata": {},
     "output_type": "execute_result"
    },
    {
     "data": {
      "text/plain": [
       "Text(0,0.5,'loss')"
      ]
     },
     "execution_count": 111,
     "metadata": {},
     "output_type": "execute_result"
    },
    {
     "data": {
      "text/plain": [
       "Text(0.5,0,'epoch')"
      ]
     },
     "execution_count": 111,
     "metadata": {},
     "output_type": "execute_result"
    },
    {
     "data": {
      "text/plain": [
       "<matplotlib.legend.Legend at 0x1a31d9b6d8>"
      ]
     },
     "execution_count": 111,
     "metadata": {},
     "output_type": "execute_result"
    },
    {
     "data": {
      "image/png": "[encoded data removed]",
      "text/plain": [
       "<Figure size 432x288 with 1 Axes>"
      ]
     },
     "metadata": {},
     "output_type": "display_data"
    }
   ],
   "source": [
    "# Plot loss history\n",
    "print(history.history.keys());\n",
    "plt.semilogy(history.history['loss']);\n",
    "plt.semilogy(history.history['val_loss']);\n",
    "plt.title('model loss');\n",
    "plt.ylabel('loss');\n",
    "plt.xlabel('epoch');\n",
    "plt.legend(['train', 'test'], loc='upper left');\n",
    "plt.show()"
   ]
  },
  {
   "cell_type": "code",
   "execution_count": 112,
   "metadata": {},
   "outputs": [
    {
     "data": {
      "image/png": "[encoded data removed]",
      "text/plain": [
       "<Figure size 864x504 with 1 Axes>"
      ]
     },
     "metadata": {},
     "output_type": "display_data"
    }
   ],
   "source": [
    "fig = plt.figure(figsize=(12, 7)); \n",
    "plt.plot(np.linspace(1, SIM_NO, SIM_NO), ens, label = 'DFT Energies'); \n",
    "plt.plot(test_indices, y_pred, 'k.', MarkerSize = 10, mew = 3, label = 'Predicted Energies'); \n",
    "plt.legend(fontsize = 18)\n",
    "plt.xlabel('Sample', fontsize = 18)\n",
    "plt.ylabel('Energy [eV]', fontsize = 18)\n",
    "plt.show(); "
   ]
  },
  {
   "cell_type": "markdown",
   "metadata": {},
   "source": [
    "For comparison, from [1]: \"The MAE that is introduced by the PBE approximation on the H2 data set is 2.3 kcal/mol (compared to exact CI calculations)\"\" \n",
    "\n",
    "[1] Brockherde et al. Bypassing the Kohn-Sham equations with machine learning. Nature Communications 8, 872 (2017)"
   ]
  }
 ],
 "metadata": {
  "kernelspec": {
   "display_name": "Python 3",
   "language": "python",
   "name": "python3"
  },
  "language_info": {
   "codemirror_mode": {
    "name": "ipython",
    "version": 3
   },
   "file_extension": ".py",
   "mimetype": "text/x-python",
   "name": "python",
   "nbconvert_exporter": "python",
   "pygments_lexer": "ipython3",
   "version": "3.5.5"
  }
 },
 "nbformat": 4,
 "nbformat_minor": 2
}
