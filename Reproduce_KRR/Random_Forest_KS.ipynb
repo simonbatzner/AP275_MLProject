{
 "cells": [
  {
   "cell_type": "markdown",
   "metadata": {},
   "source": [
    "# <div style=\"text-align: center\">Random Forests - Kohn-Sham Mapping</div> \n",
    " \n",
    "## <div style=\"text-align: center\">Jon Vandermause, Steven Torrisi, Simon Batzner</div> "
   ]
  },
  {
   "cell_type": "markdown",
   "metadata": {},
   "source": [
    "## <div style=\"text-align: center\">Gaussian Potential-to-Energy </div> "
   ]
  },
  {
   "cell_type": "markdown",
   "metadata": {},
   "source": [
    "## Setup "
   ]
  },
  {
   "cell_type": "code",
   "execution_count": 1,
   "metadata": {},
   "outputs": [],
   "source": [
    "from __future__ import absolute_import\n",
    "from __future__ import division\n",
    "from __future__ import print_function\n",
    "\n",
    "import os, sys\n",
    "import numpy as np\n",
    "import matplotlib.pyplot as plt\n",
    "\n",
    "from sklearn.metrics import mean_absolute_error\n",
    "from sklearn.ensemble import RandomForestRegressor\n",
    "from sklearn.model_selection import train_test_split\n",
    "from KRR_reproduce import *"
   ]
  },
  {
   "cell_type": "code",
   "execution_count": 2,
   "metadata": {},
   "outputs": [
    {
     "name": "stdout",
     "output_type": "stream",
     "text": [
      "Number of estimators: 5000\n",
      "Maximum depth: 50\n"
     ]
    }
   ],
   "source": [
    "# setup\n",
    "ev2kcal = 1/0.043     # conversion factor\n",
    "SIM_NO = 150          # total number of data points\n",
    "SEED = 42\n",
    "M = 140               # number of training points\n",
    "GRID_SPACE = 0.6      # grid spacing for gaussian potential (see [1])\n",
    "\n",
    "# random forest\n",
    "N_ESTIMATORS = 5000   # number of treest\n",
    "MAX_DEPTH = 50        # maximum depth of trees\n",
    "\n",
    "# path to data\n",
    "os.environ['PROJDIR'] = '/Users/simonbatzner1/Desktop/Research/Research_Code/ML-electron-density'\n",
    "STR_PREF = os.environ['PROJDIR'] + '/data/H2_DFT/temp_data/store/'\n",
    "\n",
    "print(\"Number of estimators: {}\".format(N_ESTIMATORS))\n",
    "print(\"Maximum depth: {}\".format(MAX_DEPTH))"
   ]
  },
  {
   "cell_type": "markdown",
   "metadata": {},
   "source": [
    "## Load Energies, Separation Distances and Fourier Coefficients"
   ]
  },
  {
   "cell_type": "code",
   "execution_count": 3,
   "metadata": {},
   "outputs": [],
   "source": [
    "ens = []\n",
    "seps = []\n",
    "fours = []\n",
    "\n",
    "for n in range(SIM_NO):\n",
    "    # load separation, energy, and density\n",
    "    sep = np.load(STR_PREF + 'sep_store/sep' + str(n) + '.npy')\n",
    "    en = np.load(STR_PREF + 'en_store/en' + str(n) + '.npy')\n",
    "    four = np.load(STR_PREF + 'four_store/four' + str(n) + '.npy')\n",
    "\n",
    "    # format\n",
    "    sep = np.reshape(sep, (1,))[0]\n",
    "    en = np.reshape(en, (1,))[0]['energy']\n",
    "    four = np.real(four)\n",
    "\n",
    "    ens.append(en)\n",
    "    seps.append(sep)\n",
    "    fours.append(four) \n",
    "    "
   ]
  },
  {
   "cell_type": "markdown",
   "metadata": {},
   "source": [
    "## Build Gaussian potentials"
   ]
  },
  {
   "cell_type": "code",
   "execution_count": 4,
   "metadata": {},
   "outputs": [],
   "source": [
    "pots = []\n",
    "grid_len = 5.29177 * 2\n",
    "\n",
    "for n in range(SIM_NO):\n",
    "    dist = seps[n]\n",
    "    pot = pot_rep(dist, grid_len, grid_space=GRID_SPACE)\n",
    "    pot = pot.flatten()\n",
    "    pots.append(pot)"
   ]
  },
  {
   "cell_type": "markdown",
   "metadata": {},
   "source": [
    "## Set up training and test data"
   ]
  },
  {
   "cell_type": "code",
   "execution_count": 5,
   "metadata": {},
   "outputs": [
    {
     "name": "stdout",
     "output_type": "stream",
     "text": [
      "(140, 5832)\n",
      "(10,)\n"
     ]
    }
   ],
   "source": [
    "data = pots\n",
    "labels = ens\n",
    "\n",
    "# define training and test indices\n",
    "train_indices = [int(n) for n in np.round(np.linspace(0,149,M))]\n",
    "test_indices = [n for n in range(150) if n not in train_indices]\n",
    "\n",
    "if len(train_indices) != M: \n",
    "    print(\"Size of training set doesn't match the M specified\")\n",
    "    \n",
    "x_train = np.array([data[n] for n in train_indices])\n",
    "x_test = np.array([data[n] for n in test_indices])\n",
    "y_train = np.array([labels[n] for n in train_indices])\n",
    "y_test =np.array([labels[n] for n in test_indices])\n",
    "x_seps_test = np.array([seps[n] for n in test_indices])\n",
    "\n",
    "# convert to np arrays\n",
    "x_train = np.array(x_train)\n",
    "x_test = np.array(x_test)\n",
    "y_train = np.array(y_train)\n",
    "y_test = np.array(y_test)\n",
    "\n",
    "print(x_train.shape)\n",
    "print(y_test.shape)"
   ]
  },
  {
   "cell_type": "markdown",
   "metadata": {},
   "source": [
    "## Train Random Forest"
   ]
  },
  {
   "cell_type": "code",
   "execution_count": 6,
   "metadata": {},
   "outputs": [
    {
     "data": {
      "text/plain": [
       "RandomForestRegressor(bootstrap=True, criterion='mse', max_depth=50,\n",
       "           max_features='auto', max_leaf_nodes=None,\n",
       "           min_impurity_decrease=0.0, min_impurity_split=None,\n",
       "           min_samples_leaf=1, min_samples_split=2,\n",
       "           min_weight_fraction_leaf=0.0, n_estimators=5000, n_jobs=1,\n",
       "           oob_score=False, random_state=42, verbose=0, warm_start=False)"
      ]
     },
     "execution_count": 6,
     "metadata": {},
     "output_type": "execute_result"
    }
   ],
   "source": [
    "estimator = RandomForestRegressor(random_state=SEED, n_estimators=N_ESTIMATORS, max_depth=MAX_DEPTH)\n",
    "estimator.fit(x_train, y_train)"
   ]
  },
  {
   "cell_type": "markdown",
   "metadata": {},
   "source": [
    "## Results"
   ]
  },
  {
   "cell_type": "code",
   "execution_count": 7,
   "metadata": {},
   "outputs": [
    {
     "name": "stdout",
     "output_type": "stream",
     "text": [
      "\n",
      "Number of estimators:\t 5000\n",
      "Maximum depth:\t\t 50\n",
      "\n",
      "Prediction on test data:\n",
      "\n",
      "\n",
      "\tPred   |   True\n",
      "\n",
      "[[-30.56445463 -30.57717032]\n",
      " [-31.51768944 -31.51679575]\n",
      " [-31.74577413 -31.74695245]\n",
      " [-31.60896836 -31.60985192]\n",
      " [-31.2816745  -31.28161023]\n",
      " [-30.86078585 -30.85878473]\n",
      " [-30.39635678 -30.39669482]\n",
      " [-29.92995291 -29.92710748]\n",
      " [-29.47143581 -29.46878253]\n",
      " [-29.0374746  -29.03215704]]\n",
      "\n",
      "\n",
      "MAE on training data in [kcal/mol]: \t0.07685346850752077\n",
      "MAE on test data in [kcal/mol]: \t0.06718824633429116\n"
     ]
    }
   ],
   "source": [
    "# eval on training data\n",
    "y_true_train, y_pred_train = y_train, estimator.predict(x_train)\n",
    "\n",
    "# eval on test data\n",
    "y_true, y_pred = y_test, estimator.predict(x_test)\n",
    "\n",
    "# print results\n",
    "print(\"\\nNumber of estimators:\\t {}\".format(N_ESTIMATORS))\n",
    "print(\"Maximum depth:\\t\\t {}\".format(MAX_DEPTH))\n",
    "print(\"\\nPrediction on test data:\\n\")\n",
    "print(\"\\n\\tPred   |   True\\n\")\n",
    "print(np.c_[y_pred, y_true])\n",
    "print(\"\\n\\nMAE on training data in [kcal/mol]: \\t{}\".format(mean_absolute_error(y_true_train, y_pred_train)*ev2kcal))\n",
    "print(\"MAE on test data in [kcal/mol]: \\t{}\".format(mean_absolute_error(y_true, y_pred)*ev2kcal))"
   ]
  },
  {
   "cell_type": "code",
   "execution_count": 8,
   "metadata": {},
   "outputs": [
    {
     "data": {
      "image/png": "[encoded data removed]",
      "text/plain": [
       "<Figure size 864x504 with 1 Axes>"
      ]
     },
     "metadata": {},
     "output_type": "display_data"
    }
   ],
   "source": [
    "fig = plt.figure(figsize=(12, 7)) \n",
    "plt.plot(seps, ens, label = 'DFT Energies')\n",
    "plt.plot(x_seps_test, y_pred, 'kx', MarkerSize = 5, mew = 1, label = 'Predicted Energies'); \n",
    "plt.legend(fontsize = 18)\n",
    "plt.xlabel('Distance [Angstrom]', fontsize = 18)\n",
    "plt.ylabel('Energy [eV]', fontsize = 18)\n",
    "plt.show()"
   ]
  },
  {
   "cell_type": "markdown",
   "metadata": {},
   "source": [
    "## <div style=\"text-align: center\">Separation - to - Energy </div> "
   ]
  },
  {
   "cell_type": "code",
   "execution_count": 9,
   "metadata": {},
   "outputs": [
    {
     "name": "stdout",
     "output_type": "stream",
     "text": [
      "Number of estimators: 5000\n",
      "Maximum depth: 50\n"
     ]
    }
   ],
   "source": [
    "# setup\n",
    "SIM_NO = 150\n",
    "SEED =42\n",
    "M = 140       # number of training points\n",
    "\n",
    "# random forest params \n",
    "N_ESTIMATORS = 5000 \n",
    "MAX_DEPTH = 50\n",
    "\n",
    "# path to data\n",
    "os.environ['PROJDIR'] = '/Users/simonbatzner1/Desktop/Research/Research_Code/ML-electron-density'\n",
    "STR_PREF = os.environ['PROJDIR'] + '/data/H2_DFT/temp_data/store/'\n",
    "\n",
    "print(\"Number of estimators: {}\".format(N_ESTIMATORS))\n",
    "print(\"Maximum depth: {}\".format(MAX_DEPTH))"
   ]
  },
  {
   "cell_type": "markdown",
   "metadata": {},
   "source": [
    "## Load data"
   ]
  },
  {
   "cell_type": "code",
   "execution_count": 10,
   "metadata": {},
   "outputs": [],
   "source": [
    "ens = []\n",
    "seps = []\n",
    "fours = []\n",
    "\n",
    "for n in range(SIM_NO):\n",
    "    # load separation, energy, and density\n",
    "    sep = np.load(STR_PREF + 'sep_store/sep' + str(n) + '.npy')\n",
    "    en = np.load(STR_PREF + 'en_store/en' + str(n) + '.npy')\n",
    "    four = np.load(STR_PREF + 'four_store/four' + str(n) + '.npy')\n",
    "\n",
    "    # format\n",
    "    sep = np.reshape(sep, (1,))[0]\n",
    "    en = np.reshape(en, (1,))[0]['energy']\n",
    "    four = np.real(four)\n",
    "\n",
    "    ens.append(en)\n",
    "    seps.append(sep)\n",
    "    fours.append(four) "
   ]
  },
  {
   "cell_type": "markdown",
   "metadata": {},
   "source": [
    "## Setup training and test data"
   ]
  },
  {
   "cell_type": "code",
   "execution_count": 11,
   "metadata": {},
   "outputs": [
    {
     "name": "stdout",
     "output_type": "stream",
     "text": [
      "(140, 1)\n",
      "(10,)\n"
     ]
    }
   ],
   "source": [
    "data = seps\n",
    "labels = ens\n",
    "\n",
    "# define training and test indices\n",
    "train_indices = [int(n) for n in np.round(np.linspace(0,149,M))]\n",
    "test_indices = [n for n in range(150) if n not in train_indices]\n",
    "\n",
    "if len(train_indices) != M: \n",
    "    print(\"Size of training set doesn't match the M specified\")\n",
    "    \n",
    "x_train = np.array([data[n] for n in train_indices])\n",
    "x_test = np.array([data[n] for n in test_indices])\n",
    "y_train = np.array([labels[n] for n in train_indices])\n",
    "y_test =np.array([labels[n] for n in test_indices])\n",
    "\n",
    "# convert to np arrays\n",
    "x_train = np.array(x_train)\n",
    "x_train = x_train.reshape(-1,1)\n",
    "x_test = np.array(x_test)\n",
    "x_test = x_test.reshape(-1,1)\n",
    "y_train = np.array(y_train)\n",
    "y_test = np.array(y_test)\n",
    "\n",
    "print(x_train.shape)\n",
    "print(y_test.shape)"
   ]
  },
  {
   "cell_type": "markdown",
   "metadata": {},
   "source": [
    "## Train Random Forest"
   ]
  },
  {
   "cell_type": "code",
   "execution_count": 12,
   "metadata": {},
   "outputs": [
    {
     "data": {
      "text/plain": [
       "RandomForestRegressor(bootstrap=True, criterion='mse', max_depth=50,\n",
       "           max_features='sqrt', max_leaf_nodes=None,\n",
       "           min_impurity_decrease=0.0, min_impurity_split=None,\n",
       "           min_samples_leaf=1, min_samples_split=2,\n",
       "           min_weight_fraction_leaf=0.0, n_estimators=5000, n_jobs=1,\n",
       "           oob_score=False, random_state=42, verbose=0, warm_start=False)"
      ]
     },
     "execution_count": 12,
     "metadata": {},
     "output_type": "execute_result"
    }
   ],
   "source": [
    "# train random forest\n",
    "estimator = RandomForestRegressor(random_state=SEED, n_estimators=N_ESTIMATORS, max_depth=MAX_DEPTH, max_features = 'sqrt')\n",
    "estimator.fit(x_train, y_train)"
   ]
  },
  {
   "cell_type": "markdown",
   "metadata": {},
   "source": [
    "## Results"
   ]
  },
  {
   "cell_type": "code",
   "execution_count": 13,
   "metadata": {},
   "outputs": [
    {
     "name": "stdout",
     "output_type": "stream",
     "text": [
      "\n",
      "Number of estimators:\t 5000\n",
      "Maximum depth:\t\t 50\n",
      "\n",
      "Prediction on test data:\n",
      "\n",
      "\n",
      "\tPred   |   True\n",
      "\n",
      "[[-30.51987744 -30.57717032]\n",
      " [-31.50365186 -31.51679575]\n",
      " [-31.74550072 -31.74695245]\n",
      " [-31.61817793 -31.60985192]\n",
      " [-31.2955258  -31.28161023]\n",
      " [-30.8743652  -30.85878473]\n",
      " [-30.41406085 -30.39669482]\n",
      " [-29.91850416 -29.92710748]\n",
      " [-29.48533199 -29.46878253]\n",
      " [-29.04778635 -29.03215704]]\n",
      "\n",
      "\n",
      "MAE on training data in [kcal/mol]: \t0.1563265212424769\n",
      "MAE on test data in [kcal/mol]: \t0.3903690181835017\n"
     ]
    }
   ],
   "source": [
    "# eval on training data\n",
    "y_true_train, y_pred_train = y_train, estimator.predict(x_train)\n",
    "\n",
    "# eval on test data\n",
    "y_true, y_pred = y_test, estimator.predict(x_test)\n",
    "# print results\n",
    "print(\"\\nNumber of estimators:\\t {}\".format(N_ESTIMATORS))\n",
    "print(\"Maximum depth:\\t\\t {}\".format(MAX_DEPTH))\n",
    "print(\"\\nPrediction on test data:\\n\")\n",
    "print(\"\\n\\tPred   |   True\\n\")\n",
    "print(np.c_[y_pred, y_true])\n",
    "print(\"\\n\\nMAE on training data in [kcal/mol]: \\t{}\".format(mean_absolute_error(y_true_train, y_pred_train)*ev2kcal))\n",
    "print(\"MAE on test data in [kcal/mol]: \\t{}\".format(mean_absolute_error(y_true, y_pred)*ev2kcal))"
   ]
  },
  {
   "cell_type": "code",
   "execution_count": 14,
   "metadata": {},
   "outputs": [
    {
     "data": {
      "image/png": "[encoded data removed]",
      "text/plain": [
       "<Figure size 864x504 with 1 Axes>"
      ]
     },
     "metadata": {},
     "output_type": "display_data"
    }
   ],
   "source": [
    "fig = plt.figure(figsize=(12, 7)) \n",
    "plt.plot(seps, ens, label = 'DFT Energies')\n",
    "plt.plot(x_seps_test, y_pred, 'kx', MarkerSize = 10, mew = 1, label = 'Predicted Energies'); \n",
    "plt.legend(fontsize = 18);\n",
    "plt.xlabel('Distance [Angstrom]', fontsize = 18);\n",
    "plt.ylabel('Energy [eV]', fontsize = 18);\n",
    "plt.show()"
   ]
  },
  {
   "cell_type": "markdown",
   "metadata": {},
   "source": [
    "For comparison, from [1]: \"The MAE that is introduced by the PBE approximation on the H2 data set is 2.3 kcal/mol (compared to exact CI calculations)\"\n",
    "\n",
    "[1] Brockherde et al. Bypassing the Kohn-Sham equations with machine learning. Nature Communications 8, 872 (2017)"
   ]
  }
 ],
 "metadata": {
  "kernelspec": {
   "display_name": "Python 3",
   "language": "python",
   "name": "python3"
  },
  "language_info": {
   "codemirror_mode": {
    "name": "ipython",
    "version": 3
   },
   "file_extension": ".py",
   "mimetype": "text/x-python",
   "name": "python",
   "nbconvert_exporter": "python",
   "pygments_lexer": "ipython3",
   "version": "3.5.5"
  }
 },
 "nbformat": 4,
 "nbformat_minor": 2
}
