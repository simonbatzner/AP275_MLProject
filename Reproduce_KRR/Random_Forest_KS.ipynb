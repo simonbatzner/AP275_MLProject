{
 "cells": [
  {
   "cell_type": "markdown",
   "metadata": {},
   "source": [
    "# <div style=\"text-align: center\">Random Forests - KS Mapping</div> "
   ]
  },
  {
   "cell_type": "markdown",
   "metadata": {},
   "source": [
    "# Gaussian Potential - to - Energy"
   ]
  },
  {
   "cell_type": "markdown",
   "metadata": {},
   "source": [
    "## Setup"
   ]
  },
  {
   "cell_type": "code",
   "execution_count": 46,
   "metadata": {},
   "outputs": [],
   "source": [
    "from __future__ import absolute_import\n",
    "from __future__ import division\n",
    "from __future__ import print_function\n",
    "\n",
    "import os, sys\n",
    "import numpy as np\n",
    "\n",
    "from sklearn.metrics import mean_absolute_error\n",
    "from sklearn.ensemble import RandomForestRegressor\n",
    "from sklearn.model_selection import train_test_split\n",
    "from KRR_reproduce import *"
   ]
  },
  {
   "cell_type": "code",
   "execution_count": 47,
   "metadata": {},
   "outputs": [
    {
     "name": "stdout",
     "output_type": "stream",
     "text": [
      "Number of estimators: 1000\n",
      "Maximum depth: 20\n"
     ]
    }
   ],
   "source": [
    "# setup\n",
    "SIM_NO = 150\n",
    "SEED = 42\n",
    "TEST_SIZE = 0.1\n",
    "GRID_SPACE = 0.8\n",
    "\n",
    "N_ESTIMATORS = 1000  \n",
    "MAX_DEPTH = 20\n",
    "\n",
    "# path to data\n",
    "os.environ['PROJDIR'] = '/Users/simonbatzner1/Desktop/Research/Research_Code/ML-electron-density'\n",
    "STR_PREF = os.environ['PROJDIR'] + '/data/H2_DFT/temp_data/store/'\n",
    "\n",
    "print(\"Number of estimators: {}\".format(N_ESTIMATORS))\n",
    "print(\"Maximum depth: {}\".format(MAX_DEPTH))"
   ]
  },
  {
   "cell_type": "markdown",
   "metadata": {},
   "source": [
    "## Load data"
   ]
  },
  {
   "cell_type": "code",
   "execution_count": 36,
   "metadata": {},
   "outputs": [],
   "source": [
    "# LOAD DATA\n",
    "ens = []\n",
    "seps = []\n",
    "fours = []\n",
    "\n",
    "for n in range(SIM_NO):\n",
    "    # load separation, energy, and density\n",
    "    sep = np.load(STR_PREF + 'sep_store/sep' + str(n) + '.npy')\n",
    "    en = np.load(STR_PREF + 'en_store/en' + str(n) + '.npy')\n",
    "    four = np.load(STR_PREF + 'four_store/four' + str(n) + '.npy')\n",
    "\n",
    "    # put results in a nicer format\n",
    "    sep = np.reshape(sep, (1,))[0]\n",
    "    en = np.reshape(en, (1,))[0]['energy']\n",
    "    four = np.real(four)\n",
    "\n",
    "    # store quantities\n",
    "    ens.append(en)\n",
    "    seps.append(sep)\n",
    "    fours.append(four) \n",
    "    "
   ]
  },
  {
   "cell_type": "markdown",
   "metadata": {},
   "source": [
    "## Build Gaussian potentials"
   ]
  },
  {
   "cell_type": "code",
   "execution_count": 37,
   "metadata": {},
   "outputs": [],
   "source": [
    "pots = []\n",
    "grid_len = 5.29177 * 2\n",
    "\n",
    "for n in range(SIM_NO):\n",
    "    dist = seps[n]\n",
    "    pot = pot_rep(dist, grid_len, grid_space=GRID_SPACE)\n",
    "    pot = pot.flatten()\n",
    "    pots.append(pot)"
   ]
  },
  {
   "cell_type": "markdown",
   "metadata": {},
   "source": [
    "## Set up training and test data"
   ]
  },
  {
   "cell_type": "code",
   "execution_count": 38,
   "metadata": {},
   "outputs": [],
   "source": [
    "data = pots\n",
    "labels = ens\n",
    "x_train, x_test, y_train, y_test = train_test_split(data, labels, test_size=TEST_SIZE, random_state=SEED)\n",
    "\n",
    "# convert to np arrays\n",
    "x_train = np.array(x_train)\n",
    "x_test = np.array(x_test)\n",
    "y_train = np.array(y_train)\n",
    "y_test = np.array(y_test)"
   ]
  },
  {
   "cell_type": "markdown",
   "metadata": {},
   "source": [
    "## Train Random Forest"
   ]
  },
  {
   "cell_type": "code",
   "execution_count": 39,
   "metadata": {},
   "outputs": [
    {
     "data": {
      "text/plain": [
       "RandomForestRegressor(bootstrap=True, criterion='mse', max_depth=20,\n",
       "           max_features='auto', max_leaf_nodes=None,\n",
       "           min_impurity_decrease=0.0, min_impurity_split=None,\n",
       "           min_samples_leaf=1, min_samples_split=2,\n",
       "           min_weight_fraction_leaf=0.0, n_estimators=1000, n_jobs=1,\n",
       "           oob_score=False, random_state=42, verbose=0, warm_start=False)"
      ]
     },
     "execution_count": 39,
     "metadata": {},
     "output_type": "execute_result"
    }
   ],
   "source": [
    "estimator = RandomForestRegressor(random_state=SEED, n_estimators=N_ESTIMATORS, max_depth=MAX_DEPTH)\n",
    "estimator.fit(x_train, y_train)"
   ]
  },
  {
   "cell_type": "markdown",
   "metadata": {},
   "source": [
    "## Results"
   ]
  },
  {
   "cell_type": "code",
   "execution_count": 40,
   "metadata": {},
   "outputs": [
    {
     "name": "stdout",
     "output_type": "stream",
     "text": [
      "\n",
      "Number of estimators:\t 1000\n",
      "Maximum depth:\t\t 20\n",
      "\n",
      "Prediction on test data:\n",
      "\n",
      "\n",
      "\tPred   |   True\n",
      "\n",
      "[[-31.10484257 -31.12002121]\n",
      " [-31.25849535 -31.35579816]\n",
      " [-29.81542525 -29.74172427]\n",
      " [-31.07269758 -30.97719376]\n",
      " [-31.08837153 -31.03509757]\n",
      " [-31.28729479 -31.71298488]\n",
      " [-31.1468641  -31.35711097]\n",
      " [-29.15884242 -29.06048683]\n",
      " [-31.12472963 -31.25555287]\n",
      " [-30.82628468 -30.85878473]\n",
      " [-30.17013048 -29.98936226]\n",
      " [-31.17554309 -31.00192919]\n",
      " [-31.28594489 -31.74565502]\n",
      " [-31.17251618 -30.7632198 ]\n",
      " [-31.28757504 -31.40113248]\n",
      " [-31.20796875 -31.53602468]\n",
      " [-30.22606755 -30.17712973]\n",
      " [-31.12472963 -31.22918843]\n",
      " [-31.20796875 -31.55562192]\n",
      " [-29.69338739 -29.32045729]\n",
      " [-31.28179395 -31.68621403]\n",
      " [-29.73082057 -29.46878253]\n",
      " [-31.2850592  -31.62907309]\n",
      " [-29.73020837 -29.43887626]\n",
      " [-29.70024819 -29.34985962]\n",
      " [-29.15884242 -28.94799546]\n",
      " [-30.17458986 -30.05179323]\n",
      " [-29.15884242 -29.00395066]\n",
      " [-31.25254909 -31.70583223]\n",
      " [-31.28179395 -31.70064478]\n",
      " [-31.2850592  -31.51679575]\n",
      " [-31.1464634  -31.19766036]\n",
      " [-31.12472963 -31.33240915]\n",
      " [-31.17554309 -30.92735568]\n",
      " [-31.25042756 -31.73109488]\n",
      " [-29.15884242 -28.92024854]\n",
      " [-31.26464003 -31.62636529]\n",
      " [-31.2850592  -31.65047649]\n",
      " [-31.03472979 -30.25205876]\n",
      " [-31.29144103 -31.72325065]\n",
      " [-29.15884242 -29.03215704]\n",
      " [-30.74040527 -30.76829214]\n",
      " [-30.70783294 -30.73778749]\n",
      " [-31.16012494 -31.25422224]\n",
      " [-31.17554309 -30.84802303]\n",
      " [-30.9383425  -30.88869046]\n",
      " [-29.61998754 -29.29107606]\n",
      " [-29.43204051 -29.17484762]\n",
      " [-31.08837153 -31.06364437]\n",
      " [-30.17157255 -30.02060434]\n",
      " [-30.51571345 -30.42794751]\n",
      " [-30.18957499 -30.14573676]\n",
      " [-31.12472963 -31.307185  ]\n",
      " [-31.03472979 -29.71992617]\n",
      " [-29.79579374 -29.61947802]\n",
      " [-31.12472963 -31.28161023]\n",
      " [-31.28326538 -31.66951141]\n",
      " [-31.24954973 -31.74165698]\n",
      " [-31.25042756 -31.71544669]\n",
      " [-31.1893183  -31.45118145]\n",
      " [-29.73222282 -29.58919283]\n",
      " [-31.2850592  -31.57847976]\n",
      " [-31.2850592  -31.60506448]\n",
      " [-31.2850592  -31.54904043]\n",
      " [-30.57013907 -30.49043331]\n",
      " [-31.24954973 -31.74489323]\n",
      " [-30.53907839 -30.4592583 ]\n",
      " [-29.81542525 -29.77241028]\n",
      " [-31.26051525 -31.68332731]\n",
      " [-30.4364009  -30.39669482]\n",
      " [-30.04952387 -29.89610295]\n",
      " [-31.29144103 -31.73159026]\n",
      " [-29.32481303 -29.14603606]\n",
      " [-30.24749133 -30.27118892]\n",
      " [-31.16505831 -31.40522154]\n",
      " [-30.78951934 -30.79857312]\n",
      " [-29.15884242 -28.86505512]\n",
      " [-31.26784395 -31.5925671 ]\n",
      " [-31.1360425  -30.36705412]\n",
      " [-30.58973857 -30.52165104]\n",
      " [-30.10485424 -29.95825732]\n",
      " [-31.26464003 -31.65672423]\n",
      " [-31.2863251  -31.74270652]\n",
      " [-31.03993319 -30.91832898]\n",
      " [-31.07622959 -31.00621866]\n",
      " [-31.2863251  -31.73803637]\n",
      " [-29.90189058 -29.86506264]\n",
      " [-31.1360425  -30.57717032]\n",
      " [-31.25042756 -31.72386794]\n",
      " [-31.12472963 -31.20237949]\n",
      " [-30.34790272 -30.36532035]\n",
      " [-29.81542525 -29.68048583]\n",
      " [-30.79823312 -30.82880117]\n",
      " [-29.5778516  -29.26189279]\n",
      " [-29.51611456 -29.23273428]\n",
      " [-30.68929426 -30.64567093]\n",
      " [-31.17251618 -30.67320233]\n",
      " [-31.1464634  -31.07152411]\n",
      " [-29.81542525 -29.71102069]\n",
      " [-29.73222282 -29.52879999]\n",
      " [-31.03472979 -30.13048409]\n",
      " [-31.20848905 -31.30698119]\n",
      " [-31.24802445 -31.74667599]\n",
      " [-31.13047109 -31.14781833]\n",
      " [-29.51096896 -29.20369034]\n",
      " [-31.1360425  -30.47510758]\n",
      " [-30.08137961 -29.92710748]\n",
      " [-30.27130824 -30.3026076 ]\n",
      " [-31.03472979 -30.00126384]\n",
      " [-31.14740119 -31.38141442]\n",
      " [-31.22852429 -31.57444336]\n",
      " [-29.73222282 -29.49869847]\n",
      " [-31.26464003 -31.64197143]\n",
      " [-29.81409683 -29.83408219]\n",
      " [-31.25254909 -31.69513134]\n",
      " [-29.2192102  -29.11742831]\n",
      " [-31.1893183  -31.42843953]\n",
      " [-29.15884242 -28.89254639]\n",
      " [-31.03993319 -30.94786409]\n",
      " [-31.1893183  -31.47328554]\n",
      " [-30.61783954 -30.58381058]\n",
      " [-31.25042756 -31.73704723]\n",
      " [-31.20913036 -31.49485697]\n",
      " [-30.61916796 -30.61482858]\n",
      " [-31.26051525 -31.67053592]\n",
      " [-30.68929426 -30.67651259]\n",
      " [-30.17458986 -30.08311041]\n",
      " [-29.73222282 -29.55890559]\n",
      " [-31.28757504 -31.48142229]\n",
      " [-31.20796875 -31.51573817]\n",
      " [-29.15884242 -28.97595245]\n",
      " [-29.70211774 -29.40907093]\n",
      " [-31.28594489 -31.74695245]\n",
      " [-29.15884242 -29.08885484]\n",
      " [-31.03472979 -29.86480944]\n",
      " [-31.26634433 -31.60985192]\n",
      " [-29.70211774 -29.37945718]\n",
      " [-30.24312249 -30.2084442 ]\n",
      " [-30.29848613 -30.33401785]\n",
      " [-29.81542525 -29.8032578 ]]\n",
      "\n",
      "\n",
      "MSE on training data: \t0.07919468982123981\n",
      "MSE on test data: \t0.25436955394504485\n"
     ]
    }
   ],
   "source": [
    "# eval on training data\n",
    "y_true_train, y_pred_train = y_train, estimator.predict(x_train)\n",
    "\n",
    "# eval on test data\n",
    "y_true, y_pred = y_test, estimator.predict(x_test)\n",
    "\n",
    "# print results\n",
    "print(\"\\nNumber of estimators:\\t {}\".format(N_ESTIMATORS))\n",
    "print(\"Maximum depth:\\t\\t {}\".format(MAX_DEPTH))\n",
    "print(\"\\nPrediction on test data:\\n\")\n",
    "print(\"\\n\\tPred   |   True\\n\")\n",
    "print(np.c_[y_pred, y_true])\n",
    "print(\"\\n\\nMSE on training data: \\t{}\".format(mean_absolute_error(y_true_train, y_pred_train)))\n",
    "print(\"MSE on test data: \\t{}\".format(mean_absolute_error(y_true, y_pred)))"
   ]
  },
  {
   "cell_type": "markdown",
   "metadata": {},
   "source": [
    "# Separation-to-Energy"
   ]
  },
  {
   "cell_type": "code",
   "execution_count": 41,
   "metadata": {},
   "outputs": [
    {
     "name": "stdout",
     "output_type": "stream",
     "text": [
      "Number of estimators: 1000\n",
      "Maximum depth: 20\n"
     ]
    }
   ],
   "source": [
    "# setup\n",
    "SIM_NO = 150\n",
    "SEED = 42\n",
    "GRID_SPACE = 0.08\n",
    "\n",
    "# params found from hyperparameter optimization  \n",
    "N_ESTIMATORS = 1000 \n",
    "MAX_DEPTH = 20\n",
    "\n",
    "# path to data\n",
    "os.environ['PROJDIR'] = '/Users/simonbatzner1/Desktop/Research/Research_Code/ML-electron-density'\n",
    "STR_PREF = os.environ['PROJDIR'] + '/data/H2_DFT/temp_data/store/'\n",
    "\n",
    "print(\"Number of estimators: {}\".format(N_ESTIMATORS))\n",
    "print(\"Maximum depth: {}\".format(MAX_DEPTH))"
   ]
  },
  {
   "cell_type": "markdown",
   "metadata": {},
   "source": [
    "## Load data"
   ]
  },
  {
   "cell_type": "code",
   "execution_count": 42,
   "metadata": {},
   "outputs": [],
   "source": [
    "# LOAD DATA\n",
    "ens = []\n",
    "seps = []\n",
    "fours = []\n",
    "\n",
    "for n in range(SIM_NO):\n",
    "    # load separation, energy, and density\n",
    "    sep = np.load(STR_PREF + 'sep_store/sep' + str(n) + '.npy')\n",
    "    en = np.load(STR_PREF + 'en_store/en' + str(n) + '.npy')\n",
    "    four = np.load(STR_PREF + 'four_store/four' + str(n) + '.npy')\n",
    "\n",
    "    # put results in a nicer format\n",
    "    sep = np.reshape(sep, (1,))[0]\n",
    "    en = np.reshape(en, (1,))[0]['energy']\n",
    "    four = np.real(four)\n",
    "\n",
    "    # store quantities\n",
    "    ens.append(en)\n",
    "    seps.append(sep)\n",
    "    fours.append(four) "
   ]
  },
  {
   "cell_type": "markdown",
   "metadata": {},
   "source": [
    "## Setup training and test data"
   ]
  },
  {
   "cell_type": "code",
   "execution_count": 43,
   "metadata": {},
   "outputs": [],
   "source": [
    "# setup training and test datas\n",
    "data = seps\n",
    "labels = ens\n",
    "x_train, x_test, y_train, y_test = train_test_split(data, labels, test_size=TEST_SIZE, random_state=SEED)\n",
    "\n",
    "x_train = np.array(x_train)\n",
    "x_train = x_train.reshape(-1,1)\n",
    "x_test = np.array(x_test)\n",
    "x_test = x_test.reshape(-1,1)\n",
    "y_train = np.array(y_train)\n",
    "y_test = np.array(y_test)"
   ]
  },
  {
   "cell_type": "markdown",
   "metadata": {},
   "source": [
    "## Train Random Forest"
   ]
  },
  {
   "cell_type": "code",
   "execution_count": 44,
   "metadata": {},
   "outputs": [
    {
     "data": {
      "text/plain": [
       "RandomForestRegressor(bootstrap=True, criterion='mse', max_depth=20,\n",
       "           max_features='auto', max_leaf_nodes=None,\n",
       "           min_impurity_decrease=0.0, min_impurity_split=None,\n",
       "           min_samples_leaf=1, min_samples_split=2,\n",
       "           min_weight_fraction_leaf=0.0, n_estimators=1000, n_jobs=1,\n",
       "           oob_score=False, random_state=42, verbose=0, warm_start=False)"
      ]
     },
     "execution_count": 44,
     "metadata": {},
     "output_type": "execute_result"
    }
   ],
   "source": [
    "# train random forest\n",
    "estimator = RandomForestRegressor(random_state=SEED, n_estimators=N_ESTIMATORS, max_depth=MAX_DEPTH)\n",
    "estimator.fit(x_train, y_train)"
   ]
  },
  {
   "cell_type": "markdown",
   "metadata": {},
   "source": [
    "## Results"
   ]
  },
  {
   "cell_type": "code",
   "execution_count": 45,
   "metadata": {},
   "outputs": [
    {
     "name": "stdout",
     "output_type": "stream",
     "text": [
      "\n",
      "Number of estimators:\t 1000\n",
      "Maximum depth:\t\t 20\n",
      "\n",
      "Prediction on test data:\n",
      "\n",
      "\n",
      "\tPred   |   True\n",
      "\n",
      "[[-31.06620264 -31.12002121]\n",
      " [-31.33341422 -31.35579816]\n",
      " [-29.83266435 -29.74172427]\n",
      " [-31.06620264 -30.97719376]\n",
      " [-31.06620264 -31.03509757]\n",
      " [-31.33341422 -31.71298488]\n",
      " [-31.09757261 -31.35711097]\n",
      " [-29.15376972 -29.06048683]\n",
      " [-31.09757261 -31.25555287]\n",
      " [-30.79490398 -30.85878473]\n",
      " [-30.12323566 -29.98936226]\n",
      " [-31.20821852 -31.00192919]\n",
      " [-31.33341422 -31.74565502]\n",
      " [-31.20821852 -30.7632198 ]\n",
      " [-31.33341422 -31.40113248]\n",
      " [-31.10022944 -31.53602468]\n",
      " [-30.2469448  -30.17712973]\n",
      " [-31.09757261 -31.22918843]\n",
      " [-31.11269032 -31.55562192]\n",
      " [-29.49332342 -29.32045729]\n",
      " [-31.33341422 -31.68621403]\n",
      " [-29.71421788 -29.46878253]\n",
      " [-31.33341422 -31.62907309]\n",
      " [-29.49332342 -29.43887626]\n",
      " [-29.49332342 -29.34985962]\n",
      " [-29.15376972 -28.94799546]\n",
      " [-30.12323566 -30.05179323]\n",
      " [-29.15376972 -29.00395066]\n",
      " [-31.33709913 -31.70583223]\n",
      " [-31.33341422 -31.70064478]\n",
      " [-31.33341422 -31.51679575]\n",
      " [-31.20821852 -31.19766036]\n",
      " [-31.09757261 -31.33240915]\n",
      " [-31.20821852 -30.92735568]\n",
      " [-31.33341422 -31.73109488]\n",
      " [-29.15376972 -28.92024854]\n",
      " [-31.16591907 -31.62636529]\n",
      " [-31.33341422 -31.65047649]\n",
      " [-31.20821852 -30.25205876]\n",
      " [-31.33341422 -31.72325065]\n",
      " [-29.15376972 -29.03215704]\n",
      " [-30.70970987 -30.76829214]\n",
      " [-30.70970987 -30.73778749]\n",
      " [-31.20821852 -31.25422224]\n",
      " [-31.20821852 -30.84802303]\n",
      " [-30.8303815  -30.88869046]\n",
      " [-29.49332342 -29.29107606]\n",
      " [-29.15376972 -29.17484762]\n",
      " [-31.06620264 -31.06364437]\n",
      " [-30.12323566 -30.02060434]\n",
      " [-30.49162331 -30.42794751]\n",
      " [-30.18282509 -30.14573676]\n",
      " [-31.09757261 -31.307185  ]\n",
      " [-31.20821852 -29.71992617]\n",
      " [-29.77872141 -29.61947802]\n",
      " [-31.09757261 -31.28161023]\n",
      " [-31.33341422 -31.66951141]\n",
      " [-31.33341422 -31.74165698]\n",
      " [-31.33987411 -31.71544669]\n",
      " [-31.10022944 -31.45118145]\n",
      " [-29.77872141 -29.58919283]\n",
      " [-31.33341422 -31.57847976]\n",
      " [-31.33341422 -31.60506448]\n",
      " [-31.33341422 -31.54904043]\n",
      " [-30.56171814 -30.49043331]\n",
      " [-31.33341422 -31.74489323]\n",
      " [-30.49162331 -30.4592583 ]\n",
      " [-29.83266435 -29.77241028]\n",
      " [-31.2329832  -31.68332731]\n",
      " [-30.45191222 -30.39669482]\n",
      " [-30.03380028 -29.89610295]\n",
      " [-31.33341422 -31.73159026]\n",
      " [-29.15376972 -29.14603606]\n",
      " [-30.2469448  -30.27118892]\n",
      " [-31.10022944 -31.40522154]\n",
      " [-30.70970987 -30.79857312]\n",
      " [-29.15376972 -28.86505512]\n",
      " [-31.16124738 -31.5925671 ]\n",
      " [-31.20821852 -30.36705412]\n",
      " [-30.56171814 -30.52165104]\n",
      " [-30.12089805 -29.95825732]\n",
      " [-31.17193362 -31.65672423]\n",
      " [-31.33341422 -31.74270652]\n",
      " [-30.98663196 -30.91832898]\n",
      " [-31.06620264 -31.00621866]\n",
      " [-31.33341422 -31.73803637]\n",
      " [-29.83266435 -29.86506264]\n",
      " [-31.20821852 -30.57717032]\n",
      " [-31.33987411 -31.72386794]\n",
      " [-31.09757261 -31.20237949]\n",
      " [-30.32190316 -30.36532035]\n",
      " [-29.8233166  -29.68048583]\n",
      " [-30.79490398 -30.82880117]\n",
      " [-29.49332342 -29.26189279]\n",
      " [-29.15376972 -29.23273428]\n",
      " [-30.63575467 -30.64567093]\n",
      " [-31.20821852 -30.67320233]\n",
      " [-31.20821852 -31.07152411]\n",
      " [-29.8233166  -29.71102069]\n",
      " [-29.77872141 -29.52879999]\n",
      " [-31.20821852 -30.13048409]\n",
      " [-31.20821852 -31.30698119]\n",
      " [-31.33341422 -31.74667599]\n",
      " [-31.09757261 -31.14781833]\n",
      " [-29.15376972 -29.20369034]\n",
      " [-31.20821852 -30.47510758]\n",
      " [-30.03380028 -29.92710748]\n",
      " [-30.2469448  -30.3026076 ]\n",
      " [-31.20821852 -30.00126384]\n",
      " [-31.10022944 -31.38141442]\n",
      " [-31.11269032 -31.57444336]\n",
      " [-29.71421788 -29.49869847]\n",
      " [-31.17193362 -31.64197143]\n",
      " [-29.83266435 -29.83408219]\n",
      " [-31.2329832  -31.69513134]\n",
      " [-29.15376972 -29.11742831]\n",
      " [-31.10022944 -31.42843953]\n",
      " [-29.15376972 -28.89254639]\n",
      " [-31.06620264 -30.94786409]\n",
      " [-31.10022944 -31.47328554]\n",
      " [-30.56171814 -30.58381058]\n",
      " [-31.33341422 -31.73704723]\n",
      " [-31.10022944 -31.49485697]\n",
      " [-30.56953858 -30.61482858]\n",
      " [-31.17193362 -31.67053592]\n",
      " [-30.69474409 -30.67651259]\n",
      " [-30.12323566 -30.08311041]\n",
      " [-29.77872141 -29.55890559]\n",
      " [-31.33341422 -31.48142229]\n",
      " [-31.10022944 -31.51573817]\n",
      " [-29.15376972 -28.97595245]\n",
      " [-29.49332342 -29.40907093]\n",
      " [-31.33341422 -31.74695245]\n",
      " [-29.15376972 -29.08885484]\n",
      " [-31.20821852 -29.86480944]\n",
      " [-31.16591907 -31.60985192]\n",
      " [-29.49332342 -29.37945718]\n",
      " [-30.2469448  -30.2084442 ]\n",
      " [-30.32190316 -30.33401785]\n",
      " [-29.83266435 -29.8032578 ]]\n",
      "\n",
      "\n",
      "MAE on training data: \t0.08260827750526509\n",
      "MAE on test data: \t0.24788736026343666\n"
     ]
    }
   ],
   "source": [
    "# eval on training data\n",
    "y_true_train, y_pred_train = y_train, estimator.predict(x_train)\n",
    "\n",
    "# eval on test data\n",
    "y_true, y_pred = y_test, estimator.predict(x_test)\n",
    "\n",
    "# print results\n",
    "print(\"\\nNumber of estimators:\\t {}\".format(N_ESTIMATORS))\n",
    "print(\"Maximum depth:\\t\\t {}\".format(MAX_DEPTH))\n",
    "print(\"\\nPrediction on test data:\\n\")\n",
    "print(\"\\n\\tPred   |   True\\n\")\n",
    "print(np.c_[y_pred, y_true])\n",
    "print(\"\\n\\nMAE on training data: \\t{}\".format(mean_absolute_error(y_true_train, y_pred_train)))\n",
    "print(\"MAE on test data: \\t{}\".format(mean_absolute_error(y_true, y_pred)))"
   ]
  },
  {
   "cell_type": "code",
   "execution_count": null,
   "metadata": {},
   "outputs": [],
   "source": []
  },
  {
   "cell_type": "code",
   "execution_count": null,
   "metadata": {},
   "outputs": [],
   "source": []
  }
 ],
 "metadata": {
  "kernelspec": {
   "display_name": "Python 3",
   "language": "python",
   "name": "python3"
  },
  "language_info": {
   "codemirror_mode": {
    "name": "ipython",
    "version": 3
   },
   "file_extension": ".py",
   "mimetype": "text/x-python",
   "name": "python",
   "nbconvert_exporter": "python",
   "pygments_lexer": "ipython3",
   "version": "3.5.5"
  }
 },
 "nbformat": 4,
 "nbformat_minor": 2
}
