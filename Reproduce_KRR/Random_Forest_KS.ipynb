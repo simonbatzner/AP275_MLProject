{
 "cells": [
  {
   "cell_type": "markdown",
   "metadata": {},
   "source": [
    "# <div style=\"text-align: center\">Random Forests - Kohn-Sham Mapping</div> \n",
    " \n",
    "## <div style=\"text-align: center\">Jon Vandermause, Steven Torrisi, Simon Batzner</div> "
   ]
  },
  {
   "cell_type": "markdown",
   "metadata": {},
   "source": [
    "## <div style=\"text-align: center\">Gaussian Potential-to-Energy </div> "
   ]
  },
  {
   "cell_type": "markdown",
   "metadata": {},
   "source": [
    "## Setup "
   ]
  },
  {
   "cell_type": "code",
   "execution_count": 48,
   "metadata": {},
   "outputs": [],
   "source": [
    "from __future__ import absolute_import\n",
    "from __future__ import division\n",
    "from __future__ import print_function\n",
    "\n",
    "import os, sys\n",
    "import numpy as np\n",
    "import matplotlib.pyplot as plt\n",
    "\n",
    "from sklearn.metrics import mean_absolute_error\n",
    "from sklearn.ensemble import RandomForestRegressor\n",
    "from sklearn.model_selection import train_test_split\n",
    "from KRR_reproduce import *\n",
    "\n",
    "from IPython.core.interactiveshell import InteractiveShell\n",
    "InteractiveShell.ast_node_interactivity = \"all\""
   ]
  },
  {
   "cell_type": "code",
   "execution_count": 49,
   "metadata": {},
   "outputs": [
    {
     "name": "stdout",
     "output_type": "stream",
     "text": [
      "Number of estimators: 5000\n",
      "Maximum depth: 50\n"
     ]
    }
   ],
   "source": [
    "# setup\n",
    "ev2kcal = 1/0.043     # conversion factor\n",
    "SIM_NO = 150          # total number of data points\n",
    "SEED = 42\n",
    "M = 10            # number of training points\n",
    "GRID_SPACE = 0.6      # grid spacing for gaussian potential (see [1])\n",
    "\n",
    "# random forest\n",
    "N_ESTIMATORS = 5000   # number of treest\n",
    "MAX_DEPTH = 50        # maximum depth of trees\n",
    "\n",
    "# alternate params\n",
    "# N_ESTIMATORS = 1000     \n",
    "# MAX_DEPTH = 10\n",
    "\n",
    "# path to data\n",
    "os.environ['PROJDIR'] = '/Users/simonbatzner1/Desktop/Research/Research_Code/ML-electron-density'\n",
    "STR_PREF = os.environ['PROJDIR'] + '/data/H2_DFT/temp_data/store/'\n",
    "\n",
    "print(\"Number of estimators: {}\".format(N_ESTIMATORS))\n",
    "print(\"Maximum depth: {}\".format(MAX_DEPTH))"
   ]
  },
  {
   "cell_type": "markdown",
   "metadata": {},
   "source": [
    "## Load Energies, Separation Distances and Fourier Coefficients"
   ]
  },
  {
   "cell_type": "code",
   "execution_count": 50,
   "metadata": {},
   "outputs": [],
   "source": [
    "ens = []\n",
    "seps = []\n",
    "fours = []\n",
    "\n",
    "for n in range(SIM_NO):\n",
    "    # load separation, energy, and density\n",
    "    sep = np.load(STR_PREF + 'sep_store/sep' + str(n) + '.npy')\n",
    "    en = np.load(STR_PREF + 'en_store/en' + str(n) + '.npy')\n",
    "    four = np.load(STR_PREF + 'four_store/four' + str(n) + '.npy')\n",
    "\n",
    "    # format\n",
    "    sep = np.reshape(sep, (1,))[0]\n",
    "    en = np.reshape(en, (1,))[0]['energy']\n",
    "    four = np.real(four)\n",
    "\n",
    "    ens.append(en)\n",
    "    seps.append(sep)\n",
    "    fours.append(four) \n",
    "    "
   ]
  },
  {
   "cell_type": "markdown",
   "metadata": {},
   "source": [
    "## Build Gaussian potentials"
   ]
  },
  {
   "cell_type": "code",
   "execution_count": 51,
   "metadata": {},
   "outputs": [],
   "source": [
    "pots = []\n",
    "grid_len = 5.29177 * 2\n",
    "\n",
    "for n in range(SIM_NO):\n",
    "    dist = seps[n]\n",
    "    pot = pot_rep(dist, grid_len, grid_space=GRID_SPACE)\n",
    "    pot = pot.flatten()\n",
    "    pots.append(pot)"
   ]
  },
  {
   "cell_type": "markdown",
   "metadata": {},
   "source": [
    "## Set up training and test data"
   ]
  },
  {
   "cell_type": "code",
   "execution_count": 52,
   "metadata": {},
   "outputs": [
    {
     "name": "stdout",
     "output_type": "stream",
     "text": [
      "(10, 5832)\n",
      "(140,)\n"
     ]
    }
   ],
   "source": [
    "data = pots\n",
    "labels = ens\n",
    "\n",
    "# define training and test indices\n",
    "train_indices = [int(n) for n in np.round(np.linspace(0,149,M))]\n",
    "test_indices = [n for n in range(150) if n not in train_indices]\n",
    "\n",
    "if len(train_indices) != M: \n",
    "    print(\"Size of training set doesn't match the M specified\")\n",
    "    \n",
    "x_train = np.array([data[n] for n in train_indices])\n",
    "x_test = np.array([data[n] for n in test_indices])\n",
    "y_train = np.array([labels[n] for n in train_indices])\n",
    "y_test =np.array([labels[n] for n in test_indices])\n",
    "x_seps_test = np.array([seps[n] for n in test_indices])\n",
    "\n",
    "# convert to np arrays\n",
    "x_train = np.array(x_train)\n",
    "x_test = np.array(x_test)\n",
    "y_train = np.array(y_train)\n",
    "y_test = np.array(y_test)\n",
    "\n",
    "print(x_train.shape)\n",
    "print(y_test.shape)"
   ]
  },
  {
   "cell_type": "markdown",
   "metadata": {},
   "source": [
    "## Train Random Forest"
   ]
  },
  {
   "cell_type": "code",
   "execution_count": 53,
   "metadata": {},
   "outputs": [
    {
     "data": {
      "text/plain": [
       "RandomForestRegressor(bootstrap=True, criterion='mse', max_depth=50,\n",
       "           max_features='auto', max_leaf_nodes=None,\n",
       "           min_impurity_decrease=0.0, min_impurity_split=None,\n",
       "           min_samples_leaf=1, min_samples_split=2,\n",
       "           min_weight_fraction_leaf=0.0, n_estimators=5000, n_jobs=1,\n",
       "           oob_score=False, random_state=42, verbose=0, warm_start=False)"
      ]
     },
     "execution_count": 53,
     "metadata": {},
     "output_type": "execute_result"
    }
   ],
   "source": [
    "estimator = RandomForestRegressor(random_state=SEED, n_estimators=N_ESTIMATORS, max_depth=MAX_DEPTH)\n",
    "estimator.fit(x_train, y_train)"
   ]
  },
  {
   "cell_type": "markdown",
   "metadata": {},
   "source": [
    "## Results"
   ]
  },
  {
   "cell_type": "code",
   "execution_count": 54,
   "metadata": {},
   "outputs": [
    {
     "name": "stdout",
     "output_type": "stream",
     "text": [
      "\n",
      "Number of estimators:\t 5000\n",
      "Maximum depth:\t\t 50\n",
      "\n",
      "Prediction on test data:\n",
      "\n",
      "\n",
      "\tPred   |   True\n",
      "\n",
      "[[-30.27139698 -29.86480944]\n",
      " [-30.27139698 -30.00126384]\n",
      " [-30.27139698 -30.13048409]\n",
      " [-30.2731352  -30.25205876]\n",
      " [-30.2731352  -30.36705412]\n",
      " [-30.2731352  -30.47510758]\n",
      " [-30.26317001 -30.57717032]\n",
      " [-30.26317001 -30.67320233]\n",
      " [-30.49710287 -30.7632198 ]\n",
      " [-30.54058835 -30.84802303]\n",
      " [-30.57169475 -30.92735568]\n",
      " [-30.58617145 -31.00192919]\n",
      " [-30.58617145 -31.07152411]\n",
      " [-30.58946233 -31.13677132]\n",
      " [-30.94402629 -31.19766036]\n",
      " [-30.94603796 -31.25422224]\n",
      " [-30.97621292 -31.35579816]\n",
      " [-30.97621292 -31.40113248]\n",
      " [-30.98042937 -31.44287327]\n",
      " [-30.98313628 -31.48142229]\n",
      " [-30.98313628 -31.51679575]\n",
      " [-31.0612148  -31.54904043]\n",
      " [-31.0624218  -31.57847976]\n",
      " [-31.16662087 -31.60506448]\n",
      " [-31.19555693 -31.62907309]\n",
      " [-31.2137302  -31.65047649]\n",
      " [-31.24344975 -31.66951141]\n",
      " [-31.25414837 -31.68621403]\n",
      " [-31.25356459 -31.70064478]\n",
      " [-31.48162235 -31.71298488]\n",
      " [-31.51106966 -31.72325065]\n",
      " [-31.51389057 -31.73803637]\n",
      " [-31.51236039 -31.74270652]\n",
      " [-31.56073825 -31.74565502]\n",
      " [-31.57092195 -31.74695245]\n",
      " [-31.59897172 -31.74667599]\n",
      " [-31.59100464 -31.74489323]\n",
      " [-31.59100464 -31.74165698]\n",
      " [-31.5874675  -31.73704723]\n",
      " [-31.59126989 -31.73109488]\n",
      " [-31.58255894 -31.72386794]\n",
      " [-31.55834898 -31.71544669]\n",
      " [-31.5488423  -31.70583223]\n",
      " [-31.54763932 -31.69513134]\n",
      " [-31.54763932 -31.68332731]\n",
      " [-31.56467397 -31.67053592]\n",
      " [-31.56467397 -31.65672423]\n",
      " [-31.56467397 -31.62636529]\n",
      " [-31.54247024 -31.60985192]\n",
      " [-31.54324893 -31.5925671 ]\n",
      " [-31.54324893 -31.57444336]\n",
      " [-31.52520623 -31.55562192]\n",
      " [-31.48635665 -31.53602468]\n",
      " [-31.48635665 -31.51573817]\n",
      " [-31.41102837 -31.49485697]\n",
      " [-31.39031937 -31.47328554]\n",
      " [-31.36859649 -31.45118145]\n",
      " [-31.34155923 -31.42843953]\n",
      " [-31.34155923 -31.40522154]\n",
      " [-31.34155923 -31.38141442]\n",
      " [-31.31073557 -31.35711097]\n",
      " [-31.3099572  -31.33240915]\n",
      " [-31.3099572  -31.28161023]\n",
      " [-31.2597059  -31.25555287]\n",
      " [-31.25579269 -31.22918843]\n",
      " [-31.2547407  -31.20237949]\n",
      " [-31.24202213 -31.17522306]\n",
      " [-31.24146125 -31.14781833]\n",
      " [-31.2119996  -31.12002121]\n",
      " [-31.15355906 -31.09201361]\n",
      " [-31.05656049 -31.06364437]\n",
      " [-31.05656049 -31.03509757]\n",
      " [-30.96719981 -31.00621866]\n",
      " [-30.96719981 -30.97719376]\n",
      " [-30.93060913 -30.94786409]\n",
      " [-30.93060913 -30.91832898]\n",
      " [-30.92425275 -30.88869046]\n",
      " [-30.92425275 -30.85878473]\n",
      " [-30.86907183 -30.79857312]\n",
      " [-30.86212782 -30.76829214]\n",
      " [-30.84907755 -30.73778749]\n",
      " [-30.84907755 -30.70716025]\n",
      " [-30.81423859 -30.67651259]\n",
      " [-30.78081508 -30.64567093]\n",
      " [-30.76908885 -30.61482858]\n",
      " [-30.66986429 -30.58381058]\n",
      " [-30.66645816 -30.5528104 ]\n",
      " [-30.5614991  -30.52165104]\n",
      " [-30.55283308 -30.49043331]\n",
      " [-30.55283308 -30.4592583 ]\n",
      " [-30.52109823 -30.42794751]\n",
      " [-30.49333287 -30.39669482]\n",
      " [-30.46880477 -30.36532035]\n",
      " [-30.45208772 -30.3026076 ]\n",
      " [-30.45624055 -30.27118892]\n",
      " [-30.44405737 -30.23986139]\n",
      " [-30.44375658 -30.2084442 ]\n",
      " [-30.43975904 -30.17712973]\n",
      " [-30.39381353 -30.14573676]\n",
      " [-30.40415557 -30.1144574 ]\n",
      " [-30.28832713 -30.08311041]\n",
      " [-30.28832713 -30.05179323]\n",
      " [-30.18966186 -30.02060434]\n",
      " [-30.15251445 -29.98936226]\n",
      " [-30.13865327 -29.95825732]\n",
      " [-30.13785858 -29.92710748]\n",
      " [-30.13666476 -29.89610295]\n",
      " [-30.01095029 -29.86506264]\n",
      " [-30.00936091 -29.83408219]\n",
      " [-29.97690868 -29.77241028]\n",
      " [-29.97690868 -29.74172427]\n",
      " [-29.97690868 -29.71102069]\n",
      " [-29.9174486  -29.68048583]\n",
      " [-29.91423877 -29.64994023]\n",
      " [-29.83969171 -29.61947802]\n",
      " [-29.8072472  -29.58919283]\n",
      " [-29.80266815 -29.55890559]\n",
      " [-29.74435627 -29.52879999]\n",
      " [-29.71281981 -29.49869847]\n",
      " [-29.70065316 -29.46878253]\n",
      " [-29.68471662 -29.43887626]\n",
      " [-29.68471662 -29.40907093]\n",
      " [-29.4857038  -29.37945718]\n",
      " [-29.48453858 -29.34985962]\n",
      " [-29.47004498 -29.29107606]\n",
      " [-29.47004498 -29.26189279]\n",
      " [-29.46729256 -29.23273428]\n",
      " [-29.34616313 -29.20369034]\n",
      " [-29.34436744 -29.17484762]\n",
      " [-29.35676414 -29.14603606]\n",
      " [-29.29264392 -29.11742831]\n",
      " [-29.29264392 -29.08885484]\n",
      " [-29.25317637 -29.06048683]\n",
      " [-29.19874734 -29.03215704]\n",
      " [-29.16205175 -29.00395066]\n",
      " [-29.14960128 -28.97595245]\n",
      " [-29.14960128 -28.94799546]\n",
      " [-29.1271972  -28.92024854]\n",
      " [-29.0895941  -28.89254639]\n",
      " [-29.0895941  -28.86505512]]\n",
      "\n",
      "\n",
      "MAE on training data in [kcal/mol]: \t4.565888071145071\n",
      "MAE on test data in [kcal/mol]: \t4.369643972547927\n"
     ]
    }
   ],
   "source": [
    "# eval on training data\n",
    "y_true_train, y_pred_train = y_train, estimator.predict(x_train)\n",
    "\n",
    "# eval on test data\n",
    "y_true, y_pred = y_test, estimator.predict(x_test)\n",
    "\n",
    "# print results\n",
    "print(\"\\nNumber of estimators:\\t {}\".format(N_ESTIMATORS))\n",
    "print(\"Maximum depth:\\t\\t {}\".format(MAX_DEPTH))\n",
    "print(\"\\nPrediction on test data:\\n\")\n",
    "print(\"\\n\\tPred   |   True\\n\")\n",
    "print(np.c_[y_pred, y_true])\n",
    "print(\"\\n\\nMAE on training data in [kcal/mol]: \\t{}\".format(mean_absolute_error(y_true_train, y_pred_train)*ev2kcal))\n",
    "print(\"MAE on test data in [kcal/mol]: \\t{}\".format(mean_absolute_error(y_true, y_pred)*ev2kcal))"
   ]
  },
  {
   "cell_type": "code",
   "execution_count": 55,
   "metadata": {},
   "outputs": [
    {
     "data": {
      "text/plain": [
       "[<matplotlib.lines.Line2D at 0x115dc43c8>]"
      ]
     },
     "execution_count": 55,
     "metadata": {},
     "output_type": "execute_result"
    },
    {
     "data": {
      "text/plain": [
       "[<matplotlib.lines.Line2D at 0x1a23ef14e0>]"
      ]
     },
     "execution_count": 55,
     "metadata": {},
     "output_type": "execute_result"
    },
    {
     "data": {
      "text/plain": [
       "<matplotlib.legend.Legend at 0x115dc4908>"
      ]
     },
     "execution_count": 55,
     "metadata": {},
     "output_type": "execute_result"
    },
    {
     "data": {
      "text/plain": [
       "Text(0.5,0,'Distance [Angstrom]')"
      ]
     },
     "execution_count": 55,
     "metadata": {},
     "output_type": "execute_result"
    },
    {
     "data": {
      "text/plain": [
       "Text(0,0.5,'Energy [eV]')"
      ]
     },
     "execution_count": 55,
     "metadata": {},
     "output_type": "execute_result"
    },
    {
     "data": {
      "image/png": "[encoded data removed]",
      "text/plain": [
       "<Figure size 864x504 with 1 Axes>"
      ]
     },
     "metadata": {},
     "output_type": "display_data"
    }
   ],
   "source": [
    "fig = plt.figure(figsize=(12, 7)) \n",
    "plt.plot(seps, ens, label = 'DFT Energies')\n",
    "plt.plot(x_seps_test, y_pred, 'kx', MarkerSize = 5, mew = 1, label = 'Predicted Energies'); \n",
    "plt.legend(fontsize = 18)\n",
    "plt.xlabel('Distance [Angstrom]', fontsize = 18)\n",
    "plt.ylabel('Energy [eV]', fontsize = 18)\n",
    "plt.show()"
   ]
  },
  {
   "cell_type": "markdown",
   "metadata": {},
   "source": [
    "## <div style=\"text-align: center\">Separation - to - Energy </div> "
   ]
  },
  {
   "cell_type": "code",
   "execution_count": 56,
   "metadata": {},
   "outputs": [
    {
     "name": "stdout",
     "output_type": "stream",
     "text": [
      "Number of estimators: 5000\n",
      "Maximum depth: 50\n"
     ]
    }
   ],
   "source": [
    "# setup\n",
    "SIM_NO = 150\n",
    "SEED = 42\n",
    "M = 10       # number of training points\n",
    "\n",
    "# random forest params (found from hyperparameter optimization)  \n",
    "N_ESTIMATORS = 5000 \n",
    "MAX_DEPTH = 50\n",
    "\n",
    "# alternate params\n",
    "# N_ESTIMATORS = 1000 \n",
    "# MAX_DEPTH = 20\n",
    "\n",
    "# path to data\n",
    "os.environ['PROJDIR'] = '/Users/simonbatzner1/Desktop/Research/Research_Code/ML-electron-density'\n",
    "STR_PREF = os.environ['PROJDIR'] + '/data/H2_DFT/temp_data/store/'\n",
    "\n",
    "print(\"Number of estimators: {}\".format(N_ESTIMATORS))\n",
    "print(\"Maximum depth: {}\".format(MAX_DEPTH))"
   ]
  },
  {
   "cell_type": "markdown",
   "metadata": {},
   "source": [
    "## Load data"
   ]
  },
  {
   "cell_type": "code",
   "execution_count": 57,
   "metadata": {},
   "outputs": [],
   "source": [
    "ens = []\n",
    "seps = []\n",
    "fours = []\n",
    "\n",
    "for n in range(SIM_NO):\n",
    "    # load separation, energy, and density\n",
    "    sep = np.load(STR_PREF + 'sep_store/sep' + str(n) + '.npy')\n",
    "    en = np.load(STR_PREF + 'en_store/en' + str(n) + '.npy')\n",
    "    four = np.load(STR_PREF + 'four_store/four' + str(n) + '.npy')\n",
    "\n",
    "    # format\n",
    "    sep = np.reshape(sep, (1,))[0]\n",
    "    en = np.reshape(en, (1,))[0]['energy']\n",
    "    four = np.real(four)\n",
    "\n",
    "    ens.append(en)\n",
    "    seps.append(sep)\n",
    "    fours.append(four) "
   ]
  },
  {
   "cell_type": "markdown",
   "metadata": {},
   "source": [
    "## Setup training and test data"
   ]
  },
  {
   "cell_type": "code",
   "execution_count": 58,
   "metadata": {},
   "outputs": [
    {
     "name": "stdout",
     "output_type": "stream",
     "text": [
      "(10, 1)\n",
      "(140,)\n"
     ]
    }
   ],
   "source": [
    "data = seps\n",
    "labels = ens\n",
    "\n",
    "# define training and test indices\n",
    "train_indices = [int(n) for n in np.round(np.linspace(0,149,M))]\n",
    "test_indices = [n for n in range(150) if n not in train_indices]\n",
    "\n",
    "if len(train_indices) != M: \n",
    "    print(\"Size of training set doesn't match the M specified\")\n",
    "    \n",
    "x_train = np.array([data[n] for n in train_indices])\n",
    "x_test = np.array([data[n] for n in test_indices])\n",
    "y_train = np.array([labels[n] for n in train_indices])\n",
    "y_test =np.array([labels[n] for n in test_indices])\n",
    "\n",
    "# convert to np arrays\n",
    "x_train = np.array(x_train)\n",
    "x_train = x_train.reshape(-1,1)\n",
    "x_test = np.array(x_test)\n",
    "x_test = x_test.reshape(-1,1)\n",
    "y_train = np.array(y_train)\n",
    "y_test = np.array(y_test)\n",
    "\n",
    "print(x_train.shape)\n",
    "print(y_test.shape)"
   ]
  },
  {
   "cell_type": "markdown",
   "metadata": {},
   "source": [
    "## Train Random Forest"
   ]
  },
  {
   "cell_type": "code",
   "execution_count": 59,
   "metadata": {},
   "outputs": [
    {
     "data": {
      "text/plain": [
       "RandomForestRegressor(bootstrap=True, criterion='mse', max_depth=50,\n",
       "           max_features='auto', max_leaf_nodes=None,\n",
       "           min_impurity_decrease=0.0, min_impurity_split=None,\n",
       "           min_samples_leaf=1, min_samples_split=2,\n",
       "           min_weight_fraction_leaf=0.0, n_estimators=5000, n_jobs=1,\n",
       "           oob_score=False, random_state=42, verbose=0, warm_start=False)"
      ]
     },
     "execution_count": 59,
     "metadata": {},
     "output_type": "execute_result"
    }
   ],
   "source": [
    "# train random forest\n",
    "estimator = RandomForestRegressor(random_state=SEED, n_estimators=N_ESTIMATORS, max_depth=MAX_DEPTH)\n",
    "estimator.fit(x_train, y_train)"
   ]
  },
  {
   "cell_type": "markdown",
   "metadata": {},
   "source": [
    "## Results"
   ]
  },
  {
   "cell_type": "code",
   "execution_count": 60,
   "metadata": {},
   "outputs": [
    {
     "name": "stdout",
     "output_type": "stream",
     "text": [
      "\n",
      "Number of estimators:\t 5000\n",
      "Maximum depth:\t\t 50\n",
      "\n",
      "Prediction on test data:\n",
      "\n",
      "\n",
      "\tPred   |   True\n",
      "\n",
      "[[-30.31630128 -29.86480944]\n",
      " [-30.31630128 -30.00126384]\n",
      " [-30.31630128 -30.13048409]\n",
      " [-30.31630128 -30.25205876]\n",
      " [-30.31630128 -30.36705412]\n",
      " [-30.31630128 -30.47510758]\n",
      " [-30.31630128 -30.57717032]\n",
      " [-30.31630128 -30.67320233]\n",
      " [-30.96541061 -30.7632198 ]\n",
      " [-30.96541061 -30.84802303]\n",
      " [-30.96541061 -30.92735568]\n",
      " [-30.96541061 -31.00192919]\n",
      " [-30.96541061 -31.07152411]\n",
      " [-30.96541061 -31.13677132]\n",
      " [-30.96541061 -31.19766036]\n",
      " [-30.96541061 -31.25422224]\n",
      " [-31.28446053 -31.35579816]\n",
      " [-31.28446053 -31.40113248]\n",
      " [-31.28446053 -31.44287327]\n",
      " [-31.28446053 -31.48142229]\n",
      " [-31.28446053 -31.51679575]\n",
      " [-31.28446053 -31.54904043]\n",
      " [-31.28446053 -31.57847976]\n",
      " [-31.28446053 -31.60506448]\n",
      " [-31.57867833 -31.62907309]\n",
      " [-31.57867833 -31.65047649]\n",
      " [-31.57867833 -31.66951141]\n",
      " [-31.57867833 -31.68621403]\n",
      " [-31.57867833 -31.70064478]\n",
      " [-31.57867833 -31.71298488]\n",
      " [-31.57867833 -31.72325065]\n",
      " [-31.65666303 -31.73803637]\n",
      " [-31.65666303 -31.74270652]\n",
      " [-31.65666303 -31.74565502]\n",
      " [-31.65666303 -31.74695245]\n",
      " [-31.65666303 -31.74667599]\n",
      " [-31.65666303 -31.74489323]\n",
      " [-31.65666303 -31.74165698]\n",
      " [-31.65666303 -31.73704723]\n",
      " [-31.62547492 -31.73109488]\n",
      " [-31.62547492 -31.72386794]\n",
      " [-31.62547492 -31.71544669]\n",
      " [-31.62547492 -31.70583223]\n",
      " [-31.62547492 -31.69513134]\n",
      " [-31.62547492 -31.68332731]\n",
      " [-31.62547492 -31.67053592]\n",
      " [-31.62547492 -31.65672423]\n",
      " [-31.55198702 -31.62636529]\n",
      " [-31.55198702 -31.60985192]\n",
      " [-31.55198702 -31.5925671 ]\n",
      " [-31.55198702 -31.57444336]\n",
      " [-31.55198702 -31.55562192]\n",
      " [-31.55198702 -31.53602468]\n",
      " [-31.55198702 -31.51573817]\n",
      " [-31.55198702 -31.49485697]\n",
      " [-31.35391612 -31.47328554]\n",
      " [-31.35391612 -31.45118145]\n",
      " [-31.35391612 -31.42843953]\n",
      " [-31.35391612 -31.40522154]\n",
      " [-31.35391612 -31.38141442]\n",
      " [-31.35391612 -31.35711097]\n",
      " [-31.35391612 -31.33240915]\n",
      " [-31.19387909 -31.28161023]\n",
      " [-31.19387909 -31.25555287]\n",
      " [-31.19387909 -31.22918843]\n",
      " [-31.19387909 -31.20237949]\n",
      " [-31.19387909 -31.17522306]\n",
      " [-31.19387909 -31.14781833]\n",
      " [-31.19387909 -31.12002121]\n",
      " [-31.19387909 -31.09201361]\n",
      " [-30.91599594 -31.06364437]\n",
      " [-30.91599594 -31.03509757]\n",
      " [-30.91599594 -31.00621866]\n",
      " [-30.91599594 -30.97719376]\n",
      " [-30.91599594 -30.94786409]\n",
      " [-30.91599594 -30.91832898]\n",
      " [-30.91599594 -30.88869046]\n",
      " [-30.91599594 -30.85878473]\n",
      " [-30.73062338 -30.79857312]\n",
      " [-30.73062338 -30.76829214]\n",
      " [-30.73062338 -30.73778749]\n",
      " [-30.73062338 -30.70716025]\n",
      " [-30.73062338 -30.67651259]\n",
      " [-30.73062338 -30.64567093]\n",
      " [-30.73062338 -30.61482858]\n",
      " [-30.73062338 -30.58381058]\n",
      " [-30.42783101 -30.5528104 ]\n",
      " [-30.42783101 -30.52165104]\n",
      " [-30.42783101 -30.49043331]\n",
      " [-30.42783101 -30.4592583 ]\n",
      " [-30.42783101 -30.42794751]\n",
      " [-30.42783101 -30.39669482]\n",
      " [-30.42783101 -30.36532035]\n",
      " [-30.22330677 -30.3026076 ]\n",
      " [-30.22330677 -30.27118892]\n",
      " [-30.22330677 -30.23986139]\n",
      " [-30.22330677 -30.2084442 ]\n",
      " [-30.22330677 -30.17712973]\n",
      " [-30.22330677 -30.14573676]\n",
      " [-30.22330677 -30.1144574 ]\n",
      " [-30.22330677 -30.08311041]\n",
      " [-29.91297538 -30.05179323]\n",
      " [-29.91297538 -30.02060434]\n",
      " [-29.91297538 -29.98936226]\n",
      " [-29.91297538 -29.95825732]\n",
      " [-29.91297538 -29.92710748]\n",
      " [-29.91297538 -29.89610295]\n",
      " [-29.91297538 -29.86506264]\n",
      " [-29.91297538 -29.83408219]\n",
      " [-29.71933051 -29.77241028]\n",
      " [-29.71933051 -29.74172427]\n",
      " [-29.71933051 -29.71102069]\n",
      " [-29.71933051 -29.68048583]\n",
      " [-29.71933051 -29.64994023]\n",
      " [-29.71933051 -29.61947802]\n",
      " [-29.71933051 -29.58919283]\n",
      " [-29.71933051 -29.55890559]\n",
      " [-29.43506335 -29.52879999]\n",
      " [-29.43506335 -29.49869847]\n",
      " [-29.43506335 -29.46878253]\n",
      " [-29.43506335 -29.43887626]\n",
      " [-29.43506335 -29.40907093]\n",
      " [-29.43506335 -29.37945718]\n",
      " [-29.43506335 -29.34985962]\n",
      " [-29.27882166 -29.29107606]\n",
      " [-29.27882166 -29.26189279]\n",
      " [-29.27882166 -29.23273428]\n",
      " [-29.27882166 -29.20369034]\n",
      " [-29.27882166 -29.17484762]\n",
      " [-29.27882166 -29.14603606]\n",
      " [-29.27882166 -29.11742831]\n",
      " [-29.27882166 -29.08885484]\n",
      " [-29.08365511 -29.06048683]\n",
      " [-29.08365511 -29.03215704]\n",
      " [-29.08365511 -29.00395066]\n",
      " [-29.08365511 -28.97595245]\n",
      " [-29.08365511 -28.94799546]\n",
      " [-29.08365511 -28.92024854]\n",
      " [-29.08365511 -28.89254639]\n",
      " [-29.08365511 -28.86505512]]\n",
      "\n",
      "\n",
      "MAE on training data in [kcal/mol]: \t3.423961025932484\n",
      "MAE on test data in [kcal/mol]: \t2.1611654975409564\n"
     ]
    }
   ],
   "source": [
    "# eval on training data\n",
    "y_true_train, y_pred_train = y_train, estimator.predict(x_train)\n",
    "\n",
    "# eval on test data\n",
    "y_true, y_pred = y_test, estimator.predict(x_test)\n",
    "# print results\n",
    "print(\"\\nNumber of estimators:\\t {}\".format(N_ESTIMATORS))\n",
    "print(\"Maximum depth:\\t\\t {}\".format(MAX_DEPTH))\n",
    "print(\"\\nPrediction on test data:\\n\")\n",
    "print(\"\\n\\tPred   |   True\\n\")\n",
    "print(np.c_[y_pred, y_true])\n",
    "print(\"\\n\\nMAE on training data in [kcal/mol]: \\t{}\".format(mean_absolute_error(y_true_train, y_pred_train)*ev2kcal))\n",
    "print(\"MAE on test data in [kcal/mol]: \\t{}\".format(mean_absolute_error(y_true, y_pred)*ev2kcal))"
   ]
  },
  {
   "cell_type": "code",
   "execution_count": 61,
   "metadata": {},
   "outputs": [
    {
     "data": {
      "text/plain": [
       "[<matplotlib.lines.Line2D at 0x1a231f7f28>]"
      ]
     },
     "execution_count": 61,
     "metadata": {},
     "output_type": "execute_result"
    },
    {
     "data": {
      "text/plain": [
       "[<matplotlib.lines.Line2D at 0x1a231e8400>]"
      ]
     },
     "execution_count": 61,
     "metadata": {},
     "output_type": "execute_result"
    },
    {
     "data": {
      "text/plain": [
       "<matplotlib.legend.Legend at 0x1a232ab4a8>"
      ]
     },
     "execution_count": 61,
     "metadata": {},
     "output_type": "execute_result"
    },
    {
     "data": {
      "image/png": "[encoded data removed]",
      "text/plain": [
       "<Figure size 864x504 with 1 Axes>"
      ]
     },
     "metadata": {},
     "output_type": "display_data"
    }
   ],
   "source": [
    "fig = plt.figure(figsize=(12, 7)) \n",
    "plt.plot(seps, ens, label = 'DFT Energies')\n",
    "plt.plot(x_seps_test, y_pred, 'k.', MarkerSize = 15, mew = 3, label = 'Predicted Energies'); \n",
    "plt.legend(fontsize = 18)\n",
    "plt.xlabel('Distance [Angstrom]', fontsize = 18)\n",
    "plt.ylabel('Energy [eV]', fontsize = 18)\n",
    "plt.show()"
   ]
  },
  {
   "cell_type": "markdown",
   "metadata": {},
   "source": [
    "For comparison, from [1]: \"The MAE that is introduced by the PBE approximation on the H2 data set is 2.3 kcal/mol (compared to exact CI calculations)\"\n",
    "\n",
    "[1] Brockherde et al. Bypassing the Kohn-Sham equations with machine learning. Nature Communications 8, 872 (2017)"
   ]
  }
 ],
 "metadata": {
  "kernelspec": {
   "display_name": "Python 3",
   "language": "python",
   "name": "python3"
  },
  "language_info": {
   "codemirror_mode": {
    "name": "ipython",
    "version": 3
   },
   "file_extension": ".py",
   "mimetype": "text/x-python",
   "name": "python",
   "nbconvert_exporter": "python",
   "pygments_lexer": "ipython3",
   "version": "3.5.5"
  }
 },
 "nbformat": 4,
 "nbformat_minor": 2
}
