{
 "cells": [
  {
   "cell_type": "markdown",
   "metadata": {},
   "source": [
    "# <div style=\"text-align: center\">Random Forests - Hohenberg-Kohn Mapping</div> \n",
    " \n",
    "## <div style=\"text-align: center\">Jon Vandermause, Steven Torrisi, Simon Batzner</div> "
   ]
  },
  {
   "cell_type": "markdown",
   "metadata": {},
   "source": [
    "## <div style=\"text-align: center\">Gaussian Potential-to-Density </div> "
   ]
  },
  {
   "cell_type": "code",
   "execution_count": 1,
   "metadata": {},
   "outputs": [],
   "source": [
    "from __future__ import absolute_import\n",
    "from __future__ import division\n",
    "from __future__ import print_function\n",
    "\n",
    "import numpy as np\n",
    "import os\n",
    "import matplotlib.pyplot as plt\n",
    "from sklearn.datasets import load_boston\n",
    "from sklearn.metrics import mean_squared_error\n",
    "from sklearn.metrics import mean_absolute_error\n",
    "from sklearn.model_selection import cross_val_score\n",
    "from sklearn.ensemble import RandomForestRegressor\n",
    "from sklearn.model_selection import train_test_split\n",
    "from sklearn.model_selection import train_test_split\n",
    "from KRR_reproduce import *\n",
    "\n",
    "from IPython.core.interactiveshell import InteractiveShell\n",
    "InteractiveShell.ast_node_interactivity = \"all\""
   ]
  },
  {
   "cell_type": "code",
   "execution_count": 2,
   "metadata": {},
   "outputs": [],
   "source": [
    "SIM_NO = 150\n",
    "seed = 42\n",
    "\n",
    "# setup\n",
    "ev2kcal = 1/0.043     # conversion factor\n",
    "SIM_NO = 150          # total number of data points\n",
    "SEED = 42\n",
    "M = 140               # number of training points\n",
    "GRID_SPACE = 0.8      # grid spacing for gaussian potential (see [1])\n",
    "\n",
    "# random forest\n",
    "N_ESTIMATORS = 1000    # number of treest\n",
    "MAX_DEPTH = 50        # maximum depth of the tree\n",
    "\n",
    "# # alternate params\n",
    "# N_ESTIMATORS = 100    # number of treest\n",
    "# MAX_DEPTH = 20      # maximum depth of the tree\n",
    "\n",
    "\n",
    "# path to data\n",
    "os.environ['PROJDIR'] = '/Users/simonbatzner1/Desktop/Research/Research_Code/ML-electron-density'\n",
    "STR_PREF = os.environ['PROJDIR'] + '/data/H2_DFT/temp_data/store/'"
   ]
  },
  {
   "cell_type": "markdown",
   "metadata": {},
   "source": [
    "## Load data"
   ]
  },
  {
   "cell_type": "code",
   "execution_count": 3,
   "metadata": {},
   "outputs": [],
   "source": [
    "ens = []\n",
    "seps = []\n",
    "fours = []\n",
    "\n",
    "for n in range(SIM_NO):\n",
    "    # load separation, energy, and density\n",
    "    sep = np.load(STR_PREF + 'sep_store/sep' + str(n) + '.npy')\n",
    "    en = np.load(STR_PREF + 'en_store/en' + str(n) + '.npy')\n",
    "    four = np.load(STR_PREF + 'four_store/four' + str(n) + '.npy')\n",
    "\n",
    "    # put results in a nicer format\n",
    "    sep = np.reshape(sep, (1,))[0]\n",
    "    en = np.reshape(en, (1,))[0]['energy']\n",
    "    four = np.real(four)\n",
    "\n",
    "    # store quantities\n",
    "    ens.append(en)\n",
    "    seps.append(sep)\n",
    "    fours.append(four)"
   ]
  },
  {
   "cell_type": "markdown",
   "metadata": {},
   "source": [
    "## Create gaussian potentials"
   ]
  },
  {
   "cell_type": "code",
   "execution_count": 4,
   "metadata": {},
   "outputs": [],
   "source": [
    "pots = []\n",
    "grid_len = 5.29177 * 2\n",
    "fours_flattened = []\n",
    "\n",
    "for n in range(SIM_NO):\n",
    "    dist = seps[n]\n",
    "    pot = pot_rep(dist, grid_len, grid_space=GRID_SPACE)\n",
    "    pot = pot.flatten()\n",
    "    pots.append(pot)\n",
    "    four = fours[n]\n",
    "    four = four.flatten()\n",
    "    fours_flattened.append(four)"
   ]
  },
  {
   "cell_type": "code",
   "execution_count": 5,
   "metadata": {},
   "outputs": [
    {
     "name": "stdout",
     "output_type": "stream",
     "text": [
      "(140, 2744)\n",
      "(10, 15625)\n",
      "(10,)\n"
     ]
    }
   ],
   "source": [
    "data = pots\n",
    "labels = fours_flattened\n",
    "\n",
    "# define training and test indices\n",
    "train_indices = [int(n) for n in np.round(np.linspace(0,149,M))]\n",
    "test_indices = [n for n in range(150) if n not in train_indices]\n",
    "\n",
    "if len(train_indices) != M: \n",
    "    print(\"Size of training set doesn't match the M specified\")\n",
    "    \n",
    "x_train = np.array([data[n] for n in train_indices])\n",
    "x_test = np.array([data[n] for n in test_indices])\n",
    "y_train = np.array([labels[n] for n in train_indices])\n",
    "y_test =np.array([labels[n] for n in test_indices])\n",
    "x_seps_test = np.array([seps[n] for n in test_indices])\n",
    "\n",
    "# convert to np arrays\n",
    "x_train = np.array(x_train)\n",
    "x_test = np.array(x_test)\n",
    "y_train = np.array(y_train)\n",
    "y_test = np.array(y_test)\n",
    "\n",
    "print(x_train.shape)\n",
    "print(y_test.shape)\n",
    "print(x_seps_test.shape)"
   ]
  },
  {
   "cell_type": "code",
   "execution_count": 6,
   "metadata": {},
   "outputs": [
    {
     "name": "stdout",
     "output_type": "stream",
     "text": [
      "Training...\n",
      "\n"
     ]
    },
    {
     "data": {
      "text/plain": [
       "RandomForestRegressor(bootstrap=True, criterion='mse', max_depth=50,\n",
       "           max_features='auto', max_leaf_nodes=None,\n",
       "           min_impurity_decrease=0.0, min_impurity_split=None,\n",
       "           min_samples_leaf=1, min_samples_split=2,\n",
       "           min_weight_fraction_leaf=0.0, n_estimators=1000, n_jobs=1,\n",
       "           oob_score=False, random_state=0, verbose=0, warm_start=False)"
      ]
     },
     "execution_count": 6,
     "metadata": {},
     "output_type": "execute_result"
    }
   ],
   "source": [
    "# train random forest\n",
    "MAX_FEATURES = x_train.shape[1] // 3\n",
    "estimator = RandomForestRegressor(random_state=0, n_estimators=N_ESTIMATORS, max_depth=MAX_DEPTH)\n",
    "print(\"Training...\\n\")\n",
    "estimator.fit(x_train, y_train)"
   ]
  },
  {
   "cell_type": "code",
   "execution_count": 7,
   "metadata": {},
   "outputs": [
    {
     "name": "stdout",
     "output_type": "stream",
     "text": [
      "Number of estimators: 1000\n",
      "Maximum depth: 50\n",
      "\n",
      "MAE on training data in [kcal/mol]:\t0.32324961373478234\n",
      "MAE on test data in [kcal/mol]:\t\t0.5691513061027783\n",
      "\n",
      "Predicted Fourier components:\n",
      "\n",
      "[[  4.88282061e+02  -4.72383725e+02   4.29405700e+02 ...,  -6.93197753e-02\n",
      "    5.59020431e-02  -4.39730473e-02]\n",
      " [  4.88281763e+02  -4.71114487e+02   4.25034149e+02 ...,  -9.47981510e-03\n",
      "    7.64958995e-03  -6.02309028e-03]\n",
      " [  4.88281880e+02  -4.69854749e+02   4.20739915e+02 ...,   3.96886581e-02\n",
      "   -3.20804085e-02   2.53123414e-02]\n",
      " ..., \n",
      " [  4.88281799e+02  -4.64634963e+02   4.03464861e+02 ...,  -3.98822137e-02\n",
      "    3.22188090e-02  -2.54061041e-02]\n",
      " [  4.88281865e+02  -4.63828929e+02   4.00884536e+02 ...,  -4.33464461e-02\n",
      "    3.50200471e-02  -2.76197713e-02]\n",
      " [  4.88281687e+02  -4.63082845e+02   3.98515816e+02 ...,  -2.55372215e-02\n",
      "    2.06241802e-02  -1.62578594e-02]]\n"
     ]
    }
   ],
   "source": [
    "# eval on training data\n",
    "y_true_train, y_pred_train = y_train, estimator.predict(x_train)\n",
    "\n",
    "# eval on test data\n",
    "y_true, y_pred = y_test, estimator.predict(x_test)\n",
    "\n",
    "print(\"Number of estimators: {}\".format(N_ESTIMATORS))\n",
    "print(\"Maximum depth: {}\".format(MAX_DEPTH))\n",
    "print(\"\\nMAE on training data in [kcal/mol]:\\t{}\".format(mean_absolute_error(y_true_train, y_pred_train)*ev2kcal))\n",
    "print(\"MAE on test data in [kcal/mol]:\\t\\t{}\".format(mean_absolute_error(y_true, y_pred)*ev2kcal))\n",
    "\n",
    "print(\"\\nPredicted Fourier components:\\n\")\n",
    "print(y_pred)\n",
    "\n",
    "y_pot2four_pred = y_pred"
   ]
  },
  {
   "cell_type": "markdown",
   "metadata": {},
   "source": [
    "## <div style=\"text-align: center\">Density-to-Energy </div> "
   ]
  },
  {
   "cell_type": "code",
   "execution_count": 8,
   "metadata": {},
   "outputs": [
    {
     "name": "stdout",
     "output_type": "stream",
     "text": [
      "Number of estimators: 1000\n",
      "Maximum depth: 50\n"
     ]
    }
   ],
   "source": [
    "# setup\n",
    "SIM_NO = 150\n",
    "SEED = 42\n",
    "M = 140             # number of training points\n",
    "\n",
    "# random forest params (found from hyperparameter optimization)  \n",
    "# N_ESTIMATORS = 50\n",
    "# MAX_DEPTH = 10\n",
    "\n",
    "N_ESTIMATORS = 1000\n",
    "MAX_DEPTH = 50\n",
    "\n",
    "\n",
    "\n",
    "print(\"Number of estimators: {}\".format(N_ESTIMATORS))\n",
    "print(\"Maximum depth: {}\".format(MAX_DEPTH))"
   ]
  },
  {
   "cell_type": "code",
   "execution_count": 9,
   "metadata": {},
   "outputs": [
    {
     "name": "stdout",
     "output_type": "stream",
     "text": [
      "(140, 15625)\n",
      "(10,)\n"
     ]
    }
   ],
   "source": [
    "data = fours_flattened\n",
    "labels = ens\n",
    "\n",
    "# define training and test indices\n",
    "train_indices = [int(n) for n in np.round(np.linspace(0,149,M))]\n",
    "test_indices = [n for n in range(150) if n not in train_indices]\n",
    "\n",
    "if len(train_indices) != M: \n",
    "    print(\"Size of training set doesn't match the M specified\")\n",
    "    \n",
    "x_train = np.array([data[n] for n in train_indices])\n",
    "x_test = np.array([data[n] for n in test_indices])\n",
    "y_train = np.array([labels[n] for n in train_indices])\n",
    "y_test =np.array([labels[n] for n in test_indices])\n",
    "\n",
    "# convert to np arrays\n",
    "x_train = np.array(x_train)\n",
    "x_test = np.array(x_test)\n",
    "y_train = np.array(y_train)\n",
    "y_test = np.array(y_test)\n",
    "\n",
    "print(x_train.shape)\n",
    "print(y_test.shape)"
   ]
  },
  {
   "cell_type": "markdown",
   "metadata": {},
   "source": [
    "## Set up training and test data"
   ]
  },
  {
   "cell_type": "code",
   "execution_count": 10,
   "metadata": {},
   "outputs": [
    {
     "name": "stdout",
     "output_type": "stream",
     "text": [
      "Training...\n",
      "\n"
     ]
    },
    {
     "data": {
      "text/plain": [
       "RandomForestRegressor(bootstrap=True, criterion='mse', max_depth=50,\n",
       "           max_features='auto', max_leaf_nodes=None,\n",
       "           min_impurity_decrease=0.0, min_impurity_split=None,\n",
       "           min_samples_leaf=1, min_samples_split=2,\n",
       "           min_weight_fraction_leaf=0.0, n_estimators=1000, n_jobs=1,\n",
       "           oob_score=False, random_state=0, verbose=0, warm_start=False)"
      ]
     },
     "execution_count": 10,
     "metadata": {},
     "output_type": "execute_result"
    }
   ],
   "source": [
    "# train random forest\n",
    "MAX_FEATURES = x_train.shape[1] // 3\n",
    "estimator = RandomForestRegressor(random_state=0, n_estimators=N_ESTIMATORS, max_depth=MAX_DEPTH)\n",
    "print(\"Training...\\n\")\n",
    "estimator.fit(x_train, y_train)"
   ]
  },
  {
   "cell_type": "code",
   "execution_count": 11,
   "metadata": {},
   "outputs": [
    {
     "name": "stdout",
     "output_type": "stream",
     "text": [
      "Number of estimators: 1000\n",
      "Maximum depth: 50\n",
      "\n",
      "MAE on training data in [kcal/mol]:\t0.07753000856463753\n",
      "MAE on test data in [kcal/mol]:\t0.1514276109904542\n",
      "\n",
      "Predicted Energy:\n",
      "\n"
     ]
    },
    {
     "data": {
      "text/plain": [
       "-30.542404541292388"
      ]
     },
     "execution_count": 11,
     "metadata": {},
     "output_type": "execute_result"
    }
   ],
   "source": [
    "# eval on training data\n",
    "y_true_train, y_pred_train = y_train, estimator.predict(x_train)\n",
    "\n",
    "# eval on test data\n",
    "y_true, y_pred = y_test, estimator.predict(x_test)\n",
    "\n",
    "print(\"Number of estimators: {}\".format(N_ESTIMATORS))\n",
    "print(\"Maximum depth: {}\".format(MAX_DEPTH))\n",
    "print(\"\\nMAE on training data in [kcal/mol]:\\t{}\".format(mean_absolute_error(y_true_train, y_pred_train)*ev2kcal))\n",
    "print(\"MAE on test data in [kcal/mol]:\\t{}\".format(mean_absolute_error(y_true, y_pred)*ev2kcal))\n",
    "\n",
    "print(\"\\nPredicted Energy:\\n\")\n",
    "y_pred[0]"
   ]
  },
  {
   "cell_type": "markdown",
   "metadata": {},
   "source": [
    "## Now let's compare to generated data from the first mapping"
   ]
  },
  {
   "cell_type": "code",
   "execution_count": 12,
   "metadata": {},
   "outputs": [
    {
     "name": "stdout",
     "output_type": "stream",
     "text": [
      "\n",
      "MAE on generated data in [kcal/mol]:\t0.324307853060265\n",
      "\n",
      "    Pred \t|   True\n",
      "\n",
      "[[-30.52961416 -30.57717032]\n",
      " [-31.50506555 -31.51679575]\n",
      " [-31.74473125 -31.74695245]\n",
      " [-31.61331318 -31.60985192]\n",
      " [-31.28234509 -31.28161023]\n",
      " [-30.86831785 -30.85878473]\n",
      " [-30.41635609 -30.39669482]\n",
      " [-29.94027638 -29.92710748]\n",
      " [-29.48490961 -29.46878253]\n",
      " [-29.01689872 -29.03215704]]\n"
     ]
    }
   ],
   "source": [
    "# eval on generated data from first mapping\n",
    "y_true, y_pred = y_test, estimator.predict(y_pot2four_pred)\n",
    "print(\"\\nMAE on generated data in [kcal/mol]:\\t{}\".format(mean_absolute_error(y_true, y_pred)*ev2kcal))\n",
    "\n",
    "print(\"\\n    Pred \\t|   True\\n\")\n",
    "print(np.c_[y_pred, y_true])"
   ]
  },
  {
   "cell_type": "code",
   "execution_count": 13,
   "metadata": {},
   "outputs": [
    {
     "data": {
      "text/plain": [
       "[<matplotlib.lines.Line2D at 0x2188ce1048>]"
      ]
     },
     "execution_count": 13,
     "metadata": {},
     "output_type": "execute_result"
    },
    {
     "data": {
      "text/plain": [
       "[<matplotlib.lines.Line2D at 0x2188c7eba8>]"
      ]
     },
     "execution_count": 13,
     "metadata": {},
     "output_type": "execute_result"
    },
    {
     "data": {
      "text/plain": [
       "<matplotlib.legend.Legend at 0x2188ce1940>"
      ]
     },
     "execution_count": 13,
     "metadata": {},
     "output_type": "execute_result"
    },
    {
     "data": {
      "text/plain": [
       "Text(0.5,0,'Distance [Angstrom]')"
      ]
     },
     "execution_count": 13,
     "metadata": {},
     "output_type": "execute_result"
    },
    {
     "data": {
      "text/plain": [
       "Text(0,0.5,'Energy [eV]')"
      ]
     },
     "execution_count": 13,
     "metadata": {},
     "output_type": "execute_result"
    },
    {
     "data": {
      "image/png": "[encoded data removed]",
      "text/plain": [
       "<Figure size 864x504 with 1 Axes>"
      ]
     },
     "metadata": {},
     "output_type": "display_data"
    }
   ],
   "source": [
    "fig = plt.figure(figsize=(12, 7));\n",
    "plt.plot(seps, ens, label='DFT energies'); \n",
    "plt.plot(x_seps_test, y_pred, 'kx', MarkerSize = 10, mew = 1, label = 'Predicted energies'); \n",
    "plt.legend(fontsize = 18);\n",
    "plt.xlabel('Distance [Angstrom]', fontsize = 18);\n",
    "plt.ylabel('Energy [eV]', fontsize = 18);\n",
    "plt.show()"
   ]
  },
  {
   "cell_type": "markdown",
   "metadata": {},
   "source": [
    "For comparison, from [1]: \"The MAE that is introduced by the PBE approximation on the H2 data set is 2.3 kcal/mol (compared to exact CI calculations)\"\" \n",
    "\n",
    "[1] Brockherde et al. Bypassing the Kohn-Sham equations with machine learning. Nature Communications 8, 872 (2017)"
   ]
  }
 ],
 "metadata": {
  "kernelspec": {
   "display_name": "Python 3",
   "language": "python",
   "name": "python3"
  },
  "language_info": {
   "codemirror_mode": {
    "name": "ipython",
    "version": 3
   },
   "file_extension": ".py",
   "mimetype": "text/x-python",
   "name": "python",
   "nbconvert_exporter": "python",
   "pygments_lexer": "ipython3",
   "version": "3.5.5"
  }
 },
 "nbformat": 4,
 "nbformat_minor": 2
}
