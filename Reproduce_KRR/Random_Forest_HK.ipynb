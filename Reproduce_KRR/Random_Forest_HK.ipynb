{
 "cells": [
  {
   "cell_type": "markdown",
   "metadata": {},
   "source": [
    "# <div style=\"text-align: center\">Random Forests - Hohenberg-Kohn Mapping</div> \n",
    " \n",
    "## <div style=\"text-align: center\">Jon Vandermause, Steven Torrisi, Simon Batzner</div> "
   ]
  },
  {
   "cell_type": "markdown",
   "metadata": {},
   "source": [
    "## <div style=\"text-align: center\">Gaussian Potential-to-Density </div> "
   ]
  },
  {
   "cell_type": "code",
   "execution_count": 14,
   "metadata": {},
   "outputs": [],
   "source": [
    "from __future__ import absolute_import\n",
    "from __future__ import division\n",
    "from __future__ import print_function\n",
    "\n",
    "import numpy as np\n",
    "import os\n",
    "import matplotlib.pyplot as plt\n",
    "from sklearn.datasets import load_boston\n",
    "from sklearn.metrics import mean_squared_error\n",
    "from sklearn.metrics import mean_absolute_error\n",
    "from sklearn.model_selection import cross_val_score\n",
    "from sklearn.ensemble import RandomForestRegressor\n",
    "from sklearn.model_selection import train_test_split\n",
    "from sklearn.model_selection import train_test_split\n",
    "from KRR_reproduce import *\n",
    "\n",
    "from IPython.core.interactiveshell import InteractiveShell\n",
    "InteractiveShell.ast_node_interactivity = \"all\""
   ]
  },
  {
   "cell_type": "code",
   "execution_count": 15,
   "metadata": {},
   "outputs": [],
   "source": [
    "SIM_NO = 150\n",
    "seed = 42\n",
    "\n",
    "# setup\n",
    "ev2kcal = 1/0.043     # conversion factor\n",
    "SIM_NO = 150          # total number of data points\n",
    "SEED = 42\n",
    "M = 140               # number of training points\n",
    "GRID_SPACE = 0.8      # grid spacing for gaussian potential (see [1])\n",
    "\n",
    "# random forest\n",
    "N_ESTIMATORS = 1000    # number of treest\n",
    "MAX_DEPTH = 50        # maximum depth of the tree\n",
    "\n",
    "# # alternate params\n",
    "# N_ESTIMATORS = 100    # number of treest\n",
    "# MAX_DEPTH = 20      # maximum depth of the tree\n",
    "\n",
    "\n",
    "# path to data\n",
    "os.environ['PROJDIR'] = '/Users/simonbatzner1/Desktop/Research/Research_Code/ML-electron-density'\n",
    "STR_PREF = os.environ['PROJDIR'] + '/data/H2_DFT/temp_data/store/'"
   ]
  },
  {
   "cell_type": "markdown",
   "metadata": {},
   "source": [
    "## Load data"
   ]
  },
  {
   "cell_type": "code",
   "execution_count": 16,
   "metadata": {},
   "outputs": [],
   "source": [
    "ens = []\n",
    "seps = []\n",
    "fours = []\n",
    "\n",
    "for n in range(SIM_NO):\n",
    "    # load separation, energy, and density\n",
    "    sep = np.load(STR_PREF + 'sep_store/sep' + str(n) + '.npy')\n",
    "    en = np.load(STR_PREF + 'en_store/en' + str(n) + '.npy')\n",
    "    four = np.load(STR_PREF + 'four_store/four' + str(n) + '.npy')\n",
    "\n",
    "    # put results in a nicer format\n",
    "    sep = np.reshape(sep, (1,))[0]\n",
    "    en = np.reshape(en, (1,))[0]['energy']\n",
    "    four = np.real(four)\n",
    "\n",
    "    # store quantities\n",
    "    ens.append(en)\n",
    "    seps.append(sep)\n",
    "    fours.append(four)"
   ]
  },
  {
   "cell_type": "markdown",
   "metadata": {},
   "source": [
    "## Create gaussian potentials"
   ]
  },
  {
   "cell_type": "code",
   "execution_count": 17,
   "metadata": {},
   "outputs": [],
   "source": [
    "pots = []\n",
    "grid_len = 5.29177 * 2\n",
    "fours_flattened = []\n",
    "\n",
    "for n in range(SIM_NO):\n",
    "    dist = seps[n]\n",
    "    pot = pot_rep(dist, grid_len, grid_space=GRID_SPACE)\n",
    "    pot = pot.flatten()\n",
    "    pots.append(pot)\n",
    "    four = fours[n]\n",
    "    four = four.flatten()\n",
    "    fours_flattened.append(four)"
   ]
  },
  {
   "cell_type": "code",
   "execution_count": 18,
   "metadata": {},
   "outputs": [
    {
     "name": "stdout",
     "output_type": "stream",
     "text": [
      "(10, 2744)\n",
      "(140, 15625)\n",
      "(140,)\n"
     ]
    }
   ],
   "source": [
    "data = pots\n",
    "labels = fours_flattened\n",
    "\n",
    "# define training and test indices\n",
    "train_indices = [int(n) for n in np.round(np.linspace(0,149,M))]\n",
    "test_indices = [n for n in range(150) if n not in train_indices]\n",
    "\n",
    "if len(train_indices) != M: \n",
    "    print(\"Size of training set doesn't match the M specified\")\n",
    "    \n",
    "x_train = np.array([data[n] for n in train_indices])\n",
    "x_test = np.array([data[n] for n in test_indices])\n",
    "y_train = np.array([labels[n] for n in train_indices])\n",
    "y_test =np.array([labels[n] for n in test_indices])\n",
    "x_seps_test = np.array([seps[n] for n in test_indices])\n",
    "\n",
    "# convert to np arrays\n",
    "x_train = np.array(x_train)\n",
    "x_test = np.array(x_test)\n",
    "y_train = np.array(y_train)\n",
    "y_test = np.array(y_test)\n",
    "\n",
    "print(x_train.shape)\n",
    "print(y_test.shape)\n",
    "print(x_seps_test.shape)"
   ]
  },
  {
   "cell_type": "code",
   "execution_count": 19,
   "metadata": {},
   "outputs": [
    {
     "name": "stdout",
     "output_type": "stream",
     "text": [
      "Training...\n",
      "\n"
     ]
    },
    {
     "data": {
      "text/plain": [
       "RandomForestRegressor(bootstrap=True, criterion='mse', max_depth=50,\n",
       "           max_features=914, max_leaf_nodes=None,\n",
       "           min_impurity_decrease=0.0, min_impurity_split=None,\n",
       "           min_samples_leaf=1, min_samples_split=2,\n",
       "           min_weight_fraction_leaf=0.0, n_estimators=1000, n_jobs=1,\n",
       "           oob_score=False, random_state=0, verbose=0, warm_start=False)"
      ]
     },
     "execution_count": 19,
     "metadata": {},
     "output_type": "execute_result"
    }
   ],
   "source": [
    "# train random forest\n",
    "MAX_FEATURES = x_train.shape[1] // 3\n",
    "estimator = RandomForestRegressor(random_state=0, n_estimators=N_ESTIMATORS, max_depth=MAX_DEPTH, max_features = MAX_FEATURES)\n",
    "print(\"Training...\\n\")\n",
    "estimator.fit(x_train, y_train)"
   ]
  },
  {
   "cell_type": "code",
   "execution_count": 20,
   "metadata": {},
   "outputs": [
    {
     "name": "stdout",
     "output_type": "stream",
     "text": [
      "Number of estimators: 1000\n",
      "Maximum depth: 50\n",
      "\n",
      "MAE on training data in [kcal/mol]:\t14.398950792380392\n",
      "MAE on test data in [kcal/mol]:\t\t12.472724334847085\n",
      "\n",
      "Predicted Fourier components:\n",
      "\n",
      "[[  4.88281714e+02  -4.72044646e+02   4.28274843e+02 ...,  -6.02663355e-02\n",
      "    4.85761922e-02  -3.81800279e-02]\n",
      " [  4.88281714e+02  -4.72044646e+02   4.28274843e+02 ...,  -6.02663355e-02\n",
      "    4.85761922e-02  -3.81800279e-02]\n",
      " [  4.88281714e+02  -4.72044646e+02   4.28274843e+02 ...,  -6.02663355e-02\n",
      "    4.85761922e-02  -3.81800279e-02]\n",
      " ..., \n",
      " [  4.88281794e+02  -4.63316715e+02   3.99283418e+02 ...,  -2.23036611e-02\n",
      "    1.80175409e-02  -1.42067041e-02]\n",
      " [  4.88281794e+02  -4.63298371e+02   3.99223828e+02 ...,  -2.23320323e-02\n",
      "    1.80404492e-02  -1.42247446e-02]\n",
      " [  4.88281794e+02  -4.63298371e+02   3.99223828e+02 ...,  -2.23320323e-02\n",
      "    1.80404492e-02  -1.42247446e-02]]\n"
     ]
    }
   ],
   "source": [
    "# eval on training data\n",
    "y_true_train, y_pred_train = y_train, estimator.predict(x_train)\n",
    "\n",
    "# eval on test data\n",
    "y_true, y_pred = y_test, estimator.predict(x_test)\n",
    "\n",
    "print(\"Number of estimators: {}\".format(N_ESTIMATORS))\n",
    "print(\"Maximum depth: {}\".format(MAX_DEPTH))\n",
    "print(\"\\nMAE on training data in [kcal/mol]:\\t{}\".format(mean_absolute_error(y_true_train, y_pred_train)*ev2kcal))\n",
    "print(\"MAE on test data in [kcal/mol]:\\t\\t{}\".format(mean_absolute_error(y_true, y_pred)*ev2kcal))\n",
    "\n",
    "print(\"\\nPredicted Fourier components:\\n\")\n",
    "print(y_pred)\n",
    "\n",
    "y_pot2four_pred = y_pred"
   ]
  },
  {
   "cell_type": "markdown",
   "metadata": {},
   "source": [
    "## <div style=\"text-align: center\">Density-to-Energy </div> "
   ]
  },
  {
   "cell_type": "code",
   "execution_count": 21,
   "metadata": {},
   "outputs": [
    {
     "name": "stdout",
     "output_type": "stream",
     "text": [
      "Number of estimators: 1000\n",
      "Maximum depth: 50\n"
     ]
    }
   ],
   "source": [
    "# setup\n",
    "SIM_NO = 150\n",
    "SEED = 42\n",
    "M = 10               # number of training points\n",
    "\n",
    "# random forest params (found from hyperparameter optimization)  \n",
    "# N_ESTIMATORS = 50\n",
    "# MAX_DEPTH = 10\n",
    "\n",
    "N_ESTIMATORS = 1000\n",
    "MAX_DEPTH = 50\n",
    "\n",
    "\n",
    "\n",
    "print(\"Number of estimators: {}\".format(N_ESTIMATORS))\n",
    "print(\"Maximum depth: {}\".format(MAX_DEPTH))"
   ]
  },
  {
   "cell_type": "code",
   "execution_count": 22,
   "metadata": {},
   "outputs": [
    {
     "name": "stdout",
     "output_type": "stream",
     "text": [
      "(10, 15625)\n",
      "(140,)\n"
     ]
    }
   ],
   "source": [
    "data = fours_flattened\n",
    "labels = ens\n",
    "\n",
    "# define training and test indices\n",
    "train_indices = [int(n) for n in np.round(np.linspace(0,149,M))]\n",
    "test_indices = [n for n in range(150) if n not in train_indices]\n",
    "\n",
    "if len(train_indices) != M: \n",
    "    print(\"Size of training set doesn't match the M specified\")\n",
    "    \n",
    "x_train = np.array([data[n] for n in train_indices])\n",
    "x_test = np.array([data[n] for n in test_indices])\n",
    "y_train = np.array([labels[n] for n in train_indices])\n",
    "y_test =np.array([labels[n] for n in test_indices])\n",
    "\n",
    "# convert to np arrays\n",
    "x_train = np.array(x_train)\n",
    "x_test = np.array(x_test)\n",
    "y_train = np.array(y_train)\n",
    "y_test = np.array(y_test)\n",
    "\n",
    "print(x_train.shape)\n",
    "print(y_test.shape)"
   ]
  },
  {
   "cell_type": "markdown",
   "metadata": {},
   "source": [
    "## Set up training and test data"
   ]
  },
  {
   "cell_type": "code",
   "execution_count": 23,
   "metadata": {},
   "outputs": [
    {
     "name": "stdout",
     "output_type": "stream",
     "text": [
      "Training...\n",
      "\n"
     ]
    },
    {
     "data": {
      "text/plain": [
       "RandomForestRegressor(bootstrap=True, criterion='mse', max_depth=50,\n",
       "           max_features=5208, max_leaf_nodes=None,\n",
       "           min_impurity_decrease=0.0, min_impurity_split=None,\n",
       "           min_samples_leaf=1, min_samples_split=2,\n",
       "           min_weight_fraction_leaf=0.0, n_estimators=1000, n_jobs=1,\n",
       "           oob_score=False, random_state=0, verbose=0, warm_start=False)"
      ]
     },
     "execution_count": 23,
     "metadata": {},
     "output_type": "execute_result"
    }
   ],
   "source": [
    "# train random forest\n",
    "MAX_FEATURES = x_train.shape[1] // 3\n",
    "estimator = RandomForestRegressor(random_state=0, n_estimators=N_ESTIMATORS, max_depth=MAX_DEPTH, max_features = MAX_FEATURES)\n",
    "print(\"Training...\\n\")\n",
    "estimator.fit(x_train, y_train)"
   ]
  },
  {
   "cell_type": "code",
   "execution_count": 24,
   "metadata": {},
   "outputs": [
    {
     "name": "stdout",
     "output_type": "stream",
     "text": [
      "Number of estimators: 1000\n",
      "Maximum depth: 50\n",
      "\n",
      "MAE on training data in [kcal/mol]:\t3.377323477344585\n",
      "MAE on test data in [kcal/mol]:\t2.8332983759046173\n",
      "\n",
      "Predicted Energy:\n",
      "\n"
     ]
    },
    {
     "data": {
      "text/plain": [
       "-30.20872474666287"
      ]
     },
     "execution_count": 24,
     "metadata": {},
     "output_type": "execute_result"
    }
   ],
   "source": [
    "# eval on training data\n",
    "y_true_train, y_pred_train = y_train, estimator.predict(x_train)\n",
    "\n",
    "# eval on test data\n",
    "y_true, y_pred = y_test, estimator.predict(x_test)\n",
    "\n",
    "print(\"Number of estimators: {}\".format(N_ESTIMATORS))\n",
    "print(\"Maximum depth: {}\".format(MAX_DEPTH))\n",
    "print(\"\\nMAE on training data in [kcal/mol]:\\t{}\".format(mean_absolute_error(y_true_train, y_pred_train)*ev2kcal))\n",
    "print(\"MAE on test data in [kcal/mol]:\\t{}\".format(mean_absolute_error(y_true, y_pred)*ev2kcal))\n",
    "\n",
    "print(\"\\nPredicted Energy:\\n\")\n",
    "y_pred[0]"
   ]
  },
  {
   "cell_type": "markdown",
   "metadata": {},
   "source": [
    "## Now let's compare to generated data from the first mapping"
   ]
  },
  {
   "cell_type": "code",
   "execution_count": 25,
   "metadata": {},
   "outputs": [
    {
     "name": "stdout",
     "output_type": "stream",
     "text": [
      "\n",
      "MAE on generated data in [kcal/mol]:\t5.149199774639875\n",
      "\n",
      "    Pred \t|   True\n",
      "\n",
      "[[-30.42608277 -29.86480944]\n",
      " [-30.42608277 -30.00126384]\n",
      " [-30.42608277 -30.13048409]\n",
      " [-30.40772335 -30.25205876]\n",
      " [-30.49653134 -30.36705412]\n",
      " [-30.49653134 -30.47510758]\n",
      " [-30.51906203 -30.57717032]\n",
      " [-30.51906203 -30.67320233]\n",
      " [-30.71260002 -30.7632198 ]\n",
      " [-30.71260002 -30.84802303]\n",
      " [-30.84743473 -30.92735568]\n",
      " [-30.86620394 -31.00192919]\n",
      " [-30.86620394 -31.07152411]\n",
      " [-30.8693781  -31.13677132]\n",
      " [-30.87246905 -31.19766036]\n",
      " [-30.87246905 -31.25422224]\n",
      " [-30.9477312  -31.35579816]\n",
      " [-30.9477312  -31.40113248]\n",
      " [-30.9477312  -31.44287327]\n",
      " [-30.9477312  -31.48142229]\n",
      " [-30.9477312  -31.51679575]\n",
      " [-30.96691676 -31.54904043]\n",
      " [-31.04130015 -31.57847976]\n",
      " [-31.05556451 -31.60506448]\n",
      " [-31.06009509 -31.62907309]\n",
      " [-31.05586469 -31.65047649]\n",
      " [-31.12204955 -31.66951141]\n",
      " [-31.12378211 -31.68621403]\n",
      " [-31.1270674  -31.70064478]\n",
      " [-31.12822985 -31.71298488]\n",
      " [-31.21025415 -31.72325065]\n",
      " [-31.21025415 -31.73803637]\n",
      " [-31.21025415 -31.74270652]\n",
      " [-31.21698659 -31.74565502]\n",
      " [-31.21698659 -31.74695245]\n",
      " [-31.22215881 -31.74667599]\n",
      " [-31.28086736 -31.74489323]\n",
      " [-31.29895955 -31.74165698]\n",
      " [-31.41673593 -31.73704723]\n",
      " [-31.47313735 -31.73109488]\n",
      " [-31.47371248 -31.72386794]\n",
      " [-31.46128204 -31.71544669]\n",
      " [-31.45701455 -31.70583223]\n",
      " [-31.45701455 -31.69513134]\n",
      " [-31.45701455 -31.68332731]\n",
      " [-31.50434659 -31.67053592]\n",
      " [-31.50434659 -31.65672423]\n",
      " [-31.49867072 -31.62636529]\n",
      " [-31.48625367 -31.60985192]\n",
      " [-31.4836803  -31.5925671 ]\n",
      " [-31.49348482 -31.57444336]\n",
      " [-31.48545384 -31.55562192]\n",
      " [-31.4411244  -31.53602468]\n",
      " [-31.44830858 -31.51573817]\n",
      " [-31.44297646 -31.49485697]\n",
      " [-31.39707789 -31.47328554]\n",
      " [-31.3554251  -31.45118145]\n",
      " [-31.3351917  -31.42843953]\n",
      " [-31.30224449 -31.40522154]\n",
      " [-31.30224449 -31.38141442]\n",
      " [-31.30843424 -31.35711097]\n",
      " [-31.30843424 -31.33240915]\n",
      " [-31.30843424 -31.28161023]\n",
      " [-31.29772622 -31.25555287]\n",
      " [-31.29772622 -31.22918843]\n",
      " [-31.29219423 -31.20237949]\n",
      " [-31.28540665 -31.17522306]\n",
      " [-31.28540665 -31.14781833]\n",
      " [-31.18733858 -31.12002121]\n",
      " [-31.16634713 -31.09201361]\n",
      " [-31.14596939 -31.06364437]\n",
      " [-31.14596939 -31.03509757]\n",
      " [-30.96774041 -31.00621866]\n",
      " [-30.96774041 -30.97719376]\n",
      " [-30.96774041 -30.94786409]\n",
      " [-30.96774041 -30.91832898]\n",
      " [-30.92562077 -30.88869046]\n",
      " [-30.909933   -30.85878473]\n",
      " [-30.89212733 -30.79857312]\n",
      " [-30.88296911 -30.76829214]\n",
      " [-30.8684001  -30.73778749]\n",
      " [-30.86742704 -30.70716025]\n",
      " [-30.82376612 -30.67651259]\n",
      " [-30.80659378 -30.64567093]\n",
      " [-30.7930069  -30.61482858]\n",
      " [-30.7644377  -30.58381058]\n",
      " [-30.74971647 -30.5528104 ]\n",
      " [-30.57976308 -30.52165104]\n",
      " [-30.57976308 -30.49043331]\n",
      " [-30.557746   -30.4592583 ]\n",
      " [-30.557746   -30.42794751]\n",
      " [-30.5204263  -30.39669482]\n",
      " [-30.5097101  -30.36532035]\n",
      " [-30.43624848 -30.3026076 ]\n",
      " [-30.43129747 -30.27118892]\n",
      " [-30.40580685 -30.23986139]\n",
      " [-30.40087234 -30.2084442 ]\n",
      " [-30.35261257 -30.17712973]\n",
      " [-30.30223953 -30.14573676]\n",
      " [-30.31373401 -30.1144574 ]\n",
      " [-30.24656404 -30.08311041]\n",
      " [-30.23436681 -30.05179323]\n",
      " [-30.11014827 -30.02060434]\n",
      " [-30.02827226 -29.98936226]\n",
      " [-30.02827226 -29.95825732]\n",
      " [-30.02833028 -29.92710748]\n",
      " [-30.02567648 -29.89610295]\n",
      " [-29.97846399 -29.86506264]\n",
      " [-29.95830635 -29.83408219]\n",
      " [-29.9108771  -29.77241028]\n",
      " [-29.9108771  -29.74172427]\n",
      " [-29.90082518 -29.71102069]\n",
      " [-29.79500233 -29.68048583]\n",
      " [-29.79500233 -29.64994023]\n",
      " [-29.77278051 -29.61947802]\n",
      " [-29.77278051 -29.58919283]\n",
      " [-29.74738272 -29.55890559]\n",
      " [-29.67313285 -29.52879999]\n",
      " [-29.59898896 -29.49869847]\n",
      " [-29.59898896 -29.46878253]\n",
      " [-29.59898896 -29.43887626]\n",
      " [-29.59029851 -29.40907093]\n",
      " [-29.54443445 -29.37945718]\n",
      " [-29.5331913  -29.34985962]\n",
      " [-29.49621969 -29.29107606]\n",
      " [-29.49621969 -29.26189279]\n",
      " [-29.49300675 -29.23273428]\n",
      " [-29.45874607 -29.20369034]\n",
      " [-29.45874607 -29.17484762]\n",
      " [-29.43838666 -29.14603606]\n",
      " [-29.43838666 -29.11742831]\n",
      " [-29.43342832 -29.08885484]\n",
      " [-29.37952668 -29.06048683]\n",
      " [-29.31598001 -29.03215704]\n",
      " [-29.31598001 -29.00395066]\n",
      " [-29.31598001 -28.97595245]\n",
      " [-29.31598001 -28.94799546]\n",
      " [-29.31598001 -28.92024854]\n",
      " [-29.30521406 -28.89254639]\n",
      " [-29.30521406 -28.86505512]]\n"
     ]
    }
   ],
   "source": [
    "# eval on generated data from first mapping\n",
    "y_true, y_pred = y_test, estimator.predict(y_pot2four_pred)\n",
    "print(\"\\nMAE on generated data in [kcal/mol]:\\t{}\".format(mean_absolute_error(y_true, y_pred)*ev2kcal))\n",
    "\n",
    "print(\"\\n    Pred \\t|   True\\n\")\n",
    "print(np.c_[y_pred, y_true])"
   ]
  },
  {
   "cell_type": "code",
   "execution_count": 26,
   "metadata": {},
   "outputs": [
    {
     "data": {
      "text/plain": [
       "[<matplotlib.lines.Line2D at 0x1d37af7ba8>]"
      ]
     },
     "execution_count": 26,
     "metadata": {},
     "output_type": "execute_result"
    },
    {
     "data": {
      "text/plain": [
       "[<matplotlib.lines.Line2D at 0x112c15cf8>]"
      ]
     },
     "execution_count": 26,
     "metadata": {},
     "output_type": "execute_result"
    },
    {
     "data": {
      "text/plain": [
       "<matplotlib.legend.Legend at 0x1d37af7a20>"
      ]
     },
     "execution_count": 26,
     "metadata": {},
     "output_type": "execute_result"
    },
    {
     "data": {
      "text/plain": [
       "Text(0.5,0,'Distance [Angstrom]')"
      ]
     },
     "execution_count": 26,
     "metadata": {},
     "output_type": "execute_result"
    },
    {
     "data": {
      "text/plain": [
       "Text(0,0.5,'Energy [eV]')"
      ]
     },
     "execution_count": 26,
     "metadata": {},
     "output_type": "execute_result"
    },
    {
     "data": {
      "image/png": "[encoded data removed]",
      "text/plain": [
       "<Figure size 864x504 with 1 Axes>"
      ]
     },
     "metadata": {},
     "output_type": "display_data"
    }
   ],
   "source": [
    "fig = plt.figure(figsize=(12, 7));\n",
    "plt.plot(seps, ens, label='true energies'); \n",
    "plt.plot(x_seps_test, y_pred, 'k+', MarkerSize = 15, mew = 3, label = 'predicted energies'); \n",
    "plt.legend(fontsize = 18);\n",
    "plt.xlabel('Distance [Angstrom]', fontsize = 18);\n",
    "plt.ylabel('Energy [eV]', fontsize = 18);\n",
    "plt.show()"
   ]
  },
  {
   "cell_type": "markdown",
   "metadata": {},
   "source": [
    "For comparison, from [1]: \"The MAE that is introduced by the PBE approximation on the H2 data set is 2.3 kcal/mol (compared to exact CI calculations)\"\" \n",
    "\n",
    "[1] Brockherde et al. Bypassing the Kohn-Sham equations with machine learning. Nature Communications 8, 872 (2017)"
   ]
  }
 ],
 "metadata": {
  "kernelspec": {
   "display_name": "Python 3",
   "language": "python",
   "name": "python3"
  },
  "language_info": {
   "codemirror_mode": {
    "name": "ipython",
    "version": 3
   },
   "file_extension": ".py",
   "mimetype": "text/x-python",
   "name": "python",
   "nbconvert_exporter": "python",
   "pygments_lexer": "ipython3",
   "version": "3.5.5"
  }
 },
 "nbformat": 4,
 "nbformat_minor": 2
}
