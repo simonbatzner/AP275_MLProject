{
 "cells": [
  {
   "cell_type": "markdown",
   "metadata": {},
   "source": [
    "Jon V"
   ]
  },
  {
   "cell_type": "markdown",
   "metadata": {},
   "source": [
    "May 7"
   ]
  },
  {
   "cell_type": "code",
   "execution_count": 6,
   "metadata": {},
   "outputs": [],
   "source": [
    "import os\n",
    "import numpy as np\n",
    "import matplotlib.pyplot as plt\n",
    "import theano\n",
    "floatX = theano.config.floatX\n",
    "import pymc3 as pm\n",
    "import theano.tensor as T\n",
    "import sklearn\n",
    "import numpy as np\n",
    "import matplotlib.pyplot as plt\n",
    "import seaborn as sns\n",
    "from warnings import filterwarnings\n",
    "filterwarnings('ignore')\n",
    "sns.set_style('white')\n",
    "from sklearn import datasets"
   ]
  },
  {
   "cell_type": "markdown",
   "metadata": {},
   "source": [
    "# Read in dataset."
   ]
  },
  {
   "cell_type": "code",
   "execution_count": 3,
   "metadata": {},
   "outputs": [
    {
     "name": "stdout",
     "output_type": "stream",
     "text": [
      "The minimum energy is -31.74695245487133 eV. The equilibrium separation is 0.7483221476510067 Angstrom.\n"
     ]
    }
   ],
   "source": [
    "# read in calculation data (computed elsewhere)\n",
    "str_pref = '/Users/jonpvandermause/Desktop/store/'\n",
    "\n",
    "# read in the calculation data\n",
    "sim_no = 150\n",
    "ens = []\n",
    "seps= []\n",
    "fours = []\n",
    "\n",
    "min_en = 0\n",
    "eq_sep = 0\n",
    "\n",
    "for n in range(sim_no):\n",
    "    # load separation, energy, and density\n",
    "    sep = np.load(str_pref+'sep_store/sep'+str(n)+'.npy')\n",
    "    en = np.load(str_pref+'en_store/en'+str(n)+'.npy')\n",
    "    four = np.load(str_pref+'four_store/four'+str(n)+'.npy')\n",
    "\n",
    "    # put results in a nicer format\n",
    "    sep = np.reshape(sep,(1,))[0]\n",
    "    en = np.reshape(en,(1,))[0]['energy']\n",
    "    four = np.real(four)\n",
    "    \n",
    "    # get min energy and equilibrium separation\n",
    "    if en < min_en:\n",
    "        min_en = en\n",
    "        eq_sep = sep\n",
    "\n",
    "    # store quantities\n",
    "    ens.append(en)\n",
    "    seps.append(sep)\n",
    "    fours.append(four)\n",
    "\n",
    "print('The minimum energy is '+str(min_en)+' eV. The equilibrium separation is '+str(eq_sep)+' Angstrom.')"
   ]
  },
  {
   "cell_type": "code",
   "execution_count": 4,
   "metadata": {},
   "outputs": [
    {
     "data": {
      "image/png": "[encoded data removed]",
      "text/plain": [
       "<matplotlib.figure.Figure at 0x10b2c5358>"
      ]
     },
     "metadata": {},
     "output_type": "display_data"
    }
   ],
   "source": [
    "# create figure\n",
    "figure = plt.figure()\n",
    "ax = figure.add_subplot(1,1,1)\n",
    "\n",
    "# add computed energies\n",
    "ax.plot(seps, ens, label='computed energies')\n",
    "\n",
    "ax.set_xlabel('separation (Å)')\n",
    "ax.set_ylabel('energy (eV)')\n",
    "ax.legend()\n",
    "plt.show()"
   ]
  },
  {
   "cell_type": "markdown",
   "metadata": {},
   "source": [
    "# Make Bayesian network."
   ]
  },
  {
   "cell_type": "code",
   "execution_count": 110,
   "metadata": {},
   "outputs": [],
   "source": [
    "def construct_nn(ann_input, ann_output, n_hidden=5, input_dim = 1):\n",
    "\n",
    "    # Initialize random weights between each layer\n",
    "    init_1 = np.random.randn(input_dim, n_hidden).astype(floatX)\n",
    "    init_2 = np.random.randn(n_hidden, n_hidden).astype(floatX)\n",
    "    init_out = np.random.randn(n_hidden).astype(floatX)\n",
    "\n",
    "    with pm.Model() as neural_network:\n",
    "        sd = 0.0001\n",
    "        \n",
    "        # Weights from input to hidden layer\n",
    "        weights_in_1 = pm.Normal('w_in_1', 0, sd=1,\n",
    "                                 shape=(input_dim, n_hidden),\n",
    "                                 testval=init_1)\n",
    "\n",
    "        # Weights from 1st to 2nd layer\n",
    "        weights_1_2 = pm.Normal('w_1_2', 0, sd=1,\n",
    "                                shape=(n_hidden, n_hidden),\n",
    "                                testval=init_2)\n",
    "\n",
    "        # Weights from hidden layer to output\n",
    "        weights_2_out = pm.Normal('w_2_out', 0, sd=1,\n",
    "                                  shape=(n_hidden,),\n",
    "                                  testval=init_out)\n",
    "\n",
    "        # Build neural-network using tanh activation function\n",
    "        act_1 = pm.math.tanh(pm.math.dot(ann_input,\n",
    "                                         weights_in_1))\n",
    "        act_2 = pm.math.tanh(pm.math.dot(act_1,\n",
    "                                         weights_1_2))\n",
    "        act_out = pm.math.dot(act_2, weights_2_out)\n",
    "\n",
    "        # Binary classification -> Bernoulli likelihood\n",
    "        out = pm.Normal('out', mu = act_out, sd = sd, observed=ann_output)\n",
    "        \n",
    "    return neural_network"
   ]
  },
  {
   "cell_type": "code",
   "execution_count": 111,
   "metadata": {},
   "outputs": [],
   "source": [
    "# make training set\n",
    "M = 7 # training points\n",
    "\n",
    "# define training and test indices\n",
    "train_indices = [int(n) for n in np.round(np.linspace(0,149,M))]\n",
    "test_indices = [n for n in range(150) if n not in train_indices]\n",
    "\n",
    "# define train and test sets\n",
    "train_set = np.array([seps[n] for n in train_indices])\n",
    "test_set = np.array([seps[n] for n in test_indices])\n",
    "\n",
    "train_ens = np.array([ens[n] for n in train_indices])\n",
    "test_ens = np.array([ens[n] for n in test_indices])"
   ]
  },
  {
   "cell_type": "code",
   "execution_count": 112,
   "metadata": {},
   "outputs": [],
   "source": [
    "train_X = np.reshape(train_set,(M,1))\n",
    "train_Y = -train_ens / 30\n",
    "\n",
    "ann_input = theano.shared(train_X)\n",
    "ann_output = theano.shared(train_Y)\n",
    "neural_network = construct_nn(ann_input, ann_output)"
   ]
  },
  {
   "cell_type": "code",
   "execution_count": 113,
   "metadata": {},
   "outputs": [
    {
     "name": "stderr",
     "output_type": "stream",
     "text": [
      "Average Loss = 642.7:  49%|████▉     | 492460/1000000 [06:45<06:57, 1214.89it/s]    \n",
      "Interrupted at 492,530 [49%]: Average Loss = 1.1948e+07\n"
     ]
    }
   ],
   "source": [
    "with neural_network:\n",
    "    inference = pm.ADVI()\n",
    "    approx = pm.fit(n=int(1e6), method=inference)"
   ]
  },
  {
   "cell_type": "code",
   "execution_count": 114,
   "metadata": {},
   "outputs": [
    {
     "data": {
      "text/html": [
       "<div>\n",
       "<style>\n",
       "    .dataframe thead tr:only-child th {\n",
       "        text-align: right;\n",
       "    }\n",
       "\n",
       "    .dataframe thead th {\n",
       "        text-align: left;\n",
       "    }\n",
       "\n",
       "    .dataframe tbody tr th {\n",
       "        vertical-align: top;\n",
       "    }\n",
       "</style>\n",
       "<table border=\"1\" class=\"dataframe\">\n",
       "  <thead>\n",
       "    <tr style=\"text-align: right;\">\n",
       "      <th></th>\n",
       "      <th>mean</th>\n",
       "      <th>sd</th>\n",
       "      <th>mc_error</th>\n",
       "      <th>hpd_2.5</th>\n",
       "      <th>hpd_97.5</th>\n",
       "    </tr>\n",
       "  </thead>\n",
       "  <tbody>\n",
       "    <tr>\n",
       "      <th>w_in_1__0_0</th>\n",
       "      <td>-1.064635</td>\n",
       "      <td>0.000153</td>\n",
       "      <td>2.060625e-06</td>\n",
       "      <td>-1.064926</td>\n",
       "      <td>-1.064321</td>\n",
       "    </tr>\n",
       "    <tr>\n",
       "      <th>w_in_1__0_1</th>\n",
       "      <td>-0.627992</td>\n",
       "      <td>0.000136</td>\n",
       "      <td>1.811311e-06</td>\n",
       "      <td>-0.628250</td>\n",
       "      <td>-0.627713</td>\n",
       "    </tr>\n",
       "    <tr>\n",
       "      <th>w_in_1__0_2</th>\n",
       "      <td>-0.000609</td>\n",
       "      <td>0.001639</td>\n",
       "      <td>2.225356e-05</td>\n",
       "      <td>-0.003897</td>\n",
       "      <td>0.002367</td>\n",
       "    </tr>\n",
       "    <tr>\n",
       "      <th>w_in_1__0_3</th>\n",
       "      <td>-0.155876</td>\n",
       "      <td>0.000207</td>\n",
       "      <td>3.062009e-06</td>\n",
       "      <td>-0.156267</td>\n",
       "      <td>-0.155475</td>\n",
       "    </tr>\n",
       "    <tr>\n",
       "      <th>w_in_1__0_4</th>\n",
       "      <td>0.479920</td>\n",
       "      <td>0.000253</td>\n",
       "      <td>3.442321e-06</td>\n",
       "      <td>0.479414</td>\n",
       "      <td>0.480409</td>\n",
       "    </tr>\n",
       "    <tr>\n",
       "      <th>w_1_2__0_0</th>\n",
       "      <td>1.246487</td>\n",
       "      <td>0.000179</td>\n",
       "      <td>2.642435e-06</td>\n",
       "      <td>1.246129</td>\n",
       "      <td>1.246823</td>\n",
       "    </tr>\n",
       "    <tr>\n",
       "      <th>w_1_2__0_1</th>\n",
       "      <td>0.181652</td>\n",
       "      <td>0.059674</td>\n",
       "      <td>8.501522e-04</td>\n",
       "      <td>0.064257</td>\n",
       "      <td>0.296555</td>\n",
       "    </tr>\n",
       "    <tr>\n",
       "      <th>w_1_2__0_2</th>\n",
       "      <td>1.414653</td>\n",
       "      <td>0.000357</td>\n",
       "      <td>4.805768e-06</td>\n",
       "      <td>1.413925</td>\n",
       "      <td>1.415323</td>\n",
       "    </tr>\n",
       "    <tr>\n",
       "      <th>w_1_2__0_3</th>\n",
       "      <td>-0.073009</td>\n",
       "      <td>0.052902</td>\n",
       "      <td>5.910257e-04</td>\n",
       "      <td>-0.175240</td>\n",
       "      <td>0.031518</td>\n",
       "    </tr>\n",
       "    <tr>\n",
       "      <th>w_1_2__0_4</th>\n",
       "      <td>-0.119620</td>\n",
       "      <td>0.057823</td>\n",
       "      <td>9.176527e-04</td>\n",
       "      <td>-0.232091</td>\n",
       "      <td>-0.007939</td>\n",
       "    </tr>\n",
       "    <tr>\n",
       "      <th>w_1_2__1_0</th>\n",
       "      <td>-1.804044</td>\n",
       "      <td>0.000256</td>\n",
       "      <td>3.569915e-06</td>\n",
       "      <td>-1.804548</td>\n",
       "      <td>-1.803551</td>\n",
       "    </tr>\n",
       "    <tr>\n",
       "      <th>w_1_2__1_1</th>\n",
       "      <td>-0.240159</td>\n",
       "      <td>0.079956</td>\n",
       "      <td>1.126629e-03</td>\n",
       "      <td>-0.391176</td>\n",
       "      <td>-0.080541</td>\n",
       "    </tr>\n",
       "    <tr>\n",
       "      <th>w_1_2__1_2</th>\n",
       "      <td>0.600731</td>\n",
       "      <td>0.000554</td>\n",
       "      <td>8.528195e-06</td>\n",
       "      <td>0.599649</td>\n",
       "      <td>0.601811</td>\n",
       "    </tr>\n",
       "    <tr>\n",
       "      <th>w_1_2__1_3</th>\n",
       "      <td>-0.044101</td>\n",
       "      <td>0.081999</td>\n",
       "      <td>1.145526e-03</td>\n",
       "      <td>-0.200026</td>\n",
       "      <td>0.119565</td>\n",
       "    </tr>\n",
       "    <tr>\n",
       "      <th>w_1_2__1_4</th>\n",
       "      <td>-0.025974</td>\n",
       "      <td>0.079851</td>\n",
       "      <td>1.130315e-03</td>\n",
       "      <td>-0.184120</td>\n",
       "      <td>0.126189</td>\n",
       "    </tr>\n",
       "    <tr>\n",
       "      <th>w_1_2__2_0</th>\n",
       "      <td>-0.002710</td>\n",
       "      <td>0.065309</td>\n",
       "      <td>9.551618e-04</td>\n",
       "      <td>-0.131671</td>\n",
       "      <td>0.125851</td>\n",
       "    </tr>\n",
       "    <tr>\n",
       "      <th>w_1_2__2_1</th>\n",
       "      <td>0.027500</td>\n",
       "      <td>1.091757</td>\n",
       "      <td>1.366879e-02</td>\n",
       "      <td>-2.200573</td>\n",
       "      <td>2.071108</td>\n",
       "    </tr>\n",
       "    <tr>\n",
       "      <th>w_1_2__2_2</th>\n",
       "      <td>-0.006371</td>\n",
       "      <td>0.155218</td>\n",
       "      <td>2.039842e-03</td>\n",
       "      <td>-0.311902</td>\n",
       "      <td>0.294748</td>\n",
       "    </tr>\n",
       "    <tr>\n",
       "      <th>w_1_2__2_3</th>\n",
       "      <td>-0.026974</td>\n",
       "      <td>1.063028</td>\n",
       "      <td>1.340216e-02</td>\n",
       "      <td>-2.017513</td>\n",
       "      <td>2.118544</td>\n",
       "    </tr>\n",
       "    <tr>\n",
       "      <th>w_1_2__2_4</th>\n",
       "      <td>0.013247</td>\n",
       "      <td>1.093120</td>\n",
       "      <td>1.522249e-02</td>\n",
       "      <td>-2.184053</td>\n",
       "      <td>2.098275</td>\n",
       "    </tr>\n",
       "    <tr>\n",
       "      <th>w_1_2__3_0</th>\n",
       "      <td>-0.769269</td>\n",
       "      <td>0.000901</td>\n",
       "      <td>1.108362e-05</td>\n",
       "      <td>-0.770991</td>\n",
       "      <td>-0.767458</td>\n",
       "    </tr>\n",
       "    <tr>\n",
       "      <th>w_1_2__3_1</th>\n",
       "      <td>-0.015120</td>\n",
       "      <td>0.264595</td>\n",
       "      <td>4.001555e-03</td>\n",
       "      <td>-0.554122</td>\n",
       "      <td>0.490378</td>\n",
       "    </tr>\n",
       "    <tr>\n",
       "      <th>w_1_2__3_2</th>\n",
       "      <td>0.219097</td>\n",
       "      <td>0.001900</td>\n",
       "      <td>3.026324e-05</td>\n",
       "      <td>0.215487</td>\n",
       "      <td>0.222887</td>\n",
       "    </tr>\n",
       "    <tr>\n",
       "      <th>w_1_2__3_3</th>\n",
       "      <td>0.074710</td>\n",
       "      <td>0.274210</td>\n",
       "      <td>3.754700e-03</td>\n",
       "      <td>-0.455735</td>\n",
       "      <td>0.610158</td>\n",
       "    </tr>\n",
       "    <tr>\n",
       "      <th>w_1_2__3_4</th>\n",
       "      <td>-0.136683</td>\n",
       "      <td>0.258986</td>\n",
       "      <td>3.770578e-03</td>\n",
       "      <td>-0.617468</td>\n",
       "      <td>0.406771</td>\n",
       "    </tr>\n",
       "    <tr>\n",
       "      <th>w_1_2__4_0</th>\n",
       "      <td>1.134758</td>\n",
       "      <td>0.000303</td>\n",
       "      <td>3.863551e-06</td>\n",
       "      <td>1.134178</td>\n",
       "      <td>1.135337</td>\n",
       "    </tr>\n",
       "    <tr>\n",
       "      <th>w_1_2__4_1</th>\n",
       "      <td>0.006194</td>\n",
       "      <td>0.098549</td>\n",
       "      <td>1.396884e-03</td>\n",
       "      <td>-0.190375</td>\n",
       "      <td>0.192125</td>\n",
       "    </tr>\n",
       "    <tr>\n",
       "      <th>w_1_2__4_2</th>\n",
       "      <td>-1.081503</td>\n",
       "      <td>0.000672</td>\n",
       "      <td>9.380494e-06</td>\n",
       "      <td>-1.082784</td>\n",
       "      <td>-1.080151</td>\n",
       "    </tr>\n",
       "    <tr>\n",
       "      <th>w_1_2__4_3</th>\n",
       "      <td>-0.178111</td>\n",
       "      <td>0.102059</td>\n",
       "      <td>1.382943e-03</td>\n",
       "      <td>-0.372857</td>\n",
       "      <td>0.023059</td>\n",
       "    </tr>\n",
       "    <tr>\n",
       "      <th>w_1_2__4_4</th>\n",
       "      <td>-0.292883</td>\n",
       "      <td>0.100449</td>\n",
       "      <td>1.411500e-03</td>\n",
       "      <td>-0.492521</td>\n",
       "      <td>-0.104064</td>\n",
       "    </tr>\n",
       "    <tr>\n",
       "      <th>w_2_out__0</th>\n",
       "      <td>-0.504187</td>\n",
       "      <td>0.000070</td>\n",
       "      <td>1.055074e-06</td>\n",
       "      <td>-0.504325</td>\n",
       "      <td>-0.504051</td>\n",
       "    </tr>\n",
       "    <tr>\n",
       "      <th>w_2_out__1</th>\n",
       "      <td>-0.000491</td>\n",
       "      <td>0.000563</td>\n",
       "      <td>7.207587e-06</td>\n",
       "      <td>-0.001560</td>\n",
       "      <td>0.000630</td>\n",
       "    </tr>\n",
       "    <tr>\n",
       "      <th>w_2_out__2</th>\n",
       "      <td>-1.376871</td>\n",
       "      <td>0.000046</td>\n",
       "      <td>5.833053e-07</td>\n",
       "      <td>-1.376961</td>\n",
       "      <td>-1.376780</td>\n",
       "    </tr>\n",
       "    <tr>\n",
       "      <th>w_2_out__3</th>\n",
       "      <td>0.000826</td>\n",
       "      <td>0.000563</td>\n",
       "      <td>7.611162e-06</td>\n",
       "      <td>-0.000295</td>\n",
       "      <td>0.001907</td>\n",
       "    </tr>\n",
       "    <tr>\n",
       "      <th>w_2_out__4</th>\n",
       "      <td>0.002103</td>\n",
       "      <td>0.000585</td>\n",
       "      <td>7.640927e-06</td>\n",
       "      <td>0.000983</td>\n",
       "      <td>0.003261</td>\n",
       "    </tr>\n",
       "  </tbody>\n",
       "</table>\n",
       "</div>"
      ],
      "text/plain": [
       "                 mean        sd      mc_error   hpd_2.5  hpd_97.5\n",
       "w_in_1__0_0 -1.064635  0.000153  2.060625e-06 -1.064926 -1.064321\n",
       "w_in_1__0_1 -0.627992  0.000136  1.811311e-06 -0.628250 -0.627713\n",
       "w_in_1__0_2 -0.000609  0.001639  2.225356e-05 -0.003897  0.002367\n",
       "w_in_1__0_3 -0.155876  0.000207  3.062009e-06 -0.156267 -0.155475\n",
       "w_in_1__0_4  0.479920  0.000253  3.442321e-06  0.479414  0.480409\n",
       "w_1_2__0_0   1.246487  0.000179  2.642435e-06  1.246129  1.246823\n",
       "w_1_2__0_1   0.181652  0.059674  8.501522e-04  0.064257  0.296555\n",
       "w_1_2__0_2   1.414653  0.000357  4.805768e-06  1.413925  1.415323\n",
       "w_1_2__0_3  -0.073009  0.052902  5.910257e-04 -0.175240  0.031518\n",
       "w_1_2__0_4  -0.119620  0.057823  9.176527e-04 -0.232091 -0.007939\n",
       "w_1_2__1_0  -1.804044  0.000256  3.569915e-06 -1.804548 -1.803551\n",
       "w_1_2__1_1  -0.240159  0.079956  1.126629e-03 -0.391176 -0.080541\n",
       "w_1_2__1_2   0.600731  0.000554  8.528195e-06  0.599649  0.601811\n",
       "w_1_2__1_3  -0.044101  0.081999  1.145526e-03 -0.200026  0.119565\n",
       "w_1_2__1_4  -0.025974  0.079851  1.130315e-03 -0.184120  0.126189\n",
       "w_1_2__2_0  -0.002710  0.065309  9.551618e-04 -0.131671  0.125851\n",
       "w_1_2__2_1   0.027500  1.091757  1.366879e-02 -2.200573  2.071108\n",
       "w_1_2__2_2  -0.006371  0.155218  2.039842e-03 -0.311902  0.294748\n",
       "w_1_2__2_3  -0.026974  1.063028  1.340216e-02 -2.017513  2.118544\n",
       "w_1_2__2_4   0.013247  1.093120  1.522249e-02 -2.184053  2.098275\n",
       "w_1_2__3_0  -0.769269  0.000901  1.108362e-05 -0.770991 -0.767458\n",
       "w_1_2__3_1  -0.015120  0.264595  4.001555e-03 -0.554122  0.490378\n",
       "w_1_2__3_2   0.219097  0.001900  3.026324e-05  0.215487  0.222887\n",
       "w_1_2__3_3   0.074710  0.274210  3.754700e-03 -0.455735  0.610158\n",
       "w_1_2__3_4  -0.136683  0.258986  3.770578e-03 -0.617468  0.406771\n",
       "w_1_2__4_0   1.134758  0.000303  3.863551e-06  1.134178  1.135337\n",
       "w_1_2__4_1   0.006194  0.098549  1.396884e-03 -0.190375  0.192125\n",
       "w_1_2__4_2  -1.081503  0.000672  9.380494e-06 -1.082784 -1.080151\n",
       "w_1_2__4_3  -0.178111  0.102059  1.382943e-03 -0.372857  0.023059\n",
       "w_1_2__4_4  -0.292883  0.100449  1.411500e-03 -0.492521 -0.104064\n",
       "w_2_out__0  -0.504187  0.000070  1.055074e-06 -0.504325 -0.504051\n",
       "w_2_out__1  -0.000491  0.000563  7.207587e-06 -0.001560  0.000630\n",
       "w_2_out__2  -1.376871  0.000046  5.833053e-07 -1.376961 -1.376780\n",
       "w_2_out__3   0.000826  0.000563  7.611162e-06 -0.000295  0.001907\n",
       "w_2_out__4   0.002103  0.000585  7.640927e-06  0.000983  0.003261"
      ]
     },
     "execution_count": 114,
     "metadata": {},
     "output_type": "execute_result"
    }
   ],
   "source": [
    "trace = approx.sample(draws=5000)\n",
    "pm.summary(trace)"
   ]
  },
  {
   "cell_type": "code",
   "execution_count": 121,
   "metadata": {},
   "outputs": [
    {
     "name": "stderr",
     "output_type": "stream",
     "text": [
      "100%|██████████| 5000/5000 [00:01<00:00, 3924.45it/s]\n"
     ]
    }
   ],
   "source": [
    "seps_os = test_set\n",
    "seps_os_rs = np.reshape(seps_os, (seps_os.shape[0],1))\n",
    "\n",
    "ann_input.set_value(seps_os_rs)\n",
    "pred = pm.sample_ppc(trace, 5000, model=neural_network)"
   ]
  },
  {
   "cell_type": "code",
   "execution_count": 124,
   "metadata": {},
   "outputs": [],
   "source": [
    "data_pred = pred['out']\n",
    "\n",
    "y_ests = []\n",
    "y_stds = []\n",
    "for n in range(seps_os.shape[0]):\n",
    "    y_est = np.mean(data_pred[:,n])\n",
    "    y_std = np.std(data_pred[:,n])\n",
    "    \n",
    "    y_ests.append(y_est)\n",
    "    y_stds.append(y_std)\n",
    "y_ests = -30*np.array(y_ests)\n",
    "y_stds = 30*np.array(y_stds)"
   ]
  },
  {
   "cell_type": "code",
   "execution_count": 129,
   "metadata": {},
   "outputs": [
    {
     "data": {
      "image/png": "[encoded data removed]",
      "text/plain": [
       "<matplotlib.figure.Figure at 0x11a793198>"
      ]
     },
     "metadata": {},
     "output_type": "display_data"
    }
   ],
   "source": [
    "mult = 3\n",
    "\n",
    "fig, ax = plt.subplots(1,1)\n",
    "\n",
    "ax.plot(train_set, train_ens, 'kx')\n",
    "ax.plot(test_set, test_ens)\n",
    "ax.plot(seps_os, y_ests, 'b')\n",
    "ax.fill_between(seps_os, y_ests - mult*y_stds, y_ests + mult*y_stds, color='red', alpha=0.3)\n",
    "plt.show()"
   ]
  },
  {
   "cell_type": "code",
   "execution_count": 118,
   "metadata": {},
   "outputs": [
    {
     "data": {
      "text/plain": [
       "array([0.00447234, 0.00556313, 0.00639821, 0.00710891, 0.00739522,\n",
       "       0.00766748, 0.00772295, 0.00778691, 0.00779636, 0.00779381,\n",
       "       0.00783867, 0.00786848, 0.00796807, 0.00807267, 0.00825399,\n",
       "       0.00836215, 0.00851053, 0.00863588, 0.00874061, 0.00891417,\n",
       "       0.00906764, 0.00915575, 0.00927531, 0.00941277, 0.00955569,\n",
       "       0.00966478, 0.00968327, 0.00986006, 0.01001622, 0.01013317,\n",
       "       0.01027873, 0.01037553, 0.01050871, 0.01064848, 0.01076826,\n",
       "       0.01087802, 0.01107071, 0.01113362, 0.0112726 , 0.01126878,\n",
       "       0.01154878, 0.01158884, 0.01168926, 0.01182554, 0.01191642,\n",
       "       0.01208002, 0.01215419, 0.01221614, 0.0123996 , 0.01244017,\n",
       "       0.01262906, 0.01271053, 0.01285964, 0.01294666, 0.01307122,\n",
       "       0.01312759, 0.01319077, 0.0132508 , 0.01340231, 0.013521  ,\n",
       "       0.01355919, 0.01355788, 0.01379334, 0.01389712, 0.01404115,\n",
       "       0.01409375, 0.01406387, 0.01418162, 0.01428803, 0.01433657,\n",
       "       0.01444422, 0.01450701, 0.01460755, 0.01464561, 0.0147042 ,\n",
       "       0.01485818, 0.01495531, 0.01500357, 0.0150219 , 0.01516026,\n",
       "       0.01528529, 0.01528404, 0.01536969, 0.01536556, 0.0155154 ,\n",
       "       0.01555113, 0.0156823 , 0.01570882, 0.0158042 , 0.01582032,\n",
       "       0.0159607 , 0.0160056 , 0.01606841, 0.01611993, 0.01612492,\n",
       "       0.01619472, 0.01637994, 0.01639597, 0.01633606, 0.01654086])"
      ]
     },
     "execution_count": 118,
     "metadata": {},
     "output_type": "execute_result"
    }
   ],
   "source": [
    "y_stds"
   ]
  },
  {
   "cell_type": "code",
   "execution_count": 119,
   "metadata": {},
   "outputs": [
    {
     "data": {
      "text/plain": [
       "array([-29.86480944, -30.00126384, -30.13048409, -30.25205876,\n",
       "       -30.36705412, -30.47510758, -30.57717032, -30.67320233,\n",
       "       -30.7632198 , -30.84802303, -30.92735568, -31.00192919,\n",
       "       -31.07152411, -31.13677132, -31.19766036, -31.25422224,\n",
       "       -31.30698119, -31.35579816, -31.40113248, -31.44287327,\n",
       "       -31.48142229, -31.51679575, -31.54904043, -31.57847976,\n",
       "       -31.62907309, -31.65047649, -31.66951141, -31.68621403,\n",
       "       -31.70064478, -31.71298488, -31.72325065, -31.73159026,\n",
       "       -31.73803637, -31.74270652, -31.74565502, -31.74695245,\n",
       "       -31.74667599, -31.74489323, -31.74165698, -31.73704723,\n",
       "       -31.73109488, -31.72386794, -31.71544669, -31.70583223,\n",
       "       -31.69513134, -31.68332731, -31.67053592, -31.65672423,\n",
       "       -31.62636529, -31.60985192, -31.5925671 , -31.57444336,\n",
       "       -31.55562192, -31.53602468, -31.51573817, -31.49485697,\n",
       "       -31.47328554, -31.45118145, -31.42843953, -31.40522154,\n",
       "       -31.38141442, -31.35711097, -31.33240915, -31.307185  ,\n",
       "       -31.28161023, -31.25555287, -31.22918843, -31.20237949,\n",
       "       -31.17522306, -31.14781833, -31.12002121, -31.06364437,\n",
       "       -31.03509757, -31.00621866, -30.97719376, -30.94786409,\n",
       "       -30.91832898, -30.88869046, -30.85878473, -30.82880117,\n",
       "       -30.79857312, -30.76829214, -30.73778749, -30.70716025,\n",
       "       -30.67651259, -30.64567093, -30.61482858, -30.58381058,\n",
       "       -30.5528104 , -30.52165104, -30.49043331, -30.4592583 ,\n",
       "       -30.42794751, -30.39669482, -30.36532035, -30.3026076 ,\n",
       "       -30.27118892, -30.23986139, -30.2084442 , -30.17712973,\n",
       "       -30.14573676, -30.1144574 , -30.08311041, -30.05179323,\n",
       "       -30.02060434, -29.98936226, -29.95825732, -29.92710748,\n",
       "       -29.89610295, -29.86506264, -29.83408219, -29.8032578 ,\n",
       "       -29.77241028, -29.74172427, -29.71102069, -29.68048583,\n",
       "       -29.64994023, -29.61947802, -29.58919283, -29.52879999,\n",
       "       -29.49869847, -29.46878253, -29.43887626, -29.40907093,\n",
       "       -29.37945718, -29.34985962, -29.32045729, -29.29107606,\n",
       "       -29.26189279, -29.23273428, -29.20369034, -29.17484762,\n",
       "       -29.14603606, -29.11742831, -29.08885484, -29.06048683,\n",
       "       -29.03215704, -29.00395066, -28.97595245, -28.94799546,\n",
       "       -28.92024854, -28.89254639, -28.86505512])"
      ]
     },
     "execution_count": 119,
     "metadata": {},
     "output_type": "execute_result"
    }
   ],
   "source": [
    "test_ens"
   ]
  },
  {
   "cell_type": "code",
   "execution_count": 146,
   "metadata": {},
   "outputs": [
    {
     "data": {
      "text/plain": [
       "array([0.5       , 0.66778523, 0.83557047, 0.9966443 , 1.16442953,\n",
       "       1.33221477, 1.5       ])"
      ]
     },
     "execution_count": 146,
     "metadata": {},
     "output_type": "execute_result"
    }
   ],
   "source": [
    "train_set"
   ]
  },
  {
   "cell_type": "code",
   "execution_count": 147,
   "metadata": {},
   "outputs": [
    {
     "data": {
      "text/plain": [
       "array([-29.71992617, -31.60506448, -31.64197143, -31.09201361,\n",
       "       -30.33401785, -29.55890559, -28.8376108 ])"
      ]
     },
     "execution_count": 147,
     "metadata": {},
     "output_type": "execute_result"
    }
   ],
   "source": [
    "train_ens"
   ]
  },
  {
   "cell_type": "markdown",
   "metadata": {},
   "source": [
    "# Try Bayesian network with biases."
   ]
  },
  {
   "cell_type": "code",
   "execution_count": null,
   "metadata": {
    "collapsed": true
   },
   "outputs": [],
   "source": []
  }
 ],
 "metadata": {},
 "nbformat": 4,
 "nbformat_minor": 2
}
