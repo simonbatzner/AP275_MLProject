{
 "cells": [
  {
   "cell_type": "markdown",
   "metadata": {},
   "source": [
    "Jon V"
   ]
  },
  {
   "cell_type": "markdown",
   "metadata": {},
   "source": [
    "May 7, 2018"
   ]
  },
  {
   "cell_type": "code",
   "execution_count": 2,
   "metadata": {
    "collapsed": true
   },
   "outputs": [],
   "source": [
    "import os\n",
    "import numpy as np\n",
    "import matplotlib.pyplot as plt\n",
    "from KRR_reproduce import *\n",
    "from generate_H2_data import *"
   ]
  },
  {
   "cell_type": "code",
   "execution_count": 361,
   "metadata": {
    "collapsed": true
   },
   "outputs": [],
   "source": [
    "from __future__ import division\n",
    "import time\n",
    "\n",
    "import numpy as np\n",
    "\n",
    "from sklearn.svm import SVR\n",
    "from sklearn.model_selection import GridSearchCV\n",
    "from sklearn.model_selection import learning_curve\n",
    "from sklearn.kernel_ridge import KernelRidge\n",
    "import matplotlib.pyplot as plt\n",
    "\n",
    "rng = np.random.RandomState(0)"
   ]
  },
  {
   "cell_type": "markdown",
   "metadata": {},
   "source": [
    "# Read in dataset."
   ]
  },
  {
   "cell_type": "code",
   "execution_count": 3,
   "metadata": {},
   "outputs": [
    {
     "name": "stdout",
     "output_type": "stream",
     "text": [
      "The minimum energy is -31.74695245487133 eV. The equilibrium separation is 0.7483221476510067 Angstrom.\n"
     ]
    }
   ],
   "source": [
    "# read in calculation data (computed elsewhere)\n",
    "str_pref = '/Users/jonpvandermause/Desktop/store/'\n",
    "\n",
    "# read in the calculation data\n",
    "sim_no = 150\n",
    "ens = []\n",
    "seps= []\n",
    "fours = []\n",
    "\n",
    "min_en = 0\n",
    "eq_sep = 0\n",
    "\n",
    "for n in range(sim_no):\n",
    "    # load separation, energy, and density\n",
    "    sep = np.load(str_pref+'sep_store/sep'+str(n)+'.npy')\n",
    "    en = np.load(str_pref+'en_store/en'+str(n)+'.npy')\n",
    "    four = np.load(str_pref+'four_store/four'+str(n)+'.npy')\n",
    "\n",
    "    # put results in a nicer format\n",
    "    sep = np.reshape(sep,(1,))[0]\n",
    "    en = np.reshape(en,(1,))[0]['energy']\n",
    "    four = np.real(four)\n",
    "    \n",
    "    # get min energy and equilibrium separation\n",
    "    if en < min_en:\n",
    "        min_en = en\n",
    "        eq_sep = sep\n",
    "\n",
    "    # store quantities\n",
    "    ens.append(en)\n",
    "    seps.append(sep)\n",
    "    fours.append(four)\n",
    "\n",
    "print('The minimum energy is '+str(min_en)+' eV. The equilibrium separation is '+str(eq_sep)+' Angstrom.')"
   ]
  },
  {
   "cell_type": "code",
   "execution_count": 4,
   "metadata": {},
   "outputs": [
    {
     "data": {
      "image/png": "[encoded data removed]",
      "text/plain": [
       "<matplotlib.figure.Figure at 0x108591ef0>"
      ]
     },
     "metadata": {},
     "output_type": "display_data"
    }
   ],
   "source": [
    "# create figure\n",
    "figure = plt.figure()\n",
    "ax = figure.add_subplot(1,1,1)\n",
    "\n",
    "# add computed energies\n",
    "ax.plot(seps, ens, label='computed energies')\n",
    "\n",
    "ax.set_xlabel('separation (Å)')\n",
    "ax.set_ylabel('energy (eV)')\n",
    "ax.legend()\n",
    "plt.show()"
   ]
  },
  {
   "cell_type": "markdown",
   "metadata": {},
   "source": [
    "# Define helper functions."
   ]
  },
  {
   "cell_type": "code",
   "execution_count": 347,
   "metadata": {
    "collapsed": true
   },
   "outputs": [],
   "source": [
    "kcal_conv = 0.043"
   ]
  },
  {
   "cell_type": "code",
   "execution_count": 433,
   "metadata": {
    "collapsed": true
   },
   "outputs": [],
   "source": [
    "def get_train_test(M, N):\n",
    "    # define training and test indices\n",
    "    train_indices = [int(n) for n in np.round(np.linspace(0,N-1,M))]\n",
    "    test_indices = [n for n in range(N) if n not in train_indices]\n",
    "\n",
    "    # define train and test sets\n",
    "    train_set = np.reshape(np.array([seps[n] for n in train_indices]),(M,1))\n",
    "    test_set = np.reshape(np.array([seps[n] for n in test_indices]),(N-M,1))\n",
    "\n",
    "    train_ens = np.reshape(np.array([ens[n] for n in train_indices]),(M,1))\n",
    "    test_ens = np.reshape(np.array([ens[n] for n in test_indices]),(N-M,1))\n",
    "\n",
    "    train_fours = np.array([fours[n] for n in train_indices])\n",
    "    test_fours = np.array([fours[n] for n in test_indices])\n",
    "    \n",
    "    return  train_set, test_set, train_ens, test_ens, train_fours, test_fours"
   ]
  },
  {
   "cell_type": "code",
   "execution_count": 471,
   "metadata": {
    "collapsed": true
   },
   "outputs": [],
   "source": [
    "def fit_krr(train_X, train_Y, test_X, test_Y, alphas, gammas, cv):\n",
    "    # define model\n",
    "    kr = GridSearchCV(KernelRidge(kernel='rbf'), cv=cv,\n",
    "                      param_grid={\"alpha\": alphas,\n",
    "                                  \"gamma\": gammas})\n",
    "    \n",
    "    # fit model\n",
    "    kr.fit(train_X, train_Y)\n",
    "    \n",
    "    # predict test energies\n",
    "    y_kr = kr.predict(test_X)\n",
    "    \n",
    "    # calculate MAE and max error\n",
    "    errs = np.abs(test_Y-y_kr)\n",
    "    MAE = np.mean(np.abs(test_Y-y_kr))\n",
    "    max_err = np.max(np.abs(test_Y-y_kr))\n",
    "    \n",
    "    return kr, y_kr, errs, MAE, max_err"
   ]
  },
  {
   "cell_type": "code",
   "execution_count": 763,
   "metadata": {
    "collapsed": true
   },
   "outputs": [],
   "source": [
    "def fit_quick(train_X, train_Y, alpha, gamma):\n",
    "    kr = KernelRidge(kernel='rbf',alpha = alpha, gamma = gamma)\n",
    "    kr.fit(train_X, train_Y)\n",
    "    return kr"
   ]
  },
  {
   "cell_type": "markdown",
   "metadata": {},
   "source": [
    "# Training size 10"
   ]
  },
  {
   "cell_type": "code",
   "execution_count": 473,
   "metadata": {},
   "outputs": [],
   "source": [
    "M = 10\n",
    "N = 150\n",
    "[train_set, test_set, train_ens, test_ens, train_fours, test_fours] = get_train_test(M, N)"
   ]
  },
  {
   "cell_type": "markdown",
   "metadata": {},
   "source": [
    "## KS model: position to energy"
   ]
  },
  {
   "cell_type": "code",
   "execution_count": 557,
   "metadata": {},
   "outputs": [
    {
     "name": "stdout",
     "output_type": "stream",
     "text": [
      "KernelRidge(alpha=1e-20, coef0=1, degree=3, gamma=4.090909090909091,\n",
      "      kernel='rbf', kernel_params=None)\n",
      "MAE=0.013628859997131508\n",
      "max_error=0.13309869676613004\n"
     ]
    },
    {
     "data": {
      "image/png": "[encoded data removed]",
      "text/plain": [
       "<matplotlib.figure.Figure at 0x10cb234a8>"
      ]
     },
     "metadata": {},
     "output_type": "display_data"
    },
    {
     "data": {
      "image/png": "[encoded data removed]",
      "text/plain": [
       "<matplotlib.figure.Figure at 0x1c38195c0>"
      ]
     },
     "metadata": {},
     "output_type": "display_data"
    },
    {
     "data": {
      "image/png": "[encoded data removed]",
      "text/plain": [
       "<matplotlib.figure.Figure at 0x106afdfd0>"
      ]
     },
     "metadata": {},
     "output_type": "display_data"
    }
   ],
   "source": [
    "alphas = np.logspace(-20, -1, 6)\n",
    "gammas = np.linspace(1, 10, 100)\n",
    "cv = 9\n",
    "\n",
    "[kr, y_kr, errs, MAE, max_err] = fit_krr(train_set, \\\n",
    "                                         train_ens, test_set, test_ens, \\\n",
    "                                         alphas, gammas, cv)\n",
    "\n",
    "# check MAE in kcal/mol\n",
    "print(kr.best_estimator_)\n",
    "print('MAE='+str(MAE / kcal_conv))\n",
    "print('max_error='+str(max_err / kcal_conv))\n",
    "\n",
    "# plot predictions\n",
    "plt.figure()\n",
    "plt.plot(train_set, train_ens, 'x')\n",
    "plt.plot(seps, ens, 'b')\n",
    "plt.plot(test_set, y_kr,'r')\n",
    "plt.show()\n",
    "\n",
    "# plot error\n",
    "fig, ax = plt.subplots(1,1)\n",
    "ax.plot(test_set, errs,label='KS')\n",
    "ax.set_xlabel('separation (Å)')\n",
    "ax.set_ylabel('log error')\n",
    "ax.set_yscale('log')\n",
    "plt.legend()\n",
    "plt.show()\n",
    "\n",
    "# out of sample test\n",
    "test_OS = np.linspace(0.01, 5, 100)\n",
    "test_OS = np.reshape(test_OS, (len(test_OS),1))\n",
    "ens_OS = kr.predict(test_OS)\n",
    "\n",
    "plt.figure()\n",
    "plt.plot(train_set, train_ens, 'x')\n",
    "plt.plot(test_OS, ens_OS)\n",
    "plt.show()"
   ]
  },
  {
   "cell_type": "markdown",
   "metadata": {},
   "source": [
    "## HK model: position to density to energy"
   ]
  },
  {
   "cell_type": "code",
   "execution_count": 762,
   "metadata": {},
   "outputs": [
    {
     "name": "stdout",
     "output_type": "stream",
     "text": [
      "0.0049697354008947465\n",
      "KernelRidge(alpha=1e-10, coef0=1, degree=3, gamma=1, kernel='rbf',\n",
      "      kernel_params=None)\n"
     ]
    },
    {
     "data": {
      "image/png": "[encoded data removed]",
      "text/plain": [
       "<matplotlib.figure.Figure at 0x1d2594940>"
      ]
     },
     "metadata": {},
     "output_type": "display_data"
    }
   ],
   "source": [
    "ind = 3\n",
    "ex_fours = np.reshape(train_fours[:,ind,0,0],(M,1))\n",
    "ex_fours_test = np.reshape(test_fours[:,ind,0,0],(N-M,1))\n",
    "\n",
    "alphas = np.logspace(-10, -1, 1)\n",
    "# gammas = np.logspace(-1, 0, 2)\n",
    "gammas = [1]\n",
    "cv = 9\n",
    "\n",
    "[kr, y_kr, errs, MAE, max_err] = fit_krr(train_set, \\\n",
    "                                         ex_fours, test_set, ex_fours_test, \\\n",
    "                                         alphas, gammas, cv)\n",
    "print(MAE)\n",
    "print(kr.best_estimator_)\n",
    "\n",
    "plt.figure()\n",
    "plt.plot(train_set, ex_fours, 'x')\n",
    "plt.plot(test_set, ex_fours_test, 'b')\n",
    "plt.plot(test_set, y_kr,'r')\n",
    "plt.show()"
   ]
  },
  {
   "cell_type": "code",
   "execution_count": 580,
   "metadata": {},
   "outputs": [],
   "source": [
    "# record best hyperparameters\n",
    "best_gam = kr.best_estimator_.gamma\n",
    "best_alpha = kr.best_estimator_.alpha"
   ]
  },
  {
   "cell_type": "code",
   "execution_count": 765,
   "metadata": {},
   "outputs": [
    {
     "name": "stdout",
     "output_type": "stream",
     "text": [
      "0\n",
      "1\n",
      "2\n",
      "3\n",
      "4\n",
      "5\n",
      "6\n",
      "7\n",
      "8\n",
      "9\n",
      "10\n",
      "11\n",
      "12\n",
      "13\n",
      "14\n",
      "15\n",
      "16\n",
      "17\n",
      "18\n",
      "19\n",
      "20\n",
      "21\n",
      "22\n",
      "23\n",
      "24\n"
     ]
    }
   ],
   "source": [
    "# build position to Fourier models\n",
    "krs = []\n",
    "no_four = 25\n",
    "train_X = np.reshape(train_set, (M,1))\n",
    "\n",
    "alpha = 1e-10\n",
    "gamma = 1\n",
    "cv = 9\n",
    "\n",
    "for i in range(no_four):\n",
    "    four1 = i\n",
    "    for j in range(no_four):\n",
    "        four2 = j\n",
    "        for k in range(no_four):\n",
    "            four3 = k\n",
    "\n",
    "            data_vec = []\n",
    "\n",
    "            # get chosen Fourier component for each training density \n",
    "            for n in range(M):\n",
    "                comp = train_fours[n][four1, four2, four3]\n",
    "                data_vec.append(comp)\n",
    "\n",
    "            # build the model\n",
    "            train_Y = np.reshape(np.array(data_vec), (M,1))\n",
    "            kr = fit_quick(train_X, train_Y, alpha, gamma)\n",
    "            \n",
    "            krs.append(kr)\n",
    "    print(i)"
   ]
  },
  {
   "cell_type": "code",
   "execution_count": 767,
   "metadata": {},
   "outputs": [
    {
     "name": "stdout",
     "output_type": "stream",
     "text": [
      "KernelRidge(alpha=1e-20, coef0=1, degree=3, gamma=7.924828983539185e-08,\n",
      "      kernel='rbf', kernel_params=None)\n",
      "MAE=0.006172502538930853\n",
      "max error=0.0695345665527585\n"
     ]
    },
    {
     "data": {
      "image/png": "[encoded data removed]",
      "text/plain": [
       "<matplotlib.figure.Figure at 0x1d2493358>"
      ]
     },
     "metadata": {},
     "output_type": "display_data"
    },
    {
     "data": {
      "image/png": "[encoded data removed]",
      "text/plain": [
       "<matplotlib.figure.Figure at 0x1d343e0b8>"
      ]
     },
     "metadata": {},
     "output_type": "display_data"
    }
   ],
   "source": [
    "# build Fourier to energy model\n",
    "train_X = np.reshape(train_fours,(M,25**3))\n",
    "test_X = np.reshape(test_fours,(N-M,25**3))\n",
    "train_Y = train_ens\n",
    "\n",
    "alphas = np.logspace(-20, -1, 6)\n",
    "gammas = np.logspace(-9, -7, 100)\n",
    "cv = 9\n",
    "\n",
    "[FE_kr, y_kr, errs, MAE, max_err] = fit_krr(train_X, \\\n",
    "                                         train_Y, test_X, test_ens, \\\n",
    "                                         alphas, gammas, cv)\n",
    "\n",
    "print(FE_kr.best_estimator_)\n",
    "print('MAE='+str(MAE/kcal_conv))\n",
    "print('max error='+str(max_err/kcal_conv))\n",
    "\n",
    "# plot predictions\n",
    "plt.figure()\n",
    "plt.plot(train_set, train_ens, 'x')\n",
    "plt.plot(seps, ens, 'b')\n",
    "plt.plot(test_set, y_kr,'r')\n",
    "plt.show()\n",
    "\n",
    "# plot error\n",
    "fig, ax = plt.subplots(1,1)\n",
    "ax.plot(test_set, errs)\n",
    "ax.set_xlabel('separation (Å)')\n",
    "ax.set_ylabel('log error')\n",
    "ax.set_yscale('log')\n",
    "plt.show()"
   ]
  },
  {
   "cell_type": "code",
   "execution_count": 768,
   "metadata": {
    "scrolled": true
   },
   "outputs": [
    {
     "name": "stdout",
     "output_type": "stream",
     "text": [
      "0\n",
      "0.0013669054043567996\n",
      "1\n",
      "0.0019296753565924973\n",
      "2\n",
      "0.002573236972729376\n",
      "3\n",
      "0.0026001960251775813\n",
      "4\n",
      "0.002797231408891321\n",
      "5\n",
      "0.0025290145385561402\n",
      "6\n",
      "0.0024812503587980927\n",
      "7\n",
      "0.0023560597312730636\n",
      "8\n",
      "0.0019196299396142535\n",
      "9\n",
      "0.0017302827066103532\n",
      "10\n",
      "0.0012979137568756016\n",
      "11\n",
      "0.00110845668227455\n",
      "12\n",
      "0.0007252253263807518\n",
      "13\n",
      "0.0005701506459594441\n",
      "14\n",
      "0.0004320038626808298\n",
      "15\n",
      "0.0001491513980091952\n",
      "16\n",
      "0.0001479342151498031\n",
      "17\n",
      "0.00018798036325406997\n",
      "18\n",
      "0.0003316763318608196\n",
      "19\n",
      "0.0003318282441320264\n",
      "20\n",
      "0.00031984755649006047\n",
      "21\n",
      "0.0003897934070735687\n",
      "22\n",
      "0.0003526330882266393\n",
      "23\n",
      "0.00038575402827589755\n",
      "24\n",
      "0.00033280002041635726\n",
      "25\n",
      "0.00033933088380067034\n",
      "26\n",
      "0.0002795806686641811\n",
      "27\n",
      "0.00022311588823953343\n",
      "28\n",
      "0.00021033206336440458\n",
      "29\n",
      "0.00015608898539909433\n",
      "30\n",
      "0.00013565703988760447\n",
      "31\n",
      "6.448303487260887e-05\n",
      "32\n",
      "2.6377025072577e-05\n",
      "33\n",
      "4.475648779589392e-06\n",
      "34\n",
      "2.6192162163596322e-05\n",
      "35\n",
      "4.665547646709456e-05\n",
      "36\n",
      "6.72757990862749e-05\n",
      "37\n",
      "7.751666130317858e-05\n",
      "38\n",
      "9.678320267880736e-05\n",
      "39\n",
      "9.794003825547293e-05\n",
      "40\n",
      "9.343614973644776e-05\n",
      "41\n",
      "0.00011027904873373018\n",
      "42\n",
      "9.846979320471405e-05\n",
      "43\n",
      "0.00011580934927124531\n",
      "44\n",
      "9.851594436227629e-05\n",
      "45\n",
      "0.00011719876142279873\n",
      "46\n",
      "9.553554054875235e-05\n",
      "47\n",
      "9.123120715415212e-05\n",
      "48\n",
      "6.378937681716934e-05\n",
      "49\n",
      "8.735494065348348e-05\n",
      "50\n",
      "5.873232679221019e-05\n",
      "51\n",
      "8.478020060209701e-05\n",
      "52\n",
      "5.4310367033849616e-05\n",
      "53\n",
      "2.1999941100858678e-05\n",
      "54\n",
      "5.1723137179493506e-05\n",
      "55\n",
      "1.8421746183605592e-05\n",
      "56\n",
      "5.118463391085015e-05\n",
      "57\n",
      "1.7430156052711254e-05\n",
      "58\n",
      "5.251680124729319e-05\n",
      "59\n",
      "1.7944165161765113e-05\n",
      "60\n",
      "1.8010527561784784e-05\n",
      "61\n",
      "1.9005547706285597e-05\n",
      "62\n",
      "2.165989013036551e-05\n",
      "63\n",
      "1.5997175012216758e-05\n",
      "64\n",
      "2.4502430125750152e-05\n",
      "65\n",
      "1.3851667290509795e-05\n",
      "66\n",
      "5.293056761956905e-05\n",
      "67\n",
      "1.173597027559481e-05\n",
      "68\n",
      "5.187784598348344e-05\n",
      "69\n",
      "8.329979493737483e-06\n",
      "70\n",
      "4.852754966933048e-05\n",
      "71\n",
      "4.066496394727892e-06\n",
      "72\n",
      "4.462272590899374e-05\n",
      "73\n",
      "1.3569213912489886e-06\n",
      "74\n",
      "3.894911479562779e-05\n",
      "75\n",
      "7.975890075329062e-05\n",
      "76\n",
      "3.209849229790507e-05\n",
      "77\n",
      "7.237102948209895e-05\n",
      "78\n",
      "6.337491628727321e-05\n",
      "79\n",
      "1.2245157353873992e-05\n",
      "80\n",
      "5.160383287972081e-05\n",
      "81\n",
      "9.089943792162103e-05\n",
      "82\n",
      "3.811859502533821e-05\n",
      "83\n",
      "7.668276812111685e-05\n",
      "84\n",
      "2.2742312552281874e-05\n",
      "85\n",
      "6.040913909544088e-05\n",
      "86\n",
      "5.049825809066988e-06\n",
      "87\n",
      "4.220353484640782e-05\n",
      "88\n",
      "7.929042116217033e-05\n",
      "89\n",
      "2.3171569271340786e-05\n",
      "90\n",
      "6.0037454630901266e-05\n",
      "91\n",
      "3.4158564687913895e-06\n",
      "92\n",
      "4.0330000260269117e-05\n",
      "93\n",
      "2.0639082418227872e-05\n",
      "94\n",
      "5.753601810454256e-05\n",
      "95\n",
      "1.2290685056370876e-06\n",
      "96\n",
      "3.8520646171491535e-05\n",
      "97\n",
      "1.7216048703971865e-05\n",
      "98\n",
      "2.0798685167022768e-05\n",
      "99\n",
      "3.4199387165756434e-05\n",
      "100\n",
      "4.166689500095799e-06\n",
      "101\n",
      "4.344061025918222e-05\n",
      "102\n",
      "1.0109676079395058e-05\n",
      "103\n",
      "2.9601616844843193e-05\n",
      "104\n",
      "2.334593945718666e-05\n",
      "105\n",
      "1.734207302916957e-05\n",
      "106\n",
      "3.4457413025990036e-05\n",
      "107\n",
      "6.267867842524311e-06\n",
      "108\n",
      "4.7657765421149634e-05\n",
      "109\n",
      "3.740188657275212e-05\n",
      "110\n",
      "1.2839296502420439e-05\n",
      "111\n",
      "2.8696174172893052e-05\n",
      "112\n",
      "2.114971163891255e-05\n",
      "113\n",
      "2.0060609521976858e-05\n",
      "114\n",
      "6.105241696019448e-05\n",
      "115\n",
      "1.0975666626222846e-05\n",
      "116\n",
      "5.15410932031557e-05\n",
      "117\n",
      "1.6364532804402643e-06\n",
      "118\n",
      "4.127987682522871e-05\n",
      "119\n",
      "8.648864518789878e-06\n",
      "120\n",
      "3.0053660093898316e-05\n",
      "121\n",
      "6.83076179726072e-05\n",
      "122\n",
      "1.7624403582772175e-05\n",
      "123\n",
      "5.5425208731918474e-05\n",
      "124\n",
      "4.130263228319109e-05\n",
      "125\n",
      "9.62334345544491e-06\n",
      "126\n",
      "2.6805709445909542e-05\n",
      "127\n",
      "6.246766943363014e-05\n",
      "128\n",
      "1.2293327969814527e-05\n",
      "129\n",
      "4.78718939049827e-05\n",
      "130\n",
      "2.0097841186839105e-06\n",
      "131\n",
      "3.3529784062125145e-05\n",
      "132\n",
      "1.5400549106203698e-05\n",
      "133\n",
      "1.958962970149969e-05\n",
      "134\n",
      "5.4405739710716716e-05\n",
      "135\n",
      "5.26369134234983e-06\n",
      "136\n",
      "3.995988832272701e-05\n",
      "137\n",
      "9.604362961823654e-06\n",
      "138\n",
      "2.249789778829836e-05\n",
      "139\n",
      "2.9383499022372916e-05\n"
     ]
    }
   ],
   "source": [
    "# perform double mapping\n",
    "no_four = 25\n",
    "HK_errs = []\n",
    "\n",
    "# predict the density\n",
    "for n in range(N-M):\n",
    "    sep = test_set[n][0]\n",
    "    \n",
    "    # get density\n",
    "    test_dens = np.zeros([no_four, no_four, no_four])\n",
    "    count = 0\n",
    "    for i in range(no_four):\n",
    "        for j in range(no_four):\n",
    "            for k in range(no_four):\n",
    "                # use model to calculate density\n",
    "                kr_curr = krs[count]\n",
    "                test_dens[i,j,k]=kr_curr.predict(sep)[0][0]\n",
    "                \n",
    "                count+=1\n",
    "                \n",
    "    # get energy\n",
    "    true_en = test_ens[n][0]\n",
    "    test_en = FE_kr.predict(np.reshape(test_dens,(1,25**3)))[0][0]\n",
    "    HK_err = np.abs(true_en-test_en)\n",
    "    HK_errs.append(HK_err)\n",
    "    \n",
    "    print(n)\n",
    "    print(HK_err)"
   ]
  },
  {
   "cell_type": "code",
   "execution_count": 773,
   "metadata": {},
   "outputs": [
    {
     "data": {
      "image/png": "[encoded data removed]",
      "text/plain": [
       "<matplotlib.figure.Figure at 0x1c3970ba8>"
      ]
     },
     "metadata": {},
     "output_type": "display_data"
    },
    {
     "name": "stdout",
     "output_type": "stream",
     "text": [
      "MAE=0.005836139222420526\n",
      "max error=0.06505189323003072\n"
     ]
    }
   ],
   "source": [
    "# plot error\n",
    "fig, ax = plt.subplots(1,1)\n",
    "ax.plot(test_set, HK_errs)\n",
    "ax.set_xlabel('separation (Å)')\n",
    "ax.set_ylabel('log error')\n",
    "ax.set_yscale('log')\n",
    "plt.show()\n",
    "\n",
    "# print MAE and max error\n",
    "print('MAE='+str(np.mean(HK_errs)/kcal_conv))\n",
    "print('max error='+str(np.max(HK_errs)/kcal_conv))"
   ]
  },
  {
   "cell_type": "markdown",
   "metadata": {},
   "source": [
    "## KS model: potential to energy"
   ]
  },
  {
   "cell_type": "code",
   "execution_count": 774,
   "metadata": {},
   "outputs": [
    {
     "data": {
      "text/plain": [
       "array([[0.5       ],\n",
       "       [0.61409396],\n",
       "       [0.72147651],\n",
       "       [0.83557047],\n",
       "       [0.94295302],\n",
       "       [1.05704698],\n",
       "       [1.16442953],\n",
       "       [1.27852349],\n",
       "       [1.38590604],\n",
       "       [1.5       ]])"
      ]
     },
     "execution_count": 774,
     "metadata": {},
     "output_type": "execute_result"
    }
   ],
   "source": [
    "# get potential kernel\n",
    "pots = []\n",
    "grid_len = 5.29177*2\n",
    "for n in range(M):\n",
    "    dist = train_set[n]\n",
    "    pot = pot_rep(dist, grid_len)\n",
    "    pots.append(pot)  \n",
    "    \n",
    "# get kernel matrix \n",
    "sig = 30\n",
    "kern = get_kern_mat(pots, sig)\n",
    "\n",
    "# create test potentials\n",
    "test_pots = []\n",
    "for n in range(len(test_indices)):\n",
    "    dist = test_set[n]\n",
    "    pot = pot_rep(dist, grid_len)\n",
    "    test_pots.append(pot)"
   ]
  },
  {
   "cell_type": "code",
   "execution_count": null,
   "metadata": {
    "collapsed": true
   },
   "outputs": [],
   "source": [
    "alphas = np.logspace(-20, -1, 6)\n",
    "gammas = np.linspace(1, 10, 100)\n",
    "cv = 9\n",
    "\n",
    "[kr, y_kr, errs, MAE, max_err] = fit_krr(train_set, \\\n",
    "                                         train_ens, test_set, test_ens, \\\n",
    "                                         alphas, gammas, cv)\n",
    "\n",
    "# check MAE in kcal/mol\n",
    "print(kr.best_estimator_)\n",
    "print('MAE='+str(MAE / kcal_conv))\n",
    "print('max_error='+str(max_err / kcal_conv))\n",
    "\n",
    "# plot predictions\n",
    "plt.figure()\n",
    "plt.plot(train_set, train_ens, 'x')\n",
    "plt.plot(seps, ens, 'b')\n",
    "plt.plot(test_set, y_kr,'r')\n",
    "plt.show()\n",
    "\n",
    "# plot error\n",
    "fig, ax = plt.subplots(1,1)\n",
    "ax.plot(test_set, errs,label='KS')\n",
    "ax.set_xlabel('separation (Å)')\n",
    "ax.set_ylabel('log error')\n",
    "ax.set_yscale('log')\n",
    "plt.legend()\n",
    "plt.show()\n",
    "\n",
    "# out of sample test\n",
    "test_OS = np.linspace(0.01, 5, 100)\n",
    "test_OS = np.reshape(test_OS, (len(test_OS),1))\n",
    "ens_OS = kr.predict(test_OS)\n",
    "\n",
    "plt.figure()\n",
    "plt.plot(train_set, train_ens, 'x')\n",
    "plt.plot(test_OS, ens_OS)\n",
    "plt.show()"
   ]
  }
 ],
 "metadata": {
  "kernelspec": {
   "display_name": "Python 3",
   "language": "python",
   "name": "python3"
  },
  "language_info": {
   "codemirror_mode": {
    "name": "ipython",
    "version": 3
   },
   "file_extension": ".py",
   "mimetype": "text/x-python",
   "name": "python",
   "nbconvert_exporter": "python",
   "pygments_lexer": "ipython3",
   "version": "3.6.3"
  }
 },
 "nbformat": 4,
 "nbformat_minor": 2
}
