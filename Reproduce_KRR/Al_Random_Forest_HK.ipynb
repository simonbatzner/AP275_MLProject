{
 "cells": [
  {
   "cell_type": "markdown",
   "metadata": {},
   "source": [
    "# <div style=\"text-align: center\">Random Forests - Hohenberg-Kohn Mapping - Solid-State</div> \n",
    " \n",
    "## <div style=\"text-align: center\">Jon Vandermause, Steven Torrisi, Simon Batzner</div> "
   ]
  },
  {
   "cell_type": "markdown",
   "metadata": {},
   "source": [
    "## <div style=\"text-align: center\">Potential-to-Density</div> "
   ]
  },
  {
   "cell_type": "code",
   "execution_count": 1,
   "metadata": {},
   "outputs": [],
   "source": [
    "from __future__ import absolute_import\n",
    "from __future__ import division\n",
    "from __future__ import print_function\n",
    "\n",
    "import numpy as np\n",
    "import os\n",
    "import matplotlib.pyplot as plt\n",
    "from sklearn.datasets import load_boston\n",
    "from sklearn.metrics import mean_squared_error\n",
    "from sklearn.metrics import mean_absolute_error\n",
    "from sklearn.model_selection import cross_val_score\n",
    "from sklearn.ensemble import RandomForestRegressor\n",
    "from sklearn.model_selection import train_test_split\n",
    "from sklearn.model_selection import train_test_split\n",
    "from KRR_reproduce import *\n",
    "\n",
    "from IPython.core.interactiveshell import InteractiveShell\n",
    "InteractiveShell.ast_node_interactivity = \"all\""
   ]
  },
  {
   "cell_type": "code",
   "execution_count": 2,
   "metadata": {},
   "outputs": [
    {
     "name": "stdout",
     "output_type": "stream",
     "text": [
      "Number of estimators: 1000\n",
      "Maximum depth: 50\n"
     ]
    }
   ],
   "source": [
    "# setup\n",
    "ev2kcal = 1/0.043       # conversion factor\n",
    "SEED = 42\n",
    "SIM_NO = 201            # total number of data points\n",
    "M = 180                 # number of training points\n",
    "\n",
    "# random forest\n",
    "N_ESTIMATORS = 1000     # number of trees\n",
    "MAX_DEPTH = 50          # maximum depth of trees\n",
    "\n",
    "# path to data\n",
    "os.environ['PROJDIR'] = '/Users/simonbatzner1/Desktop/Research/Research_Code/ML-electron-density'\n",
    "STR_PREF = os.environ['PROJDIR']+'/Aluminium_Dataset/Store/'\n",
    "\n",
    "print(\"Number of estimators: {}\".format(N_ESTIMATORS))\n",
    "print(\"Maximum depth: {}\".format(MAX_DEPTH))"
   ]
  },
  {
   "cell_type": "markdown",
   "metadata": {},
   "source": [
    "## Load data"
   ]
  },
  {
   "cell_type": "code",
   "execution_count": 3,
   "metadata": {},
   "outputs": [],
   "source": [
    "pos = []\n",
    "ens = []\n",
    "fours = []\n",
    "\n",
    "for n in range(SIM_NO):\n",
    "    # load arrays\n",
    "    en_curr = np.reshape(np.load(STR_PREF+'en_store/energy'+str(n)+'.npy'),(1))[0]\n",
    "    pos_curr = np.load(STR_PREF+'pos_store/pos'+str(n)+'.npy')\n",
    "    four_curr = np.load(STR_PREF+'four_store/four'+str(n)+'.npy')\n",
    "    \n",
    "    # store arrays\n",
    "    ens.append(en_curr)\n",
    "    pos_curr = pos_curr.flatten()\n",
    "    pos.append(pos_curr)\n",
    "    fours.append(four_curr)\n",
    "\n",
    "# convert to np arrays\n",
    "ens = np.array(ens)\n",
    "pos = np.array(pos)\n",
    "fours = np.array(fours)"
   ]
  },
  {
   "cell_type": "code",
   "execution_count": 4,
   "metadata": {},
   "outputs": [
    {
     "name": "stdout",
     "output_type": "stream",
     "text": [
      "(180, 12)\n",
      "(21, 12)\n",
      "(21, 15625)\n"
     ]
    }
   ],
   "source": [
    "fours_flattened = []\n",
    "\n",
    "for n in range(SIM_NO):\n",
    "    four = fours[n]\n",
    "    four = four.flatten()\n",
    "    four= np.absolute(four)\n",
    "    fours_flattened.append(four)\n",
    "    \n",
    "data = pos\n",
    "labels = fours_flattened\n",
    "\n",
    "# define training and test indices\n",
    "train_indices = [int(n) for n in np.round(np.linspace(0,200,M))]\n",
    "test_indices = [n for n in range(201) if n not in train_indices]\n",
    "\n",
    "if len(train_indices) != M: \n",
    "    print(\"Size of training set doesn't match the M specified\")\n",
    "    \n",
    "x_train = np.array([data[n] for n in train_indices])\n",
    "x_test = np.array([data[n] for n in test_indices])\n",
    "y_train = np.array([labels[n] for n in train_indices])\n",
    "y_test =np.array([labels[n] for n in test_indices])\n",
    "\n",
    "# convert to np arrays\n",
    "x_train = np.array(x_train)\n",
    "x_test = np.array(x_test)\n",
    "y_train = np.array(y_train)\n",
    "y_test = np.array(y_test)"
   ]
  },
  {
   "cell_type": "code",
   "execution_count": 5,
   "metadata": {},
   "outputs": [
    {
     "name": "stdout",
     "output_type": "stream",
     "text": [
      "Training...\n",
      "\n"
     ]
    },
    {
     "data": {
      "text/plain": [
       "RandomForestRegressor(bootstrap=True, criterion='mse', max_depth=50,\n",
       "           max_features='auto', max_leaf_nodes=None,\n",
       "           min_impurity_decrease=0.0, min_impurity_split=None,\n",
       "           min_samples_leaf=1, min_samples_split=2,\n",
       "           min_weight_fraction_leaf=0.0, n_estimators=1000, n_jobs=1,\n",
       "           oob_score=False, random_state=0, verbose=0, warm_start=False)"
      ]
     },
     "execution_count": 5,
     "metadata": {},
     "output_type": "execute_result"
    }
   ],
   "source": [
    "# train random forest\n",
    "estimator = RandomForestRegressor(random_state=0, n_estimators=N_ESTIMATORS, max_depth=MAX_DEPTH)\n",
    "print(\"Training...\\n\")\n",
    "estimator.fit(x_train, y_train)"
   ]
  },
  {
   "cell_type": "code",
   "execution_count": 6,
   "metadata": {},
   "outputs": [
    {
     "name": "stdout",
     "output_type": "stream",
     "text": [
      "Number of estimators: 1000\n",
      "Maximum depth: 50\n",
      "\n",
      "MAE on training data:\t0.006612925520119559\n",
      "MAE on test data:\t0.018065233876692482\n",
      "\n",
      "Predicted Fourier components:\n",
      "\n",
      "[[  2.35109738e+03   3.10170531e+01   1.08172942e+02 ...,   7.45789057e-05\n",
      "    6.64433046e-05   7.15411082e-05]\n",
      " [  2.35109734e+03   2.49864293e+01   1.08306148e+02 ...,   8.70072078e-05\n",
      "    7.03976383e-05   8.07737497e-05]\n",
      " [  2.35109735e+03   4.23787168e+01   1.08015585e+02 ...,   7.24307796e-05\n",
      "    6.41096599e-05   8.74225185e-05]\n",
      " ..., \n",
      " [  2.35109734e+03   6.65265472e+01   1.10495350e+02 ...,   7.35127470e-05\n",
      "    6.96304882e-05   6.12600340e-05]\n",
      " [  2.35109737e+03   4.06788204e+01   1.08249549e+02 ...,   6.24953347e-05\n",
      "    1.04676565e-04   7.16160004e-05]\n",
      " [  2.35109731e+03   4.86621756e+01   1.06501972e+02 ...,   6.86090947e-05\n",
      "    8.10441150e-05   7.39514858e-05]]\n"
     ]
    }
   ],
   "source": [
    "# eval on training data\n",
    "y_true_train, y_pred_train = y_train, estimator.predict(x_train)\n",
    "\n",
    "# eval on test data\n",
    "y_true, y_pred = y_test, estimator.predict(x_test)\n",
    "\n",
    "print(\"Number of estimators: {}\".format(N_ESTIMATORS))\n",
    "print(\"Maximum depth: {}\".format(MAX_DEPTH))\n",
    "print(\"\\nMAE on training data:\\t{}\".format(mean_absolute_error(y_true_train, y_pred_train)))\n",
    "print(\"MAE on test data:\\t{}\".format(mean_absolute_error(y_true, y_pred)))\n",
    "\n",
    "print(\"\\nPredicted Fourier components:\\n\")\n",
    "print(y_pred)\n",
    "\n",
    "y_pot2four_pred = y_pred"
   ]
  },
  {
   "cell_type": "markdown",
   "metadata": {},
   "source": [
    "## <div style=\"text-align: center\">Density-to-Energy </div> "
   ]
  },
  {
   "cell_type": "code",
   "execution_count": 7,
   "metadata": {},
   "outputs": [
    {
     "name": "stdout",
     "output_type": "stream",
     "text": [
      "Number of estimators: 1000\n",
      "Maximum depth: 50\n"
     ]
    }
   ],
   "source": [
    "# setup\n",
    "ev2kcal = 1/0.043     # conversion factor\n",
    "SEED = 42\n",
    "SIM_NO = 201          # total number of data points\n",
    "M = 180               # number of training points\n",
    "\n",
    "# random forest\n",
    "N_ESTIMATORS = 1000   # number of treest\n",
    "MAX_DEPTH = 50        # maximum depth of trees\n",
    "\n",
    "# path to data\n",
    "os.environ['PROJDIR'] = '/Users/simonbatzner1/Desktop/Research/Research_Code/ML-electron-density'\n",
    "STR_PREF = os.environ['PROJDIR']+'/Aluminium_Dataset/Store/'\n",
    "\n",
    "print(\"Number of estimators: {}\".format(N_ESTIMATORS))\n",
    "print(\"Maximum depth: {}\".format(MAX_DEPTH))"
   ]
  },
  {
   "cell_type": "code",
   "execution_count": 8,
   "metadata": {},
   "outputs": [
    {
     "name": "stdout",
     "output_type": "stream",
     "text": [
      "(180, 15625)\n",
      "(21, 15625)\n",
      "(21,)\n"
     ]
    }
   ],
   "source": [
    "data = fours_flattened\n",
    "labels = ens\n",
    "\n",
    "# define training and test indices\n",
    "train_indices = [int(n) for n in np.round(np.linspace(0,200,M))]\n",
    "test_indices = [n for n in range(201) if n not in train_indices]\n",
    "\n",
    "if len(train_indices) != M: \n",
    "    print(\"Size of training set doesn't match the M specified\")\n",
    "    \n",
    "x_train = np.array([data[n] for n in train_indices])\n",
    "x_test = np.array([data[n] for n in test_indices])\n",
    "y_train = np.array([labels[n] for n in train_indices])\n",
    "y_test =np.array([labels[n] for n in test_indices])\n",
    "\n",
    "# convert to np arrays\n",
    "x_train = np.array(x_train)\n",
    "x_test = np.array(x_test)\n",
    "y_train = np.array(y_train)\n",
    "y_test = np.array(y_test)\n",
    "\n",
    "print(x_train.shape)\n",
    "print(x_test.shape)\n",
    "print(y_test.shape)"
   ]
  },
  {
   "cell_type": "markdown",
   "metadata": {},
   "source": [
    "## Set up training and test data"
   ]
  },
  {
   "cell_type": "code",
   "execution_count": 9,
   "metadata": {},
   "outputs": [
    {
     "name": "stdout",
     "output_type": "stream",
     "text": [
      "Training...\n",
      "\n"
     ]
    },
    {
     "data": {
      "text/plain": [
       "RandomForestRegressor(bootstrap=True, criterion='mse', max_depth=50,\n",
       "           max_features='auto', max_leaf_nodes=None,\n",
       "           min_impurity_decrease=0.0, min_impurity_split=None,\n",
       "           min_samples_leaf=1, min_samples_split=2,\n",
       "           min_weight_fraction_leaf=0.0, n_estimators=1000, n_jobs=1,\n",
       "           oob_score=False, random_state=0, verbose=0, warm_start=False)"
      ]
     },
     "execution_count": 9,
     "metadata": {},
     "output_type": "execute_result"
    }
   ],
   "source": [
    "# train random forest\n",
    "estimator = RandomForestRegressor(random_state=0, n_estimators=N_ESTIMATORS, max_depth=MAX_DEPTH)\n",
    "print(\"Training...\\n\")\n",
    "estimator.fit(x_train, y_train)"
   ]
  },
  {
   "cell_type": "code",
   "execution_count": 10,
   "metadata": {},
   "outputs": [
    {
     "name": "stdout",
     "output_type": "stream",
     "text": [
      "Number of estimators: 1000\n",
      "Maximum depth: 50\n",
      "\n",
      "MAE on training data in:\t0.010136918521160965\n",
      "MAE on test data in:\t\t0.03603922603347038\n",
      "\n",
      "Predicted Energy:\n",
      "\n"
     ]
    },
    {
     "data": {
      "text/plain": [
       "-227.82811375434858"
      ]
     },
     "execution_count": 10,
     "metadata": {},
     "output_type": "execute_result"
    }
   ],
   "source": [
    "# eval on training data\n",
    "y_true_train, y_pred_train = y_train, estimator.predict(x_train)\n",
    "\n",
    "# eval on test data\n",
    "y_true, y_pred = y_test, estimator.predict(x_test)\n",
    "\n",
    "print(\"Number of estimators: {}\".format(N_ESTIMATORS))\n",
    "print(\"Maximum depth: {}\".format(MAX_DEPTH))\n",
    "print(\"\\nMAE on training data in:\\t{}\".format(mean_absolute_error(y_true_train, y_pred_train)))\n",
    "print(\"MAE on test data in:\\t\\t{}\".format(mean_absolute_error(y_true, y_pred)))\n",
    "\n",
    "print(\"\\nPredicted Energy:\\n\")\n",
    "y_pred[0]"
   ]
  },
  {
   "cell_type": "markdown",
   "metadata": {},
   "source": [
    "## Now let's compare to generated data from the first mapping"
   ]
  },
  {
   "cell_type": "code",
   "execution_count": 11,
   "metadata": {},
   "outputs": [
    {
     "name": "stdout",
     "output_type": "stream",
     "text": [
      "\n",
      "MAE on generated data in:\t0.04393148594513583\n",
      "\n",
      "    Pred \t|   True\n",
      "\n",
      "[[-227.82370968 -227.84035463]\n",
      " [-227.83434472 -227.85027767]\n",
      " [-227.78647774 -227.74434902]\n",
      " [-227.80303628 -227.82415555]\n",
      " [-227.781948   -227.7375795 ]\n",
      " [-227.78121725 -227.60663581]\n",
      " [-227.74374695 -227.78045242]\n",
      " [-227.71939694 -227.76919887]\n",
      " [-227.77833277 -227.60566205]\n",
      " [-227.76822993 -227.77281091]\n",
      " [-227.77671314 -227.81346283]\n",
      " [-227.76658712 -227.67706435]\n",
      " [-227.78317498 -227.7940426 ]\n",
      " [-227.79517409 -227.8125088 ]\n",
      " [-227.79155773 -227.83189815]\n",
      " [-227.78309989 -227.77663656]\n",
      " [-227.77895522 -227.73537347]\n",
      " [-227.80356815 -227.84215562]\n",
      " [-227.77336781 -227.74161155]\n",
      " [-227.81747826 -227.83667483]\n",
      " [-227.75440356 -227.76402925]]\n"
     ]
    }
   ],
   "source": [
    "# eval on generated data from first mapping\n",
    "y_true, y_pred = y_test, estimator.predict(y_pot2four_pred)\n",
    "print(\"\\nMAE on generated data in:\\t{}\".format(mean_absolute_error(y_true, y_pred)))\n",
    "\n",
    "print(\"\\n    Pred \\t|   True\\n\")\n",
    "print(np.c_[y_pred, y_true])"
   ]
  },
  {
   "cell_type": "code",
   "execution_count": 12,
   "metadata": {},
   "outputs": [
    {
     "data": {
      "image/png": "[encoded data removed]",
      "text/plain": [
       "<Figure size 864x504 with 1 Axes>"
      ]
     },
     "metadata": {},
     "output_type": "display_data"
    }
   ],
   "source": [
    "fig = plt.figure(figsize=(12, 7)); \n",
    "plt.plot(np.linspace(1, SIM_NO, SIM_NO), ens, label = 'DFT Energies'); \n",
    "plt.plot(test_indices, y_pred, 'kx', MarkerSize = 10, mew =1, label = 'Predicted Energies'); \n",
    "plt.legend(fontsize = 18)\n",
    "plt.xlabel('Sample', fontsize = 18)\n",
    "plt.ylabel('Energy [eV]', fontsize = 18)\n",
    "plt.show(); "
   ]
  },
  {
   "cell_type": "markdown",
   "metadata": {},
   "source": [
    "\n",
    "\n",
    "[1] Brockherde et al. Bypassing the Kohn-Sham equations with machine learning. Nature Communications 8, 872 (2017)"
   ]
  }
 ],
 "metadata": {
  "kernelspec": {
   "display_name": "Python 3",
   "language": "python",
   "name": "python3"
  },
  "language_info": {
   "codemirror_mode": {
    "name": "ipython",
    "version": 3
   },
   "file_extension": ".py",
   "mimetype": "text/x-python",
   "name": "python",
   "nbconvert_exporter": "python",
   "pygments_lexer": "ipython3",
   "version": "3.5.5"
  }
 },
 "nbformat": 4,
 "nbformat_minor": 2
}
