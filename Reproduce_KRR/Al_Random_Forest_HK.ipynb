{
 "cells": [
  {
   "cell_type": "markdown",
   "metadata": {},
   "source": [
    "# <div style=\"text-align: center\">Random Forests - Hohenberg-Kohn Mapping - Solid-State</div> \n",
    " \n",
    "## <div style=\"text-align: center\">Jon Vandermause, Steven Torrisi, Simon Batzner</div> "
   ]
  },
  {
   "cell_type": "markdown",
   "metadata": {},
   "source": [
    "## <div style=\"text-align: center\">Potential-to-Density</div> "
   ]
  },
  {
   "cell_type": "code",
   "execution_count": 18,
   "metadata": {},
   "outputs": [],
   "source": [
    "from __future__ import absolute_import\n",
    "from __future__ import division\n",
    "from __future__ import print_function\n",
    "\n",
    "import numpy as np\n",
    "import os\n",
    "import matplotlib.pyplot as plt\n",
    "from sklearn.datasets import load_boston\n",
    "from sklearn.metrics import mean_squared_error\n",
    "from sklearn.metrics import mean_absolute_error\n",
    "from sklearn.model_selection import cross_val_score\n",
    "from sklearn.ensemble import RandomForestRegressor\n",
    "from sklearn.model_selection import train_test_split\n",
    "from sklearn.model_selection import train_test_split\n",
    "from KRR_reproduce import *\n",
    "\n",
    "from IPython.core.interactiveshell import InteractiveShell\n",
    "InteractiveShell.ast_node_interactivity = \"all\""
   ]
  },
  {
   "cell_type": "code",
   "execution_count": 19,
   "metadata": {},
   "outputs": [
    {
     "name": "stdout",
     "output_type": "stream",
     "text": [
      "Number of estimators: 1000\n",
      "Maximum depth: 50\n"
     ]
    }
   ],
   "source": [
    "# setup\n",
    "ev2kcal = 1/0.043       # conversion factor\n",
    "SEED = 42\n",
    "SIM_NO = 201            # total number of data points\n",
    "M = 15                 # number of training points\n",
    "\n",
    "# random forest\n",
    "N_ESTIMATORS = 1000      # number of trees\n",
    "MAX_DEPTH = 50          # maximum depth of trees\n",
    "\n",
    "# alternate params\n",
    "# N_ESTIMATORS = 5000   # number of treest\n",
    "# MAX_DEPTH = 200       # maximum depth of trees\n",
    "\n",
    "# path to data\n",
    "os.environ['PROJDIR'] = '/Users/simonbatzner1/Desktop/Research/Research_Code/ML-electron-density'\n",
    "STR_PREF = os.environ['PROJDIR']+'/Aluminium_Dataset/Store/'\n",
    "\n",
    "print(\"Number of estimators: {}\".format(N_ESTIMATORS))\n",
    "print(\"Maximum depth: {}\".format(MAX_DEPTH))"
   ]
  },
  {
   "cell_type": "markdown",
   "metadata": {},
   "source": [
    "## Load data"
   ]
  },
  {
   "cell_type": "code",
   "execution_count": 20,
   "metadata": {},
   "outputs": [],
   "source": [
    "pos = []\n",
    "ens = []\n",
    "fours = []\n",
    "\n",
    "for n in range(SIM_NO):\n",
    "    # load arrays\n",
    "    en_curr = np.reshape(np.load(STR_PREF+'en_store/energy'+str(n)+'.npy'),(1))[0]\n",
    "    pos_curr = np.load(STR_PREF+'pos_store/pos'+str(n)+'.npy')\n",
    "    four_curr = np.load(STR_PREF+'four_store/four'+str(n)+'.npy')\n",
    "    \n",
    "    # store arrays\n",
    "    ens.append(en_curr)\n",
    "    pos_curr = pos_curr.flatten()\n",
    "    pos.append(pos_curr)\n",
    "    fours.append(four_curr)\n",
    "\n",
    "# convert to np arrays\n",
    "ens = np.array(ens)\n",
    "pos = np.array(pos)\n",
    "fours = np.array(fours)"
   ]
  },
  {
   "cell_type": "code",
   "execution_count": 21,
   "metadata": {},
   "outputs": [
    {
     "name": "stdout",
     "output_type": "stream",
     "text": [
      "(15, 12)\n",
      "(186, 12)\n",
      "(186, 15625)\n"
     ]
    }
   ],
   "source": [
    "fours_flattened = []\n",
    "\n",
    "for n in range(SIM_NO):\n",
    "    four = fours[n]\n",
    "    four = four.flatten()\n",
    "    four= np.absolute(four)\n",
    "    fours_flattened.append(four)\n",
    "    \n",
    "data = pos\n",
    "labels = fours_flattened\n",
    "\n",
    "# define training and test indices\n",
    "train_indices = [int(n) for n in np.round(np.linspace(0,200,M))]\n",
    "test_indices = [n for n in range(201) if n not in train_indices]\n",
    "\n",
    "if len(train_indices) != M: \n",
    "    print(\"Size of training set doesn't match the M specified\")\n",
    "    \n",
    "x_train = np.array([data[n] for n in train_indices])\n",
    "x_test = np.array([data[n] for n in test_indices])\n",
    "y_train = np.array([labels[n] for n in train_indices])\n",
    "y_test =np.array([labels[n] for n in test_indices])\n",
    "\n",
    "# convert to np arrays\n",
    "x_train = np.array(x_train)\n",
    "x_test = np.array(x_test)\n",
    "y_train = np.array(y_train)\n",
    "y_test = np.array(y_test)\n",
    "\n",
    "print(x_train.shape)\n",
    "print(x_test.shape)\n",
    "print(y_test.shape)"
   ]
  },
  {
   "cell_type": "code",
   "execution_count": 22,
   "metadata": {},
   "outputs": [
    {
     "name": "stdout",
     "output_type": "stream",
     "text": [
      "Training...\n",
      "\n"
     ]
    },
    {
     "data": {
      "text/plain": [
       "RandomForestRegressor(bootstrap=True, criterion='mse', max_depth=50,\n",
       "           max_features='auto', max_leaf_nodes=None,\n",
       "           min_impurity_decrease=0.0, min_impurity_split=None,\n",
       "           min_samples_leaf=1, min_samples_split=2,\n",
       "           min_weight_fraction_leaf=0.0, n_estimators=1000, n_jobs=1,\n",
       "           oob_score=False, random_state=0, verbose=0, warm_start=False)"
      ]
     },
     "execution_count": 22,
     "metadata": {},
     "output_type": "execute_result"
    }
   ],
   "source": [
    "# train random forest\n",
    "estimator = RandomForestRegressor(random_state=0, n_estimators=N_ESTIMATORS, max_depth=MAX_DEPTH)\n",
    "print(\"Training...\\n\")\n",
    "estimator.fit(x_train, y_train)"
   ]
  },
  {
   "cell_type": "code",
   "execution_count": 23,
   "metadata": {},
   "outputs": [
    {
     "name": "stdout",
     "output_type": "stream",
     "text": [
      "Number of estimators: 1000\n",
      "Maximum depth: 50\n",
      "\n",
      "MAE on training data:\t0.009333974222791119\n",
      "MAE on test data:\t0.02542748803118427\n",
      "\n",
      "Predicted Fourier components:\n",
      "\n",
      "[[  2.35109778e+03   1.70862668e+01   1.08146243e+02 ...,   6.76289001e-05\n",
      "    7.86470806e-05   4.42952593e-05]\n",
      " [  2.35109748e+03   2.42686960e+01   1.07803422e+02 ...,   7.07179132e-05\n",
      "    8.87794042e-05   5.30359075e-05]\n",
      " [  2.35109771e+03   1.75785626e+01   1.08127167e+02 ...,   6.43665680e-05\n",
      "    7.99957303e-05   5.60097972e-05]\n",
      " ..., \n",
      " [  2.35109735e+03   4.99095497e+01   1.08041476e+02 ...,   8.88449298e-05\n",
      "    8.46977700e-05   6.26424043e-05]\n",
      " [  2.35109739e+03   4.15366521e+01   1.07776175e+02 ...,   8.10087493e-05\n",
      "    8.56325889e-05   5.89558823e-05]\n",
      " [  2.35109729e+03   3.37088064e+01   1.07837703e+02 ...,   8.39321848e-05\n",
      "    8.89436339e-05   5.16818971e-05]]\n"
     ]
    }
   ],
   "source": [
    "# eval on training data\n",
    "y_true_train, y_pred_train = y_train, estimator.predict(x_train)\n",
    "\n",
    "# eval on test data\n",
    "y_true, y_pred = y_test, estimator.predict(x_test)\n",
    "\n",
    "print(\"Number of estimators: {}\".format(N_ESTIMATORS))\n",
    "print(\"Maximum depth: {}\".format(MAX_DEPTH))\n",
    "print(\"\\nMAE on training data:\\t{}\".format(mean_absolute_error(y_true_train, y_pred_train)))\n",
    "print(\"MAE on test data:\\t{}\".format(mean_absolute_error(y_true, y_pred)))\n",
    "\n",
    "print(\"\\nPredicted Fourier components:\\n\")\n",
    "print(y_pred)\n",
    "\n",
    "y_pot2four_pred = y_pred"
   ]
  },
  {
   "cell_type": "markdown",
   "metadata": {},
   "source": [
    "## <div style=\"text-align: center\">Density-to-Energy </div> "
   ]
  },
  {
   "cell_type": "code",
   "execution_count": 24,
   "metadata": {},
   "outputs": [
    {
     "name": "stdout",
     "output_type": "stream",
     "text": [
      "Number of estimators: 1000\n",
      "Maximum depth: 50\n"
     ]
    }
   ],
   "source": [
    "# setup\n",
    "ev2kcal = 1/0.043     # conversion factor\n",
    "SEED = 42\n",
    "SIM_NO = 201          # total number of data points\n",
    "M = 15               # number of training points\n",
    "\n",
    "# random forest\n",
    "N_ESTIMATORS = 1000   # number of treest\n",
    "MAX_DEPTH = 50      # maximum depth of trees\n",
    "\n",
    "# path to data\n",
    "os.environ['PROJDIR'] = '/Users/simonbatzner1/Desktop/Research/Research_Code/ML-electron-density'\n",
    "STR_PREF = os.environ['PROJDIR']+'/Aluminium_Dataset/Store/'\n",
    "\n",
    "print(\"Number of estimators: {}\".format(N_ESTIMATORS))\n",
    "print(\"Maximum depth: {}\".format(MAX_DEPTH))"
   ]
  },
  {
   "cell_type": "code",
   "execution_count": 25,
   "metadata": {},
   "outputs": [
    {
     "name": "stdout",
     "output_type": "stream",
     "text": [
      "(15, 15625)\n",
      "(186, 15625)\n",
      "(186,)\n"
     ]
    }
   ],
   "source": [
    "data = fours_flattened\n",
    "labels = ens\n",
    "\n",
    "# define training and test indices\n",
    "train_indices = [int(n) for n in np.round(np.linspace(0,200,M))]\n",
    "test_indices = [n for n in range(201) if n not in train_indices]\n",
    "\n",
    "if len(train_indices) != M: \n",
    "    print(\"Size of training set doesn't match the M specified\")\n",
    "    \n",
    "x_train = np.array([data[n] for n in train_indices])\n",
    "x_test = np.array([data[n] for n in test_indices])\n",
    "y_train = np.array([labels[n] for n in train_indices])\n",
    "y_test =np.array([labels[n] for n in test_indices])\n",
    "\n",
    "# convert to np arrays\n",
    "x_train = np.array(x_train)\n",
    "x_test = np.array(x_test)\n",
    "y_train = np.array(y_train)\n",
    "y_test = np.array(y_test)\n",
    "\n",
    "print(x_train.shape)\n",
    "print(x_test.shape)\n",
    "print(y_test.shape)"
   ]
  },
  {
   "cell_type": "markdown",
   "metadata": {},
   "source": [
    "## Set up training and test data"
   ]
  },
  {
   "cell_type": "code",
   "execution_count": 26,
   "metadata": {},
   "outputs": [
    {
     "name": "stdout",
     "output_type": "stream",
     "text": [
      "Training...\n",
      "\n"
     ]
    },
    {
     "data": {
      "text/plain": [
       "RandomForestRegressor(bootstrap=True, criterion='mse', max_depth=50,\n",
       "           max_features='auto', max_leaf_nodes=None,\n",
       "           min_impurity_decrease=0.0, min_impurity_split=None,\n",
       "           min_samples_leaf=1, min_samples_split=2,\n",
       "           min_weight_fraction_leaf=0.0, n_estimators=1000, n_jobs=1,\n",
       "           oob_score=False, random_state=0, verbose=0, warm_start=False)"
      ]
     },
     "execution_count": 26,
     "metadata": {},
     "output_type": "execute_result"
    }
   ],
   "source": [
    "# train random forest\n",
    "estimator = RandomForestRegressor(random_state=0, n_estimators=N_ESTIMATORS, max_depth=MAX_DEPTH)\n",
    "print(\"Training...\\n\")\n",
    "estimator.fit(x_train, y_train)"
   ]
  },
  {
   "cell_type": "code",
   "execution_count": 27,
   "metadata": {},
   "outputs": [
    {
     "name": "stdout",
     "output_type": "stream",
     "text": [
      "Number of estimators: 1000\n",
      "Maximum depth: 50\n",
      "\n",
      "MAE on training data in:\t0.01615847972939643\n",
      "MAE on test data in:\t\t0.05368971948104172\n",
      "\n",
      "Predicted Energy:\n",
      "\n"
     ]
    },
    {
     "data": {
      "text/plain": [
       "-227.79568550945402"
      ]
     },
     "execution_count": 27,
     "metadata": {},
     "output_type": "execute_result"
    }
   ],
   "source": [
    "# eval on training data\n",
    "y_true_train, y_pred_train = y_train, estimator.predict(x_train)\n",
    "\n",
    "# eval on test data\n",
    "y_true, y_pred = y_test, estimator.predict(x_test)\n",
    "\n",
    "print(\"Number of estimators: {}\".format(N_ESTIMATORS))\n",
    "print(\"Maximum depth: {}\".format(MAX_DEPTH))\n",
    "print(\"\\nMAE on training data in:\\t{}\".format(mean_absolute_error(y_true_train, y_pred_train)))\n",
    "print(\"MAE on test data in:\\t\\t{}\".format(mean_absolute_error(y_true, y_pred)))\n",
    "\n",
    "print(\"\\nPredicted Energy:\\n\")\n",
    "y_pred[0]"
   ]
  },
  {
   "cell_type": "markdown",
   "metadata": {},
   "source": [
    "## Now let's compare to generated data from the first mapping"
   ]
  },
  {
   "cell_type": "code",
   "execution_count": 28,
   "metadata": {},
   "outputs": [
    {
     "name": "stdout",
     "output_type": "stream",
     "text": [
      "\n",
      "MAE on generated data in:\t0.05374481567840103\n",
      "\n",
      "    Pred \t|   True\n",
      "\n",
      "[[-227.81500689 -227.87495202]\n",
      " [-227.80229501 -227.83845541]\n",
      " [-227.81434066 -227.83385737]\n",
      " [-227.80908853 -227.86424202]\n",
      " [-227.80734184 -227.84035463]\n",
      " [-227.8031288  -227.76541689]\n",
      " [-227.79880638 -227.76301767]\n",
      " [-227.81370123 -227.82810937]\n",
      " [-227.81295058 -227.84445525]\n",
      " [-227.80211309 -227.78635362]\n",
      " [-227.80287696 -227.75901201]\n",
      " [-227.80169628 -227.80722149]\n",
      " [-227.81170513 -227.85335868]\n",
      " [-227.80270217 -227.82986409]\n",
      " [-227.81273853 -227.83209897]\n",
      " [-227.80658663 -227.85556294]\n",
      " [-227.80868142 -227.87406438]\n",
      " [-227.80822491 -227.86525156]\n",
      " [-227.80644166 -227.81552219]\n",
      " [-227.80045511 -227.76311957]\n",
      " [-227.80386233 -227.79972094]\n",
      " [-227.80874785 -227.8249323 ]\n",
      " [-227.80111409 -227.74434902]\n",
      " [-227.79627887 -227.71942569]\n",
      " [-227.79172677 -227.77464618]\n",
      " [-227.79430102 -227.7762786 ]\n",
      " [-227.7977768  -227.75392988]\n",
      " [-227.80042984 -227.78391792]\n",
      " [-227.80208522 -227.8164603 ]\n",
      " [-227.80396311 -227.83410785]\n",
      " [-227.79876371 -227.82415555]\n",
      " [-227.79861021 -227.80953772]\n",
      " [-227.8014069  -227.81528042]\n",
      " [-227.80296895 -227.82756419]\n",
      " [-227.78910126 -227.78245341]\n",
      " [-227.79006124 -227.66932516]\n",
      " [-227.79301111 -227.6903231 ]\n",
      " [-227.79303403 -227.74939999]\n",
      " [-227.79433041 -227.74832977]\n",
      " [-227.78500069 -227.73963532]\n",
      " [-227.79837436 -227.78331478]\n",
      " [-227.79106179 -227.83231189]\n",
      " [-227.7926446  -227.82415936]\n",
      " [-227.79242827 -227.78522652]\n",
      " [-227.78795342 -227.78009445]\n",
      " [-227.79052666 -227.81694331]\n",
      " [-227.7868761  -227.80386782]\n",
      " [-227.7917808  -227.63110988]\n",
      " [-227.78542392 -227.60663581]\n",
      " [-227.79876636 -227.7136732 ]\n",
      " [-227.80252106 -227.64400087]\n",
      " [-227.79201536 -227.6240639 ]\n",
      " [-227.80026216 -227.72907567]\n",
      " [-227.79954061 -227.7818353 ]\n",
      " [-227.80236222 -227.73903803]\n",
      " [-227.79880475 -227.75683891]\n",
      " [-227.8022868  -227.80330182]\n",
      " [-227.80223269 -227.78045242]\n",
      " [-227.79819756 -227.68853137]\n",
      " [-227.80291659 -227.6518685 ]\n",
      " [-227.7942443  -227.65579647]\n",
      " [-227.79000551 -227.54541507]\n",
      " [-227.80081333 -227.59816504]\n",
      " [-227.79120316 -227.59102736]\n",
      " [-227.79422489 -227.64239812]\n",
      " [-227.79569074 -227.75439723]\n",
      " [-227.80116088 -227.74515855]\n",
      " [-227.79442173 -227.76570275]\n",
      " [-227.80123034 -227.81668439]\n",
      " [-227.80349866 -227.83307341]\n",
      " [-227.79958271 -227.79388274]\n",
      " [-227.80676208 -227.76387659]\n",
      " [-227.80368818 -227.79523378]\n",
      " [-227.8075395  -227.83176549]\n",
      " [-227.80385318 -227.70170087]\n",
      " [-227.79591802 -227.60566205]\n",
      " [-227.79985374 -227.74219374]\n",
      " [-227.79933829 -227.75924562]\n",
      " [-227.79350832 -227.7368716 ]\n",
      " [-227.79940963 -227.77231907]\n",
      " [-227.78988774 -227.77740488]\n",
      " [-227.7979851  -227.76749938]\n",
      " [-227.79394214 -227.77797509]\n",
      " [-227.79685667 -227.77281091]\n",
      " [-227.78735946 -227.73161245]\n",
      " [-227.78408422 -227.69537204]\n",
      " [-227.78345085 -227.72241758]\n",
      " [-227.77948128 -227.67825607]\n",
      " [-227.77819321 -227.46722272]\n",
      " [-227.76920687 -227.57859379]\n",
      " [-227.79009637 -227.62849786]\n",
      " [-227.79760931 -227.64501572]\n",
      " [-227.79476234 -227.76904934]\n",
      " [-227.80024943 -227.77296438]\n",
      " [-227.80329024 -227.75188372]\n",
      " [-227.80475578 -227.8062997 ]\n",
      " [-227.80525135 -227.84136948]\n",
      " [-227.80444334 -227.79899508]\n",
      " [-227.80882715 -227.770857  ]\n",
      " [-227.8043786  -227.79718021]\n",
      " [-227.80330874 -227.76255725]\n",
      " [-227.80357658 -227.67049851]\n",
      " [-227.80642145 -227.67706435]\n",
      " [-227.79570574 -227.72180437]\n",
      " [-227.80244266 -227.65008901]\n",
      " [-227.80841626 -227.71373239]\n",
      " [-227.80570809 -227.80722135]\n",
      " [-227.80775072 -227.77760515]\n",
      " [-227.80712816 -227.78448147]\n",
      " [-227.80597613 -227.8092418 ]\n",
      " [-227.81050983 -227.7940426 ]\n",
      " [-227.80588222 -227.74192679]\n",
      " [-227.80895071 -227.74099371]\n",
      " [-227.80749414 -227.74581027]\n",
      " [-227.80788797 -227.61540618]\n",
      " [-227.81085245 -227.60817747]\n",
      " [-227.81386489 -227.75750899]\n",
      " [-227.80774836 -227.76606208]\n",
      " [-227.81486424 -227.75535466]\n",
      " [-227.8099068  -227.80430348]\n",
      " [-227.81267095 -227.77253853]\n",
      " [-227.80607549 -227.79589638]\n",
      " [-227.81139399 -227.8436034 ]\n",
      " [-227.80932421 -227.83893433]\n",
      " [-227.80686487 -227.80470362]\n",
      " [-227.81015538 -227.80113621]\n",
      " [-227.80557519 -227.82999512]\n",
      " [-227.80299654 -227.84313822]\n",
      " [-227.80754978 -227.83189815]\n",
      " [-227.80157883 -227.81880497]\n",
      " [-227.79838339 -227.80971678]\n",
      " [-227.78801882 -227.7700631 ]\n",
      " [-227.79924393 -227.69899456]\n",
      " [-227.78348586 -227.73917599]\n",
      " [-227.78271696 -227.67917201]\n",
      " [-227.77031689 -227.65594817]\n",
      " [-227.7858426  -227.73018848]\n",
      " [-227.78609452 -227.77663656]\n",
      " [-227.78008236 -227.79776648]\n",
      " [-227.80298    -227.82202027]\n",
      " [-227.79296616 -227.84593215]\n",
      " [-227.79205236 -227.83893011]\n",
      " [-227.79684272 -227.80841879]\n",
      " [-227.77941216 -227.79509759]\n",
      " [-227.79440493 -227.8118677 ]\n",
      " [-227.7908841  -227.80486825]\n",
      " [-227.78324168 -227.72566934]\n",
      " [-227.78604387 -227.7811225 ]\n",
      " [-227.77264392 -227.73483945]\n",
      " [-227.78371197 -227.67493329]\n",
      " [-227.77561011 -227.7579573 ]\n",
      " [-227.78310106 -227.82825917]\n",
      " [-227.79327716 -227.81211968]\n",
      " [-227.80241113 -227.79896242]\n",
      " [-227.78454056 -227.81689691]\n",
      " [-227.8033748  -227.84215562]\n",
      " [-227.78813694 -227.83342919]\n",
      " [-227.78929064 -227.77679384]\n",
      " [-227.78404002 -227.72153199]\n",
      " [-227.77897553 -227.74999484]\n",
      " [-227.7840407  -227.6604673 ]\n",
      " [-227.7746217  -227.64288166]\n",
      " [-227.78366851 -227.74966558]\n",
      " [-227.78825729 -227.74161155]\n",
      " [-227.78519153 -227.68660426]\n",
      " [-227.80439002 -227.76602235]\n",
      " [-227.79368531 -227.83627088]\n",
      " [-227.79930199 -227.82256096]\n",
      " [-227.81003357 -227.8168712 ]\n",
      " [-227.80310757 -227.84229535]\n",
      " [-227.80953045 -227.8644378 ]\n",
      " [-227.80753876 -227.86762984]\n",
      " [-227.79975255 -227.85222057]\n",
      " [-227.79208099 -227.84300502]\n",
      " [-227.80157478 -227.84716877]\n",
      " [-227.79254654 -227.81685378]\n",
      " [-227.79754725 -227.78406663]\n",
      " [-227.78099688 -227.79993088]\n",
      " [-227.78524173 -227.81889831]\n",
      " [-227.78526666 -227.74623422]\n",
      " [-227.77748266 -227.7001358 ]\n",
      " [-227.78479249 -227.76402925]\n",
      " [-227.78277814 -227.74794936]\n",
      " [-227.77944919 -227.68148919]\n",
      " [-227.78816874 -227.76540751]\n",
      " [-227.79998408 -227.85324385]]\n"
     ]
    }
   ],
   "source": [
    "# eval on generated data from first mapping\n",
    "y_true, y_pred = y_test, estimator.predict(y_pot2four_pred)\n",
    "print(\"\\nMAE on generated data in:\\t{}\".format(mean_absolute_error(y_true, y_pred)))\n",
    "\n",
    "print(\"\\n    Pred \\t|   True\\n\")\n",
    "print(np.c_[y_pred, y_true])"
   ]
  },
  {
   "cell_type": "code",
   "execution_count": 29,
   "metadata": {},
   "outputs": [
    {
     "data": {
      "image/png": "[encoded data removed]",
      "text/plain": [
       "<Figure size 864x504 with 1 Axes>"
      ]
     },
     "metadata": {},
     "output_type": "display_data"
    }
   ],
   "source": [
    "fig = plt.figure(figsize=(12, 7)); \n",
    "plt.plot(np.linspace(1, SIM_NO, SIM_NO), ens, label = 'DFT Energies'); \n",
    "plt.plot(test_indices, y_pred, 'k.', MarkerSize = 10, mew = 3, label = 'Predicted Energies'); \n",
    "plt.legend(fontsize = 18)\n",
    "plt.xlabel('Sample', fontsize = 18)\n",
    "plt.ylabel('Energy [eV]', fontsize = 18)\n",
    "plt.show(); "
   ]
  },
  {
   "cell_type": "markdown",
   "metadata": {},
   "source": [
    "\n",
    "\n",
    "[1] Brockherde et al. Bypassing the Kohn-Sham equations with machine learning. Nature Communications 8, 872 (2017)"
   ]
  }
 ],
 "metadata": {
  "kernelspec": {
   "display_name": "Python 3",
   "language": "python",
   "name": "python3"
  },
  "language_info": {
   "codemirror_mode": {
    "name": "ipython",
    "version": 3
   },
   "file_extension": ".py",
   "mimetype": "text/x-python",
   "name": "python",
   "nbconvert_exporter": "python",
   "pygments_lexer": "ipython3",
   "version": "3.5.5"
  }
 },
 "nbformat": 4,
 "nbformat_minor": 2
}
