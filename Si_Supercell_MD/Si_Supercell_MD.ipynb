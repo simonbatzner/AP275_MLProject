{
 "cells": [
  {
   "cell_type": "markdown",
   "metadata": {},
   "source": [
    "Jon V"
   ]
  },
  {
   "cell_type": "markdown",
   "metadata": {},
   "source": [
    "6/2/18"
   ]
  },
  {
   "cell_type": "code",
   "execution_count": 50,
   "metadata": {
    "collapsed": true
   },
   "outputs": [],
   "source": [
    "from ase.spacegroup import crystal\n",
    "from ase.build import *\n",
    "import numpy as np\n",
    "import matplotlib.pyplot as plt\n",
    "import os\n",
    "import ase\n",
    "import json"
   ]
  },
  {
   "cell_type": "markdown",
   "metadata": {},
   "source": [
    "### Choose inputs."
   ]
  },
  {
   "cell_type": "code",
   "execution_count": 51,
   "metadata": {
    "collapsed": true
   },
   "outputs": [],
   "source": [
    "# define md parameters\n",
    "pref = 'si'\n",
    "pseudo_dir = '/n/home03/jonpvandermause/qe-6.2.1/pseudo'\n",
    "outdir='/n/home03/jonpvandermause/Cluster/Si_Supercell_MD'\n",
    "alat = 5.431 # lattice parameter of si in angstrom\n",
    "ecut = 18.0 # plane wave cutoff energy\n",
    "nk = 4 # size of kpoint grid\n",
    "dim = 3 # size of supercell\n",
    "nat = 2 * dim**3 # number of atoms in supercell\n",
    "dt = 20 # MD time step in Rydberg atomic units\n",
    "nstep = 1000 # number of MD steps\n",
    "pert_size = 0.01 * alat # size of initial perturbation\n",
    "\n",
    "# specify locations of QE codes\n",
    "npool = 36 # number of k-pt pools\n",
    "mult = 10\n",
    "ncpu = npool * mult # number of cores\n",
    "nodes = int(np.ceil(ncpu/32)) # number of nodes\n",
    "pw_loc = '/n/home03/jonpvandermause/qe-6.2.1/bin/pw.x'\n",
    "in_name = 'si.md.in'\n",
    "out_name = 'si.md.out'\n",
    "sh_name = 'Si_MD.sh'\n",
    "partition = 'kozinsky'\n",
    "memory = 1000\n",
    "email = 'jonathan_vandermause@g.harvard.edu'"
   ]
  },
  {
   "cell_type": "markdown",
   "metadata": {},
   "source": [
    "### Make ASE structure class. (From AP275 labs.)"
   ]
  },
  {
   "cell_type": "code",
   "execution_count": 52,
   "metadata": {
    "collapsed": true
   },
   "outputs": [],
   "source": [
    "class Generic(object):\n",
    "    def __init__(self, *args, **kwargs):\n",
    "        if args:\n",
    "            # in case of a single literal or a dict being supplied\n",
    "            assert not kwargs and len(args) == 1, \"wrong number of init args\"\n",
    "            self.content = args[0]\n",
    "        if kwargs:\n",
    "            # can supply content=dict, or an unpacked dict by keywords, but not both\n",
    "            if 'content' in kwargs:\n",
    "                assert not args and len(kwargs) == 1, \"wrong number of init kwargs\"\n",
    "                self.content = kwargs['content']\n",
    "            else:\n",
    "                self.content = kwargs\n",
    "\n",
    "    def __repr__(self):\n",
    "        return \"{} {}\".format(self.__class__.__name__, self.content)\n",
    "\n",
    "    \n",
    "class Param(Generic):\n",
    "    \"\"\"Class representing a dictionary of parameters\"\"\"\n",
    "    pass\n",
    "\n",
    "\n",
    "class Struc(Param):\n",
    "    \"\"\"\n",
    "    Data class containing information about a structure\n",
    "    example:\n",
    "        struc1 = {\"cell\": [[1.0, 0, 0],[0, 1.0, 0],[0, 0, 2.0]],\n",
    "                  \"periodicity\" : [True, True, True],\n",
    "                  \"species\": {'H': {'id': 1, 'mass':1.008, 'atomic_number': 1},\n",
    "                              'He',{'id': 2, 'mass': 4.003, 'atomic_number' : 2}}\n",
    "                  \"positions\": [['H', [4.0, 3.0, 6.0]],\n",
    "                                ['He', [4.0, 5.0, 9.0]]],\n",
    "                 }\n",
    "    \"\"\"\n",
    "    @staticmethod\n",
    "    def from_ase(aseobj):\n",
    "        # need to use method tolist() of numpy arrays to get valid json\n",
    "        cell = aseobj.cell.tolist()\n",
    "        pbc = aseobj.get_pbc().tolist()\n",
    "        symbols = aseobj.get_chemical_symbols()\n",
    "        masses = aseobj.get_masses()\n",
    "        positions = aseobj.get_positions().tolist()\n",
    "        # easy way to get rid of tuples after zipping\n",
    "        positions = json.loads(json.dumps(list(zip(symbols, positions))))\n",
    "        types = sorted(list(set(zip(symbols, masses))))\n",
    "        species = {tp[0]: {'mass': tp[1], 'kind': i + 1} for i, tp in enumerate(types)}\n",
    "        content = {'cell': cell, 'positions': positions, 'periodicity': pbc, 'species': species}\n",
    "        return content\n",
    "\n",
    "    def to_ase(self):\n",
    "        cell = self.content['cell']\n",
    "        atoms = [ase.Atom(site[0], tuple(site[1])) for site in self.content['positions']]\n",
    "        aseobj = ase.Atoms(atoms)\n",
    "        aseobj.set_cell(cell)\n",
    "        aseobj.set_pbc(self.content['periodicity'])\n",
    "        return aseobj\n",
    "\n",
    "    @property\n",
    "    def symbols(self):\n",
    "        return [s[0] for s in self.content['positions']]\n",
    "\n",
    "    @property\n",
    "    def cell(self):\n",
    "        return self.content['cell']\n",
    "\n",
    "    @property\n",
    "    def positions(self):\n",
    "        return self.content['positions']\n",
    "\n",
    "    @property\n",
    "    def n_atoms(self):\n",
    "        return len(self.content['positions'])\n",
    "\n",
    "    @property\n",
    "    def n_species(self):\n",
    "        return len(self.species)\n",
    "\n",
    "    @property\n",
    "    def species(self):\n",
    "        return self.content['species']\n",
    "    \n",
    "def ase2struc(ase_atoms):\n",
    "    return Struc.from_ase(ase_atoms)\n",
    "\n",
    "\n",
    "def struc2ase(struc):\n",
    "    return Struc.to_ase(struc)\n",
    "\n",
    "def write_file(fname, text):\n",
    "    with open(fname, 'w') as fin:\n",
    "        fin.write(text)"
   ]
  },
  {
   "cell_type": "markdown",
   "metadata": {},
   "source": [
    "### Make Si supercell."
   ]
  },
  {
   "cell_type": "code",
   "execution_count": 53,
   "metadata": {
    "collapsed": true
   },
   "outputs": [],
   "source": [
    "# create unperturbed silicon supercell\n",
    "def make_struc_super(alat, dim):\n",
    "    unitcell = crystal('Si', [(0, 0, 0)], spacegroup=227, \\\n",
    "                       cellpar=[alat, alat, alat, 90, 90, 90], \\\n",
    "                      primitive_cell = True)\n",
    "    multiplier = np.identity(3) * dim\n",
    "    ase_supercell = make_supercell(unitcell, multiplier)\n",
    "    structure = Struc(ase2struc(ase_supercell))\n",
    "    return structure\n",
    "\n",
    "# perturb the positions of a supercell\n",
    "def perturb_struc(alat, dim, pert_size):   \n",
    "    struc_pert = make_struc_super(alat, dim)\n",
    "    for n in range(len(struc_pert.content['positions'])):\n",
    "        for m in range(3):\n",
    "            # get current coordinate\n",
    "            coord_curr = struc_pert.content['positions'][n][1][m]\n",
    "\n",
    "            # get perturbation by drawing from uniform\n",
    "            pert = np.random.uniform(-pert_size, pert_size)\n",
    "\n",
    "            # perturb the coordinate\n",
    "            struc_pert.content['positions'][n][1][m] += pert\n",
    "            \n",
    "    return struc_pert\n",
    "\n",
    "# get supercell positions\n",
    "def get_position_txt(struc):\n",
    "    \n",
    "    # write atomic positions\n",
    "    postxt = ''\n",
    "    postxt += 'ATOMIC_POSITIONS {angstrom}'\n",
    "    for index, positions in enumerate(struc.content['positions']):\n",
    "        postxt += '\\n {} {:1.5f} {:1.5f} {:1.5f}'.format(positions[0], *positions[1])\n",
    "        \n",
    "    # write cell parameters\n",
    "    celltxt = ''\n",
    "    celltxt += 'CELL_PARAMETERS {angstrom}'\n",
    "    for vector in struc.content['cell']:\n",
    "        celltxt += '\\n {:1.5f} {:1.5f} {:1.5f}'.format(*vector)\n",
    "    return postxt, celltxt"
   ]
  },
  {
   "cell_type": "markdown",
   "metadata": {},
   "source": [
    "### Make MD file."
   ]
  },
  {
   "cell_type": "code",
   "execution_count": 54,
   "metadata": {
    "collapsed": true
   },
   "outputs": [],
   "source": [
    "# function that creates scf input\n",
    "def get_md_text(pref, pseudo_dir, outdir, alat,\\\n",
    "                ecut, nk, dim, nat, dt, nstep, pert_size):\n",
    "    \n",
    "    # get perturbed structure\n",
    "    struc = perturb_struc(alat, dim, pert_size)\n",
    "    pos, cell = get_position_txt(struc)\n",
    "    \n",
    "    md_text = \"\"\" &control\n",
    "    calculation = 'md'\n",
    "    restart_mode = 'from_scratch'\n",
    "    pseudo_dir = '{1}'\n",
    "    outdir = '{2}'\n",
    "    dt = {8}\n",
    "    nstep = {9}\n",
    "    disk_io = 'high'\n",
    " /\n",
    " &system\n",
    "    ibrav= 0\n",
    "    nat= {3}\n",
    "    ntyp= 1\n",
    "    ecutwfc ={4}\n",
    "    nosym = .true.\n",
    " /\n",
    " &electrons\n",
    "    conv_thr =  1.0d-10\n",
    "    mixing_beta = 0.7\n",
    " /\n",
    " &ions\n",
    "    pot_extrapolation = 'second-order'\n",
    "    wfc_extrapolation = 'second-order'\n",
    " /\n",
    "ATOMIC_SPECIES\n",
    " Si  28.086  Si.pz-vbc.UPF\n",
    "{5}\n",
    "{6}\n",
    "K_POINTS automatic\n",
    " {7} {7} {7}  0 0 0\n",
    "    \"\"\".format(pref, pseudo_dir, outdir, \\\n",
    "               nat, ecut, cell, pos, nk, dt, nstep)\n",
    "    \n",
    "    return md_text"
   ]
  },
  {
   "cell_type": "code",
   "execution_count": 55,
   "metadata": {
    "collapsed": true
   },
   "outputs": [],
   "source": [
    "# make text\n",
    "md_text = get_md_text(pref, pseudo_dir, outdir, alat,\\\n",
    "                ecut, nk, dim, nat, dt, nstep, pert_size)\n",
    "write_file(in_name, md_text)"
   ]
  },
  {
   "cell_type": "markdown",
   "metadata": {},
   "source": [
    "### Make SH file."
   ]
  },
  {
   "cell_type": "code",
   "execution_count": 56,
   "metadata": {
    "collapsed": true
   },
   "outputs": [],
   "source": [
    "def make_sh_text(ncpu, nodes, pw_loc, in_file, out_file, npool, partition, memory, email):\n",
    "\n",
    "    sh_text = \"\"\"#!/bin/sh\n",
    "#SBATCH -n {0}\n",
    "#SBATCH -N {1}\n",
    "#SBATCH -t 1-00:00\n",
    "#SBATCH -e test.err\n",
    "#SBATCH -p {6}\n",
    "#SBATCH -o test.out\n",
    "#SBATCH --mem-per-cpu={7}\n",
    "#SBATCH --mail-type=ALL\n",
    "#SBATCH --mail-user={8}\n",
    "\n",
    "module load gcc/4.9.3-fasrc01 openmpi/2.1.0-fasrc01\n",
    "module load python/3.6.3-fasrc01\n",
    "\n",
    "MPI=\"mpirun\"\n",
    "PW=\"{2}\"\n",
    "\n",
    "$MPI $PW -npool {5} < {3} > {4}\n",
    "\"\"\".format(ncpu, nodes, pw_loc, in_file, out_file, npool, partition, memory, email)\n",
    "    \n",
    "    return sh_text"
   ]
  },
  {
   "cell_type": "code",
   "execution_count": 57,
   "metadata": {
    "collapsed": true
   },
   "outputs": [],
   "source": [
    "# make sh text\n",
    "sh_text = make_sh_text(ncpu, nodes, pw_loc, in_name, out_name, npool, partition, memory, email)\n",
    "write_file(sh_name, sh_text)"
   ]
  },
  {
   "cell_type": "markdown",
   "metadata": {},
   "source": [
    "### Parse the MD output file."
   ]
  },
  {
   "cell_type": "code",
   "execution_count": null,
   "metadata": {
    "collapsed": true
   },
   "outputs": [],
   "source": [
    "def parse_qe_pwscf_output(outfile):\n",
    "    with open(outfile.path, 'r') as outf:\n",
    "        for line in outf:\n",
    "            if line.lower().startswith('     pwscf'):\n",
    "                walltime = line.split()[-3] + line.split()[-2]\n",
    "            if line.lower().startswith('     total force'):\n",
    "                total_force = float(line.split()[3]) * (13.605698066 / 0.529177249)\n",
    "            if line.lower().startswith('!    total energy'):\n",
    "                total_energy = float(line.split()[-2]) * 13.605698066\n",
    "            if line.lower().startswith('          total   stress'):\n",
    "                pressure = float(line.split()[-1])\n",
    "    result = {'energy': total_energy, 'force': total_force, 'pressure': pressure}\n",
    "    return result"
   ]
  }
 ],
 "metadata": {
  "kernelspec": {
   "display_name": "Python 3",
   "language": "python",
   "name": "python3"
  },
  "language_info": {
   "codemirror_mode": {
    "name": "ipython",
    "version": 3
   },
   "file_extension": ".py",
   "mimetype": "text/x-python",
   "name": "python",
   "nbconvert_exporter": "python",
   "pygments_lexer": "ipython3",
   "version": "3.6.3"
  }
 },
 "nbformat": 4,
 "nbformat_minor": 2
}
