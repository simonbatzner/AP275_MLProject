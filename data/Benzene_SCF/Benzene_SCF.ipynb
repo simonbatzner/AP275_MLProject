{
 "cells": [
  {
   "cell_type": "markdown",
   "metadata": {},
   "source": [
    "Jon V"
   ]
  },
  {
   "cell_type": "markdown",
   "metadata": {},
   "source": [
    "6/3/18"
   ]
  },
  {
   "cell_type": "code",
   "execution_count": 39,
   "metadata": {
    "collapsed": true
   },
   "outputs": [],
   "source": [
    "from ase.spacegroup import crystal\n",
    "from ase.build import *\n",
    "import numpy as np\n",
    "import matplotlib.pyplot as plt\n",
    "import os\n",
    "import ase\n",
    "import json"
   ]
  },
  {
   "cell_type": "markdown",
   "metadata": {},
   "source": [
    "### Choose inputs."
   ]
  },
  {
   "cell_type": "code",
   "execution_count": 40,
   "metadata": {
    "collapsed": true
   },
   "outputs": [],
   "source": [
    "# define scf parameters\n",
    "pref = 'benzene'\n",
    "pseudo_dir = '/n/home03/jonpvandermause/qe-6.2.1/pseudo'\n",
    "outdir='/n/home03/jonpvandermause/Cluster/Benzene_SCF'\n",
    "\n",
    "# specify locations of QE codes\n",
    "npool = 1 # number of k-pt pools\n",
    "mult = 32\n",
    "ncpu = npool * mult # number of cores\n",
    "nodes = int(np.ceil(ncpu/32)) # number of nodes\n",
    "pw_loc = '/n/home03/jonpvandermause/qe-6.2.1/bin/pw.x'\n",
    "in_name = 'benzene.scf.in'\n",
    "out_name = 'benzene.scf.out'\n",
    "sh_name = 'benzene.sh'\n",
    "partition = 'kozinsky'\n",
    "memory = 1000\n",
    "email = 'jonathan_vandermause@g.harvard.edu'"
   ]
  },
  {
   "cell_type": "markdown",
   "metadata": {},
   "source": [
    "### Define helper functions."
   ]
  },
  {
   "cell_type": "code",
   "execution_count": 41,
   "metadata": {
    "collapsed": true
   },
   "outputs": [],
   "source": [
    "def write_file(fname, text):\n",
    "    with open(fname, 'w') as fin:\n",
    "        fin.write(text)"
   ]
  },
  {
   "cell_type": "markdown",
   "metadata": {},
   "source": [
    "### Make scf file."
   ]
  },
  {
   "cell_type": "code",
   "execution_count": 42,
   "metadata": {
    "collapsed": true
   },
   "outputs": [],
   "source": [
    "def get_scf_text(pref, pseudo_dir, outdir):\n",
    "    \n",
    "    scf_text = \"\"\"&control\n",
    "    calculation = 'scf'\n",
    "    prefix='{0}'    \n",
    "    pseudo_dir = '{1}',\n",
    "    outdir='{2}'\n",
    " /\n",
    " &system\n",
    "    ibrav = 6,\n",
    "    celldm(1) = 32,\n",
    "    celldm(3) = 0.83,\n",
    "    nat = 12,\n",
    "    ntyp = 2,\n",
    "    ecutwfc = 25,\n",
    "    ecutrho = 250,\n",
    " /  \n",
    " &electrons\n",
    "    diagonalization='david'\n",
    "    mixing_mode = 'plain'\n",
    "    mixing_beta = 0.7\n",
    "    conv_thr =  1.0d-10\n",
    "    !tqr=.true.\n",
    " /\n",
    " &ions\n",
    " /\n",
    "ATOMIC_SPECIES\n",
    "C 12.01  C.pz-rrkjus.UPF\n",
    "H 1.0    H.pz-rrkjus.UPF\n",
    "ATOMIC_POSITIONS {{Angstrom}}\n",
    "C        5.633200899   6.320861303   5.\n",
    "C        6.847051545   8.422621957   5.\n",
    "C        8.060751351   7.721904557   5.\n",
    "C        8.060707879   6.320636665   5.\n",
    "C        6.846898786   5.620067381   5.\n",
    "C        5.633279551   7.722134449   5.\n",
    "H        6.847254360   9.512254789   5.\n",
    "H        9.004364510   8.266639340   5.\n",
    "H        9.004297495   5.775895755   5.\n",
    "H        6.846845929   4.530522778   5.\n",
    "H        4.689556006   5.776237709   5.\n",
    "H        4.689791688   8.267023318   5.\n",
    "K_POINTS {{gamma}}\"\"\".format(pref, pseudo_dir, outdir)\n",
    "    \n",
    "    return scf_text"
   ]
  },
  {
   "cell_type": "code",
   "execution_count": 43,
   "metadata": {},
   "outputs": [],
   "source": [
    "# make text\n",
    "scf_text = get_scf_text(pref, pseudo_dir, outdir)\n",
    "write_file(in_name, scf_text)"
   ]
  },
  {
   "cell_type": "markdown",
   "metadata": {},
   "source": [
    "### Make sh file."
   ]
  },
  {
   "cell_type": "code",
   "execution_count": 44,
   "metadata": {
    "collapsed": true
   },
   "outputs": [],
   "source": [
    "def make_sh_text(ncpu, nodes, partition, memory, email, pw_loc, npool, in_file, out_file):\n",
    "\n",
    "    sh_text = \"\"\"#!/bin/sh\n",
    "#SBATCH -n {0}\n",
    "#SBATCH -N {1}\n",
    "#SBATCH -t 1-00:00\n",
    "#SBATCH -e test.err\n",
    "#SBATCH -p {2}\n",
    "#SBATCH -o test.out\n",
    "#SBATCH --mem-per-cpu={3}\n",
    "#SBATCH --mail-type=ALL\n",
    "#SBATCH --mail-user={4}\n",
    "\n",
    "module load gcc/4.9.3-fasrc01 openmpi/2.1.0-fasrc01\n",
    "module load python/3.6.3-fasrc01\n",
    "\n",
    "MPI=\"mpirun\"\n",
    "PW=\"{5}\"\n",
    "\n",
    "$MPI $PW -npool {6} < {7} > {8}\n",
    "\"\"\".format(ncpu, nodes, partition, memory, email, pw_loc, npool, in_file, out_file)\n",
    "    \n",
    "    return sh_text"
   ]
  },
  {
   "cell_type": "code",
   "execution_count": 45,
   "metadata": {},
   "outputs": [],
   "source": [
    "# make sh text\n",
    "sh_text = make_sh_text(ncpu, nodes, partition, memory, email, pw_loc, npool, in_name, out_name)\n",
    "write_file(sh_name, sh_text)"
   ]
  },
  {
   "cell_type": "code",
   "execution_count": null,
   "metadata": {
    "collapsed": true
   },
   "outputs": [],
   "source": []
  }
 ],
 "metadata": {
  "kernelspec": {
   "display_name": "Python 3",
   "language": "python",
   "name": "python3"
  },
  "language_info": {
   "codemirror_mode": {
    "name": "ipython",
    "version": 3
   },
   "file_extension": ".py",
   "mimetype": "text/x-python",
   "name": "python",
   "nbconvert_exporter": "python",
   "pygments_lexer": "ipython3",
   "version": "3.6.3"
  }
 },
 "nbformat": 4,
 "nbformat_minor": 2
}
