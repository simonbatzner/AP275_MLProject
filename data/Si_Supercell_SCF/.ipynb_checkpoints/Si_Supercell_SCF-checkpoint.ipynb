{
 "cells": [
  {
   "cell_type": "markdown",
   "metadata": {},
   "source": [
    "Jon V"
   ]
  },
  {
   "cell_type": "markdown",
   "metadata": {},
   "source": [
    "5/31/18"
   ]
  },
  {
   "cell_type": "code",
   "execution_count": 1,
   "metadata": {
    "collapsed": true
   },
   "outputs": [],
   "source": [
    "from ase.spacegroup import crystal\n",
    "from ase.build import *\n",
    "import numpy as np\n",
    "import matplotlib.pyplot as plt\n",
    "import os\n",
    "import ase\n",
    "import json"
   ]
  },
  {
   "cell_type": "markdown",
   "metadata": {},
   "source": [
    "### Choose inputs."
   ]
  },
  {
   "cell_type": "code",
   "execution_count": 2,
   "metadata": {
    "collapsed": true
   },
   "outputs": [],
   "source": [
    "# define scf parameters\n",
    "pref = 'si'\n",
    "pseudo_dir = '/n/home03/jonpvandermause/qe-6.2.1/pseudo'\n",
    "outdir='/n/home03/jonpvandermause/Cluster/Si_Supercell_SCF'\n",
    "alat = 5.431 # lattice parameter of si in angstrom\n",
    "ecut = 18.0 # plane wave cutoff energy\n",
    "nk = 8 # size of kpoint grid\n",
    "dim = 4 # size of supercell\n",
    "nat = 2 * dim**3\n",
    "\n",
    "# specify locations of QE codes\n",
    "npool = 29 # number of k-pt pools\n",
    "mult = 30\n",
    "ncpu = npool * mult # number of cores\n",
    "nodes = int(np.ceil(ncpu/32)) # number of nodes\n",
    "pw_loc = '/n/home03/jonpvandermause/qe-6.2.1/bin/pw.x'\n",
    "in_name = 'si.scf.in'\n",
    "out_name = 'si.scf.out'\n",
    "sh_name = 'Si_Super.sh'\n",
    "partition = 'kozinsky'\n",
    "memory = 1000\n",
    "email = 'jonathan_vandermause@g.harvard.edu'"
   ]
  },
  {
   "cell_type": "markdown",
   "metadata": {},
   "source": [
    "### Make ASE structure class. (Taken from AP275 labs.)"
   ]
  },
  {
   "cell_type": "code",
   "execution_count": 3,
   "metadata": {},
   "outputs": [],
   "source": [
    "class Generic(object):\n",
    "    def __init__(self, *args, **kwargs):\n",
    "        if args:\n",
    "            # in case of a single literal or a dict being supplied\n",
    "            assert not kwargs and len(args) == 1, \"wrong number of init args\"\n",
    "            self.content = args[0]\n",
    "        if kwargs:\n",
    "            # can supply content=dict, or an unpacked dict by keywords, but not both\n",
    "            if 'content' in kwargs:\n",
    "                assert not args and len(kwargs) == 1, \"wrong number of init kwargs\"\n",
    "                self.content = kwargs['content']\n",
    "            else:\n",
    "                self.content = kwargs\n",
    "\n",
    "    def __repr__(self):\n",
    "        return \"{} {}\".format(self.__class__.__name__, self.content)\n",
    "\n",
    "    \n",
    "class Param(Generic):\n",
    "    \"\"\"Class representing a dictionary of parameters\"\"\"\n",
    "    pass\n",
    "\n",
    "\n",
    "class Struc(Param):\n",
    "    \"\"\"\n",
    "    Data class containing information about a structure\n",
    "    example:\n",
    "        struc1 = {\"cell\": [[1.0, 0, 0],[0, 1.0, 0],[0, 0, 2.0]],\n",
    "                  \"periodicity\" : [True, True, True],\n",
    "                  \"species\": {'H': {'id': 1, 'mass':1.008, 'atomic_number': 1},\n",
    "                              'He',{'id': 2, 'mass': 4.003, 'atomic_number' : 2}}\n",
    "                  \"positions\": [['H', [4.0, 3.0, 6.0]],\n",
    "                                ['He', [4.0, 5.0, 9.0]]],\n",
    "                 }\n",
    "    \"\"\"\n",
    "    @staticmethod\n",
    "    def from_ase(aseobj):\n",
    "        # need to use method tolist() of numpy arrays to get valid json\n",
    "        cell = aseobj.cell.tolist()\n",
    "        pbc = aseobj.get_pbc().tolist()\n",
    "        symbols = aseobj.get_chemical_symbols()\n",
    "        masses = aseobj.get_masses()\n",
    "        positions = aseobj.get_positions().tolist()\n",
    "        # easy way to get rid of tuples after zipping\n",
    "        positions = json.loads(json.dumps(list(zip(symbols, positions))))\n",
    "        types = sorted(list(set(zip(symbols, masses))))\n",
    "        species = {tp[0]: {'mass': tp[1], 'kind': i + 1} for i, tp in enumerate(types)}\n",
    "        content = {'cell': cell, 'positions': positions, 'periodicity': pbc, 'species': species}\n",
    "        return content\n",
    "\n",
    "    def to_ase(self):\n",
    "        cell = self.content['cell']\n",
    "        atoms = [ase.Atom(site[0], tuple(site[1])) for site in self.content['positions']]\n",
    "        aseobj = ase.Atoms(atoms)\n",
    "        aseobj.set_cell(cell)\n",
    "        aseobj.set_pbc(self.content['periodicity'])\n",
    "        return aseobj\n",
    "\n",
    "    @property\n",
    "    def symbols(self):\n",
    "        return [s[0] for s in self.content['positions']]\n",
    "\n",
    "    @property\n",
    "    def cell(self):\n",
    "        return self.content['cell']\n",
    "\n",
    "    @property\n",
    "    def positions(self):\n",
    "        return self.content['positions']\n",
    "\n",
    "    @property\n",
    "    def n_atoms(self):\n",
    "        return len(self.content['positions'])\n",
    "\n",
    "    @property\n",
    "    def n_species(self):\n",
    "        return len(self.species)\n",
    "\n",
    "    @property\n",
    "    def species(self):\n",
    "        return self.content['species']\n",
    "    \n",
    "def ase2struc(ase_atoms):\n",
    "    return Struc.from_ase(ase_atoms)\n",
    "\n",
    "\n",
    "def struc2ase(struc):\n",
    "    return Struc.to_ase(struc)\n",
    "\n",
    "def write_file(fname, text):\n",
    "    with open(fname, 'w') as fin:\n",
    "        fin.write(text)"
   ]
  },
  {
   "cell_type": "markdown",
   "metadata": {},
   "source": [
    "### Make Si supercell."
   ]
  },
  {
   "cell_type": "code",
   "execution_count": 4,
   "metadata": {
    "collapsed": true
   },
   "outputs": [],
   "source": [
    "# create silicon supercell\n",
    "def make_struc_super(alat, dim):\n",
    "    unitcell = crystal('Si', [(0, 0, 0)], spacegroup=227, \\\n",
    "                       cellpar=[alat, alat, alat, 90, 90, 90], \\\n",
    "                      primitive_cell = True)\n",
    "    multiplier = np.identity(3) * dim\n",
    "    ase_supercell = make_supercell(unitcell, multiplier)\n",
    "    structure = Struc(ase2struc(ase_supercell))\n",
    "    return structure\n",
    "\n",
    "# get supercell positions\n",
    "def get_position_txt(alat, dim):\n",
    "    struc = make_struc_super(alat, dim)\n",
    "    \n",
    "    # write atomic positions\n",
    "    postxt = ''\n",
    "    postxt += 'ATOMIC_POSITIONS {angstrom}'\n",
    "    for index, positions in enumerate(struc.content['positions']):\n",
    "        postxt += '\\n {} {:1.5f} {:1.5f} {:1.5f}'.format(positions[0], *positions[1])\n",
    "        \n",
    "    # write cell parameters\n",
    "    celltxt = ''\n",
    "    celltxt += 'CELL_PARAMETERS {angstrom}'\n",
    "    for vector in struc.content['cell']:\n",
    "        celltxt += '\\n {:1.5f} {:1.5f} {:1.5f}'.format(*vector)\n",
    "    return postxt, celltxt"
   ]
  },
  {
   "cell_type": "markdown",
   "metadata": {},
   "source": [
    "### Make scf file."
   ]
  },
  {
   "cell_type": "code",
   "execution_count": 5,
   "metadata": {},
   "outputs": [],
   "source": [
    "# function that creates scf input\n",
    "def get_scf_text(pref, pseudo_dir, outdir, alat, ecut, nk, dim, nat):\n",
    "    pos, cell = get_position_txt(alat, dim)\n",
    "    \n",
    "    scf_text = \"\"\" &control\n",
    "    prefix='{0}'\n",
    "    calculation='scf'\n",
    "    verbosity = 'high'\n",
    "    wf_collect = .true.\n",
    "    tstress = .true.\n",
    "    tprnfor = .true.\n",
    "    pseudo_dir = '{1}'\n",
    "    outdir = '{2}'\n",
    " /\n",
    " &system\n",
    "    ibrav= 0\n",
    "    nat= {3}\n",
    "    ntyp= 1\n",
    "    ecutwfc ={4}\n",
    " /\n",
    " &electrons\n",
    "    conv_thr =  1.0d-10\n",
    " /\n",
    "ATOMIC_SPECIES\n",
    " Si  28.086  Si.pz-vbc.UPF\n",
    "{5}\n",
    "{6}\n",
    "K_POINTS automatic\n",
    " {7} {7} {7}  0 0 0\n",
    "    \"\"\".format(pref, pseudo_dir, outdir, nat, ecut, cell, pos, nk)\n",
    "    \n",
    "    return scf_text"
   ]
  },
  {
   "cell_type": "code",
   "execution_count": 6,
   "metadata": {},
   "outputs": [],
   "source": [
    "# make text\n",
    "scf_text = get_scf_text(pref, pseudo_dir, outdir, alat, ecut, nk, dim, nat)\n",
    "write_file(in_name, scf_text)"
   ]
  },
  {
   "cell_type": "markdown",
   "metadata": {},
   "source": [
    "### Make sh file."
   ]
  },
  {
   "cell_type": "code",
   "execution_count": 7,
   "metadata": {
    "collapsed": true
   },
   "outputs": [],
   "source": [
    "def make_sh_text(ncpu, nodes, pw_loc, in_file, out_file, npool, partition, memory, email):\n",
    "\n",
    "    sh_text = \"\"\"#!/bin/sh\n",
    "#SBATCH -n {0}\n",
    "#SBATCH -N {1}\n",
    "#SBATCH -t 1-00:00\n",
    "#SBATCH -e test.err\n",
    "#SBATCH -p {6}\n",
    "#SBATCH -o test.out\n",
    "#SBATCH --mem-per-cpu={7}\n",
    "#SBATCH --mail-type=ALL\n",
    "#SBATCH --mail-user={8}\n",
    "\n",
    "module load gcc/4.9.3-fasrc01 openmpi/2.1.0-fasrc01\n",
    "module load python/3.6.3-fasrc01\n",
    "\n",
    "MPI=\"mpirun\"\n",
    "PW=\"{2}\"\n",
    "\n",
    "$MPI $PW -npool {5} < {3} > {4}\n",
    "\"\"\".format(ncpu, nodes, pw_loc, in_file, out_file, npool, partition, memory, email)\n",
    "    \n",
    "    return sh_text"
   ]
  },
  {
   "cell_type": "code",
   "execution_count": 8,
   "metadata": {},
   "outputs": [],
   "source": [
    "# make sh text\n",
    "sh_text = make_sh_text(ncpu, nodes, pw_loc, in_name, out_name, npool, partition, memory, email)\n",
    "write_file(sh_name, sh_text)"
   ]
  },
  {
   "cell_type": "code",
   "execution_count": null,
   "metadata": {
    "collapsed": true
   },
   "outputs": [],
   "source": []
  }
 ],
 "metadata": {
  "kernelspec": {
   "display_name": "Python 3",
   "language": "python",
   "name": "python3"
  },
  "language_info": {
   "codemirror_mode": {
    "name": "ipython",
    "version": 3
   },
   "file_extension": ".py",
   "mimetype": "text/x-python",
   "name": "python",
   "nbconvert_exporter": "python",
   "pygments_lexer": "ipython3",
   "version": "3.6.3"
  }
 },
 "nbformat": 4,
 "nbformat_minor": 2
}
