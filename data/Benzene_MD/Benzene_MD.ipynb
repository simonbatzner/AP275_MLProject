{
 "cells": [
  {
   "cell_type": "markdown",
   "metadata": {},
   "source": [
    "Jon V"
   ]
  },
  {
   "cell_type": "markdown",
   "metadata": {},
   "source": [
    "6/3/18"
   ]
  },
  {
   "cell_type": "code",
   "execution_count": 19,
   "metadata": {
    "collapsed": true
   },
   "outputs": [],
   "source": [
    "from ase.spacegroup import crystal\n",
    "from ase.build import *\n",
    "import numpy as np\n",
    "import matplotlib.pyplot as plt\n",
    "import os\n",
    "import ase\n",
    "import json"
   ]
  },
  {
   "cell_type": "markdown",
   "metadata": {},
   "source": [
    "### Choose inputs."
   ]
  },
  {
   "cell_type": "code",
   "execution_count": 20,
   "metadata": {
    "collapsed": true
   },
   "outputs": [],
   "source": [
    "# choose scf parameters\n",
    "pref = 'benzene'\n",
    "pseudo_dir = '/n/home03/jonpvandermause/qe-6.2.1/pseudo'\n",
    "outdir='/n/home03/jonpvandermause/Cluster/Benzene_SCF'\n",
    "\n",
    "# choose md parameters\n",
    "dt = 20 # MD time step in Rydberg atomic units\n",
    "nstep = 1000 # number of MD steps\n",
    "pert_size = 0.01 * 5 # size of initial perturbation\n",
    "\n",
    "# specify locations of QE codes\n",
    "npool = 1 # number of k-pt pools\n",
    "mult = 32\n",
    "ncpu = npool * mult # number of cores\n",
    "nodes = int(np.ceil(ncpu/32)) # number of nodes\n",
    "pw_loc = '/n/home03/jonpvandermause/qe-6.2.1/bin/pw.x'\n",
    "in_name = 'benzene.md.in'\n",
    "out_name = 'benzene.md.out'\n",
    "sh_name = 'Benzene_MD.sh'\n",
    "partition = 'kozinsky'\n",
    "memory = 1000\n",
    "email = 'jonathan_vandermause@g.harvard.edu'"
   ]
  },
  {
   "cell_type": "markdown",
   "metadata": {},
   "source": [
    "### Get perturbed positions."
   ]
  },
  {
   "cell_type": "code",
   "execution_count": 21,
   "metadata": {},
   "outputs": [],
   "source": [
    "import copy\n",
    "\n",
    "# original positions of benzene atoms, taken from QE TDDFT benzene example\n",
    "orig_pos = [['C',[5.633200899, 6.320861303, 5.]],\n",
    "            ['C',[6.847051545, 8.422621957, 5.]],\n",
    "            ['C',[8.060751351, 7.721904557, 5.]],\n",
    "            ['C',[8.060707879, 6.320636665, 5.]],\n",
    "            ['C',[6.846898786, 5.620067381, 5.]],\n",
    "            ['C',[5.633279551, 7.722134449, 5.]],\n",
    "            ['H',[6.847254360, 9.512254789, 5.]],\n",
    "            ['H',[9.004364510, 8.266639340, 5.]],\n",
    "            ['H',[9.004297495, 5.775895755, 5.]],\n",
    "            ['H',[6.846845929, 4.530522778, 5.]],\n",
    "            ['H',[4.689556006, 5.776237709, 5.]],\n",
    "            ['H',[4.689791688, 8.267023318, 5.]]\n",
    "           ]\n",
    "\n",
    "# perturb the positions for MD run\n",
    "struc_pert = copy.deepcopy(orig_pos)\n",
    "\n",
    "for n in range(len(struc_pert)):\n",
    "    for m in range(3):\n",
    "        # get current coordinate\n",
    "        coord_curr = struc_pert[n][1][m]\n",
    "\n",
    "        # get perturbation by drawing from uniform\n",
    "        pert = np.random.uniform(-pert_size, pert_size)\n",
    "\n",
    "        # perturb the coordinate\n",
    "        struc_pert[n][1][m] += pert\n"
   ]
  },
  {
   "cell_type": "code",
   "execution_count": 22,
   "metadata": {
    "collapsed": true
   },
   "outputs": [],
   "source": [
    "# get position text\n",
    "def get_position_txt(struc):\n",
    "    \n",
    "    # write atomic positions\n",
    "    postxt = ''\n",
    "    postxt += 'ATOMIC_POSITIONS {angstrom}'\n",
    "    for index, positions in enumerate(struc):\n",
    "        postxt += '\\n {} {:1.5f} {:1.5f} {:1.5f}'.format(positions[0], *positions[1])\n",
    "\n",
    "    return postxt"
   ]
  },
  {
   "cell_type": "code",
   "execution_count": 23,
   "metadata": {
    "collapsed": true
   },
   "outputs": [],
   "source": [
    "def write_file(fname, text):\n",
    "    with open(fname, 'w') as fin:\n",
    "        fin.write(text)"
   ]
  },
  {
   "cell_type": "markdown",
   "metadata": {},
   "source": [
    "### Make MD file."
   ]
  },
  {
   "cell_type": "code",
   "execution_count": 24,
   "metadata": {
    "collapsed": true
   },
   "outputs": [],
   "source": [
    "# make MD text file for benzene\n",
    "def get_md_text(pref, pseudo_dir, outdir, dt, nstep, pos):\n",
    "    \n",
    "    pos_txt = get_position_txt(pos)\n",
    "    \n",
    "    md_text = \"\"\"&control\n",
    "    calculation = 'md'\n",
    "    prefix='{0}'    \n",
    "    pseudo_dir = '{1}',\n",
    "    outdir='{2}'\n",
    "    dt = {3}\n",
    "    nstep = {4}\n",
    " /\n",
    " &system\n",
    "    ibrav = 6,\n",
    "    celldm(1) = 32,\n",
    "    celldm(3) = 0.83,\n",
    "    nat = 12,\n",
    "    ntyp = 2,\n",
    "    ecutwfc = 25,\n",
    "    ecutrho = 250,\n",
    "    nosym = .true.\n",
    " /  \n",
    " &electrons\n",
    "    diagonalization='david'\n",
    "    mixing_mode = 'plain'\n",
    "    mixing_beta = 0.7\n",
    "    conv_thr =  1.0d-10\n",
    "    !tqr=.true.\n",
    " /\n",
    " &ions\n",
    "    pot_extrapolation = 'second-order'\n",
    "    wfc_extrapolation = 'second-order'\n",
    " /\n",
    "ATOMIC_SPECIES\n",
    "C 12.01  C.pz-rrkjus.UPF\n",
    "H 1.0    H.pz-rrkjus.UPF\n",
    "{5}\n",
    "K_POINTS {{gamma}}\"\"\".format(pref, pseudo_dir, outdir, dt, nstep, pos_txt)\n",
    "    \n",
    "    return md_text"
   ]
  },
  {
   "cell_type": "code",
   "execution_count": 25,
   "metadata": {},
   "outputs": [],
   "source": [
    "# make text\n",
    "md_text = get_md_text(pref, pseudo_dir, outdir, dt, nstep, struc_pert)\n",
    "write_file(in_name, md_text)"
   ]
  },
  {
   "cell_type": "markdown",
   "metadata": {},
   "source": [
    "### Make sh file."
   ]
  },
  {
   "cell_type": "code",
   "execution_count": 26,
   "metadata": {
    "collapsed": true
   },
   "outputs": [],
   "source": [
    "def make_sh_text(ncpu, nodes, pw_loc, in_file, out_file, npool, partition, memory, email):\n",
    "\n",
    "    sh_text = \"\"\"#!/bin/sh\n",
    "#SBATCH -n {0}\n",
    "#SBATCH -N {1}\n",
    "#SBATCH -t 1-00:00\n",
    "#SBATCH -e test.err\n",
    "#SBATCH -p {6}\n",
    "#SBATCH -o test.out\n",
    "#SBATCH --mem-per-cpu={7}\n",
    "#SBATCH --mail-type=ALL\n",
    "#SBATCH --mail-user={8}\n",
    "\n",
    "module load gcc/4.9.3-fasrc01 openmpi/2.1.0-fasrc01\n",
    "module load python/3.6.3-fasrc01\n",
    "\n",
    "MPI=\"mpirun\"\n",
    "PW=\"{2}\"\n",
    "\n",
    "$MPI $PW -npool {5} < {3} > {4}\n",
    "\"\"\".format(ncpu, nodes, pw_loc, in_file, out_file, npool, partition, memory, email)\n",
    "    \n",
    "    return sh_text"
   ]
  },
  {
   "cell_type": "code",
   "execution_count": 27,
   "metadata": {
    "collapsed": true
   },
   "outputs": [],
   "source": [
    "# make sh text\n",
    "sh_text = make_sh_text(ncpu, nodes, pw_loc, in_name, out_name, npool, partition, memory, email)\n",
    "write_file(sh_name, sh_text)"
   ]
  }
 ],
 "metadata": {
  "kernelspec": {
   "display_name": "Python 3",
   "language": "python",
   "name": "python3"
  },
  "language_info": {
   "codemirror_mode": {
    "name": "ipython",
    "version": 3
   },
   "file_extension": ".py",
   "mimetype": "text/x-python",
   "name": "python",
   "nbconvert_exporter": "python",
   "pygments_lexer": "ipython3",
   "version": "3.6.3"
  }
 },
 "nbformat": 4,
 "nbformat_minor": 2
}
