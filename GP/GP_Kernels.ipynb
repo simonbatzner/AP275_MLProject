{
 "cells": [
  {
   "cell_type": "markdown",
   "metadata": {},
   "source": [
    "# Gaussian Process Regression"
   ]
  },
  {
   "cell_type": "code",
   "execution_count": null,
   "metadata": {},
   "outputs": [],
   "source": [
    "from __future__ import absolute_import\n",
    "from __future__ import division\n",
    "from __future__ import print_function\n",
    "\n",
    "import os\n",
    "import numpy as np\n",
    "from matplotlib import pyplot as plt\n",
    "\n",
    "\n",
    "# suppress sklearn warnings\n",
    "def warn(*args, **kwargs):\n",
    "    pass\n",
    "\n",
    "\n",
    "import warnings\n",
    "\n",
    "warnings.warn = warn\n",
    "\n",
    "from sklearn.gaussian_process import GaussianProcessRegressor\n",
    "from sklearn.metrics import mean_absolute_error\n",
    "from sklearn.gaussian_process.kernels import RBF, ConstantKernel as C, Matern, ExpSineSquared\n",
    "from KRR_reproduce import *"
   ]
  },
  {
   "cell_type": "markdown",
   "metadata": {},
   "source": [
    "## Params and Setup"
   ]
  },
  {
   "cell_type": "code",
   "execution_count": null,
   "metadata": {},
   "outputs": [],
   "source": [
    "kernel_choice = 'rbf'  # specify either c_rbf, rbf, matern or expsinesquared\n",
    "m = 5  # number of training points\n",
    "\n",
    "# setup\n",
    "ev2kcal = 1 / 0.043  # conversion factor\n",
    "sim_no = 150  # total number of data points\n",
    "np.random.seed(1)\n",
    "\n",
    "# path to data\n",
    "os.environ['PROJDIR'] = '/Users/simonbatzner1/Desktop/Research/Research_Code/ML-electron-density'\n",
    "STR_PREF = os.environ['PROJDIR'] + '/data/H2_DFT/temp_data/store/'"
   ]
  },
  {
   "cell_type": "markdown",
   "metadata": {},
   "source": [
    "## Load data"
   ]
  },
  {
   "cell_type": "code",
   "execution_count": null,
   "metadata": {},
   "outputs": [],
   "source": [
    "ens = []\n",
    "seps = []\n",
    "\n",
    "for n in range(sim_no):\n",
    "    # load separation, energy, and density\n",
    "    sep = np.load(STR_PREF + 'sep_store/sep' + str(n) + '.npy')\n",
    "    en = np.load(STR_PREF + 'en_store/en' + str(n) + '.npy')\n",
    "\n",
    "    # format\n",
    "    sep = np.reshape(sep, (1,))[0]\n",
    "    en = np.reshape(en, (1,))[0]['energy']\n",
    "\n",
    "    ens.append(en)\n",
    "    seps.append(sep)\n",
    "\n",
    "# set up training and test data\n",
    "data = seps\n",
    "labels = ens\n",
    "\n",
    "train_indices = [int(n) for n in np.round(np.linspace(0, 149, m))]\n",
    "test_indices = [n for n in range(150) if n not in train_indices]\n",
    "\n",
    "if len(train_indices) != m:\n",
    "    print(\"Size of training set doesn't match the m specified\")\n",
    "\n",
    "x_train = np.array([data[n] for n in train_indices])\n",
    "x_test = np.array([data[n] for n in test_indices])\n",
    "y_train = np.array([labels[n] for n in train_indices])\n",
    "y_test = np.array([labels[n] for n in test_indices])\n",
    "\n",
    "# convert to np arrays\n",
    "x_train = np.array(x_train)\n",
    "x_train = x_train.reshape(-1, 1)\n",
    "x_test = np.array(x_test)\n",
    "x_test = x_test.reshape(-1, 1)\n",
    "y_train = np.array(y_train)\n",
    "y_test = np.array(y_test)\n",
    "x_test_list = [data[n] for n in test_indices]\n",
    "x_train_list = [data[n] for n in train_indices]"
   ]
  },
  {
   "cell_type": "markdown",
   "metadata": {},
   "source": [
    "## Build GPs w/ different kernels and plot"
   ]
  },
  {
   "cell_type": "code",
   "execution_count": null,
   "metadata": {},
   "outputs": [],
   "source": [
    "# build gp w/ a noiseless kernel and print properties\n",
    "kernel_mat = [C(1.0, (1e-3, 1e3)) * RBF(10, (1e-2, 1e2)),\n",
    "              RBF(length_scale=10, length_scale_bounds=(1e-2, 1e2)),\n",
    "              Matern(length_scale=10, length_scale_bounds=(1e-2, 1e2),\n",
    "                     nu=10),\n",
    "              ExpSineSquared(length_scale=1.0, periodicity=3.0,\n",
    "                             length_scale_bounds=(1e-2, 1e2),\n",
    "                             periodicity_bounds=(1e-2, 1e2))]\n",
    "\n",
    "for fig_index, kernel in enumerate(kernel_mat):\n",
    "\n",
    "    #build gp\n",
    "    gp = GaussianProcessRegressor(kernel=kernel, n_restarts_optimizer=20, normalize_y=True)\n",
    "\n",
    "    #plot prior\n",
    "    plt.figure(fig_index, figsize=(12, 8))\n",
    "    plt.subplot(2, 1, 1)\n",
    "    X_ = np.array(seps)\n",
    "    y_mean, y_std = gp.predict(X_[:, np.newaxis], return_std=True)\n",
    "    plt.plot(X_, y_mean, 'k', lw=3, zorder=9)\n",
    "    plt.fill_between(X_, y_mean - y_std, y_mean + y_std,\n",
    "                     alpha=0.2, color='k')\n",
    "    y_samples = gp.sample_y(X_[:, np.newaxis], 10)\n",
    "    plt.plot(X_, y_samples, lw=1)\n",
    "    plt.title(\"Prior (kernel:  %s)\" % kernel, fontsize=12)\n",
    "\n",
    "    # fit\n",
    "    gp.fit(x_train, y_train)\n",
    "\n",
    "    # inference\n",
    "    x_train_list = [data[n] for n in train_indices]\n",
    "    y_pred_test = gp.predict(np.atleast_2d(x_train_list).T)\n",
    "\n",
    "    # plot posterior\n",
    "    plt.subplot(2, 1, 2)\n",
    "    y_mean, y_std = gp.predict(X_[:, np.newaxis], return_std=True)\n",
    "    plt.plot(X_, y_mean, 'k', lw=3, zorder=9)\n",
    "    plt.fill_between(X_, y_mean - y_std, y_mean + y_std,\n",
    "                     alpha=0.2, color='k')\n",
    "\n",
    "    y_samples = gp.sample_y(X_[:, np.newaxis], 10)\n",
    "    plt.plot(X_, y_samples, lw=1)\n",
    "\n",
    "    plt.scatter(x_train[:, 0], y_pred_test, c='r', s=10, zorder=10, edgecolors=(0, 0, 0))\n",
    "    plt.title(\"Posterior (kernel: %s)\\n Log-Likelihood: %.3f\"\n",
    "              % (gp.kernel_, gp.log_marginal_likelihood(gp.kernel_.theta)),\n",
    "              fontsize=12)\n",
    "    plt.tight_layout()\n",
    "\n",
    "plt.show()"
   ]
  }
 ],
 "metadata": {
  "kernelspec": {
   "display_name": "Python 3",
   "language": "python",
   "name": "python3"
  },
  "language_info": {
   "codemirror_mode": {
    "name": "ipython",
    "version": 3
   },
   "file_extension": ".py",
   "mimetype": "text/x-python",
   "name": "python",
   "nbconvert_exporter": "python",
   "pygments_lexer": "ipython3",
   "version": "3.5.5"
  }
 },
 "nbformat": 4,
 "nbformat_minor": 2
}
