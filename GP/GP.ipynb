{
 "cells": [
  {
   "cell_type": "markdown",
   "metadata": {},
   "source": [
    "# Gaussian Process Regression"
   ]
  },
  {
   "cell_type": "code",
   "execution_count": 16,
   "metadata": {},
   "outputs": [],
   "source": [
    "from __future__ import absolute_import\n",
    "from __future__ import division\n",
    "from __future__ import print_function\n",
    "\n",
    "import os\n",
    "import numpy as np\n",
    "from matplotlib import pyplot as plt\n",
    "\n",
    "\n",
    "# suppress sklearn warnings\n",
    "def warn(*args, **kwargs):\n",
    "    pass\n",
    "\n",
    "\n",
    "import warnings\n",
    "\n",
    "warnings.warn = warn\n",
    "\n",
    "from sklearn.gaussian_process import GaussianProcessRegressor\n",
    "from sklearn.metrics import mean_absolute_error\n",
    "from sklearn.gaussian_process.kernels import RBF, ConstantKernel as C, Matern, ExpSineSquared\n",
    "from KRR_reproduce import *"
   ]
  },
  {
   "cell_type": "markdown",
   "metadata": {},
   "source": [
    "## Parameters"
   ]
  },
  {
   "cell_type": "code",
   "execution_count": 29,
   "metadata": {},
   "outputs": [],
   "source": [
    "kernel_choice = 'rbf'  # specify either c_rbf, rbf, matern or expsinesquared\n",
    "m = 7  # number of training points"
   ]
  },
  {
   "cell_type": "markdown",
   "metadata": {},
   "source": [
    "## Setup"
   ]
  },
  {
   "cell_type": "code",
   "execution_count": 30,
   "metadata": {},
   "outputs": [],
   "source": [
    "ev2kcal = 1 / 0.043  # conversion factor\n",
    "sim_no = 150  # total number of data points\n",
    "np.random.seed(1)\n",
    "\n",
    "# path to data\n",
    "os.environ['PROJDIR'] = '/Users/simonbatzner1/Desktop/Research/Research_Code/ML-electron-density'\n",
    "STR_PREF = os.environ['PROJDIR'] + '/data/H2_DFT/temp_data/store/'\n"
   ]
  },
  {
   "cell_type": "markdown",
   "metadata": {},
   "source": [
    "## Load data"
   ]
  },
  {
   "cell_type": "code",
   "execution_count": 31,
   "metadata": {},
   "outputs": [],
   "source": [
    "ens = []\n",
    "seps = []\n",
    "\n",
    "for n in range(sim_no):\n",
    "    # load separation, energy, and density\n",
    "    sep = np.load(STR_PREF + 'sep_store/sep' + str(n) + '.npy')\n",
    "    en = np.load(STR_PREF + 'en_store/en' + str(n) + '.npy')\n",
    "\n",
    "    # format\n",
    "    sep = np.reshape(sep, (1,))[0]\n",
    "    en = np.reshape(en, (1,))[0]['energy']\n",
    "\n",
    "    ens.append(en)\n",
    "    seps.append(sep)\n"
   ]
  },
  {
   "cell_type": "markdown",
   "metadata": {},
   "source": [
    "## Set up training and test data"
   ]
  },
  {
   "cell_type": "code",
   "execution_count": 32,
   "metadata": {},
   "outputs": [],
   "source": [
    "data = seps\n",
    "labels = ens\n",
    "\n",
    "train_indices = [int(n) for n in np.round(np.linspace(0, 149, m))]\n",
    "test_indices = [n for n in range(150) if n not in train_indices]\n",
    "\n",
    "if len(train_indices) != m:\n",
    "    print(\"Size of training set doesn't match the m specified\")\n",
    "\n",
    "x_train = np.array([data[n] for n in train_indices])\n",
    "x_test = np.array([data[n] for n in test_indices])\n",
    "y_train = np.array([labels[n] for n in train_indices])\n",
    "y_test = np.array([labels[n] for n in test_indices])\n",
    "\n",
    "# convert to np arrays\n",
    "x_train = np.array(x_train)\n",
    "x_train = x_train.reshape(-1, 1)\n",
    "x_test = np.array(x_test)\n",
    "x_test = x_test.reshape(-1, 1)\n",
    "y_train = np.array(y_train)\n",
    "y_test = np.array(y_test)\n",
    "x_test_list = [data[n] for n in test_indices]\n",
    "x_train_list = [data[n] for n in train_indices]\n"
   ]
  },
  {
   "cell_type": "markdown",
   "metadata": {},
   "source": [
    "## Set kernel and print properties"
   ]
  },
  {
   "cell_type": "code",
   "execution_count": 33,
   "metadata": {},
   "outputs": [
    {
     "name": "stdout",
     "output_type": "stream",
     "text": [
      "\n",
      "Kernel: RBF(length_scale=10)\n",
      "Hyperparameters: \n",
      "\n",
      "Hyperparameter(name='length_scale', value_type='numeric', bounds=array([[  1.00000000e-02,   1.00000000e+02]]), n_elements=1, fixed=False)\n",
      "Parameters:\n",
      "\n",
      "length_scale : 10\n",
      "length_scale_bounds : (0.01, 100.0)\n"
     ]
    }
   ],
   "source": [
    "kernel_dict = {\n",
    "    'c_rbf': C(1.0, (1e-3, 1e3)) * RBF(10, (1e-2, 1e2)),\n",
    "    'rbf': RBF(length_scale=10, length_scale_bounds=(1e-2, 1e2)),\n",
    "    'matern': Matern(length_scale=10, length_scale_bounds=(1e-2, 1e2),\n",
    "                     nu=10),\n",
    "    'expsinesquared': ExpSineSquared(length_scale=1.0, periodicity=3.0,\n",
    "                                     length_scale_bounds=(1e-2, 1e2),\n",
    "                                     periodicity_bounds=(1e-2, 1e2))}\n",
    "\n",
    "kernel = kernel_dict[kernel_choice]\n",
    "\n",
    "print(\"\\nKernel: {}\".format(kernel))\n",
    "print(\"Hyperparameters: \\n\")\n",
    "\n",
    "for hyperparameter in kernel.hyperparameters: print(hyperparameter)\n",
    "print(\"Parameters:\\n\")\n",
    "\n",
    "params = kernel.get_params()\n",
    "for key in sorted(params): print(\"%s : %s\" % (key, params[key]))"
   ]
  },
  {
   "cell_type": "markdown",
   "metadata": {},
   "source": [
    "## Build GP and fit"
   ]
  },
  {
   "cell_type": "code",
   "execution_count": 35,
   "metadata": {},
   "outputs": [
    {
     "name": "stdout",
     "output_type": "stream",
     "text": [
      "\n",
      "Fitting GP...\n"
     ]
    },
    {
     "data": {
      "text/plain": [
       "GaussianProcessRegressor(alpha=1e-10, copy_X_train=True,\n",
       "             kernel=RBF(length_scale=10), n_restarts_optimizer=20,\n",
       "             normalize_y=True, optimizer='fmin_l_bfgs_b',\n",
       "             random_state=None)"
      ]
     },
     "execution_count": 35,
     "metadata": {},
     "output_type": "execute_result"
    }
   ],
   "source": [
    "gp = GaussianProcessRegressor(kernel=kernel, n_restarts_optimizer=20, normalize_y=True)\n",
    "\n",
    "print(\"\\nFitting GP...\")\n",
    "gp.fit(x_train, y_train)"
   ]
  },
  {
   "cell_type": "markdown",
   "metadata": {},
   "source": [
    "## Inference"
   ]
  },
  {
   "cell_type": "code",
   "execution_count": 26,
   "metadata": {},
   "outputs": [],
   "source": [
    "y_pred_test = gp.predict(np.atleast_2d(x_test_list).T)\n",
    "y_pred_train = gp.predict(np.atleast_2d(x_train_list).T)\n",
    "y_pred_all, sigma = gp.predict(np.atleast_2d(seps).T, return_std=True)"
   ]
  },
  {
   "cell_type": "markdown",
   "metadata": {},
   "source": [
    "## Print Results"
   ]
  },
  {
   "cell_type": "code",
   "execution_count": 36,
   "metadata": {},
   "outputs": [
    {
     "name": "stdout",
     "output_type": "stream",
     "text": [
      "\n",
      "==========================================================================================\n",
      "MAE on training data in [kcal/mol]: \t5.2055871610326094e-09\n",
      "MAE on test data in [kcal/mol]: \t1.3758100525847647\n"
     ]
    }
   ],
   "source": [
    "print(\"\\n==========================================================================================\")\n",
    "print(\"MAE on training data in [kcal/mol]: \\t{}\".format(mean_absolute_error(y_train, y_pred_train) * ev2kcal))\n",
    "print(\"MAE on test data in [kcal/mol]: \\t{}\".format(mean_absolute_error(y_test, y_pred_test) * ev2kcal))\n"
   ]
  },
  {
   "cell_type": "markdown",
   "metadata": {},
   "source": [
    "## Plot w/ confidence intervals"
   ]
  },
  {
   "cell_type": "code",
   "execution_count": null,
   "metadata": {},
   "outputs": [],
   "source": [
    "fig = plt.figure(figsize = (15, 10))\n",
    "plt.plot(x_train, y_train, 'r.', markersize=10, label=u'Training Data')\n",
    "plt.plot(x_test, y_pred_test, 'b-', label=u'Predictions')\n",
    "plt.fill(np.concatenate([seps, seps[::-1]]),\n",
    "         np.concatenate([y_pred_all - 1.9600 * sigma,\n",
    "                         (y_pred_all + 1.9600 * sigma)[::-1]]),\n",
    "         alpha=.5, fc='b', ec='None', label='95% confidence interval')\n",
    "\n",
    "plt.rcParams.update({'font.size': 22})\n",
    "plt.xlabel('$x$')\n",
    "plt.ylabel('$f(x)$')\n",
    "plt.legend(loc='upper left')\n",
    "\n",
    "plt.show()"
   ]
  },
  {
   "cell_type": "code",
   "execution_count": null,
   "metadata": {},
   "outputs": [],
   "source": []
  }
 ],
 "metadata": {
  "kernelspec": {
   "display_name": "Python 3",
   "language": "python",
   "name": "python3"
  },
  "language_info": {
   "codemirror_mode": {
    "name": "ipython",
    "version": 3
   },
   "file_extension": ".py",
   "mimetype": "text/x-python",
   "name": "python",
   "nbconvert_exporter": "python",
   "pygments_lexer": "ipython3",
   "version": "3.5.5"
  }
 },
 "nbformat": 4,
 "nbformat_minor": 2
}
