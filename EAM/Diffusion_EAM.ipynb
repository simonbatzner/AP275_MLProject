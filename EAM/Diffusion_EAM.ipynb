{
 "cells": [
  {
   "cell_type": "markdown",
   "metadata": {},
   "source": [
    "<h1><center> Self-diffusion and bulk vacancy using an EAM Potential</center></h1>\n",
    "\n",
    "References: \n",
    "  [1] AP275 Labs, Boris Kozinsky (Harvard U), https://github.com/bkoz37/labutil\n",
    "  \n",
    "Simon Batzner    "
   ]
  },
  {
   "cell_type": "markdown",
   "metadata": {},
   "source": [
    "## Params:\n",
    "\n",
    "You will need to set the same environment variables as used in the labs: \n",
    "\n",
    "    1. LAMMPS_COMMAND=<path-to-lammps-executable>\n",
    "    2. LAMMPS_POTENTIALS=<path-to-dir-with-lammps-potential files>\n",
    "    \n",
    "You will also need to set the \"work_dir\" variable two cells down. \n",
    "\n",
    "### Notes: \n",
    "    \n",
    "    1. Bulk should be relaxed first to find lattice parameter with given potential, the relaxed structre should then be cut off to create a surface, finally the top n layers should be relaxed while the remaining ones are fixed\n",
    "    2. Currently still missing is \n",
    "        - to take the proper positions of the relaxed slab (top 2 layers relax, rest fixed) as input to the slab \n",
    "        to which the adsorbate is added --> write lammps output and read back in\n",
    "        - to converge the number of top layers allowed to relax"
   ]
  },
  {
   "cell_type": "code",
   "execution_count": 19,
   "metadata": {},
   "outputs": [],
   "source": [
    "import numpy as np\n",
    "import matplotlib.pyplot as plt\n",
    "\n",
    "from src.plugins.lammps import *\n",
    "from src.objects import *\n",
    "from ase.build import *\n",
    "from ase.io import read, write\n",
    "from ase.spacegroup import crystal\n",
    "from ase.constraints import FixAtoms\n",
    "from ase.visualize import view"
   ]
  },
  {
   "cell_type": "code",
   "execution_count": 20,
   "metadata": {},
   "outputs": [],
   "source": [
    "# update this according to your system\n",
    "workdir = os.path.join(os.environ['ML_HOME'], 'EAM')\n",
    "write_cif = False\n",
    "write_qe = False"
   ]
  },
  {
   "cell_type": "markdown",
   "metadata": {},
   "source": [
    "## Templates for MD run, relaxations, and single-point calculations"
   ]
  },
  {
   "cell_type": "code",
   "execution_count": 21,
   "metadata": {},
   "outputs": [],
   "source": [
    "# relax with allowing the unit cell to vary\n",
    "\n",
    "input_template_relax = \"\"\"\n",
    "# ---------- 1. Initialize simulation ---------------------\n",
    "units metal\n",
    "atom_style atomic\n",
    "dimension  3\n",
    "boundary   p p p\n",
    "read_data $DATAINPUT\n",
    "\n",
    "# ---------- 2. Specify interatomic potential ---------------------\n",
    "pair_style eam\n",
    "pair_coeff * * $POTENTIAL\n",
    "\n",
    "# -- include optimization of the unit cell parameter\n",
    "fix 1 all box/relax iso 0.0 vmax 0.001\n",
    "\n",
    "# -- enable optimization of atomic positions (and the cell)\n",
    "min_style cg\n",
    "minimize 1e-10 1e-10 1000 10000\n",
    "\n",
    "\n",
    "# ---- 4. Define and print useful variables -------------\n",
    "variable natoms equal \"count(all)\"\n",
    "variable totenergy equal \"pe\"\n",
    "variable length equal \"lx\"\n",
    "\n",
    "print \"Total energy (eV) = ${totenergy}\"\n",
    "print \"Number of atoms = ${natoms}\"\n",
    "print \"Lattice constant (Angstoms) = ${length}\"\n",
    "        \"\"\""
   ]
  },
  {
   "cell_type": "code",
   "execution_count": 142,
   "metadata": {},
   "outputs": [],
   "source": [
    "# relax w/o allowing the unit cell to vary\n",
    "\n",
    "input_template_relax_wo_vc = \"\"\"\n",
    "# ---------- 1. Initialize simulation ---------------------\n",
    "units metal\n",
    "atom_style atomic\n",
    "dimension  3\n",
    "boundary   p p p\n",
    "read_data $DATAINPUT\n",
    "\n",
    "# ---------- 2. Specify interatomic potential ---------------------\n",
    "pair_style eam\n",
    "pair_coeff * * $POTENTIAL\n",
    "\n",
    "# -- enable optimization of atomic positions \n",
    "min_style cg\n",
    "minimize 1e-10 1e-10 1000 10000\n",
    "\n",
    "\n",
    "# ---- 4. Define and print useful variables -------------\n",
    "variable natoms equal \"count(all)\"\n",
    "variable totenergy equal \"pe\"\n",
    "variable length equal \"lx\"\n",
    "\n",
    "write_dump all atom rel_wo_vc.out modify sort id\n",
    "\n",
    "print \"Total energy (eV) = ${totenergy}\"\n",
    "print \"Number of atoms = ${natoms}\"\n",
    "print \"Lattice constant (Angstoms) = ${length}\"\n",
    "        \"\"\""
   ]
  },
  {
   "cell_type": "code",
   "execution_count": 113,
   "metadata": {},
   "outputs": [],
   "source": [
    "# template to fix bottom layers and keep top 2 \n",
    "# TODO: parametrize this\n",
    "\n",
    "input_template_fix2l = \"\"\"\n",
    "# ---------- 1. Initialize simulation ---------------------\n",
    "units metal\n",
    "atom_style atomic\n",
    "dimension  3\n",
    "boundary   p p p\n",
    "read_data $DATAINPUT\n",
    "\n",
    "# ---------- 2. Specify interatomic potential ---------------------\n",
    "pair_style eam\n",
    "pair_coeff * * $POTENTIAL\n",
    "\n",
    "# -- include optimization of the unit cell parameter\n",
    "#fix 1 all box/relax iso 0.0 vmax 0.001\n",
    "\n",
    "# -- fix all layers except for top two layers\n",
    "group bottom id 1:800\n",
    "group top id 801:1000\n",
    "\n",
    "fix 2 bottom setforce 0.0 0.0 0.0\n",
    "velocity bottom set 0.0 0.0 0.0\n",
    "\n",
    "# -- enable optimization of atomic positions (and the cell)\n",
    "min_style cg\n",
    "minimize 1e-10 1e-10 100000 10000000\n",
    "\n",
    "\n",
    "# ---- 4. Define and print useful variables -------------\n",
    "variable natoms equal \"count(all)\"\n",
    "variable totenergy equal \"pe\"\n",
    "variable length equal \"lx\"\n",
    "write_dump all atom fix2l_.out modify sort id\n",
    "\n",
    "\n",
    "print \"Total energy (eV) = ${totenergy}\"\n",
    "print \"Number of atoms = ${natoms}\"\n",
    "print \"Lattice constant (Angstoms) = ${length}\"\n",
    "        \"\"\""
   ]
  },
  {
   "cell_type": "code",
   "execution_count": 24,
   "metadata": {},
   "outputs": [],
   "source": [
    "# single-point calculation\n",
    "\n",
    "input_template_single_point = \"\"\"\n",
    "# ---------- 1. Initialize simulation ---------------------\n",
    "units metal\n",
    "atom_style atomic\n",
    "dimension  3\n",
    "boundary   p p p\n",
    "read_data $DATAINPUT\n",
    "\n",
    "# ---------- 2. Specify interatomic potential ---------------------\n",
    "pair_style eam\n",
    "pair_coeff * * $POTENTIAL\n",
    "\n",
    "# ---------- 3. Run single point calculation  ---------------------\n",
    "thermo_style custom step pe lx ly lz press pxx pyy pzz\n",
    "run 0\n",
    "\n",
    "# ---- 4. Define and print useful variables -------------\n",
    "variable natoms equal \"count(all)\"\n",
    "variable totenergy equal \"pe\"\n",
    "variable length equal \"lx\"\n",
    "\n",
    "print \"Total energy (eV) = ${totenergy}\"\n",
    "print \"Number of atoms = ${natoms}\"\n",
    "print \"Lattice constant (Angstoms) = ${length}\"\n",
    "        \"\"\""
   ]
  },
  {
   "cell_type": "code",
   "execution_count": 25,
   "metadata": {},
   "outputs": [],
   "source": [
    "# MD run NVE\n",
    "\n",
    "input_template_run = \"\"\"\n",
    "# ---------- Initialize simulation ---------------------\n",
    "units metal\n",
    "atom_style atomic\n",
    "dimension  3\n",
    "boundary   p p p\n",
    "read_data $DATAINPUT\n",
    "pair_style eam\n",
    "pair_coeff * * $POTENTIAL\n",
    "velocity  all create $TEMPERATURE 87287 dist gaussian\n",
    "\n",
    "# ---------- Describe computed properties------------------\n",
    "compute msdall all msd\n",
    "thermo_style custom step pe ke etotal temp press density c_msdall[4]\n",
    "thermo $TOUTPUT\n",
    "\n",
    "# ---------- Specify ensemble  ---------------------\n",
    "fix  1 all nve\n",
    "#fix  1 all nvt temp $TEMPERATURE $TEMPERATURE $TDAMP\n",
    "\n",
    "# --------- Compute RDF ---------------\n",
    "compute rdfall all rdf 100 1 1\n",
    "fix 2 all ave/time 1 $RDFFRAME $RDFFRAME c_rdfall[*] file $RDFFILE mode vector\n",
    "\n",
    "# --------- Run -------------\n",
    "timestep $TIMESTEP\n",
    "run $NSTEPS\n",
    "\"\"\""
   ]
  },
  {
   "cell_type": "markdown",
   "metadata": {},
   "source": [
    "## Build Structures"
   ]
  },
  {
   "cell_type": "code",
   "execution_count": 26,
   "metadata": {},
   "outputs": [],
   "source": [
    "def make_bulk(alat, size, el = 'Pd', lattice = 'fcc'):\n",
    "    \"\"\"\n",
    "    Creates the bulk crystal structure using ASE  \n",
    "    \n",
    "    :param alat: lattice parameter\n",
    "    :return: structure object converted from ase\n",
    "    \"\"\"\n",
    "    \n",
    "    # create bulk cell\n",
    "    cell = bulk(el, lattice, a=alat)\n",
    "    \n",
    "    # make supercell\n",
    "    multiplier = numpy.identity(3) * size\n",
    "    supercell = make_supercell(cell, multiplier)\n",
    "\n",
    "\n",
    "    n_atoms = supercell.get_number_of_atoms()\n",
    "    structure = Struc(ase2struc(supercell))\n",
    "    \n",
    "    return structure, n_atoms"
   ]
  },
  {
   "cell_type": "code",
   "execution_count": 27,
   "metadata": {},
   "outputs": [],
   "source": [
    "def make_bulk_w_vacancy(alat, size, el = 'Pd', lattice = 'fcc'):\n",
    "    \"\"\"\n",
    "    Creates the bulk crystal structure using ASE with a vacancy\n",
    "    \n",
    "    :param alat: lattice parameter\n",
    "    :return: structure object converted from ase\n",
    "    \"\"\"\n",
    "    \n",
    "    # create bulk cell\n",
    "    cell = bulk(el, lattice, a=alat)\n",
    "    \n",
    "    # make supercell\n",
    "    multiplier = numpy.identity(3) * size\n",
    "    supercell = make_supercell(cell, multiplier)\n",
    "    \n",
    "    # remove atom to form vacancy\n",
    "    supercell.pop(supercell.get_number_of_atoms() // 2)\n",
    "\n",
    "    n_atoms = supercell.get_number_of_atoms()\n",
    "    structure = Struc(ase2struc(supercell))\n",
    "    \n",
    "    return structure, n_atoms"
   ]
  },
  {
   "cell_type": "code",
   "execution_count": 28,
   "metadata": {},
   "outputs": [],
   "source": [
    "def make_slab_with_adatom(el, alat, width, depth, vacuum):\n",
    "    \"\"\"\n",
    "    Creates the slab crystal structure using ASE.\n",
    "    \n",
    "    :param width: width of slab\n",
    "    :param depth: depth of slab\n",
    "    :param vacuum: vacuum in Angstrom\n",
    "    :return: structure object converted from ase\n",
    "    \"\"\"\n",
    "    # create surface slab\n",
    "    slab = fcc111(el, a=alat, size=(width, width, depth))\n",
    "\n",
    "    # add adatom - supported special adsorption sites for fcc111: 'ontop', 'bridge', 'fcc' and 'hcp'\n",
    "    add_adsorbate(slab, el, 1.5, 'ontop')\n",
    "\n",
    "    # center along z-axis\n",
    "    slab.center(vacuum=vacuum, axis=2)\n",
    "\n",
    "    n_atoms = slab.get_number_of_atoms()\n",
    "    structure = Struc(ase2struc(slab))\n",
    "\n",
    "    return structure, n_atoms"
   ]
  },
  {
   "cell_type": "code",
   "execution_count": 29,
   "metadata": {},
   "outputs": [],
   "source": [
    "def make_bare_slab(el, alat, width, depth, vacuum):\n",
    "    \"\"\"\n",
    "    Creates the slab crystal structure using ASE.\n",
    "    \n",
    "    :param width: width of slab\n",
    "    :param depth: depth of slab\n",
    "    :param vacuum: vacuum in Angstrom\n",
    "    :return: structure object converted from ase\n",
    "    \"\"\"\n",
    "    # create surface slab\n",
    "    slab = fcc111(el, a=alat, size=(width, width, depth))\n",
    "    \n",
    "    # center along z-axis\n",
    "    slab.center(vacuum=vacuum, axis=2)\n",
    "\n",
    "    n_atoms = slab.get_number_of_atoms()\n",
    "    structure = Struc(ase2struc(slab))\n",
    "\n",
    "    return structure, n_atoms"
   ]
  },
  {
   "cell_type": "markdown",
   "metadata": {},
   "source": [
    "## Funcs to run bulk, run slab, converge slab geometry, and run MD"
   ]
  },
  {
   "cell_type": "code",
   "execution_count": 30,
   "metadata": {},
   "outputs": [],
   "source": [
    "def compute_energy_bulk(el, alat, template):\n",
    "    \"\"\"\n",
    "    Make an input template and select potential and structure, and the path where to run\n",
    "    \"\"\"\n",
    "    potpath = os.path.join(os.environ['LAMMPS_POTENTIALS'], el + '_u3.eam')\n",
    "    potential = ClassicalPotential(path=potpath, ptype='eam', element=[el])\n",
    "    runpath = Dir(path=os.path.join(workdir, os.path.join('runs')))\n",
    "    struc, n_atoms = make_bulk(alat = alat, size = 2, el = el, lattice = 'fcc')\n",
    "    output_file = lammps_run(struc=struc, runpath=runpath, potential=potential, intemplate=template, inparam={})\n",
    "    energy, lattice = get_lammps_energy(outfile=output_file)\n",
    "    return energy, lattice"
   ]
  },
  {
   "cell_type": "code",
   "execution_count": 31,
   "metadata": {},
   "outputs": [],
   "source": [
    "def compute_energy_slab(el, alat, width, depth, vacuum, template, cnt):\n",
    "    \"\"\"\n",
    "    Make an input template and select potential and structure, and the path where to run\n",
    "    \"\"\"\n",
    "    potpath = os.path.join(os.environ['LAMMPS_POTENTIALS'], el + '_u3.eam')\n",
    "    potential = ClassicalPotential(path=potpath, ptype='eam', element=[el])\n",
    "    runpath = Dir(path=os.path.join(workdir, os.path.join('runs', str(cnt))))\n",
    "    struc, n_atoms = make_bare_slab(el = el, alat=alat, width=width, depth=depth, vacuum=vacuum)\n",
    "    output_file = lammps_run(struc=struc, runpath=runpath, potential=potential, intemplate=template, inparam={})\n",
    "    energy, lattice = get_lammps_energy(outfile=output_file)\n",
    "\n",
    "    # normalize energy\n",
    "    energy = energy / n_atoms\n",
    "\n",
    "    return energy, lattice"
   ]
  },
  {
   "cell_type": "code",
   "execution_count": 32,
   "metadata": {},
   "outputs": [],
   "source": [
    "def converge_slab(el, alat):\n",
    "    width_arr = np.linspace(1, width_max)\n",
    "    depth_arr = np.linspace(1, depth_max)\n",
    "    vacuum_arr = np.linspace(1, vacuum_max)\n",
    "\n",
    "    e_w_list = []\n",
    "    e_d_list = []\n",
    "    e_v_list = []\n",
    "\n",
    "    # converge width\n",
    "    cnt = 0\n",
    "    for width in width_arr:\n",
    "        e_w_list.append(compute_energy_slab(el = el, alat = alat, width=int(width), depth=int(depth_def), vacuum=int(vacuum_def),\n",
    "                                       template=input_template_single_point, cnt=cnt)[0])\n",
    "        cnt += 1\n",
    "\n",
    "    # converge depth\n",
    "    for depth in depth_arr:\n",
    "        e_d_list.append(compute_energy_slab(el = el, alat = alat, width=int(width_def), depth=int(depth), vacuum=int(vacuum_def),\n",
    "                                       template=input_template_single_point, cnt=cnt)[0])\n",
    "        cnt += 1\n",
    "\n",
    "    # converge vacuum\n",
    "    for vacuum in vacuum_arr:\n",
    "        e_v_list.append(compute_energy_slab(el = el, alat = alat, width=int(width_def), depth=int(depth_def), vacuum=int(vacuum),\n",
    "                                       template=input_template_single_point, cnt=cnt)[0])\n",
    "        cnt += 1\n",
    "\n",
    "    # convergence plots\n",
    "    plt.figure(figsize = (12, 10))\n",
    "    plt.subplot(311)\n",
    "    plt.plot(width_arr, e_w_list)\n",
    "    plt.title('E(width)')\n",
    "    plt.subplot(312)\n",
    "    plt.plot(depth_arr, e_d_list)\n",
    "    plt.title('E(depth)')\n",
    "    plt.subplot(313)\n",
    "    plt.plot(vacuum_arr, e_v_list)\n",
    "    plt.title('E(vacuum)')\n",
    "    plt.show()\n",
    "\n",
    "    return"
   ]
  },
  {
   "cell_type": "code",
   "execution_count": 167,
   "metadata": {},
   "outputs": [],
   "source": [
    "def compute_dynamics(struc_type, el, alat, timestep, nsteps, temperature, width, depth, vacuum, struc):\n",
    "    \"\"\"\n",
    "    Make an input template and select potential and structure, and input parameters.\n",
    "    Return a pair of output file and RDF file written to the runpath directory.\n",
    "    \"\"\"\n",
    "    potpath = os.path.join(os.environ['LAMMPS_POTENTIALS'], el + '_u3.eam')\n",
    "    potential = ClassicalPotential(path=potpath, ptype='eam', element=[el])\n",
    "    runpath = Dir(path=workdir)\n",
    "    \n",
    "    if struc_type=='slab': \n",
    "        struc, n_atoms = make_slab_with_adatom(el=el, alat=alat, width=width, depth=depth, vacuum=vacuum)\n",
    "    elif struc_type=='bulk_vacancy': \n",
    "        struc, n_atoms = struc, struc.n_atoms\n",
    "        \n",
    "    inparam = {\n",
    "        'TEMPERATURE': temperature,\n",
    "        'NSTEPS': nsteps,\n",
    "        'TIMESTEP': timestep,\n",
    "        'TOUTPUT': 100,  # how often to write thermo output\n",
    "        'TDAMP': 50 * timestep,  # thermostat damping time scale\n",
    "        'RDFFRAME': int(nsteps / 4),  # frames for radial distribution function\n",
    "    }\n",
    "\n",
    "    outfile = lammps_run(struc=struc, runpath=runpath, potential=potential,\n",
    "                         intemplate=input_template_run, inparam=inparam)\n",
    "\n",
    "    output = parse_lammps_thermo(outfile=outfile)\n",
    "    rdffile = get_rdf(runpath=runpath)\n",
    "    rdfs = parse_lammps_rdf(rdffile=rdffile)\n",
    "\n",
    "    return output, rdfs"
   ]
  },
  {
   "cell_type": "code",
   "execution_count": 158,
   "metadata": {},
   "outputs": [],
   "source": [
    "def md_run(el, alat, nsteps, temperature, width, depth, vacuum, struc_type, struc = None):\n",
    "    \"\"\" Run MD, plot results \"\"\"\n",
    "\n",
    "    # run md\n",
    "    output, rdfs = compute_dynamics(struc_type=struc_type, el=el, alat=alat, timestep=0.001, nsteps=nsteps, \n",
    "                                    temperature=temperature, width=width, depth=depth, vacuum=vacuum, struc=struc)\n",
    "\n",
    "    # collect results\n",
    "    [simtime, pe, ke, energy, temp, press, dens, msd] = output\n",
    "\n",
    "    ## ------- plot mean square displacement\n",
    "    plt.figure(figsize = (12, 10))\n",
    "    plt.plot(simtime, msd)\n",
    "    plt.title('MSD vs. simtime')\n",
    "    plt.savefig('msd.png')\n",
    "    plt.show()\n",
    "\n",
    "#     ## ------- plot radial distribution functions\n",
    "#     for rdf in rdfs:\n",
    "#         plt.plot(rdf[0], rdf[1])\n",
    "\n",
    "#     plt.savefig('rdf.png')\n",
    "#     plt.show()"
   ]
  },
  {
   "cell_type": "markdown",
   "metadata": {},
   "source": [
    "# 1. Adatom Pd on Pd"
   ]
  },
  {
   "cell_type": "code",
   "execution_count": 79,
   "metadata": {},
   "outputs": [],
   "source": [
    "el = 'Pd'\n",
    "alat_start = 4.0\n",
    "potpath = os.path.join(os.environ['LAMMPS_POTENTIALS'], el + '_u3.eam')\n",
    "potential = ClassicalPotential(path=potpath, ptype='eam', element=[el])"
   ]
  },
  {
   "cell_type": "markdown",
   "metadata": {},
   "source": [
    "## Build Bulk and relax to find equilibrium lattice parameter"
   ]
  },
  {
   "cell_type": "code",
   "execution_count": 80,
   "metadata": {},
   "outputs": [
    {
     "name": "stdout",
     "output_type": "stream",
     "text": [
      "4\n",
      "Relaxed bulk energy/atom: -3.910000000150325\n",
      "Relaxed lattice parameter: 3.8900000298\n"
     ]
    }
   ],
   "source": [
    "# create bulk cell\n",
    "cell = crystal(el, [(0, 0, 0)], spacegroup=225, cellpar=[alat_start, alat_start, alat_start, 90, 90, 90])\n",
    "\n",
    "# make supercell\n",
    "n_atoms = cell.get_number_of_atoms()\n",
    "structure = Struc(ase2struc(cell))\n",
    "\n",
    "runpath = Dir(path=os.path.join(workdir, os.path.join('runs/bulk')))\n",
    "file_prefix = 'bulk_relax_' + str(alat_start) \n",
    "write(file_prefix + '.cif', cell, format='cif')\n",
    "\n",
    "# run \n",
    "output_file = lammps_run(struc=structure, runpath=runpath, potential=potential, intemplate=input_template_relax, inparam={})\n",
    "energy, alat_relax = get_lammps_energy(outfile=output_file)\n",
    "\n",
    "print(n_atoms)\n",
    "print(\"Relaxed bulk energy/atom: {}\".format(energy/n_atoms))\n",
    "print(\"Relaxed lattice parameter: {0:.10f}\".format(alat_relax))"
   ]
  },
  {
   "cell_type": "markdown",
   "metadata": {},
   "source": [
    "## Build Slab using the found alat and converge width, depth, and vacuum"
   ]
  },
  {
   "cell_type": "code",
   "execution_count": 82,
   "metadata": {},
   "outputs": [
    {
     "data": {
      "image/png": "[encoded data removed]",
      "text/plain": [
       "<Figure size 864x720 with 3 Axes>"
      ]
     },
     "metadata": {},
     "output_type": "display_data"
    }
   ],
   "source": [
    "# defaults used for converging other params\n",
    "width_def = 5\n",
    "depth_def = 5\n",
    "vacuum_def = 10\n",
    "\n",
    "# maxima for convergence\n",
    "width_max = 50\n",
    "depth_max = 50\n",
    "vacuum_max = 10\n",
    "\n",
    "converge_slab(el=el, alat = alat_relax)"
   ]
  },
  {
   "cell_type": "markdown",
   "metadata": {},
   "source": [
    "## Relax top two layers of converged slab configuration"
   ]
  },
  {
   "cell_type": "code",
   "execution_count": 99,
   "metadata": {},
   "outputs": [],
   "source": [
    "width = 10\n",
    "depth = 10\n",
    "vacuum = 10"
   ]
  },
  {
   "cell_type": "code",
   "execution_count": 100,
   "metadata": {},
   "outputs": [
    {
     "name": "stdout",
     "output_type": "stream",
     "text": [
      "1000\n"
     ]
    }
   ],
   "source": [
    "# create surface slab\n",
    "slab = fcc111(el, a=alat_relax, size=(width, width, depth))\n",
    "print(slab.get_number_of_atoms())\n",
    "\n",
    "# center along z-axis\n",
    "slab.center(vacuum=vacuum, axis=2)\n",
    "structure = Struc(ase2struc(slab))"
   ]
  },
  {
   "cell_type": "markdown",
   "metadata": {},
   "source": [
    "## From here on out still in debug mode"
   ]
  },
  {
   "cell_type": "code",
   "execution_count": 114,
   "metadata": {},
   "outputs": [],
   "source": [
    "runpath = Dir(path=os.path.join(workdir))\n",
    "output_file = lammps_run(struc=structure, runpath=runpath, potential=potential, intemplate=input_template_fix2l, inparam={})\n",
    "energy, lattice = get_lammps_energy(outfile=output_file)"
   ]
  },
  {
   "cell_type": "code",
   "execution_count": 115,
   "metadata": {},
   "outputs": [
    {
     "name": "stdout",
     "output_type": "stream",
     "text": [
      "LAMMPS (11 Aug 2017)\r\n",
      "Reading data file ...\r\n",
      "  orthogonal box = (0 0 0) to (27.5065 23.8213 40.213)\r\n",
      "  1 by 1 by 1 MPI processor grid\r\n",
      "  reading atoms ...\r\n",
      "  1000 atoms\r\n",
      "Reading potential file /usr/local/Cellar/lammps/2017-08-11_4/bin/pots/Pd_u3.eam with DATE: 2007-06-11\r\n",
      "800 atoms in group bottom\r\n",
      "200 atoms in group top\r\n",
      "WARNING: Using 'neigh_modify every 1 delay 0 check yes' setting during minimization (../min.cpp:168)\r\n",
      "Neighbor list info ...\r\n",
      "  update every 1 steps, delay 0 steps, check yes\r\n",
      "  max neighbors/atom: 2000, page size: 100000\r\n",
      "  master list distance cutoff = 7.3\r\n",
      "  ghost atom cutoff = 7.3\r\n",
      "  binsize = 3.65, bins = 8 7 12\r\n",
      "  1 neighbor lists, perpetual/occasional/extra = 1 0 0\r\n",
      "  (1) pair eam, perpetual\r\n",
      "      attributes: half, newton on\r\n",
      "      pair build: half/bin/atomonly/newton\r\n",
      "      stencil: half/bin/3d/newton\r\n",
      "      bin: standard\r\n",
      "Setting up cg style minimization ...\r\n",
      "  Unit style    : metal\r\n",
      "  Current step  : 0\r\n",
      "Per MPI rank memory allocation (min/avg/max) = 4.165 | 4.165 | 4.165 Mbytes\r\n",
      "Step Temp E_pair E_mol TotEng Press \r\n",
      "       0            0   -3808.1424            0   -3808.1424   -12823.302 \r\n",
      "       7            0   -3809.3699            0   -3809.3699   -9573.4452 \r\n",
      "Loop time of 0.0386069 on 1 procs for 7 steps with 1000 atoms\r\n",
      "\r\n",
      "82.0% CPU use with 1 MPI tasks x no OpenMP threads\r\n",
      "\r\n",
      "Minimization stats:\r\n",
      "  Stopping criterion = energy tolerance\r\n",
      "  Energy initial, next-to-last, final = \r\n",
      "        -3808.14242027     -3809.36987059      -3809.3698706\r\n",
      "  Force two-norm initial, final = 4.50585 9.34223e-06\r\n",
      "  Force max component initial, final = 0.322416 1.1665e-06\r\n",
      "  Final line search alpha, max atom move = 1 1.1665e-06\r\n",
      "  Iterations, force evaluations = 7 14\r\n",
      "\r\n",
      "MPI task timing breakdown:\r\n",
      "Section |  min time  |  avg time  |  max time  |%varavg| %total\r\n",
      "---------------------------------------------------------------\r\n",
      "Pair    | 0.033362   | 0.033362   | 0.033362   |   0.0 | 86.42\r\n",
      "Neigh   | 0          | 0          | 0          |   0.0 |  0.00\r\n",
      "Comm    | 0.0047157  | 0.0047157  | 0.0047157  |   0.0 | 12.21\r\n",
      "Output  | 0          | 0          | 0          |   0.0 |  0.00\r\n",
      "Modify  | 9.0599e-05 | 9.0599e-05 | 9.0599e-05 |   0.0 |  0.23\r\n",
      "Other   |            | 0.0004385  |            |       |  1.14\r\n",
      "\r\n",
      "Nlocal:    1000 ave 1000 max 1000 min\r\n",
      "Histogram: 1 0 0 0 0 0 0 0 0 0\r\n",
      "Nghost:    1544 ave 1544 max 1544 min\r\n",
      "Histogram: 1 0 0 0 0 0 0 0 0 0\r\n",
      "Neighs:    58600 ave 58600 max 58600 min\r\n",
      "Histogram: 1 0 0 0 0 0 0 0 0 0\r\n",
      "\r\n",
      "Total # of neighbors = 58600\r\n",
      "Ave neighs/atom = 58.6\r\n",
      "Neighbor list builds = 0\r\n",
      "Dangerous builds = 0\r\n",
      "Total energy (eV) = -3809.36987059505\r\n",
      "Number of atoms = 1000\r\n",
      "Lattice constant (Angstoms) = 27.5064539987641\r\n",
      "Total wall time: 0:00:00\r\n"
     ]
    }
   ],
   "source": [
    "!cat lammps.out"
   ]
  },
  {
   "cell_type": "code",
   "execution_count": 91,
   "metadata": {},
   "outputs": [
    {
     "name": "stdout",
     "output_type": "stream",
     "text": [
      "Relaxed slab energy/atom: -26168.84408836375\n",
      "Relaxed lattice parameter: 82.5193619963\n",
      "27000\n"
     ]
    }
   ],
   "source": [
    "print(\"Relaxed slab energy/atom: {}\".format(energy/n_atoms))\n",
    "print(\"Relaxed lattice parameter: {0:.10f}\".format(lattice))\n",
    "\n",
    "# view slab\n",
    "print(slab.get_number_of_atoms())\n",
    "view(slab)"
   ]
  },
  {
   "cell_type": "markdown",
   "metadata": {},
   "source": [
    "### Read relaxed structure from dumpfile"
   ]
  },
  {
   "cell_type": "code",
   "execution_count": 140,
   "metadata": {},
   "outputs": [],
   "source": [
    "def parse_structure_dump_wr(runpath, dumpfilename):\n",
    "    dumpfile = os.path.join(runpath.path, dumpfilename)\n",
    "    last_structure = read_lammps_dump(dumpfile)\n",
    "    print(last_structure)\n",
    "    strucfile = os.path.join(runpath.path, 'struc.cif')\n",
    "    ase.io.write(strucfile, last_structure)\n",
    "    return last_structure"
   ]
  },
  {
   "cell_type": "code",
   "execution_count": 141,
   "metadata": {},
   "outputs": [
    {
     "name": "stdout",
     "output_type": "stream",
     "text": [
      "Atoms(symbols='H1000', pbc=False, cell=[27.506453998764073, 23.821287930957737, 40.21303307909298])\n"
     ]
    }
   ],
   "source": [
    "slab = parse_structure_dump_wr(runpath = Dir(path=workdir), dumpfilename = 'fix2l_.out')"
   ]
  },
  {
   "cell_type": "markdown",
   "metadata": {},
   "source": [
    "## Run MD for surface adatom"
   ]
  },
  {
   "cell_type": "code",
   "execution_count": 138,
   "metadata": {},
   "outputs": [],
   "source": [
    "# add adatom\n",
    "x_min = np.amin(slab.positions[:, 0])\n",
    "x_max = np.amax(slab.positions[:, 0])\n",
    "\n",
    "y_min = np.amin(slab.positions[:, 1])\n",
    "y_max = np.amax(slab.positions[:, 1])\n",
    "\n",
    "ads_pos = (x_min + 0.5 * (x_max - x_min), y_min + 0.5 * (y_max - y_min))\n",
    "add_adsorbate(slab, el, 1.5, ads_pos)\n",
    "\n",
    "# center along z-axis\n",
    "slab.center(vacuum=vacuum, axis=2)\n",
    "\n",
    "# MD params\n",
    "nsteps = 1000\n",
    "temperature = 900"
   ]
  },
  {
   "cell_type": "code",
   "execution_count": 139,
   "metadata": {
    "scrolled": false
   },
   "outputs": [
    {
     "data": {
      "image/png": "[encoded data removed]",
      "text/plain": [
       "<Figure size 864x720 with 1 Axes>"
      ]
     },
     "metadata": {},
     "output_type": "display_data"
    }
   ],
   "source": [
    "md_run(el, alat_relax, nsteps, temperature, width, depth, vacuum, struc_type='slab')"
   ]
  },
  {
   "cell_type": "markdown",
   "metadata": {},
   "source": [
    "# 2. Bulk Ag w/ a vacancy"
   ]
  },
  {
   "cell_type": "code",
   "execution_count": 143,
   "metadata": {},
   "outputs": [],
   "source": [
    "el = 'Ag'\n",
    "size = 3\n",
    "alat_start = 4.0\n",
    "potpath = os.path.join(os.environ['LAMMPS_POTENTIALS'], el + '_u3.eam')\n",
    "potential = ClassicalPotential(path=potpath, ptype='eam', element=[el])"
   ]
  },
  {
   "cell_type": "code",
   "execution_count": 144,
   "metadata": {},
   "outputs": [
    {
     "name": "stdout",
     "output_type": "stream",
     "text": [
      "108\n",
      "Relaxed bulk energy/atom: -0.10555555561356297\n",
      "Relaxed lattice parameter: 27.5064539988\n"
     ]
    }
   ],
   "source": [
    "# create bulk cell\n",
    "cell = crystal(el, [(0, 0, 0)], spacegroup=225, cellpar=[alat_start, alat_start, alat_start, 90, 90, 90])\n",
    "\n",
    "# make supercell\n",
    "multiplier = numpy.identity(3) * size\n",
    "supercell = make_supercell(cell, multiplier)\n",
    "n_atoms = supercell.get_number_of_atoms()\n",
    "structure = Struc(ase2struc(cell))\n",
    "\n",
    "runpath = Dir(path=os.path.join(workdir, os.path.join('runs/bulk_vac')))\n",
    "file_prefix = 'bulk_relax_' + str(alat_start) \n",
    "write(file_prefix + '.cif', cell, format='cif')\n",
    "\n",
    "# run \n",
    "output_file = lammps_run(struc=structure, runpath=runpath, potential=potential, intemplate=input_template_relax, inparam={})\n",
    "energy, alat_relax = get_lammps_energy(outfile=output_file)\n",
    "\n",
    "print(n_atoms)\n",
    "print(\"Relaxed bulk energy/atom: {}\".format(energy/n_atoms))\n",
    "print(\"Relaxed lattice parameter: {0:.10f}\".format(lattice))"
   ]
  },
  {
   "cell_type": "markdown",
   "metadata": {},
   "source": [
    "## Relax with vacancy - note: when we relax with a bulk vacancy, don't allow the lattice parameter to adjust, that's unphysical; only allow that when we're relaxing the perfect cell"
   ]
  },
  {
   "cell_type": "code",
   "execution_count": 145,
   "metadata": {},
   "outputs": [
    {
     "name": "stdout",
     "output_type": "stream",
     "text": [
      "107\n",
      "Relaxed bulk energy/atom: -2.8409644158979157\n",
      "Relaxed lattice parameter: 4.0899999415\n"
     ]
    }
   ],
   "source": [
    "# create bulk cell\n",
    "cell = crystal(el, [(0, 0, 0)], spacegroup=225, cellpar=[alat_relax, alat_relax, alat_relax, 90, 90, 90])\n",
    "\n",
    "# make supercell\n",
    "multiplier = numpy.identity(3) * size\n",
    "supercell = make_supercell(cell, multiplier)\n",
    "    \n",
    "# remove atom\n",
    "supercell.pop(supercell.get_number_of_atoms() // 2)\n",
    "cell = supercell\n",
    "\n",
    "# setup run\n",
    "n_atoms = cell.get_number_of_atoms()\n",
    "structure = Struc(ase2struc(cell))\n",
    "\n",
    "runpath = Dir(path=os.path.join(workdir, os.path.join('runs/bulk_vac')))\n",
    "file_prefix = 'bulk_relax_' + str(alat_start) \n",
    "write(file_prefix + '.cif', cell, format='cif')\n",
    "\n",
    "# run \n",
    "output_file = lammps_run(struc=structure, runpath=runpath, potential=potential, intemplate=input_template_relax_wo_vc, inparam={})\n",
    "energy, alat_relax_vac = get_lammps_energy(outfile=output_file)\n",
    "\n",
    "print(n_atoms)\n",
    "print(\"Relaxed bulk energy/atom: {}\".format(energy/n_atoms))\n",
    "print(\"Relaxed lattice parameter: {0:.10f}\".format(alat_relax_vac/3))"
   ]
  },
  {
   "cell_type": "markdown",
   "metadata": {},
   "source": [
    "## Run MD for bulk w/ vacancy"
   ]
  },
  {
   "cell_type": "code",
   "execution_count": 164,
   "metadata": {},
   "outputs": [
    {
     "name": "stdout",
     "output_type": "stream",
     "text": [
      "Atoms(symbols='H107', pbc=False, cell=[12.269999824560031, 12.269999824560031, 12.269999824560031])\n"
     ]
    }
   ],
   "source": [
    "struc = parse_structure_dump_wr(runpath = Dir(path=workdir), dumpfilename = 'rel_wo_vc.out')\n",
    "struc = structure = Struc(ase2struc(struc))"
   ]
  },
  {
   "cell_type": "code",
   "execution_count": 165,
   "metadata": {},
   "outputs": [],
   "source": [
    "# MD params\n",
    "nsteps = 10000\n",
    "temperature = 900"
   ]
  },
  {
   "cell_type": "code",
   "execution_count": 168,
   "metadata": {},
   "outputs": [
    {
     "data": {
      "image/png": "[encoded data removed]",
      "text/plain": [
       "<Figure size 864x720 with 1 Axes>"
      ]
     },
     "metadata": {},
     "output_type": "display_data"
    }
   ],
   "source": [
    "md_run(el, lattice, nsteps, temperature, None, None, None, struc_type='bulk_vacancy', struc = struc)"
   ]
  }
 ],
 "metadata": {
  "kernelspec": {
   "display_name": "Python 3",
   "language": "python",
   "name": "python3"
  },
  "language_info": {
   "codemirror_mode": {
    "name": "ipython",
    "version": 3
   },
   "file_extension": ".py",
   "mimetype": "text/x-python",
   "name": "python",
   "nbconvert_exporter": "python",
   "pygments_lexer": "ipython3",
   "version": "3.5.5"
  }
 },
 "nbformat": 4,
 "nbformat_minor": 2
}
