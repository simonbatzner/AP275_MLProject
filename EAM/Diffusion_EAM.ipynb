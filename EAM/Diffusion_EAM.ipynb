{
 "cells": [
  {
   "cell_type": "markdown",
   "metadata": {},
   "source": [
    "# Pd Adatom self-diffusion using an EAM Potential\n",
    "\n",
    "\n",
    "\n",
    "## References \n",
    "###      [1] AP275 Labs, Boris Kozinsky (Harvard U), https://github.com/bkoz37/labutil\n",
    "    \n",
    "Simon Batzner"
   ]
  },
  {
   "cell_type": "markdown",
   "metadata": {},
   "source": [
    "## Params:\n",
    "\n",
    "You will need to set the same environment variables as used in the labs: \n",
    "\n",
    "    1. LAMMPS_COMMAND=<path-to-lammps-executable>\n",
    "    2. LAMMPS_POTENTIALS=<path-to-dir-with-lammps-potential files>\n",
    "\n",
    "### Note: \n",
    "    \n",
    "    1. Bulk should be relaxed first to find lattice parameter with given potential, then cut off for surface and top n layers should be relaxed\n",
    "    2. Currently still missing is to take the proper positions of the relaxed slab (top 2 layers relax, rest fixed) as input to the slab to which the adsorbate is added"
   ]
  },
  {
   "cell_type": "code",
   "execution_count": 242,
   "metadata": {},
   "outputs": [],
   "source": [
    "import numpy as np\n",
    "import matplotlib.pyplot as plt\n",
    "\n",
    "from src.plugins.lammps import *\n",
    "from src.objects import *\n",
    "from ase.build import *\n",
    "from ase.io import write\n",
    "from ase.spacegroup import crystal\n",
    "from ase.constraints import FixAtoms\n",
    "from ase.visualize import view"
   ]
  },
  {
   "cell_type": "code",
   "execution_count": 243,
   "metadata": {},
   "outputs": [],
   "source": [
    "workdir = os.path.join(os.environ['ML_HOME'], 'EAM')\n",
    "write_cif = False\n",
    "write_qe = False"
   ]
  },
  {
   "cell_type": "markdown",
   "metadata": {},
   "source": [
    "## Templates for MD run, relaxation and single-point calculations"
   ]
  },
  {
   "cell_type": "code",
   "execution_count": 201,
   "metadata": {},
   "outputs": [],
   "source": [
    "input_template_relax = \"\"\"\n",
    "# ---------- 1. Initialize simulation ---------------------\n",
    "units metal\n",
    "atom_style atomic\n",
    "dimension  3\n",
    "boundary   p p p\n",
    "read_data $DATAINPUT\n",
    "\n",
    "# ---------- 2. Specify interatomic potential ---------------------\n",
    "pair_style eam\n",
    "pair_coeff * * $POTENTIAL\n",
    "\n",
    "# -- include optimization of the unit cell parameter\n",
    "fix 1 all box/relax iso 0.0 vmax 0.001\n",
    "\n",
    "# -- enable optimization of atomic positions (and the cell)\n",
    "min_style cg\n",
    "minimize 1e-10 1e-10 1000 10000\n",
    "\n",
    "\n",
    "# ---- 4. Define and print useful variables -------------\n",
    "variable natoms equal \"count(all)\"\n",
    "variable totenergy equal \"pe\"\n",
    "variable length equal \"lx\"\n",
    "\n",
    "print \"Total energy (eV) = ${totenergy}\"\n",
    "print \"Number of atoms = ${natoms}\"\n",
    "print \"Lattice constant (Angstoms) = ${length}\"\n",
    "        \"\"\""
   ]
  },
  {
   "cell_type": "code",
   "execution_count": 202,
   "metadata": {},
   "outputs": [],
   "source": [
    "input_template_singe_point = \"\"\"\n",
    "# ---------- 1. Initialize simulation ---------------------\n",
    "units metal\n",
    "atom_style atomic\n",
    "dimension  3\n",
    "boundary   p p p\n",
    "read_data $DATAINPUT\n",
    "\n",
    "# ---------- 2. Specify interatomic potential ---------------------\n",
    "pair_style eam\n",
    "pair_coeff * * $POTENTIAL\n",
    "\n",
    "# ---------- 3. Run single point calculation  ---------------------\n",
    "thermo_style custom step pe lx ly lz press pxx pyy pzz\n",
    "run 0\n",
    "\n",
    "# ---- 4. Define and print useful variables -------------\n",
    "variable natoms equal \"count(all)\"\n",
    "variable totenergy equal \"pe\"\n",
    "variable length equal \"lx\"\n",
    "\n",
    "print \"Total energy (eV) = ${totenergy}\"\n",
    "print \"Number of atoms = ${natoms}\"\n",
    "print \"Lattice constant (Angstoms) = ${length}\"\n",
    "        \"\"\""
   ]
  },
  {
   "cell_type": "code",
   "execution_count": 203,
   "metadata": {},
   "outputs": [],
   "source": [
    "input_template_run = \"\"\"\n",
    "# ---------- Initialize simulation ---------------------\n",
    "units metal\n",
    "atom_style atomic\n",
    "dimension  3\n",
    "boundary   p p p\n",
    "read_data $DATAINPUT\n",
    "pair_style eam\n",
    "pair_coeff * * $POTENTIAL\n",
    "velocity  all create $TEMPERATURE 87287 dist gaussian\n",
    "\n",
    "# ---------- Describe computed properties------------------\n",
    "compute msdall all msd\n",
    "thermo_style custom step pe ke etotal temp press density c_msdall[4]\n",
    "thermo $TOUTPUT\n",
    "\n",
    "# ---------- Specify ensemble  ---------------------\n",
    "fix  1 all nve\n",
    "#fix  1 all nvt temp $TEMPERATURE $TEMPERATURE $TDAMP\n",
    "\n",
    "# --------- Compute RDF ---------------\n",
    "compute rdfall all rdf 100 1 1\n",
    "fix 2 all ave/time 1 $RDFFRAME $RDFFRAME c_rdfall[*] file $RDFFILE mode vector\n",
    "\n",
    "# --------- Run -------------\n",
    "timestep $TIMESTEP\n",
    "run $NSTEPS\n",
    "\"\"\""
   ]
  },
  {
   "cell_type": "markdown",
   "metadata": {},
   "source": [
    "## Build Structures"
   ]
  },
  {
   "cell_type": "code",
   "execution_count": 205,
   "metadata": {},
   "outputs": [],
   "source": [
    "def make_bulk_w_vacancy(alat, size, el = 'Pd', lattice = 'fcc'):\n",
    "    \"\"\"\n",
    "    Creates the bulk crystal structure using ASE with a vacancy\n",
    "    \n",
    "    :param alat: lattice parameter\n",
    "    :return: structure object converted from ase\n",
    "    \"\"\"\n",
    "    \n",
    "    # create bulk cell\n",
    "    cell = bulk(el, lattice, a=alat)\n",
    "    \n",
    "    # make supercell\n",
    "    multiplier = numpy.identity(3) * size\n",
    "    supercell = make_supercell(cell, multiplier)\n",
    "    \n",
    "    # remove atom to form vacancy\n",
    "    supercell.pop(supercell.get_number_of_atoms() // 2)\n",
    "\n",
    "    n_atoms = supercell.get_number_of_atoms()\n",
    "    structure = Struc(ase2struc(supercell))\n",
    "    \n",
    "    return structure, n_atoms"
   ]
  },
  {
   "cell_type": "code",
   "execution_count": 206,
   "metadata": {},
   "outputs": [],
   "source": [
    "def make_slab_with_adatom(el, alat, width, depth, vacuum):\n",
    "    \"\"\"\n",
    "    Creates the slab crystal structure using ASE.\n",
    "    \n",
    "    :param width: width of slab\n",
    "    :param depth: depth of slab\n",
    "    :param vacuum: vacuum in Angstrom\n",
    "    :return: structure object converted from ase\n",
    "    \"\"\"\n",
    "    # create surface slab\n",
    "    slab = fcc111(el, a=alat, size=(width, width, depth))\n",
    "\n",
    "    # add adatom - supported special adsorption sites for fcc111: 'ontop', 'bridge', 'fcc' and 'hcp'\n",
    "    add_adsorbate(slab, el, 1.5, 'ontop')\n",
    "\n",
    "    # center along z-axis\n",
    "    slab.center(vacuum=vacuum, axis=2)\n",
    "\n",
    "    n_atoms = slab.get_number_of_atoms()\n",
    "    structure = Struc(ase2struc(slab))\n",
    "\n",
    "    return structure, n_atoms"
   ]
  },
  {
   "cell_type": "code",
   "execution_count": 207,
   "metadata": {},
   "outputs": [],
   "source": [
    "def make_bare_slab(el, alat, width, depth, vacuum):\n",
    "    \"\"\"\n",
    "    Creates the slab crystal structure using ASE.\n",
    "    \n",
    "    :param width: width of slab\n",
    "    :param depth: depth of slab\n",
    "    :param vacuum: vacuum in Angstrom\n",
    "    :return: structure object converted from ase\n",
    "    \"\"\"\n",
    "    # create surface slab\n",
    "    slab = fcc111(el, a=alat, size=(width, width, depth))\n",
    "\n",
    "    n_atoms = slab.get_number_of_atoms()\n",
    "    structure = Struc(ase2struc(slab))\n",
    "\n",
    "    return structure, n_atoms"
   ]
  },
  {
   "cell_type": "markdown",
   "metadata": {},
   "source": [
    "## Run Things"
   ]
  },
  {
   "cell_type": "code",
   "execution_count": 249,
   "metadata": {},
   "outputs": [],
   "source": [
    "def compute_energy_bulk(el, alat, template):\n",
    "    \"\"\"\n",
    "    Make an input template and select potential and structure, and the path where to run\n",
    "    \"\"\"\n",
    "    potpath = os.path.join(os.environ['LAMMPS_POTENTIALS'], el + '_u3.eam')\n",
    "    potential = ClassicalPotential(path=potpath, ptype='eam', element=[el])\n",
    "    runpath = Dir(path=os.path.join(workdir, os.path.join('runs')))\n",
    "    struc, n_atoms = make_bulk(alat = alat, size = 2, el = el, lattice = 'fcc')\n",
    "    output_file = lammps_run(struc=struc, runpath=runpath, potential=potential, intemplate=template, inparam={})\n",
    "    energy, lattice = get_lammps_energy(outfile=output_file)\n",
    "    return energy, lattice"
   ]
  },
  {
   "cell_type": "code",
   "execution_count": 209,
   "metadata": {},
   "outputs": [],
   "source": [
    "def compute_energy_slab(el, alat, width, depth, vacuum, template, cnt):\n",
    "    \"\"\"\n",
    "    Make an input template and select potential and structure, and the path where to run\n",
    "    \"\"\"\n",
    "    potpath = os.path.join(os.environ['LAMMPS_POTENTIALS'], el + '_u3.eam')\n",
    "    potential = ClassicalPotential(path=potpath, ptype='eam', element=[el])\n",
    "    runpath = Dir(path=os.path.join(workdir, os.path.join('runs', str(cnt))))\n",
    "    struc, n_atoms = make_slab(el = el, alat=alat, width=width, depth=depth, vacuum=vacuum)\n",
    "    output_file = lammps_run(struc=struc, runpath=runpath, potential=potential, intemplate=template, inparam={})\n",
    "    energy, lattice = get_lammps_energy(outfile=output_file)\n",
    "\n",
    "    # normalize energy\n",
    "    energy = energy / n_atoms\n",
    "\n",
    "    return energy, lattice"
   ]
  },
  {
   "cell_type": "code",
   "execution_count": 188,
   "metadata": {},
   "outputs": [],
   "source": [
    "def converge_slab(el, alat):\n",
    "    width_arr = np.linspace(1, width_max)\n",
    "    depth_arr = np.linspace(1, depth_max)\n",
    "    vacuum_arr = np.linspace(1, vacuum_max)\n",
    "\n",
    "    e_w_list = []\n",
    "    e_d_list = []\n",
    "    e_v_list = []\n",
    "\n",
    "    # converge width\n",
    "    cnt = 0\n",
    "    for width in width_arr:\n",
    "        e_w_list.append(compute_energy(el = el, alat = alat, width=int(width), depth=int(depth_def), vacuum=int(vacuum_def),\n",
    "                                       template=input_template_conv, cnt=cnt)[0])\n",
    "        cnt += 1\n",
    "\n",
    "    # converge depth\n",
    "    for depth in depth_arr:\n",
    "        e_d_list.append(compute_energy(el = el, alat = alat, width=int(width_def), depth=int(depth), vacuum=int(vacuum_def),\n",
    "                                       template=input_template_conv, cnt=cnt)[0])\n",
    "        cnt += 1\n",
    "\n",
    "    # converge vacuum\n",
    "    for vacuum in vacuum_arr:\n",
    "        e_v_list.append(compute_energy(el = el, alat = alat, width=int(width_def), depth=int(depth_def), vacuum=int(vacuum),\n",
    "                                       template=input_template_conv, cnt=cnt)[0])\n",
    "        cnt += 1\n",
    "\n",
    "    # convergence plots\n",
    "    plt.figure(figsize = (12, 10))\n",
    "    plt.subplot(311)\n",
    "    plt.plot(width_arr, e_w_list)\n",
    "    plt.title('E(width)')\n",
    "    plt.subplot(312)\n",
    "    plt.plot(depth_arr, e_d_list)\n",
    "    plt.title('E(depth)')\n",
    "    plt.subplot(313)\n",
    "    plt.plot(vacuum_arr, e_v_list)\n",
    "    plt.title('E(vacuum)')\n",
    "    plt.show()\n",
    "\n",
    "    return"
   ]
  },
  {
   "cell_type": "code",
   "execution_count": 189,
   "metadata": {},
   "outputs": [],
   "source": [
    "def compute_dynamics(struc_type, el, alat, timestep, nsteps, temperature, width, depth, vacuum):\n",
    "    \"\"\"\n",
    "    Make an input template and select potential and structure, and input parameters.\n",
    "    Return a pair of output file and RDF file written to the runpath directory.\n",
    "    \"\"\"\n",
    "    potpath = os.path.join(os.environ['LAMMPS_POTENTIALS'], el + '_u3.eam')\n",
    "    potential = ClassicalPotential(path=potpath, ptype='eam', element=[el])\n",
    "    runpath = Dir(path=workdir)\n",
    "    \n",
    "    if struc_type=='slab': \n",
    "        struc, n_atoms = make_slab(el=el, alat=alat, width=width, depth=depth, vacuum=vacuum)\n",
    "    elif struc_type=='bulk_vacancy': \n",
    "        print(\"Bulk vacancy\")\n",
    "        struc, n_atoms = make_bulk_w_vacancy(el=el, alat=alat, size=3, lattice='fcc')\n",
    "        \n",
    "    inparam = {\n",
    "        'TEMPERATURE': temperature,\n",
    "        'NSTEPS': nsteps,\n",
    "        'TIMESTEP': timestep,\n",
    "        'TOUTPUT': 100,  # how often to write thermo output\n",
    "        'TDAMP': 50 * timestep,  # thermostat damping time scale\n",
    "        'RDFFRAME': int(nsteps / 4),  # frames for radial distribution function\n",
    "    }\n",
    "\n",
    "    outfile = lammps_run(struc=struc, runpath=runpath, potential=potential,\n",
    "                         intemplate=input_template_run, inparam=inparam)\n",
    "\n",
    "    output = parse_lammps_thermo(outfile=outfile)\n",
    "    rdffile = get_rdf(runpath=runpath)\n",
    "    rdfs = parse_lammps_rdf(rdffile=rdffile)\n",
    "\n",
    "    return output, rdfs"
   ]
  },
  {
   "cell_type": "code",
   "execution_count": 190,
   "metadata": {},
   "outputs": [],
   "source": [
    "def md_run(el, alat, nsteps, temperature, width, depth, vacuum, struc_type):\n",
    "    \"\"\" Run MD, plot results \"\"\"\n",
    "\n",
    "    # run md\n",
    "    output, rdfs = compute_dynamics(struc_type=struc_type, el=el, alat=alat, timestep=0.001, nsteps=nsteps, \n",
    "                                    temperature=temperature, width=width, depth=depth, vacuum=vacuum)\n",
    "\n",
    "    # collect results\n",
    "    [simtime, pe, ke, energy, temp, press, dens, msd] = output\n",
    "\n",
    "    ## ------- plot mean square displacement\n",
    "    plt.figure(figsize = (12, 10))\n",
    "    plt.plot(simtime, msd)\n",
    "    plt.title('MSD vs. simtime')\n",
    "    plt.savefig('msd.png')\n",
    "    plt.show()\n",
    "\n",
    "#     ## ------- plot radial distribution functions\n",
    "#     for rdf in rdfs:\n",
    "#         plt.plot(rdf[0], rdf[1])\n",
    "\n",
    "#     plt.savefig('rdf.png')\n",
    "#     plt.show()"
   ]
  },
  {
   "cell_type": "markdown",
   "metadata": {},
   "source": [
    "# 1. Adatom Pd on Pd"
   ]
  },
  {
   "cell_type": "code",
   "execution_count": 194,
   "metadata": {},
   "outputs": [],
   "source": [
    "el = 'Pd'\n",
    "alat_start = 4.0\n",
    "potpath = os.path.join(os.environ['LAMMPS_POTENTIALS'], el + '_u3.eam')\n",
    "potential = ClassicalPotential(path=potpath, ptype='eam', element=[el])"
   ]
  },
  {
   "cell_type": "markdown",
   "metadata": {},
   "source": [
    "## Build Bulk and relax to find equilibrium lattice parameter"
   ]
  },
  {
   "cell_type": "code",
   "execution_count": 195,
   "metadata": {},
   "outputs": [
    {
     "name": "stdout",
     "output_type": "stream",
     "text": [
      "4\n",
      "Relaxed bulk energy/atom: -3.910000000150325\n",
      "Relaxed lattice parameter: 3.8900000298\n"
     ]
    }
   ],
   "source": [
    "# create bulk cell\n",
    "cell = crystal('Pd', [(0, 0, 0)], spacegroup=225, cellpar=[alat_start, alat_start, alat_start, 90, 90, 90])\n",
    "\n",
    "# make supercell\n",
    "n_atoms = cell.get_number_of_atoms()\n",
    "structure = Struc(ase2struc(cell))\n",
    "\n",
    "runpath = Dir(path=os.path.join(workdir, os.path.join('runs/bulk')))\n",
    "file_prefix = 'bulk_relax_' + str(alat_start) \n",
    "write(file_prefix + '.cif', cell, format='cif')\n",
    "\n",
    "# run \n",
    "output_file = lammps_run(struc=structure, runpath=runpath, potential=potential, intemplate=input_template_relax, inparam={})\n",
    "energy, alat = get_lammps_energy(outfile=output_file)\n",
    "\n",
    "print(n_atoms)\n",
    "print(\"Relaxed bulk energy/atom: {}\".format(energy/n_atoms))\n",
    "print(\"Relaxed lattice parameter: {0:.10f}\".format(lattice))"
   ]
  },
  {
   "cell_type": "markdown",
   "metadata": {},
   "source": [
    "## Build Slab using the found alat and converge width, depth, and vacuum"
   ]
  },
  {
   "cell_type": "code",
   "execution_count": 204,
   "metadata": {},
   "outputs": [
    {
     "data": {
      "image/png": "[encoded data removed]",
      "text/plain": [
       "<Figure size 864x720 with 3 Axes>"
      ]
     },
     "metadata": {},
     "output_type": "display_data"
    }
   ],
   "source": [
    "# defaults used for converging other params\n",
    "width_def = 5\n",
    "depth_def = 5\n",
    "vacuum_def = 10\n",
    "\n",
    "# maxima for convergence\n",
    "width_max = 30\n",
    "depth_max = 30\n",
    "vacuum_max = 10\n",
    "\n",
    "converge_slab(el=el, alat = alat)"
   ]
  },
  {
   "cell_type": "markdown",
   "metadata": {},
   "source": [
    "## Relax top two layers of converged slab configuration"
   ]
  },
  {
   "cell_type": "code",
   "execution_count": 221,
   "metadata": {},
   "outputs": [],
   "source": [
    "width = 10\n",
    "depth = 10\n",
    "vacuum = 10\n",
    "\n",
    "# number of top layers to relax, i.e. to NOT freeze\n",
    "n_fix = 2"
   ]
  },
  {
   "cell_type": "code",
   "execution_count": 245,
   "metadata": {},
   "outputs": [],
   "source": [
    "# create surface slab\n",
    "slab = fcc111(el, a=alat, size=(width, width, depth))\n",
    "\n",
    "# freeze all layers other than top n layers layer\n",
    "mask = [atom.tag > n_fix for atom in slab]\n",
    "slab.set_constraint(FixAtoms(mask=mask))\n",
    "n_atoms = slab.get_number_of_atoms()\n",
    "\n",
    "# center along z-axis\n",
    "slab.center(vacuum=vacuum, axis=2)\n",
    "\n",
    "structure = Struc(ase2struc(slab))"
   ]
  },
  {
   "cell_type": "markdown",
   "metadata": {},
   "source": [
    "## From here on out still in debug mode"
   ]
  },
  {
   "cell_type": "code",
   "execution_count": 246,
   "metadata": {},
   "outputs": [
    {
     "name": "stdout",
     "output_type": "stream",
     "text": [
      "Relaxed slab energy/atom: -3.8114973440712503\n",
      "Relaxed lattice parameter: 27.3713301433\n"
     ]
    }
   ],
   "source": [
    "runpath = Dir(path=os.path.join(workdir, os.path.join('runs/slab')))\n",
    "output_file = lammps_run(struc=structure, runpath=runpath, potential=potential, intemplate=input_template_relax , inparam={})\n",
    "energy, lattice = get_lammps_energy(outfile=output_file)\n",
    "\n",
    "print(\"Relaxed slab energy/atom: {}\".format(energy/n_atoms))\n",
    "print(\"Relaxed lattice parameter: {0:.10f}\".format(lattice))\n",
    "\n",
    "# view slab\n",
    "view(slab)"
   ]
  },
  {
   "cell_type": "markdown",
   "metadata": {},
   "source": [
    "## Run MD for surface adatom"
   ]
  },
  {
   "cell_type": "code",
   "execution_count": 253,
   "metadata": {},
   "outputs": [],
   "source": [
    "# add adatom - supported special adsorption sites for fcc111: 'ontop', 'bridge', 'fcc' and 'hcp'\n",
    "add_adsorbate(slab, el, 1.5, 'ontop')\n",
    "\n",
    "# center along z-axis\n",
    "slab.center(vacuum=vacuum, axis=2)\n",
    "\n",
    "# MD params\n",
    "nsteps = 10000\n",
    "temperature = 900"
   ]
  },
  {
   "cell_type": "code",
   "execution_count": null,
   "metadata": {},
   "outputs": [
    {
     "name": "stdout",
     "output_type": "stream",
     "text": [
      "[['0' '100' '200' '300' '400' '500' '600' '700' '800' '900' '1000' '1100'\n",
      "  '1200' '1300' '1400' '1500' '1600' '1700' '1800' '1900' '2000' '2100'\n",
      "  '2200' '2300' '2400' '2500' '2600' '2700' '2800' '2900' '3000' '3100'\n",
      "  '3200' '3300' '3400' '3500' '3600' '3700' '3800' '3900' '4000' '4100'\n",
      "  '4200' '4300' '4400' '4500' '4600' '4700' '4800' '4900' '5000' '5100'\n",
      "  '5200' '5300' '5400' '5500' '5600' '5700' '5800' '5900' '6000' '6100'\n",
      "  '6200' '6300' '6400' '6500' '6600' '6700' '6800' '6900' '7000' '7100'\n",
      "  '7200' '7300' '7400' '7500' '7600' '7700' '7800' '7900' '8000' '8100'\n",
      "  '8200' '8300' '8400' '8500' '8600' '8700' '8800' '8900' '9000' '9100'\n",
      "  '9200' '9300' '9400' '9500' '9600' '9700' '9800' '9900' '10000']\n",
      " ['-2747.3563' '-2909.0272' '-3014.7593' '-3066.2771' '-3104.2998'\n",
      "  '-3123.2259' '-3138.8204' '-3131.0399' '-3147.7082' '-3139.3407'\n",
      "  '-3117.5308' '-3082.5026' '-3037.6697' '-3018.5857' '-3011.9502'\n",
      "  '-3004.421' '-3019.5112' '-3019.1924' '-3039.6231' '-3054.1137'\n",
      "  '-3057.2605' '-3073.4148' '-3079.6843' '-3073.5228' '-3077.5843'\n",
      "  '-3091.2855' '-3074.5357' '-3079.4385' '-3085.7978' '-3071.4038'\n",
      "  '-3078.9876' '-3072.6053' '-3071.8686' '-3071.2703' '-3067.8205'\n",
      "  '-3064.5919' '-3070.6391' '-3071.5441' '-3066.6554' '-3078.4833'\n",
      "  '-3072.8858' '-3072.855' '-3084.7745' '-3085.4911' '-3074.9906'\n",
      "  '-3077.3097' '-3071.1326' '-3071.1864' '-3073.315' '-3073.1103'\n",
      "  '-3075.2449' '-3075.9773' '-3072.388' '-3077.8205' '-3078.055'\n",
      "  '-3071.4349' '-3074.5303' '-3086.5211' '-3081.384' '-3066.3138'\n",
      "  '-3076.171' '-3075.3093' '-3085.0779' '-3054.0447' '-3070.9359'\n",
      "  '-3065.7259' '-3063.9726' '-3068.9718' '-3066.5929' '-3071.8415'\n",
      "  '-3055.3216' '-3071.6349' '-3080.6035' '-3078.4469' '-3074.1072'\n",
      "  '-3069.618' '-3069.4334' '-3080.437' '-3084.0072' '-3073.0006'\n",
      "  '-3070.2437' '-3066.9297' '-3069.9254' '-3071.4663' '-3056.4756'\n",
      "  '-3073.8644' '-3065.5494' '-3062.5465' '-3089.4176' '-3067.5383'\n",
      "  '-3069.6694' '-3097.9034' '-3065.0009' '-3075.3011' '-3074.6005'\n",
      "  '-3075.7646' '-3072.107' '-3078.3484' '-3066.7824' '-3064.4479'\n",
      "  '-3062.5674']\n",
      " ['116.33413' '277.98096' '383.71252' '435.22724' '473.24788' '492.17005'\n",
      "  '507.75799' '499.97758' '516.64529' '508.28348' '486.47637' '451.4496'\n",
      "  '406.62082' '387.53586' '380.90034' '373.37445' '388.46212' '388.13965'\n",
      "  '408.56878' '423.05806' '426.20188' '442.35619' '448.6248' '442.46468'\n",
      "  '446.5243' '460.22432' '443.475' '448.38016' '454.73773' '440.3419'\n",
      "  '447.92616' '441.54679' '440.8104' '440.21048' '436.76116' '433.53129'\n",
      "  '439.58193' '440.48224' '435.59768' '447.42277' '441.82731' '441.79876'\n",
      "  '453.71444' '454.43142' '443.93026' '446.25062' '440.07381' '440.12822'\n",
      "  '442.25533' '442.05278' '444.18905' '444.92028' '441.32913' '446.76221'\n",
      "  '446.99651' '440.37822' '443.4744' '455.45763' '450.31946' '435.25307'\n",
      "  '445.10987' '444.24717' '454.01189' '422.98625' '439.87373' '434.66682'\n",
      "  '432.913' '437.91511' '435.53555' '440.783' '424.26691' '440.57946'\n",
      "  '449.5456' '447.38593' '443.0514' '438.56321' '438.37554' '449.38032'\n",
      "  '452.94955' '441.94235' '439.18797' '435.87514' '438.87421' '440.41139'\n",
      "  '425.42281' '442.81271' '434.49503' '431.49341' '458.36259' '436.48473'\n",
      "  '438.61518' '466.84826' '433.95126' '444.25029' '443.54851' '444.71196'\n",
      "  '441.05256' '447.29818' '435.73029' '433.39743' '431.51644']\n",
      " ['-2631.0222' '-2631.0462' '-2631.0468' '-2631.0499' '-2631.052'\n",
      "  '-2631.0559' '-2631.0624' '-2631.0623' '-2631.0629' '-2631.0572'\n",
      "  '-2631.0544' '-2631.053' '-2631.0489' '-2631.0498' '-2631.0499'\n",
      "  '-2631.0465' '-2631.049' '-2631.0528' '-2631.0543' '-2631.0557'\n",
      "  '-2631.0586' '-2631.0586' '-2631.0595' '-2631.0581' '-2631.06'\n",
      "  '-2631.0612' '-2631.0607' '-2631.0584' '-2631.0601' '-2631.0619'\n",
      "  '-2631.0615' '-2631.0585' '-2631.0582' '-2631.0598' '-2631.0593'\n",
      "  '-2631.0606' '-2631.0572' '-2631.0618' '-2631.0577' '-2631.0605'\n",
      "  '-2631.0585' '-2631.0562' '-2631.06' '-2631.0596' '-2631.0604'\n",
      "  '-2631.0591' '-2631.0588' '-2631.0582' '-2631.0596' '-2631.0575'\n",
      "  '-2631.0559' '-2631.0571' '-2631.0589' '-2631.0583' '-2631.0584'\n",
      "  '-2631.0567' '-2631.0559' '-2631.0634' '-2631.0645' '-2631.0607'\n",
      "  '-2631.0612' '-2631.0622' '-2631.066' '-2631.0585' '-2631.0622'\n",
      "  '-2631.0591' '-2631.0596' '-2631.0567' '-2631.0574' '-2631.0585'\n",
      "  '-2631.0547' '-2631.0554' '-2631.0579' '-2631.061' '-2631.0558'\n",
      "  '-2631.0548' '-2631.0579' '-2631.0566' '-2631.0577' '-2631.0582'\n",
      "  '-2631.0558' '-2631.0546' '-2631.0512' '-2631.0549' '-2631.0527'\n",
      "  '-2631.0516' '-2631.0543' '-2631.053' '-2631.055' '-2631.0535'\n",
      "  '-2631.0542' '-2631.0552' '-2631.0496' '-2631.0508' '-2631.052'\n",
      "  '-2631.0527' '-2631.0544' '-2631.0502' '-2631.0521' '-2631.0505'\n",
      "  '-2631.051']\n",
      " ['900' '2150.5543' '2968.5292' '3367.0644' '3661.2049' '3807.5932'\n",
      "  '3928.1868' '3867.9948' '3996.9419' '3932.2521' '3763.545' '3492.5661'\n",
      "  '3145.7556' '2998.1079' '2946.7733' '2888.5505' '3005.2737' '3002.779'\n",
      "  '3160.8257' '3272.9196' '3297.2413' '3422.2164' '3470.7125' '3423.0557'\n",
      "  '3454.4623' '3560.4503' '3430.8719' '3468.8199' '3518.0041' '3406.6332'\n",
      "  '3465.3076' '3415.9546' '3410.2577' '3405.6165' '3378.9314' '3353.944'\n",
      "  '3400.7538' '3407.7189' '3369.9303' '3461.4132' '3418.1248' '3417.9039'\n",
      "  '3510.0877' '3515.6345' '3434.3939' '3452.345' '3404.5592' '3404.9801'\n",
      "  '3421.4361' '3419.8692' '3436.3961' '3442.0531' '3414.2707' '3456.3029'\n",
      "  '3458.1155' '3406.9142' '3430.8672' '3523.5736' '3483.8229' '3367.2643'\n",
      "  '3443.5198' '3436.8457' '3512.3888' '3272.3641' '3403.0112' '3362.7289'\n",
      "  '3349.1607' '3387.8587' '3369.4496' '3410.0457' '3282.2717' '3408.471'\n",
      "  '3477.8361' '3461.1282' '3427.5948' '3392.8726' '3391.4208' '3476.5574'\n",
      "  '3504.1702' '3419.0148' '3397.706' '3372.0769' '3395.2786' '3407.1708'\n",
      "  '3291.2141' '3425.7482' '3361.3998' '3338.1783' '3546.0473' '3376.7928'\n",
      "  '3393.2747' '3611.6953' '3357.193' '3436.8698' '3431.4406' '3440.4415'\n",
      "  '3412.1311' '3460.4493' '3370.9562' '3352.9084' '3338.3564']\n",
      " ['-138082.19' '-71362.171' '-18633.41' '-7757.3127' '1595.1305'\n",
      "  '18928.855' '34687.169' '46881.072' '37285.218' '19721.799' '672.06381'\n",
      "  '-13096.429' '-18479.212' '-20328.814' '-20032.456' '-15510.283'\n",
      "  '-15488.924' '-12789.793' '-8055.8046' '-7863.8858' '-5739.4558'\n",
      "  '-4285.9204' '2771.6222' '3955.7457' '2572.2162' '2295.3802'\n",
      "  '4776.2599' '3249.2069' '-1187.4451' '4356.8342' '566.73775'\n",
      "  '-3918.6571' '-4285.5361' '-6825.1304' '-5043.0688' '-4881.9379'\n",
      "  '-4750.0971' '-3749.284' '-2816.7911' '-2421.1694' '191.44114'\n",
      "  '902.97021' '-2595.9936' '-2828.8431' '-3027.3961' '-2414.8408'\n",
      "  '-6485.8479' '-3923.9038' '-2929.195' '-4798.9034' '-4535.3795'\n",
      "  '-3768.2626' '-883.98762' '-606.63147' '-2288.5987' '2100.8319'\n",
      "  '3229.0916' '3009.9123' '761.32666' '868.28735' '-2630.2637' '-2798.83'\n",
      "  '-4527.8579' '-3542.7713' '-5075.2712' '-1865.0631' '-1740.6965'\n",
      "  '-4649.981' '-1881.8827' '-4927.6727' '-1486.3213' '-3736.9102'\n",
      "  '-2782.4085' '-2148.9873' '-499.64003' '3557.5298' '-759.9042'\n",
      "  '-531.78219' '-160.9422' '1231.6144' '-1996.5328' '-3409.9001'\n",
      "  '-2418.4705' '-2608.3098' '-292.43976' '-3688.1645' '-965.05732'\n",
      "  '-1043.6792' '-4695.5624' '-1553.0735' '1235.1898' '-2547.2839'\n",
      "  '4340.9627' '-1804.6085' '-2985.3534' '-2018.3349' '-2150.3326'\n",
      "  '-3048.9424' '-627.83528' '-782.51028' '-2657.6082']\n",
      " ['4.4938675' '4.4938675' '4.4938675' '4.4938675' '4.4938675' '4.4938675'\n",
      "  '4.4938675' '4.4938675' '4.4938675' '4.4938675' '4.4938675' '4.4938675'\n",
      "  '4.4938675' '4.4938675' '4.4938675' '4.4938675' '4.4938675' '4.4938675'\n",
      "  '4.4938675' '4.4938675' '4.4938675' '4.4938675' '4.4938675' '4.4938675'\n",
      "  '4.4938675' '4.4938675' '4.4938675' '4.4938675' '4.4938675' '4.4938675'\n",
      "  '4.4938675' '4.4938675' '4.4938675' '4.4938675' '4.4938675' '4.4938675'\n",
      "  '4.4938675' '4.4938675' '4.4938675' '4.4938675' '4.4938675' '4.4938675'\n",
      "  '4.4938675' '4.4938675' '4.4938675' '4.4938675' '4.4938675' '4.4938675'\n",
      "  '4.4938675' '4.4938675' '4.4938675' '4.4938675' '4.4938675' '4.4938675'\n",
      "  '4.4938675' '4.4938675' '4.4938675' '4.4938675' '4.4938675' '4.4938675'\n",
      "  '4.4938675' '4.4938675' '4.4938675' '4.4938675' '4.4938675' '4.4938675'\n",
      "  '4.4938675' '4.4938675' '4.4938675' '4.4938675' '4.4938675' '4.4938675'\n",
      "  '4.4938675' '4.4938675' '4.4938675' '4.4938675' '4.4938675' '4.4938675'\n",
      "  '4.4938675' '4.4938675' '4.4938675' '4.4938675' '4.4938675' '4.4938675'\n",
      "  '4.4938675' '4.4938675' '4.4938675' '4.4938675' '4.4938675' '4.4938675'\n",
      "  '4.4938675' '4.4938675' '4.4938675' '4.4938675' '4.4938675' '4.4938675'\n",
      "  '4.4938675' '4.4938675' '4.4938675' '4.4938675' '4.4938675']\n",
      " ['0' '0.32160018' '1.121568' '2.2545003' '3.821677' '5.7502171'\n",
      "  '7.7386861' '9.2707226' '10.122314' '10.470353' '10.613523' '11.090004'\n",
      "  '11.998685' '13.080008' '14.383471' '15.582424' '16.874452' '18.295559'\n",
      "  '19.60588' '21.028484' '22.493665' '23.99485' '25.500879' '26.976648'\n",
      "  '28.250226' '29.613673' '31.096777' '32.460884' '33.7389' '34.607488'\n",
      "  '35.786149' '36.900671' '37.913618' '39.037711' '40.518974' '41.81425'\n",
      "  '42.747684' '43.958616' '45.07693' '46.490979' '47.685881' '48.532693'\n",
      "  '49.813938' '50.758305' '51.769906' '52.697207' '54.053456' '55.324658'\n",
      "  '56.54524' '57.901233' '59.190861' '60.53275' '61.737128' '62.885119'\n",
      "  '64.111491' '65.45686' '66.986682' '68.09221' '68.847841' '69.842758'\n",
      "  '70.94951' '71.91101' '72.756573' '73.846202' '75.023037' '75.814884'\n",
      "  '76.657914' '77.740991' '78.74436' '79.856831' '80.564422' '81.691373'\n",
      "  '83.432274' '84.806461' '85.478532' '86.716388' '87.920264' '89.222459'\n",
      "  '90.714895' '92.051479' '93.260911' '94.354332' '95.279455' '96.504074'\n",
      "  '98.041974' '99.09128' '100.00225' '101.07417' '102.29539' '103.44724'\n",
      "  '105.03409' '106.13957' '107.24485' '108.63386' '110.04474' '111.11043'\n",
      "  '112.33161' '113.48765' '114.89349' '116.18959' '117.50513']]\n"
     ]
    },
    {
     "data": {
      "image/png": "[encoded data removed]",
      "text/plain": [
       "<Figure size 864x720 with 1 Axes>"
      ]
     },
     "metadata": {},
     "output_type": "display_data"
    }
   ],
   "source": [
    "md_run(el, alat, nsteps, temperature, width, depth, vacuum, struc_type='slab')"
   ]
  }
 ],
 "metadata": {
  "kernelspec": {
   "display_name": "Python 3",
   "language": "python",
   "name": "python3"
  },
  "language_info": {
   "codemirror_mode": {
    "name": "ipython",
    "version": 3
   },
   "file_extension": ".py",
   "mimetype": "text/x-python",
   "name": "python",
   "nbconvert_exporter": "python",
   "pygments_lexer": "ipython3",
   "version": "3.5.5"
  }
 },
 "nbformat": 4,
 "nbformat_minor": 2
}
