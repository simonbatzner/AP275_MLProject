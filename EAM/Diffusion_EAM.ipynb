{
 "cells": [
  {
   "cell_type": "markdown",
   "metadata": {},
   "source": [
    "<h1><center> Surface adatom diffusion and bulk vacancy using an EAM Potential</center></h1>\n",
    "\n",
    "References: \n",
    "  [1] AP275 Labs, Boris Kozinsky (Harvard U), https://github.com/bkoz37/labutil\n",
    "  \n",
    "Simon Batzner    "
   ]
  },
  {
   "cell_type": "markdown",
   "metadata": {},
   "source": [
    "## Params\n",
    "\n",
    "You will need to set the same environment variables as used in the labs: \n",
    "\n",
    "    1. LAMMPS_COMMAND=<path-to-lammps-executable>\n",
    "    2. LAMMPS_POTENTIALS=<path-to-dir-with-lammps-potential-files>\n",
    "    \n",
    "As well as your current working directory:"
   ]
  },
  {
   "cell_type": "code",
   "execution_count": 2,
   "metadata": {},
   "outputs": [],
   "source": [
    "import os\n",
    "workdir = '/home/sbatzner/ML-electron-density/EAM'"
   ]
  },
  {
   "cell_type": "markdown",
   "metadata": {},
   "source": [
    "Also note that you can set whether you're runnning this notebook remotely or local - in case it's run remotely, the lammps mpi command will be run with -np 32"
   ]
  },
  {
   "cell_type": "code",
   "execution_count": 3,
   "metadata": {},
   "outputs": [],
   "source": [
    "# running on local or remote \n",
    "remote = True"
   ]
  },
  {
   "cell_type": "code",
   "execution_count": 4,
   "metadata": {},
   "outputs": [
    {
     "name": "stdout",
     "output_type": "stream",
     "text": [
      "\n",
      "working directory: /home/sbatzner/ML-electron-density/EAM\n",
      "lammps executable: /home/sbatzner/lammps-16Mar18/src/lmp_mpi\n",
      "lammps potentials: /home/sbatzner/lammps-16Mar18/potentials\n",
      "\n"
     ]
    }
   ],
   "source": [
    "print(\"\\nworking directory: {}\".format(workdir))\n",
    "print(\"lammps executable: {}\".format(os.environ['LAMMPS_COMMAND']))\n",
    "print(\"lammps potentials: {}\\n\".format(os.environ['LAMMPS_POTENTIALS']))"
   ]
  },
  {
   "cell_type": "markdown",
   "metadata": {},
   "source": [
    "## Notes\n",
    "    \n",
    "    1. Adataom diffusion: \n",
    "    \n",
    "    - bulk is created, relaxed with eam potential, and alat is extracted\n",
    "    - that alat is then used to create a fcc111 surface slab\n",
    "    - the bottom n-2 layers of that slab are frozen while the top 2 layers are relaxed\n",
    "    - finally, an adatom is added 2 angstrom above the top layer and MD is run in either an NVE or NVT setting; the MSD of the adatom is recorded to track diffusion\n",
    "      \n",
    "    2. Bulk vacancy: \n",
    "    \n",
    "    - perfect cell is createad, relaxed with eam potential, alat is extracted\n",
    "    - atom in the middle of the structure is removed via pop(), structure is relaxed w/o allowing the lattice \n",
    "      param to vary\n",
    "    - md is run"
   ]
  },
  {
   "cell_type": "code",
   "execution_count": 5,
   "metadata": {},
   "outputs": [],
   "source": [
    "import numpy as np\n",
    "import matplotlib.pyplot as plt\n",
    "\n",
    "from src.plugins.lammps import *\n",
    "from src.objects import *\n",
    "from ase.build import *\n",
    "from ase.io import read, write\n",
    "from ase.spacegroup import crystal\n",
    "from ase.constraints import FixAtoms\n",
    "from ase.visualize import view"
   ]
  },
  {
   "cell_type": "code",
   "execution_count": 6,
   "metadata": {},
   "outputs": [],
   "source": [
    "# whether to write .cif file and qe input file with structure data when creating systems\n",
    "write_cif = False\n",
    "write_qe = False"
   ]
  },
  {
   "cell_type": "markdown",
   "metadata": {},
   "source": [
    "## Templates for MD run, relaxations, and single-point calculations"
   ]
  },
  {
   "cell_type": "code",
   "execution_count": 7,
   "metadata": {},
   "outputs": [],
   "source": [
    "# relax with allowing the unit cell to vary\n",
    "\n",
    "input_template_relax = \"\"\"\n",
    "# ---------- 1. Initialize simulation ---------------------\n",
    "units metal\n",
    "atom_style atomic\n",
    "dimension  3\n",
    "boundary   p p p\n",
    "read_data $DATAINPUT\n",
    "\n",
    "# ---------- 2. Specify interatomic potential ---------------------\n",
    "pair_style eam\n",
    "pair_coeff * * $POTENTIAL\n",
    "\n",
    "# -- include optimization of the unit cell parameter\n",
    "fix 1 all box/relax iso 0.0 vmax 0.001\n",
    "\n",
    "# -- enable optimization of atomic positions (and the cell)\n",
    "min_style cg\n",
    "minimize 1e-10 1e-10 100000 10000000\n",
    "\n",
    "\n",
    "# ---- 4. Define and print useful variables -------------\n",
    "variable natoms equal \"count(all)\"\n",
    "variable totenergy equal \"pe\"\n",
    "variable length equal \"lx\"\n",
    "\n",
    "print \"Total energy (eV) = ${totenergy}\"\n",
    "print \"Number of atoms = ${natoms}\"\n",
    "print \"Lattice constant (Angstoms) = ${length}\"\n",
    "        \"\"\""
   ]
  },
  {
   "cell_type": "code",
   "execution_count": 8,
   "metadata": {},
   "outputs": [],
   "source": [
    "# relax w/o allowing the unit cell to vary\n",
    "\n",
    "input_template_relax_wo_vc = \"\"\"\n",
    "# ---------- 1. Initialize simulation ---------------------\n",
    "units metal\n",
    "atom_style atomic\n",
    "dimension  3\n",
    "boundary   p p p\n",
    "read_data $DATAINPUT\n",
    "\n",
    "# ---------- 2. Specify interatomic potential ---------------------\n",
    "pair_style eam\n",
    "pair_coeff * * $POTENTIAL\n",
    "\n",
    "# -- enable optimization of atomic positions \n",
    "min_style cg\n",
    "minimize 1e-10 1e-10 100000 10000000\n",
    "\n",
    "# ---- 4. Define and print useful variables -------------\n",
    "variable natoms equal \"count(all)\"\n",
    "variable totenergy equal \"pe\"\n",
    "variable length equal \"lx\"\n",
    "\n",
    "write_dump all atom rel_wo_vc.out modify sort id\n",
    "\n",
    "print \"Total energy (eV) = ${totenergy}\"\n",
    "print \"Number of atoms = ${natoms}\"\n",
    "print \"Lattice constant (Angstoms) = ${length}\"\n",
    "        \"\"\""
   ]
  },
  {
   "cell_type": "code",
   "execution_count": 9,
   "metadata": {},
   "outputs": [],
   "source": [
    "# template to fix bottom layers and keep top 2 \n",
    "# TODO: parametrize this\n",
    "# TODO: include lattice param relax or not? \n",
    "\n",
    "input_template_fix2l = \"\"\"\n",
    "# ---------- 1. Initialize simulation ---------------------\n",
    "units metal\n",
    "atom_style atomic\n",
    "dimension  3\n",
    "boundary   p p p\n",
    "read_data $DATAINPUT\n",
    "\n",
    "# ---------- 2. Specify interatomic potential ---------------------\n",
    "pair_style eam\n",
    "pair_coeff * * $POTENTIAL\n",
    "\n",
    "# -- include optimization of the unit cell parameter\n",
    "fix 1 all box/relax iso 0.0 vmax 0.001\n",
    "\n",
    "# -- fix all layers except for top two layers\n",
    "group bottom id 1:25200\n",
    "group top id 25201:27000\n",
    "\n",
    "fix 2 bottom setforce 0.0 0.0 0.0\n",
    "velocity bottom set 0.0 0.0 0.0\n",
    "\n",
    "# -- enable optimization of atomic positions (and the cell)\n",
    "min_style cg\n",
    "minimize 1e-10 1e-10 100000 10000000\n",
    "\n",
    "\n",
    "# ---- 4. Define and print useful variables -------------\n",
    "variable natoms equal \"count(all)\"\n",
    "variable totenergy equal \"pe\"\n",
    "variable length equal \"lx\"\n",
    "write_dump all atom fix2l_.out modify sort id\n",
    "\n",
    "\n",
    "print \"Total energy (eV) = ${totenergy}\"\n",
    "print \"Number of atoms = ${natoms}\"\n",
    "print \"Lattice constant (Angstoms) = ${length}\"\n",
    "        \"\"\""
   ]
  },
  {
   "cell_type": "code",
   "execution_count": 10,
   "metadata": {},
   "outputs": [],
   "source": [
    "# template to fix bottom layers and keep top3\n",
    "# TODO: parametrize this\n",
    "# TODO: include lattice param relax or not? \n",
    "\n",
    "input_template_fix3l = \"\"\"\n",
    "# ---------- 1. Initialize simulation ---------------------\n",
    "units metal\n",
    "atom_style atomic\n",
    "dimension  3\n",
    "boundary   p p p\n",
    "read_data $DATAINPUT\n",
    "\n",
    "# ---------- 2. Specify interatomic potential ---------------------\n",
    "pair_style eam\n",
    "pair_coeff * * $POTENTIAL\n",
    "\n",
    "# -- include optimization of the unit cell parameter\n",
    "fix 1 all box/relax iso 0.0 vmax 0.001\n",
    "\n",
    "# -- fix all layers except for top two layers\n",
    "group bottom id 1:24300\n",
    "group top id 24301:27000\n",
    "\n",
    "fix 2 bottom setforce 0.0 0.0 0.0\n",
    "velocity bottom set 0.0 0.0 0.0\n",
    "\n",
    "# -- enable optimization of atomic positions (and the cell)\n",
    "min_style cg\n",
    "minimize 1e-10 1e-10 100000 10000000\n",
    "\n",
    "\n",
    "# ---- 4. Define and print useful variables -------------\n",
    "variable natoms equal \"count(all)\"\n",
    "variable totenergy equal \"pe\"\n",
    "variable length equal \"lx\"\n",
    "write_dump all atom fix3l_.out modify sort id\n",
    "\n",
    "\n",
    "print \"Total energy (eV) = ${totenergy}\"\n",
    "print \"Number of atoms = ${natoms}\"\n",
    "print \"Lattice constant (Angstoms) = ${length}\"\n",
    "        \"\"\""
   ]
  },
  {
   "cell_type": "code",
   "execution_count": 11,
   "metadata": {},
   "outputs": [],
   "source": [
    "# template to fix bottom layers and keep top 4\n",
    "# TODO: parametrize this\n",
    "# TODO: include lattice param relax or not? \n",
    "\n",
    "input_template_fix4l = \"\"\"\n",
    "# ---------- 1. Initialize simulation ---------------------\n",
    "units metal\n",
    "atom_style atomic\n",
    "dimension  3\n",
    "boundary   p p p\n",
    "read_data $DATAINPUT\n",
    "\n",
    "# ---------- 2. Specify interatomic potential ---------------------\n",
    "pair_style eam\n",
    "pair_coeff * * $POTENTIAL\n",
    "\n",
    "# -- include optimization of the unit cell parameter\n",
    "fix 1 all box/relax iso 0.0 vmax 0.001\n",
    "\n",
    "# -- fix all layers except for top two layers\n",
    "group bottom id 1:23400\n",
    "group top id 23401:27000\n",
    "\n",
    "fix 2 bottom setforce 0.0 0.0 0.0\n",
    "velocity bottom set 0.0 0.0 0.0\n",
    "\n",
    "# -- enable optimization of atomic positions (and the cell)\n",
    "min_style cg\n",
    "minimize 1e-10 1e-10 100000 10000000\n",
    "\n",
    "\n",
    "# ---- 4. Define and print useful variables -------------\n",
    "variable natoms equal \"count(all)\"\n",
    "variable totenergy equal \"pe\"\n",
    "variable length equal \"lx\"\n",
    "write_dump all atom fix4l_.out modify sort id\n",
    "\n",
    "\n",
    "print \"Total energy (eV) = ${totenergy}\"\n",
    "print \"Number of atoms = ${natoms}\"\n",
    "print \"Lattice constant (Angstoms) = ${length}\"\n",
    "        \"\"\""
   ]
  },
  {
   "cell_type": "code",
   "execution_count": 12,
   "metadata": {},
   "outputs": [],
   "source": [
    "# single-point calculation\n",
    "\n",
    "input_template_single_point = \"\"\"\n",
    "# ---------- 1. Initialize simulation ---------------------\n",
    "units metal\n",
    "atom_style atomic\n",
    "dimension  3\n",
    "boundary   p p p\n",
    "read_data $DATAINPUT\n",
    "\n",
    "# ---------- 2. Specify interatomic potential ---------------------\n",
    "pair_style eam\n",
    "pair_coeff * * $POTENTIAL\n",
    "\n",
    "# ---------- 3. Run single point calculation  ---------------------\n",
    "thermo_style custom step pe lx ly lz press pxx pyy pzz\n",
    "run 0\n",
    "\n",
    "# ---- 4. Define and print useful variables -------------\n",
    "variable natoms equal \"count(all)\"\n",
    "variable totenergy equal \"pe\"\n",
    "variable length equal \"lx\"\n",
    "\n",
    "print \"Total energy (eV) = ${totenergy}\"\n",
    "print \"Number of atoms = ${natoms}\"\n",
    "print \"Lattice constant (Angstoms) = ${length}\"\n",
    "        \"\"\""
   ]
  },
  {
   "cell_type": "code",
   "execution_count": 13,
   "metadata": {},
   "outputs": [],
   "source": [
    "# MD run \n",
    "\n",
    "input_template_run = \"\"\"\n",
    "# ---------- Initialize simulation ---------------------\n",
    "units metal\n",
    "atom_style atomic\n",
    "dimension  3\n",
    "boundary   p p p\n",
    "read_data $DATAINPUT\n",
    "pair_style eam\n",
    "pair_coeff * * $POTENTIAL\n",
    "velocity  all create $TEMPERATURE 87287 dist gaussian\n",
    "\n",
    "# ---------- Describe computed properties------------------\n",
    "compute msdall all msd\n",
    "thermo_style custom step pe ke etotal temp press density c_msdall[4]\n",
    "thermo $TOUTPUT\n",
    "\n",
    "# ---------- Specify ensemble  ---------------------\n",
    "#fix  1 all nve\n",
    "fix  1 all nvt temp $TEMPERATURE $TEMPERATURE $TDAMP\n",
    "\n",
    "# ---------- Dump for viz  ---------------------\n",
    "region center_r sphere 20.45 20.45 20.45 20 side in\n",
    "group center_g region center_r\n",
    "dump d1 center_g atom 100 dump_bulkvac.atom\n",
    "\n",
    "# --------- Compute RDF ---------------\n",
    "compute rdfall all rdf 100 1 1\n",
    "fix 2 all ave/time 1 $RDFFRAME $RDFFRAME c_rdfall[*] file $RDFFILE mode vector\n",
    "\n",
    "# --------- Run -------------\n",
    "timestep $TIMESTEP\n",
    "run $NSTEPS\n",
    "\"\"\""
   ]
  },
  {
   "cell_type": "code",
   "execution_count": 14,
   "metadata": {},
   "outputs": [],
   "source": [
    "# MD run with for adatom diffusion \n",
    "\n",
    "input_template_run_diff = \"\"\"\n",
    "# ---------- Initialize simulation ---------------------\n",
    "units metal\n",
    "atom_style atomic\n",
    "dimension  3\n",
    "boundary   p p p\n",
    "read_data $DATAINPUT\n",
    "pair_style eam\n",
    "pair_coeff * * $POTENTIAL\n",
    "velocity  all create $TEMPERATURE 87287 dist gaussian\n",
    "\n",
    "# ---------- set adatom ---------------------\n",
    "group adatom id 27001\n",
    "\n",
    "# ---------- Describe computed properties------------------\n",
    "compute msd_ad adatom msd\n",
    "thermo_style custom step pe ke etotal temp press density c_msd_ad[4]  \n",
    "thermo $TOUTPUT\n",
    "\n",
    "# ---------- Dump for viz  ---------------------\n",
    "region top_r sphere 41.21 35.65 87.0 50 side in\n",
    "group top_g region top_r\n",
    "dump d1 top_g atom 100 dump_ada.atom\n",
    "\n",
    "# ---------- Specify ensemble  ---------------------\n",
    "#fix  1 all nve\n",
    "fix  1 all nvt temp $TEMPERATURE $TEMPERATURE $TDAMP\n",
    "\n",
    "# --------- Compute RDF ---------------\n",
    "compute rdfall all rdf 100 1 1\n",
    "fix 2 all ave/time 1 $RDFFRAME $RDFFRAME c_rdfall[*] file $RDFFILE mode vector\n",
    "\n",
    "# --------- Run -------------\n",
    "timestep $TIMESTEP\n",
    "run $NSTEPS\n",
    "\"\"\""
   ]
  },
  {
   "cell_type": "markdown",
   "metadata": {},
   "source": [
    "## Build Structures"
   ]
  },
  {
   "cell_type": "code",
   "execution_count": 15,
   "metadata": {},
   "outputs": [],
   "source": [
    "def make_bulk(alat, size, el = 'Pd', lattice = 'fcc'):\n",
    "    \"\"\"\n",
    "    Creates the bulk crystal structure using ASE  \n",
    "    \n",
    "    :param alat: lattice parameter\n",
    "    :return: structure object converted from ase\n",
    "    \"\"\"\n",
    "    \n",
    "    # create bulk cell\n",
    "    cell = bulk(el, lattice, a=alat)\n",
    "    \n",
    "    # make supercell\n",
    "    multiplier = numpy.identity(3) * size\n",
    "    supercell = make_supercell(cell, multiplier)\n",
    "\n",
    "\n",
    "    n_atoms = supercell.get_number_of_atoms()\n",
    "    structure = Struc(ase2struc(supercell))\n",
    "    \n",
    "    return structure, n_atoms"
   ]
  },
  {
   "cell_type": "code",
   "execution_count": 16,
   "metadata": {},
   "outputs": [],
   "source": [
    "def make_bulk_w_vacancy(alat, size, el = 'Pd', lattice = 'fcc'):\n",
    "    \"\"\"\n",
    "    Creates the bulk crystal structure using ASE with a vacancy\n",
    "    \n",
    "    :param alat: lattice parameter\n",
    "    :return: structure object converted from ase\n",
    "    \"\"\"\n",
    "    \n",
    "    # create bulk cell\n",
    "    cell = bulk(el, lattice, a=alat)\n",
    "    \n",
    "    # make supercell\n",
    "    multiplier = numpy.identity(3) * size\n",
    "    supercell = make_supercell(cell, multiplier)\n",
    "    \n",
    "    # remove atom to form vacancy\n",
    "    supercell.pop(supercell.get_number_of_atoms() // 2)\n",
    "\n",
    "    n_atoms = supercell.get_number_of_atoms()\n",
    "    structure = Struc(ase2struc(supercell))\n",
    "    \n",
    "    return structure, n_atoms"
   ]
  },
  {
   "cell_type": "code",
   "execution_count": 17,
   "metadata": {},
   "outputs": [],
   "source": [
    "def make_slab_with_adatom(el, alat, width, depth, vacuum):\n",
    "    \"\"\"\n",
    "    Creates the slab crystal structure using ASE.\n",
    "    \n",
    "    :param width: width of slab\n",
    "    :param depth: depth of slab\n",
    "    :param vacuum: vacuum in Angstrom\n",
    "    :return: structure object converted from ase\n",
    "    \"\"\"\n",
    "    # create surface slab\n",
    "    slab = fcc111(el, a=alat, size=(width, width, depth))\n",
    "\n",
    "    # add adatom - supported special adsorption sites for fcc111: 'ontop', 'bridge', 'fcc' and 'hcp'\n",
    "    add_adsorbate(slab, el, 1.5, 'ontop')\n",
    "\n",
    "    # center along z-axis\n",
    "    slab.center(vacuum=vacuum, axis=2)\n",
    "\n",
    "    n_atoms = slab.get_number_of_atoms()\n",
    "    structure = Struc(ase2struc(slab))\n",
    "\n",
    "    return structure, n_atoms"
   ]
  },
  {
   "cell_type": "code",
   "execution_count": 18,
   "metadata": {},
   "outputs": [],
   "source": [
    "def make_bare_slab(el, alat, width, depth, vacuum):\n",
    "    \"\"\"\n",
    "    Creates the slab crystal structure using ASE.\n",
    "    \n",
    "    :param width: width of slab\n",
    "    :param depth: depth of slab\n",
    "    :param vacuum: vacuum in Angstrom\n",
    "    :return: structure object converted from ase\n",
    "    \"\"\"\n",
    "    # create surface slab\n",
    "    slab = fcc111(el, a=alat, size=(width, width, depth))\n",
    "    \n",
    "    # center along z-axis\n",
    "    slab.center(vacuum=vacuum, axis=2)\n",
    "\n",
    "    n_atoms = slab.get_number_of_atoms()\n",
    "    structure = Struc(ase2struc(slab))\n",
    "\n",
    "    return structure, n_atoms"
   ]
  },
  {
   "cell_type": "markdown",
   "metadata": {},
   "source": [
    "## Funcs to run bulk, run slab, converge slab geometry, and run MD"
   ]
  },
  {
   "cell_type": "code",
   "execution_count": 19,
   "metadata": {},
   "outputs": [],
   "source": [
    "def compute_energy_bulk(el, alat, template):\n",
    "    \"\"\"\n",
    "    Make an input template and select potential and structure, and the path where to run\n",
    "    \"\"\"\n",
    "    potpath = os.path.join(os.environ['LAMMPS_POTENTIALS'], el + '_u3.eam')\n",
    "    potential = ClassicalPotential(path=potpath, ptype='eam', element=[el])\n",
    "    runpath = Dir(path=os.path.join(workdir, os.path.join('runs')))\n",
    "    struc, n_atoms = make_bulk(alat = alat, size = 2, el = el, lattice = 'fcc')\n",
    "    output_file = lammps_run(struc=struc, runpath=runpath, potential=potential, intemplate=template, inparam={}, remote=remote)\n",
    "    energy, lattice = get_lammps_energy(outfile=output_file)\n",
    "    return energy, lattice"
   ]
  },
  {
   "cell_type": "code",
   "execution_count": 20,
   "metadata": {},
   "outputs": [],
   "source": [
    "def compute_energy_slab(el, alat, width, depth, vacuum, template, cnt):\n",
    "    \"\"\"\n",
    "    Make an input template and select potential and structure, and the path where to run\n",
    "    \"\"\"\n",
    "    potpath = os.path.join(os.environ['LAMMPS_POTENTIALS'], el + '_u3.eam')\n",
    "    potential = ClassicalPotential(path=potpath, ptype='eam', element=[el])\n",
    "    runpath = Dir(path=os.path.join(workdir, os.path.join('runs', str(cnt))))\n",
    "    struc, n_atoms = make_bare_slab(el = el, alat=alat, width=width, depth=depth, vacuum=vacuum)\n",
    "    output_file = lammps_run(struc=struc, runpath=runpath, potential=potential, intemplate=template, inparam={}, remote=remote)\n",
    "    energy, lattice = get_lammps_energy(outfile=output_file)\n",
    "\n",
    "    # normalize energy\n",
    "    energy = energy / n_atoms\n",
    "\n",
    "    return energy, lattice"
   ]
  },
  {
   "cell_type": "code",
   "execution_count": 21,
   "metadata": {},
   "outputs": [],
   "source": [
    "def converge_slab(el, alat):\n",
    "    width_arr = np.linspace(1, width_max)\n",
    "    depth_arr = np.linspace(1, depth_max)\n",
    "    vacuum_arr = np.linspace(1, vacuum_max)\n",
    "\n",
    "    e_w_list = []\n",
    "    e_d_list = []\n",
    "    e_v_list = []\n",
    "\n",
    "    # converge width\n",
    "    cnt = 0\n",
    "    for width in width_arr:\n",
    "        e_w_list.append(compute_energy_slab(el = el, alat = alat, width=int(width), depth=int(depth_def), vacuum=int(vacuum_def),\n",
    "                                       template=input_template_single_point, cnt=cnt)[0])\n",
    "        cnt += 1\n",
    "\n",
    "    # converge depth\n",
    "    for depth in depth_arr:\n",
    "        e_d_list.append(compute_energy_slab(el = el, alat = alat, width=int(width_def), depth=int(depth), vacuum=int(vacuum_def),\n",
    "                                       template=input_template_single_point, cnt=cnt)[0])\n",
    "        cnt += 1\n",
    "\n",
    "    # converge vacuum\n",
    "    for vacuum in vacuum_arr:\n",
    "        e_v_list.append(compute_energy_slab(el = el, alat = alat, width=int(width_def), depth=int(depth_def), vacuum=int(vacuum),\n",
    "                                       template=input_template_single_point, cnt=cnt)[0])\n",
    "        cnt += 1\n",
    "\n",
    "    # convergence plots\n",
    "    plt.figure(figsize = (12, 10))\n",
    "    plt.subplot(311)\n",
    "    plt.plot(width_arr, e_w_list)\n",
    "    plt.title('E(width)')\n",
    "    plt.subplot(312)\n",
    "    plt.plot(depth_arr, e_d_list)\n",
    "    plt.title('E(depth)')\n",
    "    plt.subplot(313)\n",
    "    plt.plot(vacuum_arr, e_v_list)\n",
    "    plt.title('E(vacuum)')\n",
    "    plt.show()\n",
    "\n",
    "    return"
   ]
  },
  {
   "cell_type": "code",
   "execution_count": 22,
   "metadata": {},
   "outputs": [],
   "source": [
    "def compute_dynamics(struc_type, el, alat, timestep, nsteps, temperature, width, depth, vacuum, struc):\n",
    "    \"\"\"\n",
    "    Make an input template and select potential and structure, and input parameters.\n",
    "    Return a pair of output file and RDF file written to the runpath directory.\n",
    "    \"\"\"\n",
    "    potpath = os.path.join(os.environ['LAMMPS_POTENTIALS'], el + '_u3.eam')\n",
    "    potential = ClassicalPotential(path=potpath, ptype='eam', element=[el])\n",
    "    runpath = Dir(path=workdir)\n",
    "    \n",
    "    if struc_type=='slab': \n",
    "        struc, n_atoms = struc, struc.n_atoms\n",
    "        template = input_template_run_diff\n",
    "        t_output = 50\n",
    "       \n",
    "    elif struc_type=='bulk_vacancy': \n",
    "        struc, n_atoms = struc, struc.n_atoms\n",
    "        template = input_template_run\n",
    "        t_output = 50\n",
    "        \n",
    "    inparam = {\n",
    "        'TEMPERATURE': temperature,\n",
    "        'NSTEPS': nsteps,\n",
    "        'TIMESTEP': timestep,\n",
    "        'TOUTPUT': t_output,  # how often to write thermo output\n",
    "        'TDAMP': 50 * timestep,  # thermostat damping time scale\n",
    "        'RDFFRAME': int(nsteps / 4),  # frames for radial distribution function\n",
    "    }\n",
    "\n",
    "    outfile = lammps_run(struc=struc, runpath=runpath, potential=potential,\n",
    "                         intemplate=template, inparam=inparam, remote=remote)\n",
    "\n",
    "    output = parse_lammps_thermo(outfile=outfile)\n",
    "    rdffile = get_rdf(runpath=runpath)\n",
    "    rdfs = parse_lammps_rdf(rdffile=rdffile)\n",
    "\n",
    "    return output, rdfs"
   ]
  },
  {
   "cell_type": "code",
   "execution_count": 23,
   "metadata": {},
   "outputs": [],
   "source": [
    "def md_run(el, alat, nsteps, temperature, width, depth, vacuum, struc_type, struc = None):\n",
    "    \"\"\" Run MD, plot results \"\"\"\n",
    "\n",
    "    # run md\n",
    "    output, rdfs = compute_dynamics(struc_type=struc_type, el=el, alat=alat, timestep=0.001, nsteps=nsteps, \n",
    "                                    temperature=temperature, width=width, depth=depth, vacuum=vacuum, struc=struc)\n",
    "\n",
    "    # collect results\n",
    "    [simtime, pe, ke, energy, temp, press, dens, msd] = output\n",
    "    \n",
    "    ## ------- plot mean square displacement\n",
    "    simtime = [float(i) for i in simtime]\n",
    "    msd = [float(j) for j in msd]\n",
    "    plt.figure(figsize = (12, 10))\n",
    "    plt.plot(simtime, msd)\n",
    "    plt.title('MSD vs. simtime')\n",
    "    plt.savefig('mds.png')\n",
    "    plt.show()\n",
    "    \n",
    "    ## ------- plot temperature over time\n",
    "    temp = [float(j) for j in temp]\n",
    "    plt.figure(figsize = (12, 10))\n",
    "    plt.plot(simtime, temp)\n",
    "    plt.title('Temperature vs. simtime')\n",
    "    plt.savefig('temp.png')\n",
    "    plt.show()\n",
    "\n",
    "\n",
    "#     ## ------- plot radial distribution functions\n",
    "#     plt.figure(figsize = (12, 10))\n",
    "    \n",
    "#     for rdf in rdfs:\n",
    "#         plt.plot(rdf[0], rdf[1])\n",
    "\n",
    "#     plt.savefig('rdf.png')\n",
    "#     plt.show()\n",
    "    \n",
    "    return output, rdfs"
   ]
  },
  {
   "cell_type": "markdown",
   "metadata": {},
   "source": [
    "# 1. Adatom Pd on Pd"
   ]
  },
  {
   "cell_type": "code",
   "execution_count": 24,
   "metadata": {},
   "outputs": [
    {
     "name": "stdout",
     "output_type": "stream",
     "text": [
      "/home/sbatzner/lammps-16Mar18/potentials/Pd_u3.eam\n"
     ]
    }
   ],
   "source": [
    "el = 'Pd'\n",
    "alat_start = 4.0\n",
    "potpath = os.path.join(os.environ['LAMMPS_POTENTIALS'], el + '_u3.eam')\n",
    "potential = ClassicalPotential(path=potpath, ptype='eam', element=[el])\n",
    "print(potpath)"
   ]
  },
  {
   "cell_type": "markdown",
   "metadata": {},
   "source": [
    "## Build Bulk and relax to find equilibrium lattice parameter"
   ]
  },
  {
   "cell_type": "code",
   "execution_count": 25,
   "metadata": {},
   "outputs": [
    {
     "name": "stdout",
     "output_type": "stream",
     "text": [
      "1\n",
      "Running lammps remotely...\n",
      "\n",
      "mpirun -np 32 /home/sbatzner/lammps-16Mar18/src/lmp_mpi -in /home/sbatzner/ML-electron-density/EAM/lammps.in -log /home/sbatzner/ML-electron-density/EAM/lammps.log > /home/sbatzner/ML-electron-density/EAM/lammps.out\n",
      "4\n",
      "Relaxed bulk energy/atom: -3.910000000150325\n",
      "Relaxed lattice parameter: 3.8900000298\n"
     ]
    }
   ],
   "source": [
    "# create bulk cell\n",
    "cell = crystal(el, [(0, 0, 0)], spacegroup=225, cellpar=[alat_start, alat_start, alat_start, 90, 90, 90])\n",
    "\n",
    "# make supercell\n",
    "n_atoms = cell.get_number_of_atoms()\n",
    "structure = Struc(ase2struc(cell))\n",
    "\n",
    "runpath = Dir(path=os.path.join(workdir))\n",
    "file_prefix = 'bulk_relax_' + str(alat_start) \n",
    "write(file_prefix + '.cif', cell, format='cif')\n",
    "\n",
    "# run \n",
    "output_file = lammps_run(struc=structure, runpath=runpath, potential=potential, intemplate=input_template_relax, inparam={}, remote=remote)\n",
    "energy, alat_relax = get_lammps_energy(outfile=output_file)\n",
    "\n",
    "print(n_atoms)\n",
    "print(\"Relaxed bulk energy/atom: {}\".format(energy/n_atoms))\n",
    "print(\"Relaxed lattice parameter: {0:.10f}\".format(alat_relax))"
   ]
  },
  {
   "cell_type": "markdown",
   "metadata": {},
   "source": [
    "## Build Slab using the found alat and converge width, depth, and vacuum"
   ]
  },
  {
   "cell_type": "code",
   "execution_count": 26,
   "metadata": {},
   "outputs": [
    {
     "name": "stdout",
     "output_type": "stream",
     "text": [
      "1\n",
      "Running lammps remotely...\n",
      "\n",
      "mpirun -np 32 /home/sbatzner/lammps-16Mar18/src/lmp_mpi -in /home/sbatzner/ML-electron-density/EAM/runs/0/lammps.in -log /home/sbatzner/ML-electron-density/EAM/runs/0/lammps.log > /home/sbatzner/ML-electron-density/EAM/runs/0/lammps.out\n",
      "1\n",
      "Running lammps remotely...\n",
      "\n",
      "mpirun -np 32 /home/sbatzner/lammps-16Mar18/src/lmp_mpi -in /home/sbatzner/ML-electron-density/EAM/runs/1/lammps.in -log /home/sbatzner/ML-electron-density/EAM/runs/1/lammps.log > /home/sbatzner/ML-electron-density/EAM/runs/1/lammps.out\n",
      "1\n",
      "Running lammps remotely...\n",
      "\n",
      "mpirun -np 32 /home/sbatzner/lammps-16Mar18/src/lmp_mpi -in /home/sbatzner/ML-electron-density/EAM/runs/2/lammps.in -log /home/sbatzner/ML-electron-density/EAM/runs/2/lammps.log > /home/sbatzner/ML-electron-density/EAM/runs/2/lammps.out\n",
      "1\n",
      "Running lammps remotely...\n",
      "\n",
      "mpirun -np 32 /home/sbatzner/lammps-16Mar18/src/lmp_mpi -in /home/sbatzner/ML-electron-density/EAM/runs/3/lammps.in -log /home/sbatzner/ML-electron-density/EAM/runs/3/lammps.log > /home/sbatzner/ML-electron-density/EAM/runs/3/lammps.out\n",
      "1\n",
      "Running lammps remotely...\n",
      "\n",
      "mpirun -np 32 /home/sbatzner/lammps-16Mar18/src/lmp_mpi -in /home/sbatzner/ML-electron-density/EAM/runs/4/lammps.in -log /home/sbatzner/ML-electron-density/EAM/runs/4/lammps.log > /home/sbatzner/ML-electron-density/EAM/runs/4/lammps.out\n",
      "1\n",
      "Running lammps remotely...\n",
      "\n",
      "mpirun -np 32 /home/sbatzner/lammps-16Mar18/src/lmp_mpi -in /home/sbatzner/ML-electron-density/EAM/runs/5/lammps.in -log /home/sbatzner/ML-electron-density/EAM/runs/5/lammps.log > /home/sbatzner/ML-electron-density/EAM/runs/5/lammps.out\n",
      "1\n",
      "Running lammps remotely...\n",
      "\n",
      "mpirun -np 32 /home/sbatzner/lammps-16Mar18/src/lmp_mpi -in /home/sbatzner/ML-electron-density/EAM/runs/6/lammps.in -log /home/sbatzner/ML-electron-density/EAM/runs/6/lammps.log > /home/sbatzner/ML-electron-density/EAM/runs/6/lammps.out\n",
      "1\n",
      "Running lammps remotely...\n",
      "\n",
      "mpirun -np 32 /home/sbatzner/lammps-16Mar18/src/lmp_mpi -in /home/sbatzner/ML-electron-density/EAM/runs/7/lammps.in -log /home/sbatzner/ML-electron-density/EAM/runs/7/lammps.log > /home/sbatzner/ML-electron-density/EAM/runs/7/lammps.out\n",
      "1\n",
      "Running lammps remotely...\n",
      "\n",
      "mpirun -np 32 /home/sbatzner/lammps-16Mar18/src/lmp_mpi -in /home/sbatzner/ML-electron-density/EAM/runs/8/lammps.in -log /home/sbatzner/ML-electron-density/EAM/runs/8/lammps.log > /home/sbatzner/ML-electron-density/EAM/runs/8/lammps.out\n",
      "1\n",
      "Running lammps remotely...\n",
      "\n",
      "mpirun -np 32 /home/sbatzner/lammps-16Mar18/src/lmp_mpi -in /home/sbatzner/ML-electron-density/EAM/runs/9/lammps.in -log /home/sbatzner/ML-electron-density/EAM/runs/9/lammps.log > /home/sbatzner/ML-electron-density/EAM/runs/9/lammps.out\n",
      "1\n",
      "Running lammps remotely...\n",
      "\n",
      "mpirun -np 32 /home/sbatzner/lammps-16Mar18/src/lmp_mpi -in /home/sbatzner/ML-electron-density/EAM/runs/10/lammps.in -log /home/sbatzner/ML-electron-density/EAM/runs/10/lammps.log > /home/sbatzner/ML-electron-density/EAM/runs/10/lammps.out\n",
      "1\n",
      "Running lammps remotely...\n",
      "\n",
      "mpirun -np 32 /home/sbatzner/lammps-16Mar18/src/lmp_mpi -in /home/sbatzner/ML-electron-density/EAM/runs/11/lammps.in -log /home/sbatzner/ML-electron-density/EAM/runs/11/lammps.log > /home/sbatzner/ML-electron-density/EAM/runs/11/lammps.out\n",
      "1\n",
      "Running lammps remotely...\n",
      "\n",
      "mpirun -np 32 /home/sbatzner/lammps-16Mar18/src/lmp_mpi -in /home/sbatzner/ML-electron-density/EAM/runs/12/lammps.in -log /home/sbatzner/ML-electron-density/EAM/runs/12/lammps.log > /home/sbatzner/ML-electron-density/EAM/runs/12/lammps.out\n",
      "1\n",
      "Running lammps remotely...\n",
      "\n",
      "mpirun -np 32 /home/sbatzner/lammps-16Mar18/src/lmp_mpi -in /home/sbatzner/ML-electron-density/EAM/runs/13/lammps.in -log /home/sbatzner/ML-electron-density/EAM/runs/13/lammps.log > /home/sbatzner/ML-electron-density/EAM/runs/13/lammps.out\n",
      "1\n",
      "Running lammps remotely...\n",
      "\n",
      "mpirun -np 32 /home/sbatzner/lammps-16Mar18/src/lmp_mpi -in /home/sbatzner/ML-electron-density/EAM/runs/14/lammps.in -log /home/sbatzner/ML-electron-density/EAM/runs/14/lammps.log > /home/sbatzner/ML-electron-density/EAM/runs/14/lammps.out\n",
      "1\n",
      "Running lammps remotely...\n",
      "\n",
      "mpirun -np 32 /home/sbatzner/lammps-16Mar18/src/lmp_mpi -in /home/sbatzner/ML-electron-density/EAM/runs/15/lammps.in -log /home/sbatzner/ML-electron-density/EAM/runs/15/lammps.log > /home/sbatzner/ML-electron-density/EAM/runs/15/lammps.out\n",
      "1\n",
      "Running lammps remotely...\n",
      "\n",
      "mpirun -np 32 /home/sbatzner/lammps-16Mar18/src/lmp_mpi -in /home/sbatzner/ML-electron-density/EAM/runs/16/lammps.in -log /home/sbatzner/ML-electron-density/EAM/runs/16/lammps.log > /home/sbatzner/ML-electron-density/EAM/runs/16/lammps.out\n",
      "1\n",
      "Running lammps remotely...\n",
      "\n",
      "mpirun -np 32 /home/sbatzner/lammps-16Mar18/src/lmp_mpi -in /home/sbatzner/ML-electron-density/EAM/runs/17/lammps.in -log /home/sbatzner/ML-electron-density/EAM/runs/17/lammps.log > /home/sbatzner/ML-electron-density/EAM/runs/17/lammps.out\n",
      "1\n",
      "Running lammps remotely...\n",
      "\n",
      "mpirun -np 32 /home/sbatzner/lammps-16Mar18/src/lmp_mpi -in /home/sbatzner/ML-electron-density/EAM/runs/18/lammps.in -log /home/sbatzner/ML-electron-density/EAM/runs/18/lammps.log > /home/sbatzner/ML-electron-density/EAM/runs/18/lammps.out\n",
      "1\n",
      "Running lammps remotely...\n",
      "\n",
      "mpirun -np 32 /home/sbatzner/lammps-16Mar18/src/lmp_mpi -in /home/sbatzner/ML-electron-density/EAM/runs/19/lammps.in -log /home/sbatzner/ML-electron-density/EAM/runs/19/lammps.log > /home/sbatzner/ML-electron-density/EAM/runs/19/lammps.out\n",
      "1\n",
      "Running lammps remotely...\n",
      "\n",
      "mpirun -np 32 /home/sbatzner/lammps-16Mar18/src/lmp_mpi -in /home/sbatzner/ML-electron-density/EAM/runs/20/lammps.in -log /home/sbatzner/ML-electron-density/EAM/runs/20/lammps.log > /home/sbatzner/ML-electron-density/EAM/runs/20/lammps.out\n",
      "1\n",
      "Running lammps remotely...\n",
      "\n",
      "mpirun -np 32 /home/sbatzner/lammps-16Mar18/src/lmp_mpi -in /home/sbatzner/ML-electron-density/EAM/runs/21/lammps.in -log /home/sbatzner/ML-electron-density/EAM/runs/21/lammps.log > /home/sbatzner/ML-electron-density/EAM/runs/21/lammps.out\n",
      "1\n",
      "Running lammps remotely...\n",
      "\n",
      "mpirun -np 32 /home/sbatzner/lammps-16Mar18/src/lmp_mpi -in /home/sbatzner/ML-electron-density/EAM/runs/22/lammps.in -log /home/sbatzner/ML-electron-density/EAM/runs/22/lammps.log > /home/sbatzner/ML-electron-density/EAM/runs/22/lammps.out\n",
      "1\n",
      "Running lammps remotely...\n",
      "\n",
      "mpirun -np 32 /home/sbatzner/lammps-16Mar18/src/lmp_mpi -in /home/sbatzner/ML-electron-density/EAM/runs/23/lammps.in -log /home/sbatzner/ML-electron-density/EAM/runs/23/lammps.log > /home/sbatzner/ML-electron-density/EAM/runs/23/lammps.out\n",
      "1\n",
      "Running lammps remotely...\n",
      "\n",
      "mpirun -np 32 /home/sbatzner/lammps-16Mar18/src/lmp_mpi -in /home/sbatzner/ML-electron-density/EAM/runs/24/lammps.in -log /home/sbatzner/ML-electron-density/EAM/runs/24/lammps.log > /home/sbatzner/ML-electron-density/EAM/runs/24/lammps.out\n",
      "1\n",
      "Running lammps remotely...\n",
      "\n",
      "mpirun -np 32 /home/sbatzner/lammps-16Mar18/src/lmp_mpi -in /home/sbatzner/ML-electron-density/EAM/runs/25/lammps.in -log /home/sbatzner/ML-electron-density/EAM/runs/25/lammps.log > /home/sbatzner/ML-electron-density/EAM/runs/25/lammps.out\n",
      "1\n",
      "Running lammps remotely...\n",
      "\n",
      "mpirun -np 32 /home/sbatzner/lammps-16Mar18/src/lmp_mpi -in /home/sbatzner/ML-electron-density/EAM/runs/26/lammps.in -log /home/sbatzner/ML-electron-density/EAM/runs/26/lammps.log > /home/sbatzner/ML-electron-density/EAM/runs/26/lammps.out\n",
      "1\n",
      "Running lammps remotely...\n",
      "\n",
      "mpirun -np 32 /home/sbatzner/lammps-16Mar18/src/lmp_mpi -in /home/sbatzner/ML-electron-density/EAM/runs/27/lammps.in -log /home/sbatzner/ML-electron-density/EAM/runs/27/lammps.log > /home/sbatzner/ML-electron-density/EAM/runs/27/lammps.out\n",
      "1\n",
      "Running lammps remotely...\n",
      "\n",
      "mpirun -np 32 /home/sbatzner/lammps-16Mar18/src/lmp_mpi -in /home/sbatzner/ML-electron-density/EAM/runs/28/lammps.in -log /home/sbatzner/ML-electron-density/EAM/runs/28/lammps.log > /home/sbatzner/ML-electron-density/EAM/runs/28/lammps.out\n",
      "1\n",
      "Running lammps remotely...\n",
      "\n",
      "mpirun -np 32 /home/sbatzner/lammps-16Mar18/src/lmp_mpi -in /home/sbatzner/ML-electron-density/EAM/runs/29/lammps.in -log /home/sbatzner/ML-electron-density/EAM/runs/29/lammps.log > /home/sbatzner/ML-electron-density/EAM/runs/29/lammps.out\n",
      "1\n",
      "Running lammps remotely...\n",
      "\n",
      "mpirun -np 32 /home/sbatzner/lammps-16Mar18/src/lmp_mpi -in /home/sbatzner/ML-electron-density/EAM/runs/30/lammps.in -log /home/sbatzner/ML-electron-density/EAM/runs/30/lammps.log > /home/sbatzner/ML-electron-density/EAM/runs/30/lammps.out\n"
     ]
    },
    {
     "name": "stdout",
     "output_type": "stream",
     "text": [
      "1\n",
      "Running lammps remotely...\n",
      "\n",
      "mpirun -np 32 /home/sbatzner/lammps-16Mar18/src/lmp_mpi -in /home/sbatzner/ML-electron-density/EAM/runs/31/lammps.in -log /home/sbatzner/ML-electron-density/EAM/runs/31/lammps.log > /home/sbatzner/ML-electron-density/EAM/runs/31/lammps.out\n",
      "1\n",
      "Running lammps remotely...\n",
      "\n",
      "mpirun -np 32 /home/sbatzner/lammps-16Mar18/src/lmp_mpi -in /home/sbatzner/ML-electron-density/EAM/runs/32/lammps.in -log /home/sbatzner/ML-electron-density/EAM/runs/32/lammps.log > /home/sbatzner/ML-electron-density/EAM/runs/32/lammps.out\n",
      "1\n",
      "Running lammps remotely...\n",
      "\n",
      "mpirun -np 32 /home/sbatzner/lammps-16Mar18/src/lmp_mpi -in /home/sbatzner/ML-electron-density/EAM/runs/33/lammps.in -log /home/sbatzner/ML-electron-density/EAM/runs/33/lammps.log > /home/sbatzner/ML-electron-density/EAM/runs/33/lammps.out\n",
      "1\n",
      "Running lammps remotely...\n",
      "\n",
      "mpirun -np 32 /home/sbatzner/lammps-16Mar18/src/lmp_mpi -in /home/sbatzner/ML-electron-density/EAM/runs/34/lammps.in -log /home/sbatzner/ML-electron-density/EAM/runs/34/lammps.log > /home/sbatzner/ML-electron-density/EAM/runs/34/lammps.out\n",
      "1\n",
      "Running lammps remotely...\n",
      "\n",
      "mpirun -np 32 /home/sbatzner/lammps-16Mar18/src/lmp_mpi -in /home/sbatzner/ML-electron-density/EAM/runs/35/lammps.in -log /home/sbatzner/ML-electron-density/EAM/runs/35/lammps.log > /home/sbatzner/ML-electron-density/EAM/runs/35/lammps.out\n",
      "1\n",
      "Running lammps remotely...\n",
      "\n",
      "mpirun -np 32 /home/sbatzner/lammps-16Mar18/src/lmp_mpi -in /home/sbatzner/ML-electron-density/EAM/runs/36/lammps.in -log /home/sbatzner/ML-electron-density/EAM/runs/36/lammps.log > /home/sbatzner/ML-electron-density/EAM/runs/36/lammps.out\n",
      "1\n",
      "Running lammps remotely...\n",
      "\n",
      "mpirun -np 32 /home/sbatzner/lammps-16Mar18/src/lmp_mpi -in /home/sbatzner/ML-electron-density/EAM/runs/37/lammps.in -log /home/sbatzner/ML-electron-density/EAM/runs/37/lammps.log > /home/sbatzner/ML-electron-density/EAM/runs/37/lammps.out\n",
      "1\n",
      "Running lammps remotely...\n",
      "\n",
      "mpirun -np 32 /home/sbatzner/lammps-16Mar18/src/lmp_mpi -in /home/sbatzner/ML-electron-density/EAM/runs/38/lammps.in -log /home/sbatzner/ML-electron-density/EAM/runs/38/lammps.log > /home/sbatzner/ML-electron-density/EAM/runs/38/lammps.out\n",
      "1\n",
      "Running lammps remotely...\n",
      "\n",
      "mpirun -np 32 /home/sbatzner/lammps-16Mar18/src/lmp_mpi -in /home/sbatzner/ML-electron-density/EAM/runs/39/lammps.in -log /home/sbatzner/ML-electron-density/EAM/runs/39/lammps.log > /home/sbatzner/ML-electron-density/EAM/runs/39/lammps.out\n",
      "1\n",
      "Running lammps remotely...\n",
      "\n",
      "mpirun -np 32 /home/sbatzner/lammps-16Mar18/src/lmp_mpi -in /home/sbatzner/ML-electron-density/EAM/runs/40/lammps.in -log /home/sbatzner/ML-electron-density/EAM/runs/40/lammps.log > /home/sbatzner/ML-electron-density/EAM/runs/40/lammps.out\n",
      "1\n",
      "Running lammps remotely...\n",
      "\n",
      "mpirun -np 32 /home/sbatzner/lammps-16Mar18/src/lmp_mpi -in /home/sbatzner/ML-electron-density/EAM/runs/41/lammps.in -log /home/sbatzner/ML-electron-density/EAM/runs/41/lammps.log > /home/sbatzner/ML-electron-density/EAM/runs/41/lammps.out\n",
      "1\n",
      "Running lammps remotely...\n",
      "\n",
      "mpirun -np 32 /home/sbatzner/lammps-16Mar18/src/lmp_mpi -in /home/sbatzner/ML-electron-density/EAM/runs/42/lammps.in -log /home/sbatzner/ML-electron-density/EAM/runs/42/lammps.log > /home/sbatzner/ML-electron-density/EAM/runs/42/lammps.out\n",
      "1\n",
      "Running lammps remotely...\n",
      "\n",
      "mpirun -np 32 /home/sbatzner/lammps-16Mar18/src/lmp_mpi -in /home/sbatzner/ML-electron-density/EAM/runs/43/lammps.in -log /home/sbatzner/ML-electron-density/EAM/runs/43/lammps.log > /home/sbatzner/ML-electron-density/EAM/runs/43/lammps.out\n",
      "1\n",
      "Running lammps remotely...\n",
      "\n",
      "mpirun -np 32 /home/sbatzner/lammps-16Mar18/src/lmp_mpi -in /home/sbatzner/ML-electron-density/EAM/runs/44/lammps.in -log /home/sbatzner/ML-electron-density/EAM/runs/44/lammps.log > /home/sbatzner/ML-electron-density/EAM/runs/44/lammps.out\n",
      "1\n",
      "Running lammps remotely...\n",
      "\n",
      "mpirun -np 32 /home/sbatzner/lammps-16Mar18/src/lmp_mpi -in /home/sbatzner/ML-electron-density/EAM/runs/45/lammps.in -log /home/sbatzner/ML-electron-density/EAM/runs/45/lammps.log > /home/sbatzner/ML-electron-density/EAM/runs/45/lammps.out\n",
      "1\n",
      "Running lammps remotely...\n",
      "\n",
      "mpirun -np 32 /home/sbatzner/lammps-16Mar18/src/lmp_mpi -in /home/sbatzner/ML-electron-density/EAM/runs/46/lammps.in -log /home/sbatzner/ML-electron-density/EAM/runs/46/lammps.log > /home/sbatzner/ML-electron-density/EAM/runs/46/lammps.out\n",
      "1\n",
      "Running lammps remotely...\n",
      "\n",
      "mpirun -np 32 /home/sbatzner/lammps-16Mar18/src/lmp_mpi -in /home/sbatzner/ML-electron-density/EAM/runs/47/lammps.in -log /home/sbatzner/ML-electron-density/EAM/runs/47/lammps.log > /home/sbatzner/ML-electron-density/EAM/runs/47/lammps.out\n",
      "1\n",
      "Running lammps remotely...\n",
      "\n",
      "mpirun -np 32 /home/sbatzner/lammps-16Mar18/src/lmp_mpi -in /home/sbatzner/ML-electron-density/EAM/runs/48/lammps.in -log /home/sbatzner/ML-electron-density/EAM/runs/48/lammps.log > /home/sbatzner/ML-electron-density/EAM/runs/48/lammps.out\n",
      "1\n",
      "Running lammps remotely...\n",
      "\n",
      "mpirun -np 32 /home/sbatzner/lammps-16Mar18/src/lmp_mpi -in /home/sbatzner/ML-electron-density/EAM/runs/49/lammps.in -log /home/sbatzner/ML-electron-density/EAM/runs/49/lammps.log > /home/sbatzner/ML-electron-density/EAM/runs/49/lammps.out\n",
      "1\n",
      "Running lammps remotely...\n",
      "\n",
      "mpirun -np 32 /home/sbatzner/lammps-16Mar18/src/lmp_mpi -in /home/sbatzner/ML-electron-density/EAM/runs/50/lammps.in -log /home/sbatzner/ML-electron-density/EAM/runs/50/lammps.log > /home/sbatzner/ML-electron-density/EAM/runs/50/lammps.out\n",
      "1\n",
      "Running lammps remotely...\n",
      "\n",
      "mpirun -np 32 /home/sbatzner/lammps-16Mar18/src/lmp_mpi -in /home/sbatzner/ML-electron-density/EAM/runs/51/lammps.in -log /home/sbatzner/ML-electron-density/EAM/runs/51/lammps.log > /home/sbatzner/ML-electron-density/EAM/runs/51/lammps.out\n",
      "1\n",
      "Running lammps remotely...\n",
      "\n",
      "mpirun -np 32 /home/sbatzner/lammps-16Mar18/src/lmp_mpi -in /home/sbatzner/ML-electron-density/EAM/runs/52/lammps.in -log /home/sbatzner/ML-electron-density/EAM/runs/52/lammps.log > /home/sbatzner/ML-electron-density/EAM/runs/52/lammps.out\n",
      "1\n",
      "Running lammps remotely...\n",
      "\n",
      "mpirun -np 32 /home/sbatzner/lammps-16Mar18/src/lmp_mpi -in /home/sbatzner/ML-electron-density/EAM/runs/53/lammps.in -log /home/sbatzner/ML-electron-density/EAM/runs/53/lammps.log > /home/sbatzner/ML-electron-density/EAM/runs/53/lammps.out\n",
      "1\n",
      "Running lammps remotely...\n",
      "\n",
      "mpirun -np 32 /home/sbatzner/lammps-16Mar18/src/lmp_mpi -in /home/sbatzner/ML-electron-density/EAM/runs/54/lammps.in -log /home/sbatzner/ML-electron-density/EAM/runs/54/lammps.log > /home/sbatzner/ML-electron-density/EAM/runs/54/lammps.out\n",
      "1\n",
      "Running lammps remotely...\n",
      "\n",
      "mpirun -np 32 /home/sbatzner/lammps-16Mar18/src/lmp_mpi -in /home/sbatzner/ML-electron-density/EAM/runs/55/lammps.in -log /home/sbatzner/ML-electron-density/EAM/runs/55/lammps.log > /home/sbatzner/ML-electron-density/EAM/runs/55/lammps.out\n",
      "1\n",
      "Running lammps remotely...\n",
      "\n",
      "mpirun -np 32 /home/sbatzner/lammps-16Mar18/src/lmp_mpi -in /home/sbatzner/ML-electron-density/EAM/runs/56/lammps.in -log /home/sbatzner/ML-electron-density/EAM/runs/56/lammps.log > /home/sbatzner/ML-electron-density/EAM/runs/56/lammps.out\n",
      "1\n",
      "Running lammps remotely...\n",
      "\n",
      "mpirun -np 32 /home/sbatzner/lammps-16Mar18/src/lmp_mpi -in /home/sbatzner/ML-electron-density/EAM/runs/57/lammps.in -log /home/sbatzner/ML-electron-density/EAM/runs/57/lammps.log > /home/sbatzner/ML-electron-density/EAM/runs/57/lammps.out\n",
      "1\n",
      "Running lammps remotely...\n",
      "\n",
      "mpirun -np 32 /home/sbatzner/lammps-16Mar18/src/lmp_mpi -in /home/sbatzner/ML-electron-density/EAM/runs/58/lammps.in -log /home/sbatzner/ML-electron-density/EAM/runs/58/lammps.log > /home/sbatzner/ML-electron-density/EAM/runs/58/lammps.out\n",
      "1\n",
      "Running lammps remotely...\n",
      "\n",
      "mpirun -np 32 /home/sbatzner/lammps-16Mar18/src/lmp_mpi -in /home/sbatzner/ML-electron-density/EAM/runs/59/lammps.in -log /home/sbatzner/ML-electron-density/EAM/runs/59/lammps.log > /home/sbatzner/ML-electron-density/EAM/runs/59/lammps.out\n",
      "1\n",
      "Running lammps remotely...\n",
      "\n",
      "mpirun -np 32 /home/sbatzner/lammps-16Mar18/src/lmp_mpi -in /home/sbatzner/ML-electron-density/EAM/runs/60/lammps.in -log /home/sbatzner/ML-electron-density/EAM/runs/60/lammps.log > /home/sbatzner/ML-electron-density/EAM/runs/60/lammps.out\n",
      "1\n",
      "Running lammps remotely...\n",
      "\n",
      "mpirun -np 32 /home/sbatzner/lammps-16Mar18/src/lmp_mpi -in /home/sbatzner/ML-electron-density/EAM/runs/61/lammps.in -log /home/sbatzner/ML-electron-density/EAM/runs/61/lammps.log > /home/sbatzner/ML-electron-density/EAM/runs/61/lammps.out\n"
     ]
    },
    {
     "name": "stdout",
     "output_type": "stream",
     "text": [
      "1\n",
      "Running lammps remotely...\n",
      "\n",
      "mpirun -np 32 /home/sbatzner/lammps-16Mar18/src/lmp_mpi -in /home/sbatzner/ML-electron-density/EAM/runs/62/lammps.in -log /home/sbatzner/ML-electron-density/EAM/runs/62/lammps.log > /home/sbatzner/ML-electron-density/EAM/runs/62/lammps.out\n",
      "1\n",
      "Running lammps remotely...\n",
      "\n",
      "mpirun -np 32 /home/sbatzner/lammps-16Mar18/src/lmp_mpi -in /home/sbatzner/ML-electron-density/EAM/runs/63/lammps.in -log /home/sbatzner/ML-electron-density/EAM/runs/63/lammps.log > /home/sbatzner/ML-electron-density/EAM/runs/63/lammps.out\n",
      "1\n",
      "Running lammps remotely...\n",
      "\n",
      "mpirun -np 32 /home/sbatzner/lammps-16Mar18/src/lmp_mpi -in /home/sbatzner/ML-electron-density/EAM/runs/64/lammps.in -log /home/sbatzner/ML-electron-density/EAM/runs/64/lammps.log > /home/sbatzner/ML-electron-density/EAM/runs/64/lammps.out\n",
      "1\n",
      "Running lammps remotely...\n",
      "\n",
      "mpirun -np 32 /home/sbatzner/lammps-16Mar18/src/lmp_mpi -in /home/sbatzner/ML-electron-density/EAM/runs/65/lammps.in -log /home/sbatzner/ML-electron-density/EAM/runs/65/lammps.log > /home/sbatzner/ML-electron-density/EAM/runs/65/lammps.out\n",
      "1\n",
      "Running lammps remotely...\n",
      "\n",
      "mpirun -np 32 /home/sbatzner/lammps-16Mar18/src/lmp_mpi -in /home/sbatzner/ML-electron-density/EAM/runs/66/lammps.in -log /home/sbatzner/ML-electron-density/EAM/runs/66/lammps.log > /home/sbatzner/ML-electron-density/EAM/runs/66/lammps.out\n",
      "1\n",
      "Running lammps remotely...\n",
      "\n",
      "mpirun -np 32 /home/sbatzner/lammps-16Mar18/src/lmp_mpi -in /home/sbatzner/ML-electron-density/EAM/runs/67/lammps.in -log /home/sbatzner/ML-electron-density/EAM/runs/67/lammps.log > /home/sbatzner/ML-electron-density/EAM/runs/67/lammps.out\n",
      "1\n",
      "Running lammps remotely...\n",
      "\n",
      "mpirun -np 32 /home/sbatzner/lammps-16Mar18/src/lmp_mpi -in /home/sbatzner/ML-electron-density/EAM/runs/68/lammps.in -log /home/sbatzner/ML-electron-density/EAM/runs/68/lammps.log > /home/sbatzner/ML-electron-density/EAM/runs/68/lammps.out\n",
      "1\n",
      "Running lammps remotely...\n",
      "\n",
      "mpirun -np 32 /home/sbatzner/lammps-16Mar18/src/lmp_mpi -in /home/sbatzner/ML-electron-density/EAM/runs/69/lammps.in -log /home/sbatzner/ML-electron-density/EAM/runs/69/lammps.log > /home/sbatzner/ML-electron-density/EAM/runs/69/lammps.out\n",
      "1\n",
      "Running lammps remotely...\n",
      "\n",
      "mpirun -np 32 /home/sbatzner/lammps-16Mar18/src/lmp_mpi -in /home/sbatzner/ML-electron-density/EAM/runs/70/lammps.in -log /home/sbatzner/ML-electron-density/EAM/runs/70/lammps.log > /home/sbatzner/ML-electron-density/EAM/runs/70/lammps.out\n",
      "1\n",
      "Running lammps remotely...\n",
      "\n",
      "mpirun -np 32 /home/sbatzner/lammps-16Mar18/src/lmp_mpi -in /home/sbatzner/ML-electron-density/EAM/runs/71/lammps.in -log /home/sbatzner/ML-electron-density/EAM/runs/71/lammps.log > /home/sbatzner/ML-electron-density/EAM/runs/71/lammps.out\n",
      "1\n",
      "Running lammps remotely...\n",
      "\n",
      "mpirun -np 32 /home/sbatzner/lammps-16Mar18/src/lmp_mpi -in /home/sbatzner/ML-electron-density/EAM/runs/72/lammps.in -log /home/sbatzner/ML-electron-density/EAM/runs/72/lammps.log > /home/sbatzner/ML-electron-density/EAM/runs/72/lammps.out\n",
      "1\n",
      "Running lammps remotely...\n",
      "\n",
      "mpirun -np 32 /home/sbatzner/lammps-16Mar18/src/lmp_mpi -in /home/sbatzner/ML-electron-density/EAM/runs/73/lammps.in -log /home/sbatzner/ML-electron-density/EAM/runs/73/lammps.log > /home/sbatzner/ML-electron-density/EAM/runs/73/lammps.out\n",
      "1\n",
      "Running lammps remotely...\n",
      "\n",
      "mpirun -np 32 /home/sbatzner/lammps-16Mar18/src/lmp_mpi -in /home/sbatzner/ML-electron-density/EAM/runs/74/lammps.in -log /home/sbatzner/ML-electron-density/EAM/runs/74/lammps.log > /home/sbatzner/ML-electron-density/EAM/runs/74/lammps.out\n",
      "1\n",
      "Running lammps remotely...\n",
      "\n",
      "mpirun -np 32 /home/sbatzner/lammps-16Mar18/src/lmp_mpi -in /home/sbatzner/ML-electron-density/EAM/runs/75/lammps.in -log /home/sbatzner/ML-electron-density/EAM/runs/75/lammps.log > /home/sbatzner/ML-electron-density/EAM/runs/75/lammps.out\n",
      "1\n",
      "Running lammps remotely...\n",
      "\n",
      "mpirun -np 32 /home/sbatzner/lammps-16Mar18/src/lmp_mpi -in /home/sbatzner/ML-electron-density/EAM/runs/76/lammps.in -log /home/sbatzner/ML-electron-density/EAM/runs/76/lammps.log > /home/sbatzner/ML-electron-density/EAM/runs/76/lammps.out\n",
      "1\n",
      "Running lammps remotely...\n",
      "\n",
      "mpirun -np 32 /home/sbatzner/lammps-16Mar18/src/lmp_mpi -in /home/sbatzner/ML-electron-density/EAM/runs/77/lammps.in -log /home/sbatzner/ML-electron-density/EAM/runs/77/lammps.log > /home/sbatzner/ML-electron-density/EAM/runs/77/lammps.out\n",
      "1\n",
      "Running lammps remotely...\n",
      "\n",
      "mpirun -np 32 /home/sbatzner/lammps-16Mar18/src/lmp_mpi -in /home/sbatzner/ML-electron-density/EAM/runs/78/lammps.in -log /home/sbatzner/ML-electron-density/EAM/runs/78/lammps.log > /home/sbatzner/ML-electron-density/EAM/runs/78/lammps.out\n",
      "1\n",
      "Running lammps remotely...\n",
      "\n",
      "mpirun -np 32 /home/sbatzner/lammps-16Mar18/src/lmp_mpi -in /home/sbatzner/ML-electron-density/EAM/runs/79/lammps.in -log /home/sbatzner/ML-electron-density/EAM/runs/79/lammps.log > /home/sbatzner/ML-electron-density/EAM/runs/79/lammps.out\n",
      "1\n",
      "Running lammps remotely...\n",
      "\n",
      "mpirun -np 32 /home/sbatzner/lammps-16Mar18/src/lmp_mpi -in /home/sbatzner/ML-electron-density/EAM/runs/80/lammps.in -log /home/sbatzner/ML-electron-density/EAM/runs/80/lammps.log > /home/sbatzner/ML-electron-density/EAM/runs/80/lammps.out\n",
      "1\n",
      "Running lammps remotely...\n",
      "\n",
      "mpirun -np 32 /home/sbatzner/lammps-16Mar18/src/lmp_mpi -in /home/sbatzner/ML-electron-density/EAM/runs/81/lammps.in -log /home/sbatzner/ML-electron-density/EAM/runs/81/lammps.log > /home/sbatzner/ML-electron-density/EAM/runs/81/lammps.out\n",
      "1\n",
      "Running lammps remotely...\n",
      "\n",
      "mpirun -np 32 /home/sbatzner/lammps-16Mar18/src/lmp_mpi -in /home/sbatzner/ML-electron-density/EAM/runs/82/lammps.in -log /home/sbatzner/ML-electron-density/EAM/runs/82/lammps.log > /home/sbatzner/ML-electron-density/EAM/runs/82/lammps.out\n",
      "1\n",
      "Running lammps remotely...\n",
      "\n",
      "mpirun -np 32 /home/sbatzner/lammps-16Mar18/src/lmp_mpi -in /home/sbatzner/ML-electron-density/EAM/runs/83/lammps.in -log /home/sbatzner/ML-electron-density/EAM/runs/83/lammps.log > /home/sbatzner/ML-electron-density/EAM/runs/83/lammps.out\n",
      "1\n",
      "Running lammps remotely...\n",
      "\n",
      "mpirun -np 32 /home/sbatzner/lammps-16Mar18/src/lmp_mpi -in /home/sbatzner/ML-electron-density/EAM/runs/84/lammps.in -log /home/sbatzner/ML-electron-density/EAM/runs/84/lammps.log > /home/sbatzner/ML-electron-density/EAM/runs/84/lammps.out\n",
      "1\n",
      "Running lammps remotely...\n",
      "\n",
      "mpirun -np 32 /home/sbatzner/lammps-16Mar18/src/lmp_mpi -in /home/sbatzner/ML-electron-density/EAM/runs/85/lammps.in -log /home/sbatzner/ML-electron-density/EAM/runs/85/lammps.log > /home/sbatzner/ML-electron-density/EAM/runs/85/lammps.out\n",
      "1\n",
      "Running lammps remotely...\n",
      "\n",
      "mpirun -np 32 /home/sbatzner/lammps-16Mar18/src/lmp_mpi -in /home/sbatzner/ML-electron-density/EAM/runs/86/lammps.in -log /home/sbatzner/ML-electron-density/EAM/runs/86/lammps.log > /home/sbatzner/ML-electron-density/EAM/runs/86/lammps.out\n",
      "1\n",
      "Running lammps remotely...\n",
      "\n",
      "mpirun -np 32 /home/sbatzner/lammps-16Mar18/src/lmp_mpi -in /home/sbatzner/ML-electron-density/EAM/runs/87/lammps.in -log /home/sbatzner/ML-electron-density/EAM/runs/87/lammps.log > /home/sbatzner/ML-electron-density/EAM/runs/87/lammps.out\n",
      "1\n",
      "Running lammps remotely...\n",
      "\n",
      "mpirun -np 32 /home/sbatzner/lammps-16Mar18/src/lmp_mpi -in /home/sbatzner/ML-electron-density/EAM/runs/88/lammps.in -log /home/sbatzner/ML-electron-density/EAM/runs/88/lammps.log > /home/sbatzner/ML-electron-density/EAM/runs/88/lammps.out\n",
      "1\n",
      "Running lammps remotely...\n",
      "\n",
      "mpirun -np 32 /home/sbatzner/lammps-16Mar18/src/lmp_mpi -in /home/sbatzner/ML-electron-density/EAM/runs/89/lammps.in -log /home/sbatzner/ML-electron-density/EAM/runs/89/lammps.log > /home/sbatzner/ML-electron-density/EAM/runs/89/lammps.out\n",
      "1\n",
      "Running lammps remotely...\n",
      "\n",
      "mpirun -np 32 /home/sbatzner/lammps-16Mar18/src/lmp_mpi -in /home/sbatzner/ML-electron-density/EAM/runs/90/lammps.in -log /home/sbatzner/ML-electron-density/EAM/runs/90/lammps.log > /home/sbatzner/ML-electron-density/EAM/runs/90/lammps.out\n",
      "1\n",
      "Running lammps remotely...\n",
      "\n",
      "mpirun -np 32 /home/sbatzner/lammps-16Mar18/src/lmp_mpi -in /home/sbatzner/ML-electron-density/EAM/runs/91/lammps.in -log /home/sbatzner/ML-electron-density/EAM/runs/91/lammps.log > /home/sbatzner/ML-electron-density/EAM/runs/91/lammps.out\n",
      "1\n",
      "Running lammps remotely...\n",
      "\n",
      "mpirun -np 32 /home/sbatzner/lammps-16Mar18/src/lmp_mpi -in /home/sbatzner/ML-electron-density/EAM/runs/92/lammps.in -log /home/sbatzner/ML-electron-density/EAM/runs/92/lammps.log > /home/sbatzner/ML-electron-density/EAM/runs/92/lammps.out\n"
     ]
    },
    {
     "name": "stdout",
     "output_type": "stream",
     "text": [
      "1\n",
      "Running lammps remotely...\n",
      "\n",
      "mpirun -np 32 /home/sbatzner/lammps-16Mar18/src/lmp_mpi -in /home/sbatzner/ML-electron-density/EAM/runs/93/lammps.in -log /home/sbatzner/ML-electron-density/EAM/runs/93/lammps.log > /home/sbatzner/ML-electron-density/EAM/runs/93/lammps.out\n",
      "1\n",
      "Running lammps remotely...\n",
      "\n",
      "mpirun -np 32 /home/sbatzner/lammps-16Mar18/src/lmp_mpi -in /home/sbatzner/ML-electron-density/EAM/runs/94/lammps.in -log /home/sbatzner/ML-electron-density/EAM/runs/94/lammps.log > /home/sbatzner/ML-electron-density/EAM/runs/94/lammps.out\n",
      "1\n",
      "Running lammps remotely...\n",
      "\n",
      "mpirun -np 32 /home/sbatzner/lammps-16Mar18/src/lmp_mpi -in /home/sbatzner/ML-electron-density/EAM/runs/95/lammps.in -log /home/sbatzner/ML-electron-density/EAM/runs/95/lammps.log > /home/sbatzner/ML-electron-density/EAM/runs/95/lammps.out\n",
      "1\n",
      "Running lammps remotely...\n",
      "\n",
      "mpirun -np 32 /home/sbatzner/lammps-16Mar18/src/lmp_mpi -in /home/sbatzner/ML-electron-density/EAM/runs/96/lammps.in -log /home/sbatzner/ML-electron-density/EAM/runs/96/lammps.log > /home/sbatzner/ML-electron-density/EAM/runs/96/lammps.out\n",
      "1\n",
      "Running lammps remotely...\n",
      "\n",
      "mpirun -np 32 /home/sbatzner/lammps-16Mar18/src/lmp_mpi -in /home/sbatzner/ML-electron-density/EAM/runs/97/lammps.in -log /home/sbatzner/ML-electron-density/EAM/runs/97/lammps.log > /home/sbatzner/ML-electron-density/EAM/runs/97/lammps.out\n",
      "1\n",
      "Running lammps remotely...\n",
      "\n",
      "mpirun -np 32 /home/sbatzner/lammps-16Mar18/src/lmp_mpi -in /home/sbatzner/ML-electron-density/EAM/runs/98/lammps.in -log /home/sbatzner/ML-electron-density/EAM/runs/98/lammps.log > /home/sbatzner/ML-electron-density/EAM/runs/98/lammps.out\n",
      "1\n",
      "Running lammps remotely...\n",
      "\n",
      "mpirun -np 32 /home/sbatzner/lammps-16Mar18/src/lmp_mpi -in /home/sbatzner/ML-electron-density/EAM/runs/99/lammps.in -log /home/sbatzner/ML-electron-density/EAM/runs/99/lammps.log > /home/sbatzner/ML-electron-density/EAM/runs/99/lammps.out\n",
      "1\n",
      "Running lammps remotely...\n",
      "\n",
      "mpirun -np 32 /home/sbatzner/lammps-16Mar18/src/lmp_mpi -in /home/sbatzner/ML-electron-density/EAM/runs/100/lammps.in -log /home/sbatzner/ML-electron-density/EAM/runs/100/lammps.log > /home/sbatzner/ML-electron-density/EAM/runs/100/lammps.out\n",
      "1\n",
      "Running lammps remotely...\n",
      "\n",
      "mpirun -np 32 /home/sbatzner/lammps-16Mar18/src/lmp_mpi -in /home/sbatzner/ML-electron-density/EAM/runs/101/lammps.in -log /home/sbatzner/ML-electron-density/EAM/runs/101/lammps.log > /home/sbatzner/ML-electron-density/EAM/runs/101/lammps.out\n",
      "1\n",
      "Running lammps remotely...\n",
      "\n",
      "mpirun -np 32 /home/sbatzner/lammps-16Mar18/src/lmp_mpi -in /home/sbatzner/ML-electron-density/EAM/runs/102/lammps.in -log /home/sbatzner/ML-electron-density/EAM/runs/102/lammps.log > /home/sbatzner/ML-electron-density/EAM/runs/102/lammps.out\n",
      "1\n",
      "Running lammps remotely...\n",
      "\n",
      "mpirun -np 32 /home/sbatzner/lammps-16Mar18/src/lmp_mpi -in /home/sbatzner/ML-electron-density/EAM/runs/103/lammps.in -log /home/sbatzner/ML-electron-density/EAM/runs/103/lammps.log > /home/sbatzner/ML-electron-density/EAM/runs/103/lammps.out\n",
      "1\n",
      "Running lammps remotely...\n",
      "\n",
      "mpirun -np 32 /home/sbatzner/lammps-16Mar18/src/lmp_mpi -in /home/sbatzner/ML-electron-density/EAM/runs/104/lammps.in -log /home/sbatzner/ML-electron-density/EAM/runs/104/lammps.log > /home/sbatzner/ML-electron-density/EAM/runs/104/lammps.out\n",
      "1\n",
      "Running lammps remotely...\n",
      "\n",
      "mpirun -np 32 /home/sbatzner/lammps-16Mar18/src/lmp_mpi -in /home/sbatzner/ML-electron-density/EAM/runs/105/lammps.in -log /home/sbatzner/ML-electron-density/EAM/runs/105/lammps.log > /home/sbatzner/ML-electron-density/EAM/runs/105/lammps.out\n",
      "1\n",
      "Running lammps remotely...\n",
      "\n",
      "mpirun -np 32 /home/sbatzner/lammps-16Mar18/src/lmp_mpi -in /home/sbatzner/ML-electron-density/EAM/runs/106/lammps.in -log /home/sbatzner/ML-electron-density/EAM/runs/106/lammps.log > /home/sbatzner/ML-electron-density/EAM/runs/106/lammps.out\n",
      "1\n",
      "Running lammps remotely...\n",
      "\n",
      "mpirun -np 32 /home/sbatzner/lammps-16Mar18/src/lmp_mpi -in /home/sbatzner/ML-electron-density/EAM/runs/107/lammps.in -log /home/sbatzner/ML-electron-density/EAM/runs/107/lammps.log > /home/sbatzner/ML-electron-density/EAM/runs/107/lammps.out\n",
      "1\n",
      "Running lammps remotely...\n",
      "\n",
      "mpirun -np 32 /home/sbatzner/lammps-16Mar18/src/lmp_mpi -in /home/sbatzner/ML-electron-density/EAM/runs/108/lammps.in -log /home/sbatzner/ML-electron-density/EAM/runs/108/lammps.log > /home/sbatzner/ML-electron-density/EAM/runs/108/lammps.out\n",
      "1\n",
      "Running lammps remotely...\n",
      "\n",
      "mpirun -np 32 /home/sbatzner/lammps-16Mar18/src/lmp_mpi -in /home/sbatzner/ML-electron-density/EAM/runs/109/lammps.in -log /home/sbatzner/ML-electron-density/EAM/runs/109/lammps.log > /home/sbatzner/ML-electron-density/EAM/runs/109/lammps.out\n",
      "1\n",
      "Running lammps remotely...\n",
      "\n",
      "mpirun -np 32 /home/sbatzner/lammps-16Mar18/src/lmp_mpi -in /home/sbatzner/ML-electron-density/EAM/runs/110/lammps.in -log /home/sbatzner/ML-electron-density/EAM/runs/110/lammps.log > /home/sbatzner/ML-electron-density/EAM/runs/110/lammps.out\n",
      "1\n",
      "Running lammps remotely...\n",
      "\n",
      "mpirun -np 32 /home/sbatzner/lammps-16Mar18/src/lmp_mpi -in /home/sbatzner/ML-electron-density/EAM/runs/111/lammps.in -log /home/sbatzner/ML-electron-density/EAM/runs/111/lammps.log > /home/sbatzner/ML-electron-density/EAM/runs/111/lammps.out\n",
      "1\n",
      "Running lammps remotely...\n",
      "\n",
      "mpirun -np 32 /home/sbatzner/lammps-16Mar18/src/lmp_mpi -in /home/sbatzner/ML-electron-density/EAM/runs/112/lammps.in -log /home/sbatzner/ML-electron-density/EAM/runs/112/lammps.log > /home/sbatzner/ML-electron-density/EAM/runs/112/lammps.out\n",
      "1\n",
      "Running lammps remotely...\n",
      "\n",
      "mpirun -np 32 /home/sbatzner/lammps-16Mar18/src/lmp_mpi -in /home/sbatzner/ML-electron-density/EAM/runs/113/lammps.in -log /home/sbatzner/ML-electron-density/EAM/runs/113/lammps.log > /home/sbatzner/ML-electron-density/EAM/runs/113/lammps.out\n",
      "1\n",
      "Running lammps remotely...\n",
      "\n",
      "mpirun -np 32 /home/sbatzner/lammps-16Mar18/src/lmp_mpi -in /home/sbatzner/ML-electron-density/EAM/runs/114/lammps.in -log /home/sbatzner/ML-electron-density/EAM/runs/114/lammps.log > /home/sbatzner/ML-electron-density/EAM/runs/114/lammps.out\n",
      "1\n",
      "Running lammps remotely...\n",
      "\n",
      "mpirun -np 32 /home/sbatzner/lammps-16Mar18/src/lmp_mpi -in /home/sbatzner/ML-electron-density/EAM/runs/115/lammps.in -log /home/sbatzner/ML-electron-density/EAM/runs/115/lammps.log > /home/sbatzner/ML-electron-density/EAM/runs/115/lammps.out\n",
      "1\n",
      "Running lammps remotely...\n",
      "\n",
      "mpirun -np 32 /home/sbatzner/lammps-16Mar18/src/lmp_mpi -in /home/sbatzner/ML-electron-density/EAM/runs/116/lammps.in -log /home/sbatzner/ML-electron-density/EAM/runs/116/lammps.log > /home/sbatzner/ML-electron-density/EAM/runs/116/lammps.out\n",
      "1\n",
      "Running lammps remotely...\n",
      "\n",
      "mpirun -np 32 /home/sbatzner/lammps-16Mar18/src/lmp_mpi -in /home/sbatzner/ML-electron-density/EAM/runs/117/lammps.in -log /home/sbatzner/ML-electron-density/EAM/runs/117/lammps.log > /home/sbatzner/ML-electron-density/EAM/runs/117/lammps.out\n",
      "1\n",
      "Running lammps remotely...\n",
      "\n",
      "mpirun -np 32 /home/sbatzner/lammps-16Mar18/src/lmp_mpi -in /home/sbatzner/ML-electron-density/EAM/runs/118/lammps.in -log /home/sbatzner/ML-electron-density/EAM/runs/118/lammps.log > /home/sbatzner/ML-electron-density/EAM/runs/118/lammps.out\n",
      "1\n",
      "Running lammps remotely...\n",
      "\n",
      "mpirun -np 32 /home/sbatzner/lammps-16Mar18/src/lmp_mpi -in /home/sbatzner/ML-electron-density/EAM/runs/119/lammps.in -log /home/sbatzner/ML-electron-density/EAM/runs/119/lammps.log > /home/sbatzner/ML-electron-density/EAM/runs/119/lammps.out\n",
      "1\n",
      "Running lammps remotely...\n",
      "\n",
      "mpirun -np 32 /home/sbatzner/lammps-16Mar18/src/lmp_mpi -in /home/sbatzner/ML-electron-density/EAM/runs/120/lammps.in -log /home/sbatzner/ML-electron-density/EAM/runs/120/lammps.log > /home/sbatzner/ML-electron-density/EAM/runs/120/lammps.out\n",
      "1\n",
      "Running lammps remotely...\n",
      "\n",
      "mpirun -np 32 /home/sbatzner/lammps-16Mar18/src/lmp_mpi -in /home/sbatzner/ML-electron-density/EAM/runs/121/lammps.in -log /home/sbatzner/ML-electron-density/EAM/runs/121/lammps.log > /home/sbatzner/ML-electron-density/EAM/runs/121/lammps.out\n",
      "1\n",
      "Running lammps remotely...\n",
      "\n",
      "mpirun -np 32 /home/sbatzner/lammps-16Mar18/src/lmp_mpi -in /home/sbatzner/ML-electron-density/EAM/runs/122/lammps.in -log /home/sbatzner/ML-electron-density/EAM/runs/122/lammps.log > /home/sbatzner/ML-electron-density/EAM/runs/122/lammps.out\n",
      "1\n",
      "Running lammps remotely...\n",
      "\n",
      "mpirun -np 32 /home/sbatzner/lammps-16Mar18/src/lmp_mpi -in /home/sbatzner/ML-electron-density/EAM/runs/123/lammps.in -log /home/sbatzner/ML-electron-density/EAM/runs/123/lammps.log > /home/sbatzner/ML-electron-density/EAM/runs/123/lammps.out\n"
     ]
    },
    {
     "name": "stdout",
     "output_type": "stream",
     "text": [
      "1\n",
      "Running lammps remotely...\n",
      "\n",
      "mpirun -np 32 /home/sbatzner/lammps-16Mar18/src/lmp_mpi -in /home/sbatzner/ML-electron-density/EAM/runs/124/lammps.in -log /home/sbatzner/ML-electron-density/EAM/runs/124/lammps.log > /home/sbatzner/ML-electron-density/EAM/runs/124/lammps.out\n",
      "1\n",
      "Running lammps remotely...\n",
      "\n",
      "mpirun -np 32 /home/sbatzner/lammps-16Mar18/src/lmp_mpi -in /home/sbatzner/ML-electron-density/EAM/runs/125/lammps.in -log /home/sbatzner/ML-electron-density/EAM/runs/125/lammps.log > /home/sbatzner/ML-electron-density/EAM/runs/125/lammps.out\n",
      "1\n",
      "Running lammps remotely...\n",
      "\n",
      "mpirun -np 32 /home/sbatzner/lammps-16Mar18/src/lmp_mpi -in /home/sbatzner/ML-electron-density/EAM/runs/126/lammps.in -log /home/sbatzner/ML-electron-density/EAM/runs/126/lammps.log > /home/sbatzner/ML-electron-density/EAM/runs/126/lammps.out\n",
      "1\n",
      "Running lammps remotely...\n",
      "\n",
      "mpirun -np 32 /home/sbatzner/lammps-16Mar18/src/lmp_mpi -in /home/sbatzner/ML-electron-density/EAM/runs/127/lammps.in -log /home/sbatzner/ML-electron-density/EAM/runs/127/lammps.log > /home/sbatzner/ML-electron-density/EAM/runs/127/lammps.out\n",
      "1\n",
      "Running lammps remotely...\n",
      "\n",
      "mpirun -np 32 /home/sbatzner/lammps-16Mar18/src/lmp_mpi -in /home/sbatzner/ML-electron-density/EAM/runs/128/lammps.in -log /home/sbatzner/ML-electron-density/EAM/runs/128/lammps.log > /home/sbatzner/ML-electron-density/EAM/runs/128/lammps.out\n",
      "1\n",
      "Running lammps remotely...\n",
      "\n",
      "mpirun -np 32 /home/sbatzner/lammps-16Mar18/src/lmp_mpi -in /home/sbatzner/ML-electron-density/EAM/runs/129/lammps.in -log /home/sbatzner/ML-electron-density/EAM/runs/129/lammps.log > /home/sbatzner/ML-electron-density/EAM/runs/129/lammps.out\n",
      "1\n",
      "Running lammps remotely...\n",
      "\n",
      "mpirun -np 32 /home/sbatzner/lammps-16Mar18/src/lmp_mpi -in /home/sbatzner/ML-electron-density/EAM/runs/130/lammps.in -log /home/sbatzner/ML-electron-density/EAM/runs/130/lammps.log > /home/sbatzner/ML-electron-density/EAM/runs/130/lammps.out\n",
      "1\n",
      "Running lammps remotely...\n",
      "\n",
      "mpirun -np 32 /home/sbatzner/lammps-16Mar18/src/lmp_mpi -in /home/sbatzner/ML-electron-density/EAM/runs/131/lammps.in -log /home/sbatzner/ML-electron-density/EAM/runs/131/lammps.log > /home/sbatzner/ML-electron-density/EAM/runs/131/lammps.out\n",
      "1\n",
      "Running lammps remotely...\n",
      "\n",
      "mpirun -np 32 /home/sbatzner/lammps-16Mar18/src/lmp_mpi -in /home/sbatzner/ML-electron-density/EAM/runs/132/lammps.in -log /home/sbatzner/ML-electron-density/EAM/runs/132/lammps.log > /home/sbatzner/ML-electron-density/EAM/runs/132/lammps.out\n",
      "1\n",
      "Running lammps remotely...\n",
      "\n",
      "mpirun -np 32 /home/sbatzner/lammps-16Mar18/src/lmp_mpi -in /home/sbatzner/ML-electron-density/EAM/runs/133/lammps.in -log /home/sbatzner/ML-electron-density/EAM/runs/133/lammps.log > /home/sbatzner/ML-electron-density/EAM/runs/133/lammps.out\n",
      "1\n",
      "Running lammps remotely...\n",
      "\n",
      "mpirun -np 32 /home/sbatzner/lammps-16Mar18/src/lmp_mpi -in /home/sbatzner/ML-electron-density/EAM/runs/134/lammps.in -log /home/sbatzner/ML-electron-density/EAM/runs/134/lammps.log > /home/sbatzner/ML-electron-density/EAM/runs/134/lammps.out\n",
      "1\n",
      "Running lammps remotely...\n",
      "\n",
      "mpirun -np 32 /home/sbatzner/lammps-16Mar18/src/lmp_mpi -in /home/sbatzner/ML-electron-density/EAM/runs/135/lammps.in -log /home/sbatzner/ML-electron-density/EAM/runs/135/lammps.log > /home/sbatzner/ML-electron-density/EAM/runs/135/lammps.out\n",
      "1\n",
      "Running lammps remotely...\n",
      "\n",
      "mpirun -np 32 /home/sbatzner/lammps-16Mar18/src/lmp_mpi -in /home/sbatzner/ML-electron-density/EAM/runs/136/lammps.in -log /home/sbatzner/ML-electron-density/EAM/runs/136/lammps.log > /home/sbatzner/ML-electron-density/EAM/runs/136/lammps.out\n",
      "1\n",
      "Running lammps remotely...\n",
      "\n",
      "mpirun -np 32 /home/sbatzner/lammps-16Mar18/src/lmp_mpi -in /home/sbatzner/ML-electron-density/EAM/runs/137/lammps.in -log /home/sbatzner/ML-electron-density/EAM/runs/137/lammps.log > /home/sbatzner/ML-electron-density/EAM/runs/137/lammps.out\n",
      "1\n",
      "Running lammps remotely...\n",
      "\n",
      "mpirun -np 32 /home/sbatzner/lammps-16Mar18/src/lmp_mpi -in /home/sbatzner/ML-electron-density/EAM/runs/138/lammps.in -log /home/sbatzner/ML-electron-density/EAM/runs/138/lammps.log > /home/sbatzner/ML-electron-density/EAM/runs/138/lammps.out\n",
      "1\n",
      "Running lammps remotely...\n",
      "\n",
      "mpirun -np 32 /home/sbatzner/lammps-16Mar18/src/lmp_mpi -in /home/sbatzner/ML-electron-density/EAM/runs/139/lammps.in -log /home/sbatzner/ML-electron-density/EAM/runs/139/lammps.log > /home/sbatzner/ML-electron-density/EAM/runs/139/lammps.out\n",
      "1\n",
      "Running lammps remotely...\n",
      "\n",
      "mpirun -np 32 /home/sbatzner/lammps-16Mar18/src/lmp_mpi -in /home/sbatzner/ML-electron-density/EAM/runs/140/lammps.in -log /home/sbatzner/ML-electron-density/EAM/runs/140/lammps.log > /home/sbatzner/ML-electron-density/EAM/runs/140/lammps.out\n",
      "1\n",
      "Running lammps remotely...\n",
      "\n",
      "mpirun -np 32 /home/sbatzner/lammps-16Mar18/src/lmp_mpi -in /home/sbatzner/ML-electron-density/EAM/runs/141/lammps.in -log /home/sbatzner/ML-electron-density/EAM/runs/141/lammps.log > /home/sbatzner/ML-electron-density/EAM/runs/141/lammps.out\n",
      "1\n",
      "Running lammps remotely...\n",
      "\n",
      "mpirun -np 32 /home/sbatzner/lammps-16Mar18/src/lmp_mpi -in /home/sbatzner/ML-electron-density/EAM/runs/142/lammps.in -log /home/sbatzner/ML-electron-density/EAM/runs/142/lammps.log > /home/sbatzner/ML-electron-density/EAM/runs/142/lammps.out\n",
      "1\n",
      "Running lammps remotely...\n",
      "\n",
      "mpirun -np 32 /home/sbatzner/lammps-16Mar18/src/lmp_mpi -in /home/sbatzner/ML-electron-density/EAM/runs/143/lammps.in -log /home/sbatzner/ML-electron-density/EAM/runs/143/lammps.log > /home/sbatzner/ML-electron-density/EAM/runs/143/lammps.out\n",
      "1\n",
      "Running lammps remotely...\n",
      "\n",
      "mpirun -np 32 /home/sbatzner/lammps-16Mar18/src/lmp_mpi -in /home/sbatzner/ML-electron-density/EAM/runs/144/lammps.in -log /home/sbatzner/ML-electron-density/EAM/runs/144/lammps.log > /home/sbatzner/ML-electron-density/EAM/runs/144/lammps.out\n",
      "1\n",
      "Running lammps remotely...\n",
      "\n",
      "mpirun -np 32 /home/sbatzner/lammps-16Mar18/src/lmp_mpi -in /home/sbatzner/ML-electron-density/EAM/runs/145/lammps.in -log /home/sbatzner/ML-electron-density/EAM/runs/145/lammps.log > /home/sbatzner/ML-electron-density/EAM/runs/145/lammps.out\n",
      "1\n",
      "Running lammps remotely...\n",
      "\n",
      "mpirun -np 32 /home/sbatzner/lammps-16Mar18/src/lmp_mpi -in /home/sbatzner/ML-electron-density/EAM/runs/146/lammps.in -log /home/sbatzner/ML-electron-density/EAM/runs/146/lammps.log > /home/sbatzner/ML-electron-density/EAM/runs/146/lammps.out\n",
      "1\n",
      "Running lammps remotely...\n",
      "\n",
      "mpirun -np 32 /home/sbatzner/lammps-16Mar18/src/lmp_mpi -in /home/sbatzner/ML-electron-density/EAM/runs/147/lammps.in -log /home/sbatzner/ML-electron-density/EAM/runs/147/lammps.log > /home/sbatzner/ML-electron-density/EAM/runs/147/lammps.out\n",
      "1\n",
      "Running lammps remotely...\n",
      "\n",
      "mpirun -np 32 /home/sbatzner/lammps-16Mar18/src/lmp_mpi -in /home/sbatzner/ML-electron-density/EAM/runs/148/lammps.in -log /home/sbatzner/ML-electron-density/EAM/runs/148/lammps.log > /home/sbatzner/ML-electron-density/EAM/runs/148/lammps.out\n",
      "1\n",
      "Running lammps remotely...\n",
      "\n",
      "mpirun -np 32 /home/sbatzner/lammps-16Mar18/src/lmp_mpi -in /home/sbatzner/ML-electron-density/EAM/runs/149/lammps.in -log /home/sbatzner/ML-electron-density/EAM/runs/149/lammps.log > /home/sbatzner/ML-electron-density/EAM/runs/149/lammps.out\n"
     ]
    },
    {
     "data": {
      "image/png": "[encoded data removed]",
      "text/plain": [
       "<Figure size 864x720 with 3 Axes>"
      ]
     },
     "metadata": {},
     "output_type": "display_data"
    }
   ],
   "source": [
    "# defaults used for converging other params\n",
    "width_def = 20\n",
    "depth_def = 20\n",
    "vacuum_def = 10\n",
    "\n",
    "# maxima for convergence\n",
    "width_max = 50\n",
    "depth_max = 50\n",
    "vacuum_max = 30\n",
    "\n",
    "converge_slab(el=el, alat = alat_relax)"
   ]
  },
  {
   "cell_type": "markdown",
   "metadata": {},
   "source": [
    "## Relax top two layers of converged slab configuration"
   ]
  },
  {
   "cell_type": "code",
   "execution_count": 27,
   "metadata": {},
   "outputs": [],
   "source": [
    "width = 30 \n",
    "depth = 30\n",
    "vacuum = 10"
   ]
  },
  {
   "cell_type": "code",
   "execution_count": 28,
   "metadata": {},
   "outputs": [
    {
     "name": "stdout",
     "output_type": "stream",
     "text": [
      "27000\n"
     ]
    }
   ],
   "source": [
    "# create surface slab\n",
    "slab = fcc111(el, a=alat_relax, size=(width, width, depth))\n",
    "print(slab.get_number_of_atoms())\n",
    "\n",
    "# center along z-axis\n",
    "slab.center(vacuum=vacuum, axis=2)\n",
    "ase.io.write('slab_unrelaxed.cif', slab)\n",
    "structure = Struc(ase2struc(slab))"
   ]
  },
  {
   "cell_type": "markdown",
   "metadata": {},
   "source": [
    "## Relax top n layers, freeze the rest"
   ]
  },
  {
   "cell_type": "markdown",
   "metadata": {},
   "source": [
    "### top 2 layers "
   ]
  },
  {
   "cell_type": "code",
   "execution_count": 29,
   "metadata": {},
   "outputs": [
    {
     "name": "stdout",
     "output_type": "stream",
     "text": [
      "1\n",
      "Running lammps remotely...\n",
      "\n",
      "mpirun -np 32 /home/sbatzner/lammps-16Mar18/src/lmp_mpi -in /home/sbatzner/ML-electron-density/EAM/lammps.in -log /home/sbatzner/ML-electron-density/EAM/lammps.log > /home/sbatzner/ML-electron-density/EAM/lammps.out\n"
     ]
    }
   ],
   "source": [
    "runpath = Dir(path=os.path.join(workdir))\n",
    "n_atoms = slab.get_number_of_atoms()\n",
    "output_file = lammps_run(struc=structure, runpath=runpath, potential=potential, intemplate=input_template_fix2l, inparam={}, remote = remote)\n",
    "energy_2l, lattice = get_lammps_energy(outfile=output_file)"
   ]
  },
  {
   "cell_type": "code",
   "execution_count": 30,
   "metadata": {},
   "outputs": [
    {
     "name": "stdout",
     "output_type": "stream",
     "text": [
      "Relaxed slab energy/atom: -3.876505877139482\n"
     ]
    }
   ],
   "source": [
    "print(\"Relaxed slab energy/atom: {}\".format(energy_2l/n_atoms))"
   ]
  },
  {
   "cell_type": "markdown",
   "metadata": {},
   "source": [
    "### top 3 layers"
   ]
  },
  {
   "cell_type": "code",
   "execution_count": 31,
   "metadata": {},
   "outputs": [
    {
     "name": "stdout",
     "output_type": "stream",
     "text": [
      "1\n",
      "Running lammps remotely...\n",
      "\n",
      "mpirun -np 32 /home/sbatzner/lammps-16Mar18/src/lmp_mpi -in /home/sbatzner/ML-electron-density/EAM/lammps.in -log /home/sbatzner/ML-electron-density/EAM/lammps.log > /home/sbatzner/ML-electron-density/EAM/lammps.out\n"
     ]
    }
   ],
   "source": [
    "runpath = Dir(path=os.path.join(workdir))\n",
    "output_file = lammps_run(struc=structure, runpath=runpath, potential=potential, intemplate=input_template_fix3l, inparam={}, remote=remote)\n",
    "energy_3l, lattice = get_lammps_energy(outfile=output_file)"
   ]
  },
  {
   "cell_type": "code",
   "execution_count": 32,
   "metadata": {},
   "outputs": [
    {
     "name": "stdout",
     "output_type": "stream",
     "text": [
      "Relaxed slab energy/atom: -3.8765083165900003\n"
     ]
    }
   ],
   "source": [
    "print(\"Relaxed slab energy/atom: {}\".format(energy_3l/n_atoms))"
   ]
  },
  {
   "cell_type": "markdown",
   "metadata": {},
   "source": [
    "### top 4 layers"
   ]
  },
  {
   "cell_type": "code",
   "execution_count": 33,
   "metadata": {},
   "outputs": [
    {
     "name": "stdout",
     "output_type": "stream",
     "text": [
      "1\n",
      "Running lammps remotely...\n",
      "\n",
      "mpirun -np 32 /home/sbatzner/lammps-16Mar18/src/lmp_mpi -in /home/sbatzner/ML-electron-density/EAM/lammps.in -log /home/sbatzner/ML-electron-density/EAM/lammps.log > /home/sbatzner/ML-electron-density/EAM/lammps.out\n"
     ]
    }
   ],
   "source": [
    "runpath = Dir(path=os.path.join(workdir))\n",
    "output_file = lammps_run(struc=structure, runpath=runpath, potential=potential, intemplate=input_template_fix4l, inparam={}, remote=remote)\n",
    "energy_4l, lattice = get_lammps_energy(outfile=output_file)"
   ]
  },
  {
   "cell_type": "code",
   "execution_count": 34,
   "metadata": {},
   "outputs": [
    {
     "name": "stdout",
     "output_type": "stream",
     "text": [
      "Relaxed slab energy/atom: -3.8765083164222593\n"
     ]
    }
   ],
   "source": [
    "print(\"Relaxed slab energy/atom: {}\".format(energy_4l/n_atoms))"
   ]
  },
  {
   "cell_type": "markdown",
   "metadata": {},
   "source": [
    "## Read relaxed structure from top 2 layers dumpfile"
   ]
  },
  {
   "cell_type": "code",
   "execution_count": 35,
   "metadata": {},
   "outputs": [],
   "source": [
    "def parse_structure_dump_wr(runpath, dumpfilename):\n",
    "    dumpfile = os.path.join(runpath.path, dumpfilename)\n",
    "    last_structure = read_lammps_dump(dumpfile)\n",
    "    strucfile = os.path.join(runpath.path, 'slab_top2l_relaxed.cif')\n",
    "    ase.io.write(strucfile, last_structure)\n",
    "    return last_structure"
   ]
  },
  {
   "cell_type": "markdown",
   "metadata": {},
   "source": [
    "## Add adsorbate and run MD "
   ]
  },
  {
   "cell_type": "code",
   "execution_count": 36,
   "metadata": {},
   "outputs": [],
   "source": [
    "slab = parse_structure_dump_wr(runpath = Dir(path=workdir), dumpfilename = 'fix2l_.out')\n",
    "ada_delta_z = 2 # distance in z of adatom above top layer\n",
    "\n",
    "# add adatom\n",
    "x_min = np.amin(slab.positions[:, 0])\n",
    "x_max = np.amax(slab.positions[:, 0])\n",
    "\n",
    "y_min = np.amin(slab.positions[:, 1])\n",
    "y_max = np.amax(slab.positions[:, 1])\n",
    "\n",
    "ads_pos = (x_min + 0.5 * (x_max - x_min), y_min + 0.5 * (y_max - y_min))\n",
    "add_adsorbate(slab, el, ada_delta_z, ads_pos)\n",
    "ase.io.write('slab_with_ads.cif', slab)\n",
    "\n",
    "# center along z-axis\n",
    "slab.center(vacuum=vacuum, axis=2)\n",
    "struc = Struc(ase2struc(slab))"
   ]
  },
  {
   "cell_type": "markdown",
   "metadata": {},
   "source": [
    "## Note: This is currenlty tracking the MSD of the original adatom specified by atom ID. This will need to be updated to properly account for exchange mechanisms with the bulk atoms"
   ]
  },
  {
   "cell_type": "markdown",
   "metadata": {},
   "source": [
    "## T = 1100 K "
   ]
  },
  {
   "cell_type": "code",
   "execution_count": 37,
   "metadata": {},
   "outputs": [],
   "source": [
    "# MD params\n",
    "nsteps = 250000\n",
    "temperature = 1100"
   ]
  },
  {
   "cell_type": "code",
   "execution_count": 38,
   "metadata": {},
   "outputs": [
    {
     "name": "stdout",
     "output_type": "stream",
     "text": [
      "1\n",
      "Running lammps remotely...\n",
      "\n",
      "mpirun -np 32 /home/sbatzner/lammps-16Mar18/src/lmp_mpi -in /home/sbatzner/ML-electron-density/EAM/lammps.in -log /home/sbatzner/ML-electron-density/EAM/lammps.log > /home/sbatzner/ML-electron-density/EAM/lammps.out\n"
     ]
    },
    {
     "data": {
      "image/png": "[encoded data removed]",
      "text/plain": [
       "<Figure size 864x720 with 1 Axes>"
      ]
     },
     "metadata": {},
     "output_type": "display_data"
    },
    {
     "data": {
      "image/png": "[encoded data removed]",
      "text/plain": [
       "<Figure size 864x720 with 1 Axes>"
      ]
     },
     "metadata": {},
     "output_type": "display_data"
    }
   ],
   "source": [
    "output, rdfs = md_run(el, alat_relax, nsteps, temperature, width, depth, vacuum, struc_type='slab', struc=struc)"
   ]
  },
  {
   "cell_type": "code",
   "execution_count": 39,
   "metadata": {},
   "outputs": [],
   "source": [
    "!mv dump_ada.atom dump_ada_1100.atom"
   ]
  },
  {
   "cell_type": "markdown",
   "metadata": {},
   "source": [
    "## T = 900 K "
   ]
  },
  {
   "cell_type": "code",
   "execution_count": 40,
   "metadata": {},
   "outputs": [],
   "source": [
    "# MD params\n",
    "nsteps = 250000\n",
    "temperature = 900"
   ]
  },
  {
   "cell_type": "code",
   "execution_count": 41,
   "metadata": {},
   "outputs": [
    {
     "name": "stdout",
     "output_type": "stream",
     "text": [
      "1\n",
      "Running lammps remotely...\n",
      "\n",
      "mpirun -np 32 /home/sbatzner/lammps-16Mar18/src/lmp_mpi -in /home/sbatzner/ML-electron-density/EAM/lammps.in -log /home/sbatzner/ML-electron-density/EAM/lammps.log > /home/sbatzner/ML-electron-density/EAM/lammps.out\n"
     ]
    },
    {
     "data": {
      "image/png": "[encoded data removed]",
      "text/plain": [
       "<Figure size 864x720 with 1 Axes>"
      ]
     },
     "metadata": {},
     "output_type": "display_data"
    },
    {
     "data": {
      "image/png": "[encoded data removed]",
      "text/plain": [
       "<Figure size 864x720 with 1 Axes>"
      ]
     },
     "metadata": {},
     "output_type": "display_data"
    }
   ],
   "source": [
    "output, rdfs = md_run(el, alat_relax, nsteps, temperature, width, depth, vacuum, struc_type='slab', struc=struc)"
   ]
  },
  {
   "cell_type": "code",
   "execution_count": 42,
   "metadata": {},
   "outputs": [],
   "source": [
    "!mv dump_ada.atom dump_ada_900.atom"
   ]
  },
  {
   "cell_type": "markdown",
   "metadata": {},
   "source": [
    "# 2. Bulk Ag with a vacancy"
   ]
  },
  {
   "cell_type": "code",
   "execution_count": 43,
   "metadata": {},
   "outputs": [],
   "source": [
    "el = 'Ag'\n",
    "size = 3\n",
    "alat_start = 4.0\n",
    "potpath = os.path.join(os.environ['LAMMPS_POTENTIALS'], el + '_u3.eam')\n",
    "potential = ClassicalPotential(path=potpath, ptype='eam', element=[el])"
   ]
  },
  {
   "cell_type": "code",
   "execution_count": 44,
   "metadata": {},
   "outputs": [
    {
     "name": "stdout",
     "output_type": "stream",
     "text": [
      "1\n",
      "Running lammps remotely...\n",
      "\n",
      "mpirun -np 32 /home/sbatzner/lammps-16Mar18/src/lmp_mpi -in /home/sbatzner/ML-electron-density/EAM/runs/bulk_vac/lammps.in -log /home/sbatzner/ML-electron-density/EAM/runs/bulk_vac/lammps.log > /home/sbatzner/ML-electron-density/EAM/runs/bulk_vac/lammps.out\n",
      "4\n",
      "Relaxed bulk energy/atom: -2.8500000015662\n",
      "Relaxed lattice parameter: 4.0899999415\n"
     ]
    }
   ],
   "source": [
    "# create bulk cell\n",
    "cell = crystal(el, [(0, 0, 0)], spacegroup=225, cellpar=[alat_start, alat_start, alat_start, 90, 90, 90])\n",
    "n_atoms = cell.get_number_of_atoms()\n",
    "structure = Struc(ase2struc(cell))\n",
    "\n",
    "runpath = Dir(path=os.path.join(workdir, os.path.join('runs/bulk_vac')))\n",
    "file_prefix = 'bulk_relax_' + str(alat_start) \n",
    "write(file_prefix + '.cif', cell, format='cif')\n",
    "\n",
    "# run \n",
    "output_file = lammps_run(struc=structure, runpath=runpath, potential=potential, intemplate=input_template_relax, inparam={}, remote=remote)\n",
    "energy, alat_relax = get_lammps_energy(outfile=output_file)\n",
    "\n",
    "print(n_atoms)\n",
    "print(\"Relaxed bulk energy/atom: {}\".format(energy/n_atoms))\n",
    "print(\"Relaxed lattice parameter: {0:.10f}\".format(alat_relax))"
   ]
  },
  {
   "cell_type": "markdown",
   "metadata": {},
   "source": [
    "## Relax with vacancy \n",
    "\n",
    "### Note: when we relax with a bulk vacancy, don't allow the lattice parameter to adjust, that's unphysical; only allow that when we're relaxing the perfect cell"
   ]
  },
  {
   "cell_type": "code",
   "execution_count": 45,
   "metadata": {},
   "outputs": [
    {
     "name": "stdout",
     "output_type": "stream",
     "text": [
      "\n",
      "Supercell size: 2\n",
      "\n",
      "1\n",
      "Running lammps remotely...\n",
      "\n",
      "mpirun -np 32 /home/sbatzner/lammps-16Mar18/src/lmp_mpi -in /home/sbatzner/ML-electron-density/EAM/runs/bulk_vac/lammps.in -log /home/sbatzner/ML-electron-density/EAM/runs/bulk_vac/lammps.log > /home/sbatzner/ML-electron-density/EAM/runs/bulk_vac/lammps.out\n",
      "Number of atoms: 31\n",
      "Relaxed bulk energy/atom: -2.8187229336907484\n",
      "Relaxed lattice parameter: 4.0899999415\n",
      "\n",
      "Supercell size: 3\n",
      "\n",
      "1\n",
      "Running lammps remotely...\n",
      "\n",
      "mpirun -np 32 /home/sbatzner/lammps-16Mar18/src/lmp_mpi -in /home/sbatzner/ML-electron-density/EAM/runs/bulk_vac/lammps.in -log /home/sbatzner/ML-electron-density/EAM/runs/bulk_vac/lammps.log > /home/sbatzner/ML-electron-density/EAM/runs/bulk_vac/lammps.out\n",
      "Number of atoms: 107\n",
      "Relaxed bulk energy/atom: -2.840964415897907\n",
      "Relaxed lattice parameter: 4.0899999415\n",
      "\n",
      "Supercell size: 4\n",
      "\n",
      "1\n",
      "Running lammps remotely...\n",
      "\n",
      "mpirun -np 32 /home/sbatzner/lammps-16Mar18/src/lmp_mpi -in /home/sbatzner/ML-electron-density/EAM/runs/bulk_vac/lammps.in -log /home/sbatzner/ML-electron-density/EAM/runs/bulk_vac/lammps.log > /home/sbatzner/ML-electron-density/EAM/runs/bulk_vac/lammps.out\n",
      "Number of atoms: 255\n",
      "Relaxed bulk energy/atom: -2.846211050485506\n",
      "Relaxed lattice parameter: 4.0899999415\n",
      "\n",
      "Supercell size: 5\n",
      "\n",
      "1\n",
      "Running lammps remotely...\n",
      "\n",
      "mpirun -np 32 /home/sbatzner/lammps-16Mar18/src/lmp_mpi -in /home/sbatzner/ML-electron-density/EAM/runs/bulk_vac/lammps.in -log /home/sbatzner/ML-electron-density/EAM/runs/bulk_vac/lammps.log > /home/sbatzner/ML-electron-density/EAM/runs/bulk_vac/lammps.out\n",
      "Number of atoms: 499\n",
      "Relaxed bulk energy/atom: -2.8480642134052907\n",
      "Relaxed lattice parameter: 4.0899999415\n",
      "\n",
      "Supercell size: 6\n",
      "\n",
      "1\n",
      "Running lammps remotely...\n",
      "\n",
      "mpirun -np 32 /home/sbatzner/lammps-16Mar18/src/lmp_mpi -in /home/sbatzner/ML-electron-density/EAM/runs/bulk_vac/lammps.in -log /home/sbatzner/ML-electron-density/EAM/runs/bulk_vac/lammps.log > /home/sbatzner/ML-electron-density/EAM/runs/bulk_vac/lammps.out\n",
      "Number of atoms: 863\n",
      "Relaxed bulk energy/atom: -2.848880813142827\n",
      "Relaxed lattice parameter: 4.0899999415\n",
      "\n",
      "Supercell size: 7\n",
      "\n",
      "1\n",
      "Running lammps remotely...\n",
      "\n",
      "mpirun -np 32 /home/sbatzner/lammps-16Mar18/src/lmp_mpi -in /home/sbatzner/ML-electron-density/EAM/runs/bulk_vac/lammps.in -log /home/sbatzner/ML-electron-density/EAM/runs/bulk_vac/lammps.log > /home/sbatzner/ML-electron-density/EAM/runs/bulk_vac/lammps.out\n",
      "Number of atoms: 1371\n",
      "Relaxed bulk energy/atom: -2.8492955453695115\n",
      "Relaxed lattice parameter: 4.0899999415\n",
      "\n",
      "Supercell size: 8\n",
      "\n",
      "1\n",
      "Running lammps remotely...\n",
      "\n",
      "mpirun -np 32 /home/sbatzner/lammps-16Mar18/src/lmp_mpi -in /home/sbatzner/ML-electron-density/EAM/runs/bulk_vac/lammps.in -log /home/sbatzner/ML-electron-density/EAM/runs/bulk_vac/lammps.log > /home/sbatzner/ML-electron-density/EAM/runs/bulk_vac/lammps.out\n",
      "Number of atoms: 2047\n",
      "Relaxed bulk energy/atom: -2.849528198314426\n",
      "Relaxed lattice parameter: 4.0899999415\n",
      "\n",
      "Supercell size: 9\n",
      "\n",
      "1\n",
      "Running lammps remotely...\n",
      "\n",
      "mpirun -np 32 /home/sbatzner/lammps-16Mar18/src/lmp_mpi -in /home/sbatzner/ML-electron-density/EAM/runs/bulk_vac/lammps.in -log /home/sbatzner/ML-electron-density/EAM/runs/bulk_vac/lammps.log > /home/sbatzner/ML-electron-density/EAM/runs/bulk_vac/lammps.out\n",
      "Number of atoms: 2915\n",
      "Relaxed bulk energy/atom: -2.849668692984587\n",
      "Relaxed lattice parameter: 4.0899999415\n",
      "\n",
      "Supercell size: 10\n",
      "\n",
      "1\n",
      "Running lammps remotely...\n",
      "\n",
      "mpirun -np 32 /home/sbatzner/lammps-16Mar18/src/lmp_mpi -in /home/sbatzner/ML-electron-density/EAM/runs/bulk_vac/lammps.in -log /home/sbatzner/ML-electron-density/EAM/runs/bulk_vac/lammps.log > /home/sbatzner/ML-electron-density/EAM/runs/bulk_vac/lammps.out\n",
      "Number of atoms: 3999\n",
      "Relaxed bulk energy/atom: -2.849758502774119\n",
      "Relaxed lattice parameter: 4.0899999415\n",
      "\n",
      "Supercell size: 11\n",
      "\n",
      "1\n",
      "Running lammps remotely...\n",
      "\n",
      "mpirun -np 32 /home/sbatzner/lammps-16Mar18/src/lmp_mpi -in /home/sbatzner/ML-electron-density/EAM/runs/bulk_vac/lammps.in -log /home/sbatzner/ML-electron-density/EAM/runs/bulk_vac/lammps.log > /home/sbatzner/ML-electron-density/EAM/runs/bulk_vac/lammps.out\n",
      "Number of atoms: 5323\n",
      "Relaxed bulk energy/atom: -2.849818572443678\n",
      "Relaxed lattice parameter: 4.0899999415\n",
      "\n",
      "Supercell size: 12\n",
      "\n",
      "1\n",
      "Running lammps remotely...\n",
      "\n",
      "mpirun -np 32 /home/sbatzner/lammps-16Mar18/src/lmp_mpi -in /home/sbatzner/ML-electron-density/EAM/runs/bulk_vac/lammps.in -log /home/sbatzner/ML-electron-density/EAM/runs/bulk_vac/lammps.log > /home/sbatzner/ML-electron-density/EAM/runs/bulk_vac/lammps.out\n",
      "Number of atoms: 6911\n",
      "Relaxed bulk energy/atom: -2.8498602617132835\n",
      "Relaxed lattice parameter: 4.0899999415\n",
      "\n",
      "Supercell size: 13\n",
      "\n",
      "1\n",
      "Running lammps remotely...\n",
      "\n",
      "mpirun -np 32 /home/sbatzner/lammps-16Mar18/src/lmp_mpi -in /home/sbatzner/ML-electron-density/EAM/runs/bulk_vac/lammps.in -log /home/sbatzner/ML-electron-density/EAM/runs/bulk_vac/lammps.log > /home/sbatzner/ML-electron-density/EAM/runs/bulk_vac/lammps.out\n",
      "Number of atoms: 8787\n",
      "Relaxed bulk energy/atom: -2.8498900960681346\n",
      "Relaxed lattice parameter: 4.0899999415\n",
      "\n",
      "Supercell size: 14\n",
      "\n",
      "1\n",
      "Running lammps remotely...\n",
      "\n",
      "mpirun -np 32 /home/sbatzner/lammps-16Mar18/src/lmp_mpi -in /home/sbatzner/ML-electron-density/EAM/runs/bulk_vac/lammps.in -log /home/sbatzner/ML-electron-density/EAM/runs/bulk_vac/lammps.log > /home/sbatzner/ML-electron-density/EAM/runs/bulk_vac/lammps.out\n",
      "Number of atoms: 10975\n",
      "Relaxed bulk energy/atom: -2.8499120071651753\n",
      "Relaxed lattice parameter: 4.0899999415\n",
      "\n",
      "Supercell size: 15\n",
      "\n",
      "1\n",
      "Running lammps remotely...\n",
      "\n",
      "mpirun -np 32 /home/sbatzner/lammps-16Mar18/src/lmp_mpi -in /home/sbatzner/ML-electron-density/EAM/runs/bulk_vac/lammps.in -log /home/sbatzner/ML-electron-density/EAM/runs/bulk_vac/lammps.log > /home/sbatzner/ML-electron-density/EAM/runs/bulk_vac/lammps.out\n",
      "Number of atoms: 13499\n",
      "Relaxed bulk energy/atom: -2.8499284599296617\n",
      "Relaxed lattice parameter: 4.0899999415\n"
     ]
    }
   ],
   "source": [
    "for size in range(2, 16): \n",
    "    print(\"\\nSupercell size: {}\\n\".format(size))\n",
    "    \n",
    "    # create bulk cell\n",
    "    cell = crystal(el, [(0, 0, 0)], spacegroup=225, cellpar=[alat_relax, alat_relax, alat_relax, 90, 90, 90])\n",
    "\n",
    "    # make supercell\n",
    "    multiplier = numpy.identity(3) * size\n",
    "    supercell = make_supercell(cell, multiplier)\n",
    "\n",
    "    # remove atom\n",
    "    supercell.pop(supercell.get_number_of_atoms() // 2)\n",
    "    cell = supercell\n",
    "\n",
    "    # setup run\n",
    "    n_atoms = cell.get_number_of_atoms()\n",
    "    ase.io.write('bulk_vac.cif', cell)\n",
    "    structure = Struc(ase2struc(cell))\n",
    "\n",
    "\n",
    "    runpath = Dir(path=os.path.join(workdir, os.path.join('runs/bulk_vac')))\n",
    "    file_prefix = 'bulk_relax_' + str(alat_start) \n",
    "    write(file_prefix + '.cif', cell, format='cif')\n",
    "\n",
    "    # run \n",
    "    output_file = lammps_run(struc=structure, runpath=runpath, potential=potential, intemplate=input_template_relax_wo_vc, inparam={}, remote=remote)\n",
    "    energy, alat_relax_vac = get_lammps_energy(outfile=output_file)\n",
    "\n",
    "    print(\"Number of atoms: {}\".format(n_atoms))\n",
    "    print(\"Relaxed bulk energy/atom: {}\".format(energy/n_atoms))\n",
    "    print(\"Relaxed lattice parameter: {0:.10f}\".format(alat_relax_vac/size))"
   ]
  },
  {
   "cell_type": "code",
   "execution_count": 46,
   "metadata": {},
   "outputs": [],
   "source": [
    "size = 10"
   ]
  },
  {
   "cell_type": "code",
   "execution_count": 47,
   "metadata": {},
   "outputs": [
    {
     "name": "stdout",
     "output_type": "stream",
     "text": [
      "1999\n",
      "1\n",
      "Running lammps remotely...\n",
      "\n",
      "mpirun -np 32 /home/sbatzner/lammps-16Mar18/src/lmp_mpi -in /home/sbatzner/ML-electron-density/EAM/runs/bulk_vac/lammps.in -log /home/sbatzner/ML-electron-density/EAM/runs/bulk_vac/lammps.log > /home/sbatzner/ML-electron-density/EAM/runs/bulk_vac/lammps.out\n"
     ]
    }
   ],
   "source": [
    "# create bulk cell\n",
    "cell = crystal(el, [(0, 0, 0)], spacegroup=225, cellpar=[alat_relax, alat_relax, alat_relax, 90, 90, 90])\n",
    "\n",
    "# make supercell\n",
    "multiplier = numpy.identity(3) * size\n",
    "supercell = make_supercell(cell, multiplier)\n",
    "\n",
    "# remove atom\n",
    "supercell.pop(supercell.get_number_of_atoms() // 2)\n",
    "print(supercell.get_number_of_atoms() // 2)\n",
    "# supercell.pop(supercell.get_number_of_atoms() // 4)\n",
    "# supercell.pop(3 * supercell.get_number_of_atoms() // 4)\n",
    "cell = supercell\n",
    "\n",
    "# setup run\n",
    "n_atoms = cell.get_number_of_atoms()\n",
    "ase.io.write('bulk_vac.cif', cell)\n",
    "structure = Struc(ase2struc(cell))\n",
    "\n",
    "\n",
    "runpath = Dir(path=os.path.join(workdir, os.path.join('runs/bulk_vac')))\n",
    "file_prefix = 'bulk_relax_' + str(alat_start) \n",
    "write(file_prefix + '.cif', cell, format='cif')\n",
    "\n",
    "# run \n",
    "output_file = lammps_run(struc=structure, runpath=runpath, potential=potential, intemplate=input_template_relax_wo_vc, inparam={}, remote=remote)\n",
    "energy, alat_relax_vac = get_lammps_energy(outfile=output_file)"
   ]
  },
  {
   "cell_type": "markdown",
   "metadata": {},
   "source": [
    "## Run MD for bulk with vacancy"
   ]
  },
  {
   "cell_type": "code",
   "execution_count": 48,
   "metadata": {},
   "outputs": [
    {
     "name": "stdout",
     "output_type": "stream",
     "text": [
      "3999\n"
     ]
    }
   ],
   "source": [
    "struc = parse_structure_dump_wr(runpath = Dir(path=workdir), dumpfilename = 'rel_wo_vc.out')\n",
    "struc = Struc(ase2struc(struc))\n",
    "print(struc.n_atoms)"
   ]
  },
  {
   "cell_type": "markdown",
   "metadata": {},
   "source": [
    "## T = 1100 K "
   ]
  },
  {
   "cell_type": "code",
   "execution_count": 49,
   "metadata": {},
   "outputs": [],
   "source": [
    "# MD params\n",
    "nsteps = 1000000\n",
    "temperature = 1100"
   ]
  },
  {
   "cell_type": "code",
   "execution_count": 50,
   "metadata": {},
   "outputs": [
    {
     "name": "stdout",
     "output_type": "stream",
     "text": [
      "1\n",
      "Running lammps remotely...\n",
      "\n",
      "mpirun -np 32 /home/sbatzner/lammps-16Mar18/src/lmp_mpi -in /home/sbatzner/ML-electron-density/EAM/lammps.in -log /home/sbatzner/ML-electron-density/EAM/lammps.log > /home/sbatzner/ML-electron-density/EAM/lammps.out\n"
     ]
    },
    {
     "data": {
      "image/png": "[encoded data removed]",
      "text/plain": [
       "<Figure size 864x720 with 1 Axes>"
      ]
     },
     "metadata": {},
     "output_type": "display_data"
    },
    {
     "data": {
      "image/png": "[encoded data removed]",
      "text/plain": [
       "<Figure size 864x720 with 1 Axes>"
      ]
     },
     "metadata": {},
     "output_type": "display_data"
    }
   ],
   "source": [
    "output, rdfs = md_run(el, alat_relax, nsteps, temperature, None, None, None, struc_type='bulk_vacancy', struc = struc)"
   ]
  },
  {
   "cell_type": "code",
   "execution_count": 51,
   "metadata": {},
   "outputs": [],
   "source": [
    "!mv dump_bulkvac.atom dump_bulkvac_1100.atom"
   ]
  },
  {
   "cell_type": "markdown",
   "metadata": {},
   "source": [
    "## T = 900 K "
   ]
  },
  {
   "cell_type": "code",
   "execution_count": 52,
   "metadata": {},
   "outputs": [],
   "source": [
    "# MD params\n",
    "nsteps = 1000000\n",
    "temperature = 900"
   ]
  },
  {
   "cell_type": "code",
   "execution_count": 53,
   "metadata": {},
   "outputs": [
    {
     "name": "stdout",
     "output_type": "stream",
     "text": [
      "1\n",
      "Running lammps remotely...\n",
      "\n",
      "mpirun -np 32 /home/sbatzner/lammps-16Mar18/src/lmp_mpi -in /home/sbatzner/ML-electron-density/EAM/lammps.in -log /home/sbatzner/ML-electron-density/EAM/lammps.log > /home/sbatzner/ML-electron-density/EAM/lammps.out\n"
     ]
    },
    {
     "data": {
      "image/png": "[encoded data removed]",
      "text/plain": [
       "<Figure size 864x720 with 1 Axes>"
      ]
     },
     "metadata": {},
     "output_type": "display_data"
    },
    {
     "data": {
      "image/png": "[encoded data removed]",
      "text/plain": [
       "<Figure size 864x720 with 1 Axes>"
      ]
     },
     "metadata": {},
     "output_type": "display_data"
    }
   ],
   "source": [
    "output, rdfs = md_run(el, alat_relax, nsteps, temperature, None, None, None, struc_type='bulk_vacancy', struc = struc)"
   ]
  },
  {
   "cell_type": "code",
   "execution_count": 54,
   "metadata": {},
   "outputs": [],
   "source": [
    "!mv dump_bulkvac.atom dump_bulkvac_900.atom"
   ]
  },
  {
   "cell_type": "code",
   "execution_count": null,
   "metadata": {},
   "outputs": [],
   "source": []
  }
 ],
 "metadata": {
  "kernelspec": {
   "display_name": "Python 3",
   "language": "python",
   "name": "python3"
  },
  "language_info": {
   "codemirror_mode": {
    "name": "ipython",
    "version": 3
   },
   "file_extension": ".py",
   "mimetype": "text/x-python",
   "name": "python",
   "nbconvert_exporter": "python",
   "pygments_lexer": "ipython3",
   "version": "3.5.5"
  }
 },
 "nbformat": 4,
 "nbformat_minor": 1
}
