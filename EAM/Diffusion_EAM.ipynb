{
 "cells": [
  {
   "cell_type": "markdown",
   "metadata": {},
   "source": [
    "# Pd Adatom self-diffusion using an EAM Potential\n",
    "\n",
    "\n",
    "\n",
    "## References \n",
    "###      [1] AP275 Labs, Boris Kozinsky (Harvard U), https://github.com/bkoz37/labutil\n",
    "    \n",
    "Simon Batzner"
   ]
  },
  {
   "cell_type": "markdown",
   "metadata": {},
   "source": [
    "## Params:\n",
    "\n",
    "You will need to set the same environment variables as used in the labs: \n",
    "\n",
    "    1. LAMMPS_COMMAND=<path-to-lammps-executable>\n",
    "    2. LAMMPS_POTENTIALS=<path-to-dir-with-lammps-potential files>\n",
    "\n",
    "### Note: \n",
    "    \n",
    "    Bulk should be relaxed first to find lattice parameter with given potential, then cut off for surface and top \n",
    "    layers should be relaxed; this is still missing. "
   ]
  },
  {
   "cell_type": "code",
   "execution_count": 18,
   "metadata": {},
   "outputs": [],
   "source": [
    "import numpy as np\n",
    "import matplotlib.pyplot as plt\n",
    "\n",
    "from src.plugins.lammps import *\n",
    "from src.objects import *\n",
    "from ase.build import *\n",
    "from ase.io import write\n",
    "from ase.spacegroup import crystal"
   ]
  },
  {
   "cell_type": "code",
   "execution_count": 141,
   "metadata": {},
   "outputs": [],
   "source": [
    "workdir = os.path.join(os.environ['ML_HOME'], 'EAM')\n",
    "write_cif = False\n",
    "write_qe = False"
   ]
  },
  {
   "cell_type": "markdown",
   "metadata": {},
   "source": [
    "## Templates for MD run and convergence of params"
   ]
  },
  {
   "cell_type": "code",
   "execution_count": 20,
   "metadata": {},
   "outputs": [],
   "source": [
    "input_template_conv = \"\"\"\n",
    "# ---------- 1. Initialize simulation ---------------------\n",
    "units metal\n",
    "atom_style atomic\n",
    "dimension  3\n",
    "boundary   p p p\n",
    "read_data $DATAINPUT\n",
    "\n",
    "# ---------- 2. Specify interatomic potential ---------------------\n",
    "pair_style eam\n",
    "pair_coeff * * $POTENTIAL\n",
    "\n",
    "# ---------- 3. Run single point calculation  ---------------------\n",
    "thermo_style custom step pe lx ly lz press pxx pyy pzz\n",
    "run 0\n",
    "\n",
    "# ---- 4. Define and print useful variables -------------\n",
    "variable natoms equal \"count(all)\"\n",
    "variable totenergy equal \"pe\"\n",
    "variable length equal \"lx\"\n",
    "\n",
    "print \"Total energy (eV) = ${totenergy}\"\n",
    "print \"Number of atoms = ${natoms}\"\n",
    "print \"Lattice constant (Angstoms) = ${length}\"\n",
    "        \"\"\""
   ]
  },
  {
   "cell_type": "code",
   "execution_count": 21,
   "metadata": {},
   "outputs": [],
   "source": [
    "input_template_run = \"\"\"\n",
    "# ---------- Initialize simulation ---------------------\n",
    "units metal\n",
    "atom_style atomic\n",
    "dimension  3\n",
    "boundary   p p p\n",
    "read_data $DATAINPUT\n",
    "pair_style eam\n",
    "pair_coeff * * $POTENTIAL\n",
    "velocity  all create $TEMPERATURE 87287 dist gaussian\n",
    "\n",
    "# ---------- Describe computed properties------------------\n",
    "compute msdall all msd\n",
    "thermo_style custom step pe ke etotal temp press density c_msdall[4]\n",
    "thermo $TOUTPUT\n",
    "\n",
    "# ---------- Specify ensemble  ---------------------\n",
    "fix  1 all nve\n",
    "#fix  1 all nvt temp $TEMPERATURE $TEMPERATURE $TDAMP\n",
    "\n",
    "# --------- Compute RDF ---------------\n",
    "compute rdfall all rdf 100 1 1\n",
    "fix 2 all ave/time 1 $RDFFRAME $RDFFRAME c_rdfall[*] file $RDFFILE mode vector\n",
    "\n",
    "# --------- Run -------------\n",
    "timestep $TIMESTEP\n",
    "run $NSTEPS\n",
    "\"\"\""
   ]
  },
  {
   "cell_type": "markdown",
   "metadata": {},
   "source": [
    "## Build Structures"
   ]
  },
  {
   "cell_type": "code",
   "execution_count": 136,
   "metadata": {},
   "outputs": [],
   "source": [
    "def make_bulk(alat, size, el = 'Pd', lattice = 'fcc'):\n",
    "    \"\"\"\n",
    "    Creates the bulk crystal structure using ASE.\n",
    "    \n",
    "    :param alat: lattice parameter\n",
    "    :return: structure object converted from ase\n",
    "    \"\"\"\n",
    "    # create bulk cell\n",
    "    cell = bulk(el, lattice, a=alat)\n",
    "    \n",
    "    # make supercell\n",
    "    multiplier = numpy.identity(3) * size\n",
    "    supercell = make_supercell(cell, multiplier)\n",
    "\n",
    "    # write QE input and cif file\n",
    "    file_prefix = 'bulk_' + str(width) + '_' + str(depth) + '_' + str(vacuum)\n",
    "    \n",
    "    n_atoms = supercellcell.get_number_of_atoms()\n",
    "    structure = Struc(ase2struc(supercell))\n",
    "\n",
    "    return structure, n_atoms"
   ]
  },
  {
   "cell_type": "code",
   "execution_count": 137,
   "metadata": {},
   "outputs": [],
   "source": [
    "def make_bulk_w_vacancy(alat, size, el = 'Pd', lattice = 'fcc'):\n",
    "    \"\"\"\n",
    "    Creates the bulk crystal structure using ASE with a vacancy\n",
    "    \n",
    "    :param alat: lattice parameter\n",
    "    :return: structure object converted from ase\n",
    "    \"\"\"\n",
    "    \n",
    "    # create bulk cell\n",
    "    cell = bulk(el, lattice, a=alat)\n",
    "    \n",
    "    # make supercell\n",
    "    multiplier = numpy.identity(3) * size\n",
    "    supercell = make_supercell(cell, multiplier)\n",
    "    \n",
    "    # remove atom to form vacancy\n",
    "    supercell.pop(supercell.get_number_of_atoms() // 2)\n",
    "\n",
    "    n_atoms = supercell.get_number_of_atoms()\n",
    "    structure = Struc(ase2struc(supercell))\n",
    "    \n",
    "    return structure, n_atoms"
   ]
  },
  {
   "cell_type": "code",
   "execution_count": 138,
   "metadata": {},
   "outputs": [],
   "source": [
    "def make_slab(el, alat, width, depth, vacuum):\n",
    "    \"\"\"\n",
    "    Creates the slab crystal structure using ASE.\n",
    "    \n",
    "    :param width: width of slab\n",
    "    :param depth: depth of slab\n",
    "    :param vacuum: vacuum in Angstrom\n",
    "    :return: structure object converted from ase\n",
    "    \"\"\"\n",
    "    # create surface slab\n",
    "    slab = fcc111(el, a=alat, size=(width, width, depth))\n",
    "\n",
    "    # add adatom - supported special adsorption sites for fcc111: 'ontop', 'bridge', 'fcc' and 'hcp'\n",
    "    add_adsorbate(slab, el, 1.5, 'ontop')\n",
    "\n",
    "    # center along z-axis\n",
    "    slab.center(vacuum=vacuum, axis=2)\n",
    "\n",
    "    n_atoms = slab.get_number_of_atoms()\n",
    "    structure = Struc(ase2struc(slab))\n",
    "\n",
    "    return structure, n_atoms"
   ]
  },
  {
   "cell_type": "markdown",
   "metadata": {},
   "source": [
    "## Run Things"
   ]
  },
  {
   "cell_type": "code",
   "execution_count": 92,
   "metadata": {},
   "outputs": [],
   "source": [
    "def compute_energy(el, alat, width, depth, vacuum, template, cnt):\n",
    "    \"\"\"\n",
    "    Make an input template and select potential and structure, and the path where to run\n",
    "    \"\"\"\n",
    "    potpath = os.path.join(os.environ['LAMMPS_POTENTIALS'], el + '_u3.eam')\n",
    "    potential = ClassicalPotential(path=potpath, ptype='eam', element=[el])\n",
    "    runpath = Dir(path=os.path.join(workdir, os.path.join('runs', str(cnt))))\n",
    "    struc, n_atoms = make_slab(el = el, alat=alat, width=width, depth=depth, vacuum=vacuum)\n",
    "    output_file = lammps_run(struc=struc, runpath=runpath, potential=potential, intemplate=template, inparam={})\n",
    "    energy, lattice = get_lammps_energy(outfile=output_file)\n",
    "\n",
    "    # normalize energy\n",
    "    energy = energy / n_atoms\n",
    "\n",
    "    return energy, lattice"
   ]
  },
  {
   "cell_type": "code",
   "execution_count": 93,
   "metadata": {},
   "outputs": [],
   "source": [
    "def converge_slab(el, alat):\n",
    "    width_arr = np.linspace(1, width_max)\n",
    "    depth_arr = np.linspace(1, depth_max)\n",
    "    vacuum_arr = np.linspace(1, vacuum_max)\n",
    "\n",
    "    e_w_list = []\n",
    "    e_d_list = []\n",
    "    e_v_list = []\n",
    "\n",
    "    # converge width\n",
    "    cnt = 0\n",
    "    for width in width_arr:\n",
    "        e_w_list.append(compute_energy(el = el, alat = alat, width=int(width), depth=int(depth_def), vacuum=int(vacuum_def),\n",
    "                                       template=input_template_conv, cnt=cnt)[0])\n",
    "        cnt += 1\n",
    "\n",
    "    # converge depth\n",
    "    for depth in depth_arr:\n",
    "        e_d_list.append(compute_energy(el = el, alat = alat, width=int(width_def), depth=int(depth), vacuum=int(vacuum_def),\n",
    "                                       template=input_template_conv, cnt=cnt)[0])\n",
    "        cnt += 1\n",
    "\n",
    "    # converge vacuum\n",
    "    for vacuum in vacuum_arr:\n",
    "        e_v_list.append(compute_energy(el = el, alat = alat, width=int(width_def), depth=int(depth_def), vacuum=int(vacuum),\n",
    "                                       template=input_template_conv, cnt=cnt)[0])\n",
    "        cnt += 1\n",
    "\n",
    "    # convergence plots\n",
    "    plt.figure(figsize = (12, 10))\n",
    "    plt.subplot(311)\n",
    "    plt.plot(width_arr, e_w_list)\n",
    "    plt.title('E(width)')\n",
    "    plt.subplot(312)\n",
    "    plt.plot(depth_arr, e_d_list)\n",
    "    plt.title('E(depth)')\n",
    "    plt.subplot(313)\n",
    "    plt.plot(vacuum_arr, e_v_list)\n",
    "    plt.title('E(vacuum)')\n",
    "    plt.show()\n",
    "\n",
    "    return"
   ]
  },
  {
   "cell_type": "code",
   "execution_count": 134,
   "metadata": {},
   "outputs": [],
   "source": [
    "def compute_dynamics(struc_type, el, alat, timestep, nsteps, temperature, width, depth, vacuum):\n",
    "    \"\"\"\n",
    "    Make an input template and select potential and structure, and input parameters.\n",
    "    Return a pair of output file and RDF file written to the runpath directory.\n",
    "    \"\"\"\n",
    "    potpath = os.path.join(os.environ['LAMMPS_POTENTIALS'], el + '_u3.eam')\n",
    "    potential = ClassicalPotential(path=potpath, ptype='eam', element=[el])\n",
    "    runpath = Dir(path=workdir)\n",
    "    \n",
    "    if struc_type=='slab': \n",
    "        struc, n_atoms = make_slab(el=el, alat=alat, width=width, depth=depth, vacuum=vacuum)\n",
    "    elif struc_type=='bulk_vacancy': \n",
    "        print(\"Bulk vacancy\")\n",
    "        struc, n_atoms = make_bulk_w_vacancy(el=el, alat=alat, size=3, lattice='fcc')\n",
    "        \n",
    "    inparam = {\n",
    "        'TEMPERATURE': temperature,\n",
    "        'NSTEPS': nsteps,\n",
    "        'TIMESTEP': timestep,\n",
    "        'TOUTPUT': 100,  # how often to write thermo output\n",
    "        'TDAMP': 50 * timestep,  # thermostat damping time scale\n",
    "        'RDFFRAME': int(nsteps / 4),  # frames for radial distribution function\n",
    "    }\n",
    "\n",
    "    outfile = lammps_run(struc=struc, runpath=runpath, potential=potential,\n",
    "                         intemplate=input_template_run, inparam=inparam)\n",
    "\n",
    "    output = parse_lammps_thermo(outfile=outfile)\n",
    "    print(output)\n",
    "    rdffile = get_rdf(runpath=runpath)\n",
    "    rdfs = parse_lammps_rdf(rdffile=rdffile)\n",
    "\n",
    "    return output, rdfs"
   ]
  },
  {
   "cell_type": "code",
   "execution_count": 123,
   "metadata": {},
   "outputs": [],
   "source": [
    "def md_run(el, alat, nsteps, temperature, width, depth, vacuum, struc_type):\n",
    "    \"\"\" Run MD, plot results \"\"\"\n",
    "\n",
    "    # run md\n",
    "    output, rdfs = compute_dynamics(struc_type=struc_type, el=el, alat=alat, timestep=0.001, nsteps=nsteps, \n",
    "                                    temperature=temperature, width=width, depth=depth, vacuum=vacuum)\n",
    "\n",
    "    # collect results\n",
    "    [simtime, pe, ke, energy, temp, press, dens, msd] = output\n",
    "\n",
    "    ## ------- plot mean square displacement\n",
    "    plt.figure(figsize = (12, 10))\n",
    "    plt.plot(simtime, msd)\n",
    "    plt.title('MSD vs. simtime')\n",
    "    plt.savefig('msd.png')\n",
    "    plt.show()\n",
    "\n",
    "#     ## ------- plot radial distribution functions\n",
    "#     for rdf in rdfs:\n",
    "#         plt.plot(rdf[0], rdf[1])\n",
    "\n",
    "#     plt.savefig('rdf.png')\n",
    "#     plt.show()"
   ]
  },
  {
   "cell_type": "markdown",
   "metadata": {},
   "source": [
    "## Converge"
   ]
  },
  {
   "cell_type": "code",
   "execution_count": 124,
   "metadata": {},
   "outputs": [],
   "source": [
    "el = 'Pd'\n",
    "alat = 4.5"
   ]
  },
  {
   "cell_type": "code",
   "execution_count": 107,
   "metadata": {},
   "outputs": [
    {
     "data": {
      "image/png": "[encoded data removed]",
      "text/plain": [
       "<Figure size 864x720 with 3 Axes>"
      ]
     },
     "metadata": {},
     "output_type": "display_data"
    }
   ],
   "source": [
    "# defaults used for converging other params\n",
    "width_def = 5\n",
    "depth_def = 5\n",
    "vacuum_def = 10\n",
    "\n",
    "# maxima for convergence\n",
    "width_max = 30\n",
    "depth_max = 30\n",
    "vacuum_max = 10\n",
    "\n",
    "converge_slab(el=el, alat = alat)"
   ]
  },
  {
   "cell_type": "markdown",
   "metadata": {},
   "source": [
    "## Run MD for surface adatom"
   ]
  },
  {
   "cell_type": "code",
   "execution_count": 142,
   "metadata": {},
   "outputs": [],
   "source": [
    "el = 'Pd'\n",
    "alat = 4.5 # find this from relaxation first\n",
    "\n",
    "width = 30\n",
    "depth = 30\n",
    "vacuum = 10\n",
    "nsteps = 10000\n",
    "temperature = 900"
   ]
  },
  {
   "cell_type": "code",
   "execution_count": 127,
   "metadata": {},
   "outputs": [
    {
     "data": {
      "image/png": "[encoded data removed]",
      "text/plain": [
       "<Figure size 864x720 with 1 Axes>"
      ]
     },
     "metadata": {},
     "output_type": "display_data"
    }
   ],
   "source": [
    "md_run(el, alat, nsteps, temperature, width, depth, vacuum, struc_type='slab')"
   ]
  },
  {
   "cell_type": "markdown",
   "metadata": {},
   "source": [
    "## Run MD for bulk vacancy"
   ]
  },
  {
   "cell_type": "code",
   "execution_count": 129,
   "metadata": {},
   "outputs": [],
   "source": [
    "el = 'Pd'\n",
    "alat = 4.5 # find this from relaxation first\n",
    "nsteps = 100\n",
    "temperature = 900\n",
    "struc_type = 'bulk_vacancy'"
   ]
  },
  {
   "cell_type": "code",
   "execution_count": 135,
   "metadata": {},
   "outputs": [
    {
     "name": "stdout",
     "output_type": "stream",
     "text": [
      "Bulk vacancy\n",
      "N_atoms before vacancy: 27\n",
      "N_atoms after vacancy: 26\n",
      "[]\n"
     ]
    },
    {
     "ename": "ValueError",
     "evalue": "not enough values to unpack (expected 8, got 0)",
     "output_type": "error",
     "traceback": [
      "\u001b[0;31m---------------------------------------------------------------------------\u001b[0m",
      "\u001b[0;31mValueError\u001b[0m                                Traceback (most recent call last)",
      "\u001b[0;32m<ipython-input-135-f40c83562dee>\u001b[0m in \u001b[0;36m<module>\u001b[0;34m()\u001b[0m\n\u001b[0;32m----> 1\u001b[0;31m \u001b[0mmd_run\u001b[0m\u001b[0;34m(\u001b[0m\u001b[0mel\u001b[0m\u001b[0;34m,\u001b[0m \u001b[0malat\u001b[0m\u001b[0;34m,\u001b[0m \u001b[0mnsteps\u001b[0m\u001b[0;34m,\u001b[0m \u001b[0mtemperature\u001b[0m\u001b[0;34m,\u001b[0m \u001b[0mwidth\u001b[0m\u001b[0;34m,\u001b[0m \u001b[0mdepth\u001b[0m\u001b[0;34m,\u001b[0m \u001b[0mvacuum\u001b[0m\u001b[0;34m,\u001b[0m \u001b[0mstruc_type\u001b[0m\u001b[0;34m=\u001b[0m\u001b[0;34m'bulk_vacancy'\u001b[0m\u001b[0;34m)\u001b[0m\u001b[0;34m\u001b[0m\u001b[0m\n\u001b[0m",
      "\u001b[0;32m<ipython-input-123-4534c1126881>\u001b[0m in \u001b[0;36mmd_run\u001b[0;34m(el, alat, nsteps, temperature, width, depth, vacuum, struc_type)\u001b[0m\n\u001b[1;32m      7\u001b[0m \u001b[0;34m\u001b[0m\u001b[0m\n\u001b[1;32m      8\u001b[0m     \u001b[0;31m# collect results\u001b[0m\u001b[0;34m\u001b[0m\u001b[0;34m\u001b[0m\u001b[0m\n\u001b[0;32m----> 9\u001b[0;31m     \u001b[0;34m[\u001b[0m\u001b[0msimtime\u001b[0m\u001b[0;34m,\u001b[0m \u001b[0mpe\u001b[0m\u001b[0;34m,\u001b[0m \u001b[0mke\u001b[0m\u001b[0;34m,\u001b[0m \u001b[0menergy\u001b[0m\u001b[0;34m,\u001b[0m \u001b[0mtemp\u001b[0m\u001b[0;34m,\u001b[0m \u001b[0mpress\u001b[0m\u001b[0;34m,\u001b[0m \u001b[0mdens\u001b[0m\u001b[0;34m,\u001b[0m \u001b[0mmsd\u001b[0m\u001b[0;34m]\u001b[0m \u001b[0;34m=\u001b[0m \u001b[0moutput\u001b[0m\u001b[0;34m\u001b[0m\u001b[0m\n\u001b[0m\u001b[1;32m     10\u001b[0m \u001b[0;34m\u001b[0m\u001b[0m\n\u001b[1;32m     11\u001b[0m     \u001b[0;31m## ------- plot mean square displacement\u001b[0m\u001b[0;34m\u001b[0m\u001b[0;34m\u001b[0m\u001b[0m\n",
      "\u001b[0;31mValueError\u001b[0m: not enough values to unpack (expected 8, got 0)"
     ]
    }
   ],
   "source": [
    "md_run(el, alat, nsteps, temperature, width, depth, vacuum, struc_type='bulk_vacancy')"
   ]
  },
  {
   "cell_type": "code",
   "execution_count": null,
   "metadata": {},
   "outputs": [],
   "source": []
  }
 ],
 "metadata": {
  "kernelspec": {
   "display_name": "Python 3",
   "language": "python",
   "name": "python3"
  },
  "language_info": {
   "codemirror_mode": {
    "name": "ipython",
    "version": 3
   },
   "file_extension": ".py",
   "mimetype": "text/x-python",
   "name": "python",
   "nbconvert_exporter": "python",
   "pygments_lexer": "ipython3",
   "version": "3.5.5"
  }
 },
 "nbformat": 4,
 "nbformat_minor": 2
}
