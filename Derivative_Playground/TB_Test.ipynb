{
 "cells": [
  {
   "cell_type": "code",
   "execution_count": 2,
   "metadata": {
    "collapsed": true
   },
   "outputs": [],
   "source": [
    "from sympy import *\n",
    "import numpy as np\n",
    "import scipy as sp\n",
    "import scipy.linalg\n",
    "import matplotlib.pyplot as plt\n",
    "import time\n",
    "from scipy.optimize import minimize\n",
    "import multiprocessing as mp"
   ]
  },
  {
   "cell_type": "code",
   "execution_count": 3,
   "metadata": {
    "collapsed": true
   },
   "outputs": [],
   "source": [
    "from MD_Parser import *"
   ]
  },
  {
   "cell_type": "markdown",
   "metadata": {},
   "source": [
    "### Define helper functions."
   ]
  },
  {
   "cell_type": "code",
   "execution_count": 4,
   "metadata": {
    "collapsed": true
   },
   "outputs": [],
   "source": [
    "# get two body kernel (two derivatives)\n",
    "# x1, x2 are 4xN matrices containing distances and Cartesian coordinate differences\n",
    "def tb_kern(x1, x2, d1, d2, sig, ls):\n",
    "    # loop over atoms\n",
    "    tot_kern = 0\n",
    "    for m in range(x1.shape[1]):\n",
    "        dist1 = x1[0,m]\n",
    "        coord1 = x1[d1,m]\n",
    "        for n in range(x2.shape[1]): \n",
    "            dist2 = x2[0,n]\n",
    "            coord2 = x2[d2,n]\n",
    "            \n",
    "            # calculate covariance for current pair of atoms\n",
    "            base = sig**2*np.exp(-(dist1-dist2)**2/(2*ls**2))\n",
    "            doub_fac = -ls**2+(dist1-dist2)**2\n",
    "            kern = -base*coord1*coord2*doub_fac/(dist1*dist2*ls**4)\n",
    "            \n",
    "            tot_kern+=kern\n",
    "\n",
    "    return tot_kern\n",
    "\n",
    "# get 3Nx3N noiseless kernel matrix\n",
    "# assume all 3 force components are known for each configuration\n",
    "# X is assumed to be a list of 4xN arrays\n",
    "def get_K(X,sig,ls,noise):\n",
    "    # initialize matrix\n",
    "    size = len(X)*3\n",
    "    K = np.zeros([size, size])\n",
    "    \n",
    "    # calculate elements\n",
    "    for m in range(size):\n",
    "        x1 = X[int(floor(m/3))]\n",
    "        d1 = m%3+1\n",
    "        for n in range(m,size):\n",
    "            x2 = X[int(floor(n/3))]\n",
    "            d2 = n%3+1\n",
    "           \n",
    "            # calculate kernel\n",
    "            cov = tb_kern(x1, x2, d1, d2, sig, ls)\n",
    "            K[m,n] = cov\n",
    "            K[n,m] = cov\n",
    "    # perform cholesky decomposition\n",
    "    L = np.linalg.cholesky(K+noise**2*np.eye(size))\n",
    "    \n",
    "    return K, L\n",
    "\n",
    "# get row of covariances\n",
    "def get_cov_row(x1, d1, m, size, X, sig, ls):\n",
    "    covs = []\n",
    "    for n in range(m,size):\n",
    "        x2 = X[int(floor(n/3))]\n",
    "        d2 = n%3+1\n",
    "\n",
    "        # calculate kernel\n",
    "        cov = tb_kern(x1, x2, d1, d2, sig, ls)\n",
    "        covs.append(cov)\n",
    "        \n",
    "    return covs\n",
    "\n",
    "# get covariance matrix with multiple processors\n",
    "def get_K_par(X,sig,ls,noise,pool):\n",
    "    # initialize matrix\n",
    "    size = len(X)*3\n",
    "    K = np.zeros([size, size])\n",
    "\n",
    "    # calculate elements\n",
    "    results = []\n",
    "    for m in range(size):\n",
    "        x1 = X[int(floor(m/3))]\n",
    "        d1 = m%3+1\n",
    "\n",
    "        results.append(pool.apply_async(get_cov_row, \\\n",
    "            args=(x1, d1, m, size, X, sig, ls)))\n",
    "\n",
    "    # construct covariance matrix\n",
    "    for m in range(size):\n",
    "        res_cur = results[m].get()\n",
    "        for n in range(m,size):\n",
    "            K[m,n]=res_cur[n-m]\n",
    "            K[n,m]=res_cur[n-m]\n",
    "\n",
    "    # perform cholesky decomposition\n",
    "    L = np.linalg.cholesky(K+noise**2*np.eye(size))\n",
    "    \n",
    "    return K,L\n",
    "\n",
    "# get kernel vector\n",
    "def get_kv(X,x,d1,sig,ls):\n",
    "    size = len(X)*3\n",
    "    kv=np.zeros([size,1])\n",
    "    for m in range(size):\n",
    "        x2 = X[int(floor(m/3))]\n",
    "        d2 = m%3+1\n",
    "        kv[m]=tb_kern(x,x2,d1,d2,sig,ls)\n",
    "        \n",
    "    return kv\n",
    "\n",
    "# get alpha\n",
    "def get_alpha(K,L,y): \n",
    "    # get alpha\n",
    "    ts1 = sp.linalg.solve_triangular(L,y,lower=True)\n",
    "    alpha = sp.linalg.solve_triangular(L.transpose(),ts1)\n",
    "            \n",
    "    return alpha\n",
    "\n",
    "# get likelihood\n",
    "def get_like(K,L,y,alpha): \n",
    "    # get log marginal likelihood\n",
    "    like = -(1/2)*np.matmul(y.transpose(),alpha)-\\\n",
    "            np.sum(np.log(np.diagonal(L)))-\\\n",
    "            np.log(2*np.pi)*K.shape[1]/2\n",
    "            \n",
    "    return like\n",
    "\n",
    "# get likelihood as a function of hyperparameters\n",
    "def like_hyp(hyp,X,y):\n",
    "    # unpack hyperparameters\n",
    "    sig = hyp[0]\n",
    "    ls = hyp[1]\n",
    "    noise = hyp[2]\n",
    "    \n",
    "    # calculate likelihood\n",
    "    K, L = get_K(X,sig,ls,noise)\n",
    "    alpha = get_alpha(K,L,y)\n",
    "    like = get_like(K,L,y,alpha)\n",
    "    \n",
    "    # print\n",
    "    print('sig: '+str(sig))\n",
    "    print('ls: '+str(ls))\n",
    "    print('noise: '+str(noise))\n",
    "    print('log like: '+str(like))\n",
    "    \n",
    "    return like\n",
    "\n",
    "# get minus likelihood as a function of hyperparameters\n",
    "def minus_like_hyp(hyp,X,y):\n",
    "    like = like_hyp(hyp,X,y)\n",
    "    minus_like = -like\n",
    "    return minus_like\n",
    "\n",
    "# make GP prediction with SE kernel\n",
    "def GP_pred(X,y,K,L,alpha,sig,ls,xt,d):\n",
    "    # get kernel vector\n",
    "    kv = get_kv(X,xt,d,sig,ls)\n",
    "    \n",
    "    # get predictive mean\n",
    "    f = np.matmul(kv.transpose(),alpha)\n",
    "    \n",
    "    # get predictive variance\n",
    "    v = sp.linalg.solve_triangular(L,kv,lower=True)\n",
    "    self_kern = tb_kern(xt, xt, d, d, sig, ls)\n",
    "    var = self_kern - np.matmul(v.transpose(),v)\n",
    "    \n",
    "    return f, var\n",
    "\n",
    "# given list of Cartesian coordinates, return list of atomic environments\n",
    "def get_cutoff_vecs(vec, brav_mat, brav_inv, vec1, vec2, vec3, cutoff):\n",
    "    # get bravais coefficients\n",
    "    coeff = np.matmul(brav_inv, vec)\n",
    "    \n",
    "    # get bravais coefficients for atoms within one super-super-cell\n",
    "    coeffs = [[],[],[]]\n",
    "    for n in range(3):\n",
    "        coeffs[n].append(coeff[n])\n",
    "        coeffs[n].append(coeff[n]-1)\n",
    "        coeffs[n].append(coeff[n]+1)\n",
    "\n",
    "    # get vectors within cutoff\n",
    "    vecs = []\n",
    "    dists = []\n",
    "    for m in range(len(coeffs[0])):\n",
    "        for n in range(len(coeffs[1])):\n",
    "            for p in range(len(coeffs[2])):\n",
    "                vec_curr = coeffs[0][m]*vec1 + coeffs[1][n]*vec2 + coeffs[2][p]*vec3\n",
    "                \n",
    "                dist = np.linalg.norm(vec_curr)\n",
    "\n",
    "                if dist < cutoff:\n",
    "                    vecs.append(vec_curr)\n",
    "                    dists.append(dist)\n",
    "                    \n",
    "    return vecs, dists\n",
    "\n",
    "# given list of cartesian coordinates, get chemical environment of specified atom\n",
    "# pos = list of cartesian coordinates\n",
    "def get_env(pos, atom, brav_mat, brav_inv, vec1, vec2, vec3, cutoff):\n",
    "    env = [[],[],[],[]]\n",
    "    pos_atom = np.array(pos[atom]).reshape(3,1)\n",
    "    \n",
    "    # loop through positions to find all atoms and images in the neighborhood\n",
    "    for n in range(len(pos)):\n",
    "        # position relative to reference atom\n",
    "        diff_curr = np.array(pos[n]).reshape(3,1) - pos_atom\n",
    "\n",
    "        # get images within cutoff\n",
    "        vecs, dists = get_cutoff_vecs(diff_curr, brav_mat, \\\n",
    "            brav_inv, vec1, vec2, vec3, cutoff)\n",
    "\n",
    "        for vec, dist in zip(vecs, dists):\n",
    "            # ignore self interaction\n",
    "            if dist != 0:\n",
    "                # append distance\n",
    "                env[0].append(dist)\n",
    "                \n",
    "                # append coordinate differences\n",
    "                env[1].append(-vec[0][0])\n",
    "                env[2].append(-vec[1][0])\n",
    "                env[3].append(-vec[2][0])\n",
    "\n",
    "    env = np.array(env)\n",
    "    return env\n",
    "\n",
    "# given list of cartesian coordinates, return list of chemical environments\n",
    "def get_envs(pos, brav_mat, brav_inv, vec1, vec2, vec3, cutoff):\n",
    "    envs = []\n",
    "    for n in range(len(pos)):\n",
    "        atom = n\n",
    "        env = get_env(pos, atom, brav_mat, brav_inv, vec1, vec2, vec3, cutoff)\n",
    "        envs.append(env)\n",
    "        \n",
    "    return envs\n",
    "\n",
    "# convert list of triplets to column vector\n",
    "def fc_conv(fcs):\n",
    "    comp_len = len(fcs)*3\n",
    "    comps = []\n",
    "    for n in range(comp_len):\n",
    "        fc_ind = int(floor(n/3))\n",
    "        d = n%3\n",
    "        comps.append(fcs[fc_ind][d])\n",
    "    \n",
    "    return np.array(comps).reshape(comp_len,1)\n",
    "\n",
    "# rotate input vector by angle theta\n",
    "def rotate_xy(x, theta):\n",
    "    new_x = np.zeros(x.shape)\n",
    "    for n in range(x.shape[1]):\n",
    "        vec = x[:,n]\n",
    "        x_new = np.cos(theta)*vec[1]-np.sin(theta)*vec[2]\n",
    "        y_new = np.sin(theta)*vec[1]+np.cos(theta)*vec[2]\n",
    "        new_x[0,n]=x[0,n]\n",
    "        new_x[1,n]=x_new\n",
    "        new_x[2,n]=y_new\n",
    "        new_x[3,n]=x[3,n]\n",
    "    return new_x"
   ]
  },
  {
   "cell_type": "markdown",
   "metadata": {},
   "source": [
    "### Create GP model based on first MD snapshot."
   ]
  },
  {
   "cell_type": "code",
   "execution_count": 4,
   "metadata": {
    "collapsed": true
   },
   "outputs": [],
   "source": [
    "outfile ='/Users/jonpvandermause/Research/GP/ML-electron-density/Si_Supercell_MD/si.md.out'\n",
    "Si_MD_Parsed = parse_qe_pwscf_md_output(outfile)"
   ]
  },
  {
   "cell_type": "code",
   "execution_count": 5,
   "metadata": {
    "collapsed": true
   },
   "outputs": [],
   "source": [
    "# set crystal structure\n",
    "dim = 3\n",
    "alat = 5.431\n",
    "unit_cell = [[0.0, alat/2, alat/2], [alat/2, 0.0, alat/2], \\\n",
    "                    [alat/2, alat/2, 0.0]] # fcc primitive cell\n",
    "unit_pos = [['Si',[0,0,0]],['Si',[alat/4, alat/4, alat/4]]]\n",
    "brav_mat = np.array([[0.0, alat/2, alat/2], [alat/2, 0.0, alat/2], \\\n",
    "                    [alat/2, alat/2, 0.0]])*dim\n",
    "brav_inv = np.linalg.inv(brav_mat)\n",
    "\n",
    "# bravais vectors\n",
    "vec1 = brav_mat[:,0].reshape(3,1)\n",
    "vec2 = brav_mat[:,1].reshape(3,1)\n",
    "vec3 = brav_mat[:,2].reshape(3,1)"
   ]
  },
  {
   "cell_type": "code",
   "execution_count": 6,
   "metadata": {},
   "outputs": [
    {
     "name": "stderr",
     "output_type": "stream",
     "text": [
      "Process ForkPoolWorker-2:\n",
      "Process ForkPoolWorker-6:\n",
      "Process ForkPoolWorker-10:\n",
      "Process ForkPoolWorker-5:\n",
      "Process ForkPoolWorker-7:\n",
      "Process ForkPoolWorker-8:\n",
      "Process ForkPoolWorker-3:\n",
      "Traceback (most recent call last):\n",
      "Traceback (most recent call last):\n",
      "Process ForkPoolWorker-4:\n",
      "Process ForkPoolWorker-9:\n",
      "Process ForkPoolWorker-1:\n",
      "Traceback (most recent call last):\n",
      "Traceback (most recent call last):\n",
      "Traceback (most recent call last):\n",
      "Traceback (most recent call last):\n",
      "Traceback (most recent call last):\n",
      "  File \"/Users/jonpvandermause/anaconda3/lib/python3.6/multiprocessing/process.py\", line 258, in _bootstrap\n",
      "    self.run()\n",
      "Traceback (most recent call last):\n",
      "Traceback (most recent call last):\n",
      "  File \"/Users/jonpvandermause/anaconda3/lib/python3.6/multiprocessing/process.py\", line 258, in _bootstrap\n",
      "    self.run()\n",
      "Traceback (most recent call last):\n",
      "  File \"/Users/jonpvandermause/anaconda3/lib/python3.6/multiprocessing/process.py\", line 258, in _bootstrap\n",
      "    self.run()\n",
      "  File \"/Users/jonpvandermause/anaconda3/lib/python3.6/multiprocessing/process.py\", line 93, in run\n",
      "    self._target(*self._args, **self._kwargs)\n",
      "  File \"/Users/jonpvandermause/anaconda3/lib/python3.6/multiprocessing/process.py\", line 258, in _bootstrap\n",
      "    self.run()\n",
      "  File \"/Users/jonpvandermause/anaconda3/lib/python3.6/multiprocessing/process.py\", line 258, in _bootstrap\n",
      "    self.run()\n",
      "  File \"/Users/jonpvandermause/anaconda3/lib/python3.6/multiprocessing/process.py\", line 258, in _bootstrap\n",
      "    self.run()\n",
      "  File \"/Users/jonpvandermause/anaconda3/lib/python3.6/multiprocessing/process.py\", line 258, in _bootstrap\n",
      "    self.run()\n",
      "  File \"/Users/jonpvandermause/anaconda3/lib/python3.6/multiprocessing/process.py\", line 258, in _bootstrap\n",
      "    self.run()\n",
      "  File \"/Users/jonpvandermause/anaconda3/lib/python3.6/multiprocessing/process.py\", line 93, in run\n",
      "    self._target(*self._args, **self._kwargs)\n",
      "  File \"/Users/jonpvandermause/anaconda3/lib/python3.6/multiprocessing/process.py\", line 258, in _bootstrap\n",
      "    self.run()\n",
      "  File \"/Users/jonpvandermause/anaconda3/lib/python3.6/multiprocessing/process.py\", line 258, in _bootstrap\n",
      "    self.run()\n",
      "  File \"/Users/jonpvandermause/anaconda3/lib/python3.6/multiprocessing/pool.py\", line 108, in worker\n",
      "    task = get()\n",
      "  File \"/Users/jonpvandermause/anaconda3/lib/python3.6/multiprocessing/process.py\", line 93, in run\n",
      "    self._target(*self._args, **self._kwargs)\n",
      "  File \"/Users/jonpvandermause/anaconda3/lib/python3.6/multiprocessing/process.py\", line 93, in run\n",
      "    self._target(*self._args, **self._kwargs)\n",
      "  File \"/Users/jonpvandermause/anaconda3/lib/python3.6/multiprocessing/process.py\", line 93, in run\n",
      "    self._target(*self._args, **self._kwargs)\n",
      "  File \"/Users/jonpvandermause/anaconda3/lib/python3.6/multiprocessing/pool.py\", line 108, in worker\n",
      "    task = get()\n",
      "  File \"/Users/jonpvandermause/anaconda3/lib/python3.6/multiprocessing/process.py\", line 93, in run\n",
      "    self._target(*self._args, **self._kwargs)\n",
      "  File \"/Users/jonpvandermause/anaconda3/lib/python3.6/multiprocessing/process.py\", line 93, in run\n",
      "    self._target(*self._args, **self._kwargs)\n",
      "  File \"/Users/jonpvandermause/anaconda3/lib/python3.6/multiprocessing/pool.py\", line 108, in worker\n",
      "    task = get()\n",
      "  File \"/Users/jonpvandermause/anaconda3/lib/python3.6/multiprocessing/process.py\", line 93, in run\n",
      "    self._target(*self._args, **self._kwargs)\n",
      "  File \"/Users/jonpvandermause/anaconda3/lib/python3.6/multiprocessing/process.py\", line 93, in run\n",
      "    self._target(*self._args, **self._kwargs)\n",
      "  File \"/Users/jonpvandermause/anaconda3/lib/python3.6/multiprocessing/queues.py\", line 334, in get\n",
      "    with self._rlock:\n",
      "  File \"/Users/jonpvandermause/anaconda3/lib/python3.6/multiprocessing/process.py\", line 93, in run\n",
      "    self._target(*self._args, **self._kwargs)\n",
      "  File \"/Users/jonpvandermause/anaconda3/lib/python3.6/multiprocessing/queues.py\", line 335, in get\n",
      "    res = self._reader.recv_bytes()\n",
      "  File \"/Users/jonpvandermause/anaconda3/lib/python3.6/multiprocessing/pool.py\", line 108, in worker\n",
      "    task = get()\n",
      "  File \"/Users/jonpvandermause/anaconda3/lib/python3.6/multiprocessing/pool.py\", line 108, in worker\n",
      "    task = get()\n",
      "  File \"/Users/jonpvandermause/anaconda3/lib/python3.6/multiprocessing/pool.py\", line 108, in worker\n",
      "    task = get()\n",
      "  File \"/Users/jonpvandermause/anaconda3/lib/python3.6/multiprocessing/queues.py\", line 334, in get\n",
      "    with self._rlock:\n",
      "  File \"/Users/jonpvandermause/anaconda3/lib/python3.6/multiprocessing/pool.py\", line 108, in worker\n",
      "    task = get()\n",
      "  File \"/Users/jonpvandermause/anaconda3/lib/python3.6/multiprocessing/pool.py\", line 108, in worker\n",
      "    task = get()\n",
      "  File \"/Users/jonpvandermause/anaconda3/lib/python3.6/multiprocessing/pool.py\", line 108, in worker\n",
      "    task = get()\n",
      "  File \"/Users/jonpvandermause/anaconda3/lib/python3.6/multiprocessing/pool.py\", line 108, in worker\n",
      "    task = get()\n",
      "  File \"/Users/jonpvandermause/anaconda3/lib/python3.6/multiprocessing/synchronize.py\", line 96, in __enter__\n",
      "    return self._semlock.__enter__()\n",
      "  File \"/Users/jonpvandermause/anaconda3/lib/python3.6/multiprocessing/queues.py\", line 334, in get\n",
      "    with self._rlock:\n",
      "  File \"/Users/jonpvandermause/anaconda3/lib/python3.6/multiprocessing/connection.py\", line 216, in recv_bytes\n",
      "    buf = self._recv_bytes(maxlength)\n",
      "  File \"/Users/jonpvandermause/anaconda3/lib/python3.6/multiprocessing/queues.py\", line 334, in get\n",
      "    with self._rlock:\n",
      "  File \"/Users/jonpvandermause/anaconda3/lib/python3.6/multiprocessing/queues.py\", line 334, in get\n",
      "    with self._rlock:\n",
      "  File \"/Users/jonpvandermause/anaconda3/lib/python3.6/multiprocessing/queues.py\", line 334, in get\n",
      "    with self._rlock:\n",
      "  File \"/Users/jonpvandermause/anaconda3/lib/python3.6/multiprocessing/queues.py\", line 334, in get\n",
      "    with self._rlock:\n",
      "  File \"/Users/jonpvandermause/anaconda3/lib/python3.6/multiprocessing/queues.py\", line 334, in get\n",
      "    with self._rlock:\n",
      "  File \"/Users/jonpvandermause/anaconda3/lib/python3.6/multiprocessing/synchronize.py\", line 96, in __enter__\n",
      "    return self._semlock.__enter__()\n",
      "KeyboardInterrupt\n",
      "  File \"/Users/jonpvandermause/anaconda3/lib/python3.6/multiprocessing/queues.py\", line 334, in get\n",
      "    with self._rlock:\n",
      "  File \"/Users/jonpvandermause/anaconda3/lib/python3.6/multiprocessing/synchronize.py\", line 96, in __enter__\n",
      "    return self._semlock.__enter__()\n",
      "  File \"/Users/jonpvandermause/anaconda3/lib/python3.6/multiprocessing/synchronize.py\", line 96, in __enter__\n",
      "    return self._semlock.__enter__()\n",
      "  File \"/Users/jonpvandermause/anaconda3/lib/python3.6/multiprocessing/connection.py\", line 407, in _recv_bytes\n",
      "    buf = self._recv(4)\n",
      "  File \"/Users/jonpvandermause/anaconda3/lib/python3.6/multiprocessing/synchronize.py\", line 96, in __enter__\n",
      "    return self._semlock.__enter__()\n",
      "  File \"/Users/jonpvandermause/anaconda3/lib/python3.6/multiprocessing/synchronize.py\", line 96, in __enter__\n",
      "    return self._semlock.__enter__()\n",
      "KeyboardInterrupt\n",
      "  File \"/Users/jonpvandermause/anaconda3/lib/python3.6/multiprocessing/synchronize.py\", line 96, in __enter__\n",
      "    return self._semlock.__enter__()\n",
      "  File \"/Users/jonpvandermause/anaconda3/lib/python3.6/multiprocessing/synchronize.py\", line 96, in __enter__\n",
      "    return self._semlock.__enter__()\n",
      "KeyboardInterrupt\n",
      "KeyboardInterrupt\n",
      "  File \"/Users/jonpvandermause/anaconda3/lib/python3.6/multiprocessing/synchronize.py\", line 96, in __enter__\n",
      "    return self._semlock.__enter__()\n",
      "  File \"/Users/jonpvandermause/anaconda3/lib/python3.6/multiprocessing/connection.py\", line 379, in _recv\n",
      "    chunk = read(handle, remaining)\n",
      "KeyboardInterrupt\n",
      "KeyboardInterrupt\n",
      "KeyboardInterrupt\n",
      "KeyboardInterrupt\n",
      "KeyboardInterrupt\n",
      "KeyboardInterrupt\n"
     ]
    }
   ],
   "source": [
    "# set pool\n",
    "pool = mp.Pool(processes=10)"
   ]
  },
  {
   "cell_type": "code",
   "execution_count": 7,
   "metadata": {
    "collapsed": true
   },
   "outputs": [],
   "source": [
    "# build force field from single snapshot\n",
    "cutoff = 4.5\n",
    "pos = Si_MD_Parsed[1]['positions']\n",
    "envs = get_envs(pos, brav_mat, brav_inv, vec1, vec2, vec3, cutoff)\n",
    "fcs = fc_conv(Si_MD_Parsed[2]['forces'])\n",
    "\n",
    "# set optimal hyperparameters\n",
    "sig = 0.02084984\n",
    "ls = 0.33739727\n",
    "noise = 0.00100585"
   ]
  },
  {
   "cell_type": "code",
   "execution_count": 8,
   "metadata": {
    "collapsed": true
   },
   "outputs": [],
   "source": [
    "# get K, L, and alpha\n",
    "K,L=get_K_par(envs,sig,ls,noise,pool)\n",
    "alpha=get_alpha(K,L,fcs)"
   ]
  },
  {
   "cell_type": "code",
   "execution_count": 9,
   "metadata": {},
   "outputs": [
    {
     "name": "stdout",
     "output_type": "stream",
     "text": [
      "[[-0.00316238]]\n",
      "[[8.6164619e-08]]\n"
     ]
    }
   ],
   "source": [
    "# test on rotated training point\n",
    "xt = rotate_xy(envs[10],3)\n",
    "d = 2\n",
    "f, var = GP_pred(envs,fcs,K,L,alpha,sig,ls,xt,d)\n",
    "print(f)\n",
    "print(var)"
   ]
  },
  {
   "cell_type": "code",
   "execution_count": 91,
   "metadata": {
    "collapsed": true
   },
   "outputs": [],
   "source": [
    "# get test environment\n",
    "test_pt = 999\n",
    "pos_test = Si_MD_Parsed[test_pt]['positions']\n",
    "envs_test = get_envs(pos_test, brav_mat, brav_inv, vec1, vec2, vec3, cutoff)\n",
    "fcs_test = fc_conv(Si_MD_Parsed[test_pt+1]['forces'])"
   ]
  },
  {
   "cell_type": "code",
   "execution_count": 92,
   "metadata": {},
   "outputs": [
    {
     "name": "stdout",
     "output_type": "stream",
     "text": [
      "predicted force component is 0.17335232861743746 eV/A.\n",
      "true force component is 0.1748844582515731 eV/A.\n",
      "true error is 0.0015321296341356224 eV/A.\n",
      "predicted std is 0.0053857737157823925 eV/A.\n",
      "noise std is 0.025861452697524344 eV/A.\n"
     ]
    }
   ],
   "source": [
    "# test on a single component\n",
    "at = 50\n",
    "d = 1\n",
    "force_conv = 25.71104309541616 # Ry/au to eV/A\n",
    "\n",
    "xt = envs_test[at]\n",
    "f, var = GP_pred(envs,fcs,K,L,alpha,sig,ls,xt,d)\n",
    "f_true = fcs_test[int(at*3+d-1)][0]\n",
    "f_pred = f[0][0]\n",
    "var_pred = np.sqrt(var[0][0])\n",
    "\n",
    "print('predicted force component is '+str(f[0][0]*force_conv)+' eV/A.')\n",
    "print('true force component is '+str(f_true*force_conv)+' eV/A.')\n",
    "print('true error is '+str(np.abs(f_true-f_pred)*force_conv)+' eV/A.')\n",
    "print('predicted std is '+str(var_pred*force_conv)+' eV/A.')\n",
    "print('noise std is '+str(noise*force_conv)+' eV/A.')"
   ]
  },
  {
   "cell_type": "code",
   "execution_count": 98,
   "metadata": {
    "collapsed": true
   },
   "outputs": [],
   "source": [
    "# test on all components in the test point\n",
    "errs = []\n",
    "stds = []\n",
    "f_preds = []\n",
    "f_ts = []\n",
    "for m in range(54):\n",
    "    at = m\n",
    "    for n in range(3):\n",
    "        d=n+1\n",
    "        xt = envs_test[at]\n",
    "        \n",
    "        f, var = GP_pred(envs,fcs,K,L,alpha,sig,ls,xt,d)\n",
    "        f_true = fcs_test[int(at*3+d-1)][0]*force_conv\n",
    "        f_pred = f[0][0]*force_conv\n",
    "        std_pred = np.sqrt(var[0][0])*force_conv\n",
    "        err_true = np.abs(f_true-f_pred)\n",
    "        \n",
    "        errs.append(err_true)\n",
    "        stds.append(std_pred)\n",
    "        f_preds.append(f_pred)\n",
    "        f_ts.append(f_true)"
   ]
  },
  {
   "cell_type": "code",
   "execution_count": 99,
   "metadata": {},
   "outputs": [
    {
     "data": {
      "image/png": "[encoded data removed]",
      "text/plain": [
       "<matplotlib.figure.Figure at 0x111201320>"
      ]
     },
     "metadata": {},
     "output_type": "display_data"
    }
   ],
   "source": [
    "# plot GP versus DFT force\n",
    "plt.plot(f_ts, f_preds, '.')\n",
    "plt.xlabel('DFT force (eV/A)')\n",
    "plt.ylabel('GP force (eV/A)')\n",
    "plt.show()"
   ]
  },
  {
   "cell_type": "code",
   "execution_count": 95,
   "metadata": {},
   "outputs": [
    {
     "name": "stdout",
     "output_type": "stream",
     "text": [
      "mean error is 0.01709322259150835 eV.\n"
     ]
    }
   ],
   "source": [
    "print('mean error is '+str(np.mean(errs))+' eV.')"
   ]
  },
  {
   "cell_type": "code",
   "execution_count": 96,
   "metadata": {},
   "outputs": [
    {
     "data": {
      "image/png": "[encoded data removed]",
      "text/plain": [
       "<matplotlib.figure.Figure at 0x1114c9048>"
      ]
     },
     "metadata": {},
     "output_type": "display_data"
    }
   ],
   "source": [
    "plt.hist(errs)\n",
    "plt.show()"
   ]
  },
  {
   "cell_type": "markdown",
   "metadata": {
    "collapsed": true
   },
   "source": [
    "### Test model on single atom environment."
   ]
  },
  {
   "cell_type": "code",
   "execution_count": 79,
   "metadata": {
    "collapsed": true
   },
   "outputs": [],
   "source": [
    "dists = np.linspace(1,10,100)\n",
    "d = 1\n",
    "fs = []\n",
    "var_store = []\n",
    "for n in range(len(dists)):\n",
    "    dist = dists[n]  \n",
    "    xt = np.array([[dist],[dist],[0],[0]])\n",
    "    f, var = GP_pred(envs,fcs,K,L,alpha,sig,ls,xt,d)\n",
    "    fs.append(f[0][0])\n",
    "    var_store.append(var[0][0])"
   ]
  },
  {
   "cell_type": "code",
   "execution_count": 84,
   "metadata": {},
   "outputs": [
    {
     "data": {
      "image/png": "[encoded data removed]",
      "text/plain": [
       "<matplotlib.figure.Figure at 0x1112f69b0>"
      ]
     },
     "metadata": {},
     "output_type": "display_data"
    }
   ],
   "source": [
    "sigs = np.sqrt(var_store)\n",
    "plt.plot(dists,fs,label='predicted force')\n",
    "plt.fill(np.concatenate([dists, dists[::-1]]),\n",
    "         np.concatenate([fs - 2*sigs,(fs+2*sigs)[::-1]]),\n",
    "         alpha=.5, fc='b', ec='None', label='95% confidence interval')\n",
    "plt.title('single atom predictions')\n",
    "plt.xlabel('distance (angstrom)')\n",
    "plt.ylabel('force (eV/A)')\n",
    "plt.legend()\n",
    "plt.show()"
   ]
  },
  {
   "cell_type": "markdown",
   "metadata": {},
   "source": [
    "### Test model on all MD snapshots."
   ]
  },
  {
   "cell_type": "code",
   "execution_count": 110,
   "metadata": {
    "scrolled": true
   },
   "outputs": [
    {
     "name": "stdout",
     "output_type": "stream",
     "text": [
      "0\n",
      "1\n",
      "2\n",
      "3\n",
      "4\n",
      "5\n",
      "6\n",
      "7\n",
      "8\n",
      "9\n",
      "10\n",
      "11\n",
      "12\n",
      "13\n",
      "14\n",
      "15\n",
      "16\n",
      "17\n",
      "18\n",
      "19\n",
      "20\n",
      "21\n",
      "22\n",
      "23\n",
      "24\n",
      "25\n",
      "26\n",
      "27\n",
      "28\n",
      "29\n",
      "30\n",
      "31\n",
      "32\n",
      "33\n",
      "34\n",
      "35\n",
      "36\n",
      "37\n",
      "38\n",
      "39\n",
      "40\n",
      "41\n",
      "42\n",
      "43\n",
      "44\n",
      "45\n",
      "46\n",
      "47\n",
      "48\n",
      "49\n",
      "50\n",
      "51\n",
      "52\n",
      "53\n",
      "54\n",
      "55\n",
      "56\n",
      "57\n",
      "58\n",
      "59\n",
      "60\n",
      "61\n",
      "62\n",
      "63\n",
      "64\n",
      "65\n",
      "66\n",
      "67\n",
      "68\n",
      "69\n",
      "70\n",
      "71\n",
      "72\n",
      "73\n",
      "74\n",
      "75\n",
      "76\n",
      "77\n",
      "78\n",
      "79\n",
      "80\n",
      "81\n",
      "82\n",
      "83\n",
      "84\n",
      "85\n",
      "86\n",
      "87\n",
      "88\n",
      "89\n",
      "90\n",
      "91\n",
      "92\n",
      "93\n",
      "94\n",
      "95\n",
      "96\n",
      "97\n",
      "98\n",
      "99\n"
     ]
    }
   ],
   "source": [
    "test_pts = np.arange(2,1000,10)\n",
    "\n",
    "errs = []\n",
    "stds = []\n",
    "f_preds = []\n",
    "f_ts = []\n",
    "\n",
    "for n in range(len(test_pts)):\n",
    "    # set test point\n",
    "    test_pt = test_pts[n]\n",
    "    pos_test = Si_MD_Parsed[test_pt]['positions']\n",
    "    envs_test = get_envs(pos_test, brav_mat, brav_inv, vec1, vec2, vec3, cutoff)\n",
    "    fcs_test = fc_conv(Si_MD_Parsed[test_pt+1]['forces'])\n",
    "    \n",
    "    # test on all components in the test point\n",
    "    for m in range(54):\n",
    "        at = m\n",
    "        for p in range(3):\n",
    "            d=p+1\n",
    "            xt = envs_test[at]\n",
    "\n",
    "            f, var = GP_pred(envs,fcs,K,L,alpha,sig,ls,xt,d)\n",
    "            f_true = fcs_test[int(at*3+d-1)][0]*force_conv\n",
    "            f_pred = f[0][0]*force_conv\n",
    "            std_pred = np.sqrt(var[0][0])*force_conv\n",
    "            err_true = np.abs(f_true-f_pred)\n",
    "\n",
    "            errs.append(err_true)\n",
    "            stds.append(std_pred)\n",
    "            f_preds.append(f_pred)\n",
    "            f_ts.append(f_true)\n",
    "            \n",
    "    print(n)"
   ]
  },
  {
   "cell_type": "code",
   "execution_count": 111,
   "metadata": {},
   "outputs": [
    {
     "data": {
      "image/png": "[encoded data removed]",
      "text/plain": [
       "<matplotlib.figure.Figure at 0x111367470>"
      ]
     },
     "metadata": {},
     "output_type": "display_data"
    }
   ],
   "source": [
    "# plot GP versus DFT force\n",
    "plt.plot(f_ts, f_preds, '.')\n",
    "plt.xlabel('DFT force (eV/A)')\n",
    "plt.ylabel('GP force (eV/A)')\n",
    "plt.show()"
   ]
  },
  {
   "cell_type": "code",
   "execution_count": 112,
   "metadata": {},
   "outputs": [
    {
     "data": {
      "image/png": "[encoded data removed]",
      "text/plain": [
       "<matplotlib.figure.Figure at 0x1113d9c50>"
      ]
     },
     "metadata": {},
     "output_type": "display_data"
    }
   ],
   "source": [
    "plt.hist(errs)\n",
    "plt.xlabel('GP error (eV/A)')\n",
    "plt.ylabel('count')\n",
    "plt.show()"
   ]
  },
  {
   "cell_type": "code",
   "execution_count": 115,
   "metadata": {},
   "outputs": [
    {
     "name": "stdout",
     "output_type": "stream",
     "text": [
      "hyperparameters:\n",
      "noise std is 0.025861452697524344\n",
      "signal std is 0.5360711347725317\n",
      "length scale is 0.33739727\n"
     ]
    }
   ],
   "source": [
    "print('hyperparameters:')\n",
    "print('noise std is '+str(noise*force_conv))\n",
    "print('signal std is '+str(sig*force_conv))\n",
    "print('length scale is '+str(ls))"
   ]
  },
  {
   "cell_type": "markdown",
   "metadata": {},
   "source": [
    "### See what happens when a one-component kernel is used on SiC data."
   ]
  },
  {
   "cell_type": "code",
   "execution_count": 26,
   "metadata": {
    "collapsed": true
   },
   "outputs": [],
   "source": [
    "outfile ='/Users/jonpvandermause/Research/GP/Datasets/SiC_MD/sic_md.out'\n",
    "Si_MD_Parsed = parse_qe_pwscf_md_output(outfile)"
   ]
  },
  {
   "cell_type": "code",
   "execution_count": 27,
   "metadata": {
    "collapsed": true
   },
   "outputs": [],
   "source": [
    "# set crystal structure\n",
    "dim = 3\n",
    "alat = 4.344404578\n",
    "unit_cell = [[0.0, alat/2, alat/2], [alat/2, 0.0, alat/2], \\\n",
    "                    [alat/2, alat/2, 0.0]] # fcc primitive cell\n",
    "unit_pos = [['Si',[0,0,0]],['Si',[alat/4, alat/4, alat/4]]]\n",
    "brav_mat = np.array([[0.0, alat/2, alat/2], [alat/2, 0.0, alat/2], \\\n",
    "                    [alat/2, alat/2, 0.0]])*dim\n",
    "brav_inv = np.linalg.inv(brav_mat)\n",
    "\n",
    "# bravais vectors\n",
    "vec1 = brav_mat[:,0].reshape(3,1)\n",
    "vec2 = brav_mat[:,1].reshape(3,1)\n",
    "vec3 = brav_mat[:,2].reshape(3,1)"
   ]
  },
  {
   "cell_type": "code",
   "execution_count": 28,
   "metadata": {
    "collapsed": true
   },
   "outputs": [],
   "source": [
    "# build force field from single snapshot\n",
    "cutoff = 4.5\n",
    "pos = Si_MD_Parsed[1]['positions']\n",
    "envs = get_envs(pos, brav_mat, brav_inv, vec1, vec2, vec3, cutoff)\n",
    "fcs = fc_conv(Si_MD_Parsed[2]['forces'])\n",
    "\n",
    "# set optimal hyperparameters\n",
    "sig = 0.02084984\n",
    "ls = 0.33739727\n",
    "noise = 0.00100585"
   ]
  },
  {
   "cell_type": "code",
   "execution_count": 29,
   "metadata": {},
   "outputs": [],
   "source": [
    "# get K, L, and alpha\n",
    "K,L=get_K(envs,sig,ls,noise)\n",
    "alpha=get_alpha(K,L,fcs)"
   ]
  },
  {
   "cell_type": "code",
   "execution_count": 30,
   "metadata": {
    "collapsed": true
   },
   "outputs": [],
   "source": [
    "# get test environment\n",
    "test_pt = 50\n",
    "pos_test = Si_MD_Parsed[test_pt]['positions']\n",
    "envs_test = get_envs(pos_test, brav_mat, brav_inv, vec1, vec2, vec3, cutoff)\n",
    "fcs_test = fc_conv(Si_MD_Parsed[test_pt+1]['forces'])"
   ]
  },
  {
   "cell_type": "code",
   "execution_count": 31,
   "metadata": {},
   "outputs": [
    {
     "name": "stdout",
     "output_type": "stream",
     "text": [
      "predicted force component is -2.019410730672585 eV/A.\n",
      "true force component is -2.326550123593532 eV/A.\n",
      "true error is 0.3071393929209468 eV/A.\n",
      "predicted std is 0.006219781086911899 eV/A.\n",
      "noise std is 0.025861452697524344 eV/A.\n"
     ]
    }
   ],
   "source": [
    "# test on a single component\n",
    "at = 50\n",
    "d = 1\n",
    "force_conv = 25.71104309541616 # Ry/au to eV/A\n",
    "\n",
    "xt = envs_test[at]\n",
    "f, var = GP_pred(envs,fcs,K,L,alpha,sig,ls,xt,d)\n",
    "f_true = fcs_test[int(at*3+d-1)][0]\n",
    "f_pred = f[0][0]\n",
    "var_pred = np.sqrt(var[0][0])\n",
    "\n",
    "print('predicted force component is '+str(f[0][0]*force_conv)+' eV/A.')\n",
    "print('true force component is '+str(f_true*force_conv)+' eV/A.')\n",
    "print('true error is '+str(np.abs(f_true-f_pred)*force_conv)+' eV/A.')\n",
    "print('predicted std is '+str(var_pred*force_conv)+' eV/A.')\n",
    "print('noise std is '+str(noise*force_conv)+' eV/A.')"
   ]
  },
  {
   "cell_type": "code",
   "execution_count": 32,
   "metadata": {
    "collapsed": true
   },
   "outputs": [],
   "source": [
    "# test on all components in the test point\n",
    "errs = []\n",
    "stds = []\n",
    "f_preds = []\n",
    "f_ts = []\n",
    "for m in range(54):\n",
    "    at = m\n",
    "    for n in range(3):\n",
    "        d=n+1\n",
    "        xt = envs_test[at]\n",
    "        \n",
    "        f, var = GP_pred(envs,fcs,K,L,alpha,sig,ls,xt,d)\n",
    "        f_true = fcs_test[int(at*3+d-1)][0]*force_conv\n",
    "        f_pred = f[0][0]*force_conv\n",
    "        std_pred = np.sqrt(var[0][0])*force_conv\n",
    "        err_true = np.abs(f_true-f_pred)\n",
    "        \n",
    "        errs.append(err_true)\n",
    "        stds.append(std_pred)\n",
    "        f_preds.append(f_pred)\n",
    "        f_ts.append(f_true)"
   ]
  },
  {
   "cell_type": "code",
   "execution_count": 33,
   "metadata": {},
   "outputs": [
    {
     "data": {
      "image/png": "[encoded data removed]",
      "text/plain": [
       "<matplotlib.figure.Figure at 0x115d396d8>"
      ]
     },
     "metadata": {},
     "output_type": "display_data"
    }
   ],
   "source": [
    "# plot GP versus DFT force\n",
    "plt.plot(f_ts, f_preds, '.')\n",
    "plt.xlabel('DFT force (eV/A)')\n",
    "plt.ylabel('GP force (eV/A)')\n",
    "plt.show()"
   ]
  },
  {
   "cell_type": "code",
   "execution_count": 34,
   "metadata": {},
   "outputs": [
    {
     "name": "stdout",
     "output_type": "stream",
     "text": [
      "mean error is 0.20800222754016448 eV.\n"
     ]
    }
   ],
   "source": [
    "print('mean error is '+str(np.mean(errs))+' eV.')"
   ]
  },
  {
   "cell_type": "code",
   "execution_count": 35,
   "metadata": {},
   "outputs": [
    {
     "data": {
      "image/png": "[encoded data removed]",
      "text/plain": [
       "<matplotlib.figure.Figure at 0x115ccaac8>"
      ]
     },
     "metadata": {},
     "output_type": "display_data"
    }
   ],
   "source": [
    "plt.hist(errs)\n",
    "plt.xlabel('GP error (eV/A)')\n",
    "plt.ylabel('count')\n",
    "plt.show()"
   ]
  },
  {
   "cell_type": "code",
   "execution_count": null,
   "metadata": {
    "collapsed": true
   },
   "outputs": [],
   "source": []
  }
 ],
 "metadata": {
  "kernelspec": {
   "display_name": "Python 3",
   "language": "python",
   "name": "python3"
  },
  "language_info": {
   "codemirror_mode": {
    "name": "ipython",
    "version": 3
   },
   "file_extension": ".py",
   "mimetype": "text/x-python",
   "name": "python",
   "nbconvert_exporter": "python",
   "pygments_lexer": "ipython3",
   "version": "3.6.3"
  }
 },
 "nbformat": 4,
 "nbformat_minor": 2
}
