{
 "cells": [
  {
   "cell_type": "code",
   "execution_count": 1,
   "metadata": {
    "collapsed": true
   },
   "outputs": [],
   "source": [
    "import numpy as np\n",
    "import scipy as sp\n",
    "import scipy.linalg\n",
    "import matplotlib.pyplot as plt\n",
    "import time\n",
    "from scipy.optimize import minimize\n",
    "import multiprocessing as mp\n",
    "from MD_Parser import *\n",
    "from kern_help import *\n",
    "import math\n",
    "import pickle"
   ]
  },
  {
   "cell_type": "markdown",
   "metadata": {},
   "source": [
    "It is expensive to compute the covariance matrix K. This notebook examines how K can be efficiently computed with parallel processors."
   ]
  },
  {
   "cell_type": "markdown",
   "metadata": {},
   "source": [
    "### Get example data."
   ]
  },
  {
   "cell_type": "code",
   "execution_count": 2,
   "metadata": {
    "collapsed": true
   },
   "outputs": [],
   "source": [
    "outfile ='/Users/jonpvandermause/Research/GP/Datasets/SiC_MD/sic_md.out'\n",
    "Si_MD_Parsed = parse_qe_pwscf_md_output(outfile)\n",
    "\n",
    "# set crystal structure\n",
    "dim = 3\n",
    "alat = 4.344404578\n",
    "unit_cell = [[0.0, alat/2, alat/2], [alat/2, 0.0, alat/2], \\\n",
    "                    [alat/2, alat/2, 0.0]] # fcc primitive cell\n",
    "unit_pos = [['Si',[0,0,0]],['Si',[alat/4, alat/4, alat/4]]]\n",
    "brav_mat = np.array([[0.0, alat/2, alat/2], [alat/2, 0.0, alat/2], \\\n",
    "                    [alat/2, alat/2, 0.0]])*dim\n",
    "brav_inv = np.linalg.inv(brav_mat)\n",
    "\n",
    "# bravais vectors\n",
    "vec1 = brav_mat[:,0].reshape(3,1)\n",
    "vec2 = brav_mat[:,1].reshape(3,1)\n",
    "vec3 = brav_mat[:,2].reshape(3,1)\n",
    "\n",
    "# build force field from single snapshot\n",
    "cutoff = 3.6\n",
    "pos = Si_MD_Parsed[1]['positions']\n",
    "typs = Si_MD_Parsed[1]['elements']\n",
    "fcs = fc_conv(Si_MD_Parsed[2]['forces'])"
   ]
  },
  {
   "cell_type": "markdown",
   "metadata": {},
   "source": [
    "### Test covariance functions."
   ]
  },
  {
   "cell_type": "code",
   "execution_count": 3,
   "metadata": {},
   "outputs": [
    {
     "name": "stdout",
     "output_type": "stream",
     "text": [
      "it takes 3.37 s to create 54 atomic environments, or about 0.06 s per environment.\n"
     ]
    }
   ],
   "source": [
    "noa = len(pos)\n",
    "time1 = time.time()\n",
    "envs = get_envs(pos, typs, brav_mat, brav_inv, vec1, vec2, vec3, cutoff)\n",
    "time2 = time.time()\n",
    "print('it takes %.2f s to create %i atomic environments, or about %.2f s per environment.' % (time2-time1,noa,(time2-time1)/noa))"
   ]
  },
  {
   "cell_type": "markdown",
   "metadata": {},
   "source": [
    "Check how long it takes to compare two atomic environments."
   ]
  },
  {
   "cell_type": "code",
   "execution_count": 4,
   "metadata": {},
   "outputs": [
    {
     "name": "stdout",
     "output_type": "stream",
     "text": [
      "it takes 328.064 us to calculate the two body kernel between two chemical environments.\n",
      " the first chemical environment has 23 atoms.\n",
      " the second chemical environment has 24 atoms.\n",
      " there are 552 possible distances compared, so it takes about 0.594 us per distance.\n"
     ]
    }
   ],
   "source": [
    "x1 = envs[0]\n",
    "x2 = envs[1]\n",
    "d1 = 'xrel'\n",
    "d2 = 'yrel'\n",
    "sig = 1\n",
    "ls = 1\n",
    "\n",
    "time1 = time.time()\n",
    "two_body(x1, x2, d1, d2, sig, ls)\n",
    "time2 = time.time()\n",
    "print('it takes %.3f us to calculate the two body kernel between two chemical environments.\\n\\\n",
    " the first chemical environment has %i atoms.\\n\\\n",
    " the second chemical environment has %i atoms.\\n\\\n",
    " there are %i possible distances compared, so it takes about %.3f us per distance.'\n",
    "      % ((time2-time1)*1e6,len(x1['dists']),len(x2['dists']),len(x1['dists'])*len(x2['dists']),\\\n",
    "        1e6*(time2-time1)/(len(x1['dists'])*len(x2['dists']))))"
   ]
  },
  {
   "cell_type": "code",
   "execution_count": 5,
   "metadata": {
    "collapsed": true
   },
   "outputs": [],
   "source": [
    "# get number of triplets in chemical environment\n",
    "def count_trips(x1):\n",
    "    count = 0\n",
    "    for n in x1['trip_dict']['dists']:\n",
    "        count+=len(n)\n",
    "    return count"
   ]
  },
  {
   "cell_type": "code",
   "execution_count": 6,
   "metadata": {},
   "outputs": [
    {
     "name": "stdout",
     "output_type": "stream",
     "text": [
      "it takes 0.124 s to calculate the three body kernel between two chemical environments.\n",
      " the first chemical environment has 23 atoms and 276 triplets.\n",
      " the second chemical environment has 24 atoms and 300 triplets.\n",
      " there are 82800 possible triplet comparisons, so it takes about 1.494 us per triplet.\n"
     ]
    }
   ],
   "source": [
    "time1 = time.time()\n",
    "three_body(x1, x2, d1, d2, sig, ls)\n",
    "time2 = time.time()\n",
    "print('it takes %.3f s to calculate the three body kernel between two chemical environments.\\n\\\n",
    " the first chemical environment has %i atoms and %i triplets.\\n\\\n",
    " the second chemical environment has %i atoms and %i triplets.\\n\\\n",
    " there are %i possible triplet comparisons, so it takes about %.3f us per triplet.'\n",
    "      % ((time2-time1),len(x1['dists']),count_trips(x1),len(x2['dists']),count_trips(x2),\\\n",
    "        count_trips(x1)*count_trips(x2),1e6*(time2-time1)/(count_trips(x1)*count_trips(x2))))"
   ]
  },
  {
   "cell_type": "markdown",
   "metadata": {},
   "source": [
    "Test covariance row function."
   ]
  },
  {
   "cell_type": "code",
   "execution_count": 16,
   "metadata": {},
   "outputs": [
    {
     "name": "stdout",
     "output_type": "stream",
     "text": [
      "0.05656027793884277\n"
     ]
    }
   ],
   "source": [
    "m = 0\n",
    "ds = ['xrel','yrel','zrel']\n",
    "X = envs\n",
    "size = len(X)*3\n",
    "x1 = X[int(math.floor(m/3))]\n",
    "d1 = ds[m%3]\n",
    "sig = 1\n",
    "ls = 1\n",
    "kernel = two_body\n",
    "\n",
    "time1 = time.time()\n",
    "get_cov_row(x1, d1, m, size, X, sig, ls, kernel)\n",
    "time2 = time.time()\n",
    "print(time2-time1)"
   ]
  },
  {
   "cell_type": "code",
   "execution_count": 8,
   "metadata": {},
   "outputs": [
    {
     "name": "stdout",
     "output_type": "stream",
     "text": [
      "20.803579807281494\n"
     ]
    }
   ],
   "source": [
    "# cov row: serial version\n",
    "time1 = time.time()\n",
    "ds = ['xrel','yrel','zrel']\n",
    "ser_covs = []\n",
    "for n in range(m,size):\n",
    "    x2 = X[int(math.floor(n/3))]\n",
    "    d2 = ds[n%3]\n",
    "\n",
    "    # calculate kernel\n",
    "    ser_covs.append(kernel(x1, x2, d1, d2, sig, ls))\n",
    "time2 = time.time()\n",
    "print(time2-time1)"
   ]
  },
  {
   "cell_type": "code",
   "execution_count": 15,
   "metadata": {},
   "outputs": [
    {
     "name": "stdout",
     "output_type": "stream",
     "text": [
      "11.7795729637146\n"
     ]
    }
   ],
   "source": [
    "# cov row: parallel version\n",
    "pool = mp.Pool(processes=2)\n",
    "time1 = time.time()\n",
    "ds = ['xrel','yrel','zrel']\n",
    "procs = []\n",
    "par_covs = []\n",
    "for n in range(m,size):\n",
    "    x2 = X[int(math.floor(n/3))]\n",
    "    d2 = ds[n%3]\n",
    "\n",
    "    # calculate kernel\n",
    "    procs.append(pool.apply_async(kernel, \\\n",
    "            args=(x1, x2, d1, d2, sig, ls)))\n",
    "\n",
    "for n in range(len(procs)):\n",
    "    par_covs.append(procs[n].get())\n",
    "pool.close()\n",
    "time2 = time.time()\n",
    "print(time2-time1)"
   ]
  },
  {
   "cell_type": "markdown",
   "metadata": {
    "collapsed": true
   },
   "source": [
    "Test covariance matrix function."
   ]
  },
  {
   "cell_type": "code",
   "execution_count": 4,
   "metadata": {},
   "outputs": [
    {
     "name": "stdout",
     "output_type": "stream",
     "text": [
      "3.1088719367980957\n"
     ]
    }
   ],
   "source": [
    "# serial version\n",
    "X = envs\n",
    "sig = 1\n",
    "ls = 1\n",
    "kernel = two_body\n",
    "noise=1\n",
    "time1 = time.time()\n",
    "get_K(X,sig,ls,noise,kernel)\n",
    "time2 = time.time()\n",
    "print(time2-time1)"
   ]
  },
  {
   "cell_type": "code",
   "execution_count": 6,
   "metadata": {},
   "outputs": [
    {
     "name": "stdout",
     "output_type": "stream",
     "text": [
      "40.702632904052734\n"
     ]
    },
    {
     "name": "stderr",
     "output_type": "stream",
     "text": [
      "Process ForkPoolWorker-1:\n",
      "Process ForkPoolWorker-2:\n",
      "Traceback (most recent call last):\n",
      "Traceback (most recent call last):\n",
      "  File \"/Users/jonpvandermause/anaconda3/lib/python3.6/multiprocessing/process.py\", line 258, in _bootstrap\n",
      "    self.run()\n",
      "  File \"/Users/jonpvandermause/anaconda3/lib/python3.6/multiprocessing/process.py\", line 258, in _bootstrap\n",
      "    self.run()\n",
      "  File \"/Users/jonpvandermause/anaconda3/lib/python3.6/multiprocessing/process.py\", line 93, in run\n",
      "    self._target(*self._args, **self._kwargs)\n",
      "  File \"/Users/jonpvandermause/anaconda3/lib/python3.6/multiprocessing/pool.py\", line 108, in worker\n",
      "    task = get()\n",
      "  File \"/Users/jonpvandermause/anaconda3/lib/python3.6/multiprocessing/process.py\", line 93, in run\n",
      "    self._target(*self._args, **self._kwargs)\n",
      "  File \"/Users/jonpvandermause/anaconda3/lib/python3.6/multiprocessing/pool.py\", line 108, in worker\n",
      "    task = get()\n",
      "  File \"/Users/jonpvandermause/anaconda3/lib/python3.6/multiprocessing/queues.py\", line 335, in get\n",
      "    res = self._reader.recv_bytes()\n",
      "  File \"/Users/jonpvandermause/anaconda3/lib/python3.6/multiprocessing/queues.py\", line 334, in get\n",
      "    with self._rlock:\n",
      "  File \"/Users/jonpvandermause/anaconda3/lib/python3.6/multiprocessing/connection.py\", line 216, in recv_bytes\n",
      "    buf = self._recv_bytes(maxlength)\n",
      "  File \"/Users/jonpvandermause/anaconda3/lib/python3.6/multiprocessing/synchronize.py\", line 96, in __enter__\n",
      "    return self._semlock.__enter__()\n",
      "KeyboardInterrupt\n",
      "  File \"/Users/jonpvandermause/anaconda3/lib/python3.6/multiprocessing/connection.py\", line 407, in _recv_bytes\n",
      "    buf = self._recv(4)\n",
      "  File \"/Users/jonpvandermause/anaconda3/lib/python3.6/multiprocessing/connection.py\", line 379, in _recv\n",
      "    chunk = read(handle, remaining)\n",
      "KeyboardInterrupt\n"
     ]
    }
   ],
   "source": [
    "# parallel version\n",
    "X = envs\n",
    "sig = 1\n",
    "ls = 1\n",
    "kernel = two_body\n",
    "pool = mp.Pool(processes=2)\n",
    "noise=1\n",
    "time1 = time.time()\n",
    "get_K_par(X,sig,ls,noise,pool,kernel)\n",
    "time2 = time.time()\n",
    "print(time2-time1)"
   ]
  },
  {
   "cell_type": "markdown",
   "metadata": {},
   "source": [
    "Develop parallel covariance function that distributes each comparison to a new processor."
   ]
  },
  {
   "cell_type": "code",
   "execution_count": 7,
   "metadata": {},
   "outputs": [
    {
     "ename": "NameError",
     "evalue": "name 'envs' is not defined",
     "output_type": "error",
     "traceback": [
      "\u001b[0;31m---------------------------------------------------------------------------\u001b[0m",
      "\u001b[0;31mNameError\u001b[0m                                 Traceback (most recent call last)",
      "\u001b[0;32m<ipython-input-7-ba2762936aeb>\u001b[0m in \u001b[0;36m<module>\u001b[0;34m()\u001b[0m\n\u001b[1;32m      1\u001b[0m \u001b[0;31m# serial version\u001b[0m\u001b[0;34m\u001b[0m\u001b[0;34m\u001b[0m\u001b[0m\n\u001b[1;32m      2\u001b[0m \u001b[0;31m# set inputs\u001b[0m\u001b[0;34m\u001b[0m\u001b[0;34m\u001b[0m\u001b[0m\n\u001b[0;32m----> 3\u001b[0;31m \u001b[0mX\u001b[0m \u001b[0;34m=\u001b[0m \u001b[0menvs\u001b[0m\u001b[0;34m\u001b[0m\u001b[0m\n\u001b[0m\u001b[1;32m      4\u001b[0m \u001b[0msig\u001b[0m \u001b[0;34m=\u001b[0m \u001b[0;36m1\u001b[0m\u001b[0;34m\u001b[0m\u001b[0m\n\u001b[1;32m      5\u001b[0m \u001b[0mls\u001b[0m \u001b[0;34m=\u001b[0m \u001b[0;36m1\u001b[0m\u001b[0;34m\u001b[0m\u001b[0m\n",
      "\u001b[0;31mNameError\u001b[0m: name 'envs' is not defined"
     ]
    }
   ],
   "source": [
    "# serial version\n",
    "# set inputs\n",
    "X = envs\n",
    "sig = 1\n",
    "ls = 1\n",
    "kernel = two_body\n",
    "# pool = mp.Pool(processes=2)\n",
    "noise=1\n",
    "\n",
    "time1 = time.time()\n",
    "# begin function\n",
    "ds = ['xrel','yrel','zrel']\n",
    "\n",
    "# initialize matrix\n",
    "size = len(X)*3\n",
    "K = np.zeros([size, size])\n",
    "results=[]\n",
    "\n",
    "# calculate elements\n",
    "for m in range(size):\n",
    "    x1 = X[int(math.floor(m/3))]\n",
    "    d1 = ds[m%3]\n",
    "    for n in range(m,size):\n",
    "        x2 = X[int(math.floor(n/3))]\n",
    "        d2 = ds[n%3]\n",
    "\n",
    "        # calculate kernel\n",
    "#         results.append(pool.apply_async(kernel, \\\n",
    "#             args=(x1, x2, d1, d2, sig, ls)))\n",
    "\n",
    "        results.append(kernel(x1, x2, d1, d2, sig, ls))\n",
    "    \n",
    "coll = []\n",
    "count = 0\n",
    "for m in range(size):\n",
    "    for n in range(m,size):\n",
    "        K[m,n]=results[count]\n",
    "        K[n,m]=results[count]\n",
    "        count+=1\n",
    "        \n",
    "#         coll.append(results[m].get())\n",
    "\n",
    "time2 = time.time()\n",
    "print(time2-time1)\n",
    "\n",
    "# # perform cholesky decomposition\n",
    "# L = np.linalg.cholesky(K+noise**2*np.eye(size))"
   ]
  },
  {
   "cell_type": "code",
   "execution_count": 4,
   "metadata": {},
   "outputs": [
    {
     "ename": "NameError",
     "evalue": "name 'envs' is not defined",
     "output_type": "error",
     "traceback": [
      "\u001b[0;31m---------------------------------------------------------------------------\u001b[0m",
      "\u001b[0;31mNameError\u001b[0m                                 Traceback (most recent call last)",
      "\u001b[0;32m<ipython-input-4-2819e0b3ec7c>\u001b[0m in \u001b[0;36m<module>\u001b[0;34m()\u001b[0m\n\u001b[1;32m      1\u001b[0m \u001b[0;31m# parallel version\u001b[0m\u001b[0;34m\u001b[0m\u001b[0;34m\u001b[0m\u001b[0m\n\u001b[1;32m      2\u001b[0m \u001b[0;31m# set inputs\u001b[0m\u001b[0;34m\u001b[0m\u001b[0;34m\u001b[0m\u001b[0m\n\u001b[0;32m----> 3\u001b[0;31m \u001b[0mX\u001b[0m \u001b[0;34m=\u001b[0m \u001b[0menvs\u001b[0m\u001b[0;34m\u001b[0m\u001b[0m\n\u001b[0m\u001b[1;32m      4\u001b[0m \u001b[0msig\u001b[0m \u001b[0;34m=\u001b[0m \u001b[0;36m1\u001b[0m\u001b[0;34m\u001b[0m\u001b[0m\n\u001b[1;32m      5\u001b[0m \u001b[0mls\u001b[0m \u001b[0;34m=\u001b[0m \u001b[0;36m1\u001b[0m\u001b[0;34m\u001b[0m\u001b[0m\n",
      "\u001b[0;31mNameError\u001b[0m: name 'envs' is not defined"
     ]
    }
   ],
   "source": [
    "# parallel version\n",
    "# set inputs\n",
    "X = envs\n",
    "sig = 1\n",
    "ls = 1\n",
    "kernel = two_body\n",
    "pool = mp.Pool(processes=2)\n",
    "noise=1\n",
    "\n",
    "time1 = time.time()\n",
    "# begin function\n",
    "ds = ['xrel','yrel','zrel']\n",
    "\n",
    "# initialize matrix\n",
    "size = len(X)*3\n",
    "K = np.zeros([size, size])\n",
    "results=[]\n",
    "\n",
    "# calculate elements\n",
    "for m in range(size):\n",
    "    x1 = X[int(math.floor(m/3))]\n",
    "    d1 = ds[m%3]\n",
    "    for n in range(m,size):\n",
    "        x2 = X[int(math.floor(n/3))]\n",
    "        d2 = ds[n%3]\n",
    "\n",
    "        # calculate kernel\n",
    "        results.append(pool.apply_async(kernel, \\\n",
    "            args=(x1, x2, d1, d2, sig, ls)))\n",
    "\n",
    "count = 0\n",
    "for m in range(size):\n",
    "    for n in range(m,size):\n",
    "        val = results[count].get()\n",
    "        K[m,n]=val\n",
    "        K[n,m]=val\n",
    "        count+=1\n",
    "\n",
    "\n",
    "pool.close()\n",
    "time2 = time.time()\n",
    "print(time2-time1)\n",
    "\n",
    "# # perform cholesky decomposition\n",
    "# L = np.linalg.cholesky(K+noise**2*np.eye(size))"
   ]
  },
  {
   "cell_type": "markdown",
   "metadata": {},
   "source": [
    "Develop smarter parallelization scheme. Split covariance matrix calculation into lists of environment comparisons, with one list assigned to each processor."
   ]
  },
  {
   "cell_type": "markdown",
   "metadata": {},
   "source": [
    "First, develop a function that creates assignment lists."
   ]
  },
  {
   "cell_type": "code",
   "execution_count": 12,
   "metadata": {
    "collapsed": true
   },
   "outputs": [],
   "source": [
    "def get_assignment(X,batches):\n",
    "    ds = ['xrel','yrel','zrel']\n",
    "    size = len(X)*3\n",
    "    tot_comps = (size+1)*size/2\n",
    "    switch = math.ceil(tot_comps/batches)\n",
    "    batch_count = 0\n",
    "    assign = []\n",
    "\n",
    "    # calculate elements\n",
    "    for m in range(size):\n",
    "        x1_ind = int(math.floor(m/3))\n",
    "        d1 = ds[m%3]\n",
    "        for n in range(m,size):\n",
    "            x2_ind = int(math.floor(n/3))\n",
    "            d2 = ds[n%3]\n",
    "\n",
    "            # when batch limit is reached, reset counter\n",
    "            if batch_count == switch:\n",
    "                batch_count = 0\n",
    "\n",
    "            # if counter is zero, start a new list\n",
    "            if batch_count==0:\n",
    "                assign.append([[x1_ind,d1,x2_ind,d2]])\n",
    "\n",
    "            # otherwise, add comparison to last list\n",
    "            else:\n",
    "                assign[len(assign)-1].append([x1_ind,d1,x2_ind,d2])\n",
    "\n",
    "            # increment counter\n",
    "            batch_count+=1\n",
    "\n",
    "    return assign\n",
    "\n",
    "X = envs\n",
    "batches = 2\n",
    "assign = get_assignment(X,batches)"
   ]
  },
  {
   "cell_type": "markdown",
   "metadata": {},
   "source": [
    "Given an assignment (i.e. a list of environment pairs), compute the corresponding list of covariances."
   ]
  },
  {
   "cell_type": "code",
   "execution_count": 13,
   "metadata": {
    "collapsed": true
   },
   "outputs": [],
   "source": [
    "def get_cov_list(pair_list, X, kernel, sig, ls):\n",
    "    res_store = []\n",
    "    for n in range(len(pair_list)):\n",
    "        pair = pair_list[n]\n",
    "        x1 = X[pair[0]]\n",
    "        d1 = pair[1]\n",
    "        x2 = X[pair[2]]\n",
    "        d2 = pair[3]\n",
    "        res_store.append(kernel(x1, x2, d1, d2, sig, ls))\n",
    "    return res_store\n",
    "\n",
    "# pair_list = assign[0]\n",
    "# kernel = two_body\n",
    "# sig = 1\n",
    "# ls = 1\n",
    "\n",
    "# time1 = time.time()\n",
    "# test = get_cov_list(pair_list, X, kernel, sig, ls)\n",
    "# time2 = time.time()\n",
    "# print(time2-time1)"
   ]
  },
  {
   "cell_type": "markdown",
   "metadata": {},
   "source": [
    "Given a list of assignments, assign each assignment to a processor and collect the results."
   ]
  },
  {
   "cell_type": "code",
   "execution_count": 47,
   "metadata": {
    "collapsed": true
   },
   "outputs": [],
   "source": [
    "def get_K_pool(X, batches, kernel, sig, ls, noise):\n",
    "    # get assignment\n",
    "    assign = get_assignment(X, batches)\n",
    "    \n",
    "    # create pool of processors\n",
    "    procs = len(assign)\n",
    "    pool = mp.Pool(processes = procs)\n",
    "\n",
    "    # assign to processors\n",
    "    res = []\n",
    "    for n in range(procs):\n",
    "        # set pair list\n",
    "        pair_list = assign[n]\n",
    "\n",
    "        # assign pair list to processor\n",
    "        res.append(pool.apply_async(get_cov_list,\\\n",
    "            args = (pair_list, X, kernel, sig, ls)))\n",
    "\n",
    "    # collect covariance lists\n",
    "    results = []\n",
    "    for n in range(procs):\n",
    "        time1=time.time()\n",
    "        results.append(res[n].get())\n",
    "        time2=time.time()\n",
    "        print(time2-time1)\n",
    "        \n",
    "    # create K matrix from covariance lists\n",
    "    size = len(X)*3\n",
    "    K = np.zeros([size, size])\n",
    "    counter = 0\n",
    "    cov_list = 0\n",
    "    for m in range(size):\n",
    "        for n in range(m,size):\n",
    "            if counter < len(results[cov_list]):\n",
    "                ent = results[cov_list][counter]\n",
    "            else:\n",
    "                counter = 0\n",
    "                cov_list +=1\n",
    "                ent = results[cov_list][counter]\n",
    "            \n",
    "            counter+=1\n",
    "            K[m,n]=ent\n",
    "            K[n,m]=ent\n",
    "\n",
    "    # close the pool\n",
    "    pool.close()\n",
    "    \n",
    "    # perform cholesky decomposition\n",
    "    L = np.linalg.cholesky(K+noise**2*np.eye(size))\n",
    "    \n",
    "    return K, L"
   ]
  },
  {
   "cell_type": "markdown",
   "metadata": {},
   "source": [
    "Use manager to make the list of environment dictionaries public."
   ]
  },
  {
   "cell_type": "code",
   "execution_count": 75,
   "metadata": {},
   "outputs": [
    {
     "ename": "FileNotFoundError",
     "evalue": "[Errno 2] No such file or directory",
     "output_type": "error",
     "traceback": [
      "\u001b[0;31m---------------------------------------------------------------------------\u001b[0m",
      "\u001b[0;31mAttributeError\u001b[0m                            Traceback (most recent call last)",
      "\u001b[0;32m~/anaconda3/lib/python3.6/multiprocessing/managers.py\u001b[0m in \u001b[0;36m_callmethod\u001b[0;34m(self, methodname, args, kwds)\u001b[0m\n\u001b[1;32m    748\u001b[0m         \u001b[0;32mtry\u001b[0m\u001b[0;34m:\u001b[0m\u001b[0;34m\u001b[0m\u001b[0m\n\u001b[0;32m--> 749\u001b[0;31m             \u001b[0mconn\u001b[0m \u001b[0;34m=\u001b[0m \u001b[0mself\u001b[0m\u001b[0;34m.\u001b[0m\u001b[0m_tls\u001b[0m\u001b[0;34m.\u001b[0m\u001b[0mconnection\u001b[0m\u001b[0;34m\u001b[0m\u001b[0m\n\u001b[0m\u001b[1;32m    750\u001b[0m         \u001b[0;32mexcept\u001b[0m \u001b[0mAttributeError\u001b[0m\u001b[0;34m:\u001b[0m\u001b[0;34m\u001b[0m\u001b[0m\n",
      "\u001b[0;31mAttributeError\u001b[0m: 'ForkAwareLocal' object has no attribute 'connection'",
      "\nDuring handling of the above exception, another exception occurred:\n",
      "\u001b[0;31mFileNotFoundError\u001b[0m                         Traceback (most recent call last)",
      "\u001b[0;32m<ipython-input-75-11baa45f4886>\u001b[0m in \u001b[0;36m<module>\u001b[0;34m()\u001b[0m\n\u001b[0;32m----> 1\u001b[0;31m \u001b[0mX_shared\u001b[0m\u001b[0;34m[\u001b[0m\u001b[0;36m0\u001b[0m\u001b[0;34m]\u001b[0m\u001b[0;34m\u001b[0m\u001b[0m\n\u001b[0m",
      "\u001b[0;32m<string>\u001b[0m in \u001b[0;36m__getitem__\u001b[0;34m(self, *args, **kwds)\u001b[0m\n",
      "\u001b[0;32m~/anaconda3/lib/python3.6/multiprocessing/managers.py\u001b[0m in \u001b[0;36m_callmethod\u001b[0;34m(self, methodname, args, kwds)\u001b[0m\n\u001b[1;32m    751\u001b[0m             util.debug('thread %r does not own a connection',\n\u001b[1;32m    752\u001b[0m                        threading.current_thread().name)\n\u001b[0;32m--> 753\u001b[0;31m             \u001b[0mself\u001b[0m\u001b[0;34m.\u001b[0m\u001b[0m_connect\u001b[0m\u001b[0;34m(\u001b[0m\u001b[0;34m)\u001b[0m\u001b[0;34m\u001b[0m\u001b[0m\n\u001b[0m\u001b[1;32m    754\u001b[0m             \u001b[0mconn\u001b[0m \u001b[0;34m=\u001b[0m \u001b[0mself\u001b[0m\u001b[0;34m.\u001b[0m\u001b[0m_tls\u001b[0m\u001b[0;34m.\u001b[0m\u001b[0mconnection\u001b[0m\u001b[0;34m\u001b[0m\u001b[0m\n\u001b[1;32m    755\u001b[0m \u001b[0;34m\u001b[0m\u001b[0m\n",
      "\u001b[0;32m~/anaconda3/lib/python3.6/multiprocessing/managers.py\u001b[0m in \u001b[0;36m_connect\u001b[0;34m(self)\u001b[0m\n\u001b[1;32m    738\u001b[0m         \u001b[0;32mif\u001b[0m \u001b[0mthreading\u001b[0m\u001b[0;34m.\u001b[0m\u001b[0mcurrent_thread\u001b[0m\u001b[0;34m(\u001b[0m\u001b[0;34m)\u001b[0m\u001b[0;34m.\u001b[0m\u001b[0mname\u001b[0m \u001b[0;34m!=\u001b[0m \u001b[0;34m'MainThread'\u001b[0m\u001b[0;34m:\u001b[0m\u001b[0;34m\u001b[0m\u001b[0m\n\u001b[1;32m    739\u001b[0m             \u001b[0mname\u001b[0m \u001b[0;34m+=\u001b[0m \u001b[0;34m'|'\u001b[0m \u001b[0;34m+\u001b[0m \u001b[0mthreading\u001b[0m\u001b[0;34m.\u001b[0m\u001b[0mcurrent_thread\u001b[0m\u001b[0;34m(\u001b[0m\u001b[0;34m)\u001b[0m\u001b[0;34m.\u001b[0m\u001b[0mname\u001b[0m\u001b[0;34m\u001b[0m\u001b[0m\n\u001b[0;32m--> 740\u001b[0;31m         \u001b[0mconn\u001b[0m \u001b[0;34m=\u001b[0m \u001b[0mself\u001b[0m\u001b[0;34m.\u001b[0m\u001b[0m_Client\u001b[0m\u001b[0;34m(\u001b[0m\u001b[0mself\u001b[0m\u001b[0;34m.\u001b[0m\u001b[0m_token\u001b[0m\u001b[0;34m.\u001b[0m\u001b[0maddress\u001b[0m\u001b[0;34m,\u001b[0m \u001b[0mauthkey\u001b[0m\u001b[0;34m=\u001b[0m\u001b[0mself\u001b[0m\u001b[0;34m.\u001b[0m\u001b[0m_authkey\u001b[0m\u001b[0;34m)\u001b[0m\u001b[0;34m\u001b[0m\u001b[0m\n\u001b[0m\u001b[1;32m    741\u001b[0m         \u001b[0mdispatch\u001b[0m\u001b[0;34m(\u001b[0m\u001b[0mconn\u001b[0m\u001b[0;34m,\u001b[0m \u001b[0;32mNone\u001b[0m\u001b[0;34m,\u001b[0m \u001b[0;34m'accept_connection'\u001b[0m\u001b[0;34m,\u001b[0m \u001b[0;34m(\u001b[0m\u001b[0mname\u001b[0m\u001b[0;34m,\u001b[0m\u001b[0;34m)\u001b[0m\u001b[0;34m)\u001b[0m\u001b[0;34m\u001b[0m\u001b[0m\n\u001b[1;32m    742\u001b[0m         \u001b[0mself\u001b[0m\u001b[0;34m.\u001b[0m\u001b[0m_tls\u001b[0m\u001b[0;34m.\u001b[0m\u001b[0mconnection\u001b[0m \u001b[0;34m=\u001b[0m \u001b[0mconn\u001b[0m\u001b[0;34m\u001b[0m\u001b[0m\n",
      "\u001b[0;32m~/anaconda3/lib/python3.6/multiprocessing/connection.py\u001b[0m in \u001b[0;36mClient\u001b[0;34m(address, family, authkey)\u001b[0m\n\u001b[1;32m    485\u001b[0m         \u001b[0mc\u001b[0m \u001b[0;34m=\u001b[0m \u001b[0mPipeClient\u001b[0m\u001b[0;34m(\u001b[0m\u001b[0maddress\u001b[0m\u001b[0;34m)\u001b[0m\u001b[0;34m\u001b[0m\u001b[0m\n\u001b[1;32m    486\u001b[0m     \u001b[0;32melse\u001b[0m\u001b[0;34m:\u001b[0m\u001b[0;34m\u001b[0m\u001b[0m\n\u001b[0;32m--> 487\u001b[0;31m         \u001b[0mc\u001b[0m \u001b[0;34m=\u001b[0m \u001b[0mSocketClient\u001b[0m\u001b[0;34m(\u001b[0m\u001b[0maddress\u001b[0m\u001b[0;34m)\u001b[0m\u001b[0;34m\u001b[0m\u001b[0m\n\u001b[0m\u001b[1;32m    488\u001b[0m \u001b[0;34m\u001b[0m\u001b[0m\n\u001b[1;32m    489\u001b[0m     \u001b[0;32mif\u001b[0m \u001b[0mauthkey\u001b[0m \u001b[0;32mis\u001b[0m \u001b[0;32mnot\u001b[0m \u001b[0;32mNone\u001b[0m \u001b[0;32mand\u001b[0m \u001b[0;32mnot\u001b[0m \u001b[0misinstance\u001b[0m\u001b[0;34m(\u001b[0m\u001b[0mauthkey\u001b[0m\u001b[0;34m,\u001b[0m \u001b[0mbytes\u001b[0m\u001b[0;34m)\u001b[0m\u001b[0;34m:\u001b[0m\u001b[0;34m\u001b[0m\u001b[0m\n",
      "\u001b[0;32m~/anaconda3/lib/python3.6/multiprocessing/connection.py\u001b[0m in \u001b[0;36mSocketClient\u001b[0;34m(address)\u001b[0m\n\u001b[1;32m    612\u001b[0m     \u001b[0;32mwith\u001b[0m \u001b[0msocket\u001b[0m\u001b[0;34m.\u001b[0m\u001b[0msocket\u001b[0m\u001b[0;34m(\u001b[0m \u001b[0mgetattr\u001b[0m\u001b[0;34m(\u001b[0m\u001b[0msocket\u001b[0m\u001b[0;34m,\u001b[0m \u001b[0mfamily\u001b[0m\u001b[0;34m)\u001b[0m \u001b[0;34m)\u001b[0m \u001b[0;32mas\u001b[0m \u001b[0ms\u001b[0m\u001b[0;34m:\u001b[0m\u001b[0;34m\u001b[0m\u001b[0m\n\u001b[1;32m    613\u001b[0m         \u001b[0ms\u001b[0m\u001b[0;34m.\u001b[0m\u001b[0msetblocking\u001b[0m\u001b[0;34m(\u001b[0m\u001b[0;32mTrue\u001b[0m\u001b[0;34m)\u001b[0m\u001b[0;34m\u001b[0m\u001b[0m\n\u001b[0;32m--> 614\u001b[0;31m         \u001b[0ms\u001b[0m\u001b[0;34m.\u001b[0m\u001b[0mconnect\u001b[0m\u001b[0;34m(\u001b[0m\u001b[0maddress\u001b[0m\u001b[0;34m)\u001b[0m\u001b[0;34m\u001b[0m\u001b[0m\n\u001b[0m\u001b[1;32m    615\u001b[0m         \u001b[0;32mreturn\u001b[0m \u001b[0mConnection\u001b[0m\u001b[0;34m(\u001b[0m\u001b[0ms\u001b[0m\u001b[0;34m.\u001b[0m\u001b[0mdetach\u001b[0m\u001b[0;34m(\u001b[0m\u001b[0;34m)\u001b[0m\u001b[0;34m)\u001b[0m\u001b[0;34m\u001b[0m\u001b[0m\n\u001b[1;32m    616\u001b[0m \u001b[0;34m\u001b[0m\u001b[0m\n",
      "\u001b[0;31mFileNotFoundError\u001b[0m: [Errno 2] No such file or directory"
     ]
    }
   ],
   "source": [
    "X_shared[0]"
   ]
  },
  {
   "cell_type": "code",
   "execution_count": 51,
   "metadata": {
    "collapsed": true
   },
   "outputs": [],
   "source": [
    "def get_K_man(X, batches, kernel, sig, ls, noise):\n",
    "    # get assignment\n",
    "    assign = get_assignment(X, batches)\n",
    "    \n",
    "    # create manager\n",
    "    manager = mp.Manager()\n",
    "    X_shared = manager.list(X)\n",
    "    \n",
    "    # create pool of processors\n",
    "    procs = len(assign)\n",
    "    pool = mp.Pool(processes = procs)\n",
    "\n",
    "    # assign to processors\n",
    "    res = []\n",
    "    for n in range(procs):\n",
    "        # set pair list\n",
    "        pair_list = assign[n]\n",
    "\n",
    "        # assign pair list to processor\n",
    "        res.append(pool.apply_async(get_cov_list,\\\n",
    "            args = (pair_list, X_shared, kernel, sig, ls)))\n",
    "\n",
    "#     # close and join the pool\n",
    "#     pool.close()\n",
    "#     pool.join()\n",
    "    \n",
    "    # collect covariance lists\n",
    "    results = []\n",
    "    for n in range(procs):\n",
    "        time1=time.time()\n",
    "        results.append(res[n].get())\n",
    "        time2=time.time()\n",
    "        print(time2-time1)\n",
    "        \n",
    "    # create K matrix from covariance lists\n",
    "    size = len(X)*3\n",
    "    K = np.zeros([size, size])\n",
    "    counter = 0\n",
    "    cov_list = 0\n",
    "    for m in range(size):\n",
    "        for n in range(m,size):\n",
    "            if counter < len(results[cov_list]):\n",
    "                ent = results[cov_list][counter]\n",
    "            else:\n",
    "                counter = 0\n",
    "                cov_list +=1\n",
    "                ent = results[cov_list][counter]\n",
    "            \n",
    "            counter+=1\n",
    "            K[m,n]=ent\n",
    "            K[n,m]=ent\n",
    "\n",
    "    # close the pool\n",
    "    pool.close()\n",
    "    \n",
    "    # perform cholesky decomposition\n",
    "    L = np.linalg.cholesky(K+noise**2*np.eye(size))\n",
    "    \n",
    "    return K, L"
   ]
  },
  {
   "cell_type": "code",
   "execution_count": 50,
   "metadata": {
    "collapsed": true
   },
   "outputs": [],
   "source": [
    "manager = mp.Manager()\n",
    "X_shared = manager.list(X)"
   ]
  },
  {
   "cell_type": "code",
   "execution_count": 2,
   "metadata": {
    "collapsed": true
   },
   "outputs": [],
   "source": [
    "# map test\n",
    "def test_func(x):\n",
    "    return x"
   ]
  },
  {
   "cell_type": "code",
   "execution_count": 6,
   "metadata": {},
   "outputs": [],
   "source": [
    "pool = mp.Pool(2)\n",
    "args = [[1,2],[3,4]]\n",
    "test = pool.map(test_func, args)\n",
    "pool.close()"
   ]
  },
  {
   "cell_type": "code",
   "execution_count": 5,
   "metadata": {},
   "outputs": [
    {
     "data": {
      "text/plain": [
       "[[1, 2], [3, 4]]"
      ]
     },
     "execution_count": 5,
     "metadata": {},
     "output_type": "execute_result"
    }
   ],
   "source": [
    "test"
   ]
  },
  {
   "cell_type": "code",
   "execution_count": 7,
   "metadata": {},
   "outputs": [
    {
     "data": {
      "text/plain": [
       "4"
      ]
     },
     "execution_count": 7,
     "metadata": {},
     "output_type": "execute_result"
    }
   ],
   "source": [
    "mp.cpu_count()"
   ]
  },
  {
   "cell_type": "code",
   "execution_count": 8,
   "metadata": {
    "collapsed": true
   },
   "outputs": [],
   "source": [
    "pool1 = mp.Pool(2)"
   ]
  },
  {
   "cell_type": "code",
   "execution_count": 9,
   "metadata": {
    "collapsed": true
   },
   "outputs": [],
   "source": [
    "pool2 = mp.Pool(2)"
   ]
  },
  {
   "cell_type": "code",
   "execution_count": 10,
   "metadata": {
    "collapsed": true
   },
   "outputs": [],
   "source": [
    "pool3 = mp.Pool(2)"
   ]
  },
  {
   "cell_type": "code",
   "execution_count": 11,
   "metadata": {},
   "outputs": [
    {
     "ename": "ModuleNotFoundError",
     "evalue": "No module named 'mpi4py'",
     "output_type": "error",
     "traceback": [
      "\u001b[0;31m---------------------------------------------------------------------------\u001b[0m",
      "\u001b[0;31mModuleNotFoundError\u001b[0m                       Traceback (most recent call last)",
      "\u001b[0;32m<ipython-input-11-b023d1288a4d>\u001b[0m in \u001b[0;36m<module>\u001b[0;34m()\u001b[0m\n\u001b[0;32m----> 1\u001b[0;31m \u001b[0;32mimport\u001b[0m \u001b[0mmpi4py\u001b[0m\u001b[0;34m\u001b[0m\u001b[0m\n\u001b[0m",
      "\u001b[0;31mModuleNotFoundError\u001b[0m: No module named 'mpi4py'"
     ]
    }
   ],
   "source": [
    "import mpi4py"
   ]
  },
  {
   "cell_type": "code",
   "execution_count": null,
   "metadata": {
    "collapsed": true
   },
   "outputs": [],
   "source": []
  }
 ],
 "metadata": {
  "kernelspec": {
   "display_name": "Python 3",
   "language": "python",
   "name": "python3"
  },
  "language_info": {
   "codemirror_mode": {
    "name": "ipython",
    "version": 3
   },
   "file_extension": ".py",
   "mimetype": "text/x-python",
   "name": "python",
   "nbconvert_exporter": "python",
   "pygments_lexer": "ipython3",
   "version": "3.6.3"
  }
 },
 "nbformat": 4,
 "nbformat_minor": 2
}
