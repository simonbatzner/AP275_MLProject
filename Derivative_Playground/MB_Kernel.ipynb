{
 "cells": [
  {
   "cell_type": "code",
   "execution_count": 275,
   "metadata": {
    "collapsed": true
   },
   "outputs": [],
   "source": [
    "from sympy import *\n",
    "import numpy as np\n",
    "import scipy as sp\n",
    "import scipy.linalg"
   ]
  },
  {
   "cell_type": "markdown",
   "metadata": {},
   "source": [
    "### Calculate derivatives in sympy."
   ]
  },
  {
   "cell_type": "code",
   "execution_count": 6,
   "metadata": {
    "collapsed": true
   },
   "outputs": [],
   "source": [
    "# set symbols\n",
    "sig, ls, xi, x0, yi, y0, zi, z0, xj, x0p, yj, y0p, zj, z0p = \\\n",
    "    symbols('sig, ls, xi, x0, yi, y0, zi, z0, xj, x0p, yj, y0p, zj, z0p')"
   ]
  },
  {
   "cell_type": "code",
   "execution_count": 7,
   "metadata": {},
   "outputs": [],
   "source": [
    "# define energy kernel\n",
    "tb_kern = sig**2*exp(-(sqrt((xi-x0)**2+(yi-y0)**2+(zi-z0)**2)-\\\n",
    "                       sqrt((xj-x0p)**2+(yj-y0p)**2+(zj-z0p)**2))**2/(2*ls**2))"
   ]
  },
  {
   "cell_type": "code",
   "execution_count": 469,
   "metadata": {},
   "outputs": [],
   "source": [
    "# compute kernel derivatives\n",
    "tb_xx = diff(tb_kern, x0, x0p)\n",
    "tb_xy = diff(tb_kern, x0, y0p)\n",
    "tb_xz = diff(tb_kern, x0, z0p)\n",
    "tb_yx = diff(tb_kern, y0, x0p)\n",
    "tb_yy = diff(tb_kern, y0, y0p)\n",
    "tb_yz = diff(tb_kern, y0, z0p)\n",
    "tb_zx = diff(tb_kern, z0, x0p)\n",
    "tb_zy = diff(tb_kern, z0, y0p)\n",
    "tb_zz = diff(tb_kern, z0, z0p)"
   ]
  },
  {
   "cell_type": "code",
   "execution_count": 465,
   "metadata": {},
   "outputs": [
    {
     "data": {
      "text/plain": [
       "sig**2*(1 - (sqrt((x0 - xi)**2 + (y0 - yi)**2 + (z0 - zi)**2) - sqrt((x0p - xj)**2 + (y0p - yj)**2 + (z0p - zj)**2))**2/ls**2)*(x0 - xi)*(x0p - xj)*exp(-(sqrt((x0 - xi)**2 + (y0 - yi)**2 + (z0 - zi)**2) - sqrt((x0p - xj)**2 + (y0p - yj)**2 + (z0p - zj)**2))**2/(2*ls**2))/(ls**2*sqrt((x0 - xi)**2 + (y0 - yi)**2 + (z0 - zi)**2)*sqrt((x0p - xj)**2 + (y0p - yj)**2 + (z0p - zj)**2))"
      ]
     },
     "execution_count": 465,
     "metadata": {},
     "output_type": "execute_result"
    }
   ],
   "source": [
    "tb_xx"
   ]
  },
  {
   "cell_type": "code",
   "execution_count": 466,
   "metadata": {},
   "outputs": [
    {
     "data": {
      "text/plain": [
       "sig**2*(1 - (sqrt((x0 - xi)**2 + (y0 - yi)**2 + (z0 - zi)**2) - sqrt((x0p - xj)**2 + (y0p - yj)**2 + (z0p - zj)**2))**2/ls**2)*(x0 - xi)*(y0p - yj)*exp(-(sqrt((x0 - xi)**2 + (y0 - yi)**2 + (z0 - zi)**2) - sqrt((x0p - xj)**2 + (y0p - yj)**2 + (z0p - zj)**2))**2/(2*ls**2))/(ls**2*sqrt((x0 - xi)**2 + (y0 - yi)**2 + (z0 - zi)**2)*sqrt((x0p - xj)**2 + (y0p - yj)**2 + (z0p - zj)**2))"
      ]
     },
     "execution_count": 466,
     "metadata": {},
     "output_type": "execute_result"
    }
   ],
   "source": [
    "tb_xy"
   ]
  },
  {
   "cell_type": "code",
   "execution_count": 467,
   "metadata": {},
   "outputs": [
    {
     "data": {
      "text/plain": [
       "sig**2*(1 - (sqrt((x0 - xi)**2 + (y0 - yi)**2 + (z0 - zi)**2) - sqrt((x0p - xj)**2 + (y0p - yj)**2 + (z0p - zj)**2))**2/ls**2)*(x0 - xi)*(z0p - zj)*exp(-(sqrt((x0 - xi)**2 + (y0 - yi)**2 + (z0 - zi)**2) - sqrt((x0p - xj)**2 + (y0p - yj)**2 + (z0p - zj)**2))**2/(2*ls**2))/(ls**2*sqrt((x0 - xi)**2 + (y0 - yi)**2 + (z0 - zi)**2)*sqrt((x0p - xj)**2 + (y0p - yj)**2 + (z0p - zj)**2))"
      ]
     },
     "execution_count": 467,
     "metadata": {},
     "output_type": "execute_result"
    }
   ],
   "source": [
    "tb_xz"
   ]
  },
  {
   "cell_type": "code",
   "execution_count": 468,
   "metadata": {},
   "outputs": [
    {
     "data": {
      "text/plain": [
       "sig**2*(1 - (sqrt((x0 - xi)**2 + (y0 - yi)**2 + (z0 - zi)**2) - sqrt((x0p - xj)**2 + (y0p - yj)**2 + (z0p - zj)**2))**2/ls**2)*(x0p - xj)*(y0 - yi)*exp(-(sqrt((x0 - xi)**2 + (y0 - yi)**2 + (z0 - zi)**2) - sqrt((x0p - xj)**2 + (y0p - yj)**2 + (z0p - zj)**2))**2/(2*ls**2))/(ls**2*sqrt((x0 - xi)**2 + (y0 - yi)**2 + (z0 - zi)**2)*sqrt((x0p - xj)**2 + (y0p - yj)**2 + (z0p - zj)**2))"
      ]
     },
     "execution_count": 468,
     "metadata": {},
     "output_type": "execute_result"
    }
   ],
   "source": [
    "tb_yx"
   ]
  },
  {
   "cell_type": "code",
   "execution_count": 28,
   "metadata": {},
   "outputs": [
    {
     "data": {
      "text/plain": [
       "sig**2*(1 - (sqrt((x0 - xi)**2 + (y0 - yi)**2 + (z0 - zi)**2) - sqrt((x0p - xj)**2 + (y0p - yj)**2 + (z0p - zj)**2))**2/ls**2)*(y0 - yi)*(y0p - yj)*exp(-(sqrt((x0 - xi)**2 + (y0 - yi)**2 + (z0 - zi)**2) - sqrt((x0p - xj)**2 + (y0p - yj)**2 + (z0p - zj)**2))**2/(2*ls**2))/(ls**2*sqrt((x0 - xi)**2 + (y0 - yi)**2 + (z0 - zi)**2)*sqrt((x0p - xj)**2 + (y0p - yj)**2 + (z0p - zj)**2))"
      ]
     },
     "execution_count": 28,
     "metadata": {},
     "output_type": "execute_result"
    }
   ],
   "source": [
    "tb_yy"
   ]
  },
  {
   "cell_type": "code",
   "execution_count": 29,
   "metadata": {},
   "outputs": [
    {
     "data": {
      "text/plain": [
       "sig**2*(1 - (sqrt((x0 - xi)**2 + (y0 - yi)**2 + (z0 - zi)**2) - sqrt((x0p - xj)**2 + (y0p - yj)**2 + (z0p - zj)**2))**2/ls**2)*(y0 - yi)*(z0p - zj)*exp(-(sqrt((x0 - xi)**2 + (y0 - yi)**2 + (z0 - zi)**2) - sqrt((x0p - xj)**2 + (y0p - yj)**2 + (z0p - zj)**2))**2/(2*ls**2))/(ls**2*sqrt((x0 - xi)**2 + (y0 - yi)**2 + (z0 - zi)**2)*sqrt((x0p - xj)**2 + (y0p - yj)**2 + (z0p - zj)**2))"
      ]
     },
     "execution_count": 29,
     "metadata": {},
     "output_type": "execute_result"
    }
   ],
   "source": [
    "tb_yz"
   ]
  },
  {
   "cell_type": "code",
   "execution_count": 65,
   "metadata": {},
   "outputs": [
    {
     "data": {
      "text/plain": [
       "sig**2*(1 - (sqrt((x0 - xi)**2 + (y0 - yi)**2 + (z0 - zi)**2) - sqrt((x0p - xj)**2 + (y0p - yj)**2 + (z0p - zj)**2))**2/ls**2)*(z0 - zi)*(z0p - zj)*exp(-(sqrt((x0 - xi)**2 + (y0 - yi)**2 + (z0 - zi)**2) - sqrt((x0p - xj)**2 + (y0p - yj)**2 + (z0p - zj)**2))**2/(2*ls**2))/(ls**2*sqrt((x0 - xi)**2 + (y0 - yi)**2 + (z0 - zi)**2)*sqrt((x0p - xj)**2 + (y0p - yj)**2 + (z0p - zj)**2))"
      ]
     },
     "execution_count": 65,
     "metadata": {},
     "output_type": "execute_result"
    }
   ],
   "source": [
    "tb_zz"
   ]
  },
  {
   "cell_type": "markdown",
   "metadata": {},
   "source": [
    "### Define two-body kernel."
   ]
  },
  {
   "cell_type": "code",
   "execution_count": 470,
   "metadata": {
    "collapsed": true
   },
   "outputs": [],
   "source": [
    "def cov_func(sig, ls, xi, x0, yi, y0, zi, z0, xj, x0p, yj, y0p, zj, z0p, d1, d2):\n",
    "    base = sig**2*(1 - (np.sqrt((x0 - xi)**2 + (y0 - yi)**2 + (z0 - zi)**2) - np.sqrt((x0p - xj)**2 + \\\n",
    "            (y0p - yj)**2 + (z0p - zj)**2))**2/ls**2)*np.exp(-(np.sqrt((x0 - xi)**2 + \\\n",
    "            (y0 - yi)**2 + (z0 - zi)**2) - np.sqrt((x0p - xj)**2 + (y0p - yj)**2 + (z0p - zj)**2))**2/\\\n",
    "            (2*ls**2))/(ls**2*np.sqrt((x0 - xi)**2 + (y0 - yi)**2 + (z0 - zi)**2)*np.sqrt((x0p - xj)**2 + \\\n",
    "            (y0p - yj)**2 + (z0p - zj)**2))\n",
    "    \n",
    "    if d1==1 and d2==1:\n",
    "        cov = base * (x0 - xi)*(x0p - xj)\n",
    "    elif d1==1 and d2==2:\n",
    "        cov = base * (x0 - xi)*(y0p - yj)\n",
    "    elif d1==1 and d2==3:\n",
    "        cov = base * (x0 - xi)*(z0p - zj)\n",
    "    elif d1==2 and d2==1:\n",
    "        cov = base * (y0 - yi)*(x0p - xj)\n",
    "    elif d1==2 and d2==2:\n",
    "        cov = base * (y0 - yi)*(y0p - yj)\n",
    "    elif d1==2 and d2==3:\n",
    "        cov = base * (y0 - yi)*(z0p - zj)\n",
    "    elif d1==3 and d2==1:\n",
    "        cov = base * (z0 - zi)*(x0p - xj)\n",
    "    elif d1==3 and d2==2:\n",
    "        cov = base * (z0 - zi)*(y0p - yj)\n",
    "    elif d1==3 and d2==3:\n",
    "        cov = base * (z0 - zi)*(z0p - zj)\n",
    "        \n",
    "    return cov"
   ]
  },
  {
   "cell_type": "code",
   "execution_count": 480,
   "metadata": {
    "collapsed": true
   },
   "outputs": [],
   "source": [
    "# 1 = partial wrt x\n",
    "# 2 = partial wrt y\n",
    "# 3 = partial wrt z\n",
    "# x1, x2 are 3xN matrices of Cartesian coordinates with central atom at the origin\n",
    "def tb_kernel(x1, x2, d1, d2, sig, ls):\n",
    "    # central atom assumed to be at the origin\n",
    "    x0, y0, z0, x0p, y0p, z0p = [0,0,0,0,0,0]\n",
    "    \n",
    "    # loop over atoms\n",
    "    tot_kern = 0\n",
    "    for m in range(x1.shape[1]):\n",
    "        xi = x1[0,m]\n",
    "        yi = x1[1,m]\n",
    "        zi = x1[2,m]\n",
    "        \n",
    "        for n in range(x2.shape[1]):\n",
    "            xj = x2[0,n]\n",
    "            yj = x2[1,n]\n",
    "            zj = x2[2,n]\n",
    "            \n",
    "            # calculate covariance for given pair\n",
    "            cov = cov_func(sig, ls, xi, x0, yi, y0, zi, z0, \\\n",
    "                           xj, x0p, yj, y0p, zj, z0p, d1, d2)\n",
    "            tot_kern += cov\n",
    "            \n",
    "    return tot_kern"
   ]
  },
  {
   "cell_type": "code",
   "execution_count": 502,
   "metadata": {
    "collapsed": true
   },
   "outputs": [],
   "source": [
    "# get 3Nx3N noiseless kernel matrix\n",
    "# assume all 3 force components are known for each configuration\n",
    "# X is assumed to be a list of 3xN arrays\n",
    "def get_K(X,sig,ls):\n",
    "    # initialize matrix\n",
    "    size = len(X)*3\n",
    "    K = np.zeros([size, size])\n",
    "    \n",
    "    # calculate elements\n",
    "    for m in range(size):\n",
    "        x1 = X[int(floor(m/3))]\n",
    "        d1 = m%3+1\n",
    "        for n in range(m,size):\n",
    "            x2 = X[int(floor(n/3))]\n",
    "            d2 = n%3+1\n",
    "           \n",
    "            # calculate kernel\n",
    "            cov = tb_kernel(x1, x2, d1, d2, sig, ls)\n",
    "            K[m,n] = cov\n",
    "            K[n,m] = cov\n",
    "    \n",
    "    # perform cholesky decomposition\n",
    "    L = np.linalg.cholesky(K)\n",
    "    \n",
    "    return K, L"
   ]
  },
  {
   "cell_type": "code",
   "execution_count": 503,
   "metadata": {
    "collapsed": true
   },
   "outputs": [],
   "source": [
    "# get kernel vector\n",
    "def get_kv(X,x,d1,sig,ls):\n",
    "    size = len(X)*3\n",
    "    kv=np.zeros([size,1])\n",
    "    for m in range(size):\n",
    "        x2 = X[int(floor(m/3))]\n",
    "        d2 = m%3+1\n",
    "        kv[m]=tb_kernel(x,x2,d1,d2,sig,ls)\n",
    "        \n",
    "    return kv"
   ]
  },
  {
   "cell_type": "code",
   "execution_count": 504,
   "metadata": {
    "collapsed": true
   },
   "outputs": [],
   "source": [
    "# get alpha\n",
    "def get_alpha(K,L,y): \n",
    "    # get alpha\n",
    "    ts1 = sp.linalg.solve_triangular(L,y,lower=True)\n",
    "    alpha = sp.linalg.solve_triangular(L.transpose(),ts1)\n",
    "            \n",
    "    return alpha"
   ]
  },
  {
   "cell_type": "code",
   "execution_count": 505,
   "metadata": {
    "collapsed": true
   },
   "outputs": [],
   "source": [
    "# get likelihood\n",
    "def get_like(K,L,y,alpha): \n",
    "    # get log marginal likelihood\n",
    "    like = -(1/2)*np.matmul(y.transpose(),alpha)-\\\n",
    "            np.sum(np.log(np.diagonal(L)))-\\\n",
    "            np.log(2*np.pi)*K.shape[1]/2\n",
    "            \n",
    "    return like\n",
    "\n",
    "# get likelihood as a function of hyperparameters\n",
    "def like_hyp(hyp,X,y):\n",
    "    # unpack hyperparameters\n",
    "    sig = hyp[0]\n",
    "    ls = hyp[1]\n",
    "    \n",
    "    # calculate likelihood\n",
    "    K, L = get_K(X,sig,ls)\n",
    "    alpha = get_alpha(K,L,y)\n",
    "    like = get_like(K,L,y,alpha)\n",
    "    \n",
    "    return like\n",
    "\n",
    "# get minus likelihood as a function of hyperparameters\n",
    "def minus_like_hyp(hyp,X,y):\n",
    "    like = like_hyp(hyp,X,y)\n",
    "    minus_like = -like\n",
    "    return minus_like"
   ]
  },
  {
   "cell_type": "code",
   "execution_count": 506,
   "metadata": {
    "collapsed": true
   },
   "outputs": [],
   "source": [
    "# make GP prediction with SE kernel\n",
    "def GP_pred(X,y,K,L,alpha,sig,ls,xt,d):\n",
    "    # get kernel vector\n",
    "    kv = get_kv(X,xt,d,sig,ls)\n",
    "    \n",
    "    # get predictive mean\n",
    "    f = np.matmul(kv.transpose(),alpha)\n",
    "    \n",
    "    # get predictive variance\n",
    "    v = sp.linalg.solve_triangular(L,kv,lower=True)\n",
    "    self_kern = tb_kernel(xt, xt, d, d, sig, ls)\n",
    "    var = self_kern - np.matmul(v.transpose(),v)\n",
    "    \n",
    "    return f, var"
   ]
  },
  {
   "cell_type": "markdown",
   "metadata": {},
   "source": [
    "### Test two-body kernel."
   ]
  },
  {
   "cell_type": "code",
   "execution_count": 543,
   "metadata": {
    "collapsed": true
   },
   "outputs": [],
   "source": [
    "def rotate_xy(x, theta):\n",
    "    new_x = np.zeros(x.shape)\n",
    "    for n in range(x.shape[1]):\n",
    "        vec = x[:,n]\n",
    "        x_new = np.cos(theta)*vec[0]-np.sin(theta)*vec[1]\n",
    "        y_new = np.sin(theta)*vec[0]+np.cos(theta)*vec[1]\n",
    "        new_x[0,n]=x_new\n",
    "        new_x[1,n]=y_new\n",
    "        new_x[2,n]=x[2,n]\n",
    "    return new_x"
   ]
  },
  {
   "cell_type": "code",
   "execution_count": 595,
   "metadata": {},
   "outputs": [],
   "source": [
    "X = [np.array([[1,-1,-5],[2,2,7],[5,3,1]])]\n",
    "\n",
    "y = np.array([[-1],[-2],[-5]])+\\\n",
    "0.4*np.array([[1],[-2],[-3]])+\\\n",
    "0.5*np.array([[5],[-7],[-1]])\n",
    "\n",
    "[sig,ls]=[1,1]\n",
    "# X = [np.array([[1],[0],[0]])]"
   ]
  },
  {
   "cell_type": "code",
   "execution_count": 596,
   "metadata": {},
   "outputs": [
    {
     "data": {
      "text/plain": [
       "(array([[0.5]]), array([[6.9388939e-18]]))"
      ]
     },
     "execution_count": 596,
     "metadata": {},
     "output_type": "execute_result"
    }
   ],
   "source": [
    "K, L = get_K(X,sig,ls)\n",
    "alpha = get_alpha(K,L,y)\n",
    "\n",
    "xt = rotate_xy(np.array([[5],[-7],[-1]]),2)\n",
    "d=3\n",
    "GP_pred(X,y,K,L,alpha,sig,ls,xt,d)"
   ]
  },
  {
   "cell_type": "code",
   "execution_count": null,
   "metadata": {
    "collapsed": true
   },
   "outputs": [],
   "source": []
  }
 ],
 "metadata": {
  "kernelspec": {
   "display_name": "Python 3",
   "language": "python",
   "name": "python3"
  },
  "language_info": {
   "codemirror_mode": {
    "name": "ipython",
    "version": 3
   },
   "file_extension": ".py",
   "mimetype": "text/x-python",
   "name": "python",
   "nbconvert_exporter": "python",
   "pygments_lexer": "ipython3",
   "version": "3.6.3"
  }
 },
 "nbformat": 4,
 "nbformat_minor": 2
}
