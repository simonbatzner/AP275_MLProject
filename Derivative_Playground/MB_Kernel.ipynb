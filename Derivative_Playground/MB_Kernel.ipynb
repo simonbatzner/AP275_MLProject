{
 "cells": [
  {
   "cell_type": "code",
   "execution_count": 2,
   "metadata": {
    "collapsed": true
   },
   "outputs": [],
   "source": [
    "from sympy import *\n",
    "import numpy as np\n",
    "import scipy as sp\n",
    "import scipy.linalg\n",
    "import matplotlib.pyplot as plt\n",
    "import time\n",
    "from scipy.optimize import minimize\n",
    "import multiprocessing as mp"
   ]
  },
  {
   "cell_type": "markdown",
   "metadata": {},
   "source": [
    "### Calculate derivatives in sympy."
   ]
  },
  {
   "cell_type": "code",
   "execution_count": 2,
   "metadata": {
    "collapsed": true
   },
   "outputs": [],
   "source": [
    "# set symbols\n",
    "sig, ls, xi, x0, yi, y0, zi, z0, xj, x0p, yj, y0p, zj, z0p = \\\n",
    "    symbols('sig, ls, xi, x0, yi, y0, zi, z0, xj, x0p, yj, y0p, zj, z0p')"
   ]
  },
  {
   "cell_type": "code",
   "execution_count": 3,
   "metadata": {
    "collapsed": true
   },
   "outputs": [],
   "source": [
    "# define energy kernel\n",
    "tb_kern = sig**2*exp(-(sqrt((xi-x0)**2+(yi-y0)**2+(zi-z0)**2)-\\\n",
    "                       sqrt((xj-x0p)**2+(yj-y0p)**2+(zj-z0p)**2))**2/(2*ls**2))"
   ]
  },
  {
   "cell_type": "code",
   "execution_count": 4,
   "metadata": {
    "collapsed": true
   },
   "outputs": [],
   "source": [
    "# compute kernel derivatives\n",
    "tb_xx = diff(tb_kern, x0, x0p)\n",
    "tb_xy = diff(tb_kern, x0, y0p)\n",
    "tb_xz = diff(tb_kern, x0, z0p)\n",
    "tb_yx = diff(tb_kern, y0, x0p)\n",
    "tb_yy = diff(tb_kern, y0, y0p)\n",
    "tb_yz = diff(tb_kern, y0, z0p)\n",
    "tb_zx = diff(tb_kern, z0, x0p)\n",
    "tb_zy = diff(tb_kern, z0, y0p)\n",
    "tb_zz = diff(tb_kern, z0, z0p)"
   ]
  },
  {
   "cell_type": "code",
   "execution_count": 5,
   "metadata": {},
   "outputs": [
    {
     "data": {
      "text/plain": [
       "sig**2*(1 - (sqrt((x0 - xi)**2 + (y0 - yi)**2 + (z0 - zi)**2) - sqrt((x0p - xj)**2 + (y0p - yj)**2 + (z0p - zj)**2))**2/ls**2)*(x0 - xi)*(x0p - xj)*exp(-(sqrt((x0 - xi)**2 + (y0 - yi)**2 + (z0 - zi)**2) - sqrt((x0p - xj)**2 + (y0p - yj)**2 + (z0p - zj)**2))**2/(2*ls**2))/(ls**2*sqrt((x0 - xi)**2 + (y0 - yi)**2 + (z0 - zi)**2)*sqrt((x0p - xj)**2 + (y0p - yj)**2 + (z0p - zj)**2))"
      ]
     },
     "execution_count": 5,
     "metadata": {},
     "output_type": "execute_result"
    }
   ],
   "source": [
    "tb_xx"
   ]
  },
  {
   "cell_type": "code",
   "execution_count": 6,
   "metadata": {},
   "outputs": [
    {
     "data": {
      "text/plain": [
       "sig**2*(1 - (sqrt((x0 - xi)**2 + (y0 - yi)**2 + (z0 - zi)**2) - sqrt((x0p - xj)**2 + (y0p - yj)**2 + (z0p - zj)**2))**2/ls**2)*(x0 - xi)*(y0p - yj)*exp(-(sqrt((x0 - xi)**2 + (y0 - yi)**2 + (z0 - zi)**2) - sqrt((x0p - xj)**2 + (y0p - yj)**2 + (z0p - zj)**2))**2/(2*ls**2))/(ls**2*sqrt((x0 - xi)**2 + (y0 - yi)**2 + (z0 - zi)**2)*sqrt((x0p - xj)**2 + (y0p - yj)**2 + (z0p - zj)**2))"
      ]
     },
     "execution_count": 6,
     "metadata": {},
     "output_type": "execute_result"
    }
   ],
   "source": [
    "tb_xy"
   ]
  },
  {
   "cell_type": "code",
   "execution_count": 7,
   "metadata": {},
   "outputs": [
    {
     "data": {
      "text/plain": [
       "sig**2*(1 - (sqrt((x0 - xi)**2 + (y0 - yi)**2 + (z0 - zi)**2) - sqrt((x0p - xj)**2 + (y0p - yj)**2 + (z0p - zj)**2))**2/ls**2)*(x0 - xi)*(z0p - zj)*exp(-(sqrt((x0 - xi)**2 + (y0 - yi)**2 + (z0 - zi)**2) - sqrt((x0p - xj)**2 + (y0p - yj)**2 + (z0p - zj)**2))**2/(2*ls**2))/(ls**2*sqrt((x0 - xi)**2 + (y0 - yi)**2 + (z0 - zi)**2)*sqrt((x0p - xj)**2 + (y0p - yj)**2 + (z0p - zj)**2))"
      ]
     },
     "execution_count": 7,
     "metadata": {},
     "output_type": "execute_result"
    }
   ],
   "source": [
    "tb_xz"
   ]
  },
  {
   "cell_type": "code",
   "execution_count": 8,
   "metadata": {},
   "outputs": [
    {
     "data": {
      "text/plain": [
       "sig**2*(1 - (sqrt((x0 - xi)**2 + (y0 - yi)**2 + (z0 - zi)**2) - sqrt((x0p - xj)**2 + (y0p - yj)**2 + (z0p - zj)**2))**2/ls**2)*(x0p - xj)*(y0 - yi)*exp(-(sqrt((x0 - xi)**2 + (y0 - yi)**2 + (z0 - zi)**2) - sqrt((x0p - xj)**2 + (y0p - yj)**2 + (z0p - zj)**2))**2/(2*ls**2))/(ls**2*sqrt((x0 - xi)**2 + (y0 - yi)**2 + (z0 - zi)**2)*sqrt((x0p - xj)**2 + (y0p - yj)**2 + (z0p - zj)**2))"
      ]
     },
     "execution_count": 8,
     "metadata": {},
     "output_type": "execute_result"
    }
   ],
   "source": [
    "tb_yx"
   ]
  },
  {
   "cell_type": "code",
   "execution_count": 9,
   "metadata": {},
   "outputs": [
    {
     "data": {
      "text/plain": [
       "sig**2*(1 - (sqrt((x0 - xi)**2 + (y0 - yi)**2 + (z0 - zi)**2) - sqrt((x0p - xj)**2 + (y0p - yj)**2 + (z0p - zj)**2))**2/ls**2)*(y0 - yi)*(y0p - yj)*exp(-(sqrt((x0 - xi)**2 + (y0 - yi)**2 + (z0 - zi)**2) - sqrt((x0p - xj)**2 + (y0p - yj)**2 + (z0p - zj)**2))**2/(2*ls**2))/(ls**2*sqrt((x0 - xi)**2 + (y0 - yi)**2 + (z0 - zi)**2)*sqrt((x0p - xj)**2 + (y0p - yj)**2 + (z0p - zj)**2))"
      ]
     },
     "execution_count": 9,
     "metadata": {},
     "output_type": "execute_result"
    }
   ],
   "source": [
    "tb_yy"
   ]
  },
  {
   "cell_type": "code",
   "execution_count": 10,
   "metadata": {},
   "outputs": [
    {
     "data": {
      "text/plain": [
       "sig**2*(1 - (sqrt((x0 - xi)**2 + (y0 - yi)**2 + (z0 - zi)**2) - sqrt((x0p - xj)**2 + (y0p - yj)**2 + (z0p - zj)**2))**2/ls**2)*(y0 - yi)*(z0p - zj)*exp(-(sqrt((x0 - xi)**2 + (y0 - yi)**2 + (z0 - zi)**2) - sqrt((x0p - xj)**2 + (y0p - yj)**2 + (z0p - zj)**2))**2/(2*ls**2))/(ls**2*sqrt((x0 - xi)**2 + (y0 - yi)**2 + (z0 - zi)**2)*sqrt((x0p - xj)**2 + (y0p - yj)**2 + (z0p - zj)**2))"
      ]
     },
     "execution_count": 10,
     "metadata": {},
     "output_type": "execute_result"
    }
   ],
   "source": [
    "tb_yz"
   ]
  },
  {
   "cell_type": "code",
   "execution_count": 11,
   "metadata": {},
   "outputs": [
    {
     "data": {
      "text/plain": [
       "sig**2*(1 - (sqrt((x0 - xi)**2 + (y0 - yi)**2 + (z0 - zi)**2) - sqrt((x0p - xj)**2 + (y0p - yj)**2 + (z0p - zj)**2))**2/ls**2)*(z0 - zi)*(z0p - zj)*exp(-(sqrt((x0 - xi)**2 + (y0 - yi)**2 + (z0 - zi)**2) - sqrt((x0p - xj)**2 + (y0p - yj)**2 + (z0p - zj)**2))**2/(2*ls**2))/(ls**2*sqrt((x0 - xi)**2 + (y0 - yi)**2 + (z0 - zi)**2)*sqrt((x0p - xj)**2 + (y0p - yj)**2 + (z0p - zj)**2))"
      ]
     },
     "execution_count": 11,
     "metadata": {},
     "output_type": "execute_result"
    }
   ],
   "source": [
    "tb_zz"
   ]
  },
  {
   "cell_type": "markdown",
   "metadata": {},
   "source": [
    "### Define two-body kernel."
   ]
  },
  {
   "cell_type": "code",
   "execution_count": 12,
   "metadata": {
    "collapsed": true
   },
   "outputs": [],
   "source": [
    "def cov_func(sig, ls, xi, x0, yi, y0, zi, z0, xj, x0p, yj, y0p, zj, z0p, d1, d2):\n",
    "    base = sig**2*(1 - (np.sqrt((x0 - xi)**2 + (y0 - yi)**2 + (z0 - zi)**2) - np.sqrt((x0p - xj)**2 + \\\n",
    "            (y0p - yj)**2 + (z0p - zj)**2))**2/ls**2)*np.exp(-(np.sqrt((x0 - xi)**2 + \\\n",
    "            (y0 - yi)**2 + (z0 - zi)**2) - np.sqrt((x0p - xj)**2 + (y0p - yj)**2 + (z0p - zj)**2))**2/\\\n",
    "            (2*ls**2))/(ls**2*np.sqrt((x0 - xi)**2 + (y0 - yi)**2 + (z0 - zi)**2)*np.sqrt((x0p - xj)**2 + \\\n",
    "            (y0p - yj)**2 + (z0p - zj)**2))\n",
    "    \n",
    "    if d1==1 and d2==1:\n",
    "        cov = base * (x0 - xi)*(x0p - xj)\n",
    "    elif d1==1 and d2==2:\n",
    "        cov = base * (x0 - xi)*(y0p - yj)\n",
    "    elif d1==1 and d2==3:\n",
    "        cov = base * (x0 - xi)*(z0p - zj)\n",
    "    elif d1==2 and d2==1:\n",
    "        cov = base * (y0 - yi)*(x0p - xj)\n",
    "    elif d1==2 and d2==2:\n",
    "        cov = base * (y0 - yi)*(y0p - yj)\n",
    "    elif d1==2 and d2==3:\n",
    "        cov = base * (y0 - yi)*(z0p - zj)\n",
    "    elif d1==3 and d2==1:\n",
    "        cov = base * (z0 - zi)*(x0p - xj)\n",
    "    elif d1==3 and d2==2:\n",
    "        cov = base * (z0 - zi)*(y0p - yj)\n",
    "    elif d1==3 and d2==3:\n",
    "        cov = base * (z0 - zi)*(z0p - zj)\n",
    "        \n",
    "    return cov"
   ]
  },
  {
   "cell_type": "code",
   "execution_count": 13,
   "metadata": {
    "collapsed": true
   },
   "outputs": [],
   "source": [
    "# 1 = partial wrt x\n",
    "# 2 = partial wrt y\n",
    "# 3 = partial wrt z\n",
    "# x1, x2 are 3xN matrices of Cartesian coordinates with central atom at the origin\n",
    "def tb_kernel(x1, x2, d1, d2, sig, ls):\n",
    "    # central atom assumed to be at the origin\n",
    "    x0, y0, z0, x0p, y0p, z0p = [0,0,0,0,0,0]\n",
    "    \n",
    "    # loop over atoms\n",
    "    tot_kern = 0\n",
    "    for m in range(x1.shape[1]):\n",
    "        xi = x1[0,m]\n",
    "        yi = x1[1,m]\n",
    "        zi = x1[2,m]\n",
    "        \n",
    "        for n in range(x2.shape[1]):\n",
    "            xj = x2[0,n]\n",
    "            yj = x2[1,n]\n",
    "            zj = x2[2,n]\n",
    "            \n",
    "            # calculate covariance for given pair\n",
    "            cov = cov_func(sig, ls, xi, x0, yi, y0, zi, z0, \\\n",
    "                           xj, x0p, yj, y0p, zj, z0p, d1, d2)\n",
    "            tot_kern += cov\n",
    "            \n",
    "    return tot_kern"
   ]
  },
  {
   "cell_type": "code",
   "execution_count": 14,
   "metadata": {
    "collapsed": true
   },
   "outputs": [],
   "source": [
    "# get two body kernel (two derivatives)\n",
    "# x1, x2 are 4xN matrices containing distances and Cartesian coordinate differences\n",
    "def tb_kern(x1, x2, d1, d2, sig, ls):\n",
    "    # loop over atoms\n",
    "    tot_kern = 0\n",
    "    for m in range(x1.shape[1]):\n",
    "        dist1 = x1[0,m]\n",
    "        coord1 = x1[d1,m]\n",
    "        for n in range(x2.shape[1]): \n",
    "            dist2 = x2[0,n]\n",
    "            coord2 = x2[d2,n]\n",
    "            \n",
    "            # calculate covariance for current pair of atoms\n",
    "            base = sig**2*np.exp(-(dist1-dist2)**2/(2*ls**2))\n",
    "            doub_fac = -ls**2+(dist1-dist2)**2\n",
    "            kern = -base*coord1*coord2*doub_fac/(dist1*dist2*ls**4)\n",
    "            \n",
    "            tot_kern+=kern\n",
    "\n",
    "    return tot_kern"
   ]
  },
  {
   "cell_type": "code",
   "execution_count": 15,
   "metadata": {
    "collapsed": true
   },
   "outputs": [],
   "source": [
    "def tb_kern_fast(dist1, dist2, coord1, coord2, sig, ls):\n",
    "    # calculate covariance for current pair of atoms\n",
    "    kern = -(sig**2*np.exp(-(dist1-dist2)**2/(2*ls**2)))*\\\n",
    "            coord1*coord2*(-ls**2+(dist1-dist2)**2)/\\\n",
    "            (dist1*dist2*ls**4)\n",
    "    \n",
    "    return np.sum(kern)"
   ]
  },
  {
   "cell_type": "code",
   "execution_count": 16,
   "metadata": {
    "collapsed": true
   },
   "outputs": [],
   "source": [
    "# get 3Nx3N noiseless kernel matrix\n",
    "# assume all 3 force components are known for each configuration\n",
    "# X is assumed to be a list of 4xN arrays\n",
    "def get_K(X,sig,ls,noise):\n",
    "    # initialize matrix\n",
    "    size = len(X)*3\n",
    "    K = np.zeros([size, size])\n",
    "    \n",
    "    # calculate elements\n",
    "    for m in range(size):\n",
    "        x1 = X[int(floor(m/3))]\n",
    "        d1 = m%3+1\n",
    "        for n in range(m,size):\n",
    "            x2 = X[int(floor(n/3))]\n",
    "            d2 = n%3+1\n",
    "           \n",
    "            # calculate kernel\n",
    "            cov = tb_kern(x1, x2, d1, d2, sig, ls)\n",
    "            K[m,n] = cov\n",
    "            K[n,m] = cov\n",
    "    # perform cholesky decomposition\n",
    "    L = np.linalg.cholesky(K+noise**2*np.eye(size))\n",
    "    \n",
    "    return K, L"
   ]
  },
  {
   "cell_type": "code",
   "execution_count": 17,
   "metadata": {
    "collapsed": true
   },
   "outputs": [],
   "source": [
    "# get kernel vector\n",
    "def get_kv(X,x,d1,sig,ls):\n",
    "    size = len(X)*3\n",
    "    kv=np.zeros([size,1])\n",
    "    for m in range(size):\n",
    "        x2 = X[int(floor(m/3))]\n",
    "        d2 = m%3+1\n",
    "        kv[m]=tb_kern(x,x2,d1,d2,sig,ls)\n",
    "        \n",
    "    return kv"
   ]
  },
  {
   "cell_type": "code",
   "execution_count": 18,
   "metadata": {
    "collapsed": true
   },
   "outputs": [],
   "source": [
    "# get alpha\n",
    "def get_alpha(K,L,y): \n",
    "    # get alpha\n",
    "    ts1 = sp.linalg.solve_triangular(L,y,lower=True)\n",
    "    alpha = sp.linalg.solve_triangular(L.transpose(),ts1)\n",
    "            \n",
    "    return alpha"
   ]
  },
  {
   "cell_type": "code",
   "execution_count": 19,
   "metadata": {
    "collapsed": true
   },
   "outputs": [],
   "source": [
    "# get likelihood\n",
    "def get_like(K,L,y,alpha): \n",
    "    # get log marginal likelihood\n",
    "    like = -(1/2)*np.matmul(y.transpose(),alpha)-\\\n",
    "            np.sum(np.log(np.diagonal(L)))-\\\n",
    "            np.log(2*np.pi)*K.shape[1]/2\n",
    "            \n",
    "    return like\n",
    "\n",
    "# get likelihood as a function of hyperparameters\n",
    "def like_hyp(hyp,X,y):\n",
    "    # unpack hyperparameters\n",
    "    sig = hyp[0]\n",
    "    ls = hyp[1]\n",
    "    noise = hyp[2]\n",
    "    \n",
    "    # calculate likelihood\n",
    "    K, L = get_K(X,sig,ls,noise)\n",
    "    alpha = get_alpha(K,L,y)\n",
    "    like = get_like(K,L,y,alpha)\n",
    "    \n",
    "    # print\n",
    "    print('sig: '+str(sig))\n",
    "    print('ls: '+str(ls))\n",
    "    print('noise: '+str(noise))\n",
    "    print('log like: '+str(like))\n",
    "    \n",
    "    return like\n",
    "\n",
    "# get minus likelihood as a function of hyperparameters\n",
    "def minus_like_hyp(hyp,X,y):\n",
    "    like = like_hyp(hyp,X,y)\n",
    "    minus_like = -like\n",
    "    return minus_like\n",
    "\n",
    "# monitor likelihood\n",
    "def like_hyp_mon(hyp,X,y):\n",
    "    # unpack hyperparameters\n",
    "    sig = hyp[0]\n",
    "    ls = hyp[1]\n",
    "    noise = hyp[2]\n",
    "    \n",
    "    # calculate likelihood\n",
    "    time0 = time.time()\n",
    "    K, L = get_K(X,sig,ls,noise)\n",
    "    time1 = time.time()\n",
    "    alpha = get_alpha(K,L,y)\n",
    "    time2 = time.time()\n",
    "    like = get_like(K,L,y,alpha)\n",
    "    time3 = time.time()\n",
    "    \n",
    "    # record times\n",
    "    K_time = time1-time0\n",
    "    alph_time = time2-time1\n",
    "    like_time = time3-time2\n",
    "    \n",
    "    \n",
    "    # print parameters and likelihood\n",
    "    print('sig: '+str(sig))\n",
    "    print('ls: '+str(ls))\n",
    "    print('noise: '+str(noise))\n",
    "    print('log like: '+str(like))\n",
    "    \n",
    "    return like, K_time, alph_time, like_time"
   ]
  },
  {
   "cell_type": "code",
   "execution_count": 20,
   "metadata": {
    "collapsed": true
   },
   "outputs": [],
   "source": [
    "# make GP prediction with SE kernel\n",
    "def GP_pred(X,y,K,L,alpha,sig,ls,xt,d):\n",
    "    # get kernel vector\n",
    "    kv = get_kv(X,xt,d,sig,ls)\n",
    "    \n",
    "    # get predictive mean\n",
    "    f = np.matmul(kv.transpose(),alpha)\n",
    "    \n",
    "    # get predictive variance\n",
    "    v = sp.linalg.solve_triangular(L,kv,lower=True)\n",
    "    self_kern = tb_kern(xt, xt, d, d, sig, ls)\n",
    "    var = self_kern - np.matmul(v.transpose(),v)\n",
    "    \n",
    "    return f, var"
   ]
  },
  {
   "cell_type": "markdown",
   "metadata": {},
   "source": [
    "### Compare kernels."
   ]
  },
  {
   "cell_type": "code",
   "execution_count": 21,
   "metadata": {
    "collapsed": true
   },
   "outputs": [],
   "source": [
    "X = [np.array([[1,-1,-5],[2,2,7],[5,3,1]])]"
   ]
  },
  {
   "cell_type": "code",
   "execution_count": 22,
   "metadata": {},
   "outputs": [
    {
     "data": {
      "text/plain": [
       "array([[ 1, -1, -5],\n",
       "       [ 2,  2,  7],\n",
       "       [ 5,  3,  1]])"
      ]
     },
     "execution_count": 22,
     "metadata": {},
     "output_type": "execute_result"
    }
   ],
   "source": [
    "X[0]"
   ]
  },
  {
   "cell_type": "code",
   "execution_count": 23,
   "metadata": {},
   "outputs": [
    {
     "name": "stdout",
     "output_type": "stream",
     "text": [
      "-0.9086561573215726\n",
      "0.0002338886260986328\n"
     ]
    }
   ],
   "source": [
    "# try kernel 1\n",
    "x1 = np.array([[0.5,0,0],[0,0.75,0],[0,0,1]])\n",
    "x2 = np.array([[-1.5,0,0],[0,-1,0],[0,0,1]])\n",
    "sig = 1\n",
    "ls = 1\n",
    "d1 = 2\n",
    "d2 = 2\n",
    "\n",
    "time1 = time.time()\n",
    "kern = tb_kernel(x1, x2, d1, d2, sig, ls)\n",
    "time2 = time.time()\n",
    "print(kern)\n",
    "print(time2-time1)"
   ]
  },
  {
   "cell_type": "code",
   "execution_count": 24,
   "metadata": {},
   "outputs": [
    {
     "name": "stdout",
     "output_type": "stream",
     "text": [
      "-0.9086561573215727\n",
      "0.00010824203491210938\n"
     ]
    }
   ],
   "source": [
    "# try kernel 2\n",
    "v1 = np.array([[0.5,0.75,1],[-0.5,0,0],[0,-0.75,0],[0,0,-1]])\n",
    "v2 = np.array([[1.5,1,1],[1.5,0,0],[0,1,0],[0,0,-1]])\n",
    "\n",
    "time1 = time.time()\n",
    "kern = tb_kern(v1, v2, d1, d2, sig, ls)\n",
    "time2 = time.time()\n",
    "print(kern)\n",
    "print(time2-time1)"
   ]
  },
  {
   "cell_type": "code",
   "execution_count": 25,
   "metadata": {},
   "outputs": [
    {
     "name": "stdout",
     "output_type": "stream",
     "text": [
      "-0.9086561573215727\n",
      "0.0005009174346923828\n"
     ]
    }
   ],
   "source": [
    "# try kernel 3\n",
    "v1 = np.array([[0.5,0.75,1],[-0.5,0,0],[0,-0.75,0],[0,0,-1]])\n",
    "v2 = np.array([[1.5,1,1],[1.5,0,0],[0,1,0],[0,0,-1]])\n",
    "\n",
    "dist1 = v1[0,:]\n",
    "dist2 = v2[0,:]\n",
    "coord1 = v1[d1,:]\n",
    "coord2 = v2[d2,:]\n",
    "\n",
    "time1 = time.time()\n",
    "kern = tb_kern_fast(dist1, dist2, coord1, coord2, sig, ls)\n",
    "time2 = time.time()\n",
    "print(kern)\n",
    "print(time2-time1)\n"
   ]
  },
  {
   "cell_type": "code",
   "execution_count": 26,
   "metadata": {},
   "outputs": [
    {
     "name": "stdout",
     "output_type": "stream",
     "text": [
      "[-0.         -0.90865616  0.        ]\n"
     ]
    },
    {
     "ename": "SyntaxError",
     "evalue": "'return' outside function (<ipython-input-26-9fad5d7b89f0>, line 16)",
     "output_type": "error",
     "traceback": [
      "\u001b[0;36m  File \u001b[0;32m\"<ipython-input-26-9fad5d7b89f0>\"\u001b[0;36m, line \u001b[0;32m16\u001b[0m\n\u001b[0;31m    return np.sum(kern)\u001b[0m\n\u001b[0m                       ^\u001b[0m\n\u001b[0;31mSyntaxError\u001b[0m\u001b[0;31m:\u001b[0m 'return' outside function\n"
     ]
    }
   ],
   "source": [
    "x1 = v1\n",
    "x2 = v2\n",
    "\n",
    "dist1 = x1[0,:]\n",
    "dist2 = x2[0,:]\n",
    "coord1 = x1[d1,:]\n",
    "coord2 = x2[d2,:]\n",
    "\n",
    "# calculate covariance for current pair of atoms\n",
    "base = sig**2*np.exp(-(dist1-dist2)**2/(2*ls**2))\n",
    "doub_fac = -ls**2+(dist1-dist2)**2\n",
    "kern = -base*coord1*coord2*doub_fac/(dist1*dist2*ls**4)\n",
    "\n",
    "print(kern)\n",
    "\n",
    "return np.sum(kern)"
   ]
  },
  {
   "cell_type": "markdown",
   "metadata": {},
   "source": [
    "### Test two-body kernel."
   ]
  },
  {
   "cell_type": "code",
   "execution_count": 27,
   "metadata": {
    "collapsed": true
   },
   "outputs": [],
   "source": [
    "# rotate input vector by angle theta\n",
    "def rotate_xy(x, theta):\n",
    "    new_x = np.zeros(x.shape)\n",
    "    for n in range(x.shape[1]):\n",
    "        vec = x[:,n]\n",
    "        x_new = np.cos(theta)*vec[1]-np.sin(theta)*vec[2]\n",
    "        y_new = np.sin(theta)*vec[1]+np.cos(theta)*vec[2]\n",
    "        new_x[0,n]=x[0,n]\n",
    "        new_x[1,n]=x_new\n",
    "        new_x[2,n]=y_new\n",
    "        new_x[3,n]=x[3,n]\n",
    "    return new_x\n",
    "\n",
    "def rotate_vec(x,theta):\n",
    "    new_x = np.zeros(x.shape)\n",
    "    for n in range(x.shape[1]):\n",
    "        vec = x[:,n]\n",
    "        x_new = np.cos(theta)*vec[0]-np.sin(theta)*vec[1]\n",
    "        y_new = np.sin(theta)*vec[0]+np.cos(theta)*vec[1]\n",
    "        new_x[0,n]=x_new\n",
    "        new_x[1,n]=y_new\n",
    "        new_x[2,n]=x[2,n]\n",
    "    return new_x"
   ]
  },
  {
   "cell_type": "code",
   "execution_count": 28,
   "metadata": {
    "collapsed": true
   },
   "outputs": [],
   "source": [
    "# create sample training data (one atom, three force components)\n",
    "X = [v1]\n",
    "\n",
    "# y = np.array([[-0.5],[0],[0]])+\\\n",
    "# 0.4*np.array([[0],[-0.75],[0]])+\\\n",
    "# 0.5*np.array([[0],[0],[-1]])\n",
    "\n",
    "y = np.array([[1],[2],[3]])\n",
    "\n",
    "[sig,ls]=[1,1]"
   ]
  },
  {
   "cell_type": "code",
   "execution_count": 29,
   "metadata": {},
   "outputs": [
    {
     "ename": "TypeError",
     "evalue": "get_K() missing 1 required positional argument: 'noise'",
     "output_type": "error",
     "traceback": [
      "\u001b[0;31m---------------------------------------------------------------------------\u001b[0m",
      "\u001b[0;31mTypeError\u001b[0m                                 Traceback (most recent call last)",
      "\u001b[0;32m<ipython-input-29-f314e60bd6ca>\u001b[0m in \u001b[0;36m<module>\u001b[0;34m()\u001b[0m\n\u001b[1;32m      1\u001b[0m \u001b[0;31m# make prediction on rotated input\u001b[0m\u001b[0;34m\u001b[0m\u001b[0;34m\u001b[0m\u001b[0m\n\u001b[0;32m----> 2\u001b[0;31m \u001b[0mK\u001b[0m\u001b[0;34m,\u001b[0m \u001b[0mL\u001b[0m \u001b[0;34m=\u001b[0m \u001b[0mget_K\u001b[0m\u001b[0;34m(\u001b[0m\u001b[0mX\u001b[0m\u001b[0;34m,\u001b[0m\u001b[0msig\u001b[0m\u001b[0;34m,\u001b[0m\u001b[0mls\u001b[0m\u001b[0;34m)\u001b[0m\u001b[0;34m\u001b[0m\u001b[0m\n\u001b[0m\u001b[1;32m      3\u001b[0m \u001b[0malpha\u001b[0m \u001b[0;34m=\u001b[0m \u001b[0mget_alpha\u001b[0m\u001b[0;34m(\u001b[0m\u001b[0mK\u001b[0m\u001b[0;34m,\u001b[0m\u001b[0mL\u001b[0m\u001b[0;34m,\u001b[0m\u001b[0my\u001b[0m\u001b[0;34m)\u001b[0m\u001b[0;34m\u001b[0m\u001b[0m\n\u001b[1;32m      4\u001b[0m \u001b[0;34m\u001b[0m\u001b[0m\n\u001b[1;32m      5\u001b[0m \u001b[0md\u001b[0m\u001b[0;34m=\u001b[0m\u001b[0;36m2\u001b[0m\u001b[0;34m\u001b[0m\u001b[0m\n",
      "\u001b[0;31mTypeError\u001b[0m: get_K() missing 1 required positional argument: 'noise'"
     ]
    }
   ],
   "source": [
    "# make prediction on rotated input\n",
    "K, L = get_K(X,sig,ls)\n",
    "alpha = get_alpha(K,L,y)\n",
    "\n",
    "d=2\n",
    "ang = 2\n",
    "xt = rotate_xy(X[0],ang)\n",
    "# xt = np.array([[10],[1],[2],[2]])\n",
    "\n",
    "GP_pred(X,y,K,L,alpha,sig,ls,xt,d)"
   ]
  },
  {
   "cell_type": "code",
   "execution_count": null,
   "metadata": {
    "collapsed": true
   },
   "outputs": [],
   "source": [
    "# check rotated force\n",
    "rotate_vec(y,ang)"
   ]
  },
  {
   "cell_type": "markdown",
   "metadata": {
    "collapsed": true
   },
   "source": [
    "### Test on MD data."
   ]
  },
  {
   "cell_type": "code",
   "execution_count": 30,
   "metadata": {
    "collapsed": true
   },
   "outputs": [],
   "source": [
    "def parse_qe_pwscf_md_output(outfile):\n",
    "#def parse_qe_pwscf_md_output(path):\n",
    "\n",
    "    steps={}\n",
    "\n",
    "    # Get the lines out of the file first\n",
    "    with open(outfile, 'r') as outf:\n",
    "        lines = outf.readlines()\n",
    "\n",
    "    # Because every step is marked by a total energy printing with the !\n",
    "    # as the first character of the line, partition the file of output\n",
    "    # into all different chunks of run data\n",
    "\n",
    "    # Get the indexes to carve up the document later\n",
    "    split_indexes=[N for N in range(len(lines)) if '!'==lines[N][0]]\n",
    "\n",
    "    # Cut out the first chunk \n",
    "    # TODO: Analyze first chunk\n",
    "    first_chunk=lines[0:split_indexes[0]]\n",
    "\n",
    "    step_chunks = []\n",
    "    # Carve up into chunks\n",
    "    for n in range(len(split_indexes)):\n",
    "        step_chunks.append(lines[split_indexes[n]:split_indexes[n+1] if n!=len(split_indexes)-1 else len(lines)]) \n",
    "\n",
    "\n",
    "\n",
    "    # Iterate through chunks\n",
    "    for current_chunk in step_chunks:\n",
    "\n",
    "\n",
    "        # Iterate through to find the bounds of regions of interest\n",
    "\n",
    "        # Forces\n",
    "        force_start_line = [line for line in current_chunk if 'Forces acting on atoms' in line][0]\n",
    "        force_end_line   = [line for line in current_chunk if 'Total force' in line][0]\n",
    "        force_start_index = current_chunk.index(force_start_line)+2\n",
    "        force_end_index = current_chunk.index(force_end_line)-2\n",
    "\n",
    "        # Positions\n",
    "        atoms_start_line = [line for line in current_chunk if 'ATOMIC_POSITIONS' in line][0]\n",
    "        atoms_end_line   = [line for line in current_chunk if 'kinetic energy' in line][0]\n",
    "        atoms_start_index = current_chunk.index(atoms_start_line)+1\n",
    "        atoms_end_index = current_chunk.index(atoms_end_line)-3\n",
    "\n",
    "        # Misc Facts\n",
    "        temperature_line = [ line for line in current_chunk if 'temperature' in line][0]\n",
    "        dyn_line = [line for line in current_chunk if 'Entering Dynamics' in line][0]\n",
    "        dyn_index = current_chunk.index(dyn_line)\n",
    "        time_index = dyn_index+1\n",
    "\n",
    "        # Parse through said regions of interest to get the information out\n",
    "\n",
    "        forces = []\n",
    "        for line in current_chunk[force_start_index:force_end_index+1]:\n",
    "            forceline= line.split('=')[-1].split()\n",
    "            forces.append([float(forceline[0]),float(forceline[1]),float(forceline[2])])\n",
    "        total_force = float(force_end_line.split('=')[1].strip().split()[0])\n",
    "        SCF_corr    = float(force_end_line.split('=')[2].strip()[0])\n",
    "\n",
    "\n",
    "        positions =[]\n",
    "        elements=[]\n",
    "        for line in current_chunk[atoms_start_index:atoms_end_index+1]:\n",
    "            atomline = line.split()\n",
    "            elements.append(atomline[0])\n",
    "            positions.append([float(atomline[1]),float(atomline[2]),float(atomline[3])])\n",
    "\n",
    "        # Get Misc info \n",
    "        toten = float(current_chunk[0].split('=')[-1].strip().split()[0])\n",
    "        temperature_line = temperature_line.split('=')[-1]\n",
    "        temperature = float(temperature_line.split()[0])\n",
    "        iteration = int(dyn_line.split('=')[-1])\n",
    "        timeline = current_chunk[time_index].split('=')[-1].strip().split()[0]\n",
    "        time = float( timeline)\n",
    "        Ekin = float(atoms_end_line.split('=')[1].strip().split()[0])\n",
    "\n",
    "\n",
    "        # Record the data associated with this step\n",
    "        steps[iteration]={'iteration':iteration,\n",
    "                           'forces':forces, \n",
    "                           'positions':positions,\n",
    "                           'elements':elements,\n",
    "                           'temperature':temperature,\n",
    "                           'time':time,\n",
    "                           'energy':toten,\n",
    "                           'ekin':Ekin,\n",
    "                           'kinetic energy':Ekin,\n",
    "                           'total energy':toten,\n",
    "                           'total force':total_force,\n",
    "                           'SCF correction':SCF_corr}\n",
    "\n",
    "    return(steps)"
   ]
  },
  {
   "cell_type": "code",
   "execution_count": 31,
   "metadata": {
    "collapsed": true
   },
   "outputs": [],
   "source": [
    "outfile ='/Users/jonpvandermause/Research/GP/ML-electron-density/Si_Supercell_MD/si.md.out'\n",
    "Si_MD_Parsed = parse_qe_pwscf_md_output(outfile)"
   ]
  },
  {
   "cell_type": "code",
   "execution_count": 32,
   "metadata": {
    "collapsed": true
   },
   "outputs": [],
   "source": [
    "tstep = 20 * 4.83776865301828e-17"
   ]
  },
  {
   "cell_type": "code",
   "execution_count": 33,
   "metadata": {
    "collapsed": true
   },
   "outputs": [],
   "source": [
    "ens = []\n",
    "times = [tstep * n for n in range(1000)]\n",
    "for n in range(1000):   \n",
    "    en = Si_MD_Parsed[n+1]['energy']\n",
    "    \n",
    "    ens.append(en)"
   ]
  },
  {
   "cell_type": "code",
   "execution_count": 34,
   "metadata": {},
   "outputs": [
    {
     "data": {
      "image/png": "[encoded data removed]",
      "text/plain": [
       "<matplotlib.figure.Figure at 0x1103fbdd8>"
      ]
     },
     "metadata": {},
     "output_type": "display_data"
    }
   ],
   "source": [
    "f = plt.figure()\n",
    "plt.plot(times, ens)\n",
    "plt.xlabel('simulation time (s)')\n",
    "plt.ylabel('total energy (eV)')\n",
    "plt.show()\n",
    "\n",
    "f.savefig('test.pdf', format='pdf',bbox_inches='tight')"
   ]
  },
  {
   "cell_type": "code",
   "execution_count": 35,
   "metadata": {
    "collapsed": true
   },
   "outputs": [],
   "source": [
    "# given list of Cartesian coordinates, return list of atomic environments\n",
    "def get_cutoff_vecs(vec, brav_mat, brav_inv, vec1, vec2, vec3, cutoff):\n",
    "    # get bravais coefficients\n",
    "    coeff = np.matmul(brav_inv, vec)\n",
    "    \n",
    "    # get bravais coefficients for atoms within one super-super-cell\n",
    "    coeffs = [[],[],[]]\n",
    "    for n in range(3):\n",
    "        coeffs[n].append(coeff[n])\n",
    "        coeffs[n].append(coeff[n]-1)\n",
    "        coeffs[n].append(coeff[n]+1)\n",
    "\n",
    "    # get vectors within cutoff\n",
    "    vecs = []\n",
    "    dists = []\n",
    "    for m in range(len(coeffs[0])):\n",
    "        for n in range(len(coeffs[1])):\n",
    "            for p in range(len(coeffs[2])):\n",
    "                vec_curr = coeffs[0][m]*vec1 + coeffs[1][n]*vec2 + coeffs[2][p]*vec3\n",
    "                \n",
    "                dist = np.linalg.norm(vec_curr)\n",
    "\n",
    "                if dist < cutoff:\n",
    "                    vecs.append(vec_curr)\n",
    "                    dists.append(dist)\n",
    "                    \n",
    "    return vecs, dists"
   ]
  },
  {
   "cell_type": "code",
   "execution_count": 36,
   "metadata": {
    "collapsed": true
   },
   "outputs": [],
   "source": [
    "# given list of cartesian coordinates, get chemical environment of specified atom\n",
    "# pos = list of cartesian coordinates\n",
    "def get_env(pos, atom, brav_mat, brav_inv, vec1, vec2, vec3, cutoff):\n",
    "    env = [[],[],[],[]]\n",
    "    pos_atom = np.array(pos[atom]).reshape(3,1)\n",
    "    \n",
    "    # loop through positions to find all atoms and images in the neighborhood\n",
    "    for n in range(len(pos)):\n",
    "        # position relative to reference atom\n",
    "        diff_curr = np.array(pos[n]).reshape(3,1) - pos_atom\n",
    "\n",
    "        # get images within cutoff\n",
    "        vecs, dists = get_cutoff_vecs(diff_curr, brav_mat, \\\n",
    "            brav_inv, vec1, vec2, vec3, cutoff)\n",
    "\n",
    "        for vec, dist in zip(vecs, dists):\n",
    "            # ignore self interaction\n",
    "            if dist != 0:\n",
    "                # append distance\n",
    "                env[0].append(dist)\n",
    "                \n",
    "                # append coordinate differences\n",
    "                env[1].append(-vec[0][0])\n",
    "                env[2].append(-vec[1][0])\n",
    "                env[3].append(-vec[2][0])\n",
    "\n",
    "    env = np.array(env)\n",
    "    return env"
   ]
  },
  {
   "cell_type": "code",
   "execution_count": 37,
   "metadata": {
    "collapsed": true
   },
   "outputs": [],
   "source": [
    "# given list of cartesian coordinates, return list of chemical environments\n",
    "def get_envs(pos, brav_mat, brav_inv, vec1, vec2, vec3, cutoff):\n",
    "    envs = []\n",
    "    for n in range(len(pos)):\n",
    "        atom = n\n",
    "        env = get_env(pos, atom, brav_mat, brav_inv, vec1, vec2, vec3, cutoff)\n",
    "        envs.append(env)\n",
    "        \n",
    "    return envs"
   ]
  },
  {
   "cell_type": "code",
   "execution_count": 38,
   "metadata": {
    "collapsed": true
   },
   "outputs": [],
   "source": [
    "# set crystal structure\n",
    "dim = 3\n",
    "alat = 5.431\n",
    "unit_cell = [[0.0, alat/2, alat/2], [alat/2, 0.0, alat/2], \\\n",
    "                    [alat/2, alat/2, 0.0]] # fcc primitive cell\n",
    "unit_pos = [['Si',[0,0,0]],['Si',[alat/4, alat/4, alat/4]]]\n",
    "brav_mat = np.array([[0.0, alat/2, alat/2], [alat/2, 0.0, alat/2], \\\n",
    "                    [alat/2, alat/2, 0.0]])*dim\n",
    "brav_inv = np.linalg.inv(brav_mat)\n",
    "\n",
    "# bravais vectors\n",
    "vec1 = brav_mat[:,0].reshape(3,1)\n",
    "vec2 = brav_mat[:,1].reshape(3,1)\n",
    "vec3 = brav_mat[:,2].reshape(3,1)"
   ]
  },
  {
   "cell_type": "code",
   "execution_count": 39,
   "metadata": {
    "collapsed": true
   },
   "outputs": [],
   "source": [
    "# convert list of triplets to column vector\n",
    "def fc_conv(fcs):\n",
    "    comp_len = len(fcs)*3\n",
    "    comps = []\n",
    "    for n in range(comp_len):\n",
    "        fc_ind = int(floor(n/3))\n",
    "        d = n%3\n",
    "        comps.append(fcs[fc_ind][d])\n",
    "    \n",
    "    return np.array(comps).reshape(comp_len,1)"
   ]
  },
  {
   "cell_type": "code",
   "execution_count": 40,
   "metadata": {
    "collapsed": true
   },
   "outputs": [],
   "source": [
    "# build force field from single snapshot\n",
    "cutoff = 4.5\n",
    "pos = Si_MD_Parsed[1]['positions']\n",
    "envs = get_envs(pos, brav_mat, brav_inv, vec1, vec2, vec3, cutoff)\n",
    "fcs = fc_conv(Si_MD_Parsed[2]['forces'])"
   ]
  },
  {
   "cell_type": "code",
   "execution_count": 41,
   "metadata": {
    "collapsed": true
   },
   "outputs": [],
   "source": [
    "# get kernel matrix\n",
    "sig = 1\n",
    "ls = 0.1\n",
    "noise = 0.01\n",
    "K, L = get_K(envs,sig,ls, noise)"
   ]
  },
  {
   "cell_type": "code",
   "execution_count": 42,
   "metadata": {},
   "outputs": [
    {
     "name": "stdout",
     "output_type": "stream",
     "text": [
      "sig: 1.0\n",
      "ls: 1.0\n",
      "noise: 0.001\n",
      "log like: [[819.67628962]]\n"
     ]
    },
    {
     "data": {
      "text/plain": [
       "array([[819.67628962]])"
      ]
     },
     "execution_count": 42,
     "metadata": {},
     "output_type": "execute_result"
    }
   ],
   "source": [
    "# calculate likelihood\n",
    "sig = 1\n",
    "ls = 1\n",
    "noise = 0.001\n",
    "hyp = np.array([sig, ls, noise])\n",
    "\n",
    "like_hyp(hyp,envs,fcs)"
   ]
  },
  {
   "cell_type": "code",
   "execution_count": 43,
   "metadata": {},
   "outputs": [
    {
     "ename": "KeyboardInterrupt",
     "evalue": "",
     "output_type": "error",
     "traceback": [
      "\u001b[0;31m---------------------------------------------------------------------------\u001b[0m",
      "\u001b[0;31mKeyboardInterrupt\u001b[0m                         Traceback (most recent call last)",
      "\u001b[0;32m<ipython-input-43-26c182e2a320>\u001b[0m in \u001b[0;36m<module>\u001b[0;34m()\u001b[0m\n\u001b[1;32m      2\u001b[0m \u001b[0mx0\u001b[0m \u001b[0;34m=\u001b[0m \u001b[0mnp\u001b[0m\u001b[0;34m.\u001b[0m\u001b[0marray\u001b[0m\u001b[0;34m(\u001b[0m\u001b[0;34m[\u001b[0m\u001b[0;36m1\u001b[0m\u001b[0;34m,\u001b[0m\u001b[0;36m1\u001b[0m\u001b[0;34m,\u001b[0m\u001b[0;36m0.001\u001b[0m\u001b[0;34m]\u001b[0m\u001b[0;34m)\u001b[0m\u001b[0;34m\u001b[0m\u001b[0m\n\u001b[1;32m      3\u001b[0m \u001b[0margs\u001b[0m \u001b[0;34m=\u001b[0m \u001b[0;34m(\u001b[0m\u001b[0menvs\u001b[0m\u001b[0;34m,\u001b[0m\u001b[0mfcs\u001b[0m\u001b[0;34m)\u001b[0m\u001b[0;34m\u001b[0m\u001b[0m\n\u001b[0;32m----> 4\u001b[0;31m \u001b[0mres\u001b[0m \u001b[0;34m=\u001b[0m \u001b[0mminimize\u001b[0m\u001b[0;34m(\u001b[0m\u001b[0mminus_like_hyp\u001b[0m\u001b[0;34m,\u001b[0m \u001b[0mx0\u001b[0m\u001b[0;34m,\u001b[0m \u001b[0margs\u001b[0m\u001b[0;34m,\u001b[0m \u001b[0mmethod\u001b[0m\u001b[0;34m=\u001b[0m\u001b[0;34m'nelder-mead'\u001b[0m\u001b[0;34m,\u001b[0m                \u001b[0moptions\u001b[0m\u001b[0;34m=\u001b[0m\u001b[0;34m{\u001b[0m\u001b[0;34m'xtol'\u001b[0m\u001b[0;34m:\u001b[0m \u001b[0;36m1e-8\u001b[0m\u001b[0;34m,\u001b[0m \u001b[0;34m'disp'\u001b[0m\u001b[0;34m:\u001b[0m \u001b[0;32mTrue\u001b[0m\u001b[0;34m}\u001b[0m\u001b[0;34m)\u001b[0m\u001b[0;34m\u001b[0m\u001b[0m\n\u001b[0m\u001b[1;32m      5\u001b[0m \u001b[0;34m\u001b[0m\u001b[0m\n\u001b[1;32m      6\u001b[0m \u001b[0mprint\u001b[0m\u001b[0;34m(\u001b[0m\u001b[0mres\u001b[0m\u001b[0;34m.\u001b[0m\u001b[0mx\u001b[0m\u001b[0;34m)\u001b[0m\u001b[0;34m\u001b[0m\u001b[0m\n",
      "\u001b[0;32m~/.local/lib/python3.6/site-packages/scipy/optimize/_minimize.py\u001b[0m in \u001b[0;36mminimize\u001b[0;34m(fun, x0, args, method, jac, hess, hessp, bounds, constraints, tol, callback, options)\u001b[0m\n\u001b[1;32m    473\u001b[0m                       callback=callback, **options)\n\u001b[1;32m    474\u001b[0m     \u001b[0;32melif\u001b[0m \u001b[0mmeth\u001b[0m \u001b[0;34m==\u001b[0m \u001b[0;34m'nelder-mead'\u001b[0m\u001b[0;34m:\u001b[0m\u001b[0;34m\u001b[0m\u001b[0m\n\u001b[0;32m--> 475\u001b[0;31m         \u001b[0;32mreturn\u001b[0m \u001b[0m_minimize_neldermead\u001b[0m\u001b[0;34m(\u001b[0m\u001b[0mfun\u001b[0m\u001b[0;34m,\u001b[0m \u001b[0mx0\u001b[0m\u001b[0;34m,\u001b[0m \u001b[0margs\u001b[0m\u001b[0;34m,\u001b[0m \u001b[0mcallback\u001b[0m\u001b[0;34m,\u001b[0m \u001b[0;34m**\u001b[0m\u001b[0moptions\u001b[0m\u001b[0;34m)\u001b[0m\u001b[0;34m\u001b[0m\u001b[0m\n\u001b[0m\u001b[1;32m    476\u001b[0m     \u001b[0;32melif\u001b[0m \u001b[0mmeth\u001b[0m \u001b[0;34m==\u001b[0m \u001b[0;34m'powell'\u001b[0m\u001b[0;34m:\u001b[0m\u001b[0;34m\u001b[0m\u001b[0m\n\u001b[1;32m    477\u001b[0m         \u001b[0;32mreturn\u001b[0m \u001b[0m_minimize_powell\u001b[0m\u001b[0;34m(\u001b[0m\u001b[0mfun\u001b[0m\u001b[0;34m,\u001b[0m \u001b[0mx0\u001b[0m\u001b[0;34m,\u001b[0m \u001b[0margs\u001b[0m\u001b[0;34m,\u001b[0m \u001b[0mcallback\u001b[0m\u001b[0;34m,\u001b[0m \u001b[0;34m**\u001b[0m\u001b[0moptions\u001b[0m\u001b[0;34m)\u001b[0m\u001b[0;34m\u001b[0m\u001b[0m\n",
      "\u001b[0;32m~/.local/lib/python3.6/site-packages/scipy/optimize/optimize.py\u001b[0m in \u001b[0;36m_minimize_neldermead\u001b[0;34m(func, x0, args, callback, maxiter, maxfev, disp, return_all, initial_simplex, xatol, fatol, **unknown_options)\u001b[0m\n\u001b[1;32m    530\u001b[0m \u001b[0;34m\u001b[0m\u001b[0m\n\u001b[1;32m    531\u001b[0m     \u001b[0;32mfor\u001b[0m \u001b[0mk\u001b[0m \u001b[0;32min\u001b[0m \u001b[0mrange\u001b[0m\u001b[0;34m(\u001b[0m\u001b[0mN\u001b[0m \u001b[0;34m+\u001b[0m \u001b[0;36m1\u001b[0m\u001b[0;34m)\u001b[0m\u001b[0;34m:\u001b[0m\u001b[0;34m\u001b[0m\u001b[0m\n\u001b[0;32m--> 532\u001b[0;31m         \u001b[0mfsim\u001b[0m\u001b[0;34m[\u001b[0m\u001b[0mk\u001b[0m\u001b[0;34m]\u001b[0m \u001b[0;34m=\u001b[0m \u001b[0mfunc\u001b[0m\u001b[0;34m(\u001b[0m\u001b[0msim\u001b[0m\u001b[0;34m[\u001b[0m\u001b[0mk\u001b[0m\u001b[0;34m]\u001b[0m\u001b[0;34m)\u001b[0m\u001b[0;34m\u001b[0m\u001b[0m\n\u001b[0m\u001b[1;32m    533\u001b[0m \u001b[0;34m\u001b[0m\u001b[0m\n\u001b[1;32m    534\u001b[0m     \u001b[0mind\u001b[0m \u001b[0;34m=\u001b[0m \u001b[0mnumpy\u001b[0m\u001b[0;34m.\u001b[0m\u001b[0margsort\u001b[0m\u001b[0;34m(\u001b[0m\u001b[0mfsim\u001b[0m\u001b[0;34m)\u001b[0m\u001b[0;34m\u001b[0m\u001b[0m\n",
      "\u001b[0;32m~/.local/lib/python3.6/site-packages/scipy/optimize/optimize.py\u001b[0m in \u001b[0;36mfunction_wrapper\u001b[0;34m(*wrapper_args)\u001b[0m\n\u001b[1;32m    290\u001b[0m     \u001b[0;32mdef\u001b[0m \u001b[0mfunction_wrapper\u001b[0m\u001b[0;34m(\u001b[0m\u001b[0;34m*\u001b[0m\u001b[0mwrapper_args\u001b[0m\u001b[0;34m)\u001b[0m\u001b[0;34m:\u001b[0m\u001b[0;34m\u001b[0m\u001b[0m\n\u001b[1;32m    291\u001b[0m         \u001b[0mncalls\u001b[0m\u001b[0;34m[\u001b[0m\u001b[0;36m0\u001b[0m\u001b[0;34m]\u001b[0m \u001b[0;34m+=\u001b[0m \u001b[0;36m1\u001b[0m\u001b[0;34m\u001b[0m\u001b[0m\n\u001b[0;32m--> 292\u001b[0;31m         \u001b[0;32mreturn\u001b[0m \u001b[0mfunction\u001b[0m\u001b[0;34m(\u001b[0m\u001b[0;34m*\u001b[0m\u001b[0;34m(\u001b[0m\u001b[0mwrapper_args\u001b[0m \u001b[0;34m+\u001b[0m \u001b[0margs\u001b[0m\u001b[0;34m)\u001b[0m\u001b[0;34m)\u001b[0m\u001b[0;34m\u001b[0m\u001b[0m\n\u001b[0m\u001b[1;32m    293\u001b[0m \u001b[0;34m\u001b[0m\u001b[0m\n\u001b[1;32m    294\u001b[0m     \u001b[0;32mreturn\u001b[0m \u001b[0mncalls\u001b[0m\u001b[0;34m,\u001b[0m \u001b[0mfunction_wrapper\u001b[0m\u001b[0;34m\u001b[0m\u001b[0m\n",
      "\u001b[0;32m<ipython-input-19-2a92420356c2>\u001b[0m in \u001b[0;36mminus_like_hyp\u001b[0;34m(hyp, X, y)\u001b[0m\n\u001b[1;32m     28\u001b[0m \u001b[0;31m# get minus likelihood as a function of hyperparameters\u001b[0m\u001b[0;34m\u001b[0m\u001b[0;34m\u001b[0m\u001b[0m\n\u001b[1;32m     29\u001b[0m \u001b[0;32mdef\u001b[0m \u001b[0mminus_like_hyp\u001b[0m\u001b[0;34m(\u001b[0m\u001b[0mhyp\u001b[0m\u001b[0;34m,\u001b[0m\u001b[0mX\u001b[0m\u001b[0;34m,\u001b[0m\u001b[0my\u001b[0m\u001b[0;34m)\u001b[0m\u001b[0;34m:\u001b[0m\u001b[0;34m\u001b[0m\u001b[0m\n\u001b[0;32m---> 30\u001b[0;31m     \u001b[0mlike\u001b[0m \u001b[0;34m=\u001b[0m \u001b[0mlike_hyp\u001b[0m\u001b[0;34m(\u001b[0m\u001b[0mhyp\u001b[0m\u001b[0;34m,\u001b[0m\u001b[0mX\u001b[0m\u001b[0;34m,\u001b[0m\u001b[0my\u001b[0m\u001b[0;34m)\u001b[0m\u001b[0;34m\u001b[0m\u001b[0m\n\u001b[0m\u001b[1;32m     31\u001b[0m     \u001b[0mminus_like\u001b[0m \u001b[0;34m=\u001b[0m \u001b[0;34m-\u001b[0m\u001b[0mlike\u001b[0m\u001b[0;34m\u001b[0m\u001b[0m\n\u001b[1;32m     32\u001b[0m     \u001b[0;32mreturn\u001b[0m \u001b[0mminus_like\u001b[0m\u001b[0;34m\u001b[0m\u001b[0m\n",
      "\u001b[0;32m<ipython-input-19-2a92420356c2>\u001b[0m in \u001b[0;36mlike_hyp\u001b[0;34m(hyp, X, y)\u001b[0m\n\u001b[1;32m     14\u001b[0m \u001b[0;34m\u001b[0m\u001b[0m\n\u001b[1;32m     15\u001b[0m     \u001b[0;31m# calculate likelihood\u001b[0m\u001b[0;34m\u001b[0m\u001b[0;34m\u001b[0m\u001b[0m\n\u001b[0;32m---> 16\u001b[0;31m     \u001b[0mK\u001b[0m\u001b[0;34m,\u001b[0m \u001b[0mL\u001b[0m \u001b[0;34m=\u001b[0m \u001b[0mget_K\u001b[0m\u001b[0;34m(\u001b[0m\u001b[0mX\u001b[0m\u001b[0;34m,\u001b[0m\u001b[0msig\u001b[0m\u001b[0;34m,\u001b[0m\u001b[0mls\u001b[0m\u001b[0;34m,\u001b[0m\u001b[0mnoise\u001b[0m\u001b[0;34m)\u001b[0m\u001b[0;34m\u001b[0m\u001b[0m\n\u001b[0m\u001b[1;32m     17\u001b[0m     \u001b[0malpha\u001b[0m \u001b[0;34m=\u001b[0m \u001b[0mget_alpha\u001b[0m\u001b[0;34m(\u001b[0m\u001b[0mK\u001b[0m\u001b[0;34m,\u001b[0m\u001b[0mL\u001b[0m\u001b[0;34m,\u001b[0m\u001b[0my\u001b[0m\u001b[0;34m)\u001b[0m\u001b[0;34m\u001b[0m\u001b[0m\n\u001b[1;32m     18\u001b[0m     \u001b[0mlike\u001b[0m \u001b[0;34m=\u001b[0m \u001b[0mget_like\u001b[0m\u001b[0;34m(\u001b[0m\u001b[0mK\u001b[0m\u001b[0;34m,\u001b[0m\u001b[0mL\u001b[0m\u001b[0;34m,\u001b[0m\u001b[0my\u001b[0m\u001b[0;34m,\u001b[0m\u001b[0malpha\u001b[0m\u001b[0;34m)\u001b[0m\u001b[0;34m\u001b[0m\u001b[0m\n",
      "\u001b[0;32m<ipython-input-16-fe3efd006c3c>\u001b[0m in \u001b[0;36mget_K\u001b[0;34m(X, sig, ls, noise)\u001b[0m\n\u001b[1;32m     16\u001b[0m \u001b[0;34m\u001b[0m\u001b[0m\n\u001b[1;32m     17\u001b[0m             \u001b[0;31m# calculate kernel\u001b[0m\u001b[0;34m\u001b[0m\u001b[0;34m\u001b[0m\u001b[0m\n\u001b[0;32m---> 18\u001b[0;31m             \u001b[0mcov\u001b[0m \u001b[0;34m=\u001b[0m \u001b[0mtb_kern\u001b[0m\u001b[0;34m(\u001b[0m\u001b[0mx1\u001b[0m\u001b[0;34m,\u001b[0m \u001b[0mx2\u001b[0m\u001b[0;34m,\u001b[0m \u001b[0md1\u001b[0m\u001b[0;34m,\u001b[0m \u001b[0md2\u001b[0m\u001b[0;34m,\u001b[0m \u001b[0msig\u001b[0m\u001b[0;34m,\u001b[0m \u001b[0mls\u001b[0m\u001b[0;34m)\u001b[0m\u001b[0;34m\u001b[0m\u001b[0m\n\u001b[0m\u001b[1;32m     19\u001b[0m             \u001b[0mK\u001b[0m\u001b[0;34m[\u001b[0m\u001b[0mm\u001b[0m\u001b[0;34m,\u001b[0m\u001b[0mn\u001b[0m\u001b[0;34m]\u001b[0m \u001b[0;34m=\u001b[0m \u001b[0mcov\u001b[0m\u001b[0;34m\u001b[0m\u001b[0m\n\u001b[1;32m     20\u001b[0m             \u001b[0mK\u001b[0m\u001b[0;34m[\u001b[0m\u001b[0mn\u001b[0m\u001b[0;34m,\u001b[0m\u001b[0mm\u001b[0m\u001b[0;34m]\u001b[0m \u001b[0;34m=\u001b[0m \u001b[0mcov\u001b[0m\u001b[0;34m\u001b[0m\u001b[0m\n",
      "\u001b[0;32m<ipython-input-14-240c8c236bd8>\u001b[0m in \u001b[0;36mtb_kern\u001b[0;34m(x1, x2, d1, d2, sig, ls)\u001b[0m\n\u001b[1;32m     14\u001b[0m             \u001b[0mbase\u001b[0m \u001b[0;34m=\u001b[0m \u001b[0msig\u001b[0m\u001b[0;34m**\u001b[0m\u001b[0;36m2\u001b[0m\u001b[0;34m*\u001b[0m\u001b[0mnp\u001b[0m\u001b[0;34m.\u001b[0m\u001b[0mexp\u001b[0m\u001b[0;34m(\u001b[0m\u001b[0;34m-\u001b[0m\u001b[0;34m(\u001b[0m\u001b[0mdist1\u001b[0m\u001b[0;34m-\u001b[0m\u001b[0mdist2\u001b[0m\u001b[0;34m)\u001b[0m\u001b[0;34m**\u001b[0m\u001b[0;36m2\u001b[0m\u001b[0;34m/\u001b[0m\u001b[0;34m(\u001b[0m\u001b[0;36m2\u001b[0m\u001b[0;34m*\u001b[0m\u001b[0mls\u001b[0m\u001b[0;34m**\u001b[0m\u001b[0;36m2\u001b[0m\u001b[0;34m)\u001b[0m\u001b[0;34m)\u001b[0m\u001b[0;34m\u001b[0m\u001b[0m\n\u001b[1;32m     15\u001b[0m             \u001b[0mdoub_fac\u001b[0m \u001b[0;34m=\u001b[0m \u001b[0;34m-\u001b[0m\u001b[0mls\u001b[0m\u001b[0;34m**\u001b[0m\u001b[0;36m2\u001b[0m\u001b[0;34m+\u001b[0m\u001b[0;34m(\u001b[0m\u001b[0mdist1\u001b[0m\u001b[0;34m-\u001b[0m\u001b[0mdist2\u001b[0m\u001b[0;34m)\u001b[0m\u001b[0;34m**\u001b[0m\u001b[0;36m2\u001b[0m\u001b[0;34m\u001b[0m\u001b[0m\n\u001b[0;32m---> 16\u001b[0;31m             \u001b[0mkern\u001b[0m \u001b[0;34m=\u001b[0m \u001b[0;34m-\u001b[0m\u001b[0mbase\u001b[0m\u001b[0;34m*\u001b[0m\u001b[0mcoord1\u001b[0m\u001b[0;34m*\u001b[0m\u001b[0mcoord2\u001b[0m\u001b[0;34m*\u001b[0m\u001b[0mdoub_fac\u001b[0m\u001b[0;34m/\u001b[0m\u001b[0;34m(\u001b[0m\u001b[0mdist1\u001b[0m\u001b[0;34m*\u001b[0m\u001b[0mdist2\u001b[0m\u001b[0;34m*\u001b[0m\u001b[0mls\u001b[0m\u001b[0;34m**\u001b[0m\u001b[0;36m4\u001b[0m\u001b[0;34m)\u001b[0m\u001b[0;34m\u001b[0m\u001b[0m\n\u001b[0m\u001b[1;32m     17\u001b[0m \u001b[0;34m\u001b[0m\u001b[0m\n\u001b[1;32m     18\u001b[0m             \u001b[0mtot_kern\u001b[0m\u001b[0;34m+=\u001b[0m\u001b[0mkern\u001b[0m\u001b[0;34m\u001b[0m\u001b[0m\n",
      "\u001b[0;31mKeyboardInterrupt\u001b[0m: "
     ]
    }
   ],
   "source": [
    "# minimize minus log likelihood using Nelder-Mead\n",
    "x0 = np.array([1,1,0.001])\n",
    "args = (envs,fcs)\n",
    "res = minimize(minus_like_hyp, x0, args, method='nelder-mead', \\\n",
    "               options={'xtol': 1e-8, 'disp': True})\n",
    "\n",
    "print(res.x)"
   ]
  },
  {
   "cell_type": "code",
   "execution_count": null,
   "metadata": {
    "collapsed": true
   },
   "outputs": [],
   "source": [
    "hyp = np.array([0.02084984,0.33739727,0.001])\n",
    "like, K_time, alph_time, like_time = like_hyp_mon(hyp, envs, fcs)"
   ]
  },
  {
   "cell_type": "code",
   "execution_count": null,
   "metadata": {
    "collapsed": true
   },
   "outputs": [],
   "source": [
    "K_time"
   ]
  },
  {
   "cell_type": "code",
   "execution_count": null,
   "metadata": {
    "collapsed": true
   },
   "outputs": [],
   "source": [
    "alph_time"
   ]
  },
  {
   "cell_type": "code",
   "execution_count": null,
   "metadata": {
    "collapsed": true
   },
   "outputs": [],
   "source": [
    "like_time"
   ]
  },
  {
   "cell_type": "markdown",
   "metadata": {},
   "source": [
    "### Parallelize the kernel matrix function."
   ]
  },
  {
   "cell_type": "code",
   "execution_count": 44,
   "metadata": {
    "collapsed": true
   },
   "outputs": [],
   "source": [
    "# get row of covariances\n",
    "def get_cov_row(x1, d1, m, size, X, sig, ls):\n",
    "    covs = []\n",
    "    for n in range(m,size):\n",
    "        x2 = X[int(floor(n/3))]\n",
    "        d2 = n%3+1\n",
    "\n",
    "        # calculate kernel\n",
    "        cov = tb_kern(x1, x2, d1, d2, sig, ls)\n",
    "        covs.append(cov)\n",
    "        \n",
    "    return covs"
   ]
  },
  {
   "cell_type": "code",
   "execution_count": 45,
   "metadata": {
    "collapsed": true
   },
   "outputs": [],
   "source": [
    "def get_K_par(X,sig,ls,noise,pool):\n",
    "    # initialize matrix\n",
    "    size = len(X)*3\n",
    "    K = np.zeros([size, size])\n",
    "\n",
    "    # calculate elements\n",
    "    results = []\n",
    "    for m in range(size):\n",
    "        x1 = X[int(floor(m/3))]\n",
    "        d1 = m%3+1\n",
    "\n",
    "        results.append(pool.apply_async(get_cov_row, \\\n",
    "            args=(x1, d1, m, size, X, sig, ls)))\n",
    "\n",
    "    # construct covariance matrix\n",
    "    for m in range(size):\n",
    "        res_cur = results[m].get()\n",
    "        for n in range(m,size):\n",
    "            K[m,n]=res_cur[n-m]\n",
    "            K[n,m]=res_cur[n-m]\n",
    "\n",
    "    # perform cholesky decomposition\n",
    "    L = np.linalg.cholesky(K+noise**2*np.eye(size))\n",
    "    \n",
    "    return K,L"
   ]
  },
  {
   "cell_type": "code",
   "execution_count": 52,
   "metadata": {
    "collapsed": true
   },
   "outputs": [],
   "source": [
    "# set inputs\n",
    "X = envs\n",
    "sig = 0.02084984\n",
    "ls = 0.33739727\n",
    "noise = 0.00100585\n",
    "pool = mp.Pool(processes=2)"
   ]
  },
  {
   "cell_type": "code",
   "execution_count": 55,
   "metadata": {},
   "outputs": [
    {
     "name": "stdout",
     "output_type": "stream",
     "text": [
      "9.892528057098389\n",
      "19.57732105255127\n"
     ]
    }
   ],
   "source": [
    "time0 = time.time()\n",
    "test1, test2 = get_K_par(X,sig,ls,noise,pool)\n",
    "time1 = time.time()\n",
    "\n",
    "print(time1 - time0)\n",
    "\n",
    "time0 = time.time()\n",
    "test3, test4 = get_K(X,sig,ls,noise)\n",
    "time1 = time.time()\n",
    "\n",
    "print(time1 - time0)"
   ]
  },
  {
   "cell_type": "code",
   "execution_count": null,
   "metadata": {
    "collapsed": true
   },
   "outputs": [],
   "source": []
  }
 ],
 "metadata": {
  "kernelspec": {
   "display_name": "Python 3",
   "language": "python",
   "name": "python3"
  },
  "language_info": {
   "codemirror_mode": {
    "name": "ipython",
    "version": 3
   },
   "file_extension": ".py",
   "mimetype": "text/x-python",
   "name": "python",
   "nbconvert_exporter": "python",
   "pygments_lexer": "ipython3",
   "version": "3.6.3"
  }
 },
 "nbformat": 4,
 "nbformat_minor": 2
}
