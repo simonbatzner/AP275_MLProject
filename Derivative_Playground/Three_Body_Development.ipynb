{
 "cells": [
  {
   "cell_type": "code",
   "execution_count": 2,
   "metadata": {
    "collapsed": true
   },
   "outputs": [],
   "source": [
    "import numpy as np\n",
    "import scipy as sp\n",
    "import scipy.linalg\n",
    "import matplotlib.pyplot as plt\n",
    "import time\n",
    "from scipy.optimize import minimize\n",
    "import multiprocessing as mp\n",
    "from MD_Parser import *\n",
    "import math"
   ]
  },
  {
   "cell_type": "markdown",
   "metadata": {},
   "source": [
    "### Define helper functions from previous version."
   ]
  },
  {
   "cell_type": "code",
   "execution_count": 2,
   "metadata": {
    "collapsed": true
   },
   "outputs": [],
   "source": [
    "# get two body, one component kernel\n",
    "# x1, x2 are lists containing the central atom type and chemical environments\n",
    "# containing distances, Cartesian coordinate differences, and atom types\n",
    "def tb_kern(x1, x2, d1, d2, sig, ls):\n",
    "    # loop over atoms\n",
    "    tot_kern = 0\n",
    "    \n",
    "    # record central atom types\n",
    "    c1 = x1[0][0]\n",
    "    c2 = x2[0][0]\n",
    "    \n",
    "    # get size of environments\n",
    "    l1 = len(x1[1][0])\n",
    "    l2 = len(x2[1][0])\n",
    "    \n",
    "    for m in range(l1):\n",
    "        e1 = x1[1][4][m]\n",
    "        dist1 = x1[1][0][m]\n",
    "        coord1 = x1[1][d1][m]\n",
    "        for n in range(l2):\n",
    "            e2 = x2[1][4][n]\n",
    "            dist2 = x2[1][0][n]\n",
    "            coord2 = x2[1][d2][n]\n",
    "            \n",
    "            # check that atom types match\n",
    "            if c1==c2 and e1==e2:\n",
    "                # calculate covariance for current pair of atoms\n",
    "                base = sig**2*np.exp(-(dist1-dist2)**2/(2*ls**2))\n",
    "                doub_fac = -ls**2+(dist1-dist2)**2\n",
    "                kern = -base*coord1*coord2*doub_fac/(dist1*dist2*ls**4)\n",
    "\n",
    "                tot_kern+=kern\n",
    "                \n",
    "    return tot_kern\n",
    "\n",
    "# get 3Nx3N noiseless kernel matrix\n",
    "# assume all 3 force components are known for each configuration\n",
    "# X is assumed to be a list of environments\n",
    "def get_K(X,sig,ls,noise):\n",
    "    # initialize matrix\n",
    "    size = len(X)*3\n",
    "    K = np.zeros([size, size])\n",
    "    \n",
    "    # calculate elements\n",
    "    for m in range(size):\n",
    "        x1 = X[int(math.floor(m/3))]\n",
    "        d1 = m%3+1\n",
    "        for n in range(m,size):\n",
    "            x2 = X[int(math.floor(n/3))]\n",
    "            d2 = n%3+1\n",
    "           \n",
    "            # calculate kernel\n",
    "            cov = tb_kern(x1, x2, d1, d2, sig, ls)\n",
    "            K[m,n] = cov\n",
    "            K[n,m] = cov\n",
    "    # perform cholesky decomposition\n",
    "    L = np.linalg.cholesky(K+noise**2*np.eye(size))\n",
    "    \n",
    "    return K, L\n",
    "\n",
    "# get row of covariances\n",
    "def get_cov_row(x1, d1, m, size, X, sig, ls):\n",
    "    covs = []\n",
    "    for n in range(m,size):\n",
    "        x2 = X[int(math.floor(n/3))]\n",
    "        d2 = n%3+1\n",
    "\n",
    "        # calculate kernel\n",
    "        cov = tb_kern(x1, x2, d1, d2, sig, ls)\n",
    "        covs.append(cov)\n",
    "        \n",
    "    return covs\n",
    "\n",
    "# get covariance matrix with multiple processors\n",
    "def get_K_par(X,sig,ls,noise,pool):\n",
    "    # initialize matrix\n",
    "    size = len(X)*3\n",
    "    K = np.zeros([size, size])\n",
    "\n",
    "    # calculate elements\n",
    "    results = []\n",
    "    for m in range(size):\n",
    "        x1 = X[int(math.floor(m/3))]\n",
    "        d1 = m%3+1\n",
    "\n",
    "        results.append(pool.apply_async(get_cov_row, \\\n",
    "            args=(x1, d1, m, size, X, sig, ls)))\n",
    "\n",
    "    # construct covariance matrix\n",
    "    for m in range(size):\n",
    "        res_cur = results[m].get()\n",
    "        for n in range(m,size):\n",
    "            K[m,n]=res_cur[n-m]\n",
    "            K[n,m]=res_cur[n-m]\n",
    "\n",
    "    # perform cholesky decomposition\n",
    "    L = np.linalg.cholesky(K+noise**2*np.eye(size))\n",
    "    \n",
    "    return K,L\n",
    "\n",
    "# get kernel vector\n",
    "def get_kv(X,x,d1,sig,ls):\n",
    "    size = len(X)*3\n",
    "    kv=np.zeros([size,1])\n",
    "    for m in range(size):\n",
    "        x2 = X[int(math.floor(m/3))]\n",
    "        d2 = m%3+1\n",
    "        kv[m]=tb_kern(x,x2,d1,d2,sig,ls)\n",
    "        \n",
    "    return kv\n",
    "\n",
    "# get alpha\n",
    "def get_alpha(K,L,y): \n",
    "    # get alpha\n",
    "    ts1 = sp.linalg.solve_triangular(L,y,lower=True)\n",
    "    alpha = sp.linalg.solve_triangular(L.transpose(),ts1)\n",
    "            \n",
    "    return alpha\n",
    "\n",
    "# get likelihood\n",
    "def get_like(K,L,y,alpha): \n",
    "    # get log marginal likelihood\n",
    "    like = -(1/2)*np.matmul(y.transpose(),alpha)-\\\n",
    "            np.sum(np.log(np.diagonal(L)))-\\\n",
    "            np.log(2*np.pi)*K.shape[1]/2\n",
    "            \n",
    "    return like\n",
    "\n",
    "# get likelihood as a function of hyperparameters\n",
    "def like_hyp(hyp,X,y):\n",
    "    # unpack hyperparameters\n",
    "    sig = hyp[0]\n",
    "    ls = hyp[1]\n",
    "    noise = hyp[2]\n",
    "    \n",
    "    # calculate likelihood\n",
    "    K, L = get_K(X,sig,ls,noise)\n",
    "    alpha = get_alpha(K,L,y)\n",
    "    like = get_like(K,L,y,alpha)\n",
    "    \n",
    "    # print\n",
    "    print('sig: '+str(sig))\n",
    "    print('ls: '+str(ls))\n",
    "    print('noise: '+str(noise))\n",
    "    print('log like: '+str(like))\n",
    "    \n",
    "    return like\n",
    "\n",
    "# get minus likelihood as a function of hyperparameters\n",
    "def minus_like_hyp(hyp,X,y):\n",
    "    like = like_hyp(hyp,X,y)\n",
    "    minus_like = -like\n",
    "    return minus_like\n",
    "\n",
    "# make GP prediction with SE kernel\n",
    "def GP_pred(X,y,K,L,alpha,sig,ls,xt,d):\n",
    "    # get kernel vector\n",
    "    kv = get_kv(X,xt,d,sig,ls)\n",
    "    \n",
    "    # get predictive mean\n",
    "    f = np.matmul(kv.transpose(),alpha)\n",
    "    \n",
    "    # get predictive variance\n",
    "    v = sp.linalg.solve_triangular(L,kv,lower=True)\n",
    "    self_kern = tb_kern(xt, xt, d, d, sig, ls)\n",
    "    var = self_kern - np.matmul(v.transpose(),v)\n",
    "    \n",
    "    return f, var\n",
    "\n",
    "# given list of Cartesian coordinates, return list of atomic environments\n",
    "def get_cutoff_vecs(vec, brav_mat, brav_inv, vec1, vec2, vec3, cutoff):\n",
    "    # get bravais coefficients\n",
    "    coeff = np.matmul(brav_inv, vec)\n",
    "    \n",
    "    # get bravais coefficients for atoms within one super-super-cell\n",
    "    coeffs = [[],[],[]]\n",
    "    for n in range(3):\n",
    "        coeffs[n].append(coeff[n])\n",
    "        coeffs[n].append(coeff[n]-1)\n",
    "        coeffs[n].append(coeff[n]+1)\n",
    "        coeffs[n].append(coeff[n]-2)\n",
    "        coeffs[n].append(coeff[n]+2)\n",
    "\n",
    "    # get vectors within cutoff\n",
    "    vecs = []\n",
    "    dists = []\n",
    "    for m in range(len(coeffs[0])):\n",
    "        for n in range(len(coeffs[1])):\n",
    "            for p in range(len(coeffs[2])):\n",
    "                vec_curr = coeffs[0][m]*vec1 + coeffs[1][n]*vec2 + coeffs[2][p]*vec3\n",
    "                \n",
    "                dist = np.linalg.norm(vec_curr)\n",
    "\n",
    "                if dist < cutoff:\n",
    "                    vecs.append(vec_curr)\n",
    "                    dists.append(dist)\n",
    "                    \n",
    "    return vecs, dists\n",
    "\n",
    "# given list of cartesian coordinates, get chemical environment of specified atom\n",
    "# pos = list of cartesian coordinates\n",
    "# typs = list of atom types\n",
    "def get_env(pos, typs, atom, brav_mat, brav_inv, vec1, vec2, vec3, cutoff):\n",
    "    env = [[],[[],[],[],[],[]]]\n",
    "    pos_atom = np.array(pos[atom]).reshape(3,1)\n",
    "    typ = typs[atom]\n",
    "    \n",
    "    # append central atom type\n",
    "    env[0].append(typ)\n",
    "    \n",
    "    # loop through positions to find all atoms and images in the neighborhood\n",
    "    for n in range(len(pos)):\n",
    "        # position relative to reference atom\n",
    "        diff_curr = np.array(pos[n]).reshape(3,1) - pos_atom\n",
    "\n",
    "        # get images within cutoff\n",
    "        vecs, dists = get_cutoff_vecs(diff_curr, brav_mat, \\\n",
    "            brav_inv, vec1, vec2, vec3, cutoff)\n",
    "\n",
    "        for vec, dist in zip(vecs, dists):\n",
    "            # ignore self interaction\n",
    "            if dist != 0:\n",
    "                # append distance\n",
    "                env[1][0].append(dist)\n",
    "                \n",
    "                # append coordinate differences\n",
    "                env[1][1].append(-vec[0][0])\n",
    "                env[1][2].append(-vec[1][0])\n",
    "                env[1][3].append(-vec[2][0])\n",
    "                \n",
    "                # append atom type\n",
    "                env[1][4].append(typs[n])\n",
    "\n",
    "    return env\n",
    "\n",
    "# given list of cartesian coordinates, return list of chemical environments\n",
    "def get_envs(pos, typs, brav_mat, brav_inv, vec1, vec2, vec3, cutoff):\n",
    "    envs = []\n",
    "    for n in range(len(pos)):\n",
    "        atom = n\n",
    "        env = get_env(pos, typs, atom, brav_mat, brav_inv, vec1, vec2, vec3, cutoff)\n",
    "        envs.append(env)\n",
    "        \n",
    "    return envs\n",
    "\n",
    "# convert list of triplets to column vector\n",
    "def fc_conv(fcs):\n",
    "    comp_len = len(fcs)*3\n",
    "    comps = []\n",
    "    for n in range(comp_len):\n",
    "        fc_ind = int(math.floor(n/3))\n",
    "        d = n%3\n",
    "        comps.append(fcs[fc_ind][d])\n",
    "    \n",
    "    return np.array(comps).reshape(comp_len,1)\n",
    "\n",
    "# rotate input vector by angle theta\n",
    "def rotate_xy(x, theta):\n",
    "    new_x = np.zeros(x.shape)\n",
    "    for n in range(x.shape[1]):\n",
    "        vec = x[:,n]\n",
    "        x_new = np.cos(theta)*vec[1]-np.sin(theta)*vec[2]\n",
    "        y_new = np.sin(theta)*vec[1]+np.cos(theta)*vec[2]\n",
    "        new_x[0,n]=x[0,n]\n",
    "        new_x[1,n]=x_new\n",
    "        new_x[2,n]=y_new\n",
    "        new_x[3,n]=x[3,n]\n",
    "    return new_x"
   ]
  },
  {
   "cell_type": "markdown",
   "metadata": {},
   "source": [
    "### Parse multicomponent file."
   ]
  },
  {
   "cell_type": "code",
   "execution_count": 97,
   "metadata": {
    "collapsed": true
   },
   "outputs": [],
   "source": [
    "outfile ='/Users/jonpvandermause/Research/GP/Datasets/SiC_MD/sic_md.out'\n",
    "Si_MD_Parsed = parse_qe_pwscf_md_output(outfile)"
   ]
  },
  {
   "cell_type": "code",
   "execution_count": 98,
   "metadata": {
    "collapsed": true
   },
   "outputs": [],
   "source": [
    "# set crystal structure\n",
    "dim = 3\n",
    "alat = 4.344404578\n",
    "unit_cell = [[0.0, alat/2, alat/2], [alat/2, 0.0, alat/2], \\\n",
    "                    [alat/2, alat/2, 0.0]] # fcc primitive cell\n",
    "unit_pos = [['Si',[0,0,0]],['Si',[alat/4, alat/4, alat/4]]]\n",
    "brav_mat = np.array([[0.0, alat/2, alat/2], [alat/2, 0.0, alat/2], \\\n",
    "                    [alat/2, alat/2, 0.0]])*dim\n",
    "brav_inv = np.linalg.inv(brav_mat)\n",
    "\n",
    "# bravais vectors\n",
    "vec1 = brav_mat[:,0].reshape(3,1)\n",
    "vec2 = brav_mat[:,1].reshape(3,1)\n",
    "vec3 = brav_mat[:,2].reshape(3,1)"
   ]
  },
  {
   "cell_type": "code",
   "execution_count": 99,
   "metadata": {
    "collapsed": true
   },
   "outputs": [],
   "source": [
    "# build force field from single snapshot\n",
    "cutoff = 4.5\n",
    "pos = Si_MD_Parsed[1]['positions']\n",
    "typs = Si_MD_Parsed[1]['elements']\n",
    "envs = get_envs(pos, typs, brav_mat, brav_inv, vec1, vec2, vec3, cutoff)\n",
    "fcs = fc_conv(Si_MD_Parsed[2]['forces'])"
   ]
  },
  {
   "cell_type": "code",
   "execution_count": 100,
   "metadata": {},
   "outputs": [
    {
     "data": {
      "text/plain": [
       "33"
      ]
     },
     "execution_count": 100,
     "metadata": {},
     "output_type": "execute_result"
    }
   ],
   "source": [
    "len(envs[0][1][0])"
   ]
  },
  {
   "cell_type": "markdown",
   "metadata": {},
   "source": [
    "### Check derivative formula."
   ]
  },
  {
   "cell_type": "code",
   "execution_count": 101,
   "metadata": {
    "collapsed": true
   },
   "outputs": [],
   "source": [
    "ri1 = 1\n",
    "ri2 = 2\n",
    "ri3 = 3\n",
    "\n",
    "ci1 = 2\n",
    "ci2 = 3\n",
    "ci3 = 4\n",
    "\n",
    "rj1 = 4\n",
    "rj2 = 5\n",
    "rj3 = 6\n",
    "\n",
    "cj1 = 5\n",
    "cj2 = 6\n",
    "cj3 = 7\n",
    "\n",
    "ri_vec = np.array([[ri1],[ri2],[ri3]])\n",
    "ci_vec = np.array([[ci1],[ci2],[ci3]])\n",
    "rj_vec = np.array([[rj1],[rj2],[rj3]])\n",
    "cj_vec = np.array([[cj1],[cj2],[cj3]])\n",
    "\n",
    "sig = 1\n",
    "ls = 1"
   ]
  },
  {
   "cell_type": "code",
   "execution_count": 102,
   "metadata": {
    "collapsed": true
   },
   "outputs": [],
   "source": [
    "def get_k3_vec(ri, rj, sig, ls):\n",
    "    k3 = sig**2*np.exp(-np.sum((ri_vec-rj_vec)**2)/(2*sig**2))\n",
    "    return k3"
   ]
  },
  {
   "cell_type": "code",
   "execution_count": 103,
   "metadata": {
    "collapsed": true
   },
   "outputs": [],
   "source": [
    "def get_k3(ri1,ri2,ri3,rj1,rj2,rj3,sig,ls):\n",
    "    k3 = sig**2*np.exp(-((ri1-rj1)**2+(ri2-rj2)**2+(ri3-rj3)**2)/(2*sig**2))\n",
    "    return k3"
   ]
  },
  {
   "cell_type": "code",
   "execution_count": 104,
   "metadata": {
    "collapsed": true
   },
   "outputs": [],
   "source": [
    "def get_k3_math(ri1,ri2,ri3,rj1,rj2,rj3,sig,ls):\n",
    "    k3 = sig**2*math.exp(-((ri1-rj1)**2+(ri2-rj2)**2+(ri3-rj3)**2)/(2*ls**2))\n",
    "    return k3"
   ]
  },
  {
   "cell_type": "code",
   "execution_count": 105,
   "metadata": {},
   "outputs": [
    {
     "name": "stdout",
     "output_type": "stream",
     "text": [
      "7.083418369293213e-06\n"
     ]
    }
   ],
   "source": [
    "# test array function\n",
    "it = 100000\n",
    "times = []\n",
    "\n",
    "for n in range(it):\n",
    "    time1 = time.time()\n",
    "    test = get_k3_vec(ri_vec, rj_vec, sig, ls)\n",
    "    time2 = time.time()\n",
    "    times.append(time2-time1)\n",
    "print(np.mean(times))"
   ]
  },
  {
   "cell_type": "code",
   "execution_count": 106,
   "metadata": {},
   "outputs": [
    {
     "name": "stdout",
     "output_type": "stream",
     "text": [
      "2.6282382011413576e-06\n"
     ]
    }
   ],
   "source": [
    "# test np function\n",
    "it = 100000\n",
    "times = []\n",
    "\n",
    "for n in range(it):\n",
    "    time1 = time.time()\n",
    "    test = get_k3(ri1,ri2,ri3,rj1,rj2,rj3,sig,ls)\n",
    "    time2 = time.time()\n",
    "    times.append(time2-time1)\n",
    "print(np.mean(times))"
   ]
  },
  {
   "cell_type": "code",
   "execution_count": 107,
   "metadata": {},
   "outputs": [
    {
     "name": "stdout",
     "output_type": "stream",
     "text": [
      "1.9296956062316896e-06\n"
     ]
    }
   ],
   "source": [
    "# test math function\n",
    "it = 100000\n",
    "times = []\n",
    "\n",
    "for n in range(it):\n",
    "    time1 = time.time()\n",
    "    test = get_k3_math(ri1,ri2,ri3,rj1,rj2,rj3,sig,ls)\n",
    "    time2 = time.time()\n",
    "    times.append(time2-time1)\n",
    "print(np.mean(times))"
   ]
  },
  {
   "cell_type": "code",
   "execution_count": 108,
   "metadata": {},
   "outputs": [
    {
     "name": "stdout",
     "output_type": "stream",
     "text": [
      "3.36155891418457e-07\n"
     ]
    }
   ],
   "source": [
    "# test power function\n",
    "x = 2\n",
    "y = 3\n",
    "\n",
    "times = []\n",
    "for n in range(it):\n",
    "    time1 = time.time()\n",
    "    test = math.pow(2, 3)\n",
    "    time2 = time.time()\n",
    "    times.append(time2-time1)\n",
    "print(np.mean(times))"
   ]
  },
  {
   "cell_type": "code",
   "execution_count": 109,
   "metadata": {},
   "outputs": [
    {
     "name": "stdout",
     "output_type": "stream",
     "text": [
      "1.5333414077758789e-07\n"
     ]
    }
   ],
   "source": [
    "# test power function\n",
    "x = 2\n",
    "y = 3\n",
    "\n",
    "times = []\n",
    "for n in range(it):\n",
    "    time1 = time.time()\n",
    "    test = 2**3\n",
    "    time2 = time.time()\n",
    "    times.append(time2-time1)\n",
    "print(np.mean(times))"
   ]
  },
  {
   "cell_type": "code",
   "execution_count": 110,
   "metadata": {},
   "outputs": [
    {
     "data": {
      "text/plain": [
       "2.2029876708984376e-07"
      ]
     },
     "execution_count": 110,
     "metadata": {},
     "output_type": "execute_result"
    }
   ],
   "source": [
    "# test math exp\n",
    "times = []\n",
    "for n in range(1000):\n",
    "    time1 = time.time()\n",
    "    test = math.exp(2)\n",
    "    time2 = time.time()\n",
    "    time_diff = time2 - time1\n",
    "    times.append(time_diff)\n",
    "    \n",
    "np.mean(times)"
   ]
  },
  {
   "cell_type": "code",
   "execution_count": 111,
   "metadata": {},
   "outputs": [
    {
     "data": {
      "text/plain": [
       "1.2617111206054687e-06"
      ]
     },
     "execution_count": 111,
     "metadata": {},
     "output_type": "execute_result"
    }
   ],
   "source": [
    "# test np exp\n",
    "times = []\n",
    "for n in range(1000):\n",
    "    time1 = time.time()\n",
    "    test = np.exp(2)\n",
    "    time2 = time.time()\n",
    "    time_diff = time2 - time1\n",
    "    times.append(time_diff)\n",
    "    \n",
    "np.mean(times)"
   ]
  },
  {
   "cell_type": "code",
   "execution_count": 112,
   "metadata": {},
   "outputs": [
    {
     "data": {
      "text/plain": [
       "1.2826013565063478e-07"
      ]
     },
     "execution_count": 112,
     "metadata": {},
     "output_type": "execute_result"
    }
   ],
   "source": [
    "# test nothing\n",
    "times = []\n",
    "for n in range(1000000):\n",
    "    time1 = time.time()\n",
    "    time2 = time.time()\n",
    "    time_diff = time2 - time1\n",
    "    times.append(time_diff)\n",
    "    \n",
    "np.mean(times)"
   ]
  },
  {
   "cell_type": "code",
   "execution_count": 113,
   "metadata": {},
   "outputs": [
    {
     "data": {
      "text/plain": [
       "1.3772249221801758e-07"
      ]
     },
     "execution_count": 113,
     "metadata": {},
     "output_type": "execute_result"
    }
   ],
   "source": [
    "# test addition\n",
    "times = []\n",
    "for n in range(1000000):\n",
    "    time1 = time.time()\n",
    "    test = 1+1\n",
    "    time2 = time.time()\n",
    "    time_diff = time2 - time1\n",
    "    times.append(time_diff)\n",
    "    \n",
    "np.mean(times)"
   ]
  },
  {
   "cell_type": "code",
   "execution_count": 114,
   "metadata": {
    "collapsed": true
   },
   "outputs": [],
   "source": [
    "# define three-body derivative function\n",
    "def k3_derv(ri1,ri2,ri3,ci1,ci2,ci3,rj1,rj2,rj3,cj1,cj2,cj3,sig,ls):\n",
    "    k3 = get_k3_math(ri1,ri2,ri3,rj1,rj2,rj3,sig,ls)\n",
    "    fac1 = (ci1/ri1)*(cj1/rj1)+(ci2/ri2)*(cj2/rj2)+(ci3/ri3)*(cj3/rj3)\n",
    "    fac2 = (ri1-rj1)*(ci1/ri1)+(ri2-rj2)*(ci2/ri2)+(ri3-rj3)*(ci3/ri3)\n",
    "    fac3 = (ri1-rj1)*(cj1/rj1)+(ri2-rj2)*(cj2/rj2)+(ri3-rj3)*(cj3/rj3)\n",
    "    derv = (1/sig**4)*k3*(sig**2*fac1-fac2*fac3)\n",
    "    return derv"
   ]
  },
  {
   "cell_type": "code",
   "execution_count": 115,
   "metadata": {},
   "outputs": [
    {
     "data": {
      "text/plain": [
       "3.3971261978149415e-06"
      ]
     },
     "execution_count": 115,
     "metadata": {},
     "output_type": "execute_result"
    }
   ],
   "source": [
    "# test kernel derivative\n",
    "times = []\n",
    "for n in range(100000):\n",
    "    time1 = time.time()\n",
    "    test = k3_derv(ri1,ri2,ri3,ci1,ci2,ci3,rj1,rj2,rj3,cj1,cj2,cj3,sig,ls)\n",
    "    time2 = time.time()\n",
    "    time_diff = time2 - time1\n",
    "    times.append(time_diff)\n",
    "    \n",
    "np.mean(times)"
   ]
  },
  {
   "cell_type": "code",
   "execution_count": 116,
   "metadata": {},
   "outputs": [
    {
     "name": "stdout",
     "output_type": "stream",
     "text": [
      "-0.009306122227359713\n"
     ]
    },
    {
     "data": {
      "text/plain": [
       "5.953099727630615e-06"
      ]
     },
     "execution_count": 116,
     "metadata": {},
     "output_type": "execute_result"
    }
   ],
   "source": [
    "# test k3 derivative against mathematica\n",
    "x0=1\n",
    "y0=2\n",
    "z0=3\n",
    "xi1=4\n",
    "xi2=5\n",
    "xi3=6\n",
    "yi1=7\n",
    "yi2=8\n",
    "yi3=9\n",
    "zi1=1\n",
    "zi2=2\n",
    "zi3=3\n",
    "x0p=4\n",
    "y0p=5\n",
    "z0p=6\n",
    "xj1=7\n",
    "xj2=8\n",
    "xj3=9\n",
    "yj1=1\n",
    "yj2=2\n",
    "yj3=3\n",
    "zj1=4\n",
    "zj2=5\n",
    "zj3=6\n",
    "sig=1\n",
    "\n",
    "ri1 = np.sqrt((xi1-x0)**2+(yi1-y0)**2+(zi1-z0)**2)\n",
    "ri2 = np.sqrt((xi2-x0)**2+(yi2-y0)**2+(zi2-z0)**2)\n",
    "ri3 = np.sqrt((xi3-x0)**2+(yi3-y0)**2+(zi3-z0)**2)\n",
    "\n",
    "rj1 = np.sqrt((xj1-x0p)**2+(yj1-y0p)**2+(zj1-z0p)**2)\n",
    "rj2 = np.sqrt((xj2-x0p)**2+(yj2-y0p)**2+(zj2-z0p)**2)\n",
    "rj3 = np.sqrt((xj3-x0p)**2+(yj3-y0p)**2+(zj3-z0p)**2)\n",
    "\n",
    "ci1 = yi1-y0\n",
    "ci2 = yi2-y0\n",
    "ci3 = yi3-y0\n",
    "\n",
    "cj1 = xj1-x0p\n",
    "cj2 = xj2-x0p\n",
    "cj3 = xj3-x0p\n",
    "\n",
    "sig = 1\n",
    "ls = 1\n",
    "\n",
    "# test kernel derivative\n",
    "times = []\n",
    "for n in range(100000):\n",
    "    time1 = time.time()\n",
    "    test = k3_derv(ri1,ri2,ri3,ci1,ci2,ci3,rj1,rj2,rj3,cj1,cj2,cj3,sig,ls)\n",
    "    time2 = time.time()\n",
    "    time_diff = time2 - time1\n",
    "    times.append(time_diff)\n",
    "\n",
    "print(test)\n",
    "np.mean(times)"
   ]
  },
  {
   "cell_type": "code",
   "execution_count": 117,
   "metadata": {},
   "outputs": [
    {
     "data": {
      "text/plain": [
       "249.54278176304734"
      ]
     },
     "execution_count": 117,
     "metadata": {},
     "output_type": "execute_result"
    }
   ],
   "source": [
    "0.001487/5.958898067474365e-06"
   ]
  },
  {
   "cell_type": "markdown",
   "metadata": {},
   "source": [
    "### Develop efficient way to sum over permutation group."
   ]
  },
  {
   "cell_type": "code",
   "execution_count": 118,
   "metadata": {},
   "outputs": [
    {
     "data": {
      "text/plain": [
       "7.413220405578613e-07"
      ]
     },
     "execution_count": 118,
     "metadata": {},
     "output_type": "execute_result"
    }
   ],
   "source": [
    "# test list sort\n",
    "test1 = ['Si','C']\n",
    "test2 = ['C','Si']\n",
    "sorted(test1) == sorted(test2)\n",
    "\n",
    "times = []\n",
    "for n in range(100000):\n",
    "    time1 = time.time()\n",
    "    sorted(test1) == sorted(test2)\n",
    "    time2 = time.time()\n",
    "    time_diff = time2 - time1\n",
    "    times.append(time_diff)\n",
    "\n",
    "np.mean(times)"
   ]
  },
  {
   "cell_type": "code",
   "execution_count": 119,
   "metadata": {
    "collapsed": true
   },
   "outputs": [],
   "source": [
    "def perm_test(ti1,ti2,ti3,tj1,tj2,tj3):\n",
    "    if (sorted(ti1)==sorted(tj1)) and \\\n",
    "    (sorted(ti2)==sorted(tj2)) and \\\n",
    "    (sorted(ti3)==sorted(tj3)):\n",
    "        return True\n",
    "    else:\n",
    "        return False"
   ]
  },
  {
   "cell_type": "code",
   "execution_count": 120,
   "metadata": {},
   "outputs": [
    {
     "data": {
      "text/plain": [
       "1.818244457244873e-06"
      ]
     },
     "execution_count": 120,
     "metadata": {},
     "output_type": "execute_result"
    }
   ],
   "source": [
    "ti1 = ['Si','C']\n",
    "ti2 = ['Si','Si']\n",
    "ti3 = ['C','Si']\n",
    "\n",
    "tj1 = ['C','Si']\n",
    "tj2 = ['Si','Si']\n",
    "tj3 = ['Si','Si']\n",
    "\n",
    "# test perm test\n",
    "test1 = ['Si','C']\n",
    "test2 = ['C','Si']\n",
    "sorted(test1) == sorted(test2)\n",
    "\n",
    "times = []\n",
    "for n in range(100000):\n",
    "    time1 = time.time()\n",
    "    perm_test(ti1,ti2,ti3,tj1,tj2,tj3)\n",
    "    time2 = time.time()\n",
    "    time_diff = time2 - time1\n",
    "    times.append(time_diff)\n",
    "\n",
    "np.mean(times)"
   ]
  },
  {
   "cell_type": "code",
   "execution_count": 121,
   "metadata": {
    "collapsed": true
   },
   "outputs": [],
   "source": [
    "def perm_sum(ri1,ri2,ri3,ci1,ci2,ci3,ti1,ti2,ti3,\\\n",
    "             rj1,rj2,rj3,cj1,cj2,cj3,tj1,tj2,tj3,\\\n",
    "             sig,ls):\n",
    "    kern = 0\n",
    "    # sum over six permutations of second triplet\n",
    "    # 1,2,3\n",
    "    if perm_test(ti1,ti2,ti3,tj1,tj2,tj3):\n",
    "        kern+=k3_derv(ri1,ri2,ri3,ci1,ci2,ci3,rj1,rj2,rj3,cj1,cj2,cj3,sig,ls)\n",
    "    # 1,3,2\n",
    "    if perm_test(ti1,ti2,ti3,tj1,tj3,tj2):\n",
    "        kern+=k3_derv(ri1,ri2,ri3,ci1,ci2,ci3,rj1,rj3,rj2,cj1,cj3,cj2,sig,ls)\n",
    "    # 2,1,3\n",
    "    if perm_test(ti1,ti2,ti3,tj2,tj1,tj3):\n",
    "        kern+=k3_derv(ri1,ri2,ri3,ci1,ci2,ci3,rj2,rj1,rj3,cj2,cj1,cj3,sig,ls)\n",
    "    # 3,1,2\n",
    "    if perm_test(ti1,ti2,ti3,tj3,tj1,tj2):\n",
    "        kern+=k3_derv(ri1,ri2,ri3,ci1,ci2,ci3,rj3,rj1,rj2,cj3,cj1,cj2,sig,ls)\n",
    "    # 2,3,1\n",
    "    if perm_test(ti1,ti2,ti3,tj2,tj3,tj1):\n",
    "        kern+=k3_derv(ri1,ri2,ri3,ci1,ci2,ci3,rj2,rj3,rj1,cj2,cj3,cj1,sig,ls)\n",
    "    # 3,2,1\n",
    "    if perm_test(ti1,ti2,ti3,tj3,tj2,tj1):\n",
    "        kern+=k3_derv(ri1,ri2,ri3,ci1,ci2,ci3,rj3,rj2,rj1,cj3,cj2,cj1,sig,ls)\n",
    "    return kern"
   ]
  },
  {
   "cell_type": "code",
   "execution_count": 122,
   "metadata": {},
   "outputs": [
    {
     "name": "stdout",
     "output_type": "stream",
     "text": [
      "-1.4792437143746116e-21\n"
     ]
    },
    {
     "data": {
      "text/plain": [
       "3.0006508827209473e-05"
      ]
     },
     "execution_count": 122,
     "metadata": {},
     "output_type": "execute_result"
    }
   ],
   "source": [
    "# test perm sum\n",
    "ri1=1\n",
    "ri2=2\n",
    "ri3=3\n",
    "ci1=4\n",
    "ci2=5\n",
    "ci3=6\n",
    "ti1=['C','C']\n",
    "ti2=['C','C']\n",
    "ti3=['C','C']\n",
    "rj1=7\n",
    "rj2=8\n",
    "rj3=9\n",
    "cj1=1\n",
    "cj2=2\n",
    "cj3=3\n",
    "tj1=['C','C']\n",
    "tj2=['C','C']\n",
    "tj3=['C','C']\n",
    "sig=1\n",
    "ls=1\n",
    "\n",
    "times = []\n",
    "for n in range(100000):\n",
    "    time1 = time.time()\n",
    "    test=perm_sum(ri1,ri2,ri3,ci1,ci2,ci3,ti1,ti2,ti3,\\\n",
    "             rj1,rj2,rj3,cj1,cj2,cj3,tj1,tj2,tj3,\\\n",
    "             sig,ls)\n",
    "    time2 = time.time()\n",
    "    time_diff = time2 - time1\n",
    "    times.append(time_diff)\n",
    "\n",
    "print(test)\n",
    "np.mean(times)"
   ]
  },
  {
   "cell_type": "code",
   "execution_count": 123,
   "metadata": {
    "collapsed": true
   },
   "outputs": [],
   "source": [
    "test = {'label':{'test2':'hello','test3':[1,2,3,4,5]}}"
   ]
  },
  {
   "cell_type": "code",
   "execution_count": 124,
   "metadata": {},
   "outputs": [
    {
     "data": {
      "text/plain": [
       "[1, 2, 3, 4, 5]"
      ]
     },
     "execution_count": 124,
     "metadata": {},
     "output_type": "execute_result"
    }
   ],
   "source": [
    "test['label']['test3']"
   ]
  },
  {
   "cell_type": "markdown",
   "metadata": {},
   "source": [
    "### Develop new env data structure that includes array of distances."
   ]
  },
  {
   "cell_type": "code",
   "execution_count": 125,
   "metadata": {
    "collapsed": true
   },
   "outputs": [],
   "source": [
    "# given list of cartesian coordinates, get chemical environment of specified atom\n",
    "# pos = list of cartesian coordinates\n",
    "# typs = list of atom types\n",
    "def get_env(pos, typs, atom, brav_mat, brav_inv, vec1, vec2, vec3, cutoff):\n",
    "    env = [[],[[],[],[],[],[]]]\n",
    "    pos_atom = np.array(pos[atom]).reshape(3,1)\n",
    "    typ = typs[atom]\n",
    "    \n",
    "    # append central atom type\n",
    "    env[0].append(typ)\n",
    "    \n",
    "    # loop through positions to find all atoms and images in the neighborhood\n",
    "    for n in range(len(pos)):\n",
    "        # position relative to reference atom\n",
    "        diff_curr = np.array(pos[n]).reshape(3,1) - pos_atom\n",
    "\n",
    "        # get images within cutoff\n",
    "        vecs, dists = get_cutoff_vecs(diff_curr, brav_mat, \\\n",
    "            brav_inv, vec1, vec2, vec3, cutoff)\n",
    "\n",
    "        for vec, dist in zip(vecs, dists):\n",
    "            # ignore self interaction\n",
    "            if dist != 0:\n",
    "                # append distance\n",
    "                env[1][0].append(dist)\n",
    "                \n",
    "                # append coordinate differences\n",
    "                env[1][1].append(-vec[0][0])\n",
    "                env[1][2].append(-vec[1][0])\n",
    "                env[1][3].append(-vec[2][0])\n",
    "                \n",
    "                # append atom type\n",
    "                env[1][4].append(typs[n])\n",
    "\n",
    "    return env"
   ]
  },
  {
   "cell_type": "code",
   "execution_count": 126,
   "metadata": {
    "collapsed": true
   },
   "outputs": [],
   "source": [
    "# given list of cartesian coordinates, get chemical environment of specified atom\n",
    "# pos = list of cartesian coordinates\n",
    "# typs = list of atom types\n",
    "def get_env_struc(pos, typs, atom, brav_mat, brav_inv, vec1, vec2, vec3, cutoff):\n",
    "    pos_atom = np.array(pos[atom]).reshape(3,1)\n",
    "    typ = typs[atom]\n",
    "    env = {'central_atom':typ, 'dists':[],'xs':[],'ys':[],'zs':[],'types':[]}\n",
    "    \n",
    "    # loop through positions to find all atoms and images in the neighborhood\n",
    "    for n in range(len(pos)):\n",
    "        # position relative to reference atom\n",
    "        diff_curr = np.array(pos[n]).reshape(3,1) - pos_atom\n",
    "\n",
    "        # get images within cutoff\n",
    "        vecs, dists = get_cutoff_vecs(diff_curr, brav_mat, \\\n",
    "            brav_inv, vec1, vec2, vec3, cutoff)\n",
    "\n",
    "        for vec, dist in zip(vecs, dists):\n",
    "            # ignore self interaction\n",
    "            if dist != 0:\n",
    "                # append distance\n",
    "                env['dists'].append(dist)\n",
    "                \n",
    "                # append coordinate differences\n",
    "                env['xs'].append(vec[0][0])\n",
    "                env['ys'].append(vec[1][0])\n",
    "                env['zs'].append(vec[2][0])\n",
    "                \n",
    "                # append atom type\n",
    "                env['types'].append(typs[n])\n",
    "\n",
    "    return env"
   ]
  },
  {
   "cell_type": "code",
   "execution_count": 127,
   "metadata": {
    "collapsed": true
   },
   "outputs": [],
   "source": [
    "atom = 1\n",
    "test = get_env_struc(pos, typs, atom, brav_mat, brav_inv, vec1, vec2, vec3, cutoff)"
   ]
  },
  {
   "cell_type": "code",
   "execution_count": 128,
   "metadata": {
    "collapsed": true
   },
   "outputs": [],
   "source": [
    "ind1 = 0\n",
    "ind2 = 1\n",
    "\n",
    "c = test['central_atom']\n",
    "\n",
    "r1 = test['dists'][ind1]\n",
    "t1 = test['types'][ind1]\n",
    "x1 = test['xs'][ind1]\n",
    "y1 = test['ys'][ind1]\n",
    "z1 = test['zs'][ind1]\n",
    "\n",
    "r2 = test['dists'][ind2]\n",
    "t2 = test['types'][ind2]\n",
    "x2 = test['xs'][ind2]\n",
    "y2 = test['ys'][ind2]\n",
    "z2 = test['zs'][ind2]\n",
    "\n",
    "# calculate third distance\n",
    "r3 = np.sqrt((x1-x2)**2+(y1-y2)**2+(z1-z2)**2)\n",
    "\n",
    "# define unordered labels\n",
    "trip_labs_init = [c, t1, t2]\n",
    "trip_dists_init = [r1,r2,r3]\n",
    "trip_xs_init = [x1, x2, 0]\n",
    "trip_ys_init = [y1, y2, 0]\n",
    "trip_zs_init = [z1, z2, 0]\n",
    "\n",
    "# order the labels\n",
    "# all atoms the same\n",
    "if (c==t1) and (c==t2):\n",
    "    trip_type = 1\n",
    "# two alike, one different: put different atom first\n",
    "if (c==t1) and (c!=t2):\n",
    "    trip_type = 2\n",
    "    trip_labs = [t2,c,t1]\n",
    "    trip_dists = [r2,r3,r1]\n",
    "    trip_xs = [x2,0,x1]\n",
    "    trip_ys = [y2,0,y1]\n",
    "    trip_zs = [z2,0,z1]  \n",
    "if (c==t2) and (c!=t1):\n",
    "    trip_type = 2\n",
    "    trip_labs = [t1,t2,c]\n",
    "    trip_dists = [r3,r1,r2]\n",
    "    trip_xs = [0,x1,x2]\n",
    "    trip_ys = [0,y1,y2]\n",
    "    trip_zs = [0,z1,z2]\n",
    "if (t1==t2) and (c!=t1):\n",
    "    trip_type = 2\n",
    "# all atoms different: sort atom labels alphabetically\n",
    "if (c!=t1) and (c!=t2) and (t1!=t2):\n",
    "    trip_type = 3\n",
    "    inds = np.argsort(trip_labs)\n",
    "    # check all 6 possible orderings\n",
    "    if inds[0]==0 and inds[1]==1 and inds[2]==2:\n",
    "        pass\n",
    "    if inds[0]==0 and inds[1]==2 and inds[2]==1:\n",
    "        trip_labs = [c,t2,t1]\n",
    "        trip_dists = [r2,r1,r3]\n",
    "        trip_xs = [x2,x1,0]\n",
    "        trip_ys = [y2,y1,0]\n",
    "        trip_zs = [z2,z1,0]\n",
    "    if inds[0]==1 and inds[1]==0 and inds[2]==2:\n",
    "        trip_labs = [t1,c,t2]\n",
    "        trip_dists = [r1,r3,r2]\n",
    "        trip_xs = [x1,0,x2]\n",
    "        trip_ys = [y1,0,y2]\n",
    "        trip_zs = [z1,0,z2]\n",
    "    if inds[0]==1 and inds[1]==2 and inds[2]==0:\n",
    "        trip_labs = [t1,t2,c]\n",
    "        trip_dists = [r3,r1,r2]\n",
    "        trip_xs = [0,x1,x2]\n",
    "        trip_ys = [0,y1,y2]\n",
    "        trip_zs = [0,z1,z2]\n",
    "    if inds[0]==2 and inds[1]==0 and inds[2]==1:\n",
    "        trip_labs = [t2,c,t1]\n",
    "        trip_dists = [r2,r3,r1]\n",
    "        trip_xs = [x2,0,x1]\n",
    "        trip_ys = [y2,0,y1]\n",
    "        trip_zs = [z2,0,z1]\n",
    "    if inds[0]==2 and inds[1]==1 and inds[2]==0:\n",
    "        trip_labs = [t2,t1,c]\n",
    "        trip_dists = [r3,r2,r1]\n",
    "        trip_xs = [0,x2,x1]\n",
    "        trip_ys = [0,y2,y1]\n",
    "        trip_zs = [0,z2,z1]"
   ]
  },
  {
   "cell_type": "code",
   "execution_count": 129,
   "metadata": {},
   "outputs": [
    {
     "name": "stdout",
     "output_type": "stream",
     "text": [
      "['C', 'Si', 'Si']\n",
      "[1.9585744543984007, 1.6860527982322402, 3.0577115688525995]\n",
      "[-0.858030091, 0.961059953, 0]\n",
      "[-1.3834083060000004, 1.0658480969999997, 0]\n",
      "[-1.089026958, -0.8849325619999999, 0]\n"
     ]
    }
   ],
   "source": [
    "print(trip_labs_init)\n",
    "print(trip_dists_init)\n",
    "print(trip_xs_init)\n",
    "print(trip_ys_init)\n",
    "print(trip_zs_init)"
   ]
  },
  {
   "cell_type": "code",
   "execution_count": 132,
   "metadata": {
    "collapsed": true
   },
   "outputs": [],
   "source": [
    "# ordering convention: atoms (a,b,c) correspond to distances (ab, ac, bc)\n",
    "def order_triplet(c,r1,t1,x1,y1,z1,r2,t2,x2,y2,z2):\n",
    "    # calculate third distance\n",
    "    r3 = np.sqrt((x1-x2)**2+(y1-y2)**2+(z1-z2)**2)\n",
    "    \n",
    "    trip_labs_init = [c,t1,t2]\n",
    "\n",
    "    # order the labels\n",
    "    # all atoms the same\n",
    "    if (c==t1) and (c==t2):\n",
    "        trip_type = 1\n",
    "        trip_labs = [c,t1,t2]\n",
    "        trip_dists = [r1,r2,r3]\n",
    "        trip_xs = [x1,x2,0]\n",
    "        trip_ys = [y1,y2,0]\n",
    "        trip_zs = [z1,z2,0]  \n",
    "    # two alike, one different: put different atom first\n",
    "    if (c==t1) and (c!=t2):\n",
    "        trip_type = 2\n",
    "        trip_labs = [t2,c,t1]\n",
    "        trip_dists = [r2,r3,r1]\n",
    "        trip_xs = [x2,0,x1]\n",
    "        trip_ys = [y2,0,y1]\n",
    "        trip_zs = [z2,0,z1]  \n",
    "    if (c==t2) and (c!=t1):\n",
    "        trip_type = 2\n",
    "        trip_labs = [t1,t2,c]\n",
    "        trip_dists = [r3,r1,r2]\n",
    "        trip_xs = [0,x1,x2]\n",
    "        trip_ys = [0,y1,y2]\n",
    "        trip_zs = [0,z1,z2]\n",
    "    if (t1==t2) and (c!=t1):\n",
    "        trip_type = 2\n",
    "        trip_labs = [c,t1,t2]\n",
    "        trip_dists = [r1,r2,r3]\n",
    "        trip_xs = [x1,x2,0]\n",
    "        trip_ys = [y1,y2,0]\n",
    "        trip_zs = [z1,z2,0] \n",
    "    # all atoms different: sort atom labels alphabetically\n",
    "    if (c!=t1) and (c!=t2) and (t1!=t2):\n",
    "        trip_type = 3\n",
    "        inds = np.argsort(trip_labs_init)\n",
    "        # check all 6 possible orderings\n",
    "        if inds[0]==0 and inds[1]==1 and inds[2]==2:\n",
    "            trip_labs = [c,t1,t2]\n",
    "            trip_dists = [r1,r2,r3]\n",
    "            trip_xs = [x1,x2,0]\n",
    "            trip_ys = [y1,y2,0]\n",
    "            trip_zs = [z1,z2,0] \n",
    "        if inds[0]==0 and inds[1]==2 and inds[2]==1:\n",
    "            trip_labs = [c,t2,t1]\n",
    "            trip_dists = [r2,r1,r3]\n",
    "            trip_xs = [x2,x1,0]\n",
    "            trip_ys = [y2,y1,0]\n",
    "            trip_zs = [z2,z1,0]\n",
    "        if inds[0]==1 and inds[1]==0 and inds[2]==2:\n",
    "            trip_labs = [t1,c,t2]\n",
    "            trip_dists = [r1,r3,r2]\n",
    "            trip_xs = [x1,0,x2]\n",
    "            trip_ys = [y1,0,y2]\n",
    "            trip_zs = [z1,0,z2]\n",
    "        if inds[0]==1 and inds[1]==2 and inds[2]==0:\n",
    "            trip_labs = [t1,t2,c]\n",
    "            trip_dists = [r3,r1,r2]\n",
    "            trip_xs = [0,x1,x2]\n",
    "            trip_ys = [0,y1,y2]\n",
    "            trip_zs = [0,z1,z2]\n",
    "        if inds[0]==2 and inds[1]==0 and inds[2]==1:\n",
    "            trip_labs = [t2,c,t1]\n",
    "            trip_dists = [r2,r3,r1]\n",
    "            trip_xs = [x2,0,x1]\n",
    "            trip_ys = [y2,0,y1]\n",
    "            trip_zs = [z2,0,z1]\n",
    "        if inds[0]==2 and inds[1]==1 and inds[2]==0:\n",
    "            trip_labs = [t2,t1,c]\n",
    "            trip_dists = [r3,r2,r1]\n",
    "            trip_xs = [0,x2,x1]\n",
    "            trip_ys = [0,y2,y1]\n",
    "            trip_zs = [0,z2,z1]\n",
    "            \n",
    "    return trip_type, trip_labs, trip_dists, trip_xs, trip_ys, trip_zs"
   ]
  },
  {
   "cell_type": "code",
   "execution_count": 133,
   "metadata": {},
   "outputs": [
    {
     "name": "stdout",
     "output_type": "stream",
     "text": [
      "unordered:\n",
      "['c', 'c', 'c']\n",
      "[3.7416573867739413, 8.774964387392123, 5.196152422706632]\n",
      "[1, 4, 0]\n",
      "[2, 5, 0]\n",
      "[3, 6, 0]\n",
      "ordered:\n",
      "['c', 'c', 'c']\n",
      "[3.7416573867739413, 8.774964387392123, 5.196152422706632]\n",
      "[1, 4, 0]\n",
      "[2, 5, 0]\n",
      "[3, 6, 0]\n",
      "1\n"
     ]
    }
   ],
   "source": [
    "# test triplet ordering function\n",
    "c = 'c'\n",
    "\n",
    "t1 = 'c'\n",
    "x1 = 1\n",
    "y1 = 2\n",
    "z1 = 3\n",
    "r1 = np.sqrt(x1**2+y1**2+z1**2)\n",
    "\n",
    "t2 = 'c'\n",
    "x2 = 4\n",
    "y2 = 5\n",
    "z2 = 6\n",
    "r2 = np.sqrt(x2**2+y2**2+z2**2)\n",
    "\n",
    "r3 = np.sqrt((x1-x2)**2+(y1-y2)**2+(z1-z2)**2)\n",
    "\n",
    "trip_type, trip_labs, trip_dists, trip_xs, trip_ys, trip_zs = order_triplet(c,r1,t1,x1,y1,z1,r2,t2,x2,y2,z2)\n",
    "\n",
    "print('unordered:')\n",
    "print([c,t1,t2])\n",
    "print([r1,r2,r3])\n",
    "print([x1,x2,0])\n",
    "print([y1,y2,0])\n",
    "print([z1,z2,0])\n",
    "\n",
    "print('ordered:')\n",
    "print(trip_labs)\n",
    "print(trip_dists)\n",
    "print(trip_xs)\n",
    "print(trip_ys)\n",
    "print(trip_zs)\n",
    "print(trip_type)"
   ]
  },
  {
   "cell_type": "code",
   "execution_count": 134,
   "metadata": {},
   "outputs": [
    {
     "data": {
      "text/plain": [
       "dict_keys(['central_atom', 'dists', 'xs', 'ys', 'zs', 'types'])"
      ]
     },
     "execution_count": 134,
     "metadata": {},
     "output_type": "execute_result"
    }
   ],
   "source": [
    "test.keys()"
   ]
  },
  {
   "cell_type": "code",
   "execution_count": 137,
   "metadata": {
    "collapsed": true
   },
   "outputs": [],
   "source": [
    "# create triplet dictionary from 2-body dictionary\n",
    "def get_trip_dict(tb_dict):\n",
    "    trip_dict = {'typs':[],'labs':[],'dists':[],'xs':[],'ys':[],'zs':[]}\n",
    "\n",
    "\n",
    "    # pull relevant information from 2-body dictionary\n",
    "    dist_no = len(tb_dict['dists'])\n",
    "    c = tb_dict['central_atom']\n",
    "    dists = tb_dict['dists']\n",
    "    xs = tb_dict['xs']\n",
    "    ys = tb_dict['ys']\n",
    "    zs = tb_dict['zs']\n",
    "    types = tb_dict['types']\n",
    "\n",
    "    for m in range(dist_no):\n",
    "        r1 = dists[m]\n",
    "        t1 = types[m]\n",
    "        x1 = xs[m]\n",
    "        y1 = ys[m]\n",
    "        z1 = zs[m]\n",
    "        for n in range(m,dist_no):\n",
    "            r2 = dists[n]\n",
    "            t2 = types[n]\n",
    "            x2 = xs[n]\n",
    "            y2 = ys[n]\n",
    "            z2 = zs[n]\n",
    "\n",
    "            trip_type, trip_labs, trip_dists, trip_xs, trip_ys, trip_zs = order_triplet(c,r1,t1,x1,y1,z1,r2,t2,x2,y2,z2)\n",
    "\n",
    "            # triplet already in dictionary:\n",
    "            if trip_labs in trip_dict['labs']:\n",
    "                lab_ind = trip_dict['labs'].index(trip_labs)\n",
    "                trip_dict['dists'][lab_ind].append(trip_dists)\n",
    "                trip_dict['xs'][lab_ind].append(trip_xs)\n",
    "                trip_dict['ys'][lab_ind].append(trip_ys)\n",
    "                trip_dict['zs'][lab_ind].append(trip_zs)\n",
    "            # or else it needs to be appended:\n",
    "            else:\n",
    "                trip_dict['typs'].append(trip_type)\n",
    "                trip_dict['labs'].append(trip_labs)\n",
    "                trip_dict['dists'].append([trip_dists])\n",
    "                trip_dict['xs'].append([trip_xs])\n",
    "                trip_dict['ys'].append([trip_ys])\n",
    "                trip_dict['zs'].append([trip_zs])\n",
    "                \n",
    "    return trip_dict"
   ]
  },
  {
   "cell_type": "code",
   "execution_count": 141,
   "metadata": {
    "collapsed": true
   },
   "outputs": [],
   "source": [
    "trip_dict = get_trip_dict(test)"
   ]
  },
  {
   "cell_type": "code",
   "execution_count": 144,
   "metadata": {},
   "outputs": [
    {
     "data": {
      "text/plain": [
       "dict_keys(['typs', 'labs', 'dists', 'xs', 'ys', 'zs'])"
      ]
     },
     "execution_count": 144,
     "metadata": {},
     "output_type": "execute_result"
    }
   ],
   "source": [
    "trip_dict.keys()"
   ]
  },
  {
   "cell_type": "code",
   "execution_count": 147,
   "metadata": {},
   "outputs": [
    {
     "data": {
      "text/plain": [
       "[['C', 'Si', 'Si'], ['Si', 'C', 'C'], ['C', 'C', 'C']]"
      ]
     },
     "execution_count": 147,
     "metadata": {},
     "output_type": "execute_result"
    }
   ],
   "source": [
    "trip_dict['xs']"
   ]
  },
  {
   "cell_type": "markdown",
   "metadata": {},
   "source": [
    "### Write kernel function for type 1 triplet (three atoms of the same kind)."
   ]
  },
  {
   "cell_type": "code",
   "execution_count": 14,
   "metadata": {
    "collapsed": true
   },
   "outputs": [],
   "source": [
    "def get_k3_math(ri1,ri2,ri3,rj1,rj2,rj3,sig,ls):\n",
    "    k3 = sig**2*math.exp(-((ri1-rj1)**2+(ri2-rj2)**2+(ri3-rj3)**2)/(2*ls**2))\n",
    "    return k3\n",
    "\n",
    "# define three-body derivative function\n",
    "def k3_derv(ri1,ri2,ri3,ci1,ci2,ci3,rj1,rj2,rj3,cj1,cj2,cj3,sig,ls):\n",
    "    k3 = get_k3_math(ri1,ri2,ri3,rj1,rj2,rj3,sig,ls)\n",
    "    fac1 = (ci1/ri1)*(cj1/rj1)+(ci2/ri2)*(cj2/rj2)+(ci3/ri3)*(cj3/rj3)\n",
    "    fac2 = (ri1-rj1)*(ci1/ri1)+(ri2-rj2)*(ci2/ri2)+(ri3-rj3)*(ci3/ri3)\n",
    "    fac3 = (ri1-rj1)*(cj1/rj1)+(ri2-rj2)*(cj2/rj2)+(ri3-rj3)*(cj3/rj3)\n",
    "    derv = (1/ls**4)*k3*(ls**2*fac1-fac2*fac3)\n",
    "    return derv\n",
    "\n",
    "# define three-body derivative function\n",
    "def k3_toy(ri1,ri2,ri3,ci1,ci2,ci3,rj1,rj2,rj3,cj1,cj2,cj3,sig,ls):\n",
    "    derv = (sig**2/ls**4)*math.exp(-((ri1-rj1)**2+(ri2-rj2)**2+(ri3-rj3)**2)/(2*ls**2))*\\\n",
    "    (ls**2*(ci1*cj1+ci2*cj2+ci3*cj3)-\\\n",
    "     ((ri1-rj1)*ci1+(ri2-rj2)*ci2+(ri3-rj3)*ci3)*\\\n",
    "     ((ri1-rj1)*cj1+(ri2-rj2)*cj2+(ri3-rj3)*cj3))\n",
    "    return derv\n",
    "\n",
    "# define three-body derivative function\n",
    "def k3_toy_2(ri1,ri2,ri3,ci1,ci2,ci3,rj1,rj2,rj3,cj1,cj2,cj3,d,e,f):\n",
    "    a = ri1-rj1\n",
    "    b = ri2-rj2\n",
    "    c = ri3-rj3\n",
    "    derv = d*math.exp(-f*(a**2+b**2+c**2))*(e*(ci1*cj1+ci2*cj2+ci3*cj3)-(a*ci1+b*ci2+c*ci3)*(a*cj1+b*cj2+c*cj3))\n",
    "    return derv\n",
    "\n",
    "# define three-body derivative function\n",
    "def k3_toy_3(ri1,ri2,ri3,ci1,ci2,ci3,rj1,rj2,rj3,cj1,cj2,cj3,d,e,f):\n",
    "    a = ri1-rj1\n",
    "    b = ri2-rj2\n",
    "    c = ri3-rj3\n",
    "    derv = (e*(ci1*cj1+ci2*cj2+ci3*cj3)-(a*ci1+b*ci2+c*ci3)*(a*cj1+b*cj2+c*cj3))*d*math.exp(-f*(a*a+b*b+c*c))\n",
    "    return derv"
   ]
  },
  {
   "cell_type": "code",
   "execution_count": 192,
   "metadata": {
    "collapsed": true
   },
   "outputs": [],
   "source": [
    "# trip type 1: all atoms the same\n",
    "# slow version\n",
    "def k3dt1_slow(ri1,ri2,ri3,ci1,ci2,ci3,\\\n",
    "             rj1,rj2,rj3,cj1,cj2,cj3,\\\n",
    "             d,e,f):\n",
    "    kern = 0\n",
    "    # sum over six permutations of second triplet\n",
    "    kern+=k3_toy_3(ri1,ri2,ri3,ci1,ci2,ci3,rj1,rj2,rj3,cj1,cj2,cj3,d,e,f)\n",
    "    kern+=k3_toy_3(ri1,ri2,ri3,ci1,ci2,ci3,rj1,rj3,rj2,cj1,cj3,cj2,d,e,f)\n",
    "    kern+=k3_toy_3(ri1,ri2,ri3,ci1,ci2,ci3,rj2,rj1,rj3,cj2,cj1,cj3,d,e,f)\n",
    "    kern+=k3_toy_3(ri1,ri2,ri3,ci1,ci2,ci3,rj3,rj1,rj2,cj3,cj1,cj2,d,e,f)\n",
    "    kern+=k3_toy_3(ri1,ri2,ri3,ci1,ci2,ci3,rj2,rj3,rj1,cj2,cj3,cj1,d,e,f)\n",
    "    kern+=k3_toy_3(ri1,ri2,ri3,ci1,ci2,ci3,rj3,rj2,rj1,cj3,cj2,cj1,d,e,f)\n",
    "    \n",
    "    return kern"
   ]
  },
  {
   "cell_type": "code",
   "execution_count": 191,
   "metadata": {
    "collapsed": true
   },
   "outputs": [],
   "source": [
    "# trip type 1: all atoms the same\n",
    "def k3dt1(ri1,ri2,ri3,ci1,ci2,ci3,\\\n",
    "             rj1,rj2,rj3,cj1,cj2,cj3,\\\n",
    "             d,e,f):\n",
    "    \n",
    "    # define quantities that will reappear\n",
    "    rsum = ri1*ri1+ri2*ri2+ri3*ri3+rj1*rj1+rj2*rj2+rj3*rj3\n",
    "    \n",
    "    r11 = ri1-rj1\n",
    "    r12 = ri1-rj2\n",
    "    r13 = ri1-rj3\n",
    "    r21 = ri2-rj1\n",
    "    r22 = ri2-rj2\n",
    "    r23 = ri2-rj3\n",
    "    r31 = ri3-rj1\n",
    "    r32 = ri3-rj2\n",
    "    r33 = ri3-rj3\n",
    "    \n",
    "    rr11 = ri1*rj1\n",
    "    rr12 = ri1*rj2\n",
    "    rr13 = ri1*rj3\n",
    "    rr21 = ri2*rj1\n",
    "    rr22 = ri2*rj2\n",
    "    rr23 = ri2*rj3\n",
    "    rr31 = ri3*rj1\n",
    "    rr32 = ri3*rj2\n",
    "    rr33 = ri3*rj3\n",
    "    \n",
    "    cc11 = ci1*cj1\n",
    "    cc12 = ci1*cj2\n",
    "    cc13 = ci1*cj3\n",
    "    cc21 = ci2*cj1\n",
    "    cc22 = ci2*cj2\n",
    "    cc23 = ci2*cj3\n",
    "    cc31 = ci3*cj1\n",
    "    cc32 = ci3*cj2\n",
    "    cc33 = ci3*cj3\n",
    "    \n",
    "    rci11 = r11*ci1\n",
    "    rci12 = r12*ci1\n",
    "    rci13 = r13*ci1\n",
    "    rci21 = r21*ci2\n",
    "    rci22 = r22*ci2\n",
    "    rci23 = r23*ci2\n",
    "    rci31 = r31*ci3\n",
    "    rci32 = r32*ci3\n",
    "    rci33 = r33*ci3\n",
    "    \n",
    "    rcj11 = r11*cj1\n",
    "    rcj12 = r12*cj2\n",
    "    rcj13 = r13*cj3\n",
    "    rcj21 = r21*cj1\n",
    "    rcj22 = r22*cj2\n",
    "    rcj23 = r23*cj3\n",
    "    rcj31 = r31*cj1\n",
    "    rcj32 = r32*cj2\n",
    "    rcj33 = r33*cj3\n",
    "    \n",
    "    # sum over six permutations\n",
    "    derv = d*math.exp(-f*rsum)*\\\n",
    "        ((math.exp(2*f*(rr11+rr22+rr33))*(e*(cc11+cc22+cc33)-(rci11+rci22+rci33)*(rcj11+rcj22+rcj33)))+\n",
    "        (math.exp(2*f*(rr11+rr23+rr32))*(e*(cc11+cc23+cc32)-(rci11+rci23+rci32)*(rcj11+rcj23+rcj32)))+\n",
    "        (math.exp(2*f*(rr12+rr21+rr33))*(e*(cc12+cc21+cc33)-(rci12+rci21+rci33)*(rcj12+rcj21+rcj33)))+\n",
    "        (math.exp(2*f*(rr12+rr23+rr31))*(e*(cc12+cc23+cc31)-(rci12+rci23+rci31)*(rcj12+rcj23+rcj31)))+\n",
    "        (math.exp(2*f*(rr13+rr21+rr32))*(e*(cc13+cc21+cc32)-(rci13+rci21+rci32)*(rcj13+rcj21+rcj32)))+\n",
    "        (math.exp(2*f*(rr13+rr22+rr31))*(e*(cc13+cc22+cc31)-(rci13+rci22+rci31)*(rcj13+rcj22+rcj31))))\n",
    "\n",
    "    return derv"
   ]
  },
  {
   "cell_type": "code",
   "execution_count": 92,
   "metadata": {
    "collapsed": true
   },
   "outputs": [],
   "source": [
    "# trip type 1: all atoms the same\n",
    "def k3dt1_mat(ri,ci,rj,cj,d,e,f,risum,rjsum):\n",
    "    \n",
    "    # define quantities that will reappear\n",
    "    rsum = risum+rjsum\n",
    "    \n",
    "    r = ri-rj\n",
    "    rr = ri*rj\n",
    "    cc = ci*cj\n",
    "    rci = r*ci\n",
    "    rcj = r*cj\n",
    "    \n",
    "    # sum over six permutations\n",
    "    derv = d*math.exp(-f*rsum)*\\\n",
    "        ((math.exp(2*f*(rr[0,0]+rr[1,1]+rr[2,2]))*(e*(cc[0,0]+cc[1,1]+cc[2,2])-(rci[0,0]+rci[1,1]+rci[2,2])*(rcj[0,0]+rcj[1,1]+rcj[2,2])))+\n",
    "        (math.exp(2*f*(rr[0,0]+rr[1,2]+rr[2,1]))*(e*(cc[0,0]+cc[1,2]+cc[2,1])-(rci[0,0]+rci[1,2]+rci[2,1])*(rcj[0,0]+rcj[1,2]+rcj[2,1])))+\n",
    "        (math.exp(2*f*(rr[0,1]+rr[1,0]+rr[2,2]))*(e*(cc[0,1]+cc[1,0]+cc[2,2])-(rci[0,1]+rci[1,0]+rci[2,2])*(rcj[0,1]+rcj[1,0]+rcj[2,2])))+\n",
    "        (math.exp(2*f*(rr[0,1]+rr[1,2]+rr[2,0]))*(e*(cc[0,1]+cc[1,2]+cc[2,0])-(rci[0,1]+rci[1,2]+rci[2,0])*(rcj[0,1]+rcj[1,2]+rcj[2,0])))+\n",
    "        (math.exp(2*f*(rr[0,2]+rr[1,0]+rr[2,1]))*(e*(cc[0,2]+cc[1,0]+cc[2,1])-(rci[0,2]+rci[1,0]+rci[2,1])*(rcj[0,2]+rcj[1,0]+rcj[2,1])))+\n",
    "        (math.exp(2*f*(rr[0,2]+rr[1,1]+rr[2,0]))*(e*(cc[0,2]+cc[1,1]+cc[2,0])-(rci[0,2]+rci[1,1]+rci[2,0])*(rcj[0,2]+rcj[1,1]+rcj[2,0]))))\n",
    "\n",
    "    return derv"
   ]
  },
  {
   "cell_type": "markdown",
   "metadata": {},
   "source": [
    "### Write kernel function for type 2 triplet (two different atoms in the triplet)"
   ]
  },
  {
   "cell_type": "code",
   "execution_count": 152,
   "metadata": {
    "collapsed": true
   },
   "outputs": [],
   "source": [
    "# trip type 1: all atoms the same\n",
    "# slow version\n",
    "def k3dt2_slow(ri1,ri2,ri3,ci1,ci2,ci3,\\\n",
    "             rj1,rj2,rj3,cj1,cj2,cj3,\\\n",
    "             d,e,f):\n",
    "    kern = 0\n",
    "    # sum over six permutations of second triplet\n",
    "    kern+=k3_toy_3(ri1,ri2,ri3,ci1,ci2,ci3,rj1,rj2,rj3,cj1,cj2,cj3,d,e,f)\n",
    "    kern+=k3_toy_3(ri1,ri2,ri3,ci1,ci2,ci3,rj2,rj1,rj3,cj2,cj1,cj3,d,e,f)\n",
    "    \n",
    "    return kern"
   ]
  },
  {
   "cell_type": "code",
   "execution_count": 187,
   "metadata": {
    "collapsed": true
   },
   "outputs": [],
   "source": [
    "# triplet type 2: two different atoms\n",
    "def k3dt2(ri1,ri2,ri3,ci1,ci2,ci3,\\\n",
    "             rj1,rj2,rj3,cj1,cj2,cj3,\\\n",
    "             d,e,f):\n",
    "    \n",
    "    # define quantities that will reappear\n",
    "    rsum = ri1*ri1+ri2*ri2+ri3*ri3+rj1*rj1+rj2*rj2+rj3*rj3\n",
    "    \n",
    "    r11 = ri1-rj1\n",
    "    r12 = ri1-rj2\n",
    "    r21 = ri2-rj1\n",
    "    r22 = ri2-rj2\n",
    "    \n",
    "    r33 = ri3-rj3\n",
    "    rr33 = ri3*rj3\n",
    "    cc33 = ci3*cj3\n",
    "    rci33 = r33*ci3\n",
    "    rcj33 = r33*cj3\n",
    "    \n",
    "    # sum over permutations\n",
    "    derv = d*math.exp(-f*rsum)*\\\n",
    "        ((math.exp(2*f*(ri1*rj1+ri2*rj2+rr33))*(e*(ci1*cj1+ci2*cj2+cc33)-(r11*ci1+r22*ci2+rci33)*(r11*cj1+r22*cj2+rcj33)))+\\\n",
    "        (math.exp(2*f*(ri1*rj2+ri2*rj1+rr33))*(e*(ci1*cj2+ci2*cj1+cc33)-(r12*ci1+r21*ci2+rci33)*(r12*cj2+r21*cj1+rcj33))))\n",
    "\n",
    "    return derv"
   ]
  },
  {
   "cell_type": "code",
   "execution_count": 173,
   "metadata": {},
   "outputs": [
    {
     "data": {
      "text/plain": [
       "-6"
      ]
     },
     "execution_count": 173,
     "metadata": {},
     "output_type": "execute_result"
    }
   ],
   "source": [
    "r11"
   ]
  },
  {
   "cell_type": "markdown",
   "metadata": {},
   "source": [
    "### Write kernel function for type 3 triplet."
   ]
  },
  {
   "cell_type": "code",
   "execution_count": 189,
   "metadata": {
    "collapsed": true
   },
   "outputs": [],
   "source": [
    "# triplet type 2: two different atoms\n",
    "def k3dt3(ri1,ri2,ri3,ci1,ci2,ci3,\\\n",
    "             rj1,rj2,rj3,cj1,cj2,cj3,\\\n",
    "             d,e,f):\n",
    "    \n",
    "    r1 = ri1-rj1\n",
    "    r2 = ri2-rj2\n",
    "    r3 = ri3-rj3\n",
    "    derv = (e*(ci1*cj1+ci2*cj2+ci3*cj3)-(r1*ci1+r2*ci2+r3*ci3)*(r1*cj1+r2*cj2+r3*cj3))*d*math.exp(-f*(r1*r1+r2*r2+r3*r3))\n",
    "\n",
    "    return derv"
   ]
  },
  {
   "cell_type": "markdown",
   "metadata": {},
   "source": [
    "### Gather helper functions."
   ]
  },
  {
   "cell_type": "markdown",
   "metadata": {},
   "source": [
    "#### Environment helper functions."
   ]
  },
  {
   "cell_type": "code",
   "execution_count": 3,
   "metadata": {
    "collapsed": true
   },
   "outputs": [],
   "source": [
    "# given list of Cartesian coordinates, return list of atomic environments\n",
    "def get_cutoff_vecs(vec, brav_mat, brav_inv, vec1, vec2, vec3, cutoff):\n",
    "    # get bravais coefficients\n",
    "    coeff = np.matmul(brav_inv, vec)\n",
    "    \n",
    "    # get bravais coefficients for atoms within one super-super-cell\n",
    "    coeffs = [[],[],[]]\n",
    "    for n in range(3):\n",
    "        coeffs[n].append(coeff[n])\n",
    "        coeffs[n].append(coeff[n]-1)\n",
    "        coeffs[n].append(coeff[n]+1)\n",
    "        coeffs[n].append(coeff[n]-2)\n",
    "        coeffs[n].append(coeff[n]+2)\n",
    "\n",
    "    # get vectors within cutoff\n",
    "    vecs = []\n",
    "    dists = []\n",
    "    for m in range(len(coeffs[0])):\n",
    "        for n in range(len(coeffs[1])):\n",
    "            for p in range(len(coeffs[2])):\n",
    "                vec_curr = coeffs[0][m]*vec1 + coeffs[1][n]*vec2 + coeffs[2][p]*vec3\n",
    "                \n",
    "                dist = np.linalg.norm(vec_curr)\n",
    "\n",
    "                if dist < cutoff:\n",
    "                    vecs.append(vec_curr)\n",
    "                    dists.append(dist)\n",
    "                    \n",
    "    return vecs, dists\n",
    "\n",
    "# ordering convention: atoms (a,b,c) correspond to distances (ab, ac, bc)\n",
    "def order_triplet(c,r1,t1,x1,y1,z1,r2,t2,x2,y2,z2):\n",
    "    # calculate third distance\n",
    "    r3 = np.sqrt((x1-x2)**2+(y1-y2)**2+(z1-z2)**2)\n",
    "    \n",
    "    labs_init = [c,t1,t2]\n",
    "    dists_init = [r1,r2,r3]\n",
    "    xs_init = [x1,x2,0]\n",
    "    ys_init = [y1,y2,0]\n",
    "    zs_init = [z1,z2,0]\n",
    "    xrel_init = [x1/r1,x2/r2,0]\n",
    "    yrel_init = [y1/r1,y2/r2,0]\n",
    "    zrel_init = [z1/r1,z2/r2,0]\n",
    "    \n",
    "    # order the labels\n",
    "    # all atoms the same\n",
    "    if (c==t1) and (c==t2):\n",
    "        trip_type = 1\n",
    "        atom_order = [0,1,2]\n",
    "        dist_order = [0,1,2]\n",
    "    # two alike, one different: put different atom first\n",
    "    if (c==t1) and (c!=t2):\n",
    "        trip_type = 2\n",
    "        atom_order = [2,0,1]\n",
    "        dist_order = [1,2,0]\n",
    "    if (c==t2) and (c!=t1):\n",
    "        trip_type = 2\n",
    "        atom_order = [1,2,0]\n",
    "        dist_order = [2,0,1]\n",
    "    if (t1==t2) and (c!=t1):\n",
    "        trip_type = 2\n",
    "        atom_order = [0,1,2]\n",
    "        dist_order = [0,1,2]\n",
    "    # all atoms different: sort atom labels alphabetically\n",
    "    if (c!=t1) and (c!=t2) and (t1!=t2):\n",
    "        trip_type = 3\n",
    "        atom_order = list(np.argsort(labs_init))\n",
    "        # check all 6 possible orderings\n",
    "        if inds[0]==0 and inds[1]==1 and inds[2]==2:\n",
    "            dist_order = [0,1,2]\n",
    "        if inds[0]==0 and inds[1]==2 and inds[2]==1:\n",
    "            dist_order = [1,0,2]\n",
    "        if inds[0]==1 and inds[1]==0 and inds[2]==2:\n",
    "            dist_order = [0,2,1]\n",
    "        if inds[0]==1 and inds[1]==2 and inds[2]==0:\n",
    "            dist_order = [2,0,1]\n",
    "        if inds[0]==2 and inds[1]==0 and inds[2]==1:\n",
    "            dist_order = [1,2,0]\n",
    "        if inds[0]==2 and inds[1]==1 and inds[2]==0:\n",
    "            dist_order = [2,1,0]\n",
    "            \n",
    "    trip_labs = [labs_init[n] for n in atom_order]\n",
    "    trip_dists = [dists_init[n] for n in dist_order]\n",
    "    trip_xs = [xs_init[n] for n in dist_order]\n",
    "    trip_ys = [ys_init[n] for n in dist_order]\n",
    "    trip_zs = [zs_init[n] for n in dist_order]\n",
    "    trip_xrel = [xrel_init[n] for n in dist_order]\n",
    "    trip_yrel = [yrel_init[n] for n in dist_order]\n",
    "    trip_zrel = [zrel_init[n] for n in dist_order]\n",
    "    \n",
    "    return trip_type, trip_labs, trip_dists, trip_xs, trip_ys, trip_zs, trip_xrel, trip_yrel, trip_zrel\n",
    "\n",
    "# create triplet dictionary from 2-body dictionary\n",
    "def get_trip_dict(tb_dict):\n",
    "    trip_dict = {'typs':[],'labs':[],'dists':[],'xs':[],'ys':[],'zs':[], 'xrel':[], 'yrel':[],'zrel':[]}\n",
    "\n",
    "\n",
    "    # pull relevant information from 2-body dictionary\n",
    "    dist_no = len(tb_dict['dists'])\n",
    "    c = tb_dict['central_atom']\n",
    "    dists = tb_dict['dists']\n",
    "    xs = tb_dict['xs']\n",
    "    ys = tb_dict['ys']\n",
    "    zs = tb_dict['zs']\n",
    "    types = tb_dict['types']\n",
    "\n",
    "    for m in range(dist_no):\n",
    "        r1 = dists[m]\n",
    "        t1 = types[m]\n",
    "        x1 = xs[m]\n",
    "        y1 = ys[m]\n",
    "        z1 = zs[m]\n",
    "        for n in range(m,dist_no):\n",
    "            r2 = dists[n]\n",
    "            t2 = types[n]\n",
    "            x2 = xs[n]\n",
    "            y2 = ys[n]\n",
    "            z2 = zs[n]\n",
    "\n",
    "            trip_type, trip_labs, trip_dists, trip_xs, trip_ys, trip_zs, trip_xrel, trip_yrel, trip_zrel =\\\n",
    "                order_triplet(c,r1,t1,x1,y1,z1,r2,t2,x2,y2,z2)\n",
    "\n",
    "            # triplet already in dictionary:\n",
    "            if trip_labs in trip_dict['labs']:\n",
    "                lab_ind = trip_dict['labs'].index(trip_labs)\n",
    "                trip_dict['dists'][lab_ind].append(trip_dists)\n",
    "                trip_dict['xs'][lab_ind].append(trip_xs)\n",
    "                trip_dict['ys'][lab_ind].append(trip_ys)\n",
    "                trip_dict['zs'][lab_ind].append(trip_zs)\n",
    "                trip_dict['xrel'][lab_ind].append(trip_xrel)\n",
    "                trip_dict['yrel'][lab_ind].append(trip_yrel)\n",
    "                trip_dict['zrel'][lab_ind].append(trip_zrel)\n",
    "            # or else it needs to be appended:\n",
    "            else:\n",
    "                trip_dict['typs'].append(trip_type)\n",
    "                trip_dict['labs'].append(trip_labs)\n",
    "                trip_dict['dists'].append([trip_dists])\n",
    "                trip_dict['xs'].append([trip_xs])\n",
    "                trip_dict['ys'].append([trip_ys])\n",
    "                trip_dict['zs'].append([trip_zs])\n",
    "                trip_dict['xrel'].append([trip_xrel])\n",
    "                trip_dict['yrel'].append([trip_yrel])\n",
    "                trip_dict['zrel'].append([trip_zrel])\n",
    "                \n",
    "    return trip_dict\n",
    "\n",
    "# given list of cartesian coordinates, get chemical environment of specified atom\n",
    "# pos = list of cartesian coordinates\n",
    "# typs = list of atom types\n",
    "def get_env_struc(pos, typs, atom, brav_mat, brav_inv, vec1, vec2, vec3, cutoff):\n",
    "    pos_atom = np.array(pos[atom]).reshape(3,1)\n",
    "    typ = typs[atom]\n",
    "    env = {'central_atom':typ, 'dists':[],'xs':[],'ys':[],'zs':[],\\\n",
    "           'xrel':[],'yrel':[],'zrel':[],'types':[]}\n",
    "    \n",
    "    # loop through positions to find all atoms and images in the neighborhood\n",
    "    for n in range(len(pos)):\n",
    "        # position relative to reference atom\n",
    "        diff_curr = np.array(pos[n]).reshape(3,1) - pos_atom\n",
    "\n",
    "        # get images within cutoff\n",
    "        vecs, dists = get_cutoff_vecs(diff_curr, brav_mat, \\\n",
    "            brav_inv, vec1, vec2, vec3, cutoff)\n",
    "\n",
    "        for vec, dist in zip(vecs, dists):\n",
    "            # ignore self interaction\n",
    "            if dist != 0:\n",
    "                # append distance\n",
    "                env['dists'].append(dist)\n",
    "                \n",
    "                # append coordinate differences\n",
    "                env['xs'].append(vec[0][0])\n",
    "                env['ys'].append(vec[1][0])\n",
    "                env['zs'].append(vec[2][0])\n",
    "                \n",
    "                # append relative coordinate differences\n",
    "                env['xrel'].append(vec[0][0]/dist)\n",
    "                env['yrel'].append(vec[1][0]/dist)\n",
    "                env['zrel'].append(vec[2][0]/dist)\n",
    "                \n",
    "                # append atom type\n",
    "                env['types'].append(typs[n])\n",
    "\n",
    "    env['trip_dict']=get_trip_dict(env)\n",
    "    \n",
    "    return env\n",
    "\n",
    "# given list of cartesian coordinates, return list of chemical environments\n",
    "def get_envs(pos, typs, brav_mat, brav_inv, vec1, vec2, vec3, cutoff):\n",
    "    envs = []\n",
    "    for n in range(len(pos)):\n",
    "        atom = n\n",
    "        env = get_env_struc(pos, typs, atom, brav_mat, brav_inv, vec1, vec2, vec3, cutoff)\n",
    "        envs.append(env)\n",
    "        \n",
    "    return envs"
   ]
  },
  {
   "cell_type": "markdown",
   "metadata": {},
   "source": [
    "#### 2-body kernel helper functions."
   ]
  },
  {
   "cell_type": "code",
   "execution_count": 4,
   "metadata": {
    "collapsed": true
   },
   "outputs": [],
   "source": [
    "# two body kernel\n",
    "def k2(ri,ci,rj,cj,d,e,f):\n",
    "    rr = (ri-rj)*(ri-rj)\n",
    "    k2 = d*math.exp(-f*rr)*ci*cj*(e-rr)\n",
    "    return k2"
   ]
  },
  {
   "cell_type": "markdown",
   "metadata": {},
   "source": [
    "#### 3-body kernel helper functions."
   ]
  },
  {
   "cell_type": "code",
   "execution_count": 5,
   "metadata": {
    "collapsed": true
   },
   "outputs": [],
   "source": [
    "# trip type 1: all atoms the same\n",
    "def k3dt1(ri1,ri2,ri3,ci1,ci2,ci3,\\\n",
    "             rj1,rj2,rj3,cj1,cj2,cj3,\\\n",
    "             d,e,f):\n",
    "    \n",
    "    # define quantities that will reappear\n",
    "    rsum = ri1*ri1+ri2*ri2+ri3*ri3+rj1*rj1+rj2*rj2+rj3*rj3\n",
    "    \n",
    "    r11 = ri1-rj1\n",
    "    r12 = ri1-rj2\n",
    "    r13 = ri1-rj3\n",
    "    r21 = ri2-rj1\n",
    "    r22 = ri2-rj2\n",
    "    r23 = ri2-rj3\n",
    "    r31 = ri3-rj1\n",
    "    r32 = ri3-rj2\n",
    "    r33 = ri3-rj3\n",
    "    \n",
    "    rr11 = ri1*rj1\n",
    "    rr12 = ri1*rj2\n",
    "    rr13 = ri1*rj3\n",
    "    rr21 = ri2*rj1\n",
    "    rr22 = ri2*rj2\n",
    "    rr23 = ri2*rj3\n",
    "    rr31 = ri3*rj1\n",
    "    rr32 = ri3*rj2\n",
    "    rr33 = ri3*rj3\n",
    "    \n",
    "    cc11 = ci1*cj1\n",
    "    cc12 = ci1*cj2\n",
    "    cc13 = ci1*cj3\n",
    "    cc21 = ci2*cj1\n",
    "    cc22 = ci2*cj2\n",
    "    cc23 = ci2*cj3\n",
    "    cc31 = ci3*cj1\n",
    "    cc32 = ci3*cj2\n",
    "    cc33 = ci3*cj3\n",
    "    \n",
    "    rci11 = r11*ci1\n",
    "    rci12 = r12*ci1\n",
    "    rci13 = r13*ci1\n",
    "    rci21 = r21*ci2\n",
    "    rci22 = r22*ci2\n",
    "    rci23 = r23*ci2\n",
    "    rci31 = r31*ci3\n",
    "    rci32 = r32*ci3\n",
    "    rci33 = r33*ci3\n",
    "    \n",
    "    rcj11 = r11*cj1\n",
    "    rcj12 = r12*cj2\n",
    "    rcj13 = r13*cj3\n",
    "    rcj21 = r21*cj1\n",
    "    rcj22 = r22*cj2\n",
    "    rcj23 = r23*cj3\n",
    "    rcj31 = r31*cj1\n",
    "    rcj32 = r32*cj2\n",
    "    rcj33 = r33*cj3\n",
    "    \n",
    "    # sum over six permutations\n",
    "    derv = d*math.exp(-f*rsum)*\\\n",
    "        ((math.exp(2*f*(rr11+rr22+rr33))*(e*(cc11+cc22+cc33)-(rci11+rci22+rci33)*(rcj11+rcj22+rcj33)))+\n",
    "        (math.exp(2*f*(rr11+rr23+rr32))*(e*(cc11+cc23+cc32)-(rci11+rci23+rci32)*(rcj11+rcj23+rcj32)))+\n",
    "        (math.exp(2*f*(rr12+rr21+rr33))*(e*(cc12+cc21+cc33)-(rci12+rci21+rci33)*(rcj12+rcj21+rcj33)))+\n",
    "        (math.exp(2*f*(rr12+rr23+rr31))*(e*(cc12+cc23+cc31)-(rci12+rci23+rci31)*(rcj12+rcj23+rcj31)))+\n",
    "        (math.exp(2*f*(rr13+rr21+rr32))*(e*(cc13+cc21+cc32)-(rci13+rci21+rci32)*(rcj13+rcj21+rcj32)))+\n",
    "        (math.exp(2*f*(rr13+rr22+rr31))*(e*(cc13+cc22+cc31)-(rci13+rci22+rci31)*(rcj13+rcj22+rcj31))))\n",
    "\n",
    "    return derv\n",
    "\n",
    "# triplet type 2: two different atoms\n",
    "def k3dt2(ri1,ri2,ri3,ci1,ci2,ci3,\\\n",
    "             rj1,rj2,rj3,cj1,cj2,cj3,\\\n",
    "             d,e,f):\n",
    "    \n",
    "    # define quantities that will reappear\n",
    "    rsum = ri1*ri1+ri2*ri2+ri3*ri3+rj1*rj1+rj2*rj2+rj3*rj3\n",
    "    \n",
    "    r11 = ri1-rj1\n",
    "    r12 = ri1-rj2\n",
    "    r21 = ri2-rj1\n",
    "    r22 = ri2-rj2\n",
    "    \n",
    "    r33 = ri3-rj3\n",
    "    rr33 = ri3*rj3\n",
    "    cc33 = ci3*cj3\n",
    "    rci33 = r33*ci3\n",
    "    rcj33 = r33*cj3\n",
    "    \n",
    "    # sum over permutations\n",
    "    derv = d*math.exp(-f*rsum)*\\\n",
    "        ((math.exp(2*f*(ri1*rj1+ri2*rj2+rr33))*(e*(ci1*cj1+ci2*cj2+cc33)-(r11*ci1+r22*ci2+rci33)*(r11*cj1+r22*cj2+rcj33)))+\\\n",
    "        (math.exp(2*f*(ri1*rj2+ri2*rj1+rr33))*(e*(ci1*cj2+ci2*cj1+cc33)-(r12*ci1+r21*ci2+rci33)*(r12*cj2+r21*cj1+rcj33))))\n",
    "\n",
    "    return derv\n",
    "\n",
    "# triplet type 3: three different atoms\n",
    "def k3dt3(ri1,ri2,ri3,ci1,ci2,ci3,\\\n",
    "             rj1,rj2,rj3,cj1,cj2,cj3,\\\n",
    "             d,e,f):\n",
    "    \n",
    "    r1 = ri1-rj1\n",
    "    r2 = ri2-rj2\n",
    "    r3 = ri3-rj3\n",
    "    derv = (e*(ci1*cj1+ci2*cj2+ci3*cj3)-(r1*ci1+r2*ci2+r3*ci3)*(r1*cj1+r2*cj2+r3*cj3))*\\\n",
    "            d*math.exp(-f*(r1*r1+r2*r2+r3*r3))\n",
    "\n",
    "    return derv\n",
    "\n",
    "def k3(typ,ri1,ri2,ri3,ci1,ci2,ci3,\\\n",
    "             rj1,rj2,rj3,cj1,cj2,cj3,\\\n",
    "             d,e,f):\n",
    "    if typ==1:\n",
    "        k3 = k3dt1(ri1,ri2,ri3,ci1,ci2,ci3,\\\n",
    "             rj1,rj2,rj3,cj1,cj2,cj3,\\\n",
    "             d,e,f)\n",
    "    if typ==2:\n",
    "        k3 = k3dt2(ri1,ri2,ri3,ci1,ci2,ci3,\\\n",
    "             rj1,rj2,rj3,cj1,cj2,cj3,\\\n",
    "             d,e,f)\n",
    "    if typ==3:\n",
    "        k3 = k3dt3(ri1,ri2,ri3,ci1,ci2,ci3,\\\n",
    "             rj1,rj2,rj3,cj1,cj2,cj3,\\\n",
    "             d,e,f)\n",
    "        \n",
    "    return k3     "
   ]
  },
  {
   "cell_type": "code",
   "execution_count": 6,
   "metadata": {
    "collapsed": true
   },
   "outputs": [],
   "source": [
    "# get two body kernel between chemical environments\n",
    "def two_body(x1, x2, d1, d2, sig, ls):\n",
    "    d= sig**2/ls**4\n",
    "    e= ls**2\n",
    "    f= 1/(2*ls**2)\n",
    "    kern = 0\n",
    "    \n",
    "    # record central atom types\n",
    "    c1 = x1['central_atom']\n",
    "    c2 = x2['central_atom']\n",
    "    \n",
    "    for m in range(len(x1['dists'])):\n",
    "        e1 = x1['types'][m]\n",
    "        r1 = x1['dists'][m]\n",
    "        coord1 = x1[d1][m]\n",
    "        for n in range(len(x2['dists'])):\n",
    "            e2 = x2['types'][n]\n",
    "            r2 = x2['dists'][n]\n",
    "            coord2 = x2[d2][n]\n",
    "            \n",
    "            # check that atom types match\n",
    "            if (c1==c2 and e1==e2) or (c1==e2 and c2==e1):\n",
    "                kern+=k2(r1,coord1,r2,coord2,d,e,f)\n",
    "                \n",
    "    return kern\n",
    "\n",
    "# get three body kernel between two chemical environments\n",
    "def three_body(x1, x2, d1, d2, sig, ls):\n",
    "    d= sig**2/ls**4\n",
    "    e= ls**2\n",
    "    f= 1/(2*ls**2)\n",
    "    kern = 0\n",
    "    \n",
    "    for m in range(len(x1['trip_dict']['labs'])):\n",
    "        x1_lab = x1['trip_dict']['labs'][m]\n",
    "\n",
    "        for n in range(len(x2['trip_dict']['labs'])):\n",
    "            x2_lab = x2['trip_dict']['labs'][n]\n",
    "\n",
    "            # check triplet type\n",
    "            if x1_lab==x2_lab:\n",
    "                # loop over tripets of the same type\n",
    "                typ = x1['trip_dict']['typs'][m]\n",
    "\n",
    "                # loop over triplets in environment 1\n",
    "                for p in range(len(x1['trip_dict']['dists'][m])):\n",
    "                    # set distances\n",
    "                    ri1 = x1['trip_dict']['dists'][m][p][0]\n",
    "                    ri2 = x1['trip_dict']['dists'][m][p][1]\n",
    "                    ri3 = x1['trip_dict']['dists'][m][p][2]\n",
    "\n",
    "                    # set coordinates\n",
    "                    ci1 = x1['trip_dict'][d1][m][p][0]\n",
    "                    ci2 = x1['trip_dict'][d1][m][p][1]\n",
    "                    ci3 = x1['trip_dict'][d1][m][p][2]\n",
    "\n",
    "                    # loop over triplets in environment 2\n",
    "                    for q in range(len(x2['trip_dict']['dists'][n])):\n",
    "                        # set distances\n",
    "                        rj1 = x2['trip_dict']['dists'][n][q][0]\n",
    "                        rj2 = x2['trip_dict']['dists'][n][q][1]\n",
    "                        rj3 = x2['trip_dict']['dists'][n][q][2]\n",
    "\n",
    "                        # set coordinates\n",
    "                        cj1 = x2['trip_dict'][d2][n][q][0]\n",
    "                        cj2 = x2['trip_dict'][d2][n][q][1]\n",
    "                        cj3 = x2['trip_dict'][d2][n][q][2]\n",
    "\n",
    "                        # add to kernel\n",
    "                        kern+=k3(typ,ri1,ri2,ri3,ci1,ci2,ci3,\\\n",
    "                         rj1,rj2,rj3,cj1,cj2,cj3,\\\n",
    "                         d,e,f)\n",
    "                        \n",
    "    return kern"
   ]
  },
  {
   "cell_type": "markdown",
   "metadata": {},
   "source": [
    "#### GP helper functions."
   ]
  },
  {
   "cell_type": "code",
   "execution_count": 7,
   "metadata": {
    "collapsed": true
   },
   "outputs": [],
   "source": [
    "# get 3Nx3N noiseless kernel matrix\n",
    "# assume all 3 force components are known for each configuration\n",
    "# X is assumed to be a list of environments\n",
    "def get_K(X,sig,ls,noise,kern_func):\n",
    "    ds = ['xrel','yrel','zrel']\n",
    "    \n",
    "    # initialize matrix\n",
    "    size = len(X)*3\n",
    "    K = np.zeros([size, size])\n",
    "    \n",
    "    # calculate elements\n",
    "    for m in range(size):\n",
    "        x1 = X[int(math.floor(m/3))]\n",
    "        d1 = ds[m%3]\n",
    "        for n in range(m,size):\n",
    "            x2 = X[int(math.floor(n/3))]\n",
    "            d2 = ds[n%3]\n",
    "           \n",
    "            # calculate kernel\n",
    "            cov = kern_func(x1, x2, d1, d2, sig, ls)\n",
    "            K[m,n] = cov\n",
    "            K[n,m] = cov\n",
    "    # perform cholesky decomposition\n",
    "    L = np.linalg.cholesky(K+noise**2*np.eye(size))\n",
    "    \n",
    "    return K, L\n",
    "\n",
    "# get row of covariances\n",
    "def get_cov_row(x1, d1, m, size, X, sig, ls):\n",
    "    ds = ['xrel','yrel','zrel']\n",
    "    covs = []\n",
    "    for n in range(m,size):\n",
    "        x2 = X[int(math.floor(n/3))]\n",
    "        d2 = ds[n%3]\n",
    "\n",
    "        # calculate kernel\n",
    "        cov = two_body(x1, x2, d1, d2, sig, ls)\n",
    "        covs.append(cov)\n",
    "        \n",
    "    return covs\n",
    "\n",
    "# get covariance matrix with multiple processors\n",
    "def get_K_par(X,sig,ls,noise,pool):\n",
    "    ds = ['xrel','yrel','zrel']\n",
    "    # initialize matrix\n",
    "    size = len(X)*3\n",
    "    K = np.zeros([size, size])\n",
    "\n",
    "    # calculate elements\n",
    "    results = []\n",
    "    for m in range(size):\n",
    "        x1 = X[int(math.floor(m/3))]\n",
    "        d1 = ds[m%3]\n",
    "\n",
    "        results.append(pool.apply_async(get_cov_row, \\\n",
    "            args=(x1, d1, m, size, X, sig, ls)))\n",
    "        \n",
    "    print('reconstructing...')\n",
    "    # construct covariance matrix\n",
    "    for m in range(size):\n",
    "        time1 = time.time()\n",
    "        res_cur = results[m].get()\n",
    "        time2 = time.time()\n",
    "        print(time2-time1)\n",
    "        for n in range(m,size):\n",
    "            K[m,n]=res_cur[n-m]\n",
    "            K[n,m]=res_cur[n-m]\n",
    "\n",
    "    # perform cholesky decomposition\n",
    "    L = np.linalg.cholesky(K+noise**2*np.eye(size))\n",
    "    \n",
    "    return K,L,results\n",
    "\n",
    "# get kernel vector\n",
    "def get_kv(X,x,d1,sig,ls,kern_func):\n",
    "    ds = ['xrel','yrel','zrel']\n",
    "    size = len(X)*3\n",
    "    kv=np.zeros([size,1])\n",
    "    for m in range(size):\n",
    "        x2 = X[int(math.floor(m/3))]\n",
    "        d2 = ds[m%3]\n",
    "        kv[m]=kern_func(x,x2,d1,d2,sig,ls)\n",
    "        \n",
    "    return kv\n",
    "\n",
    "# get alpha\n",
    "def get_alpha(K,L,y): \n",
    "    # get alpha\n",
    "    ts1 = sp.linalg.solve_triangular(L,y,lower=True)\n",
    "    alpha = sp.linalg.solve_triangular(L.transpose(),ts1)\n",
    "            \n",
    "    return alpha\n",
    "\n",
    "# get likelihood\n",
    "def get_like(K,L,y,alpha): \n",
    "    # get log marginal likelihood\n",
    "    like = -(1/2)*np.matmul(y.transpose(),alpha)-\\\n",
    "            np.sum(np.log(np.diagonal(L)))-\\\n",
    "            np.log(2*np.pi)*K.shape[1]/2\n",
    "            \n",
    "    return like\n",
    "\n",
    "# get likelihood as a function of hyperparameters\n",
    "def like_hyp(hyp,X,y,kern_func):\n",
    "    # unpack hyperparameters\n",
    "    sig = hyp[0]\n",
    "    ls = hyp[1]\n",
    "    noise = hyp[2]\n",
    "    \n",
    "    # calculate likelihood\n",
    "    K, L = get_K(X,sig,ls,noise,kern_func)\n",
    "    alpha = get_alpha(K,L,y)\n",
    "    like = get_like(K,L,y,alpha)\n",
    "    \n",
    "#     # print\n",
    "#     print('sig: '+str(sig))\n",
    "#     print('ls: '+str(ls))\n",
    "#     print('noise: '+str(noise))\n",
    "#     print('log like: '+str(like))\n",
    "    \n",
    "    return like\n",
    "\n",
    "# get minus likelihood as a function of hyperparameters\n",
    "def minus_like_hyp(hyp,X,y,kern_func):\n",
    "    like = like_hyp(hyp,X,y,kern_func)\n",
    "    minus_like = -like\n",
    "    return minus_like\n",
    "\n",
    "# make GP prediction with SE kernel\n",
    "def GP_pred(X,K,L,alpha,sig,ls,xt,d,kern_func):\n",
    "    # get kernel vector\n",
    "    kv = get_kv(X,xt,d,sig,ls,kernel)\n",
    "    \n",
    "    # get predictive mean\n",
    "    f = np.matmul(kv.transpose(),alpha)\n",
    "    \n",
    "    # get predictive variance\n",
    "    v = sp.linalg.solve_triangular(L,kv,lower=True)\n",
    "    self_kern = kern_func(xt, xt, d, d, sig, ls)\n",
    "    var = self_kern - np.matmul(v.transpose(),v)\n",
    "    \n",
    "    return f, var\n",
    "\n",
    "# convert list of triplets to column vector\n",
    "def fc_conv(fcs):\n",
    "    comp_len = len(fcs)*3\n",
    "    comps = []\n",
    "    for n in range(comp_len):\n",
    "        fc_ind = int(math.floor(n/3))\n",
    "        d = n%3\n",
    "        comps.append(fcs[fc_ind][d])\n",
    "    \n",
    "    return np.array(comps).reshape(comp_len,1)"
   ]
  },
  {
   "cell_type": "markdown",
   "metadata": {},
   "source": [
    "### Test 3-body kernel."
   ]
  },
  {
   "cell_type": "code",
   "execution_count": 16,
   "metadata": {
    "collapsed": true
   },
   "outputs": [],
   "source": [
    "outfile ='/Users/jonpvandermause/Research/GP/Datasets/SiC_MD/sic_md.out'\n",
    "Si_MD_Parsed = parse_qe_pwscf_md_output(outfile)\n",
    "\n",
    "# set crystal structure\n",
    "dim = 3\n",
    "alat = 4.344404578\n",
    "unit_cell = [[0.0, alat/2, alat/2], [alat/2, 0.0, alat/2], \\\n",
    "                    [alat/2, alat/2, 0.0]] # fcc primitive cell\n",
    "unit_pos = [['Si',[0,0,0]],['Si',[alat/4, alat/4, alat/4]]]\n",
    "brav_mat = np.array([[0.0, alat/2, alat/2], [alat/2, 0.0, alat/2], \\\n",
    "                    [alat/2, alat/2, 0.0]])*dim\n",
    "brav_inv = np.linalg.inv(brav_mat)\n",
    "\n",
    "# bravais vectors\n",
    "vec1 = brav_mat[:,0].reshape(3,1)\n",
    "vec2 = brav_mat[:,1].reshape(3,1)\n",
    "vec3 = brav_mat[:,2].reshape(3,1)\n",
    "\n",
    "# build force field from single snapshot\n",
    "cutoff = 4.5\n",
    "pos = Si_MD_Parsed[1]['positions']\n",
    "typs = Si_MD_Parsed[1]['elements']\n",
    "fcs = fc_conv(Si_MD_Parsed[2]['forces'])"
   ]
  },
  {
   "cell_type": "code",
   "execution_count": 17,
   "metadata": {
    "collapsed": true
   },
   "outputs": [],
   "source": [
    "atom = 0\n",
    "test1 = get_env_struc(pos, typs, 0, brav_mat, brav_inv, vec1, vec2, vec3, cutoff)\n",
    "test2 = get_env_struc(pos, typs, 1, brav_mat, brav_inv, vec1, vec2, vec3, cutoff)\n",
    "x1 = test1\n",
    "x2 = test2"
   ]
  },
  {
   "cell_type": "code",
   "execution_count": 10,
   "metadata": {
    "collapsed": true
   },
   "outputs": [],
   "source": [
    "envs = get_envs(pos, typs, brav_mat, brav_inv, vec1, vec2, vec3, cutoff)"
   ]
  },
  {
   "cell_type": "code",
   "execution_count": 13,
   "metadata": {},
   "outputs": [
    {
     "name": "stdout",
     "output_type": "stream",
     "text": [
      "7.373988151550293\n"
     ]
    }
   ],
   "source": [
    "sig=1\n",
    "ls=1\n",
    "noise=0.01\n",
    "kern_func=two_body\n",
    "time1=time.time()\n",
    "test1 = get_K(envs,sig,ls,noise,kern_func)\n",
    "time2 = time.time()\n",
    "print(time2-time1)"
   ]
  },
  {
   "cell_type": "code",
   "execution_count": 11,
   "metadata": {},
   "outputs": [
    {
     "name": "stderr",
     "output_type": "stream",
     "text": [
      "Process ForkPoolWorker-1:\n",
      "Process ForkPoolWorker-2:\n",
      "Traceback (most recent call last):\n",
      "Traceback (most recent call last):\n",
      "  File \"/Users/jonpvandermause/anaconda3/lib/python3.6/multiprocessing/process.py\", line 258, in _bootstrap\n",
      "    self.run()\n",
      "  File \"/Users/jonpvandermause/anaconda3/lib/python3.6/multiprocessing/process.py\", line 258, in _bootstrap\n",
      "    self.run()\n",
      "  File \"/Users/jonpvandermause/anaconda3/lib/python3.6/multiprocessing/process.py\", line 93, in run\n",
      "    self._target(*self._args, **self._kwargs)\n",
      "  File \"/Users/jonpvandermause/anaconda3/lib/python3.6/multiprocessing/process.py\", line 93, in run\n",
      "    self._target(*self._args, **self._kwargs)\n",
      "  File \"/Users/jonpvandermause/anaconda3/lib/python3.6/multiprocessing/pool.py\", line 108, in worker\n",
      "    task = get()\n",
      "  File \"/Users/jonpvandermause/anaconda3/lib/python3.6/multiprocessing/pool.py\", line 119, in worker\n",
      "    result = (True, func(*args, **kwds))\n",
      "  File \"/Users/jonpvandermause/anaconda3/lib/python3.6/multiprocessing/queues.py\", line 335, in get\n",
      "    res = self._reader.recv_bytes()\n",
      "  File \"/Users/jonpvandermause/anaconda3/lib/python3.6/multiprocessing/connection.py\", line 216, in recv_bytes\n",
      "    buf = self._recv_bytes(maxlength)\n",
      "  File \"<ipython-input-7-4ddaeee9c9db>\", line 37, in get_cov_row\n",
      "    cov = two_body(x1, x2, d1, d2, sig, ls)\n",
      "  File \"<ipython-input-6-834ca0c2c21b>\", line 23, in two_body\n",
      "    kern+=k2(r1,coord1,r2,coord2,d,e,f)\n",
      "  File \"/Users/jonpvandermause/anaconda3/lib/python3.6/multiprocessing/connection.py\", line 407, in _recv_bytes\n",
      "    buf = self._recv(4)\n",
      "  File \"/Users/jonpvandermause/anaconda3/lib/python3.6/multiprocessing/connection.py\", line 379, in _recv\n",
      "    chunk = read(handle, remaining)\n",
      "  File \"<ipython-input-4-44b392053178>\", line 4, in k2\n",
      "    k2 = d*math.exp(-f*rr)*ci*cj*(e-rr)\n",
      "KeyboardInterrupt\n",
      "KeyboardInterrupt\n"
     ]
    }
   ],
   "source": [
    "pool_test = mp.Pool(processes=2)"
   ]
  },
  {
   "cell_type": "code",
   "execution_count": 28,
   "metadata": {},
   "outputs": [
    {
     "name": "stdout",
     "output_type": "stream",
     "text": [
      "reconstructing...\n",
      "0.5906219482421875\n",
      "0.6120519638061523\n",
      "0.6034982204437256\n",
      "0.5994119644165039\n",
      "0.5989737510681152\n",
      "0.5961740016937256\n",
      "0.610220193862915\n",
      "0.6373817920684814\n",
      "0.6722331047058105\n",
      "0.6561939716339111\n",
      "0.7042429447174072\n"
     ]
    },
    {
     "ename": "KeyboardInterrupt",
     "evalue": "",
     "output_type": "error",
     "traceback": [
      "\u001b[0;31m---------------------------------------------------------------------------\u001b[0m",
      "\u001b[0;31mKeyboardInterrupt\u001b[0m                         Traceback (most recent call last)",
      "\u001b[0;32m<ipython-input-28-3ca6dcaf1c14>\u001b[0m in \u001b[0;36m<module>\u001b[0;34m()\u001b[0m\n\u001b[1;32m      4\u001b[0m \u001b[0mkern_func\u001b[0m\u001b[0;34m=\u001b[0m\u001b[0mthree_body\u001b[0m\u001b[0;34m\u001b[0m\u001b[0m\n\u001b[1;32m      5\u001b[0m \u001b[0mtime1\u001b[0m\u001b[0;34m=\u001b[0m\u001b[0mtime\u001b[0m\u001b[0;34m.\u001b[0m\u001b[0mtime\u001b[0m\u001b[0;34m(\u001b[0m\u001b[0;34m)\u001b[0m\u001b[0;34m\u001b[0m\u001b[0m\n\u001b[0;32m----> 6\u001b[0;31m \u001b[0mK\u001b[0m\u001b[0;34m,\u001b[0m\u001b[0mL\u001b[0m\u001b[0;34m,\u001b[0m\u001b[0mresults\u001b[0m \u001b[0;34m=\u001b[0m \u001b[0mget_K_par\u001b[0m\u001b[0;34m(\u001b[0m\u001b[0menvs\u001b[0m\u001b[0;34m,\u001b[0m\u001b[0msig\u001b[0m\u001b[0;34m,\u001b[0m\u001b[0mls\u001b[0m\u001b[0;34m,\u001b[0m\u001b[0mnoise\u001b[0m\u001b[0;34m,\u001b[0m\u001b[0mpool_test\u001b[0m\u001b[0;34m)\u001b[0m\u001b[0;34m\u001b[0m\u001b[0m\n\u001b[0m\u001b[1;32m      7\u001b[0m \u001b[0mtime2\u001b[0m \u001b[0;34m=\u001b[0m \u001b[0mtime\u001b[0m\u001b[0;34m.\u001b[0m\u001b[0mtime\u001b[0m\u001b[0;34m(\u001b[0m\u001b[0;34m)\u001b[0m\u001b[0;34m\u001b[0m\u001b[0m\n\u001b[1;32m      8\u001b[0m \u001b[0mprint\u001b[0m\u001b[0;34m(\u001b[0m\u001b[0mtime2\u001b[0m\u001b[0;34m-\u001b[0m\u001b[0mtime1\u001b[0m\u001b[0;34m)\u001b[0m\u001b[0;34m\u001b[0m\u001b[0m\n",
      "\u001b[0;32m<ipython-input-7-4ddaeee9c9db>\u001b[0m in \u001b[0;36mget_K_par\u001b[0;34m(X, sig, ls, noise, pool)\u001b[0m\n\u001b[1;32m     59\u001b[0m     \u001b[0;32mfor\u001b[0m \u001b[0mm\u001b[0m \u001b[0;32min\u001b[0m \u001b[0mrange\u001b[0m\u001b[0;34m(\u001b[0m\u001b[0msize\u001b[0m\u001b[0;34m)\u001b[0m\u001b[0;34m:\u001b[0m\u001b[0;34m\u001b[0m\u001b[0m\n\u001b[1;32m     60\u001b[0m         \u001b[0mtime1\u001b[0m \u001b[0;34m=\u001b[0m \u001b[0mtime\u001b[0m\u001b[0;34m.\u001b[0m\u001b[0mtime\u001b[0m\u001b[0;34m(\u001b[0m\u001b[0;34m)\u001b[0m\u001b[0;34m\u001b[0m\u001b[0m\n\u001b[0;32m---> 61\u001b[0;31m         \u001b[0mres_cur\u001b[0m \u001b[0;34m=\u001b[0m \u001b[0mresults\u001b[0m\u001b[0;34m[\u001b[0m\u001b[0mm\u001b[0m\u001b[0;34m]\u001b[0m\u001b[0;34m.\u001b[0m\u001b[0mget\u001b[0m\u001b[0;34m(\u001b[0m\u001b[0;34m)\u001b[0m\u001b[0;34m\u001b[0m\u001b[0m\n\u001b[0m\u001b[1;32m     62\u001b[0m         \u001b[0mtime2\u001b[0m \u001b[0;34m=\u001b[0m \u001b[0mtime\u001b[0m\u001b[0;34m.\u001b[0m\u001b[0mtime\u001b[0m\u001b[0;34m(\u001b[0m\u001b[0;34m)\u001b[0m\u001b[0;34m\u001b[0m\u001b[0m\n\u001b[1;32m     63\u001b[0m         \u001b[0mprint\u001b[0m\u001b[0;34m(\u001b[0m\u001b[0mtime2\u001b[0m\u001b[0;34m-\u001b[0m\u001b[0mtime1\u001b[0m\u001b[0;34m)\u001b[0m\u001b[0;34m\u001b[0m\u001b[0m\n",
      "\u001b[0;32m~/anaconda3/lib/python3.6/multiprocessing/pool.py\u001b[0m in \u001b[0;36mget\u001b[0;34m(self, timeout)\u001b[0m\n\u001b[1;32m    636\u001b[0m \u001b[0;34m\u001b[0m\u001b[0m\n\u001b[1;32m    637\u001b[0m     \u001b[0;32mdef\u001b[0m \u001b[0mget\u001b[0m\u001b[0;34m(\u001b[0m\u001b[0mself\u001b[0m\u001b[0;34m,\u001b[0m \u001b[0mtimeout\u001b[0m\u001b[0;34m=\u001b[0m\u001b[0;32mNone\u001b[0m\u001b[0;34m)\u001b[0m\u001b[0;34m:\u001b[0m\u001b[0;34m\u001b[0m\u001b[0m\n\u001b[0;32m--> 638\u001b[0;31m         \u001b[0mself\u001b[0m\u001b[0;34m.\u001b[0m\u001b[0mwait\u001b[0m\u001b[0;34m(\u001b[0m\u001b[0mtimeout\u001b[0m\u001b[0;34m)\u001b[0m\u001b[0;34m\u001b[0m\u001b[0m\n\u001b[0m\u001b[1;32m    639\u001b[0m         \u001b[0;32mif\u001b[0m \u001b[0;32mnot\u001b[0m \u001b[0mself\u001b[0m\u001b[0;34m.\u001b[0m\u001b[0mready\u001b[0m\u001b[0;34m(\u001b[0m\u001b[0;34m)\u001b[0m\u001b[0;34m:\u001b[0m\u001b[0;34m\u001b[0m\u001b[0m\n\u001b[1;32m    640\u001b[0m             \u001b[0;32mraise\u001b[0m \u001b[0mTimeoutError\u001b[0m\u001b[0;34m\u001b[0m\u001b[0m\n",
      "\u001b[0;32m~/anaconda3/lib/python3.6/multiprocessing/pool.py\u001b[0m in \u001b[0;36mwait\u001b[0;34m(self, timeout)\u001b[0m\n\u001b[1;32m    633\u001b[0m \u001b[0;34m\u001b[0m\u001b[0m\n\u001b[1;32m    634\u001b[0m     \u001b[0;32mdef\u001b[0m \u001b[0mwait\u001b[0m\u001b[0;34m(\u001b[0m\u001b[0mself\u001b[0m\u001b[0;34m,\u001b[0m \u001b[0mtimeout\u001b[0m\u001b[0;34m=\u001b[0m\u001b[0;32mNone\u001b[0m\u001b[0;34m)\u001b[0m\u001b[0;34m:\u001b[0m\u001b[0;34m\u001b[0m\u001b[0m\n\u001b[0;32m--> 635\u001b[0;31m         \u001b[0mself\u001b[0m\u001b[0;34m.\u001b[0m\u001b[0m_event\u001b[0m\u001b[0;34m.\u001b[0m\u001b[0mwait\u001b[0m\u001b[0;34m(\u001b[0m\u001b[0mtimeout\u001b[0m\u001b[0;34m)\u001b[0m\u001b[0;34m\u001b[0m\u001b[0m\n\u001b[0m\u001b[1;32m    636\u001b[0m \u001b[0;34m\u001b[0m\u001b[0m\n\u001b[1;32m    637\u001b[0m     \u001b[0;32mdef\u001b[0m \u001b[0mget\u001b[0m\u001b[0;34m(\u001b[0m\u001b[0mself\u001b[0m\u001b[0;34m,\u001b[0m \u001b[0mtimeout\u001b[0m\u001b[0;34m=\u001b[0m\u001b[0;32mNone\u001b[0m\u001b[0;34m)\u001b[0m\u001b[0;34m:\u001b[0m\u001b[0;34m\u001b[0m\u001b[0m\n",
      "\u001b[0;32m~/anaconda3/lib/python3.6/threading.py\u001b[0m in \u001b[0;36mwait\u001b[0;34m(self, timeout)\u001b[0m\n\u001b[1;32m    549\u001b[0m             \u001b[0msignaled\u001b[0m \u001b[0;34m=\u001b[0m \u001b[0mself\u001b[0m\u001b[0;34m.\u001b[0m\u001b[0m_flag\u001b[0m\u001b[0;34m\u001b[0m\u001b[0m\n\u001b[1;32m    550\u001b[0m             \u001b[0;32mif\u001b[0m \u001b[0;32mnot\u001b[0m \u001b[0msignaled\u001b[0m\u001b[0;34m:\u001b[0m\u001b[0;34m\u001b[0m\u001b[0m\n\u001b[0;32m--> 551\u001b[0;31m                 \u001b[0msignaled\u001b[0m \u001b[0;34m=\u001b[0m \u001b[0mself\u001b[0m\u001b[0;34m.\u001b[0m\u001b[0m_cond\u001b[0m\u001b[0;34m.\u001b[0m\u001b[0mwait\u001b[0m\u001b[0;34m(\u001b[0m\u001b[0mtimeout\u001b[0m\u001b[0;34m)\u001b[0m\u001b[0;34m\u001b[0m\u001b[0m\n\u001b[0m\u001b[1;32m    552\u001b[0m             \u001b[0;32mreturn\u001b[0m \u001b[0msignaled\u001b[0m\u001b[0;34m\u001b[0m\u001b[0m\n\u001b[1;32m    553\u001b[0m \u001b[0;34m\u001b[0m\u001b[0m\n",
      "\u001b[0;32m~/anaconda3/lib/python3.6/threading.py\u001b[0m in \u001b[0;36mwait\u001b[0;34m(self, timeout)\u001b[0m\n\u001b[1;32m    293\u001b[0m         \u001b[0;32mtry\u001b[0m\u001b[0;34m:\u001b[0m    \u001b[0;31m# restore state no matter what (e.g., KeyboardInterrupt)\u001b[0m\u001b[0;34m\u001b[0m\u001b[0m\n\u001b[1;32m    294\u001b[0m             \u001b[0;32mif\u001b[0m \u001b[0mtimeout\u001b[0m \u001b[0;32mis\u001b[0m \u001b[0;32mNone\u001b[0m\u001b[0;34m:\u001b[0m\u001b[0;34m\u001b[0m\u001b[0m\n\u001b[0;32m--> 295\u001b[0;31m                 \u001b[0mwaiter\u001b[0m\u001b[0;34m.\u001b[0m\u001b[0macquire\u001b[0m\u001b[0;34m(\u001b[0m\u001b[0;34m)\u001b[0m\u001b[0;34m\u001b[0m\u001b[0m\n\u001b[0m\u001b[1;32m    296\u001b[0m                 \u001b[0mgotit\u001b[0m \u001b[0;34m=\u001b[0m \u001b[0;32mTrue\u001b[0m\u001b[0;34m\u001b[0m\u001b[0m\n\u001b[1;32m    297\u001b[0m             \u001b[0;32melse\u001b[0m\u001b[0;34m:\u001b[0m\u001b[0;34m\u001b[0m\u001b[0m\n",
      "\u001b[0;31mKeyboardInterrupt\u001b[0m: "
     ]
    }
   ],
   "source": [
    "sig = 0.02084984\n",
    "ls = 0.33739727\n",
    "noise = 0.00100585\n",
    "kern_func=three_body\n",
    "time1=time.time()\n",
    "K,L,results = get_K_par(envs,sig,ls,noise,pool_test)\n",
    "time2 = time.time()\n",
    "print(time2-time1)"
   ]
  },
  {
   "cell_type": "markdown",
   "metadata": {},
   "source": [
    "### Testing ground."
   ]
  },
  {
   "cell_type": "code",
   "execution_count": 93,
   "metadata": {},
   "outputs": [
    {
     "name": "stdout",
     "output_type": "stream",
     "text": [
      "-1.49475096056726e+46\n"
     ]
    },
    {
     "data": {
      "text/plain": [
       "2.80629563331604e-05"
      ]
     },
     "execution_count": 93,
     "metadata": {},
     "output_type": "execute_result"
    }
   ],
   "source": [
    "ri1=1\n",
    "ri2=2\n",
    "ri3=3\n",
    "ci1=4\n",
    "ci2=5\n",
    "ci3=6\n",
    "rj1=7\n",
    "rj2=8\n",
    "rj3=9\n",
    "cj1=1\n",
    "cj2=2\n",
    "cj3=3\n",
    "\n",
    "ri = np.array([[ri1,ri1,ri1],[ri2,ri2,ri2],[ri3,ri3,ri3]])\n",
    "ci = np.array([[ci1,ci1,ci1],[ci2,ci2,ci2],[ci3,ci3,ci3]])\n",
    "rj = np.array([[rj1,rj2,rj3],[rj1,rj2,rj3],[rj1,rj2,rj3]])\n",
    "cj = np.array([[cj1,cj2,cj3],[cj1,cj2,cj3],[cj1,cj2,cj3]])\n",
    "d=1\n",
    "e=1\n",
    "f=1\n",
    "risum=1\n",
    "rjsum=1\n",
    "\n",
    "\n",
    "times = []\n",
    "for n in range(1000000):\n",
    "    time1 = time.time()\n",
    "    test=k3dt1_mat(ri,ci,rj,cj,d,e,f,risum,rjsum)\n",
    "    time2 = time.time()\n",
    "    time_diff = time2 - time1\n",
    "    times.append(time_diff)\n",
    "\n",
    "print(test)\n",
    "np.mean(times)"
   ]
  },
  {
   "cell_type": "code",
   "execution_count": 183,
   "metadata": {},
   "outputs": [
    {
     "name": "stdout",
     "output_type": "stream",
     "text": [
      "-0.03300086826354655\n"
     ]
    },
    {
     "data": {
      "text/plain": [
       "4.4444513320922855e-06"
      ]
     },
     "execution_count": 183,
     "metadata": {},
     "output_type": "execute_result"
    }
   ],
   "source": [
    "ri1=3\n",
    "ri2=1\n",
    "ri3=4\n",
    "ci1=1\n",
    "ci2=5\n",
    "ci3=9\n",
    "rj1=2\n",
    "rj2=6\n",
    "rj3=5\n",
    "cj1=1\n",
    "cj2=2\n",
    "cj3=3\n",
    "d=1\n",
    "e=1\n",
    "f=1\n",
    "risum=1\n",
    "rjsum=1\n",
    "\n",
    "\n",
    "times = []\n",
    "for n in range(100000):\n",
    "    time1 = time.time()\n",
    "    test=k3dt1_fast(ri1,ri2,ri3,ci1,ci2,ci3,\\\n",
    "             rj1,rj2,rj3,cj1,cj2,cj3,\\\n",
    "             d,e,f)\n",
    "    time2 = time.time()\n",
    "    time_diff = time2 - time1\n",
    "    times.append(time_diff)\n",
    "\n",
    "print(test)\n",
    "np.mean(times)"
   ]
  }
 ],
 "metadata": {
  "kernelspec": {
   "display_name": "Python 3",
   "language": "python",
   "name": "python3"
  },
  "language_info": {
   "codemirror_mode": {
    "name": "ipython",
    "version": 3
   },
   "file_extension": ".py",
   "mimetype": "text/x-python",
   "name": "python",
   "nbconvert_exporter": "python",
   "pygments_lexer": "ipython3",
   "version": "3.6.3"
  }
 },
 "nbformat": 4,
 "nbformat_minor": 2
}
