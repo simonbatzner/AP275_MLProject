{
 "cells": [
  {
   "cell_type": "code",
   "execution_count": 298,
   "metadata": {
    "collapsed": true
   },
   "outputs": [],
   "source": [
    "from sympy import *\n",
    "import numpy as np\n",
    "import scipy as sp\n",
    "import scipy.linalg"
   ]
  },
  {
   "cell_type": "markdown",
   "metadata": {},
   "source": [
    "### Get a 16-atom Si configuration as a reference."
   ]
  },
  {
   "cell_type": "code",
   "execution_count": 2,
   "metadata": {
    "collapsed": true
   },
   "outputs": [],
   "source": [
    "# create supercell\n",
    "def get_supercell(unit_cell, dim, unit_pos):\n",
    "    # initialize position list\n",
    "    positions = []\n",
    "\n",
    "    # define bravais lattice vectors\n",
    "    vec1 = np.array(unit_cell[0])\n",
    "    vec2 = np.array(unit_cell[1])\n",
    "    vec3 = np.array(unit_cell[2])\n",
    "\n",
    "    # append positions of atoms in supercell\n",
    "    for m in range(dim):\n",
    "        for n in range(dim):\n",
    "            for p in range(dim):\n",
    "                for q in range(len(unit_pos)):\n",
    "                    positions.append([unit_pos[q][0], \\\n",
    "                        list(np.array(unit_pos[q][1]) +\\\n",
    "                         m*vec1 + n*vec2 + p*vec3)])\n",
    "                    \n",
    "    # get supercell dimensions\n",
    "    supercell = list(np.array(unit_cell)*dim)\n",
    "                    \n",
    "    return positions, supercell\n",
    "\n",
    "# perturb the positions in a supercell\n",
    "def perturb_struc(positions, pert_size):\n",
    "    # loop through positions and add a random perturbation\n",
    "    for n in range(len(positions)):\n",
    "        for m in range(3):\n",
    "            # get current coordinate\n",
    "            coord_curr = positions[n][1][m]\n",
    "\n",
    "            # get perturbation by drawing from uniform\n",
    "            pert = np.random.uniform(-pert_size, pert_size)\n",
    "\n",
    "            # perturb the coordinate\n",
    "            positions[n][1][m] += pert\n",
    "            \n",
    "    return positions\n",
    "\n",
    "# put supercell positions and cell parameters in QE friendly format\n",
    "# based on Boris K's AP275 code\n",
    "def get_position_txt(positions, supercell):\n",
    "    \n",
    "    # write atomic positions\n",
    "    postxt = ''\n",
    "    postxt += 'ATOMIC_POSITIONS {angstrom}'\n",
    "    for pos in positions:\n",
    "        postxt += '\\n {} {:1.5f} {:1.5f} {:1.5f}'.format(pos[0], *pos[1])\n",
    "        \n",
    "    # write cell parameters\n",
    "    celltxt = ''\n",
    "    celltxt += 'CELL_PARAMETERS {angstrom}'\n",
    "    for vector in supercell:\n",
    "        celltxt += '\\n {:1.5f} {:1.5f} {:1.5f}'.format(*vector)\n",
    "    return postxt, celltxt\n",
    "\n",
    "# get perturbed positions\n",
    "def get_perturbed_pos(unit_cell, dim, unit_pos, pert_size):\n",
    "    # get perturbed structure\n",
    "    positions, supercell = get_supercell(unit_cell, dim, unit_pos)\n",
    "    positions = perturb_struc(positions, pert_size)\n",
    "    pos, cell = get_position_txt(positions, supercell)\n",
    "    \n",
    "    #get position array\n",
    "    pos_array = [positions[n][1] for n in range(len(positions))]\n",
    "\n",
    "    return pos, cell, pos_array, supercell, positions"
   ]
  },
  {
   "cell_type": "code",
   "execution_count": 164,
   "metadata": {},
   "outputs": [
    {
     "data": {
      "text/plain": [
       "[[0.1691327527972672, 0.08296064956443644, -0.025193142356619597],\n",
       " [1.3069181051300056, 1.2161081217032526, 1.3450001158626734]]"
      ]
     },
     "execution_count": 164,
     "metadata": {},
     "output_type": "execute_result"
    }
   ],
   "source": [
    "# Si crystal structure\n",
    "alat = 5.431\n",
    "pert_size = 0.05 * alat # size of initial perturbation\n",
    "dim = 1\n",
    "unit_cell = [[0.0, alat/2, alat/2], [alat/2, 0.0, alat/2], \\\n",
    "                [alat/2, alat/2, 0.0]] # fcc primitive cell\n",
    "unit_pos = [['Si',[0,0,0]],['Si',[alat/4, alat/4, alat/4]]]\n",
    "brav_mat = np.array([[0.0, alat/2, alat/2], [alat/2, 0.0, alat/2], \\\n",
    "            [alat/2, alat/2, 0.0]])*dim\n",
    "brav_inv = np.linalg.inv(brav_mat)\n",
    "\n",
    "pos_text, cell, pos, supercell, pos_label = \\\n",
    "            get_perturbed_pos(unit_cell, dim, unit_pos, pert_size)\n",
    "\n",
    "cutoff = 4\n",
    "    \n",
    "# bravais vectors\n",
    "vec1 = brav_mat[:,0].reshape(3,1)\n",
    "vec2 = brav_mat[:,1].reshape(3,1)\n",
    "vec3 = brav_mat[:,2].reshape(3,1)\n",
    "    \n",
    "pos"
   ]
  },
  {
   "cell_type": "markdown",
   "metadata": {},
   "source": [
    "We'll use 3xN arrays (where N is the number of atoms in the supercell) as the standard format for global configurations."
   ]
  },
  {
   "cell_type": "code",
   "execution_count": 165,
   "metadata": {},
   "outputs": [
    {
     "data": {
      "text/plain": [
       "array([[ 0.16913275,  1.30691811],\n",
       "       [ 0.08296065,  1.21610812],\n",
       "       [-0.02519314,  1.34500012]])"
      ]
     },
     "execution_count": 165,
     "metadata": {},
     "output_type": "execute_result"
    }
   ],
   "source": [
    "global_pos = np.array(pos).transpose()\n",
    "global_pos"
   ]
  },
  {
   "cell_type": "code",
   "execution_count": 166,
   "metadata": {},
   "outputs": [
    {
     "data": {
      "text/plain": [
       "(3, 2)"
      ]
     },
     "execution_count": 166,
     "metadata": {},
     "output_type": "execute_result"
    }
   ],
   "source": [
    "global_pos.shape"
   ]
  },
  {
   "cell_type": "markdown",
   "metadata": {},
   "source": [
    "### Create local configurations."
   ]
  },
  {
   "cell_type": "code",
   "execution_count": 167,
   "metadata": {
    "collapsed": true
   },
   "outputs": [],
   "source": [
    "# for a given vector, get images within cutoff radius\n",
    "# ref_vec, vec, vec1, vec2, vec3 assumed to be column vectors\n",
    "def get_images(ref_vec, vec, brav_mat, brav_inv, vec1, vec2, vec3, cutoff):\n",
    "    # get bravais coefficients of position vector relative to reference atom\n",
    "    coeff = np.matmul(brav_inv, vec-ref_vec)\n",
    "    \n",
    "    # get bravais coefficients for atoms within one super-super-super-cell\n",
    "    coeffs = [[],[],[]]\n",
    "    for n in range(3):\n",
    "        coeffs[n].append(coeff[n][0])\n",
    "        coeffs[n].append(coeff[n][0]-1)\n",
    "        coeffs[n].append(coeff[n][0]+1)\n",
    "        coeffs[n].append(coeff[n][0]-2)\n",
    "        coeffs[n].append(coeff[n][0]+2)\n",
    "\n",
    "    # get vectors within cutoff\n",
    "    vecs = []\n",
    "    for m in range(len(coeffs[0])):\n",
    "        for n in range(len(coeffs[1])):\n",
    "            for p in range(len(coeffs[2])):\n",
    "                vec_curr = coeffs[0][m]*vec1 + coeffs[1][n]*vec2 + coeffs[2][p]*vec3\n",
    "                \n",
    "                dist = np.linalg.norm(vec_curr)\n",
    "\n",
    "                if dist < cutoff:\n",
    "                    vecs.append(vec_curr+ref_vec)\n",
    "                    \n",
    "    return vecs"
   ]
  },
  {
   "cell_type": "code",
   "execution_count": 168,
   "metadata": {
    "collapsed": true
   },
   "outputs": [],
   "source": [
    "# with global configuration as input, get local configuration of a specified atom\n",
    "# first column contains coordinates and label of reference atom\n",
    "# remaining columns contain coordinates and labels of atoms within cutoff region (including images)\n",
    "def get_loc(global_pos, atom, cutoff,brav_mat, brav_inv, vec1, vec2, vec3):\n",
    "    # get Cartesian coordinates of reference atom\n",
    "    ref_vec = global_pos[:,atom].reshape(3,1)\n",
    "\n",
    "    # set number of atoms\n",
    "    noa = global_pos.shape[1]\n",
    "\n",
    "    # initialize local environment by appending atom label\n",
    "    loc = np.vstack((ref_vec,atom))\n",
    "\n",
    "    # add images within cutoff radius\n",
    "    for n in range(noa):\n",
    "        if n != atom:\n",
    "            vec = global_pos[:,n].reshape(3,1)\n",
    "            images = get_images(ref_vec, vec, brav_mat, brav_inv, vec1, vec2, vec3, cutoff)\n",
    "\n",
    "            # append image coordinates and labels\n",
    "            for m in range(len(images)):\n",
    "                vec_lab = np.vstack((images[m],n))\n",
    "                loc = np.hstack((loc, vec_lab))\n",
    "                \n",
    "    return loc\n",
    "\n",
    "# with global configuration as input, get local configurations of all atoms\n",
    "def get_locs(global_pos, cutoff,brav_mat, brav_inv, vec1, vec2, vec3):\n",
    "    noa = global_pos.shape[1]\n",
    "    locs = []\n",
    "    for n in range(noa):\n",
    "        loc_curr = get_loc(global_pos, n, cutoff,brav_mat, brav_inv, vec1, vec2, vec3)\n",
    "        locs.append(loc_curr)\n",
    "    return locs      "
   ]
  },
  {
   "cell_type": "code",
   "execution_count": 169,
   "metadata": {},
   "outputs": [
    {
     "name": "stdout",
     "output_type": "stream",
     "text": [
      "[array([[ 0.16913275,  1.30691811, -1.40858189, -1.40858189,  1.30691811],\n",
      "       [ 0.08296065,  1.21610812, -1.49939188,  1.21610812, -1.49939188],\n",
      "       [-0.02519314,  1.34500012,  1.34500012, -1.37049988, -1.37049988],\n",
      "       [ 0.        ,  1.        ,  1.        ,  1.        ,  1.        ]]), array([[ 1.30691811,  0.16913275,  2.88463275,  2.88463275,  0.16913275],\n",
      "       [ 1.21610812,  0.08296065,  2.79846065,  0.08296065,  2.79846065],\n",
      "       [ 1.34500012, -0.02519314, -0.02519314,  2.69030686,  2.69030686],\n",
      "       [ 1.        ,  0.        ,  0.        ,  0.        ,  0.        ]])]\n"
     ]
    }
   ],
   "source": [
    "locs = get_locs(global_pos, cutoff,brav_mat, brav_inv, vec1, vec2, vec3)\n",
    "print(locs)"
   ]
  },
  {
   "cell_type": "markdown",
   "metadata": {},
   "source": [
    "### Calculate two-body kernel."
   ]
  },
  {
   "cell_type": "code",
   "execution_count": 24,
   "metadata": {
    "collapsed": true
   },
   "outputs": [],
   "source": [
    "# get two-body kernel between two local environments\n",
    "def get_tb_base(rho1, rho2, sig, ls):\n",
    "    # get reference vectors\n",
    "    ref1 = rho1[0:3,0].reshape(3,1)\n",
    "    ref2 = rho2[0:3,0].reshape(3,1)\n",
    "    \n",
    "    # loop over atoms (skipping over reference atom)\n",
    "    tot_kern = 0\n",
    "    for m in range(1,rho1.shape[1]):\n",
    "        vec1 = rho1[0:3,m].reshape(3,1)\n",
    "        \n",
    "        for n in range(1,rho2.shape[1]):\n",
    "            vec2 = rho2[0:3,n].reshape(3,1)\n",
    "            \n",
    "            # calculate covariance for given pair\n",
    "            dist1 = np.linalg.norm(vec1-ref1)\n",
    "            dist2 = np.linalg.norm(vec2-ref2)\n",
    "            kern = sig**2*np.exp(-(dist1-dist2)**2/(2*ls**2))\n",
    "            tot_kern += kern\n",
    "            \n",
    "    return tot_kern"
   ]
  },
  {
   "cell_type": "code",
   "execution_count": 128,
   "metadata": {},
   "outputs": [
    {
     "name": "stdout",
     "output_type": "stream",
     "text": [
      "13.042559225600275\n",
      "12.78505611642455\n",
      "8.77436392829975\n",
      "11.255097467995327\n",
      "13.72631313929308\n",
      "11.078188494313935\n",
      "9.712778768615099\n",
      "11.941311644065575\n",
      "30.19236772920608\n",
      "12.539462123111377\n",
      "13.391983263233444\n",
      "12.281924977561854\n",
      "10.036103110705971\n",
      "14.394386129876004\n",
      "13.8561940293867\n",
      "12.183178771968139\n"
     ]
    }
   ],
   "source": [
    "comp_no_1 = 8\n",
    "# comp_no_2 = 4\n",
    "for n in range(16):\n",
    "    comp_no_2 = n\n",
    "    tot_kern = get_tb_base(locs[comp_no_1],locs[comp_no_2],1,0.01)/1\n",
    "#         ((locs[comp_no_1].shape[1]-1)*(locs[comp_no_2].shape[1]-1))\n",
    "    print(tot_kern)"
   ]
  },
  {
   "cell_type": "markdown",
   "metadata": {},
   "source": [
    "### Calculate full two-body kernel."
   ]
  },
  {
   "cell_type": "code",
   "execution_count": 231,
   "metadata": {},
   "outputs": [
    {
     "data": {
      "text/plain": [
       "[array([[ 0.16913275,  1.30691811, -1.40858189, -1.40858189,  1.30691811],\n",
       "        [ 0.08296065,  1.21610812, -1.49939188,  1.21610812, -1.49939188],\n",
       "        [-0.02519314,  1.34500012,  1.34500012, -1.37049988, -1.37049988],\n",
       "        [ 0.        ,  1.        ,  1.        ,  1.        ,  1.        ]]),\n",
       " array([[ 1.30691811,  0.16913275,  2.88463275,  2.88463275,  0.16913275],\n",
       "        [ 1.21610812,  0.08296065,  2.79846065,  0.08296065,  2.79846065],\n",
       "        [ 1.34500012, -0.02519314, -0.02519314,  2.69030686,  2.69030686],\n",
       "        [ 1.        ,  0.        ,  0.        ,  0.        ,  0.        ]])]"
      ]
     },
     "execution_count": 231,
     "metadata": {},
     "output_type": "execute_result"
    }
   ],
   "source": [
    "locs"
   ]
  },
  {
   "cell_type": "code",
   "execution_count": 232,
   "metadata": {},
   "outputs": [
    {
     "data": {
      "text/plain": [
       "array([[ 0.16913275,  1.30691811, -1.40858189, -1.40858189,  1.30691811],\n",
       "       [ 0.08296065,  1.21610812, -1.49939188,  1.21610812, -1.49939188],\n",
       "       [-0.02519314,  1.34500012,  1.34500012, -1.37049988, -1.37049988],\n",
       "       [ 0.        ,  1.        ,  1.        ,  1.        ,  1.        ]])"
      ]
     },
     "execution_count": 232,
     "metadata": {},
     "output_type": "execute_result"
    }
   ],
   "source": [
    "locs[0]"
   ]
  },
  {
   "cell_type": "code",
   "execution_count": 233,
   "metadata": {},
   "outputs": [
    {
     "data": {
      "text/plain": [
       "array([[ 1.30691811,  0.16913275,  2.88463275,  2.88463275,  0.16913275],\n",
       "       [ 1.21610812,  0.08296065,  2.79846065,  0.08296065,  2.79846065],\n",
       "       [ 1.34500012, -0.02519314, -0.02519314,  2.69030686,  2.69030686],\n",
       "       [ 1.        ,  0.        ,  0.        ,  0.        ,  0.        ]])"
      ]
     },
     "execution_count": 233,
     "metadata": {},
     "output_type": "execute_result"
    }
   ],
   "source": [
    "locs[1]"
   ]
  },
  {
   "cell_type": "code",
   "execution_count": 362,
   "metadata": {
    "collapsed": true
   },
   "outputs": [],
   "source": [
    "# get two body kernel (no derivatives)\n",
    "def derv0(vec1, ref1, vec2, ref2, sig, ls):\n",
    "    # calculate covariance for current pair of atoms\n",
    "    dist1 = np.linalg.norm(vec1-ref1)\n",
    "    dist2 = np.linalg.norm(vec2-ref2)\n",
    "    kern = sig**2*np.exp(-(dist1-dist2)**2/(2*ls**2))\n",
    "    return kern"
   ]
  },
  {
   "cell_type": "code",
   "execution_count": 363,
   "metadata": {
    "collapsed": true
   },
   "outputs": [],
   "source": [
    "# get two body kernel (one derivative)\n",
    "def derv1(en_vec, en_ref, force_vec, force_ref,\\\n",
    "          force_atom, ref_atom, env_atom, force_comp,\\\n",
    "          sig, ls):       \n",
    "    # check if force atom equals reference atom or environment atom\n",
    "    if int(force_atom)==int(ref_atom):\n",
    "        coord_diff = force_ref[force_comp][0]-force_vec[force_comp][0]\n",
    "    elif int(force_atom)==int(env_atom):\n",
    "        coord_diff = force_vec[force_comp][0]-force_ref[force_comp][0]\n",
    "    else:\n",
    "        return 0\n",
    "\n",
    "    # calculate covariance for current pair of atoms\n",
    "    en_dist = np.linalg.norm(en_vec-en_ref)\n",
    "    force_dist = np.linalg.norm(force_vec-force_ref)\n",
    "    base = sig**2*np.exp(-(en_dist-force_dist)**2/(2*ls**2))\n",
    "    kern = base*coord_diff*(force_dist-en_dist)/(force_dist*ls**2)\n",
    "    return kern"
   ]
  },
  {
   "cell_type": "code",
   "execution_count": 364,
   "metadata": {},
   "outputs": [],
   "source": [
    "# get two body kernel (two derivatives)\n",
    "def derv2(fa1, ra1, ea1, fc1, \\\n",
    "          fa2, ra2, ea2, fc2, \\\n",
    "          vec1, ref1, vec2, ref2,\\\n",
    "          sig, ls): \n",
    "\n",
    "    # check if force atom equals reference atom or environment atom\n",
    "    if int(fa1)==int(ra1):\n",
    "        coord1 = ref1[fc1][0]-vec1[fc1][0]\n",
    "    elif int(fa1)==int(ea1):\n",
    "        coord1 = vec1[fc1][0]-ref1[fc1][0]\n",
    "    else:\n",
    "        return 0\n",
    "\n",
    "    # check if force atom equals reference atom or environment atom\n",
    "    if int(fa2)==int(ra2):\n",
    "        coord2 = ref2[fc2][0]-vec2[fc2][0]\n",
    "    elif int(fa2)==int(ea2):\n",
    "        coord2 = vec2[fc2][0]-ref2[fc2][0]\n",
    "    else:\n",
    "        return 0\n",
    "\n",
    "    # calculate covariance for current pair of atoms\n",
    "    dist1 = np.linalg.norm(vec1-ref1)\n",
    "    dist2 = np.linalg.norm(vec2-ref2)\n",
    "    base = sig**2*np.exp(-(dist1-dist2)**2/(2*ls**2))\n",
    "    doub_fac = -ls**2+(dist1-dist2)**2\n",
    "    kern = -base*coord1*coord2*doub_fac/(dist1*dist2*ls**4)\n",
    "    \n",
    "    return kern"
   ]
  },
  {
   "cell_type": "code",
   "execution_count": 365,
   "metadata": {
    "collapsed": true
   },
   "outputs": [],
   "source": [
    "# get kernel when two global energies are compared\n",
    "def kern_ee(rho1, rho2, sig, ls):\n",
    "    tot_kern = 0\n",
    "    \n",
    "    # get reference vectors\n",
    "    ref1 = rho1[0:3,0].reshape(3,1)\n",
    "    ref2 = rho2[0:3,0].reshape(3,1)\n",
    "    \n",
    "    # loop over atoms in environment 1\n",
    "    for m in range(1,rho1.shape[1]):\n",
    "        vec1 = rho1[0:3,m].reshape(3,1)\n",
    "\n",
    "        # loop over atoms in environment 2\n",
    "        for n in range(1,rho2.shape[1]):\n",
    "            vec2 = rho2[0:3,n].reshape(3,1)\n",
    "\n",
    "            kern = derv0(vec1, ref1, vec2, ref2, sig, ls)\n",
    "            tot_kern += kern\n",
    "            \n",
    "    return tot_kern"
   ]
  },
  {
   "cell_type": "code",
   "execution_count": 366,
   "metadata": {
    "collapsed": true
   },
   "outputs": [],
   "source": [
    "# get kernel when an energy is compared to a force\n",
    "def kern_ef(rho1, rho2, d1, d2, sig, ls):\n",
    "    tot_kern=0\n",
    "    # define energy environment and force environment\n",
    "    if d1==0:\n",
    "        en_ref = rho1[0:3,0].reshape(3,1)\n",
    "        force_ref = rho2[0:3,0].reshape(3,1)\n",
    "        en_env = rho1\n",
    "        force_env = rho2\n",
    "        force_atom = d2[0]\n",
    "        ref_atom = force_env[3,0]\n",
    "        force_comp = d2[1]\n",
    "    if d2==0:\n",
    "        en_ref = rho2[0:3,0].reshape(3,1)\n",
    "        force_ref = rho1[0:3,0].reshape(3,1)\n",
    "        en_env = rho2\n",
    "        force_env = rho1\n",
    "        force_atom = d1[0]\n",
    "        ref_atom = force_env[3,0]\n",
    "        force_comp = d1[1]\n",
    "\n",
    "    # loop over atoms in energy environment\n",
    "    for m in range(1,en_env.shape[1]):\n",
    "        en_vec = en_env[0:3,m].reshape(3,1)\n",
    "\n",
    "        # loop over atoms in force environment\n",
    "        for n in range(1,force_env.shape[1]):\n",
    "            force_vec = force_env[0:3,n].reshape(3,1)\n",
    "            env_atom = force_env[3,n]\n",
    "\n",
    "            kern = derv1(en_vec, en_ref, force_vec, force_ref,\\\n",
    "                          force_atom, ref_atom, env_atom, force_comp,\\\n",
    "                          sig, ls)\n",
    "            \n",
    "            tot_kern+=kern\n",
    "    return tot_kern"
   ]
  },
  {
   "cell_type": "code",
   "execution_count": 378,
   "metadata": {
    "collapsed": true
   },
   "outputs": [],
   "source": [
    "# get kernel when two forces are compared\n",
    "def kern_ff(rho1, rho2, d1, d2, sig, ls):\n",
    "    tot_kern=0\n",
    "    # set force atoms and components\n",
    "    fa1 = d1[0]\n",
    "    fc1 = d1[1]\n",
    "    fa2 = d2[0]\n",
    "    fc2 = d2[1]\n",
    "    \n",
    "    # set reference vectors and atoms\n",
    "    ref1 = rho1[0:3,0].reshape(3,1)\n",
    "    ref2 = rho2[0:3,0].reshape(3,1)\n",
    "    ra1 = rho1[3,0]\n",
    "    ra2 = rho2[3,0]\n",
    "\n",
    "    # loop over atoms in force environment 1\n",
    "    for m in range(1,rho1.shape[1]):\n",
    "        vec1 = rho1[0:3,m].reshape(3,1)\n",
    "        ea1 = rho1[3,m]\n",
    "\n",
    "        # loop over atoms in force environment 2\n",
    "        for n in range(1,rho2.shape[1]):\n",
    "            vec2 = rho2[0:3,n].reshape(3,1)\n",
    "            ea2 = rho2[3,n]\n",
    "            \n",
    "            kern = derv2(fa1, ra1, ea1, fc1, \\\n",
    "                      fa2, ra2, ea2, fc2, \\\n",
    "                      vec1, ref1, vec2, ref2,\\\n",
    "                      sig, ls)\n",
    "            tot_kern+= kern\n",
    "    return tot_kern"
   ]
  },
  {
   "cell_type": "code",
   "execution_count": 368,
   "metadata": {},
   "outputs": [],
   "source": [
    "def get_kern(rho1, rho2, d1, d2, sig, ls):\n",
    "    # first case: comparing two global energies\n",
    "    if d1==0 and d2==0:\n",
    "        tot_kern = kern_ee(rho1, rho2, sig, ls)\n",
    "\n",
    "    # second case: compare global energy to force\n",
    "    # first element of d is the force atom\n",
    "    # second element is the component (0=x,1=y,2=z)\n",
    "    if (d1==0 and d2!=0) or (d2==0 and d1!=0):\n",
    "        tot_kern = kern_ef(rho1, rho2, d1, d2, sig, ls)\n",
    "\n",
    "    # third and final case: compare two force components\n",
    "    if d1!=0 and d2!=0:\n",
    "        tot_kern = kern_ff(rho1, rho2, d1, d2, sig, ls)\n",
    "                \n",
    "    return tot_kern"
   ]
  },
  {
   "cell_type": "code",
   "execution_count": 345,
   "metadata": {},
   "outputs": [
    {
     "data": {
      "text/plain": [
       "-2.948479810389541"
      ]
     },
     "execution_count": 345,
     "metadata": {},
     "output_type": "execute_result"
    }
   ],
   "source": [
    "tot_kern"
   ]
  },
  {
   "cell_type": "code",
   "execution_count": 299,
   "metadata": {},
   "outputs": [
    {
     "data": {
      "text/plain": [
       "[array([[ 0.16913275,  1.30691811, -1.40858189, -1.40858189,  1.30691811],\n",
       "        [ 0.08296065,  1.21610812, -1.49939188,  1.21610812, -1.49939188],\n",
       "        [-0.02519314,  1.34500012,  1.34500012, -1.37049988, -1.37049988],\n",
       "        [ 0.        ,  1.        ,  1.        ,  1.        ,  1.        ]]),\n",
       " array([[ 1.30691811,  0.16913275,  2.88463275,  2.88463275,  0.16913275],\n",
       "        [ 1.21610812,  0.08296065,  2.79846065,  0.08296065,  2.79846065],\n",
       "        [ 1.34500012, -0.02519314, -0.02519314,  2.69030686,  2.69030686],\n",
       "        [ 1.        ,  0.        ,  0.        ,  0.        ,  0.        ]])]"
      ]
     },
     "execution_count": 299,
     "metadata": {},
     "output_type": "execute_result"
    }
   ],
   "source": [
    "locs"
   ]
  },
  {
   "cell_type": "markdown",
   "metadata": {},
   "source": [
    "### Test kernel derivatives by comparing to Mathematica evaluations."
   ]
  },
  {
   "cell_type": "code",
   "execution_count": 369,
   "metadata": {},
   "outputs": [
    {
     "data": {
      "text/plain": [
       "0.1724489793313035"
      ]
     },
     "execution_count": 369,
     "metadata": {},
     "output_type": "execute_result"
    }
   ],
   "source": [
    "# test derv0\n",
    "sig=1\n",
    "ls=1\n",
    "vec1 = np.array([1,2,3]).reshape(3,1)\n",
    "ref1 = np.array([4,5,6]).reshape(3,1)\n",
    "vec2 = np.array([7,8,9]).reshape(3,1)\n",
    "ref2 = np.array([2,4,6]).reshape(3,1)\n",
    "derv0(vec1, ref1, vec2, ref2, sig, ls)"
   ]
  },
  {
   "cell_type": "code",
   "execution_count": 373,
   "metadata": {},
   "outputs": [
    {
     "data": {
      "text/plain": [
       "-0.1371761325709999"
      ]
     },
     "execution_count": 373,
     "metadata": {},
     "output_type": "execute_result"
    }
   ],
   "source": [
    "# test derv1\n",
    "sig=1\n",
    "ls=1\n",
    "en_vec = np.array([1,2,3]).reshape(3,1)\n",
    "en_ref = np.array([4,5,6]).reshape(3,1)\n",
    "force_vec = np.array([7,8,9]).reshape(3,1)\n",
    "force_ref = np.array([2,4,6]).reshape(3,1)\n",
    "force_atom = 10\n",
    "ref_atom = 10\n",
    "env_atom = 11\n",
    "force_comp = 2\n",
    "\n",
    "derv1(en_vec, en_ref, force_vec, force_ref,\\\n",
    "          force_atom, ref_atom, env_atom, force_comp,\\\n",
    "          sig, ls)"
   ]
  },
  {
   "cell_type": "code",
   "execution_count": 377,
   "metadata": {},
   "outputs": [
    {
     "data": {
      "text/plain": [
       "0.1416661571066722"
      ]
     },
     "execution_count": 377,
     "metadata": {},
     "output_type": "execute_result"
    }
   ],
   "source": [
    "# test derv2\n",
    "fa1 = 2\n",
    "ra1 = 2\n",
    "ea1 = 1\n",
    "fc1 = 0\n",
    "\n",
    "fa2 = 2\n",
    "ra2 = 2\n",
    "ea2 = 1\n",
    "fc2 = 1\n",
    "\n",
    "vec1 = np.array([1,2,3]).reshape(3,1)\n",
    "ref1 = np.array([4,5,6]).reshape(3,1)\n",
    "vec2 = np.array([7,8,9]).reshape(3,1)\n",
    "ref2 = np.array([2,4,6]).reshape(3,1)\n",
    "\n",
    "sig=1\n",
    "ls=1\n",
    "\n",
    "derv2(fa1, ra1, ea1, fc1, \\\n",
    "          fa2, ra2, ea2, fc2, \\\n",
    "          vec1, ref1, vec2, ref2,\\\n",
    "          sig, ls)"
   ]
  },
  {
   "cell_type": "markdown",
   "metadata": {},
   "source": [
    "### Test kernel on a simple configuration."
   ]
  },
  {
   "cell_type": "code",
   "execution_count": 379,
   "metadata": {},
   "outputs": [
    {
     "data": {
      "text/plain": [
       "-0.3732078124996383"
      ]
     },
     "execution_count": 379,
     "metadata": {},
     "output_type": "execute_result"
    }
   ],
   "source": []
  },
  {
   "cell_type": "code",
   "execution_count": null,
   "metadata": {
    "collapsed": true
   },
   "outputs": [],
   "source": []
  }
 ],
 "metadata": {
  "kernelspec": {
   "display_name": "Python 3",
   "language": "python",
   "name": "python3"
  },
  "language_info": {
   "codemirror_mode": {
    "name": "ipython",
    "version": 3
   },
   "file_extension": ".py",
   "mimetype": "text/x-python",
   "name": "python",
   "nbconvert_exporter": "python",
   "pygments_lexer": "ipython3",
   "version": "3.6.3"
  }
 },
 "nbformat": 4,
 "nbformat_minor": 2
}
