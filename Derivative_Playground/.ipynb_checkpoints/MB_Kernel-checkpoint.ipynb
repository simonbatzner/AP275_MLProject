{
 "cells": [
  {
   "cell_type": "code",
   "execution_count": 3,
   "metadata": {
    "collapsed": true
   },
   "outputs": [],
   "source": [
    "from sympy import *\n",
    "import numpy as np\n",
    "import scipy as sp\n",
    "import scipy.linalg"
   ]
  },
  {
   "cell_type": "markdown",
   "metadata": {},
   "source": [
    "### Calculate derivatives in sympy."
   ]
  },
  {
   "cell_type": "code",
   "execution_count": 4,
   "metadata": {
    "collapsed": true
   },
   "outputs": [],
   "source": [
    "# set symbols\n",
    "sig, ls, xi, x0, yi, y0, zi, z0, xj, x0p, yj, y0p, zj, z0p = \\\n",
    "    symbols('sig, ls, xi, x0, yi, y0, zi, z0, xj, x0p, yj, y0p, zj, z0p')"
   ]
  },
  {
   "cell_type": "code",
   "execution_count": 5,
   "metadata": {
    "collapsed": true
   },
   "outputs": [],
   "source": [
    "# define energy kernel\n",
    "tb_kern = sig**2*exp(-(sqrt((xi-x0)**2+(yi-y0)**2+(zi-z0)**2)-\\\n",
    "                       sqrt((xj-x0p)**2+(yj-y0p)**2+(zj-z0p)**2))**2/(2*ls**2))"
   ]
  },
  {
   "cell_type": "code",
   "execution_count": 6,
   "metadata": {
    "collapsed": true
   },
   "outputs": [],
   "source": [
    "# compute kernel derivatives\n",
    "tb_xx = diff(tb_kern, x0, x0p)\n",
    "tb_xy = diff(tb_kern, x0, y0p)\n",
    "tb_xz = diff(tb_kern, x0, z0p)\n",
    "tb_yx = diff(tb_kern, y0, x0p)\n",
    "tb_yy = diff(tb_kern, y0, y0p)\n",
    "tb_yz = diff(tb_kern, y0, z0p)\n",
    "tb_zx = diff(tb_kern, z0, x0p)\n",
    "tb_zy = diff(tb_kern, z0, y0p)\n",
    "tb_zz = diff(tb_kern, z0, z0p)"
   ]
  },
  {
   "cell_type": "code",
   "execution_count": 7,
   "metadata": {},
   "outputs": [
    {
     "data": {
      "text/plain": [
       "sig**2*(1 - (sqrt((x0 - xi)**2 + (y0 - yi)**2 + (z0 - zi)**2) - sqrt((x0p - xj)**2 + (y0p - yj)**2 + (z0p - zj)**2))**2/ls**2)*(x0 - xi)*(x0p - xj)*exp(-(sqrt((x0 - xi)**2 + (y0 - yi)**2 + (z0 - zi)**2) - sqrt((x0p - xj)**2 + (y0p - yj)**2 + (z0p - zj)**2))**2/(2*ls**2))/(ls**2*sqrt((x0 - xi)**2 + (y0 - yi)**2 + (z0 - zi)**2)*sqrt((x0p - xj)**2 + (y0p - yj)**2 + (z0p - zj)**2))"
      ]
     },
     "execution_count": 7,
     "metadata": {},
     "output_type": "execute_result"
    }
   ],
   "source": [
    "tb_xx"
   ]
  },
  {
   "cell_type": "code",
   "execution_count": 8,
   "metadata": {},
   "outputs": [
    {
     "data": {
      "text/plain": [
       "sig**2*(1 - (sqrt((x0 - xi)**2 + (y0 - yi)**2 + (z0 - zi)**2) - sqrt((x0p - xj)**2 + (y0p - yj)**2 + (z0p - zj)**2))**2/ls**2)*(x0 - xi)*(y0p - yj)*exp(-(sqrt((x0 - xi)**2 + (y0 - yi)**2 + (z0 - zi)**2) - sqrt((x0p - xj)**2 + (y0p - yj)**2 + (z0p - zj)**2))**2/(2*ls**2))/(ls**2*sqrt((x0 - xi)**2 + (y0 - yi)**2 + (z0 - zi)**2)*sqrt((x0p - xj)**2 + (y0p - yj)**2 + (z0p - zj)**2))"
      ]
     },
     "execution_count": 8,
     "metadata": {},
     "output_type": "execute_result"
    }
   ],
   "source": [
    "tb_xy"
   ]
  },
  {
   "cell_type": "code",
   "execution_count": 9,
   "metadata": {},
   "outputs": [
    {
     "data": {
      "text/plain": [
       "sig**2*(1 - (sqrt((x0 - xi)**2 + (y0 - yi)**2 + (z0 - zi)**2) - sqrt((x0p - xj)**2 + (y0p - yj)**2 + (z0p - zj)**2))**2/ls**2)*(x0 - xi)*(z0p - zj)*exp(-(sqrt((x0 - xi)**2 + (y0 - yi)**2 + (z0 - zi)**2) - sqrt((x0p - xj)**2 + (y0p - yj)**2 + (z0p - zj)**2))**2/(2*ls**2))/(ls**2*sqrt((x0 - xi)**2 + (y0 - yi)**2 + (z0 - zi)**2)*sqrt((x0p - xj)**2 + (y0p - yj)**2 + (z0p - zj)**2))"
      ]
     },
     "execution_count": 9,
     "metadata": {},
     "output_type": "execute_result"
    }
   ],
   "source": [
    "tb_xz"
   ]
  },
  {
   "cell_type": "code",
   "execution_count": 10,
   "metadata": {},
   "outputs": [
    {
     "data": {
      "text/plain": [
       "sig**2*(1 - (sqrt((x0 - xi)**2 + (y0 - yi)**2 + (z0 - zi)**2) - sqrt((x0p - xj)**2 + (y0p - yj)**2 + (z0p - zj)**2))**2/ls**2)*(x0p - xj)*(y0 - yi)*exp(-(sqrt((x0 - xi)**2 + (y0 - yi)**2 + (z0 - zi)**2) - sqrt((x0p - xj)**2 + (y0p - yj)**2 + (z0p - zj)**2))**2/(2*ls**2))/(ls**2*sqrt((x0 - xi)**2 + (y0 - yi)**2 + (z0 - zi)**2)*sqrt((x0p - xj)**2 + (y0p - yj)**2 + (z0p - zj)**2))"
      ]
     },
     "execution_count": 10,
     "metadata": {},
     "output_type": "execute_result"
    }
   ],
   "source": [
    "tb_yx"
   ]
  },
  {
   "cell_type": "code",
   "execution_count": 11,
   "metadata": {},
   "outputs": [
    {
     "data": {
      "text/plain": [
       "sig**2*(1 - (sqrt((x0 - xi)**2 + (y0 - yi)**2 + (z0 - zi)**2) - sqrt((x0p - xj)**2 + (y0p - yj)**2 + (z0p - zj)**2))**2/ls**2)*(y0 - yi)*(y0p - yj)*exp(-(sqrt((x0 - xi)**2 + (y0 - yi)**2 + (z0 - zi)**2) - sqrt((x0p - xj)**2 + (y0p - yj)**2 + (z0p - zj)**2))**2/(2*ls**2))/(ls**2*sqrt((x0 - xi)**2 + (y0 - yi)**2 + (z0 - zi)**2)*sqrt((x0p - xj)**2 + (y0p - yj)**2 + (z0p - zj)**2))"
      ]
     },
     "execution_count": 11,
     "metadata": {},
     "output_type": "execute_result"
    }
   ],
   "source": [
    "tb_yy"
   ]
  },
  {
   "cell_type": "code",
   "execution_count": 12,
   "metadata": {},
   "outputs": [
    {
     "data": {
      "text/plain": [
       "sig**2*(1 - (sqrt((x0 - xi)**2 + (y0 - yi)**2 + (z0 - zi)**2) - sqrt((x0p - xj)**2 + (y0p - yj)**2 + (z0p - zj)**2))**2/ls**2)*(y0 - yi)*(z0p - zj)*exp(-(sqrt((x0 - xi)**2 + (y0 - yi)**2 + (z0 - zi)**2) - sqrt((x0p - xj)**2 + (y0p - yj)**2 + (z0p - zj)**2))**2/(2*ls**2))/(ls**2*sqrt((x0 - xi)**2 + (y0 - yi)**2 + (z0 - zi)**2)*sqrt((x0p - xj)**2 + (y0p - yj)**2 + (z0p - zj)**2))"
      ]
     },
     "execution_count": 12,
     "metadata": {},
     "output_type": "execute_result"
    }
   ],
   "source": [
    "tb_yz"
   ]
  },
  {
   "cell_type": "code",
   "execution_count": 13,
   "metadata": {},
   "outputs": [
    {
     "data": {
      "text/plain": [
       "sig**2*(1 - (sqrt((x0 - xi)**2 + (y0 - yi)**2 + (z0 - zi)**2) - sqrt((x0p - xj)**2 + (y0p - yj)**2 + (z0p - zj)**2))**2/ls**2)*(z0 - zi)*(z0p - zj)*exp(-(sqrt((x0 - xi)**2 + (y0 - yi)**2 + (z0 - zi)**2) - sqrt((x0p - xj)**2 + (y0p - yj)**2 + (z0p - zj)**2))**2/(2*ls**2))/(ls**2*sqrt((x0 - xi)**2 + (y0 - yi)**2 + (z0 - zi)**2)*sqrt((x0p - xj)**2 + (y0p - yj)**2 + (z0p - zj)**2))"
      ]
     },
     "execution_count": 13,
     "metadata": {},
     "output_type": "execute_result"
    }
   ],
   "source": [
    "tb_zz"
   ]
  },
  {
   "cell_type": "markdown",
   "metadata": {},
   "source": [
    "### Define two-body kernel."
   ]
  },
  {
   "cell_type": "code",
   "execution_count": 14,
   "metadata": {
    "collapsed": true
   },
   "outputs": [],
   "source": [
    "def cov_func(sig, ls, xi, x0, yi, y0, zi, z0, xj, x0p, yj, y0p, zj, z0p, d1, d2):\n",
    "    base = sig**2*(1 - (np.sqrt((x0 - xi)**2 + (y0 - yi)**2 + (z0 - zi)**2) - np.sqrt((x0p - xj)**2 + \\\n",
    "            (y0p - yj)**2 + (z0p - zj)**2))**2/ls**2)*np.exp(-(np.sqrt((x0 - xi)**2 + \\\n",
    "            (y0 - yi)**2 + (z0 - zi)**2) - np.sqrt((x0p - xj)**2 + (y0p - yj)**2 + (z0p - zj)**2))**2/\\\n",
    "            (2*ls**2))/(ls**2*np.sqrt((x0 - xi)**2 + (y0 - yi)**2 + (z0 - zi)**2)*np.sqrt((x0p - xj)**2 + \\\n",
    "            (y0p - yj)**2 + (z0p - zj)**2))\n",
    "    \n",
    "    if d1==1 and d2==1:\n",
    "        cov = base * (x0 - xi)*(x0p - xj)\n",
    "    elif d1==1 and d2==2:\n",
    "        cov = base * (x0 - xi)*(y0p - yj)\n",
    "    elif d1==1 and d2==3:\n",
    "        cov = base * (x0 - xi)*(z0p - zj)\n",
    "    elif d1==2 and d2==1:\n",
    "        cov = base * (y0 - yi)*(x0p - xj)\n",
    "    elif d1==2 and d2==2:\n",
    "        cov = base * (y0 - yi)*(y0p - yj)\n",
    "    elif d1==2 and d2==3:\n",
    "        cov = base * (y0 - yi)*(z0p - zj)\n",
    "    elif d1==3 and d2==1:\n",
    "        cov = base * (z0 - zi)*(x0p - xj)\n",
    "    elif d1==3 and d2==2:\n",
    "        cov = base * (z0 - zi)*(y0p - yj)\n",
    "    elif d1==3 and d2==3:\n",
    "        cov = base * (z0 - zi)*(z0p - zj)\n",
    "        \n",
    "    return cov"
   ]
  },
  {
   "cell_type": "code",
   "execution_count": 15,
   "metadata": {
    "collapsed": true
   },
   "outputs": [],
   "source": [
    "# 1 = partial wrt x\n",
    "# 2 = partial wrt y\n",
    "# 3 = partial wrt z\n",
    "# x1, x2 are 3xN matrices of Cartesian coordinates with central atom at the origin\n",
    "def tb_kernel(x1, x2, d1, d2, sig, ls):\n",
    "    # central atom assumed to be at the origin\n",
    "    x0, y0, z0, x0p, y0p, z0p = [0,0,0,0,0,0]\n",
    "    \n",
    "    # loop over atoms\n",
    "    tot_kern = 0\n",
    "    for m in range(x1.shape[1]):\n",
    "        xi = x1[0,m]\n",
    "        yi = x1[1,m]\n",
    "        zi = x1[2,m]\n",
    "        \n",
    "        for n in range(x2.shape[1]):\n",
    "            xj = x2[0,n]\n",
    "            yj = x2[1,n]\n",
    "            zj = x2[2,n]\n",
    "            \n",
    "            # calculate covariance for given pair\n",
    "            cov = cov_func(sig, ls, xi, x0, yi, y0, zi, z0, \\\n",
    "                           xj, x0p, yj, y0p, zj, z0p, d1, d2)\n",
    "            tot_kern += cov\n",
    "            \n",
    "    return tot_kern"
   ]
  },
  {
   "cell_type": "code",
   "execution_count": 49,
   "metadata": {
    "collapsed": true
   },
   "outputs": [],
   "source": [
    "# get two body kernel (two derivatives)\n",
    "# x1, x2 are 4xN matrices containing distances and Cartesian coordinate differences\n",
    "def tb_kern(x1, x2, d1, d2, sig, ls):\n",
    "    # loop over atoms\n",
    "    tot_kern = 0\n",
    "    for m in range(x1.shape[1]):\n",
    "        dist1 = x1[0,m]\n",
    "        coord1 = x1[d1,m]\n",
    "        for n in range(x2.shape[1]): \n",
    "            dist2 = x2[0,n]\n",
    "            coord2 = x2[d2,n]\n",
    "            \n",
    "            # calculate covariance for current pair of atoms\n",
    "            base = sig**2*np.exp(-(dist1-dist2)**2/(2*ls**2))\n",
    "            doub_fac = -ls**2+(dist1-dist2)**2\n",
    "            kern = -base*coord1*coord2*doub_fac/(dist1*dist2*ls**4)\n",
    "            \n",
    "            tot_kern+=kern\n",
    "    \n",
    "    return tot_kern"
   ]
  },
  {
   "cell_type": "code",
   "execution_count": 17,
   "metadata": {
    "collapsed": true
   },
   "outputs": [],
   "source": [
    "# get 3Nx3N noiseless kernel matrix\n",
    "# assume all 3 force components are known for each configuration\n",
    "# X is assumed to be a list of 3xN arrays\n",
    "def get_K(X,sig,ls):\n",
    "    # initialize matrix\n",
    "    size = len(X)*3\n",
    "    K = np.zeros([size, size])\n",
    "    \n",
    "    # calculate elements\n",
    "    for m in range(size):\n",
    "        x1 = X[int(floor(m/3))]\n",
    "        d1 = m%3+1\n",
    "        for n in range(m,size):\n",
    "            x2 = X[int(floor(n/3))]\n",
    "            d2 = n%3+1\n",
    "           \n",
    "            # calculate kernel\n",
    "            cov = tb_kernel(x1, x2, d1, d2, sig, ls)\n",
    "            K[m,n] = cov\n",
    "            K[n,m] = cov\n",
    "    \n",
    "    # perform cholesky decomposition\n",
    "    L = np.linalg.cholesky(K)\n",
    "    \n",
    "    return K, L"
   ]
  },
  {
   "cell_type": "code",
   "execution_count": 18,
   "metadata": {
    "collapsed": true
   },
   "outputs": [],
   "source": [
    "# get kernel vector\n",
    "def get_kv(X,x,d1,sig,ls):\n",
    "    size = len(X)*3\n",
    "    kv=np.zeros([size,1])\n",
    "    for m in range(size):\n",
    "        x2 = X[int(floor(m/3))]\n",
    "        d2 = m%3+1\n",
    "        kv[m]=tb_kernel(x,x2,d1,d2,sig,ls)\n",
    "        \n",
    "    return kv"
   ]
  },
  {
   "cell_type": "code",
   "execution_count": 19,
   "metadata": {
    "collapsed": true
   },
   "outputs": [],
   "source": [
    "# get alpha\n",
    "def get_alpha(K,L,y): \n",
    "    # get alpha\n",
    "    ts1 = sp.linalg.solve_triangular(L,y,lower=True)\n",
    "    alpha = sp.linalg.solve_triangular(L.transpose(),ts1)\n",
    "            \n",
    "    return alpha"
   ]
  },
  {
   "cell_type": "code",
   "execution_count": 20,
   "metadata": {
    "collapsed": true
   },
   "outputs": [],
   "source": [
    "# get likelihood\n",
    "def get_like(K,L,y,alpha): \n",
    "    # get log marginal likelihood\n",
    "    like = -(1/2)*np.matmul(y.transpose(),alpha)-\\\n",
    "            np.sum(np.log(np.diagonal(L)))-\\\n",
    "            np.log(2*np.pi)*K.shape[1]/2\n",
    "            \n",
    "    return like\n",
    "\n",
    "# get likelihood as a function of hyperparameters\n",
    "def like_hyp(hyp,X,y):\n",
    "    # unpack hyperparameters\n",
    "    sig = hyp[0]\n",
    "    ls = hyp[1]\n",
    "    \n",
    "    # calculate likelihood\n",
    "    K, L = get_K(X,sig,ls)\n",
    "    alpha = get_alpha(K,L,y)\n",
    "    like = get_like(K,L,y,alpha)\n",
    "    \n",
    "    return like\n",
    "\n",
    "# get minus likelihood as a function of hyperparameters\n",
    "def minus_like_hyp(hyp,X,y):\n",
    "    like = like_hyp(hyp,X,y)\n",
    "    minus_like = -like\n",
    "    return minus_like"
   ]
  },
  {
   "cell_type": "code",
   "execution_count": 21,
   "metadata": {
    "collapsed": true
   },
   "outputs": [],
   "source": [
    "# make GP prediction with SE kernel\n",
    "def GP_pred(X,y,K,L,alpha,sig,ls,xt,d):\n",
    "    # get kernel vector\n",
    "    kv = get_kv(X,xt,d,sig,ls)\n",
    "    \n",
    "    # get predictive mean\n",
    "    f = np.matmul(kv.transpose(),alpha)\n",
    "    \n",
    "    # get predictive variance\n",
    "    v = sp.linalg.solve_triangular(L,kv,lower=True)\n",
    "    self_kern = tb_kernel(xt, xt, d, d, sig, ls)\n",
    "    var = self_kern - np.matmul(v.transpose(),v)\n",
    "    \n",
    "    return f, var"
   ]
  },
  {
   "cell_type": "markdown",
   "metadata": {},
   "source": [
    "### Compare kernels."
   ]
  },
  {
   "cell_type": "code",
   "execution_count": 25,
   "metadata": {
    "collapsed": true
   },
   "outputs": [],
   "source": [
    "X = [np.array([[1,-1,-5],[2,2,7],[5,3,1]])]"
   ]
  },
  {
   "cell_type": "code",
   "execution_count": 27,
   "metadata": {},
   "outputs": [
    {
     "data": {
      "text/plain": [
       "array([[ 1, -1, -5],\n",
       "       [ 2,  2,  7],\n",
       "       [ 5,  3,  1]])"
      ]
     },
     "execution_count": 27,
     "metadata": {},
     "output_type": "execute_result"
    }
   ],
   "source": [
    "X[0]"
   ]
  },
  {
   "cell_type": "code",
   "execution_count": 40,
   "metadata": {},
   "outputs": [
    {
     "data": {
      "text/plain": [
       "-0.9086561573215726"
      ]
     },
     "execution_count": 40,
     "metadata": {},
     "output_type": "execute_result"
    }
   ],
   "source": [
    "# try kernel 1\n",
    "x1 = np.array([[0.5,0,0],[0,0.75,0],[0,0,1]])\n",
    "x2 = np.array([[-1.5,0,0],[0,-1,0],[0,0,1]])\n",
    "sig = 1\n",
    "ls = 1\n",
    "d1 = 2\n",
    "d2 = 2\n",
    "\n",
    "tb_kernel(x1, x2, d1, d2, sig, ls)"
   ]
  },
  {
   "cell_type": "code",
   "execution_count": 50,
   "metadata": {},
   "outputs": [
    {
     "data": {
      "text/plain": [
       "-0.9086561573215727"
      ]
     },
     "execution_count": 50,
     "metadata": {},
     "output_type": "execute_result"
    }
   ],
   "source": [
    "# try kernel 2\n",
    "v1 = np.array([[0.5,0.75,1],[-0.5,0,0],[0,-0.75,0],[0,0,-1]])\n",
    "v2 = np.array([[1.5,1,1],[1.5,0,0],[0,1,0],[0,0,-1]])\n",
    "\n",
    "tb_kern(v1, v2, d1, d2, sig, ls)"
   ]
  },
  {
   "cell_type": "markdown",
   "metadata": {},
   "source": [
    "### Test two-body kernel."
   ]
  },
  {
   "cell_type": "code",
   "execution_count": 22,
   "metadata": {
    "collapsed": true
   },
   "outputs": [],
   "source": [
    "def rotate_xy(x, theta):\n",
    "    new_x = np.zeros(x.shape)\n",
    "    for n in range(x.shape[1]):\n",
    "        vec = x[:,n]\n",
    "        x_new = np.cos(theta)*vec[0]-np.sin(theta)*vec[1]\n",
    "        y_new = np.sin(theta)*vec[0]+np.cos(theta)*vec[1]\n",
    "        new_x[0,n]=x_new\n",
    "        new_x[1,n]=y_new\n",
    "        new_x[2,n]=x[2,n]\n",
    "    return new_x"
   ]
  },
  {
   "cell_type": "code",
   "execution_count": 23,
   "metadata": {
    "collapsed": true
   },
   "outputs": [],
   "source": [
    "X = [np.array([[1,-1,-5],[2,2,7],[5,3,1]])]\n",
    "\n",
    "y = np.array([[-1],[-2],[-5]])+\\\n",
    "0.4*np.array([[1],[-2],[-3]])+\\\n",
    "0.5*np.array([[5],[-7],[-1]])\n",
    "\n",
    "[sig,ls]=[1,1]\n",
    "# X = [np.array([[1],[0],[0]])]"
   ]
  },
  {
   "cell_type": "code",
   "execution_count": 24,
   "metadata": {},
   "outputs": [
    {
     "data": {
      "text/plain": [
       "(array([[0.5]]), array([[6.9388939e-18]]))"
      ]
     },
     "execution_count": 24,
     "metadata": {},
     "output_type": "execute_result"
    }
   ],
   "source": [
    "K, L = get_K(X,sig,ls)\n",
    "alpha = get_alpha(K,L,y)\n",
    "\n",
    "xt = rotate_xy(np.array([[5],[-7],[-1]]),2)\n",
    "d=3\n",
    "GP_pred(X,y,K,L,alpha,sig,ls,xt,d)"
   ]
  },
  {
   "cell_type": "markdown",
   "metadata": {
    "collapsed": true
   },
   "source": [
    "### Test on MD data."
   ]
  },
  {
   "cell_type": "code",
   "execution_count": 56,
   "metadata": {},
   "outputs": [],
   "source": [
    "# MD parameters\n",
    "frames = 50 # number of MD frames\n",
    "noa = 54 # number of atoms in 3x3x3 supercell\n",
    "step = 20 # step size in rydberg a.u.\n",
    "mass = 28.0855 # Si mass in atomic mass units\n",
    "\n",
    "# crystal structure\n",
    "alat = 5.431\n",
    "unit_cell = [[0.0, alat/2, alat/2], [alat/2, 0.0, alat/2], \\\n",
    "\t\t\t\t\t[alat/2, alat/2, 0.0]] # fcc primitive cell\n",
    "unit_pos = [['Si',[0,0,0]],['Si',[alat/4, alat/4, alat/4]]]\n",
    "brav_mat = np.array([[0.0, alat/2, alat/2], [alat/2, 0.0, alat/2], \\\n",
    "\t\t\t\t\t[alat/2, alat/2, 0.0]])*3\n",
    "brav_inv = np.linalg.inv(brav_mat)\n",
    "\n",
    "# bravais vectors\n",
    "vec1 = brav_mat[:,0]\n",
    "vec2 = brav_mat[:,1]\n",
    "vec3 = brav_mat[:,2]\n",
    "\n",
    "# GP parameters\n",
    "length_scale = 1\n",
    "length_scale_min = 1e-5\n",
    "length_scale_max = 1e5\n",
    "\n",
    "# threshold parameters\n",
    "force_conv = 25.71104309541616 # Ry/au to eV/A\n",
    "thresh_perc = 0.2 # percentage of initial average force\n",
    "\n",
    "# fingerprint parameters\n",
    "eta_lower = 0\n",
    "eta_upper = 2\n",
    "eta_length = 10\n",
    "cutoff = 8 # in angstrom\n",
    "\n",
    "# QE parameters\n",
    "ecut = 18.0 # plane wave cutoff energy\n",
    "nk = 4 # size of kpoint grid\n",
    "dim = 3 # size of supercell\n",
    "nat = 2 * dim**3 # number of atoms in supercell\n",
    "pert_size = 0.05 * alat # size of initial perturbation\n",
    "npool = 36 # number of k-pt pools\n",
    "\n",
    "# QE locations\n",
    "pseudo_dir = '/n/home03/jonpvandermause/qe-6.2.1/pseudo'\n",
    "outdir='/n/home03/jonpvandermause/Production'\n",
    "pw_loc = '/n/home03/jonpvandermause/qe-6.2.1/bin/pw.x'\n",
    "in_file = 'scf_13.in'\n",
    "out_file = 'scf_13.out'\n",
    "update_name = 'update_13.txt'"
   ]
  },
  {
   "cell_type": "code",
   "execution_count": 57,
   "metadata": {
    "collapsed": true
   },
   "outputs": [],
   "source": [
    "# create supercell\n",
    "def get_supercell(unit_cell, dim, unit_pos):\n",
    "    # initialize position list\n",
    "    positions = []\n",
    "\n",
    "    # define bravais lattice vectors\n",
    "    vec1 = np.array(unit_cell[0])\n",
    "    vec2 = np.array(unit_cell[1])\n",
    "    vec3 = np.array(unit_cell[2])\n",
    "\n",
    "    # append positions of atoms in supercell\n",
    "    for m in range(dim):\n",
    "        for n in range(dim):\n",
    "            for p in range(dim):\n",
    "                for q in range(len(unit_pos)):\n",
    "                    positions.append([unit_pos[q][0], \\\n",
    "                        list(np.array(unit_pos[q][1]) +\\\n",
    "                         m*vec1 + n*vec2 + p*vec3)])\n",
    "                    \n",
    "    # get supercell dimensions\n",
    "    supercell = list(np.array(unit_cell)*dim)\n",
    "                    \n",
    "    return positions, supercell\n",
    "\n",
    "# perturb the positions in a supercell\n",
    "def perturb_struc(positions, pert_size):\n",
    "    # loop through positions and add a random perturbation\n",
    "    for n in range(len(positions)):\n",
    "        for m in range(3):\n",
    "            # get current coordinate\n",
    "            coord_curr = positions[n][1][m]\n",
    "\n",
    "            # get perturbation by drawing from uniform\n",
    "            pert = np.random.uniform(-pert_size, pert_size)\n",
    "\n",
    "            # perturb the coordinate\n",
    "            positions[n][1][m] += pert\n",
    "            \n",
    "    return positions\n",
    "\n",
    "# put supercell positions and cell parameters in QE friendly format\n",
    "# based on Boris K's AP275 code\n",
    "def get_position_txt(positions, supercell):\n",
    "    \n",
    "    # write atomic positions\n",
    "    postxt = ''\n",
    "    postxt += 'ATOMIC_POSITIONS {angstrom}'\n",
    "    for pos in positions:\n",
    "        postxt += '\\n {} {:1.5f} {:1.5f} {:1.5f}'.format(pos[0], *pos[1])\n",
    "        \n",
    "    # write cell parameters\n",
    "    celltxt = ''\n",
    "    celltxt += 'CELL_PARAMETERS {angstrom}'\n",
    "    for vector in supercell:\n",
    "        celltxt += '\\n {:1.5f} {:1.5f} {:1.5f}'.format(*vector)\n",
    "    return postxt, celltxt\n",
    "\n",
    "# get perturbed positions\n",
    "def get_perturbed_pos(unit_cell, dim, unit_pos, pert_size):\n",
    "    # get perturbed structure\n",
    "    positions, supercell = get_supercell(unit_cell, dim, unit_pos)\n",
    "    positions = perturb_struc(positions, pert_size)\n",
    "    pos, cell = get_position_txt(positions, supercell)\n",
    "    \n",
    "    #get position array\n",
    "    pos_array = [positions[n][1] for n in range(len(positions))]\n",
    "\n",
    "    return pos, cell, pos_array, supercell, positions"
   ]
  },
  {
   "cell_type": "code",
   "execution_count": 58,
   "metadata": {},
   "outputs": [],
   "source": [
    "pos_text, cell, pos, supercell, pos_label = \\\n",
    "    get_perturbed_pos(unit_cell, dim, unit_pos, pert_size)"
   ]
  },
  {
   "cell_type": "code",
   "execution_count": 62,
   "metadata": {},
   "outputs": [],
   "source": [
    "pos_array = np.array(pos).transpose()"
   ]
  },
  {
   "cell_type": "code",
   "execution_count": null,
   "metadata": {
    "collapsed": true
   },
   "outputs": [],
   "source": [
    "# for a given vector, get images within cutoff radius\n",
    "# ref_vec, vec, vec1, vec2, vec3 assumed to be column vectors\n",
    "def get_images(ref_vec, vec, brav_mat, brav_inv, vec1, vec2, vec3, cutoff):\n",
    "    # get bravais coefficients of position vector relative to reference atom\n",
    "    coeff = np.matmul(brav_inv, vec-ref_vec)\n",
    "    \n",
    "    # get bravais coefficients for atoms within one super-super-super-cell\n",
    "    coeffs = [[],[],[]]\n",
    "    for n in range(3):\n",
    "        coeffs[n].append(coeff[n][0])\n",
    "        coeffs[n].append(coeff[n][0]-1)\n",
    "        coeffs[n].append(coeff[n][0]+1)\n",
    "        coeffs[n].append(coeff[n][0]-2)\n",
    "        coeffs[n].append(coeff[n][0]+2)\n",
    "\n",
    "    # get vectors within cutoff\n",
    "    vecs = []\n",
    "    for m in range(len(coeffs[0])):\n",
    "        for n in range(len(coeffs[1])):\n",
    "            for p in range(len(coeffs[2])):\n",
    "                vec_curr = coeffs[0][m]*vec1 + coeffs[1][n]*vec2 + coeffs[2][p]*vec3\n",
    "                \n",
    "                dist = np.linalg.norm(vec_curr)\n",
    "\n",
    "                if dist < cutoff:\n",
    "                    vecs.append(vec_curr+ref_vec)\n",
    "                    \n",
    "    return vecs"
   ]
  },
  {
   "cell_type": "code",
   "execution_count": null,
   "metadata": {
    "collapsed": true
   },
   "outputs": [],
   "source": [
    "# given a supercell and an atom number, return symmetry vectors\n",
    "def get_env(pos, atom, brav_mat, brav_inv, vec1, vec2, vec3):\n",
    "\n",
    "    # set atom position\n",
    "    pos_atom = np.array(pos[atom])\n",
    "    etas = np.logspace(eta_lower, eta_upper, eta_length)\n",
    "\n",
    "    # initialize symmetry vectors\n",
    "    symm_x = np.zeros([len(etas)])\n",
    "    symm_y = np.zeros([len(etas)])\n",
    "    symm_z = np.zeros([len(etas)])\n",
    "\n",
    "    # loop through positions to find all atoms and images in the neighborhood\n",
    "    for n in range(len(pos)):\n",
    "        # note that images of the atom don't contribute to symmetry vectors\n",
    "        if n != atom:\n",
    "            # position relative to reference atom\n",
    "            diff_curr = np.array(pos[n]) - pos_atom\n",
    "\n",
    "            # get images within cutoff\n",
    "            vecs, dists = get_cutoff_vecs(diff_curr, brav_mat, \\\n",
    "                brav_inv, vec1, vec2, vec3, cutoff)\n",
    "    \n",
    "    # concatenate the symmetry vectors to represent the full environment\n",
    "    symm_x_cat = np.concatenate((symm_x, symm_y, symm_z))\n",
    "    symm_y_cat = np.concatenate((symm_y, symm_z, symm_x))\n",
    "    symm_z_cat = np.concatenate((symm_z, symm_x, symm_y))\n",
    "                \n",
    "    return symm_x_cat, symm_y_cat, symm_z_cat"
   ]
  }
 ],
 "metadata": {
  "kernelspec": {
   "display_name": "Python 3",
   "language": "python",
   "name": "python3"
  },
  "language_info": {
   "codemirror_mode": {
    "name": "ipython",
    "version": 3
   },
   "file_extension": ".py",
   "mimetype": "text/x-python",
   "name": "python",
   "nbconvert_exporter": "python",
   "pygments_lexer": "ipython3",
   "version": "3.6.3"
  }
 },
 "nbformat": 4,
 "nbformat_minor": 2
}
