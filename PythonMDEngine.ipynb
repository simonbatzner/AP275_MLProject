{
 "cells": [
  {
   "cell_type": "markdown",
   "metadata": {},
   "source": [
    "# In this notebook, we define a simple Python-based Molecular Dynamics engine which will allow for the use of ML-based Ab-Initio Molecular Dynamics Analogues."
   ]
  },
  {
   "cell_type": "code",
   "execution_count": 30,
   "metadata": {},
   "outputs": [],
   "source": [
    "import numpy as np\n",
    "import os\n",
    "import sys\n",
    "import matplotlib.pyplot as plt\n",
    "import numpy.random as rand\n",
    "import numpy.linalg as la"
   ]
  },
  {
   "cell_type": "markdown",
   "metadata": {},
   "source": [
    "## Change this according to your local environment"
   ]
  },
  {
   "cell_type": "code",
   "execution_count": 31,
   "metadata": {},
   "outputs": [],
   "source": [
    "sys.path.append('/Users/steven/Documents/Research/Projects/MLED/ML-electron-density/util')"
   ]
  },
  {
   "cell_type": "markdown",
   "metadata": {},
   "source": [
    "First, we define the engine which will power the whole simulation.\n",
    "\n",
    "The engine object needs to keep track of every atom's individual position, and will propagate the system forward by computing the forces acting on each atom and then propagating forward by a time step."
   ]
  },
  {
   "cell_type": "code",
   "execution_count": 32,
   "metadata": {},
   "outputs": [],
   "source": [
    "class MD_engine():\n",
    "    \n",
    "    def __init__(self,input_atoms=[],cell=np.eye(3), dx=.1,verbosity=1,model='SHO',store_trajectory=True):\n",
    "        \"\"\"\n",
    "        Initialize the features of the system, which include:\n",
    "        atoms: Atoms in the unit cell\n",
    "        cell:  Vectors which define the dimensions of the unit cell\n",
    "        dx:    Perturbation distance used to evaluate the gradient in potential energy\n",
    "        model: The energy model used\n",
    "        time:  Internal timer for simulations\n",
    "        \"\"\"\n",
    "        self.verbosity = verbosity\n",
    "\n",
    "        self.atoms = []  # List of atoms \n",
    "        for atom in input_atoms:\n",
    "            print(atom)\n",
    "            self.add_atom(atom)\n",
    "        \n",
    "        self.dx = dx\n",
    "        self.cell = np.array(cell)\n",
    "        \n",
    "        self.model = model\n",
    "\n",
    "        self.time = 0.\n",
    "        \n",
    "        self.store_trajectory=store_trajectory\n",
    "        \n",
    "        if store_trajectory:\n",
    "            self.trajs=[]\n",
    "            for n in range(len(self.atoms)):\n",
    "                self.trajs.append([])\n",
    "        \n",
    "    def add_atom(self,atom):\n",
    "        \"\"\"\n",
    "        Helper function which adds atoms to the simulation\n",
    "        \"\"\"\n",
    "        if self.verbosity==4:\n",
    "            print(\"Adding atom\",atom)\n",
    "        self.atoms.append(atom)    \n",
    "    \n",
    "\n",
    "    def get_config_energy(self,atoms):\n",
    "        \"\"\"\n",
    "        The positions of the atoms are passed to a given model of choice,\n",
    "        in which the positions are converted into the configuration which is\n",
    "        appropriate to be parsed by the model.\n",
    "\n",
    "        For instance, the positions may need to be converted into \n",
    "        atom-centered symmetry functions for the Gaussian Process model. By\n",
    "        passing in the positions, the necessary mapping is performed, and then\n",
    "        the appropriate model is called.\n",
    "        \"\"\" \n",
    "        \n",
    "        positions=[atom.position for atom in self.atoms]\n",
    "        \n",
    "        if self.model=='SHO':\n",
    "            return SHO_energy(atoms)\n",
    "    \n",
    "        #######\n",
    "        # Below are 'hooks' where we will later plug in to our machine learning models\n",
    "        #######\n",
    "        if self.model=='GP':\n",
    "            config = GP_config(positions)\n",
    "            return GP_energy(config)\n",
    "\n",
    "        if self.model==\"KRR\":\n",
    "            config = KRR_config(positions)\n",
    "            return GP_energy(config)\n",
    "        \n",
    "        \n",
    "        if self.model=='LJ':\n",
    "            return LJ_energy(atoms)\n",
    "    \n",
    "    def update_atom_forces(self):\n",
    "        \"\"\"\n",
    "        Perturbs the atoms by a small amount dx in each direction\n",
    "        and models the gradient (and thus the force) \n",
    "        via a finite-difference approximation.\n",
    "        \"\"\"\n",
    "        \n",
    "        if self.model=='AIMD':\n",
    "            results=run_espresso(self.atoms,self.cell)\n",
    "            force_list = results['forces']\n",
    "            for n  in range(len(force_list)):\n",
    "                self.atoms[n].force=list(results['forces'][n])\n",
    "            return\n",
    "        \n",
    "        E0 = self.get_config_energy(self.atoms)\n",
    "        atoms = self.atoms\n",
    "        for atom in atoms:\n",
    "            for coord in range(3):\n",
    "                atom.position[coord] += self.dx\n",
    "                Eplus = self.get_config_energy(atoms)\n",
    "                \n",
    "                atom.position[coord] -= 2*self.dx\n",
    "                Eminus = self.get_config_energy(atoms)\n",
    "                atom.position[coord] += self.dx\n",
    "            \n",
    "                atom.force[coord] = -first_derivative_2nd(Eminus,Eplus,self.dx)\n",
    "                if self.verbosity==5:\n",
    "                    print(\"Just set force on atom's coordinate\",coord,\" to be \", -first_derivative_2nd(Eminus,Eplus,self.dx))\n",
    "            \n",
    "            atom.apply_constraint()\n",
    "        \n",
    "        \n",
    "    def take_timestep(self,dt,method='Verlet'):\n",
    "        \n",
    "        temp_num=0.\n",
    "        #####\n",
    "        # Bad first order Euler method\n",
    "        # Undesirable because accumulates error at order dt**2 which \n",
    "        # adds up quickly for long simulations\n",
    "        #####\n",
    "        if method=='FO_Euler':\n",
    "            for atom in atoms:\n",
    "                for coord in range(3):\n",
    "                    atom.prev_pos[coord] = np.copy(atom.position[coord])\n",
    "                    atom.position[coord] += atom.velocity[coord]*dt+ atom.force[coord]*dt**2/atom.mass\n",
    "                    atom.velocity[coord] += atom.force[coord]*dt/atom.mass\n",
    "                    \n",
    "        ######\n",
    "        # Superior Verlet integration\n",
    "        # Citation:  https://en.wikipedia.org/wiki/Verlet_integration\n",
    "        ######\n",
    "        elif method=='Verlet':\n",
    "            for atom in atoms:\n",
    "                for coord in range(3):\n",
    "                    temp_num = np.copy(atom.position[coord])\n",
    "                    atom.position[coord] = 2*atom.position[coord] - atom.prev_pos[coord] + atom.force[coord]*dt**2/atom.mass\n",
    "                    atom.velocity[coord] += atom.force[coord]*dt/atom.mass     \n",
    "                    atom.prev_pos[coord] = np.copy(temp_num)\n",
    "                    \n",
    "                    \n",
    "\n",
    "        \n",
    "        \n",
    "        if self.store_trajectory:\n",
    "            for n in range(len(self.atoms)):\n",
    "                self.trajs[n].append(np.copy(self.atoms[n].position))\n",
    "        self.time+=dt\n",
    "    \n",
    "    def run(self,tf,dt):\n",
    "        \"\"\"\n",
    "        Handles timestepping; at each step, calculates the force and then\n",
    "        advances via the take_timestep method.\n",
    "        \n",
    "        \"\"\"\n",
    "        if self.time==0:\n",
    "            self.update_atom_forces()\n",
    "            self.take_timestep(dt,method='FO_Euler')\n",
    "        \n",
    "        while self.time<tf:\n",
    "            self.update_atom_forces()\n",
    "            self.take_timestep(dt)\n",
    "            \n",
    "\n",
    "            \n",
    "            if self.verbosity>=3:\n",
    "                self.print_positions()\n",
    "            \n",
    "            \n",
    "            if self.model=='GP':\n",
    "            \n",
    "                valid = self.gauge_uncertainty(self.atoms,self.threshold)\n",
    "                if valid:                    \n",
    "                    continue\n",
    "                else:\n",
    "                    take_timestep(-dt)\n",
    "                    self.time -=dt\n",
    "                    call_dft()\n",
    "                    train_model()\n",
    "                \n",
    "\n",
    "        \n",
    "\n",
    "    def gauge_uncertainty(self,positions,threshold):\n",
    "        \"\"\"\n",
    "        For later implementation with the Gaussian Process model.\n",
    "        Will check to see if the uncertainty of the model's prediction of the energy\n",
    "        within a given configuration is within an acceptable bound given by threshold.\n",
    "        \n",
    "        If it is unacceptable, the current configuration is exported into a Quantum ESPRESSO run,\n",
    "        which is then added into the ML dataset and the model is re-trained.\n",
    "        \"\"\"\n",
    "        config=GP_config(positions)\n",
    "        sigma=get_config_uncertainty(config)\n",
    "        if sigma>threshold:\n",
    "            return False\n",
    "        else:\n",
    "            return True\n",
    "        \n",
    "    def assert_boundary_conditions(self,atoms):\n",
    "        \"\"\"\n",
    "        We seek to have our atoms be entirely within the unit cell, that is,\n",
    "        for bravais lattice vectors a1 a2 and a3, we want our atoms to be at positions\n",
    "        \n",
    "         x= a a1 + b a2 + c a3\n",
    "         where a, b, c in [0,1)\n",
    "         \n",
    "         So in order to impose this condition, we invert the matrix equation such that\n",
    "        \n",
    "          [a11 a12 a13] [a] = [x1]\n",
    "          [a21 a22 a23] [b] = [x2]\n",
    "          [a31 a32 a33] [c] = [x3]\n",
    "          \n",
    "          And if we find that a, b, c not in [0,1) we modulo by 1.\n",
    "        \"\"\"\n",
    "        a1 = self.cell[0]\n",
    "        a2 = self.cell[1]\n",
    "        a3 = self.cell[2]\n",
    "        print(a1)\n",
    "        print(a2)\n",
    "        print(a3)\n",
    "        for atom in atoms:\n",
    "            print('Atom positions:',atom.position)\n",
    "            coords= np.dot(la.inv(self.cell),atom.position)\n",
    "            print('Resultant coords:',coords)\n",
    "            \n",
    "            atom.position= a1 * (coords[0]%1) + a2 * (coords[1]%1) + a3 * (coords[2]%1 )\n",
    "            print(\"new position:\",atom.position)\n",
    "            \n",
    "    def print_positions(self):\n",
    "        \n",
    "        print(\"T=\",self.time)\n",
    "        for n in range(len(self.atoms)):\n",
    "            pos=self.atoms[n].position\n",
    "            print('Atom %d:'%n,pos[0],pos[1],pos[2])"
   ]
  },
  {
   "cell_type": "markdown",
   "metadata": {},
   "source": [
    "## Set up SHO configuration and Energy functions\n",
    "\n",
    "Note that this SHO energy is a very simple model which only has the atoms oscillating about their initial positions; there is no interactions between the atoms whatsoever. This is merely built as a test of the MD engine to ensure that it is running and propagating the atoms correctly."
   ]
  },
  {
   "cell_type": "code",
   "execution_count": 33,
   "metadata": {},
   "outputs": [],
   "source": [
    "def SHO_config(atoms):\n",
    "    return [atom.position for atom in atoms]\n",
    "\n",
    "def SHO_energy(atoms,kx=10.0,ky=1.0,kz=1.0):\n",
    "    \n",
    "    if type(kx) is list :\n",
    "        if len(kx)!=len(atoms):\n",
    "            print(\"Warning! Number of Kx supplied is not equal to number of atoms\")\n",
    "    elif type(kx) is float:\n",
    "        kx=[kx]*len(atoms)\n",
    "    \n",
    "    if type(ky) is list:\n",
    "        if len(ky)!=len(atoms):\n",
    "            print(\"Warning! Number of Ky supplied is not equal to number of atoms\")\n",
    "    elif type(ky) is float:\n",
    "        ky=[ky]*len(atoms)\n",
    "     \n",
    "    \n",
    "    if type(kz) is list:\n",
    "        if len(kz)!=len(atoms):\n",
    "            print(\"Warning! Number of Kz supplied is not equal to number of atoms\")\n",
    "    elif type(kz) is float:\n",
    "        kz=[kz]*len(atoms)\n",
    "    \n",
    "    init_pos  = [atom.initial_pos for atom in atoms]\n",
    "    positions = [atom.position for atom in atoms]\n",
    "    \n",
    "    K = [kx,ky,kz]\n",
    "    \n",
    "    E=0\n",
    "    for m in range(len(atoms)):\n",
    "        for n in range(3):\n",
    "            E+= K[n][m] * (init_pos[m][n]- positions[m][n])**2\n",
    "            \n",
    "            \n",
    "    return E\n",
    "            \n",
    "    \n"
   ]
  },
  {
   "cell_type": "markdown",
   "metadata": {},
   "source": [
    "## Set up LJ Energy Functions"
   ]
  },
  {
   "cell_type": "code",
   "execution_count": 34,
   "metadata": {},
   "outputs": [],
   "source": [
    "def LJ_energy(atoms, rm=.5, eps=10., debug=False):\n",
    "    E=0.\n",
    "    for at in atoms:\n",
    "        for at2 in atoms:\n",
    "            if at.fingerprint!=at2.fingerprint:\n",
    "                \n",
    "                disp = la.norm(at.position-at2.position)\n",
    "                if debug:\n",
    "                    print('Current LJ disp between atoms is:',disp)\n",
    "                \n",
    "                E+= .5 * eps * ( (rm/disp)**12 - 2* (rm/disp)**6)\n",
    "                \n",
    "    return E"
   ]
  },
  {
   "cell_type": "markdown",
   "metadata": {},
   "source": [
    "## Define the 'Atom' class\n",
    "\n",
    "A list of atom objects are contained within the engine and are iterated over within every timestep."
   ]
  },
  {
   "cell_type": "code",
   "execution_count": 35,
   "metadata": {},
   "outputs": [],
   "source": [
    "class Atom():\n",
    "    \n",
    "    def __init__(self,position=[0.,0.,0.], velocity=[0.,0.,0.],force=[0.,0.,0.],initial_pos=[0,0,0],mass=1.0,\n",
    "                element='',constraint=[False,False,False]):\n",
    "\n",
    "        self.position = np.array(position)\n",
    "        self.prev_pos = np.array(self.position)\n",
    "        self.velocity = np.array(velocity)\n",
    "        self.force   = np.array(force)\n",
    "        self.mass     = mass\n",
    "        self.element  = element\n",
    "        \n",
    "        self.constraint = constraint\n",
    "        \n",
    "        self.fingerprint = rand.rand()  # This is how I tell atoms apart. Easier than indexing them manually...\n",
    "                                        \n",
    "\n",
    "\n",
    "        #############\n",
    "        ## Used for testing with a simple harmonic oscillator potential\n",
    "        ## in which the force is merely the displacement squared from initial position\n",
    "        ############\n",
    "        self.initial_pos = np.array(initial_pos)\n",
    "        \n",
    "        self.parameters={'position': self.position,\n",
    "                         'velocity': self.velocity,\n",
    "                         'force'  : self.force,\n",
    "                         'mass'    : self.mass,\n",
    "                         'element' : self.element,\n",
    "                         'constraint' :self.constraint,\n",
    "                         'initial_pos':self.initial_pos}\n",
    "        \n",
    "\n",
    "    \n",
    "    def __str__(self):\n",
    "        return str(self.parameters)\n",
    "    \n",
    "    def get_position(self):\n",
    "        return self.position\n",
    "    def get_velocity(self):\n",
    "        return self.velocity\n",
    "    def get_force(self):\n",
    "        return self.force\n",
    "\n",
    "    def apply_constraint(self):\n",
    "        for n in range(3):\n",
    "            if self.constraint[n]:\n",
    "                self.velocity[n] = 0.\n",
    "                self.force[n]   = 0.\n",
    "    "
   ]
  },
  {
   "cell_type": "markdown",
   "metadata": {},
   "source": [
    "# Quantum Cafe: Where we brew ESPRESSO"
   ]
  },
  {
   "cell_type": "markdown",
   "metadata": {},
   "source": [
    "In the ESPRESSO config object, tune the parameters according to your system. You could use environment variables like so (defined in your home directory's .bash_profile) or just hard-code them into the notebook below.\n",
    "\n",
    "This is going to be important for letting the Gaussian Process model interface with ESPRESSO, in that positions will be printed corresponding to the "
   ]
  },
  {
   "cell_type": "code",
   "execution_count": 36,
   "metadata": {},
   "outputs": [],
   "source": [
    "from project_pwscf import *\n",
    "from objects import *\n",
    "from project_objects import *\n",
    "from ase import Atoms\n",
    "\n",
    "class ESPRESSO_config(object):\n",
    "    workdir   = os.environ['PROJDIR']+'/AIMD'\n",
    "    run_pwscf = os.environ['PWSCF_COMMAND']\n",
    "    pseudopotentials={\"H\":PseudoPotential(path=os.environ[\"ESPRESSO_PSEUDO\"], ptype='uspp', element='H',\n",
    "                                            functional='GGA', name='H.pbe-kjpaw.UPF'),\n",
    "                      \"Si\": os.environ['ESPRESSO_PSEUDO']+'/Si.pz-vbc.UPF',\n",
    "                      'Al': os.environ['ESPRESSO_PSEUDO']+'/Al.pz-vbc.UPF'}\n",
    "    \n",
    "    \n",
    "    \n",
    "    \n",
    "    \n",
    "config1 = ESPRESSO_config\n",
    "    \n",
    "def run_espresso(atoms,cell,qe_config=config1,ecut=90,molecule=True,stepcount=0):\n",
    "\n",
    "    pseudopots={}\n",
    "    elements = [atom.element for atom in atoms]\n",
    "    for element in elements:\n",
    "        pseudopots[element] = qe_config.pseudopotentials[element]\n",
    "    \n",
    "    ase_struc = Atoms(symbols= [atom.element for atom in atoms],\n",
    "                     positions=[atom.position for atom in atoms],\n",
    "                     cell = cell,\n",
    "                     pbc=[0,0,0] if molecule else [1,1,1])\n",
    "    \n",
    "    struc = Struc(ase2struc(ase_struc))\n",
    "\n",
    "\n",
    "    if molecule:\n",
    "        kpts = Kpoints(gridsize=[1, 1, 1], option='gamma', offset=False)\n",
    "\n",
    "    dirname = 'step'+str(stepcount)\n",
    "    runpath = Dir(path=os.path.join(os.environ['PROJDIR'], \"AIMD\", dirname))\n",
    "    input_params = PWscf_inparam({\n",
    "        'CONTROL': {\n",
    "                   'prefix': 'AIMD',\n",
    "            'calculation': 'scf',\n",
    "            'pseudo_dir': os.environ['ESPRESSO_PSEUDO'],\n",
    "            'outdir': runpath.path,\n",
    "#            'wfcdir': runpath.path,\n",
    "            'disk_io': 'low',\n",
    "            'tprnfor' : True,\n",
    "            'wf_collect' :False\n",
    "        },\n",
    "        'SYSTEM': {\n",
    "            'ecutwfc': ecut,\n",
    "            'ecutrho': ecut * 4,\n",
    "#\t\t\t'nspin': 4 if 'rel' in potname else 1,\n",
    "#\t\t\t'occupations': 'smearing',\n",
    "#\t\t\t'smearing': 'mp',\n",
    "#            'degauss': 0.02,\n",
    "            'noinv': False\n",
    "            #'lspinorb':True if 'rel' in potname else False,\n",
    "             },\n",
    "        'ELECTRONS': {\n",
    "            'diagonalization': 'david',\n",
    "            'mixing_beta': 0.5,\n",
    "            'conv_thr': 1e-7\n",
    "        },\n",
    "        'IONS': {},\n",
    "        'CELL': {},\n",
    "        })\n",
    "\n",
    "    output_file = run_qe_pwscf(runpath=runpath, struc=struc,  pseudopots=pseudopots,\n",
    "                                   params=input_params, kpoints=kpts,\n",
    "                                    ncpu=1)\n",
    "    output = parse_qe_pwscf_output(outfile=output_file)\n",
    "\n",
    "    return output\n",
    "    \n",
    "        \n",
    "        \n",
    "    \n",
    "    "
   ]
  },
  {
   "cell_type": "code",
   "execution_count": 37,
   "metadata": {},
   "outputs": [
    {
     "name": "stdout",
     "output_type": "stream",
     "text": [
      "{'position': array([0, 0, 0]), 'velocity': array([0., 0., 0.]), 'force': array([0., 0., 0.]), 'mass': 1.0, 'element': 'H', 'constraint': [False, False, False], 'initial_pos': array([0, 0, 0])}\n",
      "{'position': array([0.5, 0. , 0. ]), 'velocity': array([0., 0., 0.]), 'force': array([0., 0., 0.]), 'mass': 1.0, 'element': 'H', 'constraint': [False, False, False], 'initial_pos': array([0, 0, 0])}\n"
     ]
    }
   ],
   "source": [
    "Hatom3 = Atom(position=[0,0,0], element='H')\n",
    "Hatom4 = Atom(position=[.5,0,0], element='H')\n",
    "\n",
    "atoms2  = [Hatom3,Hatom4]\n",
    "eng = MD_engine(cell=[[2,0,0],[0,2.0,0],[0,0,1.5]],input_atoms=atoms2,verbosity=0,model='LJ',dx=.001)\n",
    "\n",
    "    \n",
    "results=run_espresso(atoms2,cell=[[2,0,0],[0,5,0],[0,0,1.5]],ecut=90,molecule=True,qe_config=config1)"
   ]
  },
  {
   "cell_type": "code",
   "execution_count": 38,
   "metadata": {},
   "outputs": [
    {
     "name": "stdout",
     "output_type": "stream",
     "text": [
      "[[-1.13513691, 0.0, 0.0], [1.13513691, 0.0, 0.0]]\n"
     ]
    }
   ],
   "source": [
    "print(results['forces'])"
   ]
  },
  {
   "cell_type": "code",
   "execution_count": 39,
   "metadata": {},
   "outputs": [],
   "source": [
    "def first_derivative_2nd(fm,fp,h):\n",
    "    \"\"\"\n",
    "    Computes the second-order accurate finite difference form of the first derivative\n",
    "    which is (  fp/2 - fm/2)/(h)\n",
    "    as seen on Wikipedia: https://en.wikipedia.org/wiki/Finite_difference_coefficient\n",
    "    \"\"\"\n",
    "    if h==0:\n",
    "        print(\"Warning... Trying to divide by zero. Derivative will diverge.\")\n",
    "    return (fp-fm)/float(2*h)\n",
    "\n",
    "def first_derivative_4th(fmm,fm,fp,fpp,h):\n",
    "    \"\"\"\n",
    "    Computes the fourth-order accurate finite difference form of the first derivative\n",
    "    which is (fmm/12  - 2 fm /3 + 2 fp /3 - fpp /12)/h\n",
    "    as seen on Wikipedia: https://en.wikipedia.org/wiki/Finite_difference_coefficient\n",
    "    \"\"\"\n",
    "    \n",
    "    if h==0:\n",
    "        print(\"Warning... Trying to divide by zero. Derivative will diverge.\")\n",
    "        \n",
    "    return (fmm/12. - 2*fm/3. +  2*fp/3. - fpp/12.)/float(h)\n",
    "\n"
   ]
  },
  {
   "cell_type": "markdown",
   "metadata": {},
   "source": [
    "# Testing Ground"
   ]
  },
  {
   "cell_type": "code",
   "execution_count": 53,
   "metadata": {},
   "outputs": [
    {
     "name": "stdout",
     "output_type": "stream",
     "text": [
      "{'position': array([0.26, 0.  , 0.  ]), 'velocity': array([0., 0., 0.]), 'force': array([0., 0., 0.]), 'mass': 1.0, 'element': 'H', 'constraint': [False, False, False], 'initial_pos': array([0.25, 0.  , 0.  ])}\n",
      "{'position': array([0.75, 0.  , 0.  ]), 'velocity': array([0., 0., 0.]), 'force': array([0., 0., 0.]), 'mass': 1.0, 'element': 'H', 'constraint': [False, False, False], 'initial_pos': array([0, 0, 0])}\n"
     ]
    },
    {
     "name": "stderr",
     "output_type": "stream",
     "text": [
      "/Users/steven/anaconda/lib/python3.6/site-packages/ipykernel_launcher.py:13: DeprecationWarning: object of type <class 'float'> cannot be safely interpreted as an integer.\n",
      "  del sys.path[0]\n"
     ]
    },
    {
     "data": {
      "image/png": "[encoded data removed]",
      "text/plain": [
       "<matplotlib.figure.Figure at 0x106909d30>"
      ]
     },
     "metadata": {},
     "output_type": "display_data"
    }
   ],
   "source": [
    "\n",
    "Hatom1 = Atom(position=[.26,0,0],initial_pos=[.25,0,0], element='H')\n",
    "Hatom2 = Atom(position=[.75,0,0], element='H')\n",
    "\n",
    "atoms  = [Hatom1,Hatom2]\n",
    "#atoms = [Hatom1]\n",
    "eng = MD_engine(cell=[[1,0,0],[0,1,0],[0,0,1]],input_atoms=atoms,verbosity=0,model='LJ',dx=.001)\n",
    "\n",
    "\n",
    "eng.run(.5,.001)\n",
    "\n",
    "#print([x for x in eng.trajs[0]])\n",
    "plt.plot(np.linspace(10,.1,1000/2),[x[0] for x in eng.trajs[0]])\n",
    "\n",
    "plt.show()"
   ]
  },
  {
   "cell_type": "code",
   "execution_count": 41,
   "metadata": {},
   "outputs": [
    {
     "name": "stdout",
     "output_type": "stream",
     "text": [
      "{'position': array([5, 0, 8]), 'velocity': array([0., 0., 0.]), 'force': array([0., 0., 0.]), 'mass': 1.0, 'element': 'H', 'constraint': [False, False, False], 'initial_pos': array([0, 0, 0])}\n",
      "[1.  0.5 0. ]\n",
      "[ 1.  -0.5  0. ]\n",
      "[0.  0.  1.5]\n",
      "Atom positions: [5 0 8]\n",
      "Resultant coords: [2.5        5.         5.33333333]\n",
      "new position: [0.5  0.25 0.5 ]\n",
      "[<__main__.Atom object at 0x10517be10>]\n"
     ]
    }
   ],
   "source": [
    "Hatom3 = Atom(position=[5,0,8], element='H')\n",
    "atoms2  = [Hatom3]\n",
    "eng = MD_engine(cell=[[1,.5,0],[1,-.5,0],[0,0,1.5]],input_atoms=atoms2,verbosity=0,model='LJ',dx=.001)\n",
    "\n",
    "eng.assert_boundary_conditions(eng.atoms)\n",
    "print(eng.atoms)"
   ]
  },
  {
   "cell_type": "code",
   "execution_count": 66,
   "metadata": {},
   "outputs": [
    {
     "name": "stdout",
     "output_type": "stream",
     "text": [
      "{'position': array([0.24, 0.  , 0.  ]), 'velocity': array([0., 0., 0.]), 'force': array([0., 0., 0.]), 'mass': 1.0, 'element': 'H', 'constraint': [False, False, False], 'initial_pos': array([0, 0, 0])}\n",
      "{'position': array([0.75, 0.  , 0.  ]), 'velocity': array([0., 0., 0.]), 'force': array([0., 0., 0.]), 'mass': 1.0, 'element': 'H', 'constraint': [False, False, False], 'initial_pos': array([0, 0, 0])}\n"
     ]
    },
    {
     "ename": "ValueError",
     "evalue": "x and y must have same first dimension, but have shapes (100,) and (500,)",
     "output_type": "error",
     "traceback": [
      "\u001b[0;31m---------------------------------------------------------------------------\u001b[0m",
      "\u001b[0;31mValueError\u001b[0m                                Traceback (most recent call last)",
      "\u001b[0;32m<ipython-input-66-4cde02feba9a>\u001b[0m in \u001b[0;36m<module>\u001b[0;34m()\u001b[0m\n\u001b[1;32m     10\u001b[0m \u001b[0;34m\u001b[0m\u001b[0m\n\u001b[1;32m     11\u001b[0m \u001b[0;31m#print([x for x in eng.trajs[0]])\u001b[0m\u001b[0;34m\u001b[0m\u001b[0;34m\u001b[0m\u001b[0m\n\u001b[0;32m---> 12\u001b[0;31m \u001b[0mplt\u001b[0m\u001b[0;34m.\u001b[0m\u001b[0mplot\u001b[0m\u001b[0;34m(\u001b[0m\u001b[0mnp\u001b[0m\u001b[0;34m.\u001b[0m\u001b[0mlinspace\u001b[0m\u001b[0;34m(\u001b[0m\u001b[0;36m.1\u001b[0m\u001b[0;34m,\u001b[0m\u001b[0;36m.001\u001b[0m\u001b[0;34m,\u001b[0m\u001b[0;36m100\u001b[0m\u001b[0;34m)\u001b[0m\u001b[0;34m,\u001b[0m\u001b[0;34m[\u001b[0m\u001b[0mx\u001b[0m\u001b[0;34m[\u001b[0m\u001b[0;36m0\u001b[0m\u001b[0;34m]\u001b[0m \u001b[0;32mfor\u001b[0m \u001b[0mx\u001b[0m \u001b[0;32min\u001b[0m \u001b[0meng\u001b[0m\u001b[0;34m.\u001b[0m\u001b[0mtrajs\u001b[0m\u001b[0;34m[\u001b[0m\u001b[0;36m0\u001b[0m\u001b[0;34m]\u001b[0m\u001b[0;34m]\u001b[0m\u001b[0;34m)\u001b[0m\u001b[0;34m\u001b[0m\u001b[0m\n\u001b[0m",
      "\u001b[0;32m/Users/steven/anaconda/lib/python3.6/site-packages/matplotlib/pyplot.py\u001b[0m in \u001b[0;36mplot\u001b[0;34m(*args, **kwargs)\u001b[0m\n\u001b[1;32m   3315\u001b[0m                       mplDeprecation)\n\u001b[1;32m   3316\u001b[0m     \u001b[0;32mtry\u001b[0m\u001b[0;34m:\u001b[0m\u001b[0;34m\u001b[0m\u001b[0m\n\u001b[0;32m-> 3317\u001b[0;31m         \u001b[0mret\u001b[0m \u001b[0;34m=\u001b[0m \u001b[0max\u001b[0m\u001b[0;34m.\u001b[0m\u001b[0mplot\u001b[0m\u001b[0;34m(\u001b[0m\u001b[0;34m*\u001b[0m\u001b[0margs\u001b[0m\u001b[0;34m,\u001b[0m \u001b[0;34m**\u001b[0m\u001b[0mkwargs\u001b[0m\u001b[0;34m)\u001b[0m\u001b[0;34m\u001b[0m\u001b[0m\n\u001b[0m\u001b[1;32m   3318\u001b[0m     \u001b[0;32mfinally\u001b[0m\u001b[0;34m:\u001b[0m\u001b[0;34m\u001b[0m\u001b[0m\n\u001b[1;32m   3319\u001b[0m         \u001b[0max\u001b[0m\u001b[0;34m.\u001b[0m\u001b[0m_hold\u001b[0m \u001b[0;34m=\u001b[0m \u001b[0mwashold\u001b[0m\u001b[0;34m\u001b[0m\u001b[0m\n",
      "\u001b[0;32m/Users/steven/anaconda/lib/python3.6/site-packages/matplotlib/__init__.py\u001b[0m in \u001b[0;36minner\u001b[0;34m(ax, *args, **kwargs)\u001b[0m\n\u001b[1;32m   1896\u001b[0m                     warnings.warn(msg % (label_namer, func.__name__),\n\u001b[1;32m   1897\u001b[0m                                   RuntimeWarning, stacklevel=2)\n\u001b[0;32m-> 1898\u001b[0;31m             \u001b[0;32mreturn\u001b[0m \u001b[0mfunc\u001b[0m\u001b[0;34m(\u001b[0m\u001b[0max\u001b[0m\u001b[0;34m,\u001b[0m \u001b[0;34m*\u001b[0m\u001b[0margs\u001b[0m\u001b[0;34m,\u001b[0m \u001b[0;34m**\u001b[0m\u001b[0mkwargs\u001b[0m\u001b[0;34m)\u001b[0m\u001b[0;34m\u001b[0m\u001b[0m\n\u001b[0m\u001b[1;32m   1899\u001b[0m         \u001b[0mpre_doc\u001b[0m \u001b[0;34m=\u001b[0m \u001b[0minner\u001b[0m\u001b[0;34m.\u001b[0m\u001b[0m__doc__\u001b[0m\u001b[0;34m\u001b[0m\u001b[0m\n\u001b[1;32m   1900\u001b[0m         \u001b[0;32mif\u001b[0m \u001b[0mpre_doc\u001b[0m \u001b[0;32mis\u001b[0m \u001b[0;32mNone\u001b[0m\u001b[0;34m:\u001b[0m\u001b[0;34m\u001b[0m\u001b[0m\n",
      "\u001b[0;32m/Users/steven/anaconda/lib/python3.6/site-packages/matplotlib/axes/_axes.py\u001b[0m in \u001b[0;36mplot\u001b[0;34m(self, *args, **kwargs)\u001b[0m\n\u001b[1;32m   1404\u001b[0m         \u001b[0mkwargs\u001b[0m \u001b[0;34m=\u001b[0m \u001b[0mcbook\u001b[0m\u001b[0;34m.\u001b[0m\u001b[0mnormalize_kwargs\u001b[0m\u001b[0;34m(\u001b[0m\u001b[0mkwargs\u001b[0m\u001b[0;34m,\u001b[0m \u001b[0m_alias_map\u001b[0m\u001b[0;34m)\u001b[0m\u001b[0;34m\u001b[0m\u001b[0m\n\u001b[1;32m   1405\u001b[0m \u001b[0;34m\u001b[0m\u001b[0m\n\u001b[0;32m-> 1406\u001b[0;31m         \u001b[0;32mfor\u001b[0m \u001b[0mline\u001b[0m \u001b[0;32min\u001b[0m \u001b[0mself\u001b[0m\u001b[0;34m.\u001b[0m\u001b[0m_get_lines\u001b[0m\u001b[0;34m(\u001b[0m\u001b[0;34m*\u001b[0m\u001b[0margs\u001b[0m\u001b[0;34m,\u001b[0m \u001b[0;34m**\u001b[0m\u001b[0mkwargs\u001b[0m\u001b[0;34m)\u001b[0m\u001b[0;34m:\u001b[0m\u001b[0;34m\u001b[0m\u001b[0m\n\u001b[0m\u001b[1;32m   1407\u001b[0m             \u001b[0mself\u001b[0m\u001b[0;34m.\u001b[0m\u001b[0madd_line\u001b[0m\u001b[0;34m(\u001b[0m\u001b[0mline\u001b[0m\u001b[0;34m)\u001b[0m\u001b[0;34m\u001b[0m\u001b[0m\n\u001b[1;32m   1408\u001b[0m             \u001b[0mlines\u001b[0m\u001b[0;34m.\u001b[0m\u001b[0mappend\u001b[0m\u001b[0;34m(\u001b[0m\u001b[0mline\u001b[0m\u001b[0;34m)\u001b[0m\u001b[0;34m\u001b[0m\u001b[0m\n",
      "\u001b[0;32m/Users/steven/anaconda/lib/python3.6/site-packages/matplotlib/axes/_base.py\u001b[0m in \u001b[0;36m_grab_next_args\u001b[0;34m(self, *args, **kwargs)\u001b[0m\n\u001b[1;32m    405\u001b[0m                 \u001b[0;32mreturn\u001b[0m\u001b[0;34m\u001b[0m\u001b[0m\n\u001b[1;32m    406\u001b[0m             \u001b[0;32mif\u001b[0m \u001b[0mlen\u001b[0m\u001b[0;34m(\u001b[0m\u001b[0mremaining\u001b[0m\u001b[0;34m)\u001b[0m \u001b[0;34m<=\u001b[0m \u001b[0;36m3\u001b[0m\u001b[0;34m:\u001b[0m\u001b[0;34m\u001b[0m\u001b[0m\n\u001b[0;32m--> 407\u001b[0;31m                 \u001b[0;32mfor\u001b[0m \u001b[0mseg\u001b[0m \u001b[0;32min\u001b[0m \u001b[0mself\u001b[0m\u001b[0;34m.\u001b[0m\u001b[0m_plot_args\u001b[0m\u001b[0;34m(\u001b[0m\u001b[0mremaining\u001b[0m\u001b[0;34m,\u001b[0m \u001b[0mkwargs\u001b[0m\u001b[0;34m)\u001b[0m\u001b[0;34m:\u001b[0m\u001b[0;34m\u001b[0m\u001b[0m\n\u001b[0m\u001b[1;32m    408\u001b[0m                     \u001b[0;32myield\u001b[0m \u001b[0mseg\u001b[0m\u001b[0;34m\u001b[0m\u001b[0m\n\u001b[1;32m    409\u001b[0m                 \u001b[0;32mreturn\u001b[0m\u001b[0;34m\u001b[0m\u001b[0m\n",
      "\u001b[0;32m/Users/steven/anaconda/lib/python3.6/site-packages/matplotlib/axes/_base.py\u001b[0m in \u001b[0;36m_plot_args\u001b[0;34m(self, tup, kwargs)\u001b[0m\n\u001b[1;32m    383\u001b[0m             \u001b[0mx\u001b[0m\u001b[0;34m,\u001b[0m \u001b[0my\u001b[0m \u001b[0;34m=\u001b[0m \u001b[0mindex_of\u001b[0m\u001b[0;34m(\u001b[0m\u001b[0mtup\u001b[0m\u001b[0;34m[\u001b[0m\u001b[0;34m-\u001b[0m\u001b[0;36m1\u001b[0m\u001b[0;34m]\u001b[0m\u001b[0;34m)\u001b[0m\u001b[0;34m\u001b[0m\u001b[0m\n\u001b[1;32m    384\u001b[0m \u001b[0;34m\u001b[0m\u001b[0m\n\u001b[0;32m--> 385\u001b[0;31m         \u001b[0mx\u001b[0m\u001b[0;34m,\u001b[0m \u001b[0my\u001b[0m \u001b[0;34m=\u001b[0m \u001b[0mself\u001b[0m\u001b[0;34m.\u001b[0m\u001b[0m_xy_from_xy\u001b[0m\u001b[0;34m(\u001b[0m\u001b[0mx\u001b[0m\u001b[0;34m,\u001b[0m \u001b[0my\u001b[0m\u001b[0;34m)\u001b[0m\u001b[0;34m\u001b[0m\u001b[0m\n\u001b[0m\u001b[1;32m    386\u001b[0m \u001b[0;34m\u001b[0m\u001b[0m\n\u001b[1;32m    387\u001b[0m         \u001b[0;32mif\u001b[0m \u001b[0mself\u001b[0m\u001b[0;34m.\u001b[0m\u001b[0mcommand\u001b[0m \u001b[0;34m==\u001b[0m \u001b[0;34m'plot'\u001b[0m\u001b[0;34m:\u001b[0m\u001b[0;34m\u001b[0m\u001b[0m\n",
      "\u001b[0;32m/Users/steven/anaconda/lib/python3.6/site-packages/matplotlib/axes/_base.py\u001b[0m in \u001b[0;36m_xy_from_xy\u001b[0;34m(self, x, y)\u001b[0m\n\u001b[1;32m    242\u001b[0m         \u001b[0;32mif\u001b[0m \u001b[0mx\u001b[0m\u001b[0;34m.\u001b[0m\u001b[0mshape\u001b[0m\u001b[0;34m[\u001b[0m\u001b[0;36m0\u001b[0m\u001b[0;34m]\u001b[0m \u001b[0;34m!=\u001b[0m \u001b[0my\u001b[0m\u001b[0;34m.\u001b[0m\u001b[0mshape\u001b[0m\u001b[0;34m[\u001b[0m\u001b[0;36m0\u001b[0m\u001b[0;34m]\u001b[0m\u001b[0;34m:\u001b[0m\u001b[0;34m\u001b[0m\u001b[0m\n\u001b[1;32m    243\u001b[0m             raise ValueError(\"x and y must have same first dimension, but \"\n\u001b[0;32m--> 244\u001b[0;31m                              \"have shapes {} and {}\".format(x.shape, y.shape))\n\u001b[0m\u001b[1;32m    245\u001b[0m         \u001b[0;32mif\u001b[0m \u001b[0mx\u001b[0m\u001b[0;34m.\u001b[0m\u001b[0mndim\u001b[0m \u001b[0;34m>\u001b[0m \u001b[0;36m2\u001b[0m \u001b[0;32mor\u001b[0m \u001b[0my\u001b[0m\u001b[0;34m.\u001b[0m\u001b[0mndim\u001b[0m \u001b[0;34m>\u001b[0m \u001b[0;36m2\u001b[0m\u001b[0;34m:\u001b[0m\u001b[0;34m\u001b[0m\u001b[0m\n\u001b[1;32m    246\u001b[0m             raise ValueError(\"x and y can be no greater than 2-D, but have \"\n",
      "\u001b[0;31mValueError\u001b[0m: x and y must have same first dimension, but have shapes (100,) and (500,)"
     ]
    },
    {
     "data": {
      "image/png": "[encoded data removed]",
      "text/plain": [
       "<matplotlib.figure.Figure at 0x1061d76d8>"
      ]
     },
     "metadata": {},
     "output_type": "display_data"
    }
   ],
   "source": [
    "Hatom1 = Atom(position=[.24,0,0], element='H')\n",
    "Hatom2 = Atom(position=[.75,0,0], element='H')\n",
    "\n",
    "atoms  = [Hatom1,Hatom2]\n",
    "#atoms = [Hatom1]\n",
    "eng = MD_engine(cell=[[5,0,0],[0,1,0],[0,0,1]],input_atoms=atoms,verbosity=0,model='AIMD',dx=.001)\n",
    "\n",
    "\n",
    "eng.run(.5,.001)\n"
   ]
  },
  {
   "cell_type": "code",
   "execution_count": 68,
   "metadata": {},
   "outputs": [
    {
     "data": {
      "text/plain": [
       "[<matplotlib.lines.Line2D at 0x105a746d8>]"
      ]
     },
     "execution_count": 68,
     "metadata": {},
     "output_type": "execute_result"
    },
    {
     "data": {
      "image/png": "[encoded data removed]",
      "text/plain": [
       "<matplotlib.figure.Figure at 0x10456fa58>"
      ]
     },
     "metadata": {},
     "output_type": "display_data"
    }
   ],
   "source": [
    "\n",
    "#print([x for x in eng.trajs[0]])\n",
    "plt.plot(np.linspace(.1,.001,500),[x[0] for x in eng.trajs[0]])\n",
    "plt.plot(np.linspace(.1,.001,500),[x[0] for x in eng.trajs[1]])"
   ]
  },
  {
   "cell_type": "code",
   "execution_count": null,
   "metadata": {},
   "outputs": [],
   "source": []
  }
 ],
 "metadata": {
  "kernelspec": {
   "display_name": "Python 3",
   "language": "python",
   "name": "python3"
  },
  "language_info": {
   "codemirror_mode": {
    "name": "ipython",
    "version": 3
   },
   "file_extension": ".py",
   "mimetype": "text/x-python",
   "name": "python",
   "nbconvert_exporter": "python",
   "pygments_lexer": "ipython3",
   "version": "3.6.1"
  }
 },
 "nbformat": 4,
 "nbformat_minor": 2
}
