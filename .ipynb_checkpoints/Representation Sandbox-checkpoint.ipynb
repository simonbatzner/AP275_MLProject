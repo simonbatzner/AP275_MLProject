{
 "cells": [
  {
   "cell_type": "markdown",
   "metadata": {},
   "source": [
    "# So we know what we're looking at, below is the definiton of the Atom class that I'll be using"
   ]
  },
  {
   "cell_type": "code",
   "execution_count": null,
   "metadata": {
    "collapsed": true
   },
   "outputs": [],
   "source": [
    "class Atom():\n",
    "    \n",
    "    def __init__(self,position=[0.,0.,0.], velocity=[0.,0.,0.],force=[0.,0.,0.],initial_pos=[0,0,0],mass=1.0,\n",
    "                element='',constraint=[False,False,False]):\n",
    "\n",
    "        self.position = np.array(position)\n",
    "        self.prev_pos = np.array(self.position)\n",
    "        self.velocity = np.array(velocity)\n",
    "        self.force   = np.array(force)\n",
    "        self.mass     = mass\n",
    "        self.element  = element\n",
    "        \n",
    "        self.constraint = constraint\n",
    "        \n",
    "        self.fingerprint = rand.rand()  # This is how I tell atoms apart. Easier than indexing them manually...\n",
    "                                        \n",
    "\n",
    "\n",
    "        #############\n",
    "        ## Used for testing with a simple harmonic oscillator potential\n",
    "        ## in which the force is merely the displacement squared from initial position\n",
    "        ############\n",
    "        self.initial_pos = np.array(initial_pos)\n",
    "        \n",
    "        self.parameters={'position': self.position,\n",
    "                         'velocity': self.velocity,\n",
    "                         'force'  : self.force,\n",
    "                         'mass'    : self.mass,\n",
    "                         'element' : self.element,\n",
    "                         'constraint' :self.constraint,\n",
    "                         'initial_pos':self.initial_pos}\n",
    "        \n",
    "\n",
    "    \n",
    "    def __str__(self):\n",
    "        return str(self.parameters)\n",
    "    \n",
    "    def get_position(self):\n",
    "        return self.position\n",
    "    def get_velocity(self):\n",
    "        return self.velocity\n",
    "    def get_force(self):\n",
    "        return self.force\n",
    "\n",
    "    def apply_constraint(self):\n",
    "        for n in range(3):\n",
    "            if self.constraint[n]:\n",
    "                self.velocity[n] = 0.\n",
    "                self.force[n]   = 0.\n",
    "                \n",
    "                    "
   ]
  },
  {
   "cell_type": "code",
   "execution_count": 4,
   "metadata": {},
   "outputs": [
    {
     "ename": "SyntaxError",
     "evalue": "invalid syntax (<ipython-input-4-e695fff61c97>, line 36)",
     "output_type": "error",
     "traceback": [
      "\u001b[0;36m  File \u001b[0;32m\"<ipython-input-4-e695fff61c97>\"\u001b[0;36m, line \u001b[0;32m36\u001b[0m\n\u001b[0;31m    return (1 + lamb * np.cos(theta))**zeta          * np.exp( - eta(rAB**2 + rAC**2 + rCB**2)) *         * cutoff_func(atom1,atom2) * cutoff_func(atom1,atom3)         * cutoff_func(atom2,atom3)\u001b[0m\n\u001b[0m                                                                                                          ^\u001b[0m\n\u001b[0;31mSyntaxError\u001b[0m\u001b[0;31m:\u001b[0m invalid syntax\n"
     ]
    }
   ],
   "source": [
    "import numpy as np\n",
    "import numpy.linalg as la\n",
    "\n",
    "def cutoff_fc(atom1,atom2,cutoff):\n",
    "    disp = la.norm(atom1.position-atom2.position)\n",
    "    if disp>cutoff:\n",
    "        return 0.\n",
    "    else:\n",
    "        return .5 * (np.cos(np.pi*disp/cutoff)+1)\n",
    "    \n",
    "\n",
    "def angular_func(atomA,atomB,atomC,lamb,eta,zeta):\n",
    "    \n",
    "    # Picture this:\n",
    "    #           B\n",
    "    #         //\\\n",
    "    #         / \n",
    "    #        /\n",
    "    #       A ------------>C      \n",
    "    #          \n",
    "    ####\n",
    "    #dispij is vector displacement FROM i TO j\n",
    "    \n",
    "    dispAB = atomB.position - atomA.position\n",
    "    dispAC = atomC.position - atomA.position\n",
    "    dispBC = atomC.position - atomB.position\n",
    "    \n",
    "    \n",
    "    # rij is scalar distance r from i to j\n",
    "    rAB = la.norm(atomB.position - atomA.position)\n",
    "    rAC = la.norm(atomC.position - atomA.position)\n",
    "    rCB = la.norm(atomC.position - atomB.position)\n",
    "    \n",
    "    theta = math.acos(np.dot(dispAB,dispAC))/ (la.norm(dispAB)*la.norm(dispAC))**2\n",
    "    \n",
    "    return (1 + lamb * np.cos(theta))**zeta  \\\n",
    "        * np.exp( - eta*(rAB**2 + rAC**2 + rCB**2)) * \\\n",
    "        * cutoff_fc(atom1,atom2) * cutoff_fc(atom1,atom3) \\\n",
    "        * cutoff_fc(atom2,atom3)\n",
    "\n",
    "    \n",
    "def ACSF_fingerprint(atoms):\n",
    "    \n",
    "    \n",
    "        \n",
    "        "
   ]
  },
  {
   "cell_type": "code",
   "execution_count": null,
   "metadata": {
    "collapsed": true
   },
   "outputs": [],
   "source": []
  }
 ],
 "metadata": {
  "kernelspec": {
   "display_name": "Python 3",
   "language": "python",
   "name": "python3"
  },
  "language_info": {
   "codemirror_mode": {
    "name": "ipython",
    "version": 3
   },
   "file_extension": ".py",
   "mimetype": "text/x-python",
   "name": "python",
   "nbconvert_exporter": "python",
   "pygments_lexer": "ipython3",
   "version": "3.6.3"
  }
 },
 "nbformat": 4,
 "nbformat_minor": 2
}
