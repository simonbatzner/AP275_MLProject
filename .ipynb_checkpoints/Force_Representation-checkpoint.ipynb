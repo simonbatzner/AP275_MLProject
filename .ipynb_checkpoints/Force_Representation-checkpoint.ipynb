{
 "cells": [
  {
   "cell_type": "markdown",
   "metadata": {},
   "source": [
    "Jon V"
   ]
  },
  {
   "cell_type": "code",
   "execution_count": 105,
   "metadata": {
    "collapsed": true
   },
   "outputs": [],
   "source": [
    "from objects import *\n",
    "import numpy as np\n",
    "import matplotlib.pyplot as plt\n",
    "import copy"
   ]
  },
  {
   "cell_type": "markdown",
   "metadata": {},
   "source": [
    "### Define MD parser. (Code written by Steven T.)"
   ]
  },
  {
   "cell_type": "code",
   "execution_count": 2,
   "metadata": {
    "collapsed": true
   },
   "outputs": [],
   "source": [
    "def parse_qe_pwscf_md_output(outfile):\n",
    "#def parse_qe_pwscf_md_output(path):\n",
    "\n",
    "    steps={}\n",
    "\n",
    "    # Get the lines out of the file first\n",
    "    with open(outfile, 'r') as outf:\n",
    "        lines = outf.readlines()\n",
    "\n",
    "    # Because every step is marked by a total energy printing with the !\n",
    "    # as the first character of the line, partition the file of output\n",
    "    # into all different chunks of run data\n",
    "\n",
    "    # Get the indexes to carve up the document later\n",
    "    split_indexes=[N for N in range(len(lines)) if '!'==lines[N][0]]\n",
    "\n",
    "    # Cut out the first chunk \n",
    "    # TODO: Analyze first chunk\n",
    "    first_chunk=lines[0:split_indexes[0]]\n",
    "\n",
    "    step_chunks = []\n",
    "    # Carve up into chunks\n",
    "    for n in range(len(split_indexes)):\n",
    "        step_chunks.append(lines[split_indexes[n]:split_indexes[n+1] if n!=len(split_indexes)-1 else len(lines)]) \n",
    "\n",
    "\n",
    "\n",
    "    # Iterate through chunks\n",
    "    for current_chunk in step_chunks:\n",
    "\n",
    "\n",
    "        # Iterate through to find the bounds of regions of interest\n",
    "\n",
    "        # Forces\n",
    "        force_start_line = [line for line in current_chunk if 'Forces acting on atoms' in line][0]\n",
    "        force_end_line   = [line for line in current_chunk if 'Total force' in line][0]\n",
    "        force_start_index = current_chunk.index(force_start_line)+2\n",
    "        force_end_index = current_chunk.index(force_end_line)-2\n",
    "\n",
    "        # Positions\n",
    "        atoms_start_line = [line for line in current_chunk if 'ATOMIC_POSITIONS' in line][0]\n",
    "        atoms_end_line   = [line for line in current_chunk if 'kinetic energy' in line][0]\n",
    "        atoms_start_index = current_chunk.index(atoms_start_line)+1\n",
    "        atoms_end_index = current_chunk.index(atoms_end_line)-3\n",
    "\n",
    "        # Misc Facts\n",
    "        temperature_line = [ line for line in current_chunk if 'temperature' in line][0]\n",
    "        dyn_line = [line for line in current_chunk if 'Entering Dynamics' in line][0]\n",
    "        dyn_index = current_chunk.index(dyn_line)\n",
    "        time_index = dyn_index+1\n",
    "\n",
    "        # Parse through said regions of interest to get the information out\n",
    "\n",
    "        forces = []\n",
    "        for line in current_chunk[force_start_index:force_end_index+1]:\n",
    "            forceline= line.split('=')[-1].split()\n",
    "            forces.append([float(forceline[0]),float(forceline[1]),float(forceline[2])])\n",
    "        total_force = float(force_end_line.split('=')[1].strip().split()[0])\n",
    "        SCF_corr    = float(force_end_line.split('=')[2].strip()[0])\n",
    "\n",
    "\n",
    "        positions =[]\n",
    "        elements=[]\n",
    "        for line in current_chunk[atoms_start_index:atoms_end_index+1]:\n",
    "            atomline = line.split()\n",
    "            elements.append(atomline[0])\n",
    "            positions.append([float(atomline[1]),float(atomline[2]),float(atomline[3])])\n",
    "\n",
    "        # Get Misc info \n",
    "        toten = float(current_chunk[0].split('=')[-1].strip().split()[0])\n",
    "        temperature_line = temperature_line.split('=')[-1]\n",
    "        temperature = float(temperature_line.split()[0])\n",
    "        iteration = int(dyn_line.split('=')[-1])\n",
    "        timeline = current_chunk[time_index].split('=')[-1].strip().split()[0]\n",
    "        time = float( timeline)\n",
    "        Ekin = float(atoms_end_line.split('=')[1].strip().split()[0])\n",
    "\n",
    "\n",
    "        # Record the data associated with this step\n",
    "        steps[iteration]={'iteration':iteration,\n",
    "                           'forces':forces, \n",
    "                           'positions':positions,\n",
    "                           'elements':elements,\n",
    "                           'temperature':temperature,\n",
    "                           'time':time,\n",
    "                           'energy':toten,\n",
    "                           'ekin':Ekin,\n",
    "                           'kinetic energy':Ekin,\n",
    "                           'total energy':toten,\n",
    "                           'total force':total_force,\n",
    "                           'SCF correction':SCF_corr}\n",
    "\n",
    "    return(steps)"
   ]
  },
  {
   "cell_type": "markdown",
   "metadata": {},
   "source": [
    "### Parse Si MD file."
   ]
  },
  {
   "cell_type": "code",
   "execution_count": 3,
   "metadata": {
    "collapsed": true
   },
   "outputs": [],
   "source": [
    "outfile ='/Users/jonpvandermause/Research/GP/ML-electron-density/Si_Supercell_MD/si.md.out'\n",
    "Si_MD_Parsed = parse_qe_pwscf_md_output(outfile)"
   ]
  },
  {
   "cell_type": "markdown",
   "metadata": {},
   "source": [
    "### Calculate distances efficiently."
   ]
  },
  {
   "cell_type": "code",
   "execution_count": 4,
   "metadata": {
    "collapsed": true
   },
   "outputs": [],
   "source": [
    "# get bravais matrix inverse\n",
    "alat = 5.431\n",
    "brav_mat = np.array([[0.0, alat/2, alat/2], [alat/2, 0.0, alat/2], [alat/2, alat/2, 0.0]])*3\n",
    "brav_inv = np.linalg.inv(brav_mat)\n",
    "\n",
    "# get bravais vectors\n",
    "vec1 = brav_mat[:,0]\n",
    "vec2 = brav_mat[:,1]\n",
    "vec3 = brav_mat[:,2]"
   ]
  },
  {
   "cell_type": "code",
   "execution_count": 5,
   "metadata": {
    "collapsed": true
   },
   "outputs": [],
   "source": [
    "def get_cutoff_vecs(vec, brav_mat, brav_inv, vec1, vec2, vec3, cutoff):\n",
    "    # get bravais coefficients\n",
    "    coeff = np.matmul(brav_inv, vec)\n",
    "    \n",
    "    # get bravais coefficients for atoms within one super-super-cell\n",
    "    coeffs = [[],[],[]]\n",
    "    for n in range(3):\n",
    "        coeffs[n].append(coeff[n])\n",
    "\n",
    "        if coeff[n] > 0:\n",
    "            coeffs[n].append(coeff[n]-1)\n",
    "\n",
    "        elif coeff[n] < 0:\n",
    "            coeffs[n].append(coeff[n]+1)\n",
    "\n",
    "    # get vectors within cutoff\n",
    "    vecs = []\n",
    "    dists = []\n",
    "    for m in range(len(coeffs[0])):\n",
    "        for n in range(len(coeffs[1])):\n",
    "            for p in range(len(coeffs[2])):\n",
    "                vec_curr = coeffs[0][m]*vec1 + coeffs[1][n]*vec2 + coeffs[2][p]*vec3\n",
    "                \n",
    "                dist = np.linalg.norm(vec_curr)\n",
    "\n",
    "                if dist < cutoff:\n",
    "                    vecs.append(vec_curr)\n",
    "                    dists.append(dist)\n",
    "                    \n",
    "    return vecs, dists"
   ]
  },
  {
   "cell_type": "markdown",
   "metadata": {},
   "source": [
    "### Create force representation from Botu (2015)."
   ]
  },
  {
   "cell_type": "code",
   "execution_count": 141,
   "metadata": {
    "collapsed": true
   },
   "outputs": [],
   "source": [
    "# given a supercell and an atom number, return symmetry vectors\n",
    "def symmetrize_forces(pos, atom, cutoff=8, eta_lower=-1, eta_upper=2, eta_length=8):\n",
    "\n",
    "    # set atom position\n",
    "    pos_atom = np.array(pos[atom])\n",
    "    etas = np.logspace(eta_lower, eta_upper, eta_length)\n",
    "\n",
    "    # initialize symmetry vectors\n",
    "    symm_x = np.zeros([len(etas)])\n",
    "    symm_y = np.zeros([len(etas)])\n",
    "    symm_z = np.zeros([len(etas)])\n",
    "\n",
    "    # loop through positions\n",
    "    atom_count = 0\n",
    "    for n in range(len(pos)):\n",
    "        if n != atom:\n",
    "            # position relative to reference atom\n",
    "            diff_curr = np.array(pos[n]) - pos_atom\n",
    "\n",
    "            # get images within cutoff\n",
    "            vecs, dists = get_cutoff_vecs(diff_curr, brav_mat, brav_inv, vec1, vec2, vec3, cutoff)\n",
    "            \n",
    "            # count the number of atoms in the environment\n",
    "            atom_count +=len(vecs)\n",
    "\n",
    "            # symmetrize according to Botu (2015)\n",
    "            for vec, dist in zip(vecs, dists):\n",
    "                cut_val = 0.5 * (np.cos(np.pi * dist / cutoff) + 1)\n",
    "\n",
    "                # get symmetry vectors\n",
    "                symm_x += [(vec[0] / dist) * \\\n",
    "                                    np.exp(-(dist / eta)**2) * cut_val for eta in etas]\n",
    "\n",
    "                symm_y += [(vec[1] / dist) * \\\n",
    "                        np.exp(-(dist / eta)**2) * cut_val for eta in etas]\n",
    "\n",
    "                symm_z += [(vec[2] / dist) * \\\n",
    "                    np.exp(-(dist / eta)**2) * cut_val for eta in etas]\n",
    "                \n",
    "    return symm_x, symm_y, symm_z"
   ]
  },
  {
   "cell_type": "code",
   "execution_count": 142,
   "metadata": {
    "collapsed": true
   },
   "outputs": [],
   "source": [
    "# for a given supercell, calculate symmetry vectors for each atom\n",
    "def get_symmetry_dictionary(pos, forces, training_dictionary, cutoff=8, eta_lower=-0.9, eta_upper=2, eta_length=8):\n",
    "    for n in range(len(pos)):\n",
    "        # get symmetry vectors\n",
    "        symm_x, symm_y, symm_z = symmetrize_forces(pos, n, cutoff, eta_lower, eta_upper, eta_length)\n",
    "        \n",
    "        # append symmetry vectors\n",
    "        training_dictionary['symms'].append(symm_x)\n",
    "        training_dictionary['symms'].append(symm_y)\n",
    "        training_dictionary['symms'].append(symm_z)\n",
    "        \n",
    "        # append force components\n",
    "        training_dictionary['forces'].append(forces[n][0])\n",
    "        training_dictionary['forces'].append(forces[n][1])\n",
    "        training_dictionary['forces'].append(forces[n][2])"
   ]
  },
  {
   "cell_type": "code",
   "execution_count": 143,
   "metadata": {},
   "outputs": [],
   "source": [
    "# normalize the symmetry vectors and forces\n",
    "def normalize_symm(td):\n",
    "    symm_len = len(td['symms'][0])\n",
    "    td_size = len(td['symms'])\n",
    "\n",
    "    # initialize normalized symmetry vector\n",
    "    td['symm_norm'] = copy.deepcopy(td['symms'])\n",
    "\n",
    "    for m in range(symm_len):  \n",
    "        # calculate standard deviation of current symmetry element\n",
    "        vec = np.array([td['symms'][n][m] for n in range(td_size)])\n",
    "        vec_std = np.std(vec)\n",
    "\n",
    "        # normalize the current element\n",
    "        for n in range(td_size):\n",
    "            td['symm_norm'][n][m] = td['symm_norm'][n][m] / vec_std"
   ]
  },
  {
   "cell_type": "markdown",
   "metadata": {},
   "source": [
    "### Create force model from ab initio Si run."
   ]
  },
  {
   "cell_type": "code",
   "execution_count": 144,
   "metadata": {},
   "outputs": [],
   "source": [
    "# get training indices\n",
    "db_size = 1000\n",
    "train_pts = round(db_size / 10) # ten percent\n",
    "train_indices = [int(round(n)) for n in np.linspace(1,db_size,train_pts)]"
   ]
  },
  {
   "cell_type": "code",
   "execution_count": 145,
   "metadata": {},
   "outputs": [],
   "source": [
    "# initialize training dictionary, where positions, symmetry vectors, and forces are stored\n",
    "td = {'symms':[], 'forces':[]}\n",
    "\n",
    "# loop through training points (this takes awhile)\n",
    "for n in range(train_pts):\n",
    "    # get current positions and forces\n",
    "    pos = Si_MD_Parsed[train_indices[n]]['positions']\n",
    "    forces = Si_MD_Parsed[train_indices[n]]['forces']\n",
    "    \n",
    "    # symmetrize and update the training set\n",
    "    get_symmetry_dictionary(pos, forces, td)"
   ]
  },
  {
   "cell_type": "code",
   "execution_count": 146,
   "metadata": {},
   "outputs": [],
   "source": [
    "# normalize the symmetry vectors\n",
    "normalize_symm(td)"
   ]
  },
  {
   "cell_type": "code",
   "execution_count": 148,
   "metadata": {},
   "outputs": [
    {
     "data": {
      "image/png": "[encoded data removed]",
      "text/plain": [
       "<matplotlib.figure.Figure at 0x10f5ad128>"
      ]
     },
     "metadata": {},
     "output_type": "display_data"
    }
   ],
   "source": [
    "# plot a histogram of the normalized components\n",
    "m = 0\n",
    "vec = np.array([td['symm_norm'][n][m] for n in range(td_size)])\n",
    "\n",
    "plt.hist(vec)\n",
    "plt.show()"
   ]
  },
  {
   "cell_type": "markdown",
   "metadata": {},
   "source": [
    "### Plot symmetry vectors."
   ]
  },
  {
   "cell_type": "code",
   "execution_count": 182,
   "metadata": {},
   "outputs": [
    {
     "data": {
      "image/png": "[encoded data removed]",
      "text/plain": [
       "<matplotlib.figure.Figure at 0x10fc35780>"
      ]
     },
     "metadata": {},
     "output_type": "display_data"
    },
    {
     "name": "stdout",
     "output_type": "stream",
     "text": [
      "the normalized symmetry vector is [-3.68667163e-08 -9.27912160e-01 -1.87145632e+00 -2.72385265e+00\n",
      " -2.24891381e+00 -1.62688706e+00 -1.51188856e+00 -1.49443339e+00]\n",
      "the force component is 0.02473962\n"
     ]
    }
   ],
   "source": [
    "# define eta grid\n",
    "eta_lower = -1\n",
    "eta_upper = 2\n",
    "eta_length = 8\n",
    "etas = np.logspace(eta_lower, eta_upper, eta_length)\n",
    "\n",
    "# choose training point to examine\n",
    "pt = 700\n",
    "\n",
    "# set symmetry vector\n",
    "symm = td['symm_norm'][pt]\n",
    "xs = np.arange(0,len(etas),1)\n",
    "plt.bar(xs,symm)\n",
    "plt.show()\n",
    "\n",
    "# print the force component corresponding to this symmetry vector\n",
    "print('the normalized symmetry vector is '+str(td['symm_norm'][pt]))\n",
    "print('the force component is '+str(td['forces'][pt]))"
   ]
  },
  {
   "cell_type": "code",
   "execution_count": null,
   "metadata": {
    "collapsed": true
   },
   "outputs": [],
   "source": []
  }
 ],
 "metadata": {
  "kernelspec": {
   "display_name": "Python 3",
   "language": "python",
   "name": "python3"
  },
  "language_info": {
   "codemirror_mode": {
    "name": "ipython",
    "version": 3
   },
   "file_extension": ".py",
   "mimetype": "text/x-python",
   "name": "python",
   "nbconvert_exporter": "python",
   "pygments_lexer": "ipython3",
   "version": "3.6.3"
  }
 },
 "nbformat": 4,
 "nbformat_minor": 2
}
