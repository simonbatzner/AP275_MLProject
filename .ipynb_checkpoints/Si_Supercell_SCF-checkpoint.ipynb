{
 "cells": [
  {
   "cell_type": "markdown",
   "metadata": {},
   "source": [
    "Jon V"
   ]
  },
  {
   "cell_type": "markdown",
   "metadata": {},
   "source": [
    "5/31/18"
   ]
  },
  {
   "cell_type": "markdown",
   "metadata": {},
   "source": [
    "### Make Si supercell."
   ]
  },
  {
   "cell_type": "code",
   "execution_count": 24,
   "metadata": {
    "collapsed": true
   },
   "outputs": [],
   "source": [
    "from ase.spacegroup import crystal\n",
    "from ase.build import *\n",
    "import numpy as np\n",
    "import matplotlib.pyplot as plt\n",
    "from labutil.src.plugins.lammps import *"
   ]
  },
  {
   "cell_type": "code",
   "execution_count": 105,
   "metadata": {},
   "outputs": [],
   "source": [
    "# create silicon supercell\n",
    "def make_struc_super(alat, dim):\n",
    "    unitcell = crystal('Si', [(0, 0, 0)], spacegroup=227, \\\n",
    "                       cellpar=[alat, alat, alat, 90, 90, 90], \\\n",
    "                      primitive_cell = True)\n",
    "    multiplier = numpy.identity(3) * dim\n",
    "    ase_supercell = make_supercell(unitcell, multiplier)\n",
    "    structure = Struc(ase2struc(ase_supercell))\n",
    "    return structure\n",
    "\n",
    "# get supercell positions\n",
    "def get_position_txt(alat, dim):\n",
    "    struc = make_struc_super(alat, dim)\n",
    "    \n",
    "    # write atomic positions\n",
    "    postxt = ''\n",
    "    postxt += 'ATOMIC_POSITIONS {angstrom}\\n'\n",
    "    for index, positions in enumerate(struc.content['positions']):\n",
    "        postxt += '  {} {:1.5f} {:1.5f} {:1.5f}'.format(positions[0], *positions[1])\n",
    "        postxt += '\\n'\n",
    "        \n",
    "    # Write cell parameters\n",
    "    celltxt = ''\n",
    "    celltxt += 'CELL_PARAMETERS {angstrom}\\n'\n",
    "    for vector in struc.content['cell']:\n",
    "        celltxt += ' {:1.5f} {:1.5f} {:1.5f}\\n'.format(*vector)\n",
    "    return postxt, celltxt"
   ]
  },
  {
   "cell_type": "markdown",
   "metadata": {},
   "source": [
    "### Define helper functions for running QE code."
   ]
  },
  {
   "cell_type": "code",
   "execution_count": 106,
   "metadata": {
    "collapsed": true
   },
   "outputs": [],
   "source": [
    "import numpy as np\n",
    "import matplotlib.pyplot as plt\n",
    "import os, subprocess, time\n",
    "\n",
    "# run a command in terminal\n",
    "def run_command(command):\n",
    "    myrun = subprocess.Popen(command, shell=True)\n",
    "    \n",
    "# write a file\n",
    "def write_file(fname, text):\n",
    "    with open(fname, 'w') as fin:\n",
    "        fin.write(text)\n",
    "\n",
    "# run QE code\n",
    "def run_code(input_text, outdir, in_name, out_name, ncpu, code_file):\n",
    "    # write input file\n",
    "    fname=os.path.join(outdir, in_name)\n",
    "    text=input_text\n",
    "    write_file(fname, text)\n",
    "\n",
    "    # name output file\n",
    "    outfile = os.path.join(outdir, out_name)\n",
    "\n",
    "    # run the code\n",
    "    pwscf_command = \"mpirun {} -i {} -npool {} > {}\".format(code_file, fname, ncpu, outfile)\n",
    "    run_command(pwscf_command)\n",
    "\n",
    "# runs QE code serially\n",
    "def run_code_serial(input_text, outdir, in_name, out_name, code_file):\n",
    "    # write input file\n",
    "    fname=os.path.join(outdir, in_name)\n",
    "    text=input_text\n",
    "    write_file(fname, text)\n",
    "\n",
    "    # name output file\n",
    "    outfile = os.path.join(outdir, out_name)\n",
    "\n",
    "    # run the code\n",
    "    pwscf_command = \"{} < {} > {}\".format(code_file, fname, outfile)\n",
    "    run_command(pwscf_command)"
   ]
  },
  {
   "cell_type": "markdown",
   "metadata": {},
   "source": [
    "### Helper function for scf input."
   ]
  },
  {
   "cell_type": "code",
   "execution_count": 110,
   "metadata": {
    "collapsed": true
   },
   "outputs": [],
   "source": [
    "# scf calculation\n",
    "def get_scf_text(pref, pseudo_dir, outdir, alat, nbnd, ecut, nk, dim, nat):\n",
    "    pos, cell = get_position_txt(alat, dim)\n",
    "    \n",
    "    scf_text = \"\"\"\n",
    " &control\n",
    "    prefix='{0}'\n",
    "    calculation='scf'\n",
    "    verbosity = 'high'\n",
    "    wf_collect = .true.\n",
    "    tstress = .true.\n",
    "    tprnfor = .true.\n",
    "    pseudo_dir = '{1}'\n",
    "    outdir = '{2}'\n",
    " /\n",
    " &system\n",
    "    ibrav= 2\n",
    "    nat= {9}\n",
    "    ntyp= 1\n",
    "    nbnd = {4}\n",
    "    ecutwfc ={5}\n",
    " /\n",
    " &electrons\n",
    "    electron_maxstep = 200\n",
    "    conv_thr =  1.0d-10\n",
    "    mixing_mode = 'plain'\n",
    "    mixing_beta = 0.7\n",
    "    mixing_ndim = 8\n",
    "    diagonalization = 'david'\n",
    "    diago_david_ndim = 4\n",
    "    diago_full_acc = .true.\n",
    " /\n",
    "ATOMIC_SPECIES\n",
    " Si  28.086  Si.pz-vbc.UPF\n",
    "{8}\n",
    "{7}\n",
    "K_POINTS automatic\n",
    " {6} {6} {6}  0 0 0\n",
    "    \"\"\".format(pref, pseudo_dir, outdir, alat, nbnd, ecut, nk, pos, cell, nat)\n",
    "    \n",
    "    return scf_text"
   ]
  },
  {
   "cell_type": "markdown",
   "metadata": {},
   "source": [
    "### Make scf file."
   ]
  },
  {
   "cell_type": "code",
   "execution_count": 112,
   "metadata": {},
   "outputs": [
    {
     "data": {
      "text/plain": [
       "\"\\n &control\\n    prefix='si'\\n    calculation='scf'\\n    verbosity = 'high'\\n    wf_collect = .true.\\n    tstress = .true.\\n    tprnfor = .true.\\n    pseudo_dir = '/n/home03/jonpvandermause/qe-6.2.1/pseudo'\\n    outdir = '/n/home03/jonpvandermause/Cluster/Si_ElPh'\\n /\\n &system\\n    ibrav= 2\\n    nat= 2\\n    ntyp= 1\\n    nbnd = 8\\n    ecutwfc =18.0\\n /\\n &electrons\\n    electron_maxstep = 200\\n    conv_thr =  1.0d-10\\n    mixing_mode = 'plain'\\n    mixing_beta = 0.7\\n    mixing_ndim = 8\\n    diagonalization = 'david'\\n    diago_david_ndim = 4\\n    diago_full_acc = .true.\\n /\\nATOMIC_SPECIES\\n Si  28.086  Si.pz-vbc.UPF\\nCELL_PARAMETERS {angstrom}\\n 0.00000 2.71550 2.71550\\n 2.71550 0.00000 2.71550\\n 2.71550 2.71550 0.00000\\n\\nATOMIC_POSITIONS {angstrom}\\n  Si 0.00000 0.00000 0.00000\\n  Si 1.35775 1.35775 1.35775\\n\\nK_POINTS automatic\\n 8 8 8  0 0 0\\n    \""
      ]
     },
     "execution_count": 112,
     "metadata": {},
     "output_type": "execute_result"
    }
   ],
   "source": [
    "# specify locations of QE codes\n",
    "code_loc = '/n/home03/jonpvandermause/qe-6.1/bin/'\n",
    "scf_code = code_loc+'pw.x'\n",
    "ph_code = code_loc+'ph.x'\n",
    "\n",
    "# define pseudopotential and output directories\n",
    "pseudo_dir = '/n/home03/jonpvandermause/qe-6.2.1/pseudo'\n",
    "outdir='/n/home03/jonpvandermause/Cluster/Si_ElPh'\n",
    "\n",
    "# define scf parameters\n",
    "pref = 'si'\n",
    "alat = 5.431 # lattice parameter in angstrom\n",
    "ecut = 18.0 # plane wave cutoff energy\n",
    "nk = 8 # size of kpoint grid\n",
    "nk_dense = 48\n",
    "nq = 4 # size of q point grid\n",
    "ncpu = 10 # number of cores\n",
    "nbnd = 8 # number of bands\n",
    "dim = 1\n",
    "nat = 2 * dim**3\n",
    "\n",
    "get_scf_text(pref, pseudo_dir, outdir, alat, nbnd, ecut, nk, dim, nat)"
   ]
  }
 ],
 "metadata": {
  "kernelspec": {
   "display_name": "Python 3",
   "language": "python",
   "name": "python3"
  },
  "language_info": {
   "codemirror_mode": {
    "name": "ipython",
    "version": 3
   },
   "file_extension": ".py",
   "mimetype": "text/x-python",
   "name": "python",
   "nbconvert_exporter": "python",
   "pygments_lexer": "ipython3",
   "version": "3.6.3"
  }
 },
 "nbformat": 4,
 "nbformat_minor": 2
}
